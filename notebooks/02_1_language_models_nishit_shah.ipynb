{
  "nbformat": 4,
  "nbformat_minor": 0,
  "metadata": {
    "colab": {
      "name": "02.1_language_models-nishit_shah.ipynb",
      "provenance": [],
      "collapsed_sections": [],
      "machine_shape": "hm"
    },
    "kernelspec": {
      "name": "python3",
      "display_name": "Python 3"
    },
    "widgets": {
      "application/vnd.jupyter.widget-state+json": {
        "bc6427e53c0748059e2b5bcf774a9ded": {
          "model_module": "@jupyter-widgets/controls",
          "model_name": "VBoxModel",
          "state": {
            "_view_name": "VBoxView",
            "_dom_classes": [],
            "_model_name": "VBoxModel",
            "_view_module": "@jupyter-widgets/controls",
            "_model_module_version": "1.5.0",
            "_view_count": null,
            "_view_module_version": "1.5.0",
            "box_style": "",
            "layout": "IPY_MODEL_814fc30eb9db4e18b95fba14c6f2474e",
            "_model_module": "@jupyter-widgets/controls",
            "children": [
              "IPY_MODEL_9642677f71fb4523b3473ce15e11de92",
              "IPY_MODEL_29b2a03d69c940f0943404ee651c2516",
              "IPY_MODEL_e3ab02bbf9d0495eb3fe4a35c7ca66d3",
              "IPY_MODEL_1da8b607ab964bc99bee907113c3bf1b"
            ]
          }
        },
        "814fc30eb9db4e18b95fba14c6f2474e": {
          "model_module": "@jupyter-widgets/base",
          "model_name": "LayoutModel",
          "state": {
            "_view_name": "LayoutView",
            "grid_template_rows": null,
            "right": null,
            "justify_content": null,
            "_view_module": "@jupyter-widgets/base",
            "overflow": null,
            "_model_module_version": "1.2.0",
            "_view_count": null,
            "flex_flow": null,
            "width": null,
            "min_width": null,
            "border": null,
            "align_items": null,
            "bottom": null,
            "_model_module": "@jupyter-widgets/base",
            "top": null,
            "grid_column": null,
            "overflow_y": null,
            "overflow_x": null,
            "grid_auto_flow": null,
            "grid_area": null,
            "grid_template_columns": null,
            "flex": null,
            "_model_name": "LayoutModel",
            "justify_items": null,
            "grid_row": null,
            "max_height": null,
            "align_content": null,
            "visibility": null,
            "align_self": null,
            "height": null,
            "min_height": null,
            "padding": null,
            "grid_auto_rows": null,
            "grid_gap": null,
            "max_width": null,
            "order": null,
            "_view_module_version": "1.2.0",
            "grid_template_areas": null,
            "object_position": null,
            "object_fit": null,
            "grid_auto_columns": null,
            "margin": null,
            "display": null,
            "left": null
          }
        },
        "9642677f71fb4523b3473ce15e11de92": {
          "model_module": "@jupyter-widgets/output",
          "model_name": "OutputModel",
          "state": {
            "_view_name": "OutputView",
            "msg_id": "",
            "_dom_classes": [],
            "_model_name": "OutputModel",
            "outputs": [
              {
                "output_type": "display_data",
                "metadata": {
                  "tags": []
                },
                "application/vnd.jupyter.widget-view+json": {
                  "model_id": "fe2f09af7a3c4c03946eb79c2bcc2945",
                  "version_minor": 0,
                  "version_major": 2
                },
                "text/plain": "HTML(value='Given Pr(AB) = 0.2, Pr(A) = 0.4, Pr(B) = 0.8, find Pr(A|B) and Pr(B|A).')"
              }
            ],
            "_view_module": "@jupyter-widgets/output",
            "_model_module_version": "1.0.0",
            "_view_count": null,
            "_view_module_version": "1.0.0",
            "layout": "IPY_MODEL_f9df365852504feca9d91197a73447cf",
            "_model_module": "@jupyter-widgets/output"
          }
        },
        "29b2a03d69c940f0943404ee651c2516": {
          "model_module": "@jupyter-widgets/controls",
          "model_name": "RadioButtonsModel",
          "state": {
            "_options_labels": [
              "Pr(A|B) = 0.2, Pr(B|A) = 0.2",
              "Pr(A|B) = 0.5, Pr(B|A) = 0.25",
              "Pr(A|B) = 0.25, Pr(B|A) = 0.5"
            ],
            "_view_name": "RadioButtonsView",
            "style": "IPY_MODEL_dfe7eb9ddd9649aaa567eba613a4d565",
            "_dom_classes": [],
            "description": "",
            "_model_name": "RadioButtonsModel",
            "index": 0,
            "_view_module": "@jupyter-widgets/controls",
            "_model_module_version": "1.5.0",
            "_view_count": null,
            "disabled": false,
            "_view_module_version": "1.5.0",
            "description_tooltip": null,
            "_model_module": "@jupyter-widgets/controls",
            "layout": "IPY_MODEL_c97c111e454c4a6aa7f2293f10f019c1"
          }
        },
        "e3ab02bbf9d0495eb3fe4a35c7ca66d3": {
          "model_module": "@jupyter-widgets/controls",
          "model_name": "HTMLModel",
          "state": {
            "_view_name": "HTMLView",
            "style": "IPY_MODEL_8d04e8cf634d43ac90f48360391e75f0",
            "_dom_classes": [],
            "description": "",
            "_model_name": "HTMLModel",
            "placeholder": "​",
            "_view_module": "@jupyter-widgets/controls",
            "_model_module_version": "1.5.0",
            "value": "<br>",
            "_view_count": null,
            "_view_module_version": "1.5.0",
            "description_tooltip": null,
            "_model_module": "@jupyter-widgets/controls",
            "layout": "IPY_MODEL_ea11ebdb658849fdaf3a99491aee8034"
          }
        },
        "1da8b607ab964bc99bee907113c3bf1b": {
          "model_module": "@jupyter-widgets/controls",
          "model_name": "ButtonModel",
          "state": {
            "_view_name": "ButtonView",
            "style": "IPY_MODEL_628d4afa481d4ac3ba0934bbd69c9712",
            "_dom_classes": [],
            "description": "Check",
            "_model_name": "ButtonModel",
            "button_style": "",
            "_view_module": "@jupyter-widgets/controls",
            "_model_module_version": "1.5.0",
            "tooltip": "",
            "_view_count": null,
            "disabled": false,
            "_view_module_version": "1.5.0",
            "layout": "IPY_MODEL_89453d59b61c4f8faeb4d10e605bbad3",
            "_model_module": "@jupyter-widgets/controls",
            "icon": ""
          }
        },
        "dfe7eb9ddd9649aaa567eba613a4d565": {
          "model_module": "@jupyter-widgets/controls",
          "model_name": "DescriptionStyleModel",
          "state": {
            "_view_name": "StyleView",
            "_model_name": "DescriptionStyleModel",
            "description_width": "",
            "_view_module": "@jupyter-widgets/base",
            "_model_module_version": "1.5.0",
            "_view_count": null,
            "_view_module_version": "1.2.0",
            "_model_module": "@jupyter-widgets/controls"
          }
        },
        "c97c111e454c4a6aa7f2293f10f019c1": {
          "model_module": "@jupyter-widgets/base",
          "model_name": "LayoutModel",
          "state": {
            "_view_name": "LayoutView",
            "grid_template_rows": null,
            "right": null,
            "justify_content": null,
            "_view_module": "@jupyter-widgets/base",
            "overflow": null,
            "_model_module_version": "1.2.0",
            "_view_count": null,
            "flex_flow": null,
            "width": null,
            "min_width": null,
            "border": null,
            "align_items": null,
            "bottom": null,
            "_model_module": "@jupyter-widgets/base",
            "top": null,
            "grid_column": null,
            "overflow_y": null,
            "overflow_x": null,
            "grid_auto_flow": null,
            "grid_area": null,
            "grid_template_columns": null,
            "flex": null,
            "_model_name": "LayoutModel",
            "justify_items": null,
            "grid_row": null,
            "max_height": null,
            "align_content": null,
            "visibility": null,
            "align_self": null,
            "height": null,
            "min_height": null,
            "padding": null,
            "grid_auto_rows": null,
            "grid_gap": null,
            "max_width": null,
            "order": null,
            "_view_module_version": "1.2.0",
            "grid_template_areas": null,
            "object_position": null,
            "object_fit": null,
            "grid_auto_columns": null,
            "margin": null,
            "display": null,
            "left": null
          }
        },
        "8d04e8cf634d43ac90f48360391e75f0": {
          "model_module": "@jupyter-widgets/controls",
          "model_name": "DescriptionStyleModel",
          "state": {
            "_view_name": "StyleView",
            "_model_name": "DescriptionStyleModel",
            "description_width": "",
            "_view_module": "@jupyter-widgets/base",
            "_model_module_version": "1.5.0",
            "_view_count": null,
            "_view_module_version": "1.2.0",
            "_model_module": "@jupyter-widgets/controls"
          }
        },
        "ea11ebdb658849fdaf3a99491aee8034": {
          "model_module": "@jupyter-widgets/base",
          "model_name": "LayoutModel",
          "state": {
            "_view_name": "LayoutView",
            "grid_template_rows": null,
            "right": null,
            "justify_content": null,
            "_view_module": "@jupyter-widgets/base",
            "overflow": null,
            "_model_module_version": "1.2.0",
            "_view_count": null,
            "flex_flow": null,
            "width": null,
            "min_width": null,
            "border": null,
            "align_items": null,
            "bottom": null,
            "_model_module": "@jupyter-widgets/base",
            "top": null,
            "grid_column": null,
            "overflow_y": null,
            "overflow_x": null,
            "grid_auto_flow": null,
            "grid_area": null,
            "grid_template_columns": null,
            "flex": null,
            "_model_name": "LayoutModel",
            "justify_items": null,
            "grid_row": null,
            "max_height": null,
            "align_content": null,
            "visibility": null,
            "align_self": null,
            "height": null,
            "min_height": null,
            "padding": null,
            "grid_auto_rows": null,
            "grid_gap": null,
            "max_width": null,
            "order": null,
            "_view_module_version": "1.2.0",
            "grid_template_areas": null,
            "object_position": null,
            "object_fit": null,
            "grid_auto_columns": null,
            "margin": null,
            "display": null,
            "left": null
          }
        },
        "628d4afa481d4ac3ba0934bbd69c9712": {
          "model_module": "@jupyter-widgets/controls",
          "model_name": "ButtonStyleModel",
          "state": {
            "_view_name": "StyleView",
            "_model_name": "ButtonStyleModel",
            "_view_module": "@jupyter-widgets/base",
            "_model_module_version": "1.5.0",
            "_view_count": null,
            "button_color": null,
            "font_weight": "",
            "_view_module_version": "1.2.0",
            "_model_module": "@jupyter-widgets/controls"
          }
        },
        "89453d59b61c4f8faeb4d10e605bbad3": {
          "model_module": "@jupyter-widgets/base",
          "model_name": "LayoutModel",
          "state": {
            "_view_name": "LayoutView",
            "grid_template_rows": null,
            "right": null,
            "justify_content": null,
            "_view_module": "@jupyter-widgets/base",
            "overflow": null,
            "_model_module_version": "1.2.0",
            "_view_count": null,
            "flex_flow": null,
            "width": null,
            "min_width": null,
            "border": null,
            "align_items": null,
            "bottom": null,
            "_model_module": "@jupyter-widgets/base",
            "top": null,
            "grid_column": null,
            "overflow_y": null,
            "overflow_x": null,
            "grid_auto_flow": null,
            "grid_area": null,
            "grid_template_columns": null,
            "flex": null,
            "_model_name": "LayoutModel",
            "justify_items": null,
            "grid_row": null,
            "max_height": null,
            "align_content": null,
            "visibility": null,
            "align_self": null,
            "height": null,
            "min_height": null,
            "padding": null,
            "grid_auto_rows": null,
            "grid_gap": null,
            "max_width": null,
            "order": null,
            "_view_module_version": "1.2.0",
            "grid_template_areas": null,
            "object_position": null,
            "object_fit": null,
            "grid_auto_columns": null,
            "margin": null,
            "display": null,
            "left": null
          }
        },
        "fe2f09af7a3c4c03946eb79c2bcc2945": {
          "model_module": "@jupyter-widgets/controls",
          "model_name": "HTMLModel",
          "state": {
            "_view_name": "HTMLView",
            "style": "IPY_MODEL_e5dc2ed40b2e44e9b52bdf33f5926987",
            "_dom_classes": [],
            "description": "",
            "_model_name": "HTMLModel",
            "placeholder": "​",
            "_view_module": "@jupyter-widgets/controls",
            "_model_module_version": "1.5.0",
            "value": "Given Pr(AB) = 0.2, Pr(A) = 0.4, Pr(B) = 0.8, find Pr(A|B) and Pr(B|A).",
            "_view_count": null,
            "_view_module_version": "1.5.0",
            "description_tooltip": null,
            "_model_module": "@jupyter-widgets/controls",
            "layout": "IPY_MODEL_e12481c4e74545e29aff5cf1d334223e"
          }
        },
        "f9df365852504feca9d91197a73447cf": {
          "model_module": "@jupyter-widgets/base",
          "model_name": "LayoutModel",
          "state": {
            "_view_name": "LayoutView",
            "grid_template_rows": null,
            "right": null,
            "justify_content": null,
            "_view_module": "@jupyter-widgets/base",
            "overflow": null,
            "_model_module_version": "1.2.0",
            "_view_count": null,
            "flex_flow": null,
            "width": null,
            "min_width": null,
            "border": null,
            "align_items": null,
            "bottom": null,
            "_model_module": "@jupyter-widgets/base",
            "top": null,
            "grid_column": null,
            "overflow_y": null,
            "overflow_x": null,
            "grid_auto_flow": null,
            "grid_area": null,
            "grid_template_columns": null,
            "flex": null,
            "_model_name": "LayoutModel",
            "justify_items": null,
            "grid_row": null,
            "max_height": null,
            "align_content": null,
            "visibility": null,
            "align_self": null,
            "height": null,
            "min_height": null,
            "padding": null,
            "grid_auto_rows": null,
            "grid_gap": null,
            "max_width": null,
            "order": null,
            "_view_module_version": "1.2.0",
            "grid_template_areas": null,
            "object_position": null,
            "object_fit": null,
            "grid_auto_columns": null,
            "margin": null,
            "display": null,
            "left": null
          }
        },
        "e5dc2ed40b2e44e9b52bdf33f5926987": {
          "model_module": "@jupyter-widgets/controls",
          "model_name": "DescriptionStyleModel",
          "state": {
            "_view_name": "StyleView",
            "_model_name": "DescriptionStyleModel",
            "description_width": "",
            "_view_module": "@jupyter-widgets/base",
            "_model_module_version": "1.5.0",
            "_view_count": null,
            "_view_module_version": "1.2.0",
            "_model_module": "@jupyter-widgets/controls"
          }
        },
        "e12481c4e74545e29aff5cf1d334223e": {
          "model_module": "@jupyter-widgets/base",
          "model_name": "LayoutModel",
          "state": {
            "_view_name": "LayoutView",
            "grid_template_rows": null,
            "right": null,
            "justify_content": null,
            "_view_module": "@jupyter-widgets/base",
            "overflow": null,
            "_model_module_version": "1.2.0",
            "_view_count": null,
            "flex_flow": null,
            "width": null,
            "min_width": null,
            "border": null,
            "align_items": null,
            "bottom": null,
            "_model_module": "@jupyter-widgets/base",
            "top": null,
            "grid_column": null,
            "overflow_y": null,
            "overflow_x": null,
            "grid_auto_flow": null,
            "grid_area": null,
            "grid_template_columns": null,
            "flex": null,
            "_model_name": "LayoutModel",
            "justify_items": null,
            "grid_row": null,
            "max_height": null,
            "align_content": null,
            "visibility": null,
            "align_self": null,
            "height": null,
            "min_height": null,
            "padding": null,
            "grid_auto_rows": null,
            "grid_gap": null,
            "max_width": null,
            "order": null,
            "_view_module_version": "1.2.0",
            "grid_template_areas": null,
            "object_position": null,
            "object_fit": null,
            "grid_auto_columns": null,
            "margin": null,
            "display": null,
            "left": null
          }
        },
        "fcb6ef873d1f4bfe8008e2c72752dbc9": {
          "model_module": "@jupyter-widgets/controls",
          "model_name": "VBoxModel",
          "state": {
            "_view_name": "VBoxView",
            "_dom_classes": [],
            "_model_name": "VBoxModel",
            "_view_module": "@jupyter-widgets/controls",
            "_model_module_version": "1.5.0",
            "_view_count": null,
            "_view_module_version": "1.5.0",
            "box_style": "",
            "layout": "IPY_MODEL_9ca1d822ea6d47b3b3cda56c4a549e65",
            "_model_module": "@jupyter-widgets/controls",
            "children": [
              "IPY_MODEL_c43bafbc7d5e4a868ce8d505df454eb5",
              "IPY_MODEL_ad73bbbb78174d5aba8ccd1c67513538",
              "IPY_MODEL_a46e580e057b429b988ea51bbacdc43e",
              "IPY_MODEL_d2a219b030d84143af18a1580a225390"
            ]
          }
        },
        "9ca1d822ea6d47b3b3cda56c4a549e65": {
          "model_module": "@jupyter-widgets/base",
          "model_name": "LayoutModel",
          "state": {
            "_view_name": "LayoutView",
            "grid_template_rows": null,
            "right": null,
            "justify_content": null,
            "_view_module": "@jupyter-widgets/base",
            "overflow": null,
            "_model_module_version": "1.2.0",
            "_view_count": null,
            "flex_flow": null,
            "width": null,
            "min_width": null,
            "border": null,
            "align_items": null,
            "bottom": null,
            "_model_module": "@jupyter-widgets/base",
            "top": null,
            "grid_column": null,
            "overflow_y": null,
            "overflow_x": null,
            "grid_auto_flow": null,
            "grid_area": null,
            "grid_template_columns": null,
            "flex": null,
            "_model_name": "LayoutModel",
            "justify_items": null,
            "grid_row": null,
            "max_height": null,
            "align_content": null,
            "visibility": null,
            "align_self": null,
            "height": null,
            "min_height": null,
            "padding": null,
            "grid_auto_rows": null,
            "grid_gap": null,
            "max_width": null,
            "order": null,
            "_view_module_version": "1.2.0",
            "grid_template_areas": null,
            "object_position": null,
            "object_fit": null,
            "grid_auto_columns": null,
            "margin": null,
            "display": null,
            "left": null
          }
        },
        "c43bafbc7d5e4a868ce8d505df454eb5": {
          "model_module": "@jupyter-widgets/output",
          "model_name": "OutputModel",
          "state": {
            "_view_name": "OutputView",
            "msg_id": "",
            "_dom_classes": [],
            "_model_name": "OutputModel",
            "outputs": [
              {
                "output_type": "display_data",
                "metadata": {
                  "tags": []
                },
                "application/vnd.jupyter.widget-view+json": {
                  "model_id": "a32270526d2e4cb5a85556aec55f7e17",
                  "version_minor": 0,
                  "version_major": 2
                },
                "text/plain": "HTML(value='Given Pr(C) = 0.5, Pr(B|C) = 0.3, Pr(A|C) = 0.8, Pr(B|AC) = 0.25, Pr(C|AB) = 0.5, find P(ABC).')"
              }
            ],
            "_view_module": "@jupyter-widgets/output",
            "_model_module_version": "1.0.0",
            "_view_count": null,
            "_view_module_version": "1.0.0",
            "layout": "IPY_MODEL_f71f1def541e4cfaa629ad5c79d05cc1",
            "_model_module": "@jupyter-widgets/output"
          }
        },
        "ad73bbbb78174d5aba8ccd1c67513538": {
          "model_module": "@jupyter-widgets/controls",
          "model_name": "RadioButtonsModel",
          "state": {
            "_options_labels": [
              "0.1",
              "0.2",
              "0.3",
              "0.5",
              "Not enough data"
            ],
            "_view_name": "RadioButtonsView",
            "style": "IPY_MODEL_ebcc31874a5844b8aaeb1b8201517f6f",
            "_dom_classes": [],
            "description": "",
            "_model_name": "RadioButtonsModel",
            "index": 0,
            "_view_module": "@jupyter-widgets/controls",
            "_model_module_version": "1.5.0",
            "_view_count": null,
            "disabled": false,
            "_view_module_version": "1.5.0",
            "description_tooltip": null,
            "_model_module": "@jupyter-widgets/controls",
            "layout": "IPY_MODEL_bc9c467a4aa64fdf952e2a0486b38c5e"
          }
        },
        "a46e580e057b429b988ea51bbacdc43e": {
          "model_module": "@jupyter-widgets/controls",
          "model_name": "HTMLModel",
          "state": {
            "_view_name": "HTMLView",
            "style": "IPY_MODEL_36a0acd8ad4649ed99245b2f5568efa9",
            "_dom_classes": [],
            "description": "",
            "_model_name": "HTMLModel",
            "placeholder": "​",
            "_view_module": "@jupyter-widgets/controls",
            "_model_module_version": "1.5.0",
            "value": "<br>",
            "_view_count": null,
            "_view_module_version": "1.5.0",
            "description_tooltip": null,
            "_model_module": "@jupyter-widgets/controls",
            "layout": "IPY_MODEL_610b6719c5b24b88995a34cea83dd427"
          }
        },
        "d2a219b030d84143af18a1580a225390": {
          "model_module": "@jupyter-widgets/controls",
          "model_name": "ButtonModel",
          "state": {
            "_view_name": "ButtonView",
            "style": "IPY_MODEL_cce4e6865fff4d0099043865d7642ef1",
            "_dom_classes": [],
            "description": "Check",
            "_model_name": "ButtonModel",
            "button_style": "",
            "_view_module": "@jupyter-widgets/controls",
            "_model_module_version": "1.5.0",
            "tooltip": "",
            "_view_count": null,
            "disabled": false,
            "_view_module_version": "1.5.0",
            "layout": "IPY_MODEL_22371bc5e21d47eca6fe6836c2fd1a35",
            "_model_module": "@jupyter-widgets/controls",
            "icon": ""
          }
        },
        "ebcc31874a5844b8aaeb1b8201517f6f": {
          "model_module": "@jupyter-widgets/controls",
          "model_name": "DescriptionStyleModel",
          "state": {
            "_view_name": "StyleView",
            "_model_name": "DescriptionStyleModel",
            "description_width": "",
            "_view_module": "@jupyter-widgets/base",
            "_model_module_version": "1.5.0",
            "_view_count": null,
            "_view_module_version": "1.2.0",
            "_model_module": "@jupyter-widgets/controls"
          }
        },
        "bc9c467a4aa64fdf952e2a0486b38c5e": {
          "model_module": "@jupyter-widgets/base",
          "model_name": "LayoutModel",
          "state": {
            "_view_name": "LayoutView",
            "grid_template_rows": null,
            "right": null,
            "justify_content": null,
            "_view_module": "@jupyter-widgets/base",
            "overflow": null,
            "_model_module_version": "1.2.0",
            "_view_count": null,
            "flex_flow": null,
            "width": null,
            "min_width": null,
            "border": null,
            "align_items": null,
            "bottom": null,
            "_model_module": "@jupyter-widgets/base",
            "top": null,
            "grid_column": null,
            "overflow_y": null,
            "overflow_x": null,
            "grid_auto_flow": null,
            "grid_area": null,
            "grid_template_columns": null,
            "flex": null,
            "_model_name": "LayoutModel",
            "justify_items": null,
            "grid_row": null,
            "max_height": null,
            "align_content": null,
            "visibility": null,
            "align_self": null,
            "height": null,
            "min_height": null,
            "padding": null,
            "grid_auto_rows": null,
            "grid_gap": null,
            "max_width": null,
            "order": null,
            "_view_module_version": "1.2.0",
            "grid_template_areas": null,
            "object_position": null,
            "object_fit": null,
            "grid_auto_columns": null,
            "margin": null,
            "display": null,
            "left": null
          }
        },
        "36a0acd8ad4649ed99245b2f5568efa9": {
          "model_module": "@jupyter-widgets/controls",
          "model_name": "DescriptionStyleModel",
          "state": {
            "_view_name": "StyleView",
            "_model_name": "DescriptionStyleModel",
            "description_width": "",
            "_view_module": "@jupyter-widgets/base",
            "_model_module_version": "1.5.0",
            "_view_count": null,
            "_view_module_version": "1.2.0",
            "_model_module": "@jupyter-widgets/controls"
          }
        },
        "610b6719c5b24b88995a34cea83dd427": {
          "model_module": "@jupyter-widgets/base",
          "model_name": "LayoutModel",
          "state": {
            "_view_name": "LayoutView",
            "grid_template_rows": null,
            "right": null,
            "justify_content": null,
            "_view_module": "@jupyter-widgets/base",
            "overflow": null,
            "_model_module_version": "1.2.0",
            "_view_count": null,
            "flex_flow": null,
            "width": null,
            "min_width": null,
            "border": null,
            "align_items": null,
            "bottom": null,
            "_model_module": "@jupyter-widgets/base",
            "top": null,
            "grid_column": null,
            "overflow_y": null,
            "overflow_x": null,
            "grid_auto_flow": null,
            "grid_area": null,
            "grid_template_columns": null,
            "flex": null,
            "_model_name": "LayoutModel",
            "justify_items": null,
            "grid_row": null,
            "max_height": null,
            "align_content": null,
            "visibility": null,
            "align_self": null,
            "height": null,
            "min_height": null,
            "padding": null,
            "grid_auto_rows": null,
            "grid_gap": null,
            "max_width": null,
            "order": null,
            "_view_module_version": "1.2.0",
            "grid_template_areas": null,
            "object_position": null,
            "object_fit": null,
            "grid_auto_columns": null,
            "margin": null,
            "display": null,
            "left": null
          }
        },
        "cce4e6865fff4d0099043865d7642ef1": {
          "model_module": "@jupyter-widgets/controls",
          "model_name": "ButtonStyleModel",
          "state": {
            "_view_name": "StyleView",
            "_model_name": "ButtonStyleModel",
            "_view_module": "@jupyter-widgets/base",
            "_model_module_version": "1.5.0",
            "_view_count": null,
            "button_color": null,
            "font_weight": "",
            "_view_module_version": "1.2.0",
            "_model_module": "@jupyter-widgets/controls"
          }
        },
        "22371bc5e21d47eca6fe6836c2fd1a35": {
          "model_module": "@jupyter-widgets/base",
          "model_name": "LayoutModel",
          "state": {
            "_view_name": "LayoutView",
            "grid_template_rows": null,
            "right": null,
            "justify_content": null,
            "_view_module": "@jupyter-widgets/base",
            "overflow": null,
            "_model_module_version": "1.2.0",
            "_view_count": null,
            "flex_flow": null,
            "width": null,
            "min_width": null,
            "border": null,
            "align_items": null,
            "bottom": null,
            "_model_module": "@jupyter-widgets/base",
            "top": null,
            "grid_column": null,
            "overflow_y": null,
            "overflow_x": null,
            "grid_auto_flow": null,
            "grid_area": null,
            "grid_template_columns": null,
            "flex": null,
            "_model_name": "LayoutModel",
            "justify_items": null,
            "grid_row": null,
            "max_height": null,
            "align_content": null,
            "visibility": null,
            "align_self": null,
            "height": null,
            "min_height": null,
            "padding": null,
            "grid_auto_rows": null,
            "grid_gap": null,
            "max_width": null,
            "order": null,
            "_view_module_version": "1.2.0",
            "grid_template_areas": null,
            "object_position": null,
            "object_fit": null,
            "grid_auto_columns": null,
            "margin": null,
            "display": null,
            "left": null
          }
        },
        "a32270526d2e4cb5a85556aec55f7e17": {
          "model_module": "@jupyter-widgets/controls",
          "model_name": "HTMLModel",
          "state": {
            "_view_name": "HTMLView",
            "style": "IPY_MODEL_37d876aea630476a8421481741fac4c0",
            "_dom_classes": [],
            "description": "",
            "_model_name": "HTMLModel",
            "placeholder": "​",
            "_view_module": "@jupyter-widgets/controls",
            "_model_module_version": "1.5.0",
            "value": "Given Pr(C) = 0.5, Pr(B|C) = 0.3, Pr(A|C) = 0.8, Pr(B|AC) = 0.25, Pr(C|AB) = 0.5, find P(ABC).",
            "_view_count": null,
            "_view_module_version": "1.5.0",
            "description_tooltip": null,
            "_model_module": "@jupyter-widgets/controls",
            "layout": "IPY_MODEL_c16597ff2130475d9ff065c2b62f4774"
          }
        },
        "f71f1def541e4cfaa629ad5c79d05cc1": {
          "model_module": "@jupyter-widgets/base",
          "model_name": "LayoutModel",
          "state": {
            "_view_name": "LayoutView",
            "grid_template_rows": null,
            "right": null,
            "justify_content": null,
            "_view_module": "@jupyter-widgets/base",
            "overflow": null,
            "_model_module_version": "1.2.0",
            "_view_count": null,
            "flex_flow": null,
            "width": null,
            "min_width": null,
            "border": null,
            "align_items": null,
            "bottom": null,
            "_model_module": "@jupyter-widgets/base",
            "top": null,
            "grid_column": null,
            "overflow_y": null,
            "overflow_x": null,
            "grid_auto_flow": null,
            "grid_area": null,
            "grid_template_columns": null,
            "flex": null,
            "_model_name": "LayoutModel",
            "justify_items": null,
            "grid_row": null,
            "max_height": null,
            "align_content": null,
            "visibility": null,
            "align_self": null,
            "height": null,
            "min_height": null,
            "padding": null,
            "grid_auto_rows": null,
            "grid_gap": null,
            "max_width": null,
            "order": null,
            "_view_module_version": "1.2.0",
            "grid_template_areas": null,
            "object_position": null,
            "object_fit": null,
            "grid_auto_columns": null,
            "margin": null,
            "display": null,
            "left": null
          }
        },
        "37d876aea630476a8421481741fac4c0": {
          "model_module": "@jupyter-widgets/controls",
          "model_name": "DescriptionStyleModel",
          "state": {
            "_view_name": "StyleView",
            "_model_name": "DescriptionStyleModel",
            "description_width": "",
            "_view_module": "@jupyter-widgets/base",
            "_model_module_version": "1.5.0",
            "_view_count": null,
            "_view_module_version": "1.2.0",
            "_model_module": "@jupyter-widgets/controls"
          }
        },
        "c16597ff2130475d9ff065c2b62f4774": {
          "model_module": "@jupyter-widgets/base",
          "model_name": "LayoutModel",
          "state": {
            "_view_name": "LayoutView",
            "grid_template_rows": null,
            "right": null,
            "justify_content": null,
            "_view_module": "@jupyter-widgets/base",
            "overflow": null,
            "_model_module_version": "1.2.0",
            "_view_count": null,
            "flex_flow": null,
            "width": null,
            "min_width": null,
            "border": null,
            "align_items": null,
            "bottom": null,
            "_model_module": "@jupyter-widgets/base",
            "top": null,
            "grid_column": null,
            "overflow_y": null,
            "overflow_x": null,
            "grid_auto_flow": null,
            "grid_area": null,
            "grid_template_columns": null,
            "flex": null,
            "_model_name": "LayoutModel",
            "justify_items": null,
            "grid_row": null,
            "max_height": null,
            "align_content": null,
            "visibility": null,
            "align_self": null,
            "height": null,
            "min_height": null,
            "padding": null,
            "grid_auto_rows": null,
            "grid_gap": null,
            "max_width": null,
            "order": null,
            "_view_module_version": "1.2.0",
            "grid_template_areas": null,
            "object_position": null,
            "object_fit": null,
            "grid_auto_columns": null,
            "margin": null,
            "display": null,
            "left": null
          }
        },
        "ebf539ec50e34df794b63863a2769ac1": {
          "model_module": "@jupyter-widgets/controls",
          "model_name": "VBoxModel",
          "state": {
            "_view_name": "VBoxView",
            "_dom_classes": [],
            "_model_name": "VBoxModel",
            "_view_module": "@jupyter-widgets/controls",
            "_model_module_version": "1.5.0",
            "_view_count": null,
            "_view_module_version": "1.5.0",
            "box_style": "",
            "layout": "IPY_MODEL_3bec1558e4804a07b6f2cc0fb4aa1777",
            "_model_module": "@jupyter-widgets/controls",
            "children": [
              "IPY_MODEL_bde7086781414aacb6aaf1b9a7d10e73",
              "IPY_MODEL_cce94fddc93446458f1fceab79d8284a",
              "IPY_MODEL_4abe6adb85824d3a97e350eea3fde4a5",
              "IPY_MODEL_cd87c966fda54a4d9a0be6648c0ebf03"
            ]
          }
        },
        "3bec1558e4804a07b6f2cc0fb4aa1777": {
          "model_module": "@jupyter-widgets/base",
          "model_name": "LayoutModel",
          "state": {
            "_view_name": "LayoutView",
            "grid_template_rows": null,
            "right": null,
            "justify_content": null,
            "_view_module": "@jupyter-widgets/base",
            "overflow": null,
            "_model_module_version": "1.2.0",
            "_view_count": null,
            "flex_flow": null,
            "width": null,
            "min_width": null,
            "border": null,
            "align_items": null,
            "bottom": null,
            "_model_module": "@jupyter-widgets/base",
            "top": null,
            "grid_column": null,
            "overflow_y": null,
            "overflow_x": null,
            "grid_auto_flow": null,
            "grid_area": null,
            "grid_template_columns": null,
            "flex": null,
            "_model_name": "LayoutModel",
            "justify_items": null,
            "grid_row": null,
            "max_height": null,
            "align_content": null,
            "visibility": null,
            "align_self": null,
            "height": null,
            "min_height": null,
            "padding": null,
            "grid_auto_rows": null,
            "grid_gap": null,
            "max_width": null,
            "order": null,
            "_view_module_version": "1.2.0",
            "grid_template_areas": null,
            "object_position": null,
            "object_fit": null,
            "grid_auto_columns": null,
            "margin": null,
            "display": null,
            "left": null
          }
        },
        "bde7086781414aacb6aaf1b9a7d10e73": {
          "model_module": "@jupyter-widgets/output",
          "model_name": "OutputModel",
          "state": {
            "_view_name": "OutputView",
            "msg_id": "",
            "_dom_classes": [],
            "_model_name": "OutputModel",
            "outputs": [
              {
                "output_type": "display_data",
                "metadata": {
                  "tags": []
                },
                "application/vnd.jupyter.widget-view+json": {
                  "model_id": "c14a768b274345fab1abca4bb337d48f",
                  "version_minor": 0,
                  "version_major": 2
                },
                "text/plain": "HTMLMath(value='\\n            Consider a bigram language model with the following probabilities:\\n            …"
              }
            ],
            "_view_module": "@jupyter-widgets/output",
            "_model_module_version": "1.0.0",
            "_view_count": null,
            "_view_module_version": "1.0.0",
            "layout": "IPY_MODEL_643fd50888b844c0bb6afaaac5c5938a",
            "_model_module": "@jupyter-widgets/output"
          }
        },
        "cce94fddc93446458f1fceab79d8284a": {
          "model_module": "@jupyter-widgets/controls",
          "model_name": "RadioButtonsModel",
          "state": {
            "_options_labels": [
              "0.00076",
              "0.000665",
              "0.0003325"
            ],
            "_view_name": "RadioButtonsView",
            "style": "IPY_MODEL_62ed1b50ecd34ef88b8a943dff306eac",
            "_dom_classes": [],
            "description": "",
            "_model_name": "RadioButtonsModel",
            "index": 0,
            "_view_module": "@jupyter-widgets/controls",
            "_model_module_version": "1.5.0",
            "_view_count": null,
            "disabled": false,
            "_view_module_version": "1.5.0",
            "description_tooltip": null,
            "_model_module": "@jupyter-widgets/controls",
            "layout": "IPY_MODEL_05f5776472ff4f3aac55bae7b0dc8a3f"
          }
        },
        "4abe6adb85824d3a97e350eea3fde4a5": {
          "model_module": "@jupyter-widgets/controls",
          "model_name": "HTMLModel",
          "state": {
            "_view_name": "HTMLView",
            "style": "IPY_MODEL_4baf8528f70640f8b5d555e43f44a01e",
            "_dom_classes": [],
            "description": "",
            "_model_name": "HTMLModel",
            "placeholder": "​",
            "_view_module": "@jupyter-widgets/controls",
            "_model_module_version": "1.5.0",
            "value": "<br>",
            "_view_count": null,
            "_view_module_version": "1.5.0",
            "description_tooltip": null,
            "_model_module": "@jupyter-widgets/controls",
            "layout": "IPY_MODEL_872f3a988a074a7e9626f31b94cea992"
          }
        },
        "cd87c966fda54a4d9a0be6648c0ebf03": {
          "model_module": "@jupyter-widgets/controls",
          "model_name": "ButtonModel",
          "state": {
            "_view_name": "ButtonView",
            "style": "IPY_MODEL_a12523128a92438eb260df14f1424ffd",
            "_dom_classes": [],
            "description": "Check",
            "_model_name": "ButtonModel",
            "button_style": "",
            "_view_module": "@jupyter-widgets/controls",
            "_model_module_version": "1.5.0",
            "tooltip": "",
            "_view_count": null,
            "disabled": false,
            "_view_module_version": "1.5.0",
            "layout": "IPY_MODEL_63f4c93c230d40a286d582f0141da152",
            "_model_module": "@jupyter-widgets/controls",
            "icon": ""
          }
        },
        "62ed1b50ecd34ef88b8a943dff306eac": {
          "model_module": "@jupyter-widgets/controls",
          "model_name": "DescriptionStyleModel",
          "state": {
            "_view_name": "StyleView",
            "_model_name": "DescriptionStyleModel",
            "description_width": "",
            "_view_module": "@jupyter-widgets/base",
            "_model_module_version": "1.5.0",
            "_view_count": null,
            "_view_module_version": "1.2.0",
            "_model_module": "@jupyter-widgets/controls"
          }
        },
        "05f5776472ff4f3aac55bae7b0dc8a3f": {
          "model_module": "@jupyter-widgets/base",
          "model_name": "LayoutModel",
          "state": {
            "_view_name": "LayoutView",
            "grid_template_rows": null,
            "right": null,
            "justify_content": null,
            "_view_module": "@jupyter-widgets/base",
            "overflow": null,
            "_model_module_version": "1.2.0",
            "_view_count": null,
            "flex_flow": null,
            "width": null,
            "min_width": null,
            "border": null,
            "align_items": null,
            "bottom": null,
            "_model_module": "@jupyter-widgets/base",
            "top": null,
            "grid_column": null,
            "overflow_y": null,
            "overflow_x": null,
            "grid_auto_flow": null,
            "grid_area": null,
            "grid_template_columns": null,
            "flex": null,
            "_model_name": "LayoutModel",
            "justify_items": null,
            "grid_row": null,
            "max_height": null,
            "align_content": null,
            "visibility": null,
            "align_self": null,
            "height": null,
            "min_height": null,
            "padding": null,
            "grid_auto_rows": null,
            "grid_gap": null,
            "max_width": null,
            "order": null,
            "_view_module_version": "1.2.0",
            "grid_template_areas": null,
            "object_position": null,
            "object_fit": null,
            "grid_auto_columns": null,
            "margin": null,
            "display": null,
            "left": null
          }
        },
        "4baf8528f70640f8b5d555e43f44a01e": {
          "model_module": "@jupyter-widgets/controls",
          "model_name": "DescriptionStyleModel",
          "state": {
            "_view_name": "StyleView",
            "_model_name": "DescriptionStyleModel",
            "description_width": "",
            "_view_module": "@jupyter-widgets/base",
            "_model_module_version": "1.5.0",
            "_view_count": null,
            "_view_module_version": "1.2.0",
            "_model_module": "@jupyter-widgets/controls"
          }
        },
        "872f3a988a074a7e9626f31b94cea992": {
          "model_module": "@jupyter-widgets/base",
          "model_name": "LayoutModel",
          "state": {
            "_view_name": "LayoutView",
            "grid_template_rows": null,
            "right": null,
            "justify_content": null,
            "_view_module": "@jupyter-widgets/base",
            "overflow": null,
            "_model_module_version": "1.2.0",
            "_view_count": null,
            "flex_flow": null,
            "width": null,
            "min_width": null,
            "border": null,
            "align_items": null,
            "bottom": null,
            "_model_module": "@jupyter-widgets/base",
            "top": null,
            "grid_column": null,
            "overflow_y": null,
            "overflow_x": null,
            "grid_auto_flow": null,
            "grid_area": null,
            "grid_template_columns": null,
            "flex": null,
            "_model_name": "LayoutModel",
            "justify_items": null,
            "grid_row": null,
            "max_height": null,
            "align_content": null,
            "visibility": null,
            "align_self": null,
            "height": null,
            "min_height": null,
            "padding": null,
            "grid_auto_rows": null,
            "grid_gap": null,
            "max_width": null,
            "order": null,
            "_view_module_version": "1.2.0",
            "grid_template_areas": null,
            "object_position": null,
            "object_fit": null,
            "grid_auto_columns": null,
            "margin": null,
            "display": null,
            "left": null
          }
        },
        "a12523128a92438eb260df14f1424ffd": {
          "model_module": "@jupyter-widgets/controls",
          "model_name": "ButtonStyleModel",
          "state": {
            "_view_name": "StyleView",
            "_model_name": "ButtonStyleModel",
            "_view_module": "@jupyter-widgets/base",
            "_model_module_version": "1.5.0",
            "_view_count": null,
            "button_color": null,
            "font_weight": "",
            "_view_module_version": "1.2.0",
            "_model_module": "@jupyter-widgets/controls"
          }
        },
        "63f4c93c230d40a286d582f0141da152": {
          "model_module": "@jupyter-widgets/base",
          "model_name": "LayoutModel",
          "state": {
            "_view_name": "LayoutView",
            "grid_template_rows": null,
            "right": null,
            "justify_content": null,
            "_view_module": "@jupyter-widgets/base",
            "overflow": null,
            "_model_module_version": "1.2.0",
            "_view_count": null,
            "flex_flow": null,
            "width": null,
            "min_width": null,
            "border": null,
            "align_items": null,
            "bottom": null,
            "_model_module": "@jupyter-widgets/base",
            "top": null,
            "grid_column": null,
            "overflow_y": null,
            "overflow_x": null,
            "grid_auto_flow": null,
            "grid_area": null,
            "grid_template_columns": null,
            "flex": null,
            "_model_name": "LayoutModel",
            "justify_items": null,
            "grid_row": null,
            "max_height": null,
            "align_content": null,
            "visibility": null,
            "align_self": null,
            "height": null,
            "min_height": null,
            "padding": null,
            "grid_auto_rows": null,
            "grid_gap": null,
            "max_width": null,
            "order": null,
            "_view_module_version": "1.2.0",
            "grid_template_areas": null,
            "object_position": null,
            "object_fit": null,
            "grid_auto_columns": null,
            "margin": null,
            "display": null,
            "left": null
          }
        },
        "c14a768b274345fab1abca4bb337d48f": {
          "model_module": "@jupyter-widgets/controls",
          "model_name": "HTMLMathModel",
          "state": {
            "_view_name": "HTMLMathView",
            "style": "IPY_MODEL_4dabb7c42d29464ba00829558c7a53e9",
            "_dom_classes": [],
            "description": "",
            "_model_name": "HTMLMathModel",
            "placeholder": "​",
            "_view_module": "@jupyter-widgets/controls",
            "_model_module_version": "1.5.0",
            "value": "\n            Consider a bigram language model with the following probabilities:\n            <ul>\n                <li>$\\Pr(\\textrm{\"am so\"})$ = 0.0007</li>\n                <li>$\\Pr(\\textrm{\"am very\"})$ = 0.0009</li>\n                <li>$\\Pr(\\textrm{\"am the\"})$ = 0.0009</li>\n                <li>$\\Pr(\\textrm{\"I am\"})$ = 0.019</li>\n                <li>$\\Pr(\\textrm{\"I\"})$ = 0.16</li>\n                <li>$\\Pr(\\textrm{\"am\"})$ = 0.02</li>\n                <li>$\\Pr(\\textrm{\"so\"})$ = 0.04</li>\n            </ul>\n            Find $\\Pr(\\textrm{\"I am so\"})$\n        ",
            "_view_count": null,
            "_view_module_version": "1.5.0",
            "description_tooltip": null,
            "_model_module": "@jupyter-widgets/controls",
            "layout": "IPY_MODEL_e6562dda55ca40bc8914d392470eaa93"
          }
        },
        "643fd50888b844c0bb6afaaac5c5938a": {
          "model_module": "@jupyter-widgets/base",
          "model_name": "LayoutModel",
          "state": {
            "_view_name": "LayoutView",
            "grid_template_rows": null,
            "right": null,
            "justify_content": null,
            "_view_module": "@jupyter-widgets/base",
            "overflow": null,
            "_model_module_version": "1.2.0",
            "_view_count": null,
            "flex_flow": null,
            "width": null,
            "min_width": null,
            "border": null,
            "align_items": null,
            "bottom": null,
            "_model_module": "@jupyter-widgets/base",
            "top": null,
            "grid_column": null,
            "overflow_y": null,
            "overflow_x": null,
            "grid_auto_flow": null,
            "grid_area": null,
            "grid_template_columns": null,
            "flex": null,
            "_model_name": "LayoutModel",
            "justify_items": null,
            "grid_row": null,
            "max_height": null,
            "align_content": null,
            "visibility": null,
            "align_self": null,
            "height": null,
            "min_height": null,
            "padding": null,
            "grid_auto_rows": null,
            "grid_gap": null,
            "max_width": null,
            "order": null,
            "_view_module_version": "1.2.0",
            "grid_template_areas": null,
            "object_position": null,
            "object_fit": null,
            "grid_auto_columns": null,
            "margin": null,
            "display": null,
            "left": null
          }
        },
        "4dabb7c42d29464ba00829558c7a53e9": {
          "model_module": "@jupyter-widgets/controls",
          "model_name": "DescriptionStyleModel",
          "state": {
            "_view_name": "StyleView",
            "_model_name": "DescriptionStyleModel",
            "description_width": "",
            "_view_module": "@jupyter-widgets/base",
            "_model_module_version": "1.5.0",
            "_view_count": null,
            "_view_module_version": "1.2.0",
            "_model_module": "@jupyter-widgets/controls"
          }
        },
        "e6562dda55ca40bc8914d392470eaa93": {
          "model_module": "@jupyter-widgets/base",
          "model_name": "LayoutModel",
          "state": {
            "_view_name": "LayoutView",
            "grid_template_rows": null,
            "right": null,
            "justify_content": null,
            "_view_module": "@jupyter-widgets/base",
            "overflow": null,
            "_model_module_version": "1.2.0",
            "_view_count": null,
            "flex_flow": null,
            "width": null,
            "min_width": null,
            "border": null,
            "align_items": null,
            "bottom": null,
            "_model_module": "@jupyter-widgets/base",
            "top": null,
            "grid_column": null,
            "overflow_y": null,
            "overflow_x": null,
            "grid_auto_flow": null,
            "grid_area": null,
            "grid_template_columns": null,
            "flex": null,
            "_model_name": "LayoutModel",
            "justify_items": null,
            "grid_row": null,
            "max_height": null,
            "align_content": null,
            "visibility": null,
            "align_self": null,
            "height": null,
            "min_height": null,
            "padding": null,
            "grid_auto_rows": null,
            "grid_gap": null,
            "max_width": null,
            "order": null,
            "_view_module_version": "1.2.0",
            "grid_template_areas": null,
            "object_position": null,
            "object_fit": null,
            "grid_auto_columns": null,
            "margin": null,
            "display": null,
            "left": null
          }
        },
        "45151ec024b94d7fa75f155f1abf971e": {
          "model_module": "@jupyter-widgets/controls",
          "model_name": "HBoxModel",
          "state": {
            "_view_name": "HBoxView",
            "_dom_classes": [],
            "_model_name": "HBoxModel",
            "_view_module": "@jupyter-widgets/controls",
            "_model_module_version": "1.5.0",
            "_view_count": null,
            "_view_module_version": "1.5.0",
            "box_style": "",
            "layout": "IPY_MODEL_b87e8f98a26c454688c547d248bae91f",
            "_model_module": "@jupyter-widgets/controls",
            "children": [
              "IPY_MODEL_44af698a5e6f4642a1a8ff5785052b92",
              "IPY_MODEL_369112b8e8f442b28f162c1decd0b174"
            ]
          }
        },
        "b87e8f98a26c454688c547d248bae91f": {
          "model_module": "@jupyter-widgets/base",
          "model_name": "LayoutModel",
          "state": {
            "_view_name": "LayoutView",
            "grid_template_rows": null,
            "right": null,
            "justify_content": null,
            "_view_module": "@jupyter-widgets/base",
            "overflow": null,
            "_model_module_version": "1.2.0",
            "_view_count": null,
            "flex_flow": null,
            "width": null,
            "min_width": null,
            "border": null,
            "align_items": null,
            "bottom": null,
            "_model_module": "@jupyter-widgets/base",
            "top": null,
            "grid_column": null,
            "overflow_y": null,
            "overflow_x": null,
            "grid_auto_flow": null,
            "grid_area": null,
            "grid_template_columns": null,
            "flex": null,
            "_model_name": "LayoutModel",
            "justify_items": null,
            "grid_row": null,
            "max_height": null,
            "align_content": null,
            "visibility": null,
            "align_self": null,
            "height": null,
            "min_height": null,
            "padding": null,
            "grid_auto_rows": null,
            "grid_gap": null,
            "max_width": null,
            "order": null,
            "_view_module_version": "1.2.0",
            "grid_template_areas": null,
            "object_position": null,
            "object_fit": null,
            "grid_auto_columns": null,
            "margin": null,
            "display": null,
            "left": null
          }
        },
        "44af698a5e6f4642a1a8ff5785052b92": {
          "model_module": "@jupyter-widgets/controls",
          "model_name": "FloatProgressModel",
          "state": {
            "_view_name": "ProgressView",
            "style": "IPY_MODEL_dfc341dc6a9a42e5b403b09a90fbd75a",
            "_dom_classes": [],
            "description": "tokenize: 100%",
            "_model_name": "FloatProgressModel",
            "bar_style": "success",
            "max": 48040,
            "_view_module": "@jupyter-widgets/controls",
            "_model_module_version": "1.5.0",
            "value": 48040,
            "_view_count": null,
            "_view_module_version": "1.5.0",
            "orientation": "horizontal",
            "min": 0,
            "description_tooltip": null,
            "_model_module": "@jupyter-widgets/controls",
            "layout": "IPY_MODEL_c2cc58b73c374c958fcd6359a1bf8663"
          }
        },
        "369112b8e8f442b28f162c1decd0b174": {
          "model_module": "@jupyter-widgets/controls",
          "model_name": "HTMLModel",
          "state": {
            "_view_name": "HTMLView",
            "style": "IPY_MODEL_9e236078181a46208ee7840c13f22a51",
            "_dom_classes": [],
            "description": "",
            "_model_name": "HTMLModel",
            "placeholder": "​",
            "_view_module": "@jupyter-widgets/controls",
            "_model_module_version": "1.5.0",
            "value": " 48040/48040 [00:11&lt;00:00, 4100.72it/s]",
            "_view_count": null,
            "_view_module_version": "1.5.0",
            "description_tooltip": null,
            "_model_module": "@jupyter-widgets/controls",
            "layout": "IPY_MODEL_46c527c5377f49d18659716f14a3db2a"
          }
        },
        "dfc341dc6a9a42e5b403b09a90fbd75a": {
          "model_module": "@jupyter-widgets/controls",
          "model_name": "ProgressStyleModel",
          "state": {
            "_view_name": "StyleView",
            "_model_name": "ProgressStyleModel",
            "description_width": "initial",
            "_view_module": "@jupyter-widgets/base",
            "_model_module_version": "1.5.0",
            "_view_count": null,
            "_view_module_version": "1.2.0",
            "bar_color": null,
            "_model_module": "@jupyter-widgets/controls"
          }
        },
        "c2cc58b73c374c958fcd6359a1bf8663": {
          "model_module": "@jupyter-widgets/base",
          "model_name": "LayoutModel",
          "state": {
            "_view_name": "LayoutView",
            "grid_template_rows": null,
            "right": null,
            "justify_content": null,
            "_view_module": "@jupyter-widgets/base",
            "overflow": null,
            "_model_module_version": "1.2.0",
            "_view_count": null,
            "flex_flow": null,
            "width": null,
            "min_width": null,
            "border": null,
            "align_items": null,
            "bottom": null,
            "_model_module": "@jupyter-widgets/base",
            "top": null,
            "grid_column": null,
            "overflow_y": null,
            "overflow_x": null,
            "grid_auto_flow": null,
            "grid_area": null,
            "grid_template_columns": null,
            "flex": null,
            "_model_name": "LayoutModel",
            "justify_items": null,
            "grid_row": null,
            "max_height": null,
            "align_content": null,
            "visibility": null,
            "align_self": null,
            "height": null,
            "min_height": null,
            "padding": null,
            "grid_auto_rows": null,
            "grid_gap": null,
            "max_width": null,
            "order": null,
            "_view_module_version": "1.2.0",
            "grid_template_areas": null,
            "object_position": null,
            "object_fit": null,
            "grid_auto_columns": null,
            "margin": null,
            "display": null,
            "left": null
          }
        },
        "9e236078181a46208ee7840c13f22a51": {
          "model_module": "@jupyter-widgets/controls",
          "model_name": "DescriptionStyleModel",
          "state": {
            "_view_name": "StyleView",
            "_model_name": "DescriptionStyleModel",
            "description_width": "",
            "_view_module": "@jupyter-widgets/base",
            "_model_module_version": "1.5.0",
            "_view_count": null,
            "_view_module_version": "1.2.0",
            "_model_module": "@jupyter-widgets/controls"
          }
        },
        "46c527c5377f49d18659716f14a3db2a": {
          "model_module": "@jupyter-widgets/base",
          "model_name": "LayoutModel",
          "state": {
            "_view_name": "LayoutView",
            "grid_template_rows": null,
            "right": null,
            "justify_content": null,
            "_view_module": "@jupyter-widgets/base",
            "overflow": null,
            "_model_module_version": "1.2.0",
            "_view_count": null,
            "flex_flow": null,
            "width": null,
            "min_width": null,
            "border": null,
            "align_items": null,
            "bottom": null,
            "_model_module": "@jupyter-widgets/base",
            "top": null,
            "grid_column": null,
            "overflow_y": null,
            "overflow_x": null,
            "grid_auto_flow": null,
            "grid_area": null,
            "grid_template_columns": null,
            "flex": null,
            "_model_name": "LayoutModel",
            "justify_items": null,
            "grid_row": null,
            "max_height": null,
            "align_content": null,
            "visibility": null,
            "align_self": null,
            "height": null,
            "min_height": null,
            "padding": null,
            "grid_auto_rows": null,
            "grid_gap": null,
            "max_width": null,
            "order": null,
            "_view_module_version": "1.2.0",
            "grid_template_areas": null,
            "object_position": null,
            "object_fit": null,
            "grid_auto_columns": null,
            "margin": null,
            "display": null,
            "left": null
          }
        },
        "bfa2d5cad75446219b65d1ccab8aca5e": {
          "model_module": "@jupyter-widgets/controls",
          "model_name": "HBoxModel",
          "state": {
            "_view_name": "HBoxView",
            "_dom_classes": [],
            "_model_name": "HBoxModel",
            "_view_module": "@jupyter-widgets/controls",
            "_model_module_version": "1.5.0",
            "_view_count": null,
            "_view_module_version": "1.5.0",
            "box_style": "",
            "layout": "IPY_MODEL_3aed336c1069424fb9077c728d40ac4b",
            "_model_module": "@jupyter-widgets/controls",
            "children": [
              "IPY_MODEL_0dee1754f95046e4b21ba07ad5a82232",
              "IPY_MODEL_16eebe2e8c3e452f92f7fc95d5ee00fe"
            ]
          }
        },
        "3aed336c1069424fb9077c728d40ac4b": {
          "model_module": "@jupyter-widgets/base",
          "model_name": "LayoutModel",
          "state": {
            "_view_name": "LayoutView",
            "grid_template_rows": null,
            "right": null,
            "justify_content": null,
            "_view_module": "@jupyter-widgets/base",
            "overflow": null,
            "_model_module_version": "1.2.0",
            "_view_count": null,
            "flex_flow": null,
            "width": null,
            "min_width": null,
            "border": null,
            "align_items": null,
            "bottom": null,
            "_model_module": "@jupyter-widgets/base",
            "top": null,
            "grid_column": null,
            "overflow_y": null,
            "overflow_x": null,
            "grid_auto_flow": null,
            "grid_area": null,
            "grid_template_columns": null,
            "flex": null,
            "_model_name": "LayoutModel",
            "justify_items": null,
            "grid_row": null,
            "max_height": null,
            "align_content": null,
            "visibility": null,
            "align_self": null,
            "height": null,
            "min_height": null,
            "padding": null,
            "grid_auto_rows": null,
            "grid_gap": null,
            "max_width": null,
            "order": null,
            "_view_module_version": "1.2.0",
            "grid_template_areas": null,
            "object_position": null,
            "object_fit": null,
            "grid_auto_columns": null,
            "margin": null,
            "display": null,
            "left": null
          }
        },
        "0dee1754f95046e4b21ba07ad5a82232": {
          "model_module": "@jupyter-widgets/controls",
          "model_name": "FloatProgressModel",
          "state": {
            "_view_name": "ProgressView",
            "style": "IPY_MODEL_fc76cb3625ed4b228f0592c9aa1a4ad2",
            "_dom_classes": [],
            "description": "fit: 100%",
            "_model_name": "FloatProgressModel",
            "bar_style": "success",
            "max": 44061,
            "_view_module": "@jupyter-widgets/controls",
            "_model_module_version": "1.5.0",
            "value": 44061,
            "_view_count": null,
            "_view_module_version": "1.5.0",
            "orientation": "horizontal",
            "min": 0,
            "description_tooltip": null,
            "_model_module": "@jupyter-widgets/controls",
            "layout": "IPY_MODEL_11c2e6cc09854027af75d051df7f77d3"
          }
        },
        "16eebe2e8c3e452f92f7fc95d5ee00fe": {
          "model_module": "@jupyter-widgets/controls",
          "model_name": "HTMLModel",
          "state": {
            "_view_name": "HTMLView",
            "style": "IPY_MODEL_1e9684a381d04cdbb10b6fc613443b3c",
            "_dom_classes": [],
            "description": "",
            "_model_name": "HTMLModel",
            "placeholder": "​",
            "_view_module": "@jupyter-widgets/controls",
            "_model_module_version": "1.5.0",
            "value": " 44061/44061 [00:40&lt;00:00, 1074.96it/s]",
            "_view_count": null,
            "_view_module_version": "1.5.0",
            "description_tooltip": null,
            "_model_module": "@jupyter-widgets/controls",
            "layout": "IPY_MODEL_ce7e526676e0495fb63a376760a8587e"
          }
        },
        "fc76cb3625ed4b228f0592c9aa1a4ad2": {
          "model_module": "@jupyter-widgets/controls",
          "model_name": "ProgressStyleModel",
          "state": {
            "_view_name": "StyleView",
            "_model_name": "ProgressStyleModel",
            "description_width": "initial",
            "_view_module": "@jupyter-widgets/base",
            "_model_module_version": "1.5.0",
            "_view_count": null,
            "_view_module_version": "1.2.0",
            "bar_color": null,
            "_model_module": "@jupyter-widgets/controls"
          }
        },
        "11c2e6cc09854027af75d051df7f77d3": {
          "model_module": "@jupyter-widgets/base",
          "model_name": "LayoutModel",
          "state": {
            "_view_name": "LayoutView",
            "grid_template_rows": null,
            "right": null,
            "justify_content": null,
            "_view_module": "@jupyter-widgets/base",
            "overflow": null,
            "_model_module_version": "1.2.0",
            "_view_count": null,
            "flex_flow": null,
            "width": null,
            "min_width": null,
            "border": null,
            "align_items": null,
            "bottom": null,
            "_model_module": "@jupyter-widgets/base",
            "top": null,
            "grid_column": null,
            "overflow_y": null,
            "overflow_x": null,
            "grid_auto_flow": null,
            "grid_area": null,
            "grid_template_columns": null,
            "flex": null,
            "_model_name": "LayoutModel",
            "justify_items": null,
            "grid_row": null,
            "max_height": null,
            "align_content": null,
            "visibility": null,
            "align_self": null,
            "height": null,
            "min_height": null,
            "padding": null,
            "grid_auto_rows": null,
            "grid_gap": null,
            "max_width": null,
            "order": null,
            "_view_module_version": "1.2.0",
            "grid_template_areas": null,
            "object_position": null,
            "object_fit": null,
            "grid_auto_columns": null,
            "margin": null,
            "display": null,
            "left": null
          }
        },
        "1e9684a381d04cdbb10b6fc613443b3c": {
          "model_module": "@jupyter-widgets/controls",
          "model_name": "DescriptionStyleModel",
          "state": {
            "_view_name": "StyleView",
            "_model_name": "DescriptionStyleModel",
            "description_width": "",
            "_view_module": "@jupyter-widgets/base",
            "_model_module_version": "1.5.0",
            "_view_count": null,
            "_view_module_version": "1.2.0",
            "_model_module": "@jupyter-widgets/controls"
          }
        },
        "ce7e526676e0495fb63a376760a8587e": {
          "model_module": "@jupyter-widgets/base",
          "model_name": "LayoutModel",
          "state": {
            "_view_name": "LayoutView",
            "grid_template_rows": null,
            "right": null,
            "justify_content": null,
            "_view_module": "@jupyter-widgets/base",
            "overflow": null,
            "_model_module_version": "1.2.0",
            "_view_count": null,
            "flex_flow": null,
            "width": null,
            "min_width": null,
            "border": null,
            "align_items": null,
            "bottom": null,
            "_model_module": "@jupyter-widgets/base",
            "top": null,
            "grid_column": null,
            "overflow_y": null,
            "overflow_x": null,
            "grid_auto_flow": null,
            "grid_area": null,
            "grid_template_columns": null,
            "flex": null,
            "_model_name": "LayoutModel",
            "justify_items": null,
            "grid_row": null,
            "max_height": null,
            "align_content": null,
            "visibility": null,
            "align_self": null,
            "height": null,
            "min_height": null,
            "padding": null,
            "grid_auto_rows": null,
            "grid_gap": null,
            "max_width": null,
            "order": null,
            "_view_module_version": "1.2.0",
            "grid_template_areas": null,
            "object_position": null,
            "object_fit": null,
            "grid_auto_columns": null,
            "margin": null,
            "display": null,
            "left": null
          }
        },
        "ed149769dd3c4c2f985e31bf4e9f0f5c": {
          "model_module": "@jupyter-widgets/controls",
          "model_name": "VBoxModel",
          "state": {
            "_view_name": "VBoxView",
            "_dom_classes": [],
            "_model_name": "VBoxModel",
            "_view_module": "@jupyter-widgets/controls",
            "_model_module_version": "1.5.0",
            "_view_count": null,
            "_view_module_version": "1.5.0",
            "box_style": "",
            "layout": "IPY_MODEL_7d87ccc207774e7ca2e5f3559d1eb915",
            "_model_module": "@jupyter-widgets/controls",
            "children": [
              "IPY_MODEL_223efb69db614a078fb4bfb2ebb01d83",
              "IPY_MODEL_a22bc2f4caa64eaf87a692497648579e",
              "IPY_MODEL_5f2ef2253ea84de7a4a8656ed20049f4",
              "IPY_MODEL_89fc955a8198448d88d3d6900acc2d9e"
            ]
          }
        },
        "7d87ccc207774e7ca2e5f3559d1eb915": {
          "model_module": "@jupyter-widgets/base",
          "model_name": "LayoutModel",
          "state": {
            "_view_name": "LayoutView",
            "grid_template_rows": null,
            "right": null,
            "justify_content": null,
            "_view_module": "@jupyter-widgets/base",
            "overflow": null,
            "_model_module_version": "1.2.0",
            "_view_count": null,
            "flex_flow": null,
            "width": null,
            "min_width": null,
            "border": null,
            "align_items": null,
            "bottom": null,
            "_model_module": "@jupyter-widgets/base",
            "top": null,
            "grid_column": null,
            "overflow_y": null,
            "overflow_x": null,
            "grid_auto_flow": null,
            "grid_area": null,
            "grid_template_columns": null,
            "flex": null,
            "_model_name": "LayoutModel",
            "justify_items": null,
            "grid_row": null,
            "max_height": null,
            "align_content": null,
            "visibility": null,
            "align_self": null,
            "height": null,
            "min_height": null,
            "padding": null,
            "grid_auto_rows": null,
            "grid_gap": null,
            "max_width": null,
            "order": null,
            "_view_module_version": "1.2.0",
            "grid_template_areas": null,
            "object_position": null,
            "object_fit": null,
            "grid_auto_columns": null,
            "margin": null,
            "display": null,
            "left": null
          }
        },
        "223efb69db614a078fb4bfb2ebb01d83": {
          "model_module": "@jupyter-widgets/output",
          "model_name": "OutputModel",
          "state": {
            "_view_name": "OutputView",
            "msg_id": "",
            "_dom_classes": [],
            "_model_name": "OutputModel",
            "outputs": [
              {
                "output_type": "display_data",
                "metadata": {
                  "tags": []
                },
                "application/vnd.jupyter.widget-view+json": {
                  "model_id": "5907faf86fd4460298aae5f7186817ce",
                  "version_minor": 0,
                  "version_major": 2
                },
                "text/plain": "HTMLMath(value='\\n            Given the vocabulary $V$, what is the number of all possible $n$-grams construct…"
              }
            ],
            "_view_module": "@jupyter-widgets/output",
            "_model_module_version": "1.0.0",
            "_view_count": null,
            "_view_module_version": "1.0.0",
            "layout": "IPY_MODEL_ce20222f569f4b589ea16bd6ed077985",
            "_model_module": "@jupyter-widgets/output"
          }
        },
        "a22bc2f4caa64eaf87a692497648579e": {
          "model_module": "@jupyter-widgets/controls",
          "model_name": "RadioButtonsModel",
          "state": {
            "_options_labels": [
              "$|V|$",
              "$n + |V|$",
              "$n\\cdot|V|$",
              "$|V|^n$"
            ],
            "_view_name": "RadioButtonsView",
            "style": "IPY_MODEL_a38d76232a0c417b91259bf7b90d6a15",
            "_dom_classes": [],
            "description": "",
            "_model_name": "RadioButtonsModel",
            "index": 0,
            "_view_module": "@jupyter-widgets/controls",
            "_model_module_version": "1.5.0",
            "_view_count": null,
            "disabled": false,
            "_view_module_version": "1.5.0",
            "description_tooltip": null,
            "_model_module": "@jupyter-widgets/controls",
            "layout": "IPY_MODEL_238c6a0d785543e7b82c55ec40fcf024"
          }
        },
        "5f2ef2253ea84de7a4a8656ed20049f4": {
          "model_module": "@jupyter-widgets/controls",
          "model_name": "HTMLModel",
          "state": {
            "_view_name": "HTMLView",
            "style": "IPY_MODEL_da57aafc8f37472e8c9c3e06e75921f2",
            "_dom_classes": [],
            "description": "",
            "_model_name": "HTMLModel",
            "placeholder": "​",
            "_view_module": "@jupyter-widgets/controls",
            "_model_module_version": "1.5.0",
            "value": "<br>",
            "_view_count": null,
            "_view_module_version": "1.5.0",
            "description_tooltip": null,
            "_model_module": "@jupyter-widgets/controls",
            "layout": "IPY_MODEL_42d9daec78de49c5b11f7a990ff53b4f"
          }
        },
        "89fc955a8198448d88d3d6900acc2d9e": {
          "model_module": "@jupyter-widgets/controls",
          "model_name": "ButtonModel",
          "state": {
            "_view_name": "ButtonView",
            "style": "IPY_MODEL_b8f8730d5a3d4838a9fe042467fcac00",
            "_dom_classes": [],
            "description": "Check",
            "_model_name": "ButtonModel",
            "button_style": "",
            "_view_module": "@jupyter-widgets/controls",
            "_model_module_version": "1.5.0",
            "tooltip": "",
            "_view_count": null,
            "disabled": false,
            "_view_module_version": "1.5.0",
            "layout": "IPY_MODEL_d536bf7e0c9e4c419ef22b3da5b586a2",
            "_model_module": "@jupyter-widgets/controls",
            "icon": ""
          }
        },
        "a38d76232a0c417b91259bf7b90d6a15": {
          "model_module": "@jupyter-widgets/controls",
          "model_name": "DescriptionStyleModel",
          "state": {
            "_view_name": "StyleView",
            "_model_name": "DescriptionStyleModel",
            "description_width": "",
            "_view_module": "@jupyter-widgets/base",
            "_model_module_version": "1.5.0",
            "_view_count": null,
            "_view_module_version": "1.2.0",
            "_model_module": "@jupyter-widgets/controls"
          }
        },
        "238c6a0d785543e7b82c55ec40fcf024": {
          "model_module": "@jupyter-widgets/base",
          "model_name": "LayoutModel",
          "state": {
            "_view_name": "LayoutView",
            "grid_template_rows": null,
            "right": null,
            "justify_content": null,
            "_view_module": "@jupyter-widgets/base",
            "overflow": null,
            "_model_module_version": "1.2.0",
            "_view_count": null,
            "flex_flow": null,
            "width": null,
            "min_width": null,
            "border": null,
            "align_items": null,
            "bottom": null,
            "_model_module": "@jupyter-widgets/base",
            "top": null,
            "grid_column": null,
            "overflow_y": null,
            "overflow_x": null,
            "grid_auto_flow": null,
            "grid_area": null,
            "grid_template_columns": null,
            "flex": null,
            "_model_name": "LayoutModel",
            "justify_items": null,
            "grid_row": null,
            "max_height": null,
            "align_content": null,
            "visibility": null,
            "align_self": null,
            "height": null,
            "min_height": null,
            "padding": null,
            "grid_auto_rows": null,
            "grid_gap": null,
            "max_width": null,
            "order": null,
            "_view_module_version": "1.2.0",
            "grid_template_areas": null,
            "object_position": null,
            "object_fit": null,
            "grid_auto_columns": null,
            "margin": null,
            "display": null,
            "left": null
          }
        },
        "da57aafc8f37472e8c9c3e06e75921f2": {
          "model_module": "@jupyter-widgets/controls",
          "model_name": "DescriptionStyleModel",
          "state": {
            "_view_name": "StyleView",
            "_model_name": "DescriptionStyleModel",
            "description_width": "",
            "_view_module": "@jupyter-widgets/base",
            "_model_module_version": "1.5.0",
            "_view_count": null,
            "_view_module_version": "1.2.0",
            "_model_module": "@jupyter-widgets/controls"
          }
        },
        "42d9daec78de49c5b11f7a990ff53b4f": {
          "model_module": "@jupyter-widgets/base",
          "model_name": "LayoutModel",
          "state": {
            "_view_name": "LayoutView",
            "grid_template_rows": null,
            "right": null,
            "justify_content": null,
            "_view_module": "@jupyter-widgets/base",
            "overflow": null,
            "_model_module_version": "1.2.0",
            "_view_count": null,
            "flex_flow": null,
            "width": null,
            "min_width": null,
            "border": null,
            "align_items": null,
            "bottom": null,
            "_model_module": "@jupyter-widgets/base",
            "top": null,
            "grid_column": null,
            "overflow_y": null,
            "overflow_x": null,
            "grid_auto_flow": null,
            "grid_area": null,
            "grid_template_columns": null,
            "flex": null,
            "_model_name": "LayoutModel",
            "justify_items": null,
            "grid_row": null,
            "max_height": null,
            "align_content": null,
            "visibility": null,
            "align_self": null,
            "height": null,
            "min_height": null,
            "padding": null,
            "grid_auto_rows": null,
            "grid_gap": null,
            "max_width": null,
            "order": null,
            "_view_module_version": "1.2.0",
            "grid_template_areas": null,
            "object_position": null,
            "object_fit": null,
            "grid_auto_columns": null,
            "margin": null,
            "display": null,
            "left": null
          }
        },
        "b8f8730d5a3d4838a9fe042467fcac00": {
          "model_module": "@jupyter-widgets/controls",
          "model_name": "ButtonStyleModel",
          "state": {
            "_view_name": "StyleView",
            "_model_name": "ButtonStyleModel",
            "_view_module": "@jupyter-widgets/base",
            "_model_module_version": "1.5.0",
            "_view_count": null,
            "button_color": null,
            "font_weight": "",
            "_view_module_version": "1.2.0",
            "_model_module": "@jupyter-widgets/controls"
          }
        },
        "d536bf7e0c9e4c419ef22b3da5b586a2": {
          "model_module": "@jupyter-widgets/base",
          "model_name": "LayoutModel",
          "state": {
            "_view_name": "LayoutView",
            "grid_template_rows": null,
            "right": null,
            "justify_content": null,
            "_view_module": "@jupyter-widgets/base",
            "overflow": null,
            "_model_module_version": "1.2.0",
            "_view_count": null,
            "flex_flow": null,
            "width": null,
            "min_width": null,
            "border": null,
            "align_items": null,
            "bottom": null,
            "_model_module": "@jupyter-widgets/base",
            "top": null,
            "grid_column": null,
            "overflow_y": null,
            "overflow_x": null,
            "grid_auto_flow": null,
            "grid_area": null,
            "grid_template_columns": null,
            "flex": null,
            "_model_name": "LayoutModel",
            "justify_items": null,
            "grid_row": null,
            "max_height": null,
            "align_content": null,
            "visibility": null,
            "align_self": null,
            "height": null,
            "min_height": null,
            "padding": null,
            "grid_auto_rows": null,
            "grid_gap": null,
            "max_width": null,
            "order": null,
            "_view_module_version": "1.2.0",
            "grid_template_areas": null,
            "object_position": null,
            "object_fit": null,
            "grid_auto_columns": null,
            "margin": null,
            "display": null,
            "left": null
          }
        },
        "5907faf86fd4460298aae5f7186817ce": {
          "model_module": "@jupyter-widgets/controls",
          "model_name": "HTMLMathModel",
          "state": {
            "_view_name": "HTMLMathView",
            "style": "IPY_MODEL_898de62c21fe413d9cbe5ada56748556",
            "_dom_classes": [],
            "description": "",
            "_model_name": "HTMLMathModel",
            "placeholder": "​",
            "_view_module": "@jupyter-widgets/controls",
            "_model_module_version": "1.5.0",
            "value": "\n            Given the vocabulary $V$, what is the number of all possible $n$-grams constructed from $V$?\n            Assume there is no padding.\n        ",
            "_view_count": null,
            "_view_module_version": "1.5.0",
            "description_tooltip": null,
            "_model_module": "@jupyter-widgets/controls",
            "layout": "IPY_MODEL_4d53a996d8f6405f8f1cc8127e143b9d"
          }
        },
        "ce20222f569f4b589ea16bd6ed077985": {
          "model_module": "@jupyter-widgets/base",
          "model_name": "LayoutModel",
          "state": {
            "_view_name": "LayoutView",
            "grid_template_rows": null,
            "right": null,
            "justify_content": null,
            "_view_module": "@jupyter-widgets/base",
            "overflow": null,
            "_model_module_version": "1.2.0",
            "_view_count": null,
            "flex_flow": null,
            "width": null,
            "min_width": null,
            "border": null,
            "align_items": null,
            "bottom": null,
            "_model_module": "@jupyter-widgets/base",
            "top": null,
            "grid_column": null,
            "overflow_y": null,
            "overflow_x": null,
            "grid_auto_flow": null,
            "grid_area": null,
            "grid_template_columns": null,
            "flex": null,
            "_model_name": "LayoutModel",
            "justify_items": null,
            "grid_row": null,
            "max_height": null,
            "align_content": null,
            "visibility": null,
            "align_self": null,
            "height": null,
            "min_height": null,
            "padding": null,
            "grid_auto_rows": null,
            "grid_gap": null,
            "max_width": null,
            "order": null,
            "_view_module_version": "1.2.0",
            "grid_template_areas": null,
            "object_position": null,
            "object_fit": null,
            "grid_auto_columns": null,
            "margin": null,
            "display": null,
            "left": null
          }
        },
        "898de62c21fe413d9cbe5ada56748556": {
          "model_module": "@jupyter-widgets/controls",
          "model_name": "DescriptionStyleModel",
          "state": {
            "_view_name": "StyleView",
            "_model_name": "DescriptionStyleModel",
            "description_width": "",
            "_view_module": "@jupyter-widgets/base",
            "_model_module_version": "1.5.0",
            "_view_count": null,
            "_view_module_version": "1.2.0",
            "_model_module": "@jupyter-widgets/controls"
          }
        },
        "4d53a996d8f6405f8f1cc8127e143b9d": {
          "model_module": "@jupyter-widgets/base",
          "model_name": "LayoutModel",
          "state": {
            "_view_name": "LayoutView",
            "grid_template_rows": null,
            "right": null,
            "justify_content": null,
            "_view_module": "@jupyter-widgets/base",
            "overflow": null,
            "_model_module_version": "1.2.0",
            "_view_count": null,
            "flex_flow": null,
            "width": null,
            "min_width": null,
            "border": null,
            "align_items": null,
            "bottom": null,
            "_model_module": "@jupyter-widgets/base",
            "top": null,
            "grid_column": null,
            "overflow_y": null,
            "overflow_x": null,
            "grid_auto_flow": null,
            "grid_area": null,
            "grid_template_columns": null,
            "flex": null,
            "_model_name": "LayoutModel",
            "justify_items": null,
            "grid_row": null,
            "max_height": null,
            "align_content": null,
            "visibility": null,
            "align_self": null,
            "height": null,
            "min_height": null,
            "padding": null,
            "grid_auto_rows": null,
            "grid_gap": null,
            "max_width": null,
            "order": null,
            "_view_module_version": "1.2.0",
            "grid_template_areas": null,
            "object_position": null,
            "object_fit": null,
            "grid_auto_columns": null,
            "margin": null,
            "display": null,
            "left": null
          }
        },
        "a20f62b660a644fc890e402416aa15e7": {
          "model_module": "@jupyter-widgets/controls",
          "model_name": "HBoxModel",
          "state": {
            "_view_name": "HBoxView",
            "_dom_classes": [],
            "_model_name": "HBoxModel",
            "_view_module": "@jupyter-widgets/controls",
            "_model_module_version": "1.5.0",
            "_view_count": null,
            "_view_module_version": "1.5.0",
            "box_style": "",
            "layout": "IPY_MODEL_dfa203a5f3d946a4b6103385539da2ae",
            "_model_module": "@jupyter-widgets/controls",
            "children": [
              "IPY_MODEL_b10869c3e70a40859438bfde531c9b6a",
              "IPY_MODEL_50064e72132a4b73add2ddd1075ba535"
            ]
          }
        },
        "dfa203a5f3d946a4b6103385539da2ae": {
          "model_module": "@jupyter-widgets/base",
          "model_name": "LayoutModel",
          "state": {
            "_view_name": "LayoutView",
            "grid_template_rows": null,
            "right": null,
            "justify_content": null,
            "_view_module": "@jupyter-widgets/base",
            "overflow": null,
            "_model_module_version": "1.2.0",
            "_view_count": null,
            "flex_flow": null,
            "width": null,
            "min_width": null,
            "border": null,
            "align_items": null,
            "bottom": null,
            "_model_module": "@jupyter-widgets/base",
            "top": null,
            "grid_column": null,
            "overflow_y": null,
            "overflow_x": null,
            "grid_auto_flow": null,
            "grid_area": null,
            "grid_template_columns": null,
            "flex": null,
            "_model_name": "LayoutModel",
            "justify_items": null,
            "grid_row": null,
            "max_height": null,
            "align_content": null,
            "visibility": null,
            "align_self": null,
            "height": null,
            "min_height": null,
            "padding": null,
            "grid_auto_rows": null,
            "grid_gap": null,
            "max_width": null,
            "order": null,
            "_view_module_version": "1.2.0",
            "grid_template_areas": null,
            "object_position": null,
            "object_fit": null,
            "grid_auto_columns": null,
            "margin": null,
            "display": null,
            "left": null
          }
        },
        "b10869c3e70a40859438bfde531c9b6a": {
          "model_module": "@jupyter-widgets/controls",
          "model_name": "FloatProgressModel",
          "state": {
            "_view_name": "ProgressView",
            "style": "IPY_MODEL_24a5df7c23c147ffa83a3ac473877e6a",
            "_dom_classes": [],
            "description": "fit: 100%",
            "_model_name": "FloatProgressModel",
            "bar_style": "success",
            "max": 44061,
            "_view_module": "@jupyter-widgets/controls",
            "_model_module_version": "1.5.0",
            "value": 44061,
            "_view_count": null,
            "_view_module_version": "1.5.0",
            "orientation": "horizontal",
            "min": 0,
            "description_tooltip": null,
            "_model_module": "@jupyter-widgets/controls",
            "layout": "IPY_MODEL_0cfb743b976e459d8f54c67a4358898f"
          }
        },
        "50064e72132a4b73add2ddd1075ba535": {
          "model_module": "@jupyter-widgets/controls",
          "model_name": "HTMLModel",
          "state": {
            "_view_name": "HTMLView",
            "style": "IPY_MODEL_4cfd126fd24c4b218848f5c474b8d5cd",
            "_dom_classes": [],
            "description": "",
            "_model_name": "HTMLModel",
            "placeholder": "​",
            "_view_module": "@jupyter-widgets/controls",
            "_model_module_version": "1.5.0",
            "value": " 44061/44061 [00:37&lt;00:00, 1175.07it/s]",
            "_view_count": null,
            "_view_module_version": "1.5.0",
            "description_tooltip": null,
            "_model_module": "@jupyter-widgets/controls",
            "layout": "IPY_MODEL_87c745924c1943a58494481016565798"
          }
        },
        "24a5df7c23c147ffa83a3ac473877e6a": {
          "model_module": "@jupyter-widgets/controls",
          "model_name": "ProgressStyleModel",
          "state": {
            "_view_name": "StyleView",
            "_model_name": "ProgressStyleModel",
            "description_width": "initial",
            "_view_module": "@jupyter-widgets/base",
            "_model_module_version": "1.5.0",
            "_view_count": null,
            "_view_module_version": "1.2.0",
            "bar_color": null,
            "_model_module": "@jupyter-widgets/controls"
          }
        },
        "0cfb743b976e459d8f54c67a4358898f": {
          "model_module": "@jupyter-widgets/base",
          "model_name": "LayoutModel",
          "state": {
            "_view_name": "LayoutView",
            "grid_template_rows": null,
            "right": null,
            "justify_content": null,
            "_view_module": "@jupyter-widgets/base",
            "overflow": null,
            "_model_module_version": "1.2.0",
            "_view_count": null,
            "flex_flow": null,
            "width": null,
            "min_width": null,
            "border": null,
            "align_items": null,
            "bottom": null,
            "_model_module": "@jupyter-widgets/base",
            "top": null,
            "grid_column": null,
            "overflow_y": null,
            "overflow_x": null,
            "grid_auto_flow": null,
            "grid_area": null,
            "grid_template_columns": null,
            "flex": null,
            "_model_name": "LayoutModel",
            "justify_items": null,
            "grid_row": null,
            "max_height": null,
            "align_content": null,
            "visibility": null,
            "align_self": null,
            "height": null,
            "min_height": null,
            "padding": null,
            "grid_auto_rows": null,
            "grid_gap": null,
            "max_width": null,
            "order": null,
            "_view_module_version": "1.2.0",
            "grid_template_areas": null,
            "object_position": null,
            "object_fit": null,
            "grid_auto_columns": null,
            "margin": null,
            "display": null,
            "left": null
          }
        },
        "4cfd126fd24c4b218848f5c474b8d5cd": {
          "model_module": "@jupyter-widgets/controls",
          "model_name": "DescriptionStyleModel",
          "state": {
            "_view_name": "StyleView",
            "_model_name": "DescriptionStyleModel",
            "description_width": "",
            "_view_module": "@jupyter-widgets/base",
            "_model_module_version": "1.5.0",
            "_view_count": null,
            "_view_module_version": "1.2.0",
            "_model_module": "@jupyter-widgets/controls"
          }
        },
        "87c745924c1943a58494481016565798": {
          "model_module": "@jupyter-widgets/base",
          "model_name": "LayoutModel",
          "state": {
            "_view_name": "LayoutView",
            "grid_template_rows": null,
            "right": null,
            "justify_content": null,
            "_view_module": "@jupyter-widgets/base",
            "overflow": null,
            "_model_module_version": "1.2.0",
            "_view_count": null,
            "flex_flow": null,
            "width": null,
            "min_width": null,
            "border": null,
            "align_items": null,
            "bottom": null,
            "_model_module": "@jupyter-widgets/base",
            "top": null,
            "grid_column": null,
            "overflow_y": null,
            "overflow_x": null,
            "grid_auto_flow": null,
            "grid_area": null,
            "grid_template_columns": null,
            "flex": null,
            "_model_name": "LayoutModel",
            "justify_items": null,
            "grid_row": null,
            "max_height": null,
            "align_content": null,
            "visibility": null,
            "align_self": null,
            "height": null,
            "min_height": null,
            "padding": null,
            "grid_auto_rows": null,
            "grid_gap": null,
            "max_width": null,
            "order": null,
            "_view_module_version": "1.2.0",
            "grid_template_areas": null,
            "object_position": null,
            "object_fit": null,
            "grid_auto_columns": null,
            "margin": null,
            "display": null,
            "left": null
          }
        },
        "f34fdd61deec48e78726092bc106179c": {
          "model_module": "@jupyter-widgets/controls",
          "model_name": "HBoxModel",
          "state": {
            "_view_name": "HBoxView",
            "_dom_classes": [],
            "_model_name": "HBoxModel",
            "_view_module": "@jupyter-widgets/controls",
            "_model_module_version": "1.5.0",
            "_view_count": null,
            "_view_module_version": "1.5.0",
            "box_style": "",
            "layout": "IPY_MODEL_fa11818d459e4557804e5704ecfeaa71",
            "_model_module": "@jupyter-widgets/controls",
            "children": [
              "IPY_MODEL_782978b961d04f18908dae605db98e61",
              "IPY_MODEL_0215e5dcf53a4f7ca4fc0dd8ee15906e"
            ]
          }
        },
        "fa11818d459e4557804e5704ecfeaa71": {
          "model_module": "@jupyter-widgets/base",
          "model_name": "LayoutModel",
          "state": {
            "_view_name": "LayoutView",
            "grid_template_rows": null,
            "right": null,
            "justify_content": null,
            "_view_module": "@jupyter-widgets/base",
            "overflow": null,
            "_model_module_version": "1.2.0",
            "_view_count": null,
            "flex_flow": null,
            "width": null,
            "min_width": null,
            "border": null,
            "align_items": null,
            "bottom": null,
            "_model_module": "@jupyter-widgets/base",
            "top": null,
            "grid_column": null,
            "overflow_y": null,
            "overflow_x": null,
            "grid_auto_flow": null,
            "grid_area": null,
            "grid_template_columns": null,
            "flex": null,
            "_model_name": "LayoutModel",
            "justify_items": null,
            "grid_row": null,
            "max_height": null,
            "align_content": null,
            "visibility": null,
            "align_self": null,
            "height": null,
            "min_height": null,
            "padding": null,
            "grid_auto_rows": null,
            "grid_gap": null,
            "max_width": null,
            "order": null,
            "_view_module_version": "1.2.0",
            "grid_template_areas": null,
            "object_position": null,
            "object_fit": null,
            "grid_auto_columns": null,
            "margin": null,
            "display": null,
            "left": null
          }
        },
        "782978b961d04f18908dae605db98e61": {
          "model_module": "@jupyter-widgets/controls",
          "model_name": "FloatProgressModel",
          "state": {
            "_view_name": "ProgressView",
            "style": "IPY_MODEL_80cd5b23a511405ea131b5321aa9987a",
            "_dom_classes": [],
            "description": "fit: 100%",
            "_model_name": "FloatProgressModel",
            "bar_style": "success",
            "max": 44061,
            "_view_module": "@jupyter-widgets/controls",
            "_model_module_version": "1.5.0",
            "value": 44061,
            "_view_count": null,
            "_view_module_version": "1.5.0",
            "orientation": "horizontal",
            "min": 0,
            "description_tooltip": null,
            "_model_module": "@jupyter-widgets/controls",
            "layout": "IPY_MODEL_c60366aa81834097820f6d9e7a146190"
          }
        },
        "0215e5dcf53a4f7ca4fc0dd8ee15906e": {
          "model_module": "@jupyter-widgets/controls",
          "model_name": "HTMLModel",
          "state": {
            "_view_name": "HTMLView",
            "style": "IPY_MODEL_86b46ee099e2499cbc0f07595e175e61",
            "_dom_classes": [],
            "description": "",
            "_model_name": "HTMLModel",
            "placeholder": "​",
            "_view_module": "@jupyter-widgets/controls",
            "_model_module_version": "1.5.0",
            "value": " 44061/44061 [00:33&lt;00:00, 1313.47it/s]",
            "_view_count": null,
            "_view_module_version": "1.5.0",
            "description_tooltip": null,
            "_model_module": "@jupyter-widgets/controls",
            "layout": "IPY_MODEL_14ef0306cce143ada38d865ba06268a6"
          }
        },
        "80cd5b23a511405ea131b5321aa9987a": {
          "model_module": "@jupyter-widgets/controls",
          "model_name": "ProgressStyleModel",
          "state": {
            "_view_name": "StyleView",
            "_model_name": "ProgressStyleModel",
            "description_width": "initial",
            "_view_module": "@jupyter-widgets/base",
            "_model_module_version": "1.5.0",
            "_view_count": null,
            "_view_module_version": "1.2.0",
            "bar_color": null,
            "_model_module": "@jupyter-widgets/controls"
          }
        },
        "c60366aa81834097820f6d9e7a146190": {
          "model_module": "@jupyter-widgets/base",
          "model_name": "LayoutModel",
          "state": {
            "_view_name": "LayoutView",
            "grid_template_rows": null,
            "right": null,
            "justify_content": null,
            "_view_module": "@jupyter-widgets/base",
            "overflow": null,
            "_model_module_version": "1.2.0",
            "_view_count": null,
            "flex_flow": null,
            "width": null,
            "min_width": null,
            "border": null,
            "align_items": null,
            "bottom": null,
            "_model_module": "@jupyter-widgets/base",
            "top": null,
            "grid_column": null,
            "overflow_y": null,
            "overflow_x": null,
            "grid_auto_flow": null,
            "grid_area": null,
            "grid_template_columns": null,
            "flex": null,
            "_model_name": "LayoutModel",
            "justify_items": null,
            "grid_row": null,
            "max_height": null,
            "align_content": null,
            "visibility": null,
            "align_self": null,
            "height": null,
            "min_height": null,
            "padding": null,
            "grid_auto_rows": null,
            "grid_gap": null,
            "max_width": null,
            "order": null,
            "_view_module_version": "1.2.0",
            "grid_template_areas": null,
            "object_position": null,
            "object_fit": null,
            "grid_auto_columns": null,
            "margin": null,
            "display": null,
            "left": null
          }
        },
        "86b46ee099e2499cbc0f07595e175e61": {
          "model_module": "@jupyter-widgets/controls",
          "model_name": "DescriptionStyleModel",
          "state": {
            "_view_name": "StyleView",
            "_model_name": "DescriptionStyleModel",
            "description_width": "",
            "_view_module": "@jupyter-widgets/base",
            "_model_module_version": "1.5.0",
            "_view_count": null,
            "_view_module_version": "1.2.0",
            "_model_module": "@jupyter-widgets/controls"
          }
        },
        "14ef0306cce143ada38d865ba06268a6": {
          "model_module": "@jupyter-widgets/base",
          "model_name": "LayoutModel",
          "state": {
            "_view_name": "LayoutView",
            "grid_template_rows": null,
            "right": null,
            "justify_content": null,
            "_view_module": "@jupyter-widgets/base",
            "overflow": null,
            "_model_module_version": "1.2.0",
            "_view_count": null,
            "flex_flow": null,
            "width": null,
            "min_width": null,
            "border": null,
            "align_items": null,
            "bottom": null,
            "_model_module": "@jupyter-widgets/base",
            "top": null,
            "grid_column": null,
            "overflow_y": null,
            "overflow_x": null,
            "grid_auto_flow": null,
            "grid_area": null,
            "grid_template_columns": null,
            "flex": null,
            "_model_name": "LayoutModel",
            "justify_items": null,
            "grid_row": null,
            "max_height": null,
            "align_content": null,
            "visibility": null,
            "align_self": null,
            "height": null,
            "min_height": null,
            "padding": null,
            "grid_auto_rows": null,
            "grid_gap": null,
            "max_width": null,
            "order": null,
            "_view_module_version": "1.2.0",
            "grid_template_areas": null,
            "object_position": null,
            "object_fit": null,
            "grid_auto_columns": null,
            "margin": null,
            "display": null,
            "left": null
          }
        },
        "6cbe37ca1c314c5296d6ee04db499176": {
          "model_module": "@jupyter-widgets/controls",
          "model_name": "HBoxModel",
          "state": {
            "_view_name": "HBoxView",
            "_dom_classes": [],
            "_model_name": "HBoxModel",
            "_view_module": "@jupyter-widgets/controls",
            "_model_module_version": "1.5.0",
            "_view_count": null,
            "_view_module_version": "1.5.0",
            "box_style": "",
            "layout": "IPY_MODEL_2b9d5d935160411da86d6281421ab83c",
            "_model_module": "@jupyter-widgets/controls",
            "children": [
              "IPY_MODEL_fc50536408444f04b42e93d1ad973fcb",
              "IPY_MODEL_0d4bf2ff8f784240b5931ec9e00ad93a"
            ]
          }
        },
        "2b9d5d935160411da86d6281421ab83c": {
          "model_module": "@jupyter-widgets/base",
          "model_name": "LayoutModel",
          "state": {
            "_view_name": "LayoutView",
            "grid_template_rows": null,
            "right": null,
            "justify_content": null,
            "_view_module": "@jupyter-widgets/base",
            "overflow": null,
            "_model_module_version": "1.2.0",
            "_view_count": null,
            "flex_flow": null,
            "width": null,
            "min_width": null,
            "border": null,
            "align_items": null,
            "bottom": null,
            "_model_module": "@jupyter-widgets/base",
            "top": null,
            "grid_column": null,
            "overflow_y": null,
            "overflow_x": null,
            "grid_auto_flow": null,
            "grid_area": null,
            "grid_template_columns": null,
            "flex": null,
            "_model_name": "LayoutModel",
            "justify_items": null,
            "grid_row": null,
            "max_height": null,
            "align_content": null,
            "visibility": null,
            "align_self": null,
            "height": null,
            "min_height": null,
            "padding": null,
            "grid_auto_rows": null,
            "grid_gap": null,
            "max_width": null,
            "order": null,
            "_view_module_version": "1.2.0",
            "grid_template_areas": null,
            "object_position": null,
            "object_fit": null,
            "grid_auto_columns": null,
            "margin": null,
            "display": null,
            "left": null
          }
        },
        "fc50536408444f04b42e93d1ad973fcb": {
          "model_module": "@jupyter-widgets/controls",
          "model_name": "FloatProgressModel",
          "state": {
            "_view_name": "ProgressView",
            "style": "IPY_MODEL_ecd6df9aa6e540a28153a49b9e5a22e4",
            "_dom_classes": [],
            "description": "fit: 100%",
            "_model_name": "FloatProgressModel",
            "bar_style": "success",
            "max": 44061,
            "_view_module": "@jupyter-widgets/controls",
            "_model_module_version": "1.5.0",
            "value": 44061,
            "_view_count": null,
            "_view_module_version": "1.5.0",
            "orientation": "horizontal",
            "min": 0,
            "description_tooltip": null,
            "_model_module": "@jupyter-widgets/controls",
            "layout": "IPY_MODEL_11e08770af3b4875ae991749629fd42e"
          }
        },
        "0d4bf2ff8f784240b5931ec9e00ad93a": {
          "model_module": "@jupyter-widgets/controls",
          "model_name": "HTMLModel",
          "state": {
            "_view_name": "HTMLView",
            "style": "IPY_MODEL_7fb6523156764e3887a4e73c4fc515ef",
            "_dom_classes": [],
            "description": "",
            "_model_name": "HTMLModel",
            "placeholder": "​",
            "_view_module": "@jupyter-widgets/controls",
            "_model_module_version": "1.5.0",
            "value": " 44061/44061 [00:28&lt;00:00, 1531.13it/s]",
            "_view_count": null,
            "_view_module_version": "1.5.0",
            "description_tooltip": null,
            "_model_module": "@jupyter-widgets/controls",
            "layout": "IPY_MODEL_c7c79a1b71e54d949483006d141d32e0"
          }
        },
        "ecd6df9aa6e540a28153a49b9e5a22e4": {
          "model_module": "@jupyter-widgets/controls",
          "model_name": "ProgressStyleModel",
          "state": {
            "_view_name": "StyleView",
            "_model_name": "ProgressStyleModel",
            "description_width": "initial",
            "_view_module": "@jupyter-widgets/base",
            "_model_module_version": "1.5.0",
            "_view_count": null,
            "_view_module_version": "1.2.0",
            "bar_color": null,
            "_model_module": "@jupyter-widgets/controls"
          }
        },
        "11e08770af3b4875ae991749629fd42e": {
          "model_module": "@jupyter-widgets/base",
          "model_name": "LayoutModel",
          "state": {
            "_view_name": "LayoutView",
            "grid_template_rows": null,
            "right": null,
            "justify_content": null,
            "_view_module": "@jupyter-widgets/base",
            "overflow": null,
            "_model_module_version": "1.2.0",
            "_view_count": null,
            "flex_flow": null,
            "width": null,
            "min_width": null,
            "border": null,
            "align_items": null,
            "bottom": null,
            "_model_module": "@jupyter-widgets/base",
            "top": null,
            "grid_column": null,
            "overflow_y": null,
            "overflow_x": null,
            "grid_auto_flow": null,
            "grid_area": null,
            "grid_template_columns": null,
            "flex": null,
            "_model_name": "LayoutModel",
            "justify_items": null,
            "grid_row": null,
            "max_height": null,
            "align_content": null,
            "visibility": null,
            "align_self": null,
            "height": null,
            "min_height": null,
            "padding": null,
            "grid_auto_rows": null,
            "grid_gap": null,
            "max_width": null,
            "order": null,
            "_view_module_version": "1.2.0",
            "grid_template_areas": null,
            "object_position": null,
            "object_fit": null,
            "grid_auto_columns": null,
            "margin": null,
            "display": null,
            "left": null
          }
        },
        "7fb6523156764e3887a4e73c4fc515ef": {
          "model_module": "@jupyter-widgets/controls",
          "model_name": "DescriptionStyleModel",
          "state": {
            "_view_name": "StyleView",
            "_model_name": "DescriptionStyleModel",
            "description_width": "",
            "_view_module": "@jupyter-widgets/base",
            "_model_module_version": "1.5.0",
            "_view_count": null,
            "_view_module_version": "1.2.0",
            "_model_module": "@jupyter-widgets/controls"
          }
        },
        "c7c79a1b71e54d949483006d141d32e0": {
          "model_module": "@jupyter-widgets/base",
          "model_name": "LayoutModel",
          "state": {
            "_view_name": "LayoutView",
            "grid_template_rows": null,
            "right": null,
            "justify_content": null,
            "_view_module": "@jupyter-widgets/base",
            "overflow": null,
            "_model_module_version": "1.2.0",
            "_view_count": null,
            "flex_flow": null,
            "width": null,
            "min_width": null,
            "border": null,
            "align_items": null,
            "bottom": null,
            "_model_module": "@jupyter-widgets/base",
            "top": null,
            "grid_column": null,
            "overflow_y": null,
            "overflow_x": null,
            "grid_auto_flow": null,
            "grid_area": null,
            "grid_template_columns": null,
            "flex": null,
            "_model_name": "LayoutModel",
            "justify_items": null,
            "grid_row": null,
            "max_height": null,
            "align_content": null,
            "visibility": null,
            "align_self": null,
            "height": null,
            "min_height": null,
            "padding": null,
            "grid_auto_rows": null,
            "grid_gap": null,
            "max_width": null,
            "order": null,
            "_view_module_version": "1.2.0",
            "grid_template_areas": null,
            "object_position": null,
            "object_fit": null,
            "grid_auto_columns": null,
            "margin": null,
            "display": null,
            "left": null
          }
        },
        "503055e2b9234693a3f50ef27e01ec0a": {
          "model_module": "@jupyter-widgets/controls",
          "model_name": "HBoxModel",
          "state": {
            "_view_name": "HBoxView",
            "_dom_classes": [],
            "_model_name": "HBoxModel",
            "_view_module": "@jupyter-widgets/controls",
            "_model_module_version": "1.5.0",
            "_view_count": null,
            "_view_module_version": "1.5.0",
            "box_style": "",
            "layout": "IPY_MODEL_77237e51edc6469d9af41435e24088b5",
            "_model_module": "@jupyter-widgets/controls",
            "children": [
              "IPY_MODEL_a16ba0cca36a431cb1339b4fefc7c976",
              "IPY_MODEL_55ff96387eb64a75908c0a5ea4e2d181"
            ]
          }
        },
        "77237e51edc6469d9af41435e24088b5": {
          "model_module": "@jupyter-widgets/base",
          "model_name": "LayoutModel",
          "state": {
            "_view_name": "LayoutView",
            "grid_template_rows": null,
            "right": null,
            "justify_content": null,
            "_view_module": "@jupyter-widgets/base",
            "overflow": null,
            "_model_module_version": "1.2.0",
            "_view_count": null,
            "flex_flow": null,
            "width": null,
            "min_width": null,
            "border": null,
            "align_items": null,
            "bottom": null,
            "_model_module": "@jupyter-widgets/base",
            "top": null,
            "grid_column": null,
            "overflow_y": null,
            "overflow_x": null,
            "grid_auto_flow": null,
            "grid_area": null,
            "grid_template_columns": null,
            "flex": null,
            "_model_name": "LayoutModel",
            "justify_items": null,
            "grid_row": null,
            "max_height": null,
            "align_content": null,
            "visibility": null,
            "align_self": null,
            "height": null,
            "min_height": null,
            "padding": null,
            "grid_auto_rows": null,
            "grid_gap": null,
            "max_width": null,
            "order": null,
            "_view_module_version": "1.2.0",
            "grid_template_areas": null,
            "object_position": null,
            "object_fit": null,
            "grid_auto_columns": null,
            "margin": null,
            "display": null,
            "left": null
          }
        },
        "a16ba0cca36a431cb1339b4fefc7c976": {
          "model_module": "@jupyter-widgets/controls",
          "model_name": "FloatProgressModel",
          "state": {
            "_view_name": "ProgressView",
            "style": "IPY_MODEL_3b9f0b6775ca4be38972005c8a3cd08c",
            "_dom_classes": [],
            "description": "fit: 100%",
            "_model_name": "FloatProgressModel",
            "bar_style": "success",
            "max": 44061,
            "_view_module": "@jupyter-widgets/controls",
            "_model_module_version": "1.5.0",
            "value": 44061,
            "_view_count": null,
            "_view_module_version": "1.5.0",
            "orientation": "horizontal",
            "min": 0,
            "description_tooltip": null,
            "_model_module": "@jupyter-widgets/controls",
            "layout": "IPY_MODEL_53bc2c1fc18d416a8d6b5a7c5adca904"
          }
        },
        "55ff96387eb64a75908c0a5ea4e2d181": {
          "model_module": "@jupyter-widgets/controls",
          "model_name": "HTMLModel",
          "state": {
            "_view_name": "HTMLView",
            "style": "IPY_MODEL_60fe773caca94547a202dbbcce92bcaa",
            "_dom_classes": [],
            "description": "",
            "_model_name": "HTMLModel",
            "placeholder": "​",
            "_view_module": "@jupyter-widgets/controls",
            "_model_module_version": "1.5.0",
            "value": " 44061/44061 [00:23&lt;00:00, 1887.63it/s]",
            "_view_count": null,
            "_view_module_version": "1.5.0",
            "description_tooltip": null,
            "_model_module": "@jupyter-widgets/controls",
            "layout": "IPY_MODEL_bb88631390f344c084d558a916bf8fc8"
          }
        },
        "3b9f0b6775ca4be38972005c8a3cd08c": {
          "model_module": "@jupyter-widgets/controls",
          "model_name": "ProgressStyleModel",
          "state": {
            "_view_name": "StyleView",
            "_model_name": "ProgressStyleModel",
            "description_width": "initial",
            "_view_module": "@jupyter-widgets/base",
            "_model_module_version": "1.5.0",
            "_view_count": null,
            "_view_module_version": "1.2.0",
            "bar_color": null,
            "_model_module": "@jupyter-widgets/controls"
          }
        },
        "53bc2c1fc18d416a8d6b5a7c5adca904": {
          "model_module": "@jupyter-widgets/base",
          "model_name": "LayoutModel",
          "state": {
            "_view_name": "LayoutView",
            "grid_template_rows": null,
            "right": null,
            "justify_content": null,
            "_view_module": "@jupyter-widgets/base",
            "overflow": null,
            "_model_module_version": "1.2.0",
            "_view_count": null,
            "flex_flow": null,
            "width": null,
            "min_width": null,
            "border": null,
            "align_items": null,
            "bottom": null,
            "_model_module": "@jupyter-widgets/base",
            "top": null,
            "grid_column": null,
            "overflow_y": null,
            "overflow_x": null,
            "grid_auto_flow": null,
            "grid_area": null,
            "grid_template_columns": null,
            "flex": null,
            "_model_name": "LayoutModel",
            "justify_items": null,
            "grid_row": null,
            "max_height": null,
            "align_content": null,
            "visibility": null,
            "align_self": null,
            "height": null,
            "min_height": null,
            "padding": null,
            "grid_auto_rows": null,
            "grid_gap": null,
            "max_width": null,
            "order": null,
            "_view_module_version": "1.2.0",
            "grid_template_areas": null,
            "object_position": null,
            "object_fit": null,
            "grid_auto_columns": null,
            "margin": null,
            "display": null,
            "left": null
          }
        },
        "60fe773caca94547a202dbbcce92bcaa": {
          "model_module": "@jupyter-widgets/controls",
          "model_name": "DescriptionStyleModel",
          "state": {
            "_view_name": "StyleView",
            "_model_name": "DescriptionStyleModel",
            "description_width": "",
            "_view_module": "@jupyter-widgets/base",
            "_model_module_version": "1.5.0",
            "_view_count": null,
            "_view_module_version": "1.2.0",
            "_model_module": "@jupyter-widgets/controls"
          }
        },
        "bb88631390f344c084d558a916bf8fc8": {
          "model_module": "@jupyter-widgets/base",
          "model_name": "LayoutModel",
          "state": {
            "_view_name": "LayoutView",
            "grid_template_rows": null,
            "right": null,
            "justify_content": null,
            "_view_module": "@jupyter-widgets/base",
            "overflow": null,
            "_model_module_version": "1.2.0",
            "_view_count": null,
            "flex_flow": null,
            "width": null,
            "min_width": null,
            "border": null,
            "align_items": null,
            "bottom": null,
            "_model_module": "@jupyter-widgets/base",
            "top": null,
            "grid_column": null,
            "overflow_y": null,
            "overflow_x": null,
            "grid_auto_flow": null,
            "grid_area": null,
            "grid_template_columns": null,
            "flex": null,
            "_model_name": "LayoutModel",
            "justify_items": null,
            "grid_row": null,
            "max_height": null,
            "align_content": null,
            "visibility": null,
            "align_self": null,
            "height": null,
            "min_height": null,
            "padding": null,
            "grid_auto_rows": null,
            "grid_gap": null,
            "max_width": null,
            "order": null,
            "_view_module_version": "1.2.0",
            "grid_template_areas": null,
            "object_position": null,
            "object_fit": null,
            "grid_auto_columns": null,
            "margin": null,
            "display": null,
            "left": null
          }
        },
        "63441232323f4270b1a3c91aa413ddd7": {
          "model_module": "@jupyter-widgets/controls",
          "model_name": "HBoxModel",
          "state": {
            "_view_name": "HBoxView",
            "_dom_classes": [],
            "_model_name": "HBoxModel",
            "_view_module": "@jupyter-widgets/controls",
            "_model_module_version": "1.5.0",
            "_view_count": null,
            "_view_module_version": "1.5.0",
            "box_style": "",
            "layout": "IPY_MODEL_5135c64ea60c482785a02a588ede2581",
            "_model_module": "@jupyter-widgets/controls",
            "children": [
              "IPY_MODEL_934d1b7083f04ad28034ed5da900b66b",
              "IPY_MODEL_bee270a8f0084366abcf9ed45762b60c"
            ]
          }
        },
        "5135c64ea60c482785a02a588ede2581": {
          "model_module": "@jupyter-widgets/base",
          "model_name": "LayoutModel",
          "state": {
            "_view_name": "LayoutView",
            "grid_template_rows": null,
            "right": null,
            "justify_content": null,
            "_view_module": "@jupyter-widgets/base",
            "overflow": null,
            "_model_module_version": "1.2.0",
            "_view_count": null,
            "flex_flow": null,
            "width": null,
            "min_width": null,
            "border": null,
            "align_items": null,
            "bottom": null,
            "_model_module": "@jupyter-widgets/base",
            "top": null,
            "grid_column": null,
            "overflow_y": null,
            "overflow_x": null,
            "grid_auto_flow": null,
            "grid_area": null,
            "grid_template_columns": null,
            "flex": null,
            "_model_name": "LayoutModel",
            "justify_items": null,
            "grid_row": null,
            "max_height": null,
            "align_content": null,
            "visibility": null,
            "align_self": null,
            "height": null,
            "min_height": null,
            "padding": null,
            "grid_auto_rows": null,
            "grid_gap": null,
            "max_width": null,
            "order": null,
            "_view_module_version": "1.2.0",
            "grid_template_areas": null,
            "object_position": null,
            "object_fit": null,
            "grid_auto_columns": null,
            "margin": null,
            "display": null,
            "left": null
          }
        },
        "934d1b7083f04ad28034ed5da900b66b": {
          "model_module": "@jupyter-widgets/controls",
          "model_name": "FloatProgressModel",
          "state": {
            "_view_name": "ProgressView",
            "style": "IPY_MODEL_6c972a852648406f803a7878d82cef44",
            "_dom_classes": [],
            "description": "fit: 100%",
            "_model_name": "FloatProgressModel",
            "bar_style": "success",
            "max": 44061,
            "_view_module": "@jupyter-widgets/controls",
            "_model_module_version": "1.5.0",
            "value": 44061,
            "_view_count": null,
            "_view_module_version": "1.5.0",
            "orientation": "horizontal",
            "min": 0,
            "description_tooltip": null,
            "_model_module": "@jupyter-widgets/controls",
            "layout": "IPY_MODEL_c3b5808c24cd4d30ad981e0ea0f6ec70"
          }
        },
        "bee270a8f0084366abcf9ed45762b60c": {
          "model_module": "@jupyter-widgets/controls",
          "model_name": "HTMLModel",
          "state": {
            "_view_name": "HTMLView",
            "style": "IPY_MODEL_09b9e68024b1440793d974f8725aa588",
            "_dom_classes": [],
            "description": "",
            "_model_name": "HTMLModel",
            "placeholder": "​",
            "_view_module": "@jupyter-widgets/controls",
            "_model_module_version": "1.5.0",
            "value": " 44061/44061 [00:17&lt;00:00, 2546.01it/s]",
            "_view_count": null,
            "_view_module_version": "1.5.0",
            "description_tooltip": null,
            "_model_module": "@jupyter-widgets/controls",
            "layout": "IPY_MODEL_520078482a08487fa4175c7054fbb421"
          }
        },
        "6c972a852648406f803a7878d82cef44": {
          "model_module": "@jupyter-widgets/controls",
          "model_name": "ProgressStyleModel",
          "state": {
            "_view_name": "StyleView",
            "_model_name": "ProgressStyleModel",
            "description_width": "initial",
            "_view_module": "@jupyter-widgets/base",
            "_model_module_version": "1.5.0",
            "_view_count": null,
            "_view_module_version": "1.2.0",
            "bar_color": null,
            "_model_module": "@jupyter-widgets/controls"
          }
        },
        "c3b5808c24cd4d30ad981e0ea0f6ec70": {
          "model_module": "@jupyter-widgets/base",
          "model_name": "LayoutModel",
          "state": {
            "_view_name": "LayoutView",
            "grid_template_rows": null,
            "right": null,
            "justify_content": null,
            "_view_module": "@jupyter-widgets/base",
            "overflow": null,
            "_model_module_version": "1.2.0",
            "_view_count": null,
            "flex_flow": null,
            "width": null,
            "min_width": null,
            "border": null,
            "align_items": null,
            "bottom": null,
            "_model_module": "@jupyter-widgets/base",
            "top": null,
            "grid_column": null,
            "overflow_y": null,
            "overflow_x": null,
            "grid_auto_flow": null,
            "grid_area": null,
            "grid_template_columns": null,
            "flex": null,
            "_model_name": "LayoutModel",
            "justify_items": null,
            "grid_row": null,
            "max_height": null,
            "align_content": null,
            "visibility": null,
            "align_self": null,
            "height": null,
            "min_height": null,
            "padding": null,
            "grid_auto_rows": null,
            "grid_gap": null,
            "max_width": null,
            "order": null,
            "_view_module_version": "1.2.0",
            "grid_template_areas": null,
            "object_position": null,
            "object_fit": null,
            "grid_auto_columns": null,
            "margin": null,
            "display": null,
            "left": null
          }
        },
        "09b9e68024b1440793d974f8725aa588": {
          "model_module": "@jupyter-widgets/controls",
          "model_name": "DescriptionStyleModel",
          "state": {
            "_view_name": "StyleView",
            "_model_name": "DescriptionStyleModel",
            "description_width": "",
            "_view_module": "@jupyter-widgets/base",
            "_model_module_version": "1.5.0",
            "_view_count": null,
            "_view_module_version": "1.2.0",
            "_model_module": "@jupyter-widgets/controls"
          }
        },
        "520078482a08487fa4175c7054fbb421": {
          "model_module": "@jupyter-widgets/base",
          "model_name": "LayoutModel",
          "state": {
            "_view_name": "LayoutView",
            "grid_template_rows": null,
            "right": null,
            "justify_content": null,
            "_view_module": "@jupyter-widgets/base",
            "overflow": null,
            "_model_module_version": "1.2.0",
            "_view_count": null,
            "flex_flow": null,
            "width": null,
            "min_width": null,
            "border": null,
            "align_items": null,
            "bottom": null,
            "_model_module": "@jupyter-widgets/base",
            "top": null,
            "grid_column": null,
            "overflow_y": null,
            "overflow_x": null,
            "grid_auto_flow": null,
            "grid_area": null,
            "grid_template_columns": null,
            "flex": null,
            "_model_name": "LayoutModel",
            "justify_items": null,
            "grid_row": null,
            "max_height": null,
            "align_content": null,
            "visibility": null,
            "align_self": null,
            "height": null,
            "min_height": null,
            "padding": null,
            "grid_auto_rows": null,
            "grid_gap": null,
            "max_width": null,
            "order": null,
            "_view_module_version": "1.2.0",
            "grid_template_areas": null,
            "object_position": null,
            "object_fit": null,
            "grid_auto_columns": null,
            "margin": null,
            "display": null,
            "left": null
          }
        },
        "b4903449bc9641f8875d081936822325": {
          "model_module": "@jupyter-widgets/controls",
          "model_name": "HBoxModel",
          "state": {
            "_view_name": "HBoxView",
            "_dom_classes": [],
            "_model_name": "HBoxModel",
            "_view_module": "@jupyter-widgets/controls",
            "_model_module_version": "1.5.0",
            "_view_count": null,
            "_view_module_version": "1.5.0",
            "box_style": "",
            "layout": "IPY_MODEL_764bd696a16746ddaf3217f96865aacf",
            "_model_module": "@jupyter-widgets/controls",
            "children": [
              "IPY_MODEL_2ae8c46162224ccfa5084885e5b5a24b",
              "IPY_MODEL_da0aaf8091b64afeb154e0e9b32f7203"
            ]
          }
        },
        "764bd696a16746ddaf3217f96865aacf": {
          "model_module": "@jupyter-widgets/base",
          "model_name": "LayoutModel",
          "state": {
            "_view_name": "LayoutView",
            "grid_template_rows": null,
            "right": null,
            "justify_content": null,
            "_view_module": "@jupyter-widgets/base",
            "overflow": null,
            "_model_module_version": "1.2.0",
            "_view_count": null,
            "flex_flow": null,
            "width": null,
            "min_width": null,
            "border": null,
            "align_items": null,
            "bottom": null,
            "_model_module": "@jupyter-widgets/base",
            "top": null,
            "grid_column": null,
            "overflow_y": null,
            "overflow_x": null,
            "grid_auto_flow": null,
            "grid_area": null,
            "grid_template_columns": null,
            "flex": null,
            "_model_name": "LayoutModel",
            "justify_items": null,
            "grid_row": null,
            "max_height": null,
            "align_content": null,
            "visibility": null,
            "align_self": null,
            "height": null,
            "min_height": null,
            "padding": null,
            "grid_auto_rows": null,
            "grid_gap": null,
            "max_width": null,
            "order": null,
            "_view_module_version": "1.2.0",
            "grid_template_areas": null,
            "object_position": null,
            "object_fit": null,
            "grid_auto_columns": null,
            "margin": null,
            "display": null,
            "left": null
          }
        },
        "2ae8c46162224ccfa5084885e5b5a24b": {
          "model_module": "@jupyter-widgets/controls",
          "model_name": "VBoxModel",
          "state": {
            "_view_name": "VBoxView",
            "_dom_classes": [],
            "_model_name": "VBoxModel",
            "_view_module": "@jupyter-widgets/controls",
            "_model_module_version": "1.5.0",
            "_view_count": null,
            "_view_module_version": "1.5.0",
            "box_style": "",
            "layout": "IPY_MODEL_880b0ccc5bef49d5b69c043d2e16d444",
            "_model_module": "@jupyter-widgets/controls",
            "children": [
              "IPY_MODEL_34f8d4fa438e4367ac688b9ec3108fa2",
              "IPY_MODEL_4144dea22d5e48ec8ed0c3356fd60e40"
            ]
          }
        },
        "da0aaf8091b64afeb154e0e9b32f7203": {
          "model_module": "@jupyter-widgets/controls",
          "model_name": "VBoxModel",
          "state": {
            "_view_name": "VBoxView",
            "_dom_classes": [],
            "_model_name": "VBoxModel",
            "_view_module": "@jupyter-widgets/controls",
            "_model_module_version": "1.5.0",
            "_view_count": null,
            "_view_module_version": "1.5.0",
            "box_style": "",
            "layout": "IPY_MODEL_ffb04be05f934ff1900975001a17423a",
            "_model_module": "@jupyter-widgets/controls",
            "children": [
              "IPY_MODEL_00a73ac74c344b8093b4beefd2658ab4",
              "IPY_MODEL_40909fe695714e388dd0d0b64e30c7d3"
            ]
          }
        },
        "880b0ccc5bef49d5b69c043d2e16d444": {
          "model_module": "@jupyter-widgets/base",
          "model_name": "LayoutModel",
          "state": {
            "_view_name": "LayoutView",
            "grid_template_rows": null,
            "right": null,
            "justify_content": null,
            "_view_module": "@jupyter-widgets/base",
            "overflow": null,
            "_model_module_version": "1.2.0",
            "_view_count": null,
            "flex_flow": null,
            "width": "25%",
            "min_width": null,
            "border": null,
            "align_items": null,
            "bottom": null,
            "_model_module": "@jupyter-widgets/base",
            "top": null,
            "grid_column": null,
            "overflow_y": null,
            "overflow_x": null,
            "grid_auto_flow": null,
            "grid_area": null,
            "grid_template_columns": null,
            "flex": null,
            "_model_name": "LayoutModel",
            "justify_items": null,
            "grid_row": null,
            "max_height": null,
            "align_content": null,
            "visibility": null,
            "align_self": null,
            "height": null,
            "min_height": null,
            "padding": null,
            "grid_auto_rows": null,
            "grid_gap": null,
            "max_width": null,
            "order": null,
            "_view_module_version": "1.2.0",
            "grid_template_areas": null,
            "object_position": null,
            "object_fit": null,
            "grid_auto_columns": null,
            "margin": null,
            "display": null,
            "left": null
          }
        },
        "34f8d4fa438e4367ac688b9ec3108fa2": {
          "model_module": "@jupyter-widgets/controls",
          "model_name": "ButtonModel",
          "state": {
            "_view_name": "ButtonView",
            "style": "IPY_MODEL_df0f3e2a3ea94852bb03b861dffed87c",
            "_dom_classes": [],
            "description": "generate next token",
            "_model_name": "ButtonModel",
            "button_style": "",
            "_view_module": "@jupyter-widgets/controls",
            "_model_module_version": "1.5.0",
            "tooltip": "",
            "_view_count": null,
            "disabled": false,
            "_view_module_version": "1.5.0",
            "layout": "IPY_MODEL_38b8c4af5335442281c7e59e5e1c8c15",
            "_model_module": "@jupyter-widgets/controls",
            "icon": ""
          }
        },
        "4144dea22d5e48ec8ed0c3356fd60e40": {
          "model_module": "@jupyter-widgets/output",
          "model_name": "OutputModel",
          "state": {
            "_view_name": "OutputView",
            "msg_id": "",
            "_dom_classes": [],
            "_model_name": "OutputModel",
            "outputs": [
              {
                "output_type": "display_data",
                "metadata": {
                  "tags": []
                },
                "text/html": "<table style='width:100%;border:1px solid'>\n<thead>\n<tr><th>token  </th><th style=\"text-align: right;\">  probability</th></tr>\n</thead>\n<tbody>\n<tr><td>to     </td><td style=\"text-align: right;\">    0.295681 </td></tr>\n<tr><td>you    </td><td style=\"text-align: right;\">    0.0844804</td></tr>\n<tr><td>that   </td><td style=\"text-align: right;\">    0.0844804</td></tr>\n<tr><td>not    </td><td style=\"text-align: right;\">    0.0633603</td></tr>\n<tr><td>.      </td><td style=\"text-align: right;\">    0.0633603</td></tr>\n<tr><td>by     </td><td style=\"text-align: right;\">    0.0422403</td></tr>\n<tr><td>!      </td><td style=\"text-align: right;\">    0.0422403</td></tr>\n<tr><td>       </td><td style=\"text-align: right;\">    0.0422403</td></tr>\n<tr><td>this   </td><td style=\"text-align: right;\">    0.0211202</td></tr>\n<tr><td>of     </td><td style=\"text-align: right;\">    0.0211202</td></tr>\n</tbody>\n</table>",
                "text/plain": "<IPython.core.display.HTML object>"
              }
            ],
            "_view_module": "@jupyter-widgets/output",
            "_model_module_version": "1.0.0",
            "_view_count": null,
            "_view_module_version": "1.0.0",
            "layout": "IPY_MODEL_880b0ccc5bef49d5b69c043d2e16d444",
            "_model_module": "@jupyter-widgets/output"
          }
        },
        "ffb04be05f934ff1900975001a17423a": {
          "model_module": "@jupyter-widgets/base",
          "model_name": "LayoutModel",
          "state": {
            "_view_name": "LayoutView",
            "grid_template_rows": null,
            "right": null,
            "justify_content": null,
            "_view_module": "@jupyter-widgets/base",
            "overflow": null,
            "_model_module_version": "1.2.0",
            "_view_count": null,
            "flex_flow": null,
            "width": null,
            "min_width": null,
            "border": null,
            "align_items": null,
            "bottom": null,
            "_model_module": "@jupyter-widgets/base",
            "top": null,
            "grid_column": null,
            "overflow_y": null,
            "overflow_x": null,
            "grid_auto_flow": null,
            "grid_area": null,
            "grid_template_columns": null,
            "flex": null,
            "_model_name": "LayoutModel",
            "justify_items": null,
            "grid_row": null,
            "max_height": null,
            "align_content": null,
            "visibility": null,
            "align_self": null,
            "height": null,
            "min_height": null,
            "padding": null,
            "grid_auto_rows": null,
            "grid_gap": null,
            "max_width": null,
            "order": null,
            "_view_module_version": "1.2.0",
            "grid_template_areas": null,
            "object_position": null,
            "object_fit": null,
            "grid_auto_columns": null,
            "margin": null,
            "display": null,
            "left": null
          }
        },
        "00a73ac74c344b8093b4beefd2658ab4": {
          "model_module": "@jupyter-widgets/output",
          "model_name": "OutputModel",
          "state": {
            "_view_name": "OutputView",
            "msg_id": "",
            "_dom_classes": [],
            "_model_name": "OutputModel",
            "outputs": [
              {
                "output_type": "display_data",
                "metadata": {
                  "tags": []
                },
                "text/html": "I <span style='border: 2px solid green;'>promise</span>",
                "text/plain": "<IPython.core.display.HTML object>"
              }
            ],
            "_view_module": "@jupyter-widgets/output",
            "_model_module_version": "1.0.0",
            "_view_count": null,
            "_view_module_version": "1.0.0",
            "layout": "IPY_MODEL_f95d158e9f5c4e7a8daddba5e52a4cd7",
            "_model_module": "@jupyter-widgets/output"
          }
        },
        "40909fe695714e388dd0d0b64e30c7d3": {
          "model_module": "@jupyter-widgets/output",
          "model_name": "OutputModel",
          "state": {
            "_view_name": "OutputView",
            "msg_id": "",
            "_dom_classes": [],
            "_model_name": "OutputModel",
            "outputs": [
              {
                "output_type": "stream",
                "metadata": {
                  "tags": []
                },
                "text": "count(\"promise\") = 47\n",
                "stream": "stdout"
              }
            ],
            "_view_module": "@jupyter-widgets/output",
            "_model_module_version": "1.0.0",
            "_view_count": null,
            "_view_module_version": "1.0.0",
            "layout": "IPY_MODEL_640e18c9675042d99a5e09a5525626b2",
            "_model_module": "@jupyter-widgets/output"
          }
        },
        "df0f3e2a3ea94852bb03b861dffed87c": {
          "model_module": "@jupyter-widgets/controls",
          "model_name": "ButtonStyleModel",
          "state": {
            "_view_name": "StyleView",
            "_model_name": "ButtonStyleModel",
            "_view_module": "@jupyter-widgets/base",
            "_model_module_version": "1.5.0",
            "_view_count": null,
            "button_color": null,
            "font_weight": "",
            "_view_module_version": "1.2.0",
            "_model_module": "@jupyter-widgets/controls"
          }
        },
        "38b8c4af5335442281c7e59e5e1c8c15": {
          "model_module": "@jupyter-widgets/base",
          "model_name": "LayoutModel",
          "state": {
            "_view_name": "LayoutView",
            "grid_template_rows": null,
            "right": null,
            "justify_content": null,
            "_view_module": "@jupyter-widgets/base",
            "overflow": null,
            "_model_module_version": "1.2.0",
            "_view_count": null,
            "flex_flow": null,
            "width": null,
            "min_width": null,
            "border": null,
            "align_items": null,
            "bottom": null,
            "_model_module": "@jupyter-widgets/base",
            "top": null,
            "grid_column": null,
            "overflow_y": null,
            "overflow_x": null,
            "grid_auto_flow": null,
            "grid_area": null,
            "grid_template_columns": null,
            "flex": null,
            "_model_name": "LayoutModel",
            "justify_items": null,
            "grid_row": null,
            "max_height": null,
            "align_content": null,
            "visibility": null,
            "align_self": null,
            "height": null,
            "min_height": null,
            "padding": null,
            "grid_auto_rows": null,
            "grid_gap": null,
            "max_width": null,
            "order": null,
            "_view_module_version": "1.2.0",
            "grid_template_areas": null,
            "object_position": null,
            "object_fit": null,
            "grid_auto_columns": null,
            "margin": null,
            "display": null,
            "left": null
          }
        },
        "f95d158e9f5c4e7a8daddba5e52a4cd7": {
          "model_module": "@jupyter-widgets/base",
          "model_name": "LayoutModel",
          "state": {
            "_view_name": "LayoutView",
            "grid_template_rows": null,
            "right": null,
            "justify_content": null,
            "_view_module": "@jupyter-widgets/base",
            "overflow": null,
            "_model_module_version": "1.2.0",
            "_view_count": null,
            "flex_flow": null,
            "width": null,
            "min_width": null,
            "border": null,
            "align_items": null,
            "bottom": null,
            "_model_module": "@jupyter-widgets/base",
            "top": null,
            "grid_column": null,
            "overflow_y": null,
            "overflow_x": null,
            "grid_auto_flow": null,
            "grid_area": null,
            "grid_template_columns": null,
            "flex": null,
            "_model_name": "LayoutModel",
            "justify_items": null,
            "grid_row": null,
            "max_height": null,
            "align_content": null,
            "visibility": null,
            "align_self": null,
            "height": null,
            "min_height": null,
            "padding": null,
            "grid_auto_rows": null,
            "grid_gap": null,
            "max_width": null,
            "order": null,
            "_view_module_version": "1.2.0",
            "grid_template_areas": null,
            "object_position": null,
            "object_fit": null,
            "grid_auto_columns": null,
            "margin": null,
            "display": null,
            "left": null
          }
        },
        "640e18c9675042d99a5e09a5525626b2": {
          "model_module": "@jupyter-widgets/base",
          "model_name": "LayoutModel",
          "state": {
            "_view_name": "LayoutView",
            "grid_template_rows": null,
            "right": null,
            "justify_content": null,
            "_view_module": "@jupyter-widgets/base",
            "overflow": null,
            "_model_module_version": "1.2.0",
            "_view_count": null,
            "flex_flow": null,
            "width": null,
            "min_width": null,
            "border": null,
            "align_items": null,
            "bottom": null,
            "_model_module": "@jupyter-widgets/base",
            "top": null,
            "grid_column": null,
            "overflow_y": null,
            "overflow_x": null,
            "grid_auto_flow": null,
            "grid_area": null,
            "grid_template_columns": null,
            "flex": null,
            "_model_name": "LayoutModel",
            "justify_items": null,
            "grid_row": null,
            "max_height": null,
            "align_content": null,
            "visibility": null,
            "align_self": null,
            "height": null,
            "min_height": null,
            "padding": null,
            "grid_auto_rows": null,
            "grid_gap": null,
            "max_width": null,
            "order": null,
            "_view_module_version": "1.2.0",
            "grid_template_areas": null,
            "object_position": null,
            "object_fit": null,
            "grid_auto_columns": null,
            "margin": null,
            "display": null,
            "left": null
          }
        },
        "1eb140f4a3614e83980a44035eaaab90": {
          "model_module": "@jupyter-widgets/controls",
          "model_name": "HBoxModel",
          "state": {
            "_view_name": "HBoxView",
            "_dom_classes": [],
            "_model_name": "HBoxModel",
            "_view_module": "@jupyter-widgets/controls",
            "_model_module_version": "1.5.0",
            "_view_count": null,
            "_view_module_version": "1.5.0",
            "box_style": "",
            "layout": "IPY_MODEL_becf5ccd9e3c44bbb82129a673a433f3",
            "_model_module": "@jupyter-widgets/controls",
            "children": [
              "IPY_MODEL_3420eab9f27a474ba571b26cad3b9697",
              "IPY_MODEL_c6851ac440104fd88e75153ae60708cd"
            ]
          }
        },
        "becf5ccd9e3c44bbb82129a673a433f3": {
          "model_module": "@jupyter-widgets/base",
          "model_name": "LayoutModel",
          "state": {
            "_view_name": "LayoutView",
            "grid_template_rows": null,
            "right": null,
            "justify_content": null,
            "_view_module": "@jupyter-widgets/base",
            "overflow": null,
            "_model_module_version": "1.2.0",
            "_view_count": null,
            "flex_flow": null,
            "width": null,
            "min_width": null,
            "border": null,
            "align_items": null,
            "bottom": null,
            "_model_module": "@jupyter-widgets/base",
            "top": null,
            "grid_column": null,
            "overflow_y": null,
            "overflow_x": null,
            "grid_auto_flow": null,
            "grid_area": null,
            "grid_template_columns": null,
            "flex": null,
            "_model_name": "LayoutModel",
            "justify_items": null,
            "grid_row": null,
            "max_height": null,
            "align_content": null,
            "visibility": null,
            "align_self": null,
            "height": null,
            "min_height": null,
            "padding": null,
            "grid_auto_rows": null,
            "grid_gap": null,
            "max_width": null,
            "order": null,
            "_view_module_version": "1.2.0",
            "grid_template_areas": null,
            "object_position": null,
            "object_fit": null,
            "grid_auto_columns": null,
            "margin": null,
            "display": null,
            "left": null
          }
        },
        "3420eab9f27a474ba571b26cad3b9697": {
          "model_module": "@jupyter-widgets/controls",
          "model_name": "FloatProgressModel",
          "state": {
            "_view_name": "ProgressView",
            "style": "IPY_MODEL_908df76e340f44ed9b3def18e28775cd",
            "_dom_classes": [],
            "description": "fit: 100%",
            "_model_name": "FloatProgressModel",
            "bar_style": "success",
            "max": 44061,
            "_view_module": "@jupyter-widgets/controls",
            "_model_module_version": "1.5.0",
            "value": 44061,
            "_view_count": null,
            "_view_module_version": "1.5.0",
            "orientation": "horizontal",
            "min": 0,
            "description_tooltip": null,
            "_model_module": "@jupyter-widgets/controls",
            "layout": "IPY_MODEL_215e7491ae8b49158be8f5830f6beb11"
          }
        },
        "c6851ac440104fd88e75153ae60708cd": {
          "model_module": "@jupyter-widgets/controls",
          "model_name": "HTMLModel",
          "state": {
            "_view_name": "HTMLView",
            "style": "IPY_MODEL_c5d56a2f23d54f51bd599ef3b7dd0f43",
            "_dom_classes": [],
            "description": "",
            "_model_name": "HTMLModel",
            "placeholder": "​",
            "_view_module": "@jupyter-widgets/controls",
            "_model_module_version": "1.5.0",
            "value": " 44061/44061 [00:14&lt;00:00, 3024.75it/s]",
            "_view_count": null,
            "_view_module_version": "1.5.0",
            "description_tooltip": null,
            "_model_module": "@jupyter-widgets/controls",
            "layout": "IPY_MODEL_a9be4ed2a2164b519820d60b13918f29"
          }
        },
        "908df76e340f44ed9b3def18e28775cd": {
          "model_module": "@jupyter-widgets/controls",
          "model_name": "ProgressStyleModel",
          "state": {
            "_view_name": "StyleView",
            "_model_name": "ProgressStyleModel",
            "description_width": "initial",
            "_view_module": "@jupyter-widgets/base",
            "_model_module_version": "1.5.0",
            "_view_count": null,
            "_view_module_version": "1.2.0",
            "bar_color": null,
            "_model_module": "@jupyter-widgets/controls"
          }
        },
        "215e7491ae8b49158be8f5830f6beb11": {
          "model_module": "@jupyter-widgets/base",
          "model_name": "LayoutModel",
          "state": {
            "_view_name": "LayoutView",
            "grid_template_rows": null,
            "right": null,
            "justify_content": null,
            "_view_module": "@jupyter-widgets/base",
            "overflow": null,
            "_model_module_version": "1.2.0",
            "_view_count": null,
            "flex_flow": null,
            "width": null,
            "min_width": null,
            "border": null,
            "align_items": null,
            "bottom": null,
            "_model_module": "@jupyter-widgets/base",
            "top": null,
            "grid_column": null,
            "overflow_y": null,
            "overflow_x": null,
            "grid_auto_flow": null,
            "grid_area": null,
            "grid_template_columns": null,
            "flex": null,
            "_model_name": "LayoutModel",
            "justify_items": null,
            "grid_row": null,
            "max_height": null,
            "align_content": null,
            "visibility": null,
            "align_self": null,
            "height": null,
            "min_height": null,
            "padding": null,
            "grid_auto_rows": null,
            "grid_gap": null,
            "max_width": null,
            "order": null,
            "_view_module_version": "1.2.0",
            "grid_template_areas": null,
            "object_position": null,
            "object_fit": null,
            "grid_auto_columns": null,
            "margin": null,
            "display": null,
            "left": null
          }
        },
        "c5d56a2f23d54f51bd599ef3b7dd0f43": {
          "model_module": "@jupyter-widgets/controls",
          "model_name": "DescriptionStyleModel",
          "state": {
            "_view_name": "StyleView",
            "_model_name": "DescriptionStyleModel",
            "description_width": "",
            "_view_module": "@jupyter-widgets/base",
            "_model_module_version": "1.5.0",
            "_view_count": null,
            "_view_module_version": "1.2.0",
            "_model_module": "@jupyter-widgets/controls"
          }
        },
        "a9be4ed2a2164b519820d60b13918f29": {
          "model_module": "@jupyter-widgets/base",
          "model_name": "LayoutModel",
          "state": {
            "_view_name": "LayoutView",
            "grid_template_rows": null,
            "right": null,
            "justify_content": null,
            "_view_module": "@jupyter-widgets/base",
            "overflow": null,
            "_model_module_version": "1.2.0",
            "_view_count": null,
            "flex_flow": null,
            "width": null,
            "min_width": null,
            "border": null,
            "align_items": null,
            "bottom": null,
            "_model_module": "@jupyter-widgets/base",
            "top": null,
            "grid_column": null,
            "overflow_y": null,
            "overflow_x": null,
            "grid_auto_flow": null,
            "grid_area": null,
            "grid_template_columns": null,
            "flex": null,
            "_model_name": "LayoutModel",
            "justify_items": null,
            "grid_row": null,
            "max_height": null,
            "align_content": null,
            "visibility": null,
            "align_self": null,
            "height": null,
            "min_height": null,
            "padding": null,
            "grid_auto_rows": null,
            "grid_gap": null,
            "max_width": null,
            "order": null,
            "_view_module_version": "1.2.0",
            "grid_template_areas": null,
            "object_position": null,
            "object_fit": null,
            "grid_auto_columns": null,
            "margin": null,
            "display": null,
            "left": null
          }
        },
        "a61143a0735942d0837b61ebfb27719d": {
          "model_module": "@jupyter-widgets/controls",
          "model_name": "HBoxModel",
          "state": {
            "_view_name": "HBoxView",
            "_dom_classes": [],
            "_model_name": "HBoxModel",
            "_view_module": "@jupyter-widgets/controls",
            "_model_module_version": "1.5.0",
            "_view_count": null,
            "_view_module_version": "1.5.0",
            "box_style": "",
            "layout": "IPY_MODEL_05a821690ae64d5195f46c1699c149e3",
            "_model_module": "@jupyter-widgets/controls",
            "children": [
              "IPY_MODEL_8e0599b038d34b29a32f606cca6ba4d8",
              "IPY_MODEL_0a75c7db9af3496aa710d74219172e91"
            ]
          }
        },
        "05a821690ae64d5195f46c1699c149e3": {
          "model_module": "@jupyter-widgets/base",
          "model_name": "LayoutModel",
          "state": {
            "_view_name": "LayoutView",
            "grid_template_rows": null,
            "right": null,
            "justify_content": null,
            "_view_module": "@jupyter-widgets/base",
            "overflow": null,
            "_model_module_version": "1.2.0",
            "_view_count": null,
            "flex_flow": null,
            "width": null,
            "min_width": null,
            "border": null,
            "align_items": null,
            "bottom": null,
            "_model_module": "@jupyter-widgets/base",
            "top": null,
            "grid_column": null,
            "overflow_y": null,
            "overflow_x": null,
            "grid_auto_flow": null,
            "grid_area": null,
            "grid_template_columns": null,
            "flex": null,
            "_model_name": "LayoutModel",
            "justify_items": null,
            "grid_row": null,
            "max_height": null,
            "align_content": null,
            "visibility": null,
            "align_self": null,
            "height": null,
            "min_height": null,
            "padding": null,
            "grid_auto_rows": null,
            "grid_gap": null,
            "max_width": null,
            "order": null,
            "_view_module_version": "1.2.0",
            "grid_template_areas": null,
            "object_position": null,
            "object_fit": null,
            "grid_auto_columns": null,
            "margin": null,
            "display": null,
            "left": null
          }
        },
        "8e0599b038d34b29a32f606cca6ba4d8": {
          "model_module": "@jupyter-widgets/controls",
          "model_name": "VBoxModel",
          "state": {
            "_view_name": "VBoxView",
            "_dom_classes": [],
            "_model_name": "VBoxModel",
            "_view_module": "@jupyter-widgets/controls",
            "_model_module_version": "1.5.0",
            "_view_count": null,
            "_view_module_version": "1.5.0",
            "box_style": "",
            "layout": "IPY_MODEL_7d9f7d0b984c45a092d2f72bdb5c48e1",
            "_model_module": "@jupyter-widgets/controls",
            "children": [
              "IPY_MODEL_5b871a0833ce41ebbd8fbfc2c5cd8c79",
              "IPY_MODEL_5ea3b33bd6fa4d5fb78e4017dd87df5d"
            ]
          }
        },
        "0a75c7db9af3496aa710d74219172e91": {
          "model_module": "@jupyter-widgets/controls",
          "model_name": "VBoxModel",
          "state": {
            "_view_name": "VBoxView",
            "_dom_classes": [],
            "_model_name": "VBoxModel",
            "_view_module": "@jupyter-widgets/controls",
            "_model_module_version": "1.5.0",
            "_view_count": null,
            "_view_module_version": "1.5.0",
            "box_style": "",
            "layout": "IPY_MODEL_3a796a8feab248e0b16940b216be1291",
            "_model_module": "@jupyter-widgets/controls",
            "children": [
              "IPY_MODEL_52c290725520456681de2d275b1021e0",
              "IPY_MODEL_bcde980dae95480a8d13a0fc7481b644"
            ]
          }
        },
        "7d9f7d0b984c45a092d2f72bdb5c48e1": {
          "model_module": "@jupyter-widgets/base",
          "model_name": "LayoutModel",
          "state": {
            "_view_name": "LayoutView",
            "grid_template_rows": null,
            "right": null,
            "justify_content": null,
            "_view_module": "@jupyter-widgets/base",
            "overflow": null,
            "_model_module_version": "1.2.0",
            "_view_count": null,
            "flex_flow": null,
            "width": "25%",
            "min_width": null,
            "border": null,
            "align_items": null,
            "bottom": null,
            "_model_module": "@jupyter-widgets/base",
            "top": null,
            "grid_column": null,
            "overflow_y": null,
            "overflow_x": null,
            "grid_auto_flow": null,
            "grid_area": null,
            "grid_template_columns": null,
            "flex": null,
            "_model_name": "LayoutModel",
            "justify_items": null,
            "grid_row": null,
            "max_height": null,
            "align_content": null,
            "visibility": null,
            "align_self": null,
            "height": null,
            "min_height": null,
            "padding": null,
            "grid_auto_rows": null,
            "grid_gap": null,
            "max_width": null,
            "order": null,
            "_view_module_version": "1.2.0",
            "grid_template_areas": null,
            "object_position": null,
            "object_fit": null,
            "grid_auto_columns": null,
            "margin": null,
            "display": null,
            "left": null
          }
        },
        "5b871a0833ce41ebbd8fbfc2c5cd8c79": {
          "model_module": "@jupyter-widgets/controls",
          "model_name": "ButtonModel",
          "state": {
            "_view_name": "ButtonView",
            "style": "IPY_MODEL_356024f9c61d4f4d84fa93525accbd89",
            "_dom_classes": [],
            "description": "generate next token",
            "_model_name": "ButtonModel",
            "button_style": "",
            "_view_module": "@jupyter-widgets/controls",
            "_model_module_version": "1.5.0",
            "tooltip": "",
            "_view_count": null,
            "disabled": false,
            "_view_module_version": "1.5.0",
            "layout": "IPY_MODEL_85b7067255834494bb9f275853880d77",
            "_model_module": "@jupyter-widgets/controls",
            "icon": ""
          }
        },
        "5ea3b33bd6fa4d5fb78e4017dd87df5d": {
          "model_module": "@jupyter-widgets/output",
          "model_name": "OutputModel",
          "state": {
            "_view_name": "OutputView",
            "msg_id": "",
            "_dom_classes": [],
            "_model_name": "OutputModel",
            "outputs": [
              {
                "output_type": "display_data",
                "metadata": {
                  "tags": []
                },
                "text/html": "<table style='width:100%;border:1px solid'>\n<thead>\n<tr><th>token      </th><th style=\"text-align: right;\">  probability</th></tr>\n</thead>\n<tbody>\n<tr><td>not        </td><td style=\"text-align: right;\">  0.242947   </td></tr>\n<tr><td>to         </td><td style=\"text-align: right;\">  0.161965   </td></tr>\n<tr><td>!          </td><td style=\"text-align: right;\">  0.161965   </td></tr>\n<tr><td>.          </td><td style=\"text-align: right;\">  0.161965   </td></tr>\n<tr><td>you        </td><td style=\"text-align: right;\">  0.080983   </td></tr>\n<tr><td>I          </td><td style=\"text-align: right;\">  0.080983   </td></tr>\n<tr><td>that       </td><td style=\"text-align: right;\">  0.080983   </td></tr>\n<tr><td>Aniston    </td><td style=\"text-align: right;\">  8.09822e-07</td></tr>\n<tr><td>Peepers    </td><td style=\"text-align: right;\">  8.09822e-07</td></tr>\n<tr><td>Foundation-</td><td style=\"text-align: right;\">  8.09822e-07</td></tr>\n</tbody>\n</table>",
                "text/plain": "<IPython.core.display.HTML object>"
              }
            ],
            "_view_module": "@jupyter-widgets/output",
            "_model_module_version": "1.0.0",
            "_view_count": null,
            "_view_module_version": "1.0.0",
            "layout": "IPY_MODEL_7d9f7d0b984c45a092d2f72bdb5c48e1",
            "_model_module": "@jupyter-widgets/output"
          }
        },
        "3a796a8feab248e0b16940b216be1291": {
          "model_module": "@jupyter-widgets/base",
          "model_name": "LayoutModel",
          "state": {
            "_view_name": "LayoutView",
            "grid_template_rows": null,
            "right": null,
            "justify_content": null,
            "_view_module": "@jupyter-widgets/base",
            "overflow": null,
            "_model_module_version": "1.2.0",
            "_view_count": null,
            "flex_flow": null,
            "width": null,
            "min_width": null,
            "border": null,
            "align_items": null,
            "bottom": null,
            "_model_module": "@jupyter-widgets/base",
            "top": null,
            "grid_column": null,
            "overflow_y": null,
            "overflow_x": null,
            "grid_auto_flow": null,
            "grid_area": null,
            "grid_template_columns": null,
            "flex": null,
            "_model_name": "LayoutModel",
            "justify_items": null,
            "grid_row": null,
            "max_height": null,
            "align_content": null,
            "visibility": null,
            "align_self": null,
            "height": null,
            "min_height": null,
            "padding": null,
            "grid_auto_rows": null,
            "grid_gap": null,
            "max_width": null,
            "order": null,
            "_view_module_version": "1.2.0",
            "grid_template_areas": null,
            "object_position": null,
            "object_fit": null,
            "grid_auto_columns": null,
            "margin": null,
            "display": null,
            "left": null
          }
        },
        "52c290725520456681de2d275b1021e0": {
          "model_module": "@jupyter-widgets/output",
          "model_name": "OutputModel",
          "state": {
            "_view_name": "OutputView",
            "msg_id": "",
            "_dom_classes": [],
            "_model_name": "OutputModel",
            "outputs": [
              {
                "output_type": "display_data",
                "metadata": {
                  "tags": []
                },
                "text/html": " <span style='border: 2px solid green;'>I promise</span>",
                "text/plain": "<IPython.core.display.HTML object>"
              }
            ],
            "_view_module": "@jupyter-widgets/output",
            "_model_module_version": "1.0.0",
            "_view_count": null,
            "_view_module_version": "1.0.0",
            "layout": "IPY_MODEL_43ab076a66264c098165f7f3096aa63d",
            "_model_module": "@jupyter-widgets/output"
          }
        },
        "bcde980dae95480a8d13a0fc7481b644": {
          "model_module": "@jupyter-widgets/output",
          "model_name": "OutputModel",
          "state": {
            "_view_name": "OutputView",
            "msg_id": "",
            "_dom_classes": [],
            "_model_name": "OutputModel",
            "outputs": [
              {
                "output_type": "stream",
                "metadata": {
                  "tags": []
                },
                "text": "count(\"I promise\") = 12\n",
                "stream": "stdout"
              }
            ],
            "_view_module": "@jupyter-widgets/output",
            "_model_module_version": "1.0.0",
            "_view_count": null,
            "_view_module_version": "1.0.0",
            "layout": "IPY_MODEL_bbe4869605634cbd8b1c61d2c1ae93f7",
            "_model_module": "@jupyter-widgets/output"
          }
        },
        "356024f9c61d4f4d84fa93525accbd89": {
          "model_module": "@jupyter-widgets/controls",
          "model_name": "ButtonStyleModel",
          "state": {
            "_view_name": "StyleView",
            "_model_name": "ButtonStyleModel",
            "_view_module": "@jupyter-widgets/base",
            "_model_module_version": "1.5.0",
            "_view_count": null,
            "button_color": null,
            "font_weight": "",
            "_view_module_version": "1.2.0",
            "_model_module": "@jupyter-widgets/controls"
          }
        },
        "85b7067255834494bb9f275853880d77": {
          "model_module": "@jupyter-widgets/base",
          "model_name": "LayoutModel",
          "state": {
            "_view_name": "LayoutView",
            "grid_template_rows": null,
            "right": null,
            "justify_content": null,
            "_view_module": "@jupyter-widgets/base",
            "overflow": null,
            "_model_module_version": "1.2.0",
            "_view_count": null,
            "flex_flow": null,
            "width": null,
            "min_width": null,
            "border": null,
            "align_items": null,
            "bottom": null,
            "_model_module": "@jupyter-widgets/base",
            "top": null,
            "grid_column": null,
            "overflow_y": null,
            "overflow_x": null,
            "grid_auto_flow": null,
            "grid_area": null,
            "grid_template_columns": null,
            "flex": null,
            "_model_name": "LayoutModel",
            "justify_items": null,
            "grid_row": null,
            "max_height": null,
            "align_content": null,
            "visibility": null,
            "align_self": null,
            "height": null,
            "min_height": null,
            "padding": null,
            "grid_auto_rows": null,
            "grid_gap": null,
            "max_width": null,
            "order": null,
            "_view_module_version": "1.2.0",
            "grid_template_areas": null,
            "object_position": null,
            "object_fit": null,
            "grid_auto_columns": null,
            "margin": null,
            "display": null,
            "left": null
          }
        },
        "43ab076a66264c098165f7f3096aa63d": {
          "model_module": "@jupyter-widgets/base",
          "model_name": "LayoutModel",
          "state": {
            "_view_name": "LayoutView",
            "grid_template_rows": null,
            "right": null,
            "justify_content": null,
            "_view_module": "@jupyter-widgets/base",
            "overflow": null,
            "_model_module_version": "1.2.0",
            "_view_count": null,
            "flex_flow": null,
            "width": null,
            "min_width": null,
            "border": null,
            "align_items": null,
            "bottom": null,
            "_model_module": "@jupyter-widgets/base",
            "top": null,
            "grid_column": null,
            "overflow_y": null,
            "overflow_x": null,
            "grid_auto_flow": null,
            "grid_area": null,
            "grid_template_columns": null,
            "flex": null,
            "_model_name": "LayoutModel",
            "justify_items": null,
            "grid_row": null,
            "max_height": null,
            "align_content": null,
            "visibility": null,
            "align_self": null,
            "height": null,
            "min_height": null,
            "padding": null,
            "grid_auto_rows": null,
            "grid_gap": null,
            "max_width": null,
            "order": null,
            "_view_module_version": "1.2.0",
            "grid_template_areas": null,
            "object_position": null,
            "object_fit": null,
            "grid_auto_columns": null,
            "margin": null,
            "display": null,
            "left": null
          }
        },
        "bbe4869605634cbd8b1c61d2c1ae93f7": {
          "model_module": "@jupyter-widgets/base",
          "model_name": "LayoutModel",
          "state": {
            "_view_name": "LayoutView",
            "grid_template_rows": null,
            "right": null,
            "justify_content": null,
            "_view_module": "@jupyter-widgets/base",
            "overflow": null,
            "_model_module_version": "1.2.0",
            "_view_count": null,
            "flex_flow": null,
            "width": null,
            "min_width": null,
            "border": null,
            "align_items": null,
            "bottom": null,
            "_model_module": "@jupyter-widgets/base",
            "top": null,
            "grid_column": null,
            "overflow_y": null,
            "overflow_x": null,
            "grid_auto_flow": null,
            "grid_area": null,
            "grid_template_columns": null,
            "flex": null,
            "_model_name": "LayoutModel",
            "justify_items": null,
            "grid_row": null,
            "max_height": null,
            "align_content": null,
            "visibility": null,
            "align_self": null,
            "height": null,
            "min_height": null,
            "padding": null,
            "grid_auto_rows": null,
            "grid_gap": null,
            "max_width": null,
            "order": null,
            "_view_module_version": "1.2.0",
            "grid_template_areas": null,
            "object_position": null,
            "object_fit": null,
            "grid_auto_columns": null,
            "margin": null,
            "display": null,
            "left": null
          }
        },
        "7a80b3d93a284ff3b638b3544b210f71": {
          "model_module": "@jupyter-widgets/controls",
          "model_name": "HBoxModel",
          "state": {
            "_view_name": "HBoxView",
            "_dom_classes": [],
            "_model_name": "HBoxModel",
            "_view_module": "@jupyter-widgets/controls",
            "_model_module_version": "1.5.0",
            "_view_count": null,
            "_view_module_version": "1.5.0",
            "box_style": "",
            "layout": "IPY_MODEL_c6cba17309114186b82fb7f3f61ee673",
            "_model_module": "@jupyter-widgets/controls",
            "children": [
              "IPY_MODEL_7ac1737c6ee148a5aae193a64265fef0",
              "IPY_MODEL_80417ee7a47c4d9e92f73b4d90aec70d"
            ]
          }
        },
        "c6cba17309114186b82fb7f3f61ee673": {
          "model_module": "@jupyter-widgets/base",
          "model_name": "LayoutModel",
          "state": {
            "_view_name": "LayoutView",
            "grid_template_rows": null,
            "right": null,
            "justify_content": null,
            "_view_module": "@jupyter-widgets/base",
            "overflow": null,
            "_model_module_version": "1.2.0",
            "_view_count": null,
            "flex_flow": null,
            "width": null,
            "min_width": null,
            "border": null,
            "align_items": null,
            "bottom": null,
            "_model_module": "@jupyter-widgets/base",
            "top": null,
            "grid_column": null,
            "overflow_y": null,
            "overflow_x": null,
            "grid_auto_flow": null,
            "grid_area": null,
            "grid_template_columns": null,
            "flex": null,
            "_model_name": "LayoutModel",
            "justify_items": null,
            "grid_row": null,
            "max_height": null,
            "align_content": null,
            "visibility": null,
            "align_self": null,
            "height": null,
            "min_height": null,
            "padding": null,
            "grid_auto_rows": null,
            "grid_gap": null,
            "max_width": null,
            "order": null,
            "_view_module_version": "1.2.0",
            "grid_template_areas": null,
            "object_position": null,
            "object_fit": null,
            "grid_auto_columns": null,
            "margin": null,
            "display": null,
            "left": null
          }
        },
        "7ac1737c6ee148a5aae193a64265fef0": {
          "model_module": "@jupyter-widgets/controls",
          "model_name": "FloatProgressModel",
          "state": {
            "_view_name": "ProgressView",
            "style": "IPY_MODEL_9c2645c6cc484560abd3df9451176b5d",
            "_dom_classes": [],
            "description": "fit: 100%",
            "_model_name": "FloatProgressModel",
            "bar_style": "success",
            "max": 44061,
            "_view_module": "@jupyter-widgets/controls",
            "_model_module_version": "1.5.0",
            "value": 44061,
            "_view_count": null,
            "_view_module_version": "1.5.0",
            "orientation": "horizontal",
            "min": 0,
            "description_tooltip": null,
            "_model_module": "@jupyter-widgets/controls",
            "layout": "IPY_MODEL_f3f4cc556b1f40bcba7e8e2c1b527860"
          }
        },
        "80417ee7a47c4d9e92f73b4d90aec70d": {
          "model_module": "@jupyter-widgets/controls",
          "model_name": "HTMLModel",
          "state": {
            "_view_name": "HTMLView",
            "style": "IPY_MODEL_abcdecfe77ca46688159495d2cfa3734",
            "_dom_classes": [],
            "description": "",
            "_model_name": "HTMLModel",
            "placeholder": "​",
            "_view_module": "@jupyter-widgets/controls",
            "_model_module_version": "1.5.0",
            "value": " 44061/44061 [00:11&lt;00:00, 3922.87it/s]",
            "_view_count": null,
            "_view_module_version": "1.5.0",
            "description_tooltip": null,
            "_model_module": "@jupyter-widgets/controls",
            "layout": "IPY_MODEL_80550cb225c7455e867f22ed48b43a3d"
          }
        },
        "9c2645c6cc484560abd3df9451176b5d": {
          "model_module": "@jupyter-widgets/controls",
          "model_name": "ProgressStyleModel",
          "state": {
            "_view_name": "StyleView",
            "_model_name": "ProgressStyleModel",
            "description_width": "initial",
            "_view_module": "@jupyter-widgets/base",
            "_model_module_version": "1.5.0",
            "_view_count": null,
            "_view_module_version": "1.2.0",
            "bar_color": null,
            "_model_module": "@jupyter-widgets/controls"
          }
        },
        "f3f4cc556b1f40bcba7e8e2c1b527860": {
          "model_module": "@jupyter-widgets/base",
          "model_name": "LayoutModel",
          "state": {
            "_view_name": "LayoutView",
            "grid_template_rows": null,
            "right": null,
            "justify_content": null,
            "_view_module": "@jupyter-widgets/base",
            "overflow": null,
            "_model_module_version": "1.2.0",
            "_view_count": null,
            "flex_flow": null,
            "width": null,
            "min_width": null,
            "border": null,
            "align_items": null,
            "bottom": null,
            "_model_module": "@jupyter-widgets/base",
            "top": null,
            "grid_column": null,
            "overflow_y": null,
            "overflow_x": null,
            "grid_auto_flow": null,
            "grid_area": null,
            "grid_template_columns": null,
            "flex": null,
            "_model_name": "LayoutModel",
            "justify_items": null,
            "grid_row": null,
            "max_height": null,
            "align_content": null,
            "visibility": null,
            "align_self": null,
            "height": null,
            "min_height": null,
            "padding": null,
            "grid_auto_rows": null,
            "grid_gap": null,
            "max_width": null,
            "order": null,
            "_view_module_version": "1.2.0",
            "grid_template_areas": null,
            "object_position": null,
            "object_fit": null,
            "grid_auto_columns": null,
            "margin": null,
            "display": null,
            "left": null
          }
        },
        "abcdecfe77ca46688159495d2cfa3734": {
          "model_module": "@jupyter-widgets/controls",
          "model_name": "DescriptionStyleModel",
          "state": {
            "_view_name": "StyleView",
            "_model_name": "DescriptionStyleModel",
            "description_width": "",
            "_view_module": "@jupyter-widgets/base",
            "_model_module_version": "1.5.0",
            "_view_count": null,
            "_view_module_version": "1.2.0",
            "_model_module": "@jupyter-widgets/controls"
          }
        },
        "80550cb225c7455e867f22ed48b43a3d": {
          "model_module": "@jupyter-widgets/base",
          "model_name": "LayoutModel",
          "state": {
            "_view_name": "LayoutView",
            "grid_template_rows": null,
            "right": null,
            "justify_content": null,
            "_view_module": "@jupyter-widgets/base",
            "overflow": null,
            "_model_module_version": "1.2.0",
            "_view_count": null,
            "flex_flow": null,
            "width": null,
            "min_width": null,
            "border": null,
            "align_items": null,
            "bottom": null,
            "_model_module": "@jupyter-widgets/base",
            "top": null,
            "grid_column": null,
            "overflow_y": null,
            "overflow_x": null,
            "grid_auto_flow": null,
            "grid_area": null,
            "grid_template_columns": null,
            "flex": null,
            "_model_name": "LayoutModel",
            "justify_items": null,
            "grid_row": null,
            "max_height": null,
            "align_content": null,
            "visibility": null,
            "align_self": null,
            "height": null,
            "min_height": null,
            "padding": null,
            "grid_auto_rows": null,
            "grid_gap": null,
            "max_width": null,
            "order": null,
            "_view_module_version": "1.2.0",
            "grid_template_areas": null,
            "object_position": null,
            "object_fit": null,
            "grid_auto_columns": null,
            "margin": null,
            "display": null,
            "left": null
          }
        },
        "bf9c24b2a95a4541a7ce1ca0e101c4c8": {
          "model_module": "@jupyter-widgets/controls",
          "model_name": "HBoxModel",
          "state": {
            "_view_name": "HBoxView",
            "_dom_classes": [],
            "_model_name": "HBoxModel",
            "_view_module": "@jupyter-widgets/controls",
            "_model_module_version": "1.5.0",
            "_view_count": null,
            "_view_module_version": "1.5.0",
            "box_style": "",
            "layout": "IPY_MODEL_7bcbf8a26c2949eca3e3438b3430371f",
            "_model_module": "@jupyter-widgets/controls",
            "children": [
              "IPY_MODEL_094e5b54898744cf9bb6caf4e6d6f9de",
              "IPY_MODEL_a68c83466dce4b7f9e90fadb0aca3c62"
            ]
          }
        },
        "7bcbf8a26c2949eca3e3438b3430371f": {
          "model_module": "@jupyter-widgets/base",
          "model_name": "LayoutModel",
          "state": {
            "_view_name": "LayoutView",
            "grid_template_rows": null,
            "right": null,
            "justify_content": null,
            "_view_module": "@jupyter-widgets/base",
            "overflow": null,
            "_model_module_version": "1.2.0",
            "_view_count": null,
            "flex_flow": null,
            "width": null,
            "min_width": null,
            "border": null,
            "align_items": null,
            "bottom": null,
            "_model_module": "@jupyter-widgets/base",
            "top": null,
            "grid_column": null,
            "overflow_y": null,
            "overflow_x": null,
            "grid_auto_flow": null,
            "grid_area": null,
            "grid_template_columns": null,
            "flex": null,
            "_model_name": "LayoutModel",
            "justify_items": null,
            "grid_row": null,
            "max_height": null,
            "align_content": null,
            "visibility": null,
            "align_self": null,
            "height": null,
            "min_height": null,
            "padding": null,
            "grid_auto_rows": null,
            "grid_gap": null,
            "max_width": null,
            "order": null,
            "_view_module_version": "1.2.0",
            "grid_template_areas": null,
            "object_position": null,
            "object_fit": null,
            "grid_auto_columns": null,
            "margin": null,
            "display": null,
            "left": null
          }
        },
        "094e5b54898744cf9bb6caf4e6d6f9de": {
          "model_module": "@jupyter-widgets/controls",
          "model_name": "VBoxModel",
          "state": {
            "_view_name": "VBoxView",
            "_dom_classes": [],
            "_model_name": "VBoxModel",
            "_view_module": "@jupyter-widgets/controls",
            "_model_module_version": "1.5.0",
            "_view_count": null,
            "_view_module_version": "1.5.0",
            "box_style": "",
            "layout": "IPY_MODEL_03d40b20f88840f0bd3ef59ac1acc8d1",
            "_model_module": "@jupyter-widgets/controls",
            "children": [
              "IPY_MODEL_aea070899aa04301b7b21c830e1d53d7",
              "IPY_MODEL_72fe5821848d4b22bff043639c02b690"
            ]
          }
        },
        "a68c83466dce4b7f9e90fadb0aca3c62": {
          "model_module": "@jupyter-widgets/controls",
          "model_name": "VBoxModel",
          "state": {
            "_view_name": "VBoxView",
            "_dom_classes": [],
            "_model_name": "VBoxModel",
            "_view_module": "@jupyter-widgets/controls",
            "_model_module_version": "1.5.0",
            "_view_count": null,
            "_view_module_version": "1.5.0",
            "box_style": "",
            "layout": "IPY_MODEL_b0b1018b382f43168b291b249df100ee",
            "_model_module": "@jupyter-widgets/controls",
            "children": [
              "IPY_MODEL_3d0d13926360477abe1d787319ccb98d",
              "IPY_MODEL_7a89d2296ed6435c983326e0cf6b4c5a"
            ]
          }
        },
        "03d40b20f88840f0bd3ef59ac1acc8d1": {
          "model_module": "@jupyter-widgets/base",
          "model_name": "LayoutModel",
          "state": {
            "_view_name": "LayoutView",
            "grid_template_rows": null,
            "right": null,
            "justify_content": null,
            "_view_module": "@jupyter-widgets/base",
            "overflow": null,
            "_model_module_version": "1.2.0",
            "_view_count": null,
            "flex_flow": null,
            "width": "25%",
            "min_width": null,
            "border": null,
            "align_items": null,
            "bottom": null,
            "_model_module": "@jupyter-widgets/base",
            "top": null,
            "grid_column": null,
            "overflow_y": null,
            "overflow_x": null,
            "grid_auto_flow": null,
            "grid_area": null,
            "grid_template_columns": null,
            "flex": null,
            "_model_name": "LayoutModel",
            "justify_items": null,
            "grid_row": null,
            "max_height": null,
            "align_content": null,
            "visibility": null,
            "align_self": null,
            "height": null,
            "min_height": null,
            "padding": null,
            "grid_auto_rows": null,
            "grid_gap": null,
            "max_width": null,
            "order": null,
            "_view_module_version": "1.2.0",
            "grid_template_areas": null,
            "object_position": null,
            "object_fit": null,
            "grid_auto_columns": null,
            "margin": null,
            "display": null,
            "left": null
          }
        },
        "aea070899aa04301b7b21c830e1d53d7": {
          "model_module": "@jupyter-widgets/controls",
          "model_name": "ButtonModel",
          "state": {
            "_view_name": "ButtonView",
            "style": "IPY_MODEL_62ee6a300e4845548295237d343c6d87",
            "_dom_classes": [],
            "description": "generate next token",
            "_model_name": "ButtonModel",
            "button_style": "",
            "_view_module": "@jupyter-widgets/controls",
            "_model_module_version": "1.5.0",
            "tooltip": "",
            "_view_count": null,
            "disabled": false,
            "_view_module_version": "1.5.0",
            "layout": "IPY_MODEL_853645c3f0b548eab726a365a6d591fe",
            "_model_module": "@jupyter-widgets/controls",
            "icon": ""
          }
        },
        "72fe5821848d4b22bff043639c02b690": {
          "model_module": "@jupyter-widgets/output",
          "model_name": "OutputModel",
          "state": {
            "_view_name": "OutputView",
            "msg_id": "",
            "_dom_classes": [],
            "_model_name": "OutputModel",
            "outputs": [
              {
                "output_type": "display_data",
                "metadata": {
                  "tags": []
                },
                "text/html": "<table style='width:100%;border:1px solid'>\n<thead>\n<tr><th>token      </th><th style=\"text-align: right;\">  probability</th></tr>\n</thead>\n<tbody>\n<tr><td>to         </td><td style=\"text-align: right;\">  0.373945   </td></tr>\n<tr><td>not        </td><td style=\"text-align: right;\">  0.186974   </td></tr>\n<tr><td>you        </td><td style=\"text-align: right;\">  0.186974   </td></tr>\n<tr><td>that       </td><td style=\"text-align: right;\">  0.186974   </td></tr>\n<tr><td>Aniston    </td><td style=\"text-align: right;\">  1.86972e-06</td></tr>\n<tr><td>Peepers    </td><td style=\"text-align: right;\">  1.86972e-06</td></tr>\n<tr><td>Foundation-</td><td style=\"text-align: right;\">  1.86972e-06</td></tr>\n<tr><td>4our       </td><td style=\"text-align: right;\">  1.86972e-06</td></tr>\n<tr><td>Traitor    </td><td style=\"text-align: right;\">  1.86972e-06</td></tr>\n<tr><td>concert    </td><td style=\"text-align: right;\">  1.86972e-06</td></tr>\n</tbody>\n</table>",
                "text/plain": "<IPython.core.display.HTML object>"
              }
            ],
            "_view_module": "@jupyter-widgets/output",
            "_model_module_version": "1.0.0",
            "_view_count": null,
            "_view_module_version": "1.0.0",
            "layout": "IPY_MODEL_03d40b20f88840f0bd3ef59ac1acc8d1",
            "_model_module": "@jupyter-widgets/output"
          }
        },
        "b0b1018b382f43168b291b249df100ee": {
          "model_module": "@jupyter-widgets/base",
          "model_name": "LayoutModel",
          "state": {
            "_view_name": "LayoutView",
            "grid_template_rows": null,
            "right": null,
            "justify_content": null,
            "_view_module": "@jupyter-widgets/base",
            "overflow": null,
            "_model_module_version": "1.2.0",
            "_view_count": null,
            "flex_flow": null,
            "width": null,
            "min_width": null,
            "border": null,
            "align_items": null,
            "bottom": null,
            "_model_module": "@jupyter-widgets/base",
            "top": null,
            "grid_column": null,
            "overflow_y": null,
            "overflow_x": null,
            "grid_auto_flow": null,
            "grid_area": null,
            "grid_template_columns": null,
            "flex": null,
            "_model_name": "LayoutModel",
            "justify_items": null,
            "grid_row": null,
            "max_height": null,
            "align_content": null,
            "visibility": null,
            "align_self": null,
            "height": null,
            "min_height": null,
            "padding": null,
            "grid_auto_rows": null,
            "grid_gap": null,
            "max_width": null,
            "order": null,
            "_view_module_version": "1.2.0",
            "grid_template_areas": null,
            "object_position": null,
            "object_fit": null,
            "grid_auto_columns": null,
            "margin": null,
            "display": null,
            "left": null
          }
        },
        "3d0d13926360477abe1d787319ccb98d": {
          "model_module": "@jupyter-widgets/output",
          "model_name": "OutputModel",
          "state": {
            "_view_name": "OutputView",
            "msg_id": "",
            "_dom_classes": [],
            "_model_name": "OutputModel",
            "outputs": [
              {
                "output_type": "display_data",
                "metadata": {
                  "tags": []
                },
                "text/html": " <span style='border: 2px solid green;'>I promise</span>",
                "text/plain": "<IPython.core.display.HTML object>"
              }
            ],
            "_view_module": "@jupyter-widgets/output",
            "_model_module_version": "1.0.0",
            "_view_count": null,
            "_view_module_version": "1.0.0",
            "layout": "IPY_MODEL_cf295627fabd453f849ad48f3cc79289",
            "_model_module": "@jupyter-widgets/output"
          }
        },
        "7a89d2296ed6435c983326e0cf6b4c5a": {
          "model_module": "@jupyter-widgets/output",
          "model_name": "OutputModel",
          "state": {
            "_view_name": "OutputView",
            "msg_id": "",
            "_dom_classes": [],
            "_model_name": "OutputModel",
            "outputs": [
              {
                "output_type": "stream",
                "metadata": {
                  "tags": []
                },
                "text": "count(\"I promise\") = 5\n",
                "stream": "stdout"
              }
            ],
            "_view_module": "@jupyter-widgets/output",
            "_model_module_version": "1.0.0",
            "_view_count": null,
            "_view_module_version": "1.0.0",
            "layout": "IPY_MODEL_f97853cd61464be2ba651c2414a9e29c",
            "_model_module": "@jupyter-widgets/output"
          }
        },
        "62ee6a300e4845548295237d343c6d87": {
          "model_module": "@jupyter-widgets/controls",
          "model_name": "ButtonStyleModel",
          "state": {
            "_view_name": "StyleView",
            "_model_name": "ButtonStyleModel",
            "_view_module": "@jupyter-widgets/base",
            "_model_module_version": "1.5.0",
            "_view_count": null,
            "button_color": null,
            "font_weight": "",
            "_view_module_version": "1.2.0",
            "_model_module": "@jupyter-widgets/controls"
          }
        },
        "853645c3f0b548eab726a365a6d591fe": {
          "model_module": "@jupyter-widgets/base",
          "model_name": "LayoutModel",
          "state": {
            "_view_name": "LayoutView",
            "grid_template_rows": null,
            "right": null,
            "justify_content": null,
            "_view_module": "@jupyter-widgets/base",
            "overflow": null,
            "_model_module_version": "1.2.0",
            "_view_count": null,
            "flex_flow": null,
            "width": null,
            "min_width": null,
            "border": null,
            "align_items": null,
            "bottom": null,
            "_model_module": "@jupyter-widgets/base",
            "top": null,
            "grid_column": null,
            "overflow_y": null,
            "overflow_x": null,
            "grid_auto_flow": null,
            "grid_area": null,
            "grid_template_columns": null,
            "flex": null,
            "_model_name": "LayoutModel",
            "justify_items": null,
            "grid_row": null,
            "max_height": null,
            "align_content": null,
            "visibility": null,
            "align_self": null,
            "height": null,
            "min_height": null,
            "padding": null,
            "grid_auto_rows": null,
            "grid_gap": null,
            "max_width": null,
            "order": null,
            "_view_module_version": "1.2.0",
            "grid_template_areas": null,
            "object_position": null,
            "object_fit": null,
            "grid_auto_columns": null,
            "margin": null,
            "display": null,
            "left": null
          }
        },
        "cf295627fabd453f849ad48f3cc79289": {
          "model_module": "@jupyter-widgets/base",
          "model_name": "LayoutModel",
          "state": {
            "_view_name": "LayoutView",
            "grid_template_rows": null,
            "right": null,
            "justify_content": null,
            "_view_module": "@jupyter-widgets/base",
            "overflow": null,
            "_model_module_version": "1.2.0",
            "_view_count": null,
            "flex_flow": null,
            "width": null,
            "min_width": null,
            "border": null,
            "align_items": null,
            "bottom": null,
            "_model_module": "@jupyter-widgets/base",
            "top": null,
            "grid_column": null,
            "overflow_y": null,
            "overflow_x": null,
            "grid_auto_flow": null,
            "grid_area": null,
            "grid_template_columns": null,
            "flex": null,
            "_model_name": "LayoutModel",
            "justify_items": null,
            "grid_row": null,
            "max_height": null,
            "align_content": null,
            "visibility": null,
            "align_self": null,
            "height": null,
            "min_height": null,
            "padding": null,
            "grid_auto_rows": null,
            "grid_gap": null,
            "max_width": null,
            "order": null,
            "_view_module_version": "1.2.0",
            "grid_template_areas": null,
            "object_position": null,
            "object_fit": null,
            "grid_auto_columns": null,
            "margin": null,
            "display": null,
            "left": null
          }
        },
        "f97853cd61464be2ba651c2414a9e29c": {
          "model_module": "@jupyter-widgets/base",
          "model_name": "LayoutModel",
          "state": {
            "_view_name": "LayoutView",
            "grid_template_rows": null,
            "right": null,
            "justify_content": null,
            "_view_module": "@jupyter-widgets/base",
            "overflow": null,
            "_model_module_version": "1.2.0",
            "_view_count": null,
            "flex_flow": null,
            "width": null,
            "min_width": null,
            "border": null,
            "align_items": null,
            "bottom": null,
            "_model_module": "@jupyter-widgets/base",
            "top": null,
            "grid_column": null,
            "overflow_y": null,
            "overflow_x": null,
            "grid_auto_flow": null,
            "grid_area": null,
            "grid_template_columns": null,
            "flex": null,
            "_model_name": "LayoutModel",
            "justify_items": null,
            "grid_row": null,
            "max_height": null,
            "align_content": null,
            "visibility": null,
            "align_self": null,
            "height": null,
            "min_height": null,
            "padding": null,
            "grid_auto_rows": null,
            "grid_gap": null,
            "max_width": null,
            "order": null,
            "_view_module_version": "1.2.0",
            "grid_template_areas": null,
            "object_position": null,
            "object_fit": null,
            "grid_auto_columns": null,
            "margin": null,
            "display": null,
            "left": null
          }
        },
        "87021fadb2d84270b65a3c5c014abef3": {
          "model_module": "@jupyter-widgets/controls",
          "model_name": "VBoxModel",
          "state": {
            "_view_name": "VBoxView",
            "_dom_classes": [],
            "_model_name": "VBoxModel",
            "_view_module": "@jupyter-widgets/controls",
            "_model_module_version": "1.5.0",
            "_view_count": null,
            "_view_module_version": "1.5.0",
            "box_style": "",
            "layout": "IPY_MODEL_c1c04008adaf4cfd8ebfba0c43d0efbc",
            "_model_module": "@jupyter-widgets/controls",
            "children": [
              "IPY_MODEL_d73dc5f2e3b64dc69546e124e484d158",
              "IPY_MODEL_7939cb470acc49e590ae70730256b8a2",
              "IPY_MODEL_bed8217d7f294bd6a75762dc9b1a402d",
              "IPY_MODEL_66f1dad63f6b4dbd955e0f58709f562b"
            ]
          }
        },
        "c1c04008adaf4cfd8ebfba0c43d0efbc": {
          "model_module": "@jupyter-widgets/base",
          "model_name": "LayoutModel",
          "state": {
            "_view_name": "LayoutView",
            "grid_template_rows": null,
            "right": null,
            "justify_content": null,
            "_view_module": "@jupyter-widgets/base",
            "overflow": null,
            "_model_module_version": "1.2.0",
            "_view_count": null,
            "flex_flow": null,
            "width": null,
            "min_width": null,
            "border": null,
            "align_items": null,
            "bottom": null,
            "_model_module": "@jupyter-widgets/base",
            "top": null,
            "grid_column": null,
            "overflow_y": null,
            "overflow_x": null,
            "grid_auto_flow": null,
            "grid_area": null,
            "grid_template_columns": null,
            "flex": null,
            "_model_name": "LayoutModel",
            "justify_items": null,
            "grid_row": null,
            "max_height": null,
            "align_content": null,
            "visibility": null,
            "align_self": null,
            "height": null,
            "min_height": null,
            "padding": null,
            "grid_auto_rows": null,
            "grid_gap": null,
            "max_width": null,
            "order": null,
            "_view_module_version": "1.2.0",
            "grid_template_areas": null,
            "object_position": null,
            "object_fit": null,
            "grid_auto_columns": null,
            "margin": null,
            "display": null,
            "left": null
          }
        },
        "d73dc5f2e3b64dc69546e124e484d158": {
          "model_module": "@jupyter-widgets/output",
          "model_name": "OutputModel",
          "state": {
            "_view_name": "OutputView",
            "msg_id": "",
            "_dom_classes": [],
            "_model_name": "OutputModel",
            "outputs": [
              {
                "output_type": "display_data",
                "metadata": {
                  "tags": []
                },
                "application/vnd.jupyter.widget-view+json": {
                  "model_id": "c60b9042d8b74bbd8be902215b7a6c0d",
                  "version_minor": 0,
                  "version_major": 2
                },
                "text/plain": "HTMLMath(value='\\n            Consider a unigram language model with the following probabilities:\\n           …"
              }
            ],
            "_view_module": "@jupyter-widgets/output",
            "_model_module_version": "1.0.0",
            "_view_count": null,
            "_view_module_version": "1.0.0",
            "layout": "IPY_MODEL_fb448dec28ca4778ad9366ae202765c4",
            "_model_module": "@jupyter-widgets/output"
          }
        },
        "7939cb470acc49e590ae70730256b8a2": {
          "model_module": "@jupyter-widgets/controls",
          "model_name": "RadioButtonsModel",
          "state": {
            "_options_labels": [
              "3.64",
              "0.27",
              "640",
              "0.0016"
            ],
            "_view_name": "RadioButtonsView",
            "style": "IPY_MODEL_490d4492bb6b49ef9c8a40bf4965c1b5",
            "_dom_classes": [],
            "description": "",
            "_model_name": "RadioButtonsModel",
            "index": 0,
            "_view_module": "@jupyter-widgets/controls",
            "_model_module_version": "1.5.0",
            "_view_count": null,
            "disabled": false,
            "_view_module_version": "1.5.0",
            "description_tooltip": null,
            "_model_module": "@jupyter-widgets/controls",
            "layout": "IPY_MODEL_e7fd46e0f0bc4d9db7cd1b68a979933d"
          }
        },
        "bed8217d7f294bd6a75762dc9b1a402d": {
          "model_module": "@jupyter-widgets/controls",
          "model_name": "HTMLModel",
          "state": {
            "_view_name": "HTMLView",
            "style": "IPY_MODEL_10c41f4ad08747e4a4a0cdf6f3eeb3e9",
            "_dom_classes": [],
            "description": "",
            "_model_name": "HTMLModel",
            "placeholder": "​",
            "_view_module": "@jupyter-widgets/controls",
            "_model_module_version": "1.5.0",
            "value": "<br>",
            "_view_count": null,
            "_view_module_version": "1.5.0",
            "description_tooltip": null,
            "_model_module": "@jupyter-widgets/controls",
            "layout": "IPY_MODEL_ca156e841fb948b6b93d243a1f549db8"
          }
        },
        "66f1dad63f6b4dbd955e0f58709f562b": {
          "model_module": "@jupyter-widgets/controls",
          "model_name": "ButtonModel",
          "state": {
            "_view_name": "ButtonView",
            "style": "IPY_MODEL_edb4f9bd65f04b9f9bd311e8b0b9a8a0",
            "_dom_classes": [],
            "description": "Check",
            "_model_name": "ButtonModel",
            "button_style": "",
            "_view_module": "@jupyter-widgets/controls",
            "_model_module_version": "1.5.0",
            "tooltip": "",
            "_view_count": null,
            "disabled": false,
            "_view_module_version": "1.5.0",
            "layout": "IPY_MODEL_f21609b4b7324c03ac0ba42b2728b032",
            "_model_module": "@jupyter-widgets/controls",
            "icon": ""
          }
        },
        "490d4492bb6b49ef9c8a40bf4965c1b5": {
          "model_module": "@jupyter-widgets/controls",
          "model_name": "DescriptionStyleModel",
          "state": {
            "_view_name": "StyleView",
            "_model_name": "DescriptionStyleModel",
            "description_width": "",
            "_view_module": "@jupyter-widgets/base",
            "_model_module_version": "1.5.0",
            "_view_count": null,
            "_view_module_version": "1.2.0",
            "_model_module": "@jupyter-widgets/controls"
          }
        },
        "e7fd46e0f0bc4d9db7cd1b68a979933d": {
          "model_module": "@jupyter-widgets/base",
          "model_name": "LayoutModel",
          "state": {
            "_view_name": "LayoutView",
            "grid_template_rows": null,
            "right": null,
            "justify_content": null,
            "_view_module": "@jupyter-widgets/base",
            "overflow": null,
            "_model_module_version": "1.2.0",
            "_view_count": null,
            "flex_flow": null,
            "width": null,
            "min_width": null,
            "border": null,
            "align_items": null,
            "bottom": null,
            "_model_module": "@jupyter-widgets/base",
            "top": null,
            "grid_column": null,
            "overflow_y": null,
            "overflow_x": null,
            "grid_auto_flow": null,
            "grid_area": null,
            "grid_template_columns": null,
            "flex": null,
            "_model_name": "LayoutModel",
            "justify_items": null,
            "grid_row": null,
            "max_height": null,
            "align_content": null,
            "visibility": null,
            "align_self": null,
            "height": null,
            "min_height": null,
            "padding": null,
            "grid_auto_rows": null,
            "grid_gap": null,
            "max_width": null,
            "order": null,
            "_view_module_version": "1.2.0",
            "grid_template_areas": null,
            "object_position": null,
            "object_fit": null,
            "grid_auto_columns": null,
            "margin": null,
            "display": null,
            "left": null
          }
        },
        "10c41f4ad08747e4a4a0cdf6f3eeb3e9": {
          "model_module": "@jupyter-widgets/controls",
          "model_name": "DescriptionStyleModel",
          "state": {
            "_view_name": "StyleView",
            "_model_name": "DescriptionStyleModel",
            "description_width": "",
            "_view_module": "@jupyter-widgets/base",
            "_model_module_version": "1.5.0",
            "_view_count": null,
            "_view_module_version": "1.2.0",
            "_model_module": "@jupyter-widgets/controls"
          }
        },
        "ca156e841fb948b6b93d243a1f549db8": {
          "model_module": "@jupyter-widgets/base",
          "model_name": "LayoutModel",
          "state": {
            "_view_name": "LayoutView",
            "grid_template_rows": null,
            "right": null,
            "justify_content": null,
            "_view_module": "@jupyter-widgets/base",
            "overflow": null,
            "_model_module_version": "1.2.0",
            "_view_count": null,
            "flex_flow": null,
            "width": null,
            "min_width": null,
            "border": null,
            "align_items": null,
            "bottom": null,
            "_model_module": "@jupyter-widgets/base",
            "top": null,
            "grid_column": null,
            "overflow_y": null,
            "overflow_x": null,
            "grid_auto_flow": null,
            "grid_area": null,
            "grid_template_columns": null,
            "flex": null,
            "_model_name": "LayoutModel",
            "justify_items": null,
            "grid_row": null,
            "max_height": null,
            "align_content": null,
            "visibility": null,
            "align_self": null,
            "height": null,
            "min_height": null,
            "padding": null,
            "grid_auto_rows": null,
            "grid_gap": null,
            "max_width": null,
            "order": null,
            "_view_module_version": "1.2.0",
            "grid_template_areas": null,
            "object_position": null,
            "object_fit": null,
            "grid_auto_columns": null,
            "margin": null,
            "display": null,
            "left": null
          }
        },
        "edb4f9bd65f04b9f9bd311e8b0b9a8a0": {
          "model_module": "@jupyter-widgets/controls",
          "model_name": "ButtonStyleModel",
          "state": {
            "_view_name": "StyleView",
            "_model_name": "ButtonStyleModel",
            "_view_module": "@jupyter-widgets/base",
            "_model_module_version": "1.5.0",
            "_view_count": null,
            "button_color": null,
            "font_weight": "",
            "_view_module_version": "1.2.0",
            "_model_module": "@jupyter-widgets/controls"
          }
        },
        "f21609b4b7324c03ac0ba42b2728b032": {
          "model_module": "@jupyter-widgets/base",
          "model_name": "LayoutModel",
          "state": {
            "_view_name": "LayoutView",
            "grid_template_rows": null,
            "right": null,
            "justify_content": null,
            "_view_module": "@jupyter-widgets/base",
            "overflow": null,
            "_model_module_version": "1.2.0",
            "_view_count": null,
            "flex_flow": null,
            "width": null,
            "min_width": null,
            "border": null,
            "align_items": null,
            "bottom": null,
            "_model_module": "@jupyter-widgets/base",
            "top": null,
            "grid_column": null,
            "overflow_y": null,
            "overflow_x": null,
            "grid_auto_flow": null,
            "grid_area": null,
            "grid_template_columns": null,
            "flex": null,
            "_model_name": "LayoutModel",
            "justify_items": null,
            "grid_row": null,
            "max_height": null,
            "align_content": null,
            "visibility": null,
            "align_self": null,
            "height": null,
            "min_height": null,
            "padding": null,
            "grid_auto_rows": null,
            "grid_gap": null,
            "max_width": null,
            "order": null,
            "_view_module_version": "1.2.0",
            "grid_template_areas": null,
            "object_position": null,
            "object_fit": null,
            "grid_auto_columns": null,
            "margin": null,
            "display": null,
            "left": null
          }
        },
        "c60b9042d8b74bbd8be902215b7a6c0d": {
          "model_module": "@jupyter-widgets/controls",
          "model_name": "HTMLMathModel",
          "state": {
            "_view_name": "HTMLMathView",
            "style": "IPY_MODEL_b9529c5771074cfca22c78e84968f64f",
            "_dom_classes": [],
            "description": "",
            "_model_name": "HTMLMathModel",
            "placeholder": "​",
            "_view_module": "@jupyter-widgets/controls",
            "_model_module_version": "1.5.0",
            "value": "\n            Consider a unigram language model with the following probabilities:\n            <ul>\n                <li>$\\Pr(\\textrm{\"A\"})$ = 0.5</li>\n                <li>$\\Pr(\\textrm{\"B\"})$ = 0.1</li>\n                <li>$\\Pr(\\textrm{\"C\"})$ = 0.25</li>\n            </ul>\n            Compute $\\textrm{Perplexity}(\\textrm{\"AABCC\"})$\n        ",
            "_view_count": null,
            "_view_module_version": "1.5.0",
            "description_tooltip": null,
            "_model_module": "@jupyter-widgets/controls",
            "layout": "IPY_MODEL_3e45ca5fb32346f184e75d302d6559e3"
          }
        },
        "fb448dec28ca4778ad9366ae202765c4": {
          "model_module": "@jupyter-widgets/base",
          "model_name": "LayoutModel",
          "state": {
            "_view_name": "LayoutView",
            "grid_template_rows": null,
            "right": null,
            "justify_content": null,
            "_view_module": "@jupyter-widgets/base",
            "overflow": null,
            "_model_module_version": "1.2.0",
            "_view_count": null,
            "flex_flow": null,
            "width": null,
            "min_width": null,
            "border": null,
            "align_items": null,
            "bottom": null,
            "_model_module": "@jupyter-widgets/base",
            "top": null,
            "grid_column": null,
            "overflow_y": null,
            "overflow_x": null,
            "grid_auto_flow": null,
            "grid_area": null,
            "grid_template_columns": null,
            "flex": null,
            "_model_name": "LayoutModel",
            "justify_items": null,
            "grid_row": null,
            "max_height": null,
            "align_content": null,
            "visibility": null,
            "align_self": null,
            "height": null,
            "min_height": null,
            "padding": null,
            "grid_auto_rows": null,
            "grid_gap": null,
            "max_width": null,
            "order": null,
            "_view_module_version": "1.2.0",
            "grid_template_areas": null,
            "object_position": null,
            "object_fit": null,
            "grid_auto_columns": null,
            "margin": null,
            "display": null,
            "left": null
          }
        },
        "b9529c5771074cfca22c78e84968f64f": {
          "model_module": "@jupyter-widgets/controls",
          "model_name": "DescriptionStyleModel",
          "state": {
            "_view_name": "StyleView",
            "_model_name": "DescriptionStyleModel",
            "description_width": "",
            "_view_module": "@jupyter-widgets/base",
            "_model_module_version": "1.5.0",
            "_view_count": null,
            "_view_module_version": "1.2.0",
            "_model_module": "@jupyter-widgets/controls"
          }
        },
        "3e45ca5fb32346f184e75d302d6559e3": {
          "model_module": "@jupyter-widgets/base",
          "model_name": "LayoutModel",
          "state": {
            "_view_name": "LayoutView",
            "grid_template_rows": null,
            "right": null,
            "justify_content": null,
            "_view_module": "@jupyter-widgets/base",
            "overflow": null,
            "_model_module_version": "1.2.0",
            "_view_count": null,
            "flex_flow": null,
            "width": null,
            "min_width": null,
            "border": null,
            "align_items": null,
            "bottom": null,
            "_model_module": "@jupyter-widgets/base",
            "top": null,
            "grid_column": null,
            "overflow_y": null,
            "overflow_x": null,
            "grid_auto_flow": null,
            "grid_area": null,
            "grid_template_columns": null,
            "flex": null,
            "_model_name": "LayoutModel",
            "justify_items": null,
            "grid_row": null,
            "max_height": null,
            "align_content": null,
            "visibility": null,
            "align_self": null,
            "height": null,
            "min_height": null,
            "padding": null,
            "grid_auto_rows": null,
            "grid_gap": null,
            "max_width": null,
            "order": null,
            "_view_module_version": "1.2.0",
            "grid_template_areas": null,
            "object_position": null,
            "object_fit": null,
            "grid_auto_columns": null,
            "margin": null,
            "display": null,
            "left": null
          }
        },
        "f7e3eb9ab9ce4274ae98449ce2561e19": {
          "model_module": "@jupyter-widgets/controls",
          "model_name": "HBoxModel",
          "state": {
            "_view_name": "HBoxView",
            "_dom_classes": [],
            "_model_name": "HBoxModel",
            "_view_module": "@jupyter-widgets/controls",
            "_model_module_version": "1.5.0",
            "_view_count": null,
            "_view_module_version": "1.5.0",
            "box_style": "",
            "layout": "IPY_MODEL_4885beb18729489a984fbb542966f7e1",
            "_model_module": "@jupyter-widgets/controls",
            "children": [
              "IPY_MODEL_b32020a6b3ed4c8dabc0b56d6b473dcd",
              "IPY_MODEL_d3d8bf94213047e0aaa43a840c52ac73"
            ]
          }
        },
        "4885beb18729489a984fbb542966f7e1": {
          "model_module": "@jupyter-widgets/base",
          "model_name": "LayoutModel",
          "state": {
            "_view_name": "LayoutView",
            "grid_template_rows": null,
            "right": null,
            "justify_content": null,
            "_view_module": "@jupyter-widgets/base",
            "overflow": null,
            "_model_module_version": "1.2.0",
            "_view_count": null,
            "flex_flow": null,
            "width": null,
            "min_width": null,
            "border": null,
            "align_items": null,
            "bottom": null,
            "_model_module": "@jupyter-widgets/base",
            "top": null,
            "grid_column": null,
            "overflow_y": null,
            "overflow_x": null,
            "grid_auto_flow": null,
            "grid_area": null,
            "grid_template_columns": null,
            "flex": null,
            "_model_name": "LayoutModel",
            "justify_items": null,
            "grid_row": null,
            "max_height": null,
            "align_content": null,
            "visibility": null,
            "align_self": null,
            "height": null,
            "min_height": null,
            "padding": null,
            "grid_auto_rows": null,
            "grid_gap": null,
            "max_width": null,
            "order": null,
            "_view_module_version": "1.2.0",
            "grid_template_areas": null,
            "object_position": null,
            "object_fit": null,
            "grid_auto_columns": null,
            "margin": null,
            "display": null,
            "left": null
          }
        },
        "b32020a6b3ed4c8dabc0b56d6b473dcd": {
          "model_module": "@jupyter-widgets/controls",
          "model_name": "FloatProgressModel",
          "state": {
            "_view_name": "ProgressView",
            "style": "IPY_MODEL_dcdcc975fd1541e3ba797c79e353d0a2",
            "_dom_classes": [],
            "description": "tokenize: 100%",
            "_model_name": "FloatProgressModel",
            "bar_style": "success",
            "max": 48040,
            "_view_module": "@jupyter-widgets/controls",
            "_model_module_version": "1.5.0",
            "value": 48040,
            "_view_count": null,
            "_view_module_version": "1.5.0",
            "orientation": "horizontal",
            "min": 0,
            "description_tooltip": null,
            "_model_module": "@jupyter-widgets/controls",
            "layout": "IPY_MODEL_afb56f36c1c145e884fb58273289671d"
          }
        },
        "d3d8bf94213047e0aaa43a840c52ac73": {
          "model_module": "@jupyter-widgets/controls",
          "model_name": "HTMLModel",
          "state": {
            "_view_name": "HTMLView",
            "style": "IPY_MODEL_eeffaead8ff549af83f05dfa0ad61e4f",
            "_dom_classes": [],
            "description": "",
            "_model_name": "HTMLModel",
            "placeholder": "​",
            "_view_module": "@jupyter-widgets/controls",
            "_model_module_version": "1.5.0",
            "value": " 48040/48040 [00:58&lt;00:00, 821.57it/s]",
            "_view_count": null,
            "_view_module_version": "1.5.0",
            "description_tooltip": null,
            "_model_module": "@jupyter-widgets/controls",
            "layout": "IPY_MODEL_5c1341614fc941308322c0d91b8b6f5b"
          }
        },
        "dcdcc975fd1541e3ba797c79e353d0a2": {
          "model_module": "@jupyter-widgets/controls",
          "model_name": "ProgressStyleModel",
          "state": {
            "_view_name": "StyleView",
            "_model_name": "ProgressStyleModel",
            "description_width": "initial",
            "_view_module": "@jupyter-widgets/base",
            "_model_module_version": "1.5.0",
            "_view_count": null,
            "_view_module_version": "1.2.0",
            "bar_color": null,
            "_model_module": "@jupyter-widgets/controls"
          }
        },
        "afb56f36c1c145e884fb58273289671d": {
          "model_module": "@jupyter-widgets/base",
          "model_name": "LayoutModel",
          "state": {
            "_view_name": "LayoutView",
            "grid_template_rows": null,
            "right": null,
            "justify_content": null,
            "_view_module": "@jupyter-widgets/base",
            "overflow": null,
            "_model_module_version": "1.2.0",
            "_view_count": null,
            "flex_flow": null,
            "width": null,
            "min_width": null,
            "border": null,
            "align_items": null,
            "bottom": null,
            "_model_module": "@jupyter-widgets/base",
            "top": null,
            "grid_column": null,
            "overflow_y": null,
            "overflow_x": null,
            "grid_auto_flow": null,
            "grid_area": null,
            "grid_template_columns": null,
            "flex": null,
            "_model_name": "LayoutModel",
            "justify_items": null,
            "grid_row": null,
            "max_height": null,
            "align_content": null,
            "visibility": null,
            "align_self": null,
            "height": null,
            "min_height": null,
            "padding": null,
            "grid_auto_rows": null,
            "grid_gap": null,
            "max_width": null,
            "order": null,
            "_view_module_version": "1.2.0",
            "grid_template_areas": null,
            "object_position": null,
            "object_fit": null,
            "grid_auto_columns": null,
            "margin": null,
            "display": null,
            "left": null
          }
        },
        "eeffaead8ff549af83f05dfa0ad61e4f": {
          "model_module": "@jupyter-widgets/controls",
          "model_name": "DescriptionStyleModel",
          "state": {
            "_view_name": "StyleView",
            "_model_name": "DescriptionStyleModel",
            "description_width": "",
            "_view_module": "@jupyter-widgets/base",
            "_model_module_version": "1.5.0",
            "_view_count": null,
            "_view_module_version": "1.2.0",
            "_model_module": "@jupyter-widgets/controls"
          }
        },
        "5c1341614fc941308322c0d91b8b6f5b": {
          "model_module": "@jupyter-widgets/base",
          "model_name": "LayoutModel",
          "state": {
            "_view_name": "LayoutView",
            "grid_template_rows": null,
            "right": null,
            "justify_content": null,
            "_view_module": "@jupyter-widgets/base",
            "overflow": null,
            "_model_module_version": "1.2.0",
            "_view_count": null,
            "flex_flow": null,
            "width": null,
            "min_width": null,
            "border": null,
            "align_items": null,
            "bottom": null,
            "_model_module": "@jupyter-widgets/base",
            "top": null,
            "grid_column": null,
            "overflow_y": null,
            "overflow_x": null,
            "grid_auto_flow": null,
            "grid_area": null,
            "grid_template_columns": null,
            "flex": null,
            "_model_name": "LayoutModel",
            "justify_items": null,
            "grid_row": null,
            "max_height": null,
            "align_content": null,
            "visibility": null,
            "align_self": null,
            "height": null,
            "min_height": null,
            "padding": null,
            "grid_auto_rows": null,
            "grid_gap": null,
            "max_width": null,
            "order": null,
            "_view_module_version": "1.2.0",
            "grid_template_areas": null,
            "object_position": null,
            "object_fit": null,
            "grid_auto_columns": null,
            "margin": null,
            "display": null,
            "left": null
          }
        },
        "0d1bd3edef8c418a9d17f20cd444c295": {
          "model_module": "@jupyter-widgets/controls",
          "model_name": "HBoxModel",
          "state": {
            "_view_name": "HBoxView",
            "_dom_classes": [],
            "_model_name": "HBoxModel",
            "_view_module": "@jupyter-widgets/controls",
            "_model_module_version": "1.5.0",
            "_view_count": null,
            "_view_module_version": "1.5.0",
            "box_style": "",
            "layout": "IPY_MODEL_3949f66d1dcc4d2a8f4724102ed1e217",
            "_model_module": "@jupyter-widgets/controls",
            "children": [
              "IPY_MODEL_75f173fbf36b4805914535cec3eff1b5",
              "IPY_MODEL_6596e23d6cb04ff29bf663f8c2c562a7"
            ]
          }
        },
        "3949f66d1dcc4d2a8f4724102ed1e217": {
          "model_module": "@jupyter-widgets/base",
          "model_name": "LayoutModel",
          "state": {
            "_view_name": "LayoutView",
            "grid_template_rows": null,
            "right": null,
            "justify_content": null,
            "_view_module": "@jupyter-widgets/base",
            "overflow": null,
            "_model_module_version": "1.2.0",
            "_view_count": null,
            "flex_flow": null,
            "width": null,
            "min_width": null,
            "border": null,
            "align_items": null,
            "bottom": null,
            "_model_module": "@jupyter-widgets/base",
            "top": null,
            "grid_column": null,
            "overflow_y": null,
            "overflow_x": null,
            "grid_auto_flow": null,
            "grid_area": null,
            "grid_template_columns": null,
            "flex": null,
            "_model_name": "LayoutModel",
            "justify_items": null,
            "grid_row": null,
            "max_height": null,
            "align_content": null,
            "visibility": null,
            "align_self": null,
            "height": null,
            "min_height": null,
            "padding": null,
            "grid_auto_rows": null,
            "grid_gap": null,
            "max_width": null,
            "order": null,
            "_view_module_version": "1.2.0",
            "grid_template_areas": null,
            "object_position": null,
            "object_fit": null,
            "grid_auto_columns": null,
            "margin": null,
            "display": null,
            "left": null
          }
        },
        "75f173fbf36b4805914535cec3eff1b5": {
          "model_module": "@jupyter-widgets/controls",
          "model_name": "FloatProgressModel",
          "state": {
            "_view_name": "ProgressView",
            "style": "IPY_MODEL_41b09865789649d183f15e93077e82c4",
            "_dom_classes": [],
            "description": "100%",
            "_model_name": "FloatProgressModel",
            "bar_style": "success",
            "max": 12,
            "_view_module": "@jupyter-widgets/controls",
            "_model_module_version": "1.5.0",
            "value": 12,
            "_view_count": null,
            "_view_module_version": "1.5.0",
            "orientation": "horizontal",
            "min": 0,
            "description_tooltip": null,
            "_model_module": "@jupyter-widgets/controls",
            "layout": "IPY_MODEL_6af66b30437d444ab39882fbb41d6575"
          }
        },
        "6596e23d6cb04ff29bf663f8c2c562a7": {
          "model_module": "@jupyter-widgets/controls",
          "model_name": "HTMLModel",
          "state": {
            "_view_name": "HTMLView",
            "style": "IPY_MODEL_e74ac157abd041f3bbea3b62b9ae6d72",
            "_dom_classes": [],
            "description": "",
            "_model_name": "HTMLModel",
            "placeholder": "​",
            "_view_module": "@jupyter-widgets/controls",
            "_model_module_version": "1.5.0",
            "value": " 12/12 [00:48&lt;00:00,  4.00s/it]",
            "_view_count": null,
            "_view_module_version": "1.5.0",
            "description_tooltip": null,
            "_model_module": "@jupyter-widgets/controls",
            "layout": "IPY_MODEL_14a761f0df2244ef8b8bb39f5e03477c"
          }
        },
        "41b09865789649d183f15e93077e82c4": {
          "model_module": "@jupyter-widgets/controls",
          "model_name": "ProgressStyleModel",
          "state": {
            "_view_name": "StyleView",
            "_model_name": "ProgressStyleModel",
            "description_width": "initial",
            "_view_module": "@jupyter-widgets/base",
            "_model_module_version": "1.5.0",
            "_view_count": null,
            "_view_module_version": "1.2.0",
            "bar_color": null,
            "_model_module": "@jupyter-widgets/controls"
          }
        },
        "6af66b30437d444ab39882fbb41d6575": {
          "model_module": "@jupyter-widgets/base",
          "model_name": "LayoutModel",
          "state": {
            "_view_name": "LayoutView",
            "grid_template_rows": null,
            "right": null,
            "justify_content": null,
            "_view_module": "@jupyter-widgets/base",
            "overflow": null,
            "_model_module_version": "1.2.0",
            "_view_count": null,
            "flex_flow": null,
            "width": null,
            "min_width": null,
            "border": null,
            "align_items": null,
            "bottom": null,
            "_model_module": "@jupyter-widgets/base",
            "top": null,
            "grid_column": null,
            "overflow_y": null,
            "overflow_x": null,
            "grid_auto_flow": null,
            "grid_area": null,
            "grid_template_columns": null,
            "flex": null,
            "_model_name": "LayoutModel",
            "justify_items": null,
            "grid_row": null,
            "max_height": null,
            "align_content": null,
            "visibility": null,
            "align_self": null,
            "height": null,
            "min_height": null,
            "padding": null,
            "grid_auto_rows": null,
            "grid_gap": null,
            "max_width": null,
            "order": null,
            "_view_module_version": "1.2.0",
            "grid_template_areas": null,
            "object_position": null,
            "object_fit": null,
            "grid_auto_columns": null,
            "margin": null,
            "display": null,
            "left": null
          }
        },
        "e74ac157abd041f3bbea3b62b9ae6d72": {
          "model_module": "@jupyter-widgets/controls",
          "model_name": "DescriptionStyleModel",
          "state": {
            "_view_name": "StyleView",
            "_model_name": "DescriptionStyleModel",
            "description_width": "",
            "_view_module": "@jupyter-widgets/base",
            "_model_module_version": "1.5.0",
            "_view_count": null,
            "_view_module_version": "1.2.0",
            "_model_module": "@jupyter-widgets/controls"
          }
        },
        "14a761f0df2244ef8b8bb39f5e03477c": {
          "model_module": "@jupyter-widgets/base",
          "model_name": "LayoutModel",
          "state": {
            "_view_name": "LayoutView",
            "grid_template_rows": null,
            "right": null,
            "justify_content": null,
            "_view_module": "@jupyter-widgets/base",
            "overflow": null,
            "_model_module_version": "1.2.0",
            "_view_count": null,
            "flex_flow": null,
            "width": null,
            "min_width": null,
            "border": null,
            "align_items": null,
            "bottom": null,
            "_model_module": "@jupyter-widgets/base",
            "top": null,
            "grid_column": null,
            "overflow_y": null,
            "overflow_x": null,
            "grid_auto_flow": null,
            "grid_area": null,
            "grid_template_columns": null,
            "flex": null,
            "_model_name": "LayoutModel",
            "justify_items": null,
            "grid_row": null,
            "max_height": null,
            "align_content": null,
            "visibility": null,
            "align_self": null,
            "height": null,
            "min_height": null,
            "padding": null,
            "grid_auto_rows": null,
            "grid_gap": null,
            "max_width": null,
            "order": null,
            "_view_module_version": "1.2.0",
            "grid_template_areas": null,
            "object_position": null,
            "object_fit": null,
            "grid_auto_columns": null,
            "margin": null,
            "display": null,
            "left": null
          }
        },
        "fb2cf0bc4e3e45fea56e9ed5a73900ef": {
          "model_module": "@jupyter-widgets/controls",
          "model_name": "VBoxModel",
          "state": {
            "_view_name": "VBoxView",
            "_dom_classes": [],
            "_model_name": "VBoxModel",
            "_view_module": "@jupyter-widgets/controls",
            "_model_module_version": "1.5.0",
            "_view_count": null,
            "_view_module_version": "1.5.0",
            "box_style": "",
            "layout": "IPY_MODEL_1ab90e3b99bc470f94a3b71b5191eead",
            "_model_module": "@jupyter-widgets/controls",
            "children": [
              "IPY_MODEL_f565c34bb3164801bdcf2921a2f44955",
              "IPY_MODEL_ea7499e835944b9d8c4e92d7eb06de42",
              "IPY_MODEL_d3122164ae13484aab5b1ef5c3852a80",
              "IPY_MODEL_928842dd9a5a487a87acad3e9df68e6c"
            ]
          }
        },
        "1ab90e3b99bc470f94a3b71b5191eead": {
          "model_module": "@jupyter-widgets/base",
          "model_name": "LayoutModel",
          "state": {
            "_view_name": "LayoutView",
            "grid_template_rows": null,
            "right": null,
            "justify_content": null,
            "_view_module": "@jupyter-widgets/base",
            "overflow": null,
            "_model_module_version": "1.2.0",
            "_view_count": null,
            "flex_flow": null,
            "width": null,
            "min_width": null,
            "border": null,
            "align_items": null,
            "bottom": null,
            "_model_module": "@jupyter-widgets/base",
            "top": null,
            "grid_column": null,
            "overflow_y": null,
            "overflow_x": null,
            "grid_auto_flow": null,
            "grid_area": null,
            "grid_template_columns": null,
            "flex": null,
            "_model_name": "LayoutModel",
            "justify_items": null,
            "grid_row": null,
            "max_height": null,
            "align_content": null,
            "visibility": null,
            "align_self": null,
            "height": null,
            "min_height": null,
            "padding": null,
            "grid_auto_rows": null,
            "grid_gap": null,
            "max_width": null,
            "order": null,
            "_view_module_version": "1.2.0",
            "grid_template_areas": null,
            "object_position": null,
            "object_fit": null,
            "grid_auto_columns": null,
            "margin": null,
            "display": null,
            "left": null
          }
        },
        "f565c34bb3164801bdcf2921a2f44955": {
          "model_module": "@jupyter-widgets/output",
          "model_name": "OutputModel",
          "state": {
            "_view_name": "OutputView",
            "msg_id": "",
            "_dom_classes": [],
            "_model_name": "OutputModel",
            "outputs": [
              {
                "output_type": "display_data",
                "metadata": {
                  "tags": []
                },
                "application/vnd.jupyter.widget-view+json": {
                  "model_id": "f27a28b5a77a48bfadd9a0b4c2857c24",
                  "version_minor": 0,
                  "version_major": 2
                },
                "text/plain": "HTMLMath(value='\\n            Suppose that we compute accuracy on the dataset with 4 classes, and there is equ…"
              }
            ],
            "_view_module": "@jupyter-widgets/output",
            "_model_module_version": "1.0.0",
            "_view_count": null,
            "_view_module_version": "1.0.0",
            "layout": "IPY_MODEL_70882d4bd3ff4628a2670de666d1a0dc",
            "_model_module": "@jupyter-widgets/output"
          }
        },
        "ea7499e835944b9d8c4e92d7eb06de42": {
          "model_module": "@jupyter-widgets/controls",
          "model_name": "RadioButtonsModel",
          "state": {
            "_options_labels": [
              "0",
              "0.0625",
              "0.25",
              "0.5"
            ],
            "_view_name": "RadioButtonsView",
            "style": "IPY_MODEL_8b9e3d016cc14bfe93373b857e2a19a3",
            "_dom_classes": [],
            "description": "",
            "_model_name": "RadioButtonsModel",
            "index": 2,
            "_view_module": "@jupyter-widgets/controls",
            "_model_module_version": "1.5.0",
            "_view_count": null,
            "disabled": false,
            "_view_module_version": "1.5.0",
            "description_tooltip": null,
            "_model_module": "@jupyter-widgets/controls",
            "layout": "IPY_MODEL_2e5e0278e9904c23b52a0a97bbcfbe11"
          }
        },
        "d3122164ae13484aab5b1ef5c3852a80": {
          "model_module": "@jupyter-widgets/controls",
          "model_name": "HTMLModel",
          "state": {
            "_view_name": "HTMLView",
            "style": "IPY_MODEL_99fea270779b43149c8afada4ccd73e4",
            "_dom_classes": [],
            "description": "",
            "_model_name": "HTMLModel",
            "placeholder": "​",
            "_view_module": "@jupyter-widgets/controls",
            "_model_module_version": "1.5.0",
            "value": "<font color='green'>'0.25' is the correct answer</font>",
            "_view_count": null,
            "_view_module_version": "1.5.0",
            "description_tooltip": null,
            "_model_module": "@jupyter-widgets/controls",
            "layout": "IPY_MODEL_8c22c48c2a58427f81e208d7277dfcc4"
          }
        },
        "928842dd9a5a487a87acad3e9df68e6c": {
          "model_module": "@jupyter-widgets/controls",
          "model_name": "ButtonModel",
          "state": {
            "_view_name": "ButtonView",
            "style": "IPY_MODEL_6a429022c6bf4e87ba863b5ecdfd54d9",
            "_dom_classes": [],
            "description": "Check",
            "_model_name": "ButtonModel",
            "button_style": "",
            "_view_module": "@jupyter-widgets/controls",
            "_model_module_version": "1.5.0",
            "tooltip": "",
            "_view_count": null,
            "disabled": false,
            "_view_module_version": "1.5.0",
            "layout": "IPY_MODEL_47afbd6aafbd466dac37ed1cea6e98b7",
            "_model_module": "@jupyter-widgets/controls",
            "icon": ""
          }
        },
        "8b9e3d016cc14bfe93373b857e2a19a3": {
          "model_module": "@jupyter-widgets/controls",
          "model_name": "DescriptionStyleModel",
          "state": {
            "_view_name": "StyleView",
            "_model_name": "DescriptionStyleModel",
            "description_width": "",
            "_view_module": "@jupyter-widgets/base",
            "_model_module_version": "1.5.0",
            "_view_count": null,
            "_view_module_version": "1.2.0",
            "_model_module": "@jupyter-widgets/controls"
          }
        },
        "2e5e0278e9904c23b52a0a97bbcfbe11": {
          "model_module": "@jupyter-widgets/base",
          "model_name": "LayoutModel",
          "state": {
            "_view_name": "LayoutView",
            "grid_template_rows": null,
            "right": null,
            "justify_content": null,
            "_view_module": "@jupyter-widgets/base",
            "overflow": null,
            "_model_module_version": "1.2.0",
            "_view_count": null,
            "flex_flow": null,
            "width": null,
            "min_width": null,
            "border": null,
            "align_items": null,
            "bottom": null,
            "_model_module": "@jupyter-widgets/base",
            "top": null,
            "grid_column": null,
            "overflow_y": null,
            "overflow_x": null,
            "grid_auto_flow": null,
            "grid_area": null,
            "grid_template_columns": null,
            "flex": null,
            "_model_name": "LayoutModel",
            "justify_items": null,
            "grid_row": null,
            "max_height": null,
            "align_content": null,
            "visibility": null,
            "align_self": null,
            "height": null,
            "min_height": null,
            "padding": null,
            "grid_auto_rows": null,
            "grid_gap": null,
            "max_width": null,
            "order": null,
            "_view_module_version": "1.2.0",
            "grid_template_areas": null,
            "object_position": null,
            "object_fit": null,
            "grid_auto_columns": null,
            "margin": null,
            "display": null,
            "left": null
          }
        },
        "99fea270779b43149c8afada4ccd73e4": {
          "model_module": "@jupyter-widgets/controls",
          "model_name": "DescriptionStyleModel",
          "state": {
            "_view_name": "StyleView",
            "_model_name": "DescriptionStyleModel",
            "description_width": "",
            "_view_module": "@jupyter-widgets/base",
            "_model_module_version": "1.5.0",
            "_view_count": null,
            "_view_module_version": "1.2.0",
            "_model_module": "@jupyter-widgets/controls"
          }
        },
        "8c22c48c2a58427f81e208d7277dfcc4": {
          "model_module": "@jupyter-widgets/base",
          "model_name": "LayoutModel",
          "state": {
            "_view_name": "LayoutView",
            "grid_template_rows": null,
            "right": null,
            "justify_content": null,
            "_view_module": "@jupyter-widgets/base",
            "overflow": null,
            "_model_module_version": "1.2.0",
            "_view_count": null,
            "flex_flow": null,
            "width": null,
            "min_width": null,
            "border": null,
            "align_items": null,
            "bottom": null,
            "_model_module": "@jupyter-widgets/base",
            "top": null,
            "grid_column": null,
            "overflow_y": null,
            "overflow_x": null,
            "grid_auto_flow": null,
            "grid_area": null,
            "grid_template_columns": null,
            "flex": null,
            "_model_name": "LayoutModel",
            "justify_items": null,
            "grid_row": null,
            "max_height": null,
            "align_content": null,
            "visibility": null,
            "align_self": null,
            "height": null,
            "min_height": null,
            "padding": null,
            "grid_auto_rows": null,
            "grid_gap": null,
            "max_width": null,
            "order": null,
            "_view_module_version": "1.2.0",
            "grid_template_areas": null,
            "object_position": null,
            "object_fit": null,
            "grid_auto_columns": null,
            "margin": null,
            "display": null,
            "left": null
          }
        },
        "6a429022c6bf4e87ba863b5ecdfd54d9": {
          "model_module": "@jupyter-widgets/controls",
          "model_name": "ButtonStyleModel",
          "state": {
            "_view_name": "StyleView",
            "_model_name": "ButtonStyleModel",
            "_view_module": "@jupyter-widgets/base",
            "_model_module_version": "1.5.0",
            "_view_count": null,
            "button_color": null,
            "font_weight": "",
            "_view_module_version": "1.2.0",
            "_model_module": "@jupyter-widgets/controls"
          }
        },
        "47afbd6aafbd466dac37ed1cea6e98b7": {
          "model_module": "@jupyter-widgets/base",
          "model_name": "LayoutModel",
          "state": {
            "_view_name": "LayoutView",
            "grid_template_rows": null,
            "right": null,
            "justify_content": null,
            "_view_module": "@jupyter-widgets/base",
            "overflow": null,
            "_model_module_version": "1.2.0",
            "_view_count": null,
            "flex_flow": null,
            "width": null,
            "min_width": null,
            "border": null,
            "align_items": null,
            "bottom": null,
            "_model_module": "@jupyter-widgets/base",
            "top": null,
            "grid_column": null,
            "overflow_y": null,
            "overflow_x": null,
            "grid_auto_flow": null,
            "grid_area": null,
            "grid_template_columns": null,
            "flex": null,
            "_model_name": "LayoutModel",
            "justify_items": null,
            "grid_row": null,
            "max_height": null,
            "align_content": null,
            "visibility": null,
            "align_self": null,
            "height": null,
            "min_height": null,
            "padding": null,
            "grid_auto_rows": null,
            "grid_gap": null,
            "max_width": null,
            "order": null,
            "_view_module_version": "1.2.0",
            "grid_template_areas": null,
            "object_position": null,
            "object_fit": null,
            "grid_auto_columns": null,
            "margin": null,
            "display": null,
            "left": null
          }
        },
        "f27a28b5a77a48bfadd9a0b4c2857c24": {
          "model_module": "@jupyter-widgets/controls",
          "model_name": "HTMLMathModel",
          "state": {
            "_view_name": "HTMLMathView",
            "style": "IPY_MODEL_70e2aa7ee1834d81a38844014fe0f165",
            "_dom_classes": [],
            "description": "",
            "_model_name": "HTMLMathModel",
            "placeholder": "​",
            "_view_module": "@jupyter-widgets/controls",
            "_model_module_version": "1.5.0",
            "value": "\n            Suppose that we compute accuracy on the dataset with 4 classes, and there is equal number of samples of each class.\n            (In other words, all classes are balanced.)\n            What is accuracy of \"random\" classifier, that predicts random category with probability 0.25?\n        ",
            "_view_count": null,
            "_view_module_version": "1.5.0",
            "description_tooltip": null,
            "_model_module": "@jupyter-widgets/controls",
            "layout": "IPY_MODEL_37a8d9390a9b40b2a150c17513ca0386"
          }
        },
        "70882d4bd3ff4628a2670de666d1a0dc": {
          "model_module": "@jupyter-widgets/base",
          "model_name": "LayoutModel",
          "state": {
            "_view_name": "LayoutView",
            "grid_template_rows": null,
            "right": null,
            "justify_content": null,
            "_view_module": "@jupyter-widgets/base",
            "overflow": null,
            "_model_module_version": "1.2.0",
            "_view_count": null,
            "flex_flow": null,
            "width": null,
            "min_width": null,
            "border": null,
            "align_items": null,
            "bottom": null,
            "_model_module": "@jupyter-widgets/base",
            "top": null,
            "grid_column": null,
            "overflow_y": null,
            "overflow_x": null,
            "grid_auto_flow": null,
            "grid_area": null,
            "grid_template_columns": null,
            "flex": null,
            "_model_name": "LayoutModel",
            "justify_items": null,
            "grid_row": null,
            "max_height": null,
            "align_content": null,
            "visibility": null,
            "align_self": null,
            "height": null,
            "min_height": null,
            "padding": null,
            "grid_auto_rows": null,
            "grid_gap": null,
            "max_width": null,
            "order": null,
            "_view_module_version": "1.2.0",
            "grid_template_areas": null,
            "object_position": null,
            "object_fit": null,
            "grid_auto_columns": null,
            "margin": null,
            "display": null,
            "left": null
          }
        },
        "70e2aa7ee1834d81a38844014fe0f165": {
          "model_module": "@jupyter-widgets/controls",
          "model_name": "DescriptionStyleModel",
          "state": {
            "_view_name": "StyleView",
            "_model_name": "DescriptionStyleModel",
            "description_width": "",
            "_view_module": "@jupyter-widgets/base",
            "_model_module_version": "1.5.0",
            "_view_count": null,
            "_view_module_version": "1.2.0",
            "_model_module": "@jupyter-widgets/controls"
          }
        },
        "37a8d9390a9b40b2a150c17513ca0386": {
          "model_module": "@jupyter-widgets/base",
          "model_name": "LayoutModel",
          "state": {
            "_view_name": "LayoutView",
            "grid_template_rows": null,
            "right": null,
            "justify_content": null,
            "_view_module": "@jupyter-widgets/base",
            "overflow": null,
            "_model_module_version": "1.2.0",
            "_view_count": null,
            "flex_flow": null,
            "width": null,
            "min_width": null,
            "border": null,
            "align_items": null,
            "bottom": null,
            "_model_module": "@jupyter-widgets/base",
            "top": null,
            "grid_column": null,
            "overflow_y": null,
            "overflow_x": null,
            "grid_auto_flow": null,
            "grid_area": null,
            "grid_template_columns": null,
            "flex": null,
            "_model_name": "LayoutModel",
            "justify_items": null,
            "grid_row": null,
            "max_height": null,
            "align_content": null,
            "visibility": null,
            "align_self": null,
            "height": null,
            "min_height": null,
            "padding": null,
            "grid_auto_rows": null,
            "grid_gap": null,
            "max_width": null,
            "order": null,
            "_view_module_version": "1.2.0",
            "grid_template_areas": null,
            "object_position": null,
            "object_fit": null,
            "grid_auto_columns": null,
            "margin": null,
            "display": null,
            "left": null
          }
        },
        "8cea2dc3f4124c229e22a983e9cd9ab7": {
          "model_module": "@jupyter-widgets/controls",
          "model_name": "HBoxModel",
          "state": {
            "_view_name": "HBoxView",
            "_dom_classes": [],
            "_model_name": "HBoxModel",
            "_view_module": "@jupyter-widgets/controls",
            "_model_module_version": "1.5.0",
            "_view_count": null,
            "_view_module_version": "1.5.0",
            "box_style": "",
            "layout": "IPY_MODEL_faa88e6ea7cf447faeb01bb96dea4c69",
            "_model_module": "@jupyter-widgets/controls",
            "children": [
              "IPY_MODEL_078250c1d49c461ea03f41199b0ef9d4",
              "IPY_MODEL_455f6b07003f4904a247ed8f308273b6"
            ]
          }
        },
        "faa88e6ea7cf447faeb01bb96dea4c69": {
          "model_module": "@jupyter-widgets/base",
          "model_name": "LayoutModel",
          "state": {
            "_view_name": "LayoutView",
            "grid_template_rows": null,
            "right": null,
            "justify_content": null,
            "_view_module": "@jupyter-widgets/base",
            "overflow": null,
            "_model_module_version": "1.2.0",
            "_view_count": null,
            "flex_flow": null,
            "width": null,
            "min_width": null,
            "border": null,
            "align_items": null,
            "bottom": null,
            "_model_module": "@jupyter-widgets/base",
            "top": null,
            "grid_column": null,
            "overflow_y": null,
            "overflow_x": null,
            "grid_auto_flow": null,
            "grid_area": null,
            "grid_template_columns": null,
            "flex": null,
            "_model_name": "LayoutModel",
            "justify_items": null,
            "grid_row": null,
            "max_height": null,
            "align_content": null,
            "visibility": null,
            "align_self": null,
            "height": null,
            "min_height": null,
            "padding": null,
            "grid_auto_rows": null,
            "grid_gap": null,
            "max_width": null,
            "order": null,
            "_view_module_version": "1.2.0",
            "grid_template_areas": null,
            "object_position": null,
            "object_fit": null,
            "grid_auto_columns": null,
            "margin": null,
            "display": null,
            "left": null
          }
        },
        "078250c1d49c461ea03f41199b0ef9d4": {
          "model_module": "@jupyter-widgets/controls",
          "model_name": "FloatProgressModel",
          "state": {
            "_view_name": "ProgressView",
            "style": "IPY_MODEL_3cea9187b9344efb827effcbea228837",
            "_dom_classes": [],
            "description": "predict: 100%",
            "_model_name": "FloatProgressModel",
            "bar_style": "success",
            "max": 1489,
            "_view_module": "@jupyter-widgets/controls",
            "_model_module_version": "1.5.0",
            "value": 1489,
            "_view_count": null,
            "_view_module_version": "1.5.0",
            "orientation": "horizontal",
            "min": 0,
            "description_tooltip": null,
            "_model_module": "@jupyter-widgets/controls",
            "layout": "IPY_MODEL_beb31ed2977d4e85aceb19f516c52c77"
          }
        },
        "455f6b07003f4904a247ed8f308273b6": {
          "model_module": "@jupyter-widgets/controls",
          "model_name": "HTMLModel",
          "state": {
            "_view_name": "HTMLView",
            "style": "IPY_MODEL_4bf98a78986f46b79c14038fc55a6c00",
            "_dom_classes": [],
            "description": "",
            "_model_name": "HTMLModel",
            "placeholder": "​",
            "_view_module": "@jupyter-widgets/controls",
            "_model_module_version": "1.5.0",
            "value": " 1489/1489 [00:18&lt;00:00, 80.68it/s]",
            "_view_count": null,
            "_view_module_version": "1.5.0",
            "description_tooltip": null,
            "_model_module": "@jupyter-widgets/controls",
            "layout": "IPY_MODEL_062b20397df04c92814b9082f78644a7"
          }
        },
        "3cea9187b9344efb827effcbea228837": {
          "model_module": "@jupyter-widgets/controls",
          "model_name": "ProgressStyleModel",
          "state": {
            "_view_name": "StyleView",
            "_model_name": "ProgressStyleModel",
            "description_width": "initial",
            "_view_module": "@jupyter-widgets/base",
            "_model_module_version": "1.5.0",
            "_view_count": null,
            "_view_module_version": "1.2.0",
            "bar_color": null,
            "_model_module": "@jupyter-widgets/controls"
          }
        },
        "beb31ed2977d4e85aceb19f516c52c77": {
          "model_module": "@jupyter-widgets/base",
          "model_name": "LayoutModel",
          "state": {
            "_view_name": "LayoutView",
            "grid_template_rows": null,
            "right": null,
            "justify_content": null,
            "_view_module": "@jupyter-widgets/base",
            "overflow": null,
            "_model_module_version": "1.2.0",
            "_view_count": null,
            "flex_flow": null,
            "width": null,
            "min_width": null,
            "border": null,
            "align_items": null,
            "bottom": null,
            "_model_module": "@jupyter-widgets/base",
            "top": null,
            "grid_column": null,
            "overflow_y": null,
            "overflow_x": null,
            "grid_auto_flow": null,
            "grid_area": null,
            "grid_template_columns": null,
            "flex": null,
            "_model_name": "LayoutModel",
            "justify_items": null,
            "grid_row": null,
            "max_height": null,
            "align_content": null,
            "visibility": null,
            "align_self": null,
            "height": null,
            "min_height": null,
            "padding": null,
            "grid_auto_rows": null,
            "grid_gap": null,
            "max_width": null,
            "order": null,
            "_view_module_version": "1.2.0",
            "grid_template_areas": null,
            "object_position": null,
            "object_fit": null,
            "grid_auto_columns": null,
            "margin": null,
            "display": null,
            "left": null
          }
        },
        "4bf98a78986f46b79c14038fc55a6c00": {
          "model_module": "@jupyter-widgets/controls",
          "model_name": "DescriptionStyleModel",
          "state": {
            "_view_name": "StyleView",
            "_model_name": "DescriptionStyleModel",
            "description_width": "",
            "_view_module": "@jupyter-widgets/base",
            "_model_module_version": "1.5.0",
            "_view_count": null,
            "_view_module_version": "1.2.0",
            "_model_module": "@jupyter-widgets/controls"
          }
        },
        "062b20397df04c92814b9082f78644a7": {
          "model_module": "@jupyter-widgets/base",
          "model_name": "LayoutModel",
          "state": {
            "_view_name": "LayoutView",
            "grid_template_rows": null,
            "right": null,
            "justify_content": null,
            "_view_module": "@jupyter-widgets/base",
            "overflow": null,
            "_model_module_version": "1.2.0",
            "_view_count": null,
            "flex_flow": null,
            "width": null,
            "min_width": null,
            "border": null,
            "align_items": null,
            "bottom": null,
            "_model_module": "@jupyter-widgets/base",
            "top": null,
            "grid_column": null,
            "overflow_y": null,
            "overflow_x": null,
            "grid_auto_flow": null,
            "grid_area": null,
            "grid_template_columns": null,
            "flex": null,
            "_model_name": "LayoutModel",
            "justify_items": null,
            "grid_row": null,
            "max_height": null,
            "align_content": null,
            "visibility": null,
            "align_self": null,
            "height": null,
            "min_height": null,
            "padding": null,
            "grid_auto_rows": null,
            "grid_gap": null,
            "max_width": null,
            "order": null,
            "_view_module_version": "1.2.0",
            "grid_template_areas": null,
            "object_position": null,
            "object_fit": null,
            "grid_auto_columns": null,
            "margin": null,
            "display": null,
            "left": null
          }
        },
        "f2185363bad446fabdf6840c419b623b": {
          "model_module": "@jupyter-widgets/controls",
          "model_name": "HBoxModel",
          "state": {
            "_view_name": "HBoxView",
            "_dom_classes": [],
            "_model_name": "HBoxModel",
            "_view_module": "@jupyter-widgets/controls",
            "_model_module_version": "1.5.0",
            "_view_count": null,
            "_view_module_version": "1.5.0",
            "box_style": "",
            "layout": "IPY_MODEL_3ed950fe850d4aeeb0ee271bf345cf4c",
            "_model_module": "@jupyter-widgets/controls",
            "children": [
              "IPY_MODEL_e170c36d1e0b46518e984fa04b1ee89e",
              "IPY_MODEL_21976a53226143f4b31b08f9fad3ed1a"
            ]
          }
        },
        "3ed950fe850d4aeeb0ee271bf345cf4c": {
          "model_module": "@jupyter-widgets/base",
          "model_name": "LayoutModel",
          "state": {
            "_view_name": "LayoutView",
            "grid_template_rows": null,
            "right": null,
            "justify_content": null,
            "_view_module": "@jupyter-widgets/base",
            "overflow": null,
            "_model_module_version": "1.2.0",
            "_view_count": null,
            "flex_flow": null,
            "width": null,
            "min_width": null,
            "border": null,
            "align_items": null,
            "bottom": null,
            "_model_module": "@jupyter-widgets/base",
            "top": null,
            "grid_column": null,
            "overflow_y": null,
            "overflow_x": null,
            "grid_auto_flow": null,
            "grid_area": null,
            "grid_template_columns": null,
            "flex": null,
            "_model_name": "LayoutModel",
            "justify_items": null,
            "grid_row": null,
            "max_height": null,
            "align_content": null,
            "visibility": null,
            "align_self": null,
            "height": null,
            "min_height": null,
            "padding": null,
            "grid_auto_rows": null,
            "grid_gap": null,
            "max_width": null,
            "order": null,
            "_view_module_version": "1.2.0",
            "grid_template_areas": null,
            "object_position": null,
            "object_fit": null,
            "grid_auto_columns": null,
            "margin": null,
            "display": null,
            "left": null
          }
        },
        "e170c36d1e0b46518e984fa04b1ee89e": {
          "model_module": "@jupyter-widgets/controls",
          "model_name": "FloatProgressModel",
          "state": {
            "_view_name": "ProgressView",
            "style": "IPY_MODEL_99837a84a5c848e2975aca543a64da6d",
            "_dom_classes": [],
            "description": "predict: 100%",
            "_model_name": "FloatProgressModel",
            "bar_style": "success",
            "max": 1489,
            "_view_module": "@jupyter-widgets/controls",
            "_model_module_version": "1.5.0",
            "value": 1489,
            "_view_count": null,
            "_view_module_version": "1.5.0",
            "orientation": "horizontal",
            "min": 0,
            "description_tooltip": null,
            "_model_module": "@jupyter-widgets/controls",
            "layout": "IPY_MODEL_decab98854c74caea3478f4ff4694737"
          }
        },
        "21976a53226143f4b31b08f9fad3ed1a": {
          "model_module": "@jupyter-widgets/controls",
          "model_name": "HTMLModel",
          "state": {
            "_view_name": "HTMLView",
            "style": "IPY_MODEL_9315efbb0e234622be86c89493545b03",
            "_dom_classes": [],
            "description": "",
            "_model_name": "HTMLModel",
            "placeholder": "​",
            "_view_module": "@jupyter-widgets/controls",
            "_model_module_version": "1.5.0",
            "value": " 1489/1489 [00:16&lt;00:00, 92.65it/s]",
            "_view_count": null,
            "_view_module_version": "1.5.0",
            "description_tooltip": null,
            "_model_module": "@jupyter-widgets/controls",
            "layout": "IPY_MODEL_c2df933eff4a4b1994a8020c517de41a"
          }
        },
        "99837a84a5c848e2975aca543a64da6d": {
          "model_module": "@jupyter-widgets/controls",
          "model_name": "ProgressStyleModel",
          "state": {
            "_view_name": "StyleView",
            "_model_name": "ProgressStyleModel",
            "description_width": "initial",
            "_view_module": "@jupyter-widgets/base",
            "_model_module_version": "1.5.0",
            "_view_count": null,
            "_view_module_version": "1.2.0",
            "bar_color": null,
            "_model_module": "@jupyter-widgets/controls"
          }
        },
        "decab98854c74caea3478f4ff4694737": {
          "model_module": "@jupyter-widgets/base",
          "model_name": "LayoutModel",
          "state": {
            "_view_name": "LayoutView",
            "grid_template_rows": null,
            "right": null,
            "justify_content": null,
            "_view_module": "@jupyter-widgets/base",
            "overflow": null,
            "_model_module_version": "1.2.0",
            "_view_count": null,
            "flex_flow": null,
            "width": null,
            "min_width": null,
            "border": null,
            "align_items": null,
            "bottom": null,
            "_model_module": "@jupyter-widgets/base",
            "top": null,
            "grid_column": null,
            "overflow_y": null,
            "overflow_x": null,
            "grid_auto_flow": null,
            "grid_area": null,
            "grid_template_columns": null,
            "flex": null,
            "_model_name": "LayoutModel",
            "justify_items": null,
            "grid_row": null,
            "max_height": null,
            "align_content": null,
            "visibility": null,
            "align_self": null,
            "height": null,
            "min_height": null,
            "padding": null,
            "grid_auto_rows": null,
            "grid_gap": null,
            "max_width": null,
            "order": null,
            "_view_module_version": "1.2.0",
            "grid_template_areas": null,
            "object_position": null,
            "object_fit": null,
            "grid_auto_columns": null,
            "margin": null,
            "display": null,
            "left": null
          }
        },
        "9315efbb0e234622be86c89493545b03": {
          "model_module": "@jupyter-widgets/controls",
          "model_name": "DescriptionStyleModel",
          "state": {
            "_view_name": "StyleView",
            "_model_name": "DescriptionStyleModel",
            "description_width": "",
            "_view_module": "@jupyter-widgets/base",
            "_model_module_version": "1.5.0",
            "_view_count": null,
            "_view_module_version": "1.2.0",
            "_model_module": "@jupyter-widgets/controls"
          }
        },
        "c2df933eff4a4b1994a8020c517de41a": {
          "model_module": "@jupyter-widgets/base",
          "model_name": "LayoutModel",
          "state": {
            "_view_name": "LayoutView",
            "grid_template_rows": null,
            "right": null,
            "justify_content": null,
            "_view_module": "@jupyter-widgets/base",
            "overflow": null,
            "_model_module_version": "1.2.0",
            "_view_count": null,
            "flex_flow": null,
            "width": null,
            "min_width": null,
            "border": null,
            "align_items": null,
            "bottom": null,
            "_model_module": "@jupyter-widgets/base",
            "top": null,
            "grid_column": null,
            "overflow_y": null,
            "overflow_x": null,
            "grid_auto_flow": null,
            "grid_area": null,
            "grid_template_columns": null,
            "flex": null,
            "_model_name": "LayoutModel",
            "justify_items": null,
            "grid_row": null,
            "max_height": null,
            "align_content": null,
            "visibility": null,
            "align_self": null,
            "height": null,
            "min_height": null,
            "padding": null,
            "grid_auto_rows": null,
            "grid_gap": null,
            "max_width": null,
            "order": null,
            "_view_module_version": "1.2.0",
            "grid_template_areas": null,
            "object_position": null,
            "object_fit": null,
            "grid_auto_columns": null,
            "margin": null,
            "display": null,
            "left": null
          }
        }
      }
    }
  },
  "cells": [
    {
      "cell_type": "code",
      "metadata": {
        "id": "A3D-FQFvCkyy",
        "colab_type": "code",
        "outputId": "17d3bb6c-39be-4ef5-9d10-cd1dde1a08cf",
        "colab": {
          "base_uri": "https://localhost:8080/",
          "height": 136
        }
      },
      "source": [
        "#@title <b><font color=\"red\">▶</font><font color=\"black\"> run this cell to prepare supplementary materials for the lesson</font></b>\n",
        "\n",
        "!rm -rf harbour-space-text-mining-course\n",
        "!git clone https://github.com/horoshenkih/harbour-space-text-mining-course.git\n",
        "import sys\n",
        "sys.path.append('harbour-space-text-mining-course')\n",
        "\n",
        "from tmcourse.ipyquiz import Quiz\n",
        "\n",
        "from tmcourse.utils import (\n",
        "    enable_mathjax_in_cell,\n",
        "    display_cv_results,\n",
        "    display_token_importance,\n",
        ")\n",
        "from tmcourse.quiz import (\n",
        "    quiz_conditional_probability,\n",
        "    quiz_chain_rule,\n",
        "    quiz_bigram_lm,\n",
        "    quiz_count_ngrams,\n",
        "    quiz_perplexity,\n",
        "    quiz_random_benchmark,\n",
        "    quiz_pipeline_parameter,\n",
        ")\n",
        "from tmcourse.demo import (\n",
        "    demo_generate_text_ngram,\n",
        ")\n",
        "\n",
        "from collections import Counter\n",
        "from math import exp\n",
        "from tabulate import tabulate\n",
        "from tqdm.notebook import tqdm\n",
        "from IPython.display import HTML, display"
      ],
      "execution_count": 2,
      "outputs": [
        {
          "output_type": "stream",
          "text": [
            "Cloning into 'harbour-space-text-mining-course'...\n",
            "remote: Enumerating objects: 117, done.\u001b[K\n",
            "remote: Counting objects: 100% (117/117), done.\u001b[K\n",
            "remote: Compressing objects: 100% (73/73), done.\u001b[K\n",
            "remote: Total 424 (delta 83), reused 77 (delta 44), pack-reused 307\u001b[K\n",
            "Receiving objects: 100% (424/424), 40.03 MiB | 19.54 MiB/s, done.\n",
            "Resolving deltas: 100% (266/266), done.\n"
          ],
          "name": "stdout"
        }
      ]
    },
    {
      "cell_type": "markdown",
      "metadata": {
        "id": "IHhb5pDTfzXa",
        "colab_type": "text"
      },
      "source": [
        "<!--@slideshow slide-->\n",
        "# Language Models"
      ]
    },
    {
      "cell_type": "markdown",
      "metadata": {
        "id": "OTB0RXdTFU0N",
        "colab_type": "text"
      },
      "source": [
        "<!--@slideshow slide-->\n",
        "# Last lesson's review\n",
        "1. `spaCy`\n",
        "  - tokenization\n",
        "  - lemmatization\n",
        "  - NER\n",
        "2. TF-IDF\n",
        "  - measures informativity of a term in a document\n",
        "  - the product of Term Frequency (TF) and Inverse Document Frequency (IDF)\n",
        "3. Vectorizers in `sklearn`"
      ]
    },
    {
      "cell_type": "markdown",
      "metadata": {
        "id": "MXElIvyMJtas",
        "colab_type": "text"
      },
      "source": [
        "<!--@slideshow slide-->\n",
        "# Plan for today\n",
        "1. Probability refresher: conditional probability and chain rule\n",
        "2. Definition of Language Model\n",
        "3. Algorithm: $n$-gram Language Model\n",
        "4. Generate text with Language Model\n",
        "5. Evaluate quality of Language Model\n",
        "6. Text classification with Language Models"
      ]
    },
    {
      "cell_type": "markdown",
      "metadata": {
        "id": "OFFUyHFEVd-1",
        "colab_type": "text"
      },
      "source": [
        "<!--@slideshow slide-->\n",
        "# Probability refresher\n"
      ]
    },
    {
      "cell_type": "markdown",
      "metadata": {
        "id": "q3uEuofujJXw",
        "colab_type": "text"
      },
      "source": [
        "<!--@slideshow slide-->\n",
        "## Conditional probability\n",
        "Probability of $B$ given $A$ is defined as\n",
        "$$\n",
        "\\Pr(B|A) = \\dfrac{\\Pr(AB)}{\\Pr(A)}\n",
        "$$\n",
        "\n",
        "**Interpretation**: instead of full probability space, consider the subspace where event $A$ occurs.\n",
        "\n",
        "**Example**: Compute $\\Pr(\\textrm{''great''}|\\textrm{''america''})$ in tweets of Donald Trump.\n",
        "> How likely does Trump say \"great\" when he says \"america\"?"
      ]
    },
    {
      "cell_type": "code",
      "metadata": {
        "id": "xd2Yb_usbRzi",
        "colab_type": "code",
        "colab": {}
      },
      "source": [
        "import json\n",
        "with open(\"harbour-space-text-mining-course/datasets/trump_twitter_archive/tweets.json\") as f:\n",
        "    tweets = json.load(f)"
      ],
      "execution_count": 0,
      "outputs": []
    },
    {
      "cell_type": "markdown",
      "metadata": {
        "id": "PtEoPCuxgMz4",
        "colab_type": "text"
      },
      "source": [
        "<!--@slideshow slide-->\n",
        "Compute $\\Pr(\\textrm{''great''}|\\textrm{''america''})$ using the definition of conditional probability."
      ]
    },
    {
      "cell_type": "code",
      "metadata": {
        "id": "Y-vMN6NEefO2",
        "colab_type": "code",
        "outputId": "b2648e58-927f-472e-c3fa-978cfc831cf3",
        "colab": {
          "base_uri": "https://localhost:8080/",
          "height": 119
        }
      },
      "source": [
        "#@slideshow fragment\n",
        "total_tweets = len(tweets)\n",
        "tweets_with_america = sum([\n",
        "    \"america\" in t[\"text\"].lower()\n",
        "    for t in tweets\n",
        "])\n",
        "tweets_with_america_great = sum([\n",
        "    \"america\" in t[\"text\"].lower() and \"great\" in t[\"text\"].lower()\n",
        "    for t in tweets\n",
        "])\n",
        "# P(A)\n",
        "P_america = tweets_with_america / total_tweets\n",
        "# P(AB)\n",
        "P_america_great = tweets_with_america_great / total_tweets\n",
        "# P(B|A)\n",
        "P_great_given_america = P_america_great / P_america\n",
        "\n",
        "print(\"Total tweets:\", total_tweets)\n",
        "print('# times \"america\" occurs in tweets:', tweets_with_america)\n",
        "print('# times \"america\" and \\\"great\\\" occur in tweets:', tweets_with_america_great)\n",
        "print('P(\"america\") =', P_america)\n",
        "print('P(\"america\" \"great\") =', P_america_great)\n",
        "print('P(\"great\" | \"america\") =', P_great_given_america)"
      ],
      "execution_count": 4,
      "outputs": [
        {
          "output_type": "stream",
          "text": [
            "Total tweets: 48040\n",
            "# times \"america\" occurs in tweets: 4289\n",
            "# times \"america\" and \"great\" occur in tweets: 1710\n",
            "P(\"america\") = 0.08927976686094921\n",
            "P(\"america\" \"great\") = 0.03559533721898418\n",
            "P(\"great\" | \"america\") = 0.39869433434366985\n"
          ],
          "name": "stdout"
        }
      ]
    },
    {
      "cell_type": "markdown",
      "metadata": {
        "id": "newECreegSJD",
        "colab_type": "text"
      },
      "source": [
        "<!--@slideshow slide-->\n",
        "Interpret the conditional probability $\\Pr(B|A)$ as the probability of $B$ in the subspace where $A$ occurs"
      ]
    },
    {
      "cell_type": "code",
      "metadata": {
        "id": "6XqlPJ8Gge-a",
        "colab_type": "code",
        "outputId": "4021aee9-44d5-489a-d5a5-9791a2ccb821",
        "colab": {
          "base_uri": "https://localhost:8080/",
          "height": 34
        }
      },
      "source": [
        "#@slideshow fragment\n",
        "# event A = tweet contains \"america\"\n",
        "# event B = tweet contains \"great\"\n",
        "\n",
        "N = 0\n",
        "N_B = 0\n",
        "for t in tweets:\n",
        "    tweet_text = t[\"text\"].lower()\n",
        "    if \"america\" not in tweet_text:\n",
        "        # ignore all the events where A do not occur\n",
        "        continue\n",
        "    # count total events in the subspace\n",
        "    N += 1\n",
        "    if \"great\" in tweet_text:\n",
        "        # count events B in the subspace\n",
        "        N_B += 1\n",
        "print('P(\"great\" | \"america\") =', N_B / N)"
      ],
      "execution_count": 5,
      "outputs": [
        {
          "output_type": "stream",
          "text": [
            "P(\"great\" | \"america\") = 0.39869433434366985\n"
          ],
          "name": "stdout"
        }
      ]
    },
    {
      "cell_type": "markdown",
      "metadata": {
        "id": "Ij28XUAsjEZ5",
        "colab_type": "text"
      },
      "source": [
        "<!--@slideshow slide-->\n",
        "## Colab quiz 1"
      ]
    },
    {
      "cell_type": "code",
      "metadata": {
        "id": "PwXQL8xfoDuj",
        "colab_type": "code",
        "outputId": "fd02894f-511c-4e51-aee5-2dbc17fa67ef",
        "colab": {
          "base_uri": "https://localhost:8080/",
          "height": 177,
          "referenced_widgets": [
            "bc6427e53c0748059e2b5bcf774a9ded",
            "814fc30eb9db4e18b95fba14c6f2474e",
            "9642677f71fb4523b3473ce15e11de92",
            "29b2a03d69c940f0943404ee651c2516",
            "e3ab02bbf9d0495eb3fe4a35c7ca66d3",
            "1da8b607ab964bc99bee907113c3bf1b",
            "dfe7eb9ddd9649aaa567eba613a4d565",
            "c97c111e454c4a6aa7f2293f10f019c1",
            "8d04e8cf634d43ac90f48360391e75f0",
            "ea11ebdb658849fdaf3a99491aee8034",
            "628d4afa481d4ac3ba0934bbd69c9712",
            "89453d59b61c4f8faeb4d10e605bbad3",
            "fe2f09af7a3c4c03946eb79c2bcc2945",
            "f9df365852504feca9d91197a73447cf",
            "e5dc2ed40b2e44e9b52bdf33f5926987",
            "e12481c4e74545e29aff5cf1d334223e"
          ]
        }
      },
      "source": [
        "quiz_conditional_probability()()"
      ],
      "execution_count": 6,
      "outputs": [
        {
          "output_type": "display_data",
          "data": {
            "application/vnd.jupyter.widget-view+json": {
              "model_id": "bc6427e53c0748059e2b5bcf774a9ded",
              "version_minor": 0,
              "version_major": 2
            },
            "text/plain": [
              "VBox(children=(Output(), RadioButtons(options=('Pr(A|B) = 0.2, Pr(B|A) = 0.2', 'Pr(A|B) = 0.5, Pr(B|A) = 0.25'…"
            ]
          },
          "metadata": {
            "tags": []
          }
        }
      ]
    },
    {
      "cell_type": "markdown",
      "metadata": {
        "id": "G8DWvtMFbPJj",
        "colab_type": "text"
      },
      "source": [
        "<!--@slideshow slide-->\n",
        "## Chain rule\n",
        "Chain rule is the successive application of the definition of conditional probability.\n"
      ]
    },
    {
      "cell_type": "markdown",
      "metadata": {
        "id": "eo9tQ1_phUdR",
        "colab_type": "text"
      },
      "source": [
        "<!--@slideshow fragment-->\n",
        "For 3 events $A, B, C$\n",
        "$$\n",
        "\\Pr(ABC) = \\Pr(A) \\cdot \\Pr(BC|A)\n",
        "$$"
      ]
    },
    {
      "cell_type": "markdown",
      "metadata": {
        "id": "vv0-bnRFhaUJ",
        "colab_type": "text"
      },
      "source": [
        "<!--@slideshow fragment-->\n",
        "Denote $\\Pr_A(\\cdot) \\equiv \\Pr(\\cdot|A)$. Again, the interpretation is: instead of full probability space, consider the subspace where $A$ occurs.\n",
        "\n",
        "<center>$\\Pr(BC|A) \\equiv \\Pr_A (BC) = \\Pr_A(B) \\cdot \\Pr_A(C|B)$</center>\n"
      ]
    },
    {
      "cell_type": "markdown",
      "metadata": {
        "id": "2_hSMTX1hfzW",
        "colab_type": "text"
      },
      "source": [
        "<!--@slideshow fragment-->\n",
        "Substituting to the first equation:\n",
        "$$\n",
        "\\Pr(ABC) = \\Pr(A) \\cdot \\Pr(BC|A) = \\Pr(A) \\cdot \\Pr(B|A) \\cdot \\Pr(C|BA)\n",
        "$$\n"
      ]
    },
    {
      "cell_type": "markdown",
      "metadata": {
        "id": "aczZz5guhj11",
        "colab_type": "text"
      },
      "source": [
        "<!--@slideshow fragment-->\n",
        "The event $A$ is not special, we can use $B$ instead:\n",
        "$$\n",
        "\\Pr(ABC) = \\Pr(B) \\cdot \\Pr(AC|B) = \\Pr(B) \\cdot \\Pr(C|B) \\cdot \\Pr(A|BC)\n",
        "$$\n"
      ]
    },
    {
      "cell_type": "markdown",
      "metadata": {
        "id": "7uhNpHSEhn_Z",
        "colab_type": "text"
      },
      "source": [
        "<!--@slideshow slide-->\n",
        "General form of chain rule:\n",
        "$$\n",
        "\\Pr(A_1 A_2 \\dots A_n) = \\Pr(A_1) \\cdot \\Pr(A_2 | A_1) \\cdot \\dots \\cdot \\Pr(A_n| A_{n-1} A_{n-2} \\dots A_2 A_1)\n",
        "$$"
      ]
    },
    {
      "cell_type": "markdown",
      "metadata": {
        "id": "_DCePQBYjMCe",
        "colab_type": "text"
      },
      "source": [
        "<!--@slideshow slide-->\n",
        "## Colab quiz 2"
      ]
    },
    {
      "cell_type": "code",
      "metadata": {
        "id": "wdAYPmaTsCIz",
        "colab_type": "code",
        "outputId": "c69b8742-3692-4bd0-d3cf-8f76dd03ce92",
        "colab": {
          "base_uri": "https://localhost:8080/",
          "height": 217,
          "referenced_widgets": [
            "fcb6ef873d1f4bfe8008e2c72752dbc9",
            "9ca1d822ea6d47b3b3cda56c4a549e65",
            "c43bafbc7d5e4a868ce8d505df454eb5",
            "ad73bbbb78174d5aba8ccd1c67513538",
            "a46e580e057b429b988ea51bbacdc43e",
            "d2a219b030d84143af18a1580a225390",
            "ebcc31874a5844b8aaeb1b8201517f6f",
            "bc9c467a4aa64fdf952e2a0486b38c5e",
            "36a0acd8ad4649ed99245b2f5568efa9",
            "610b6719c5b24b88995a34cea83dd427",
            "cce4e6865fff4d0099043865d7642ef1",
            "22371bc5e21d47eca6fe6836c2fd1a35",
            "a32270526d2e4cb5a85556aec55f7e17",
            "f71f1def541e4cfaa629ad5c79d05cc1",
            "37d876aea630476a8421481741fac4c0",
            "c16597ff2130475d9ff065c2b62f4774"
          ]
        }
      },
      "source": [
        "quiz_chain_rule()()"
      ],
      "execution_count": 7,
      "outputs": [
        {
          "output_type": "display_data",
          "data": {
            "application/vnd.jupyter.widget-view+json": {
              "model_id": "fcb6ef873d1f4bfe8008e2c72752dbc9",
              "version_minor": 0,
              "version_major": 2
            },
            "text/plain": [
              "VBox(children=(Output(), RadioButtons(options=('0.1', '0.2', '0.3', '0.5', 'Not enough data'), value='0.1'), H…"
            ]
          },
          "metadata": {
            "tags": []
          }
        }
      ]
    },
    {
      "cell_type": "markdown",
      "metadata": {
        "id": "08_UErMRKXVw",
        "colab_type": "text"
      },
      "source": [
        "<!--@slideshow slide-->\n",
        "# What is Language Model?"
      ]
    },
    {
      "cell_type": "markdown",
      "metadata": {
        "id": "eL-hgdmeiPp9",
        "colab_type": "text"
      },
      "source": [
        "<!--@slideshow fragment-->\n",
        "**Definition 1**: a _language model_ is an algorithm that predicts (estimates) the probability of a text:\n",
        "\n",
        "$$\n",
        "\\Pr(\\textrm{\"never gonna give you up\"}) = ?\n",
        "$$"
      ]
    },
    {
      "cell_type": "markdown",
      "metadata": {
        "id": "J0HfnUpYBxO2",
        "colab_type": "text"
      },
      "source": [
        "<!--@slideshow fragment-->\n",
        "**Definition 2**: a _language model_ is an algorithm that predicts (estimates) the conditional probability of the next word in a sequence:\n",
        "\n",
        "$$\n",
        "\\Pr(\\textrm{\"up\"} | \\textrm{\"never gonna give you\"}) = ?\n",
        "$$\n",
        "\n",
        "> \"Predict the conditional probability of the next word\" is just a formal way to say \"Predict the next word\""
      ]
    },
    {
      "cell_type": "markdown",
      "metadata": {
        "id": "2EdMGv4bOTKn",
        "colab_type": "text"
      },
      "source": [
        "<!--@slideshow fragment-->\n",
        "**These definitions are equivalent!**"
      ]
    },
    {
      "cell_type": "markdown",
      "metadata": {
        "id": "S6xp598zDgYK",
        "colab_type": "text"
      },
      "source": [
        "<!--@slideshow slide-->\n",
        "## Definition 1 implies Definition 2\n",
        "\n",
        "We can get conditional probabilities of words from probabilities of texts, like this:\n",
        "$$\n",
        "\\Pr(\\textrm{\"up\"} | \\textrm{\"never gonna give you\"}) = \\dfrac{\\Pr(\\textrm{\"never gonna give you up\"})}{\\Pr(\\textrm{\"never gonna give you\"})}\n",
        "$$\n",
        "Or, in general\n",
        "$$\n",
        "\\Pr(t_n | t_1 t_2 \\dots t_{n-1}) = \\dfrac{\\Pr(t_1 t_2 \\dots t_{n-1} t_n)}{\\Pr(t_1 t_2 \\dots t_{n-1})}\n",
        "$$"
      ]
    },
    {
      "cell_type": "markdown",
      "metadata": {
        "id": "FTNBXZ83OLIp",
        "colab_type": "text"
      },
      "source": [
        "<!--@slideshow slide-->\n",
        "## Definition 2 implies Definition 1\n",
        "\n",
        "We can compute the probability of a sequence from conditional probabilities of words using chain rule, like this:\n",
        "$$\n",
        "\\Pr(\\textrm{\"never gonna give you up\"}) = \\Pr(\\textrm{\"never\"}) \\cdot \\Pr(\\textrm{\"gonna\"} | \\textrm{\"never\"}) \\cdot \\Pr(\\textrm{\"give\"}| \\textrm{\"never gonna\"}) \\cdot \\Pr(\\textrm{\"you\"}| \\textrm{\"never gonna give\"}) \\cdot \\Pr(\\textrm{\"up\"} | \\textrm{\"never gonna give you\"})\n",
        "$$\n",
        "Or, in general\n",
        "$$\n",
        "\\Pr(t_1t_2\\dots t_n) = \\Pr(t_1) \\cdot \\Pr(t_2 | t_1) \\cdot \\Pr(t_3 | t_1 t_2) \\cdot \\dots \\cdot \\Pr(t_n | t_1 t_2 \\dots t_{n-1})\n",
        "$$"
      ]
    },
    {
      "cell_type": "markdown",
      "metadata": {
        "id": "_5euee1_O_dt",
        "colab_type": "text"
      },
      "source": [
        "<!--@slideshow slide-->\n",
        "**Q**: How to estimate the probability of a sequence?\n"
      ]
    },
    {
      "cell_type": "markdown",
      "metadata": {
        "id": "-j4ahJ61iaJk",
        "colab_type": "text"
      },
      "source": [
        "<!--@slideshow fragment-->\n",
        "**A**: Count how often the sequence occurs in data.\n"
      ]
    },
    {
      "cell_type": "markdown",
      "metadata": {
        "id": "JdTJdsU5ic1m",
        "colab_type": "text"
      },
      "source": [
        "<!--@slideshow fragment-->\n",
        "**Q**: But the data is finite, and the number of sequences is infinite! Is that possible?\n"
      ]
    },
    {
      "cell_type": "markdown",
      "metadata": {
        "id": "WCIdAVKUifRI",
        "colab_type": "text"
      },
      "source": [
        "<!--@slideshow fragment-->\n",
        "**A**: Well, we need an approximation."
      ]
    },
    {
      "cell_type": "markdown",
      "metadata": {
        "id": "Uhl5TyzQYDGH",
        "colab_type": "text"
      },
      "source": [
        "<!--@slideshow slide-->\n",
        "Assumption (Markov property): the probability of the next token depends only on $\\color{red}k$ previous tokens.\n",
        "$$\n",
        "\\Pr(t_i | t_1 t_2 \\dots t_{i-1}) = \\Pr(t_i | t_{\\color{red}{i-k}} t_{\\color{red}{i-k+1}} \\dots t_{i-1})\n",
        "$$\n",
        "Example for $k=3$\n",
        "$$\n",
        "\\Pr(\\textrm{\"up\"} | \\textrm{\"never gonna give you\"}) = \\Pr(\\textrm{\"up\"} | \\textrm{\"gonna give you\"})\n",
        "$$\n"
      ]
    },
    {
      "cell_type": "markdown",
      "metadata": {
        "id": "sn1rUcP3ZWtL",
        "colab_type": "text"
      },
      "source": [
        "<!--@slideshow slide-->\n",
        "**Definition**: $n$_-gram_ is a sequence of $n$ tokens.\n",
        "\n",
        "Special cases:\n",
        "- 1-gram is called _unigram_\n",
        "- 2-gram is called _bigram_\n",
        "- 3-gram is called _trigram_"
      ]
    },
    {
      "cell_type": "markdown",
      "metadata": {
        "id": "h6wjZqlKZ1IT",
        "colab_type": "text"
      },
      "source": [
        "<!--@slideshow slide-->\n",
        "**Definition**: _$n$-gram language model_ estimates the probability of a sequence assuming that each token depends on $n-1$ previous tokens."
      ]
    },
    {
      "cell_type": "markdown",
      "metadata": {
        "id": "embXR77xaNou",
        "colab_type": "text"
      },
      "source": [
        "<!--@slideshow fragment-->\n",
        "Examples:\n",
        "- A unigram (1-gram) language model assumes that all the tokens are independent (each token depends on 0 preceeding tokens).\n",
        "  - $\\Pr(t_i | t_1 t_2 \\dots t_{i-1}) = \\Pr(t_i)$"
      ]
    },
    {
      "cell_type": "markdown",
      "metadata": {
        "id": "9dt4mtQPiwdQ",
        "colab_type": "text"
      },
      "source": [
        "<!--@slideshow fragment-->\n",
        "- A bigram (2-gram) language model assumes that the next token depends on the latest preceeding token.\n",
        "  - $\\Pr(t_i | t_1 t_2 \\dots t_{i-1}) = \\Pr(t_i| t_{i-1}) = \\dfrac{\\Pr(t_{i-1} t_i)}{\\Pr(t_{i-1})}$"
      ]
    },
    {
      "cell_type": "markdown",
      "metadata": {
        "id": "AOSDtX-Pi4bX",
        "colab_type": "text"
      },
      "source": [
        "<!--@slideshow fragment-->\n",
        "- For a general $n$-gram language model, it is sufficient to know probabilities of $n$-grams and $n-1$-grams.\n",
        "  - $\\Pr(t_i | t_1 t_2 \\dots t_{i-1}) = \\Pr(t_i| t_{i-n + 1} \\dots t_{i-1}) = \\dfrac{\\Pr(\\overbrace{t_{i-n + 1} \\dots t_i}^{n\\textrm{ tokens}})}{\\Pr(\\underbrace{t_{i-n + 1} \\dots t_{i-1}}_{n-1\\textrm{ tokens}})}$"
      ]
    },
    {
      "cell_type": "markdown",
      "metadata": {
        "id": "BbQRCN1RugC-",
        "colab_type": "text"
      },
      "source": [
        "<!--@slideshow slide-->\n",
        "## Colab quiz 3"
      ]
    },
    {
      "cell_type": "code",
      "metadata": {
        "id": "PDsPrJiaufyx",
        "colab_type": "code",
        "outputId": "3c2cf62f-bcba-4533-d094-4b965a0e10c6",
        "colab": {
          "base_uri": "https://localhost:8080/",
          "height": 321,
          "referenced_widgets": [
            "ebf539ec50e34df794b63863a2769ac1",
            "3bec1558e4804a07b6f2cc0fb4aa1777",
            "bde7086781414aacb6aaf1b9a7d10e73",
            "cce94fddc93446458f1fceab79d8284a",
            "4abe6adb85824d3a97e350eea3fde4a5",
            "cd87c966fda54a4d9a0be6648c0ebf03",
            "62ed1b50ecd34ef88b8a943dff306eac",
            "05f5776472ff4f3aac55bae7b0dc8a3f",
            "4baf8528f70640f8b5d555e43f44a01e",
            "872f3a988a074a7e9626f31b94cea992",
            "a12523128a92438eb260df14f1424ffd",
            "63f4c93c230d40a286d582f0141da152",
            "c14a768b274345fab1abca4bb337d48f",
            "643fd50888b844c0bb6afaaac5c5938a",
            "4dabb7c42d29464ba00829558c7a53e9",
            "e6562dda55ca40bc8914d392470eaa93"
          ]
        }
      },
      "source": [
        "enable_mathjax_in_cell()\n",
        "quiz_bigram_lm()()"
      ],
      "execution_count": 8,
      "outputs": [
        {
          "output_type": "display_data",
          "data": {
            "text/html": [
              "\n",
              "        <script src=\"https://www.gstatic.com/external_hosted/mathjax/latest/MathJax.js?config=TeX-AMS_HTML-full,Safe&delayStartupUntil=configured\"></script>\n",
              "        <script>\n",
              "            (() => {\n",
              "            const mathjax = window.MathJax;\n",
              "            mathjax.Hub.Config({\n",
              "            'tex2jax': {\n",
              "                'inlineMath': [['$', '$'], ['\\(', '\\)']],\n",
              "                'displayMath': [['$$', '$$'], ['\\[', '\\]']],\n",
              "                'processEscapes': true,\n",
              "                'processEnvironments': true,\n",
              "                'skipTags': ['script', 'noscript', 'style', 'textarea', 'code'],\n",
              "                'displayAlign': 'center',\n",
              "            },\n",
              "            'HTML-CSS': {\n",
              "                'styles': {'.MathJax_Display': {'margin': 0}},\n",
              "                'linebreaks': {'automatic': true},\n",
              "                // Disable to prevent OTF font loading, which aren't part of our\n",
              "                // distribution.\n",
              "                'imageFont': null,\n",
              "            },\n",
              "            'messageStyle': 'none'\n",
              "            });\n",
              "            mathjax.Hub.Configured();\n",
              "        })();\n",
              "        </script>\n",
              "        "
            ],
            "text/plain": [
              "<IPython.core.display.HTML object>"
            ]
          },
          "metadata": {
            "tags": []
          }
        },
        {
          "output_type": "display_data",
          "data": {
            "application/vnd.jupyter.widget-view+json": {
              "model_id": "ebf539ec50e34df794b63863a2769ac1",
              "version_minor": 0,
              "version_major": 2
            },
            "text/plain": [
              "VBox(children=(Output(), RadioButtons(options=('0.00076', '0.000665', '0.0003325'), value='0.00076'), HTML(val…"
            ]
          },
          "metadata": {
            "tags": []
          }
        }
      ]
    },
    {
      "cell_type": "markdown",
      "metadata": {
        "id": "xxL_N6wGuoQJ",
        "colab_type": "text"
      },
      "source": [
        "<!--@slideshow slide-->\n",
        "# Algorithm: $n$-gram Language Model"
      ]
    },
    {
      "cell_type": "markdown",
      "metadata": {
        "id": "mxSY5-yLarok",
        "colab_type": "text"
      },
      "source": [
        "<!--@slideshow slide-->\n",
        "To build an $n$-gram language model, we need to compute probabilities of $n$-grams and $n-1$-grams.\n",
        "\n",
        "To do so, we need to count $n$-grams and $n-1$-grams."
      ]
    },
    {
      "cell_type": "code",
      "metadata": {
        "id": "bM21IM-628zI",
        "colab_type": "code",
        "outputId": "df656eba-b704-43a9-f2a0-5a2092d48ba3",
        "colab": {
          "base_uri": "https://localhost:8080/",
          "height": 88
        }
      },
      "source": [
        "#@slideshow slide\n",
        "def generate_n_grams(sequence, n):\n",
        "    # it is convenient to add padding to the beginnning and to the end of the sequence\n",
        "    # 'None' is the technical token\n",
        "    padding = [None for _ in range(n-1)]\n",
        "    # we extract n-grams from the padded sequence\n",
        "    padded_sequence = padding + sequence + padding\n",
        "    generated_ngrams = []\n",
        "    # sliding window of size n: iterate over first n-1 technical tokens, then len(sequence) \"real\" tokens\n",
        "    for i in range(n - 1 + len(sequence)):\n",
        "        # take the slice of size n starting with i-th token\n",
        "        generated_ngrams.append(tuple(padded_sequence[i:i+n]))\n",
        "\n",
        "    return generated_ngrams\n",
        "\n",
        "# look at the examples\n",
        "unigrams = generate_n_grams(list(\"abcdef\"), 1)\n",
        "bigrams = generate_n_grams(list(\"abcdef\"), 2)\n",
        "trigrams = generate_n_grams(list(\"abcdef\"), 3)\n",
        "print(len(unigrams), \"unigrams:\", unigrams)\n",
        "print(len(bigrams), \"bigrams:\", bigrams)\n",
        "print(len(trigrams), \"trigrams:\", trigrams)"
      ],
      "execution_count": 9,
      "outputs": [
        {
          "output_type": "stream",
          "text": [
            "6 unigrams: [('a',), ('b',), ('c',), ('d',), ('e',), ('f',)]\n",
            "7 bigrams: [(None, 'a'), ('a', 'b'), ('b', 'c'), ('c', 'd'), ('d', 'e'), ('e', 'f'), ('f', None)]\n",
            "8 trigrams: [(None, None, 'a'), (None, 'a', 'b'), ('a', 'b', 'c'), ('b', 'c', 'd'), ('c', 'd', 'e'), ('d', 'e', 'f'), ('e', 'f', None), ('f', None, None)]\n"
          ],
          "name": "stdout"
        }
      ]
    },
    {
      "cell_type": "code",
      "metadata": {
        "id": "zE8lGNZv7fXY",
        "colab_type": "code",
        "outputId": "08eeb4fa-b09d-4c7d-d8a4-692842234cd6",
        "colab": {
          "base_uri": "https://localhost:8080/",
          "height": 34
        }
      },
      "source": [
        "#@slideshow fragment\n",
        "# usage:\n",
        "from collections import Counter\n",
        "print(Counter(generate_n_grams(list(\"aabab\"), 2)))"
      ],
      "execution_count": 10,
      "outputs": [
        {
          "output_type": "stream",
          "text": [
            "Counter({('a', 'b'): 2, (None, 'a'): 1, ('a', 'a'): 1, ('b', 'a'): 1, ('b', None): 1})\n"
          ],
          "name": "stdout"
        }
      ]
    },
    {
      "cell_type": "markdown",
      "metadata": {
        "id": "PkwPdysj6hMO",
        "colab_type": "text"
      },
      "source": [
        "<!--@slideshow slide-->\n",
        "Remember the formula for $n$-gram language model:\n",
        "$$\n",
        "\\Pr(t_i | t_1 t_2 \\dots t_{i-1}) = \\Pr(t_i| t_{i-n + 1} \\dots t_{i-1}) = \\dfrac{\\Pr(\\overbrace{t_{i-n + 1} \\dots t_i}^{n\\textrm{ tokens}})}{\\Pr(\\underbrace{t_{i-n + 1} \\dots t_{i-1}}_{n-1\\textrm{ tokens}})}\n",
        "$$\n"
      ]
    },
    {
      "cell_type": "markdown",
      "metadata": {
        "id": "SALQ-Svtk_a7",
        "colab_type": "text"
      },
      "source": [
        "<!--@slideshow fragment-->\n",
        "We estimate probabilities by counts:\n",
        "- $\\Pr(t_{i-n} \\dots t_{i-1}) = \\dfrac{\\textrm{count}(t_{i-n} \\dots t_{i-1})}{\\textrm{total # of }n\\textrm{-grams}}$\n",
        "- $\\Pr(t_{i-n + 1} \\dots t_{i-1}) = \\dfrac{\\textrm{count}(t_{i-n + 1} \\dots t_{i-1})}{\\textrm{total # of }n-1\\textrm{-grams}}$\n"
      ]
    },
    {
      "cell_type": "markdown",
      "metadata": {
        "id": "BiDc-qPrlFEf",
        "colab_type": "text"
      },
      "source": [
        "<!--@slideshow fragment-->\n",
        "Since \n",
        "$$\\textrm{total # of }n\\textrm{-grams} \\approx \\textrm{total # of }n-1\\textrm{-grams}$$\n",
        "\n",
        "we have\n",
        "$$\n",
        "\\Pr(t_i | t_1 t_2 \\dots t_{i-1}) = \\dfrac{\\textrm{count}(t_{i-n} \\dots t_{i-1})}{\\textrm{count}(t_{i-n + 1} \\dots t_{i-1})}\n",
        "$$\n"
      ]
    },
    {
      "cell_type": "markdown",
      "metadata": {
        "id": "P0YFJCVglIvS",
        "colab_type": "text"
      },
      "source": [
        "<!--@slideshow slide-->\n",
        "$$\n",
        "\\Pr(t_i | t_1 t_2 \\dots t_{i-1}) = \\dfrac{\\textrm{count}(t_{i-n} \\dots t_{i-1})}{\\textrm{count}(t_{i-n + 1} \\dots t_{i-1})}\n",
        "$$\n",
        "Two possible problems:\n",
        "1. Zero counts in the numerator\n",
        "1. Zero counts in the denominator\n"
      ]
    },
    {
      "cell_type": "markdown",
      "metadata": {
        "id": "-CCdUrsGlVNE",
        "colab_type": "text"
      },
      "source": [
        "<!--@slideshow fragment-->\n",
        "Solution: add _smoothing_:\n",
        "$$\n",
        "\\Pr(t_i | t_1 t_2 \\dots t_{i-1}) = \\dfrac{\\textrm{count}(t_{i-n} \\dots t_{i-1}) \\color{red}{+\\delta}}{\\textrm{count}(t_{i-n + 1} \\dots t_{i-1})\\color{red}{+\\delta \\cdot |V|}}\n",
        "$$\n",
        "where $\\delta$ is a small number, and $V$ is the _vocabulary_ (the set of all tokens).\n"
      ]
    },
    {
      "cell_type": "markdown",
      "metadata": {
        "id": "_nLnbx3TlZ9U",
        "colab_type": "text"
      },
      "source": [
        "<!--@slideshow fragment-->\n",
        "**Intuition**: if we don't have enough data to estimate probabilities, any token is equiprobable."
      ]
    },
    {
      "cell_type": "markdown",
      "metadata": {
        "id": "0RhFQWR0mzov",
        "colab_type": "text"
      },
      "source": [
        "<!--@slideshow slide-->\n",
        "## Colab demo: implementation of $n$-gram language model"
      ]
    },
    {
      "cell_type": "code",
      "metadata": {
        "id": "QCGYxuY2bE87",
        "colab_type": "code",
        "colab": {}
      },
      "source": [
        "from collections import Counter\n",
        "from tqdm.notebook import tqdm\n",
        "\n",
        "class NGramLanguageModel:\n",
        "    def __init__(self, n, delta=0.001, verbose=True):\n",
        "        \"\"\"\n",
        "        n is the parameter of the model\n",
        "        Keep counters for n-grams and n-1-grams\n",
        "        \"\"\"\n",
        "        self.n = n\n",
        "        self.delta = delta\n",
        "        self.n_grams_counter = Counter()  # store n-gram counts\n",
        "        self.nm1_grams_counter = Counter()  # store n-1-gram counts\n",
        "        self.vocab = {None}  # set of all tokens\n",
        "        self.verbose = verbose  # show progressbar\n",
        "    \n",
        "    def fit(self, sequences):\n",
        "        \"\"\"\n",
        "        Train the model\n",
        "        \"\"\"\n",
        "        if self.verbose:\n",
        "            sequences = tqdm(sequences, desc=\"fit\")\n",
        "        for sequence in sequences:\n",
        "            # update the n-grams counter\n",
        "            for n_gram in generate_n_grams(sequence, self.n):\n",
        "                self.n_grams_counter[n_gram] += 1\n",
        "            # update the n-1-grams counter\n",
        "            for nm1_gram in generate_n_grams(sequence, self.n - 1):\n",
        "                self.nm1_grams_counter[nm1_gram] += 1\n",
        "            # update the vocabulary\n",
        "            self.vocab |= set(sequence)\n",
        "    \n",
        "    def predict_token_probability(self, sequence, token):\n",
        "        \"\"\"\n",
        "        Return P(token | sequence)\n",
        "        \"\"\"\n",
        "        padding = [None for i in range(self.n-1)]  # add padding\n",
        "        tail = (padding + sequence)[-(self.n-1):]  # get last n-1 tokens\n",
        "        # estimate the conditional probability using counts with smoothing\n",
        "        return (self.n_grams_counter[tuple(tail + [token])] + self.delta) / (self.nm1_grams_counter[tuple(tail)] + self.delta * len(self.vocab))"
      ],
      "execution_count": 0,
      "outputs": []
    },
    {
      "cell_type": "code",
      "metadata": {
        "id": "AHpqAKTRCtn5",
        "colab_type": "code",
        "colab": {}
      },
      "source": [
        "# read the data\n",
        "import json\n",
        "with open(\"harbour-space-text-mining-course/datasets/trump_twitter_archive/tweets.json\") as f:\n",
        "    tweets = json.load(f)\n",
        "\n",
        "# prepare tokenizer\n",
        "import spacy\n",
        "nlp = spacy.load(\"en\", disable=[\"parser\", \"ner\", \"tagger\"])\n",
        "\n",
        "# Special tokenizer for Twitter:\n",
        "#  - one token for all Twitter accounts\n",
        "#  - one token for all URLs\n",
        "def tokenize(text):\n",
        "    tokens = []\n",
        "    for t in nlp(text):\n",
        "        if t.text.startswith(\"@\"):\n",
        "            tokens.append(\"<TWITTER_ACCOUNT>\")\n",
        "        elif t.text.startswith(\"http\"):\n",
        "            tokens.append(\"<URL>\")\n",
        "        else:\n",
        "            tokens.append(t.text)\n",
        "    return tokens"
      ],
      "execution_count": 0,
      "outputs": []
    },
    {
      "cell_type": "code",
      "metadata": {
        "id": "RxCy-o8fC139",
        "colab_type": "code",
        "outputId": "9749dd6e-2a86-4d46-efaa-e780a98ce723",
        "colab": {
          "base_uri": "https://localhost:8080/",
          "height": 66,
          "referenced_widgets": [
            "45151ec024b94d7fa75f155f1abf971e",
            "b87e8f98a26c454688c547d248bae91f",
            "44af698a5e6f4642a1a8ff5785052b92",
            "369112b8e8f442b28f162c1decd0b174",
            "dfc341dc6a9a42e5b403b09a90fbd75a",
            "c2cc58b73c374c958fcd6359a1bf8663",
            "9e236078181a46208ee7840c13f22a51",
            "46c527c5377f49d18659716f14a3db2a"
          ]
        }
      },
      "source": [
        "sequences = [tokenize(tweet[\"text\"]) for tweet in tqdm(tweets, desc=\"tokenize\") if not tweet.get(\"is_retweet\")]"
      ],
      "execution_count": 13,
      "outputs": [
        {
          "output_type": "display_data",
          "data": {
            "application/vnd.jupyter.widget-view+json": {
              "model_id": "45151ec024b94d7fa75f155f1abf971e",
              "version_minor": 0,
              "version_major": 2
            },
            "text/plain": [
              "HBox(children=(FloatProgress(value=0.0, description='tokenize', max=48040.0, style=ProgressStyle(description_w…"
            ]
          },
          "metadata": {
            "tags": []
          }
        },
        {
          "output_type": "stream",
          "text": [
            "\n"
          ],
          "name": "stdout"
        }
      ]
    },
    {
      "cell_type": "code",
      "metadata": {
        "id": "yVNRmrUZdPIJ",
        "colab_type": "code",
        "outputId": "6359a385-adf3-4ce8-962a-bec5c8d97c03",
        "colab": {
          "base_uri": "https://localhost:8080/",
          "height": 117,
          "referenced_widgets": [
            "bfa2d5cad75446219b65d1ccab8aca5e",
            "3aed336c1069424fb9077c728d40ac4b",
            "0dee1754f95046e4b21ba07ad5a82232",
            "16eebe2e8c3e452f92f7fc95d5ee00fe",
            "fc76cb3625ed4b228f0592c9aa1a4ad2",
            "11c2e6cc09854027af75d051df7f77d3",
            "1e9684a381d04cdbb10b6fc613443b3c",
            "ce7e526676e0495fb63a376760a8587e"
          ]
        }
      },
      "source": [
        "lm = NGramLanguageModel(3, delta=1e-5)\n",
        "lm.fit(sequences)\n",
        "prefix = [\"Make\", \"America\"]\n",
        "for token in [\"great\", \"strong\", \"cool\"]:\n",
        "    print(\" \".join(prefix), token, \":\", lm.predict_token_probability(prefix, token))"
      ],
      "execution_count": 14,
      "outputs": [
        {
          "output_type": "display_data",
          "data": {
            "application/vnd.jupyter.widget-view+json": {
              "model_id": "bfa2d5cad75446219b65d1ccab8aca5e",
              "version_minor": 0,
              "version_major": 2
            },
            "text/plain": [
              "HBox(children=(FloatProgress(value=0.0, description='fit', max=44061.0, style=ProgressStyle(description_width=…"
            ]
          },
          "metadata": {
            "tags": []
          }
        },
        {
          "output_type": "stream",
          "text": [
            "\n",
            "Make America great : 0.04752055855594707\n",
            "Make America strong : 0.011880184189454726\n",
            "Make America cool : 5.9400623944153916e-08\n"
          ],
          "name": "stdout"
        }
      ]
    },
    {
      "cell_type": "markdown",
      "metadata": {
        "id": "geH9dGpRKXgx",
        "colab_type": "text"
      },
      "source": [
        "<!--@slideshow slide-->\n",
        "## Colab quiz 4"
      ]
    },
    {
      "cell_type": "code",
      "metadata": {
        "id": "HmZZbrDXKZg6",
        "colab_type": "code",
        "outputId": "11ef50ce-eee4-4027-c21b-fd88fe72415c",
        "colab": {
          "base_uri": "https://localhost:8080/",
          "height": 185,
          "referenced_widgets": [
            "ed149769dd3c4c2f985e31bf4e9f0f5c",
            "7d87ccc207774e7ca2e5f3559d1eb915",
            "223efb69db614a078fb4bfb2ebb01d83",
            "a22bc2f4caa64eaf87a692497648579e",
            "5f2ef2253ea84de7a4a8656ed20049f4",
            "89fc955a8198448d88d3d6900acc2d9e",
            "a38d76232a0c417b91259bf7b90d6a15",
            "238c6a0d785543e7b82c55ec40fcf024",
            "da57aafc8f37472e8c9c3e06e75921f2",
            "42d9daec78de49c5b11f7a990ff53b4f",
            "b8f8730d5a3d4838a9fe042467fcac00",
            "d536bf7e0c9e4c419ef22b3da5b586a2",
            "5907faf86fd4460298aae5f7186817ce",
            "ce20222f569f4b589ea16bd6ed077985",
            "898de62c21fe413d9cbe5ada56748556",
            "4d53a996d8f6405f8f1cc8127e143b9d"
          ]
        }
      },
      "source": [
        "enable_mathjax_in_cell()\n",
        "quiz_count_ngrams()()"
      ],
      "execution_count": 15,
      "outputs": [
        {
          "output_type": "display_data",
          "data": {
            "text/html": [
              "\n",
              "        <script src=\"https://www.gstatic.com/external_hosted/mathjax/latest/MathJax.js?config=TeX-AMS_HTML-full,Safe&delayStartupUntil=configured\"></script>\n",
              "        <script>\n",
              "            (() => {\n",
              "            const mathjax = window.MathJax;\n",
              "            mathjax.Hub.Config({\n",
              "            'tex2jax': {\n",
              "                'inlineMath': [['$', '$'], ['\\(', '\\)']],\n",
              "                'displayMath': [['$$', '$$'], ['\\[', '\\]']],\n",
              "                'processEscapes': true,\n",
              "                'processEnvironments': true,\n",
              "                'skipTags': ['script', 'noscript', 'style', 'textarea', 'code'],\n",
              "                'displayAlign': 'center',\n",
              "            },\n",
              "            'HTML-CSS': {\n",
              "                'styles': {'.MathJax_Display': {'margin': 0}},\n",
              "                'linebreaks': {'automatic': true},\n",
              "                // Disable to prevent OTF font loading, which aren't part of our\n",
              "                // distribution.\n",
              "                'imageFont': null,\n",
              "            },\n",
              "            'messageStyle': 'none'\n",
              "            });\n",
              "            mathjax.Hub.Configured();\n",
              "        })();\n",
              "        </script>\n",
              "        "
            ],
            "text/plain": [
              "<IPython.core.display.HTML object>"
            ]
          },
          "metadata": {
            "tags": []
          }
        },
        {
          "output_type": "display_data",
          "data": {
            "application/vnd.jupyter.widget-view+json": {
              "model_id": "ed149769dd3c4c2f985e31bf4e9f0f5c",
              "version_minor": 0,
              "version_major": 2
            },
            "text/plain": [
              "VBox(children=(Output(), RadioButtons(options=('$|V|$', '$n + |V|$', '$n\\\\cdot|V|$', '$|V|^n$'), value='$|V|$'…"
            ]
          },
          "metadata": {
            "tags": []
          }
        }
      ]
    },
    {
      "cell_type": "markdown",
      "metadata": {
        "id": "JEiQrFlOufgH",
        "colab_type": "text"
      },
      "source": [
        "<!--@slideshow slide-->\n",
        "# Generate text with Language Models\n",
        "\n",
        "The algorithm of text generation with $n$-gram language model is recursive:\n",
        "1. Input: some prefix $P$ (possibly empty). Add padding to the beginning if necessary.\n",
        "1. Return $P$ if the last $n-1$ symbols of $P$ are padding symbols or $P$ is too long.\n",
        "1. For each token $t \\in V$, compute $\\Pr(t|P)$.\n",
        "1. Choose $t$ at random according to probability distribution $\\Pr(t|P)$.\n",
        "1. Append $t$ to $P$ and repeat."
      ]
    },
    {
      "cell_type": "markdown",
      "metadata": {
        "id": "YXR4e8LTnGXZ",
        "colab_type": "text"
      },
      "source": [
        "<!--@slideshow slide-->\n",
        "## Colab demo: generate text with language model (implementation)"
      ]
    },
    {
      "cell_type": "code",
      "metadata": {
        "id": "GdnkowP0u8Qi",
        "colab_type": "code",
        "colab": {}
      },
      "source": [
        "import numpy as np\n",
        "\n",
        "def generate_text(language_model, prefix, seed=0, max_text_length=10):\n",
        "    n = language_model.n\n",
        "    generated_text = prefix[:]  # generated text starts with the given (possibly empty) prefix\n",
        "    np.random.seed(seed + len(generated_text))  # new seed for each generated word\n",
        "\n",
        "    # stopping criteria:\n",
        "    # - at least one word has been generated and the generated text ends with padding\n",
        "    # - or the generated text is too long\n",
        "    if (len(generated_text) >= 1 and generated_text[-1] is None) or len(generated_text) > max_text_length:\n",
        "        return generated_text\n",
        "    # the recursive step: sample a token and add it to the prefix\n",
        "    # tokens are stored in the .vocab attribute\n",
        "    all_tokens = list(language_model.vocab)\n",
        "    # get the probabilities for all tokens\n",
        "    all_token_probabilities = np.array([\n",
        "        language_model.predict_token_probability(generated_text, token)\n",
        "        for token in all_tokens\n",
        "    ])\n",
        "    # sample\n",
        "    next_token = np.random.choice(all_tokens, size=1, p=all_token_probabilities)[0]\n",
        "    # generate using the updated text\n",
        "    return generate_text(\n",
        "        language_model,\n",
        "        generated_text + [next_token],\n",
        "        seed=seed,\n",
        "        max_text_length=max_text_length\n",
        "    )"
      ],
      "execution_count": 0,
      "outputs": []
    },
    {
      "cell_type": "code",
      "metadata": {
        "id": "DJH58Zyb-UA2",
        "colab_type": "code",
        "outputId": "be73d92a-a236-4eb9-fe5e-97d3ff677c3c",
        "colab": {
          "base_uri": "https://localhost:8080/",
          "height": 553,
          "referenced_widgets": [
            "a20f62b660a644fc890e402416aa15e7",
            "dfa203a5f3d946a4b6103385539da2ae",
            "b10869c3e70a40859438bfde531c9b6a",
            "50064e72132a4b73add2ddd1075ba535",
            "24a5df7c23c147ffa83a3ac473877e6a",
            "0cfb743b976e459d8f54c67a4358898f",
            "4cfd126fd24c4b218848f5c474b8d5cd",
            "87c745924c1943a58494481016565798",
            "f34fdd61deec48e78726092bc106179c",
            "fa11818d459e4557804e5704ecfeaa71",
            "782978b961d04f18908dae605db98e61",
            "0215e5dcf53a4f7ca4fc0dd8ee15906e",
            "80cd5b23a511405ea131b5321aa9987a",
            "c60366aa81834097820f6d9e7a146190",
            "86b46ee099e2499cbc0f07595e175e61",
            "14ef0306cce143ada38d865ba06268a6",
            "6cbe37ca1c314c5296d6ee04db499176",
            "2b9d5d935160411da86d6281421ab83c",
            "fc50536408444f04b42e93d1ad973fcb",
            "0d4bf2ff8f784240b5931ec9e00ad93a",
            "ecd6df9aa6e540a28153a49b9e5a22e4",
            "11e08770af3b4875ae991749629fd42e",
            "7fb6523156764e3887a4e73c4fc515ef",
            "c7c79a1b71e54d949483006d141d32e0",
            "503055e2b9234693a3f50ef27e01ec0a",
            "77237e51edc6469d9af41435e24088b5",
            "a16ba0cca36a431cb1339b4fefc7c976",
            "55ff96387eb64a75908c0a5ea4e2d181",
            "3b9f0b6775ca4be38972005c8a3cd08c",
            "53bc2c1fc18d416a8d6b5a7c5adca904",
            "60fe773caca94547a202dbbcce92bcaa",
            "bb88631390f344c084d558a916bf8fc8"
          ]
        }
      },
      "source": [
        "for n in (2, 3, 4, 5):\n",
        "    lm = NGramLanguageModel(n, delta=1e-5)\n",
        "    lm.fit(sequences)\n",
        "    print(\"n={}\".format(n))\n",
        "    for seed in range(3):\n",
        "        generated_text = generate_text(lm, \"Make America\".split(), seed=seed)\n",
        "        print(\" \".join([token for token in generated_text if token is not None]))\n",
        "    print(\"-\" * 10)"
      ],
      "execution_count": 17,
      "outputs": [
        {
          "output_type": "display_data",
          "data": {
            "application/vnd.jupyter.widget-view+json": {
              "model_id": "a20f62b660a644fc890e402416aa15e7",
              "version_minor": 0,
              "version_major": 2
            },
            "text/plain": [
              "HBox(children=(FloatProgress(value=0.0, description='fit', max=44061.0, style=ProgressStyle(description_width=…"
            ]
          },
          "metadata": {
            "tags": []
          }
        },
        {
          "output_type": "stream",
          "text": [
            "\n",
            "n=2\n",
            "Make America Great Again Rally <URL>\n",
            "Make America !\n",
            "Make America had to win in from <TWITTER_ACCOUNT> … <URL> \"\n",
            "----------\n"
          ],
          "name": "stdout"
        },
        {
          "output_type": "display_data",
          "data": {
            "application/vnd.jupyter.widget-view+json": {
              "model_id": "f34fdd61deec48e78726092bc106179c",
              "version_minor": 0,
              "version_major": 2
            },
            "text/plain": [
              "HBox(children=(FloatProgress(value=0.0, description='fit', max=44061.0, style=ProgressStyle(description_width=…"
            ]
          },
          "metadata": {
            "tags": []
          }
        },
        {
          "output_type": "stream",
          "text": [
            "\n",
            "n=3\n",
            "Make America Great Again agenda ! See you there in the\n",
            "Make America Great Again !\n",
            "Make America great again . ”\n",
            "----------\n"
          ],
          "name": "stdout"
        },
        {
          "output_type": "display_data",
          "data": {
            "application/vnd.jupyter.widget-view+json": {
              "model_id": "6cbe37ca1c314c5296d6ee04db499176",
              "version_minor": 0,
              "version_major": 2
            },
            "text/plain": [
              "HBox(children=(FloatProgress(value=0.0, description='fit', max=44061.0, style=ProgressStyle(description_width=…"
            ]
          },
          "metadata": {
            "tags": []
          }
        },
        {
          "output_type": "stream",
          "text": [
            "\n",
            "n=4\n",
            "Make America Great Again agenda ! Jobs , Jobs , Jobs\n",
            "Make America Great Again !\n",
            "Make America realsports Lincoln too!!\"NICE 1976 circular spring foxnewsfacts notified inferiority\n",
            "----------\n"
          ],
          "name": "stdout"
        },
        {
          "output_type": "display_data",
          "data": {
            "application/vnd.jupyter.widget-view+json": {
              "model_id": "503055e2b9234693a3f50ef27e01ec0a",
              "version_minor": 0,
              "version_major": 2
            },
            "text/plain": [
              "HBox(children=(FloatProgress(value=0.0, description='fit', max=44061.0, style=ProgressStyle(description_width=…"
            ]
          },
          "metadata": {
            "tags": []
          }
        },
        {
          "output_type": "stream",
          "text": [
            "\n",
            "n=5\n",
            "Make America Great Again agenda ! Jobs , Jobs 225 foxnewsfacts\n",
            "Make America Great realsports Lincoln too!!\"NICE 1976 circular spring foxnewsfacts notified\n",
            "Make America realsports Lincoln too!!\"NICE 1976 circular spring foxnewsfacts notified inferiority\n",
            "----------\n"
          ],
          "name": "stdout"
        }
      ]
    },
    {
      "cell_type": "markdown",
      "metadata": {
        "id": "F9Ek_lCI6ThF",
        "colab_type": "text"
      },
      "source": [
        "<!--@slideshow slide-->\n",
        "We can see that increasing $n$ doesn't help to generate good texts. Why?"
      ]
    },
    {
      "cell_type": "markdown",
      "metadata": {
        "id": "Ah5SH2o87IQn",
        "colab_type": "text"
      },
      "source": [
        "<!--@slideshow fragment-->\n",
        "**Sparsity problem**: by increasing $n$ we also increase the total number of possible $n$-grams, so counts zero out."
      ]
    },
    {
      "cell_type": "markdown",
      "metadata": {
        "id": "EXi6HRitQZRv",
        "colab_type": "text"
      },
      "source": [
        "<!--@slideshow slide-->\n",
        "## Colab demo: generate text with $n$-gram Language Model (internal details)"
      ]
    },
    {
      "cell_type": "code",
      "metadata": {
        "id": "jhHopi0i7wjV",
        "colab_type": "code",
        "colab": {}
      },
      "source": [
        "prefix = [\"I\", \"promise\"]"
      ],
      "execution_count": 0,
      "outputs": []
    },
    {
      "cell_type": "code",
      "metadata": {
        "id": "we6MpyE64AXs",
        "colab_type": "code",
        "outputId": "18ac943c-e71a-48a4-d709-e56b16769b28",
        "colab": {
          "base_uri": "https://localhost:8080/",
          "height": 333,
          "referenced_widgets": [
            "63441232323f4270b1a3c91aa413ddd7",
            "5135c64ea60c482785a02a588ede2581",
            "934d1b7083f04ad28034ed5da900b66b",
            "bee270a8f0084366abcf9ed45762b60c",
            "6c972a852648406f803a7878d82cef44",
            "c3b5808c24cd4d30ad981e0ea0f6ec70",
            "09b9e68024b1440793d974f8725aa588",
            "520078482a08487fa4175c7054fbb421",
            "b4903449bc9641f8875d081936822325",
            "764bd696a16746ddaf3217f96865aacf",
            "2ae8c46162224ccfa5084885e5b5a24b",
            "da0aaf8091b64afeb154e0e9b32f7203",
            "880b0ccc5bef49d5b69c043d2e16d444",
            "34f8d4fa438e4367ac688b9ec3108fa2",
            "4144dea22d5e48ec8ed0c3356fd60e40",
            "ffb04be05f934ff1900975001a17423a",
            "00a73ac74c344b8093b4beefd2658ab4",
            "40909fe695714e388dd0d0b64e30c7d3",
            "df0f3e2a3ea94852bb03b861dffed87c",
            "38b8c4af5335442281c7e59e5e1c8c15",
            "f95d158e9f5c4e7a8daddba5e52a4cd7",
            "640e18c9675042d99a5e09a5525626b2"
          ]
        }
      },
      "source": [
        "# bigram model\n",
        "# the text is grammatical, but incoherent\n",
        "lm = NGramLanguageModel(2, delta=1e-5)\n",
        "lm.fit(sequences)\n",
        "demo_generate_text_ngram(lm, prefix, seed=0)"
      ],
      "execution_count": 19,
      "outputs": [
        {
          "output_type": "display_data",
          "data": {
            "application/vnd.jupyter.widget-view+json": {
              "model_id": "63441232323f4270b1a3c91aa413ddd7",
              "version_minor": 0,
              "version_major": 2
            },
            "text/plain": [
              "HBox(children=(FloatProgress(value=0.0, description='fit', max=44061.0, style=ProgressStyle(description_width=…"
            ]
          },
          "metadata": {
            "tags": []
          }
        },
        {
          "output_type": "stream",
          "text": [
            "\n"
          ],
          "name": "stdout"
        },
        {
          "output_type": "display_data",
          "data": {
            "application/vnd.jupyter.widget-view+json": {
              "model_id": "b4903449bc9641f8875d081936822325",
              "version_minor": 0,
              "version_major": 2
            },
            "text/plain": [
              "HBox(children=(VBox(children=(Button(description='generate next token', style=ButtonStyle()), Output(layout=La…"
            ]
          },
          "metadata": {
            "tags": []
          }
        }
      ]
    },
    {
      "cell_type": "code",
      "metadata": {
        "id": "LclL6XSh65jA",
        "colab_type": "code",
        "outputId": "eb082d49-6891-431b-f3d1-deba39ae6cb1",
        "colab": {
          "base_uri": "https://localhost:8080/",
          "height": 384,
          "referenced_widgets": [
            "1eb140f4a3614e83980a44035eaaab90",
            "becf5ccd9e3c44bbb82129a673a433f3",
            "3420eab9f27a474ba571b26cad3b9697",
            "c6851ac440104fd88e75153ae60708cd",
            "908df76e340f44ed9b3def18e28775cd",
            "215e7491ae8b49158be8f5830f6beb11",
            "c5d56a2f23d54f51bd599ef3b7dd0f43",
            "a9be4ed2a2164b519820d60b13918f29",
            "a61143a0735942d0837b61ebfb27719d",
            "05a821690ae64d5195f46c1699c149e3",
            "8e0599b038d34b29a32f606cca6ba4d8",
            "0a75c7db9af3496aa710d74219172e91",
            "7d9f7d0b984c45a092d2f72bdb5c48e1",
            "5b871a0833ce41ebbd8fbfc2c5cd8c79",
            "5ea3b33bd6fa4d5fb78e4017dd87df5d",
            "3a796a8feab248e0b16940b216be1291",
            "52c290725520456681de2d275b1021e0",
            "bcde980dae95480a8d13a0fc7481b644",
            "356024f9c61d4f4d84fa93525accbd89",
            "85b7067255834494bb9f275853880d77",
            "43ab076a66264c098165f7f3096aa63d",
            "bbe4869605634cbd8b1c61d2c1ae93f7"
          ]
        }
      },
      "source": [
        "# trigram model\n",
        "lm = NGramLanguageModel(3, delta=1e-5)\n",
        "lm.fit(sequences)\n",
        "demo_generate_text_ngram(lm, prefix, seed=1)"
      ],
      "execution_count": 20,
      "outputs": [
        {
          "output_type": "display_data",
          "data": {
            "application/vnd.jupyter.widget-view+json": {
              "model_id": "1eb140f4a3614e83980a44035eaaab90",
              "version_minor": 0,
              "version_major": 2
            },
            "text/plain": [
              "HBox(children=(FloatProgress(value=0.0, description='fit', max=44061.0, style=ProgressStyle(description_width=…"
            ]
          },
          "metadata": {
            "tags": []
          }
        },
        {
          "output_type": "stream",
          "text": [
            "\n"
          ],
          "name": "stdout"
        },
        {
          "output_type": "display_data",
          "data": {
            "application/vnd.jupyter.widget-view+json": {
              "model_id": "a61143a0735942d0837b61ebfb27719d",
              "version_minor": 0,
              "version_major": 2
            },
            "text/plain": [
              "HBox(children=(VBox(children=(Button(description='generate next token', style=ButtonStyle()), Output(layout=La…"
            ]
          },
          "metadata": {
            "tags": []
          }
        }
      ]
    },
    {
      "cell_type": "code",
      "metadata": {
        "id": "TAICWvHa4M8O",
        "colab_type": "code",
        "outputId": "d7e35099-62e8-4dcd-9a97-9815c0157aae",
        "colab": {
          "base_uri": "https://localhost:8080/",
          "height": 435,
          "referenced_widgets": [
            "7a80b3d93a284ff3b638b3544b210f71",
            "c6cba17309114186b82fb7f3f61ee673",
            "7ac1737c6ee148a5aae193a64265fef0",
            "80417ee7a47c4d9e92f73b4d90aec70d",
            "9c2645c6cc484560abd3df9451176b5d",
            "f3f4cc556b1f40bcba7e8e2c1b527860",
            "abcdecfe77ca46688159495d2cfa3734",
            "80550cb225c7455e867f22ed48b43a3d",
            "bf9c24b2a95a4541a7ce1ca0e101c4c8",
            "7bcbf8a26c2949eca3e3438b3430371f",
            "094e5b54898744cf9bb6caf4e6d6f9de",
            "a68c83466dce4b7f9e90fadb0aca3c62",
            "03d40b20f88840f0bd3ef59ac1acc8d1",
            "aea070899aa04301b7b21c830e1d53d7",
            "72fe5821848d4b22bff043639c02b690",
            "b0b1018b382f43168b291b249df100ee",
            "3d0d13926360477abe1d787319ccb98d",
            "7a89d2296ed6435c983326e0cf6b4c5a",
            "62ee6a300e4845548295237d343c6d87",
            "853645c3f0b548eab726a365a6d591fe",
            "cf295627fabd453f849ad48f3cc79289",
            "f97853cd61464be2ba651c2414a9e29c"
          ]
        }
      },
      "source": [
        "# 4-gram model\n",
        "# observe what happens when count() reaches 0\n",
        "lm = NGramLanguageModel(4, delta=1e-5)\n",
        "lm.fit(sequences)\n",
        "demo_generate_text_ngram(lm, prefix, seed=0)"
      ],
      "execution_count": 21,
      "outputs": [
        {
          "output_type": "display_data",
          "data": {
            "application/vnd.jupyter.widget-view+json": {
              "model_id": "7a80b3d93a284ff3b638b3544b210f71",
              "version_minor": 0,
              "version_major": 2
            },
            "text/plain": [
              "HBox(children=(FloatProgress(value=0.0, description='fit', max=44061.0, style=ProgressStyle(description_width=…"
            ]
          },
          "metadata": {
            "tags": []
          }
        },
        {
          "output_type": "stream",
          "text": [
            "\n"
          ],
          "name": "stdout"
        },
        {
          "output_type": "display_data",
          "data": {
            "application/vnd.jupyter.widget-view+json": {
              "model_id": "bf9c24b2a95a4541a7ce1ca0e101c4c8",
              "version_minor": 0,
              "version_major": 2
            },
            "text/plain": [
              "HBox(children=(VBox(children=(Button(description='generate next token', style=ButtonStyle()), Output(layout=La…"
            ]
          },
          "metadata": {
            "tags": []
          }
        }
      ]
    },
    {
      "cell_type": "markdown",
      "metadata": {
        "id": "FMFmPfk94f3B",
        "colab_type": "text"
      },
      "source": [
        "<!--@slideshow slide-->\n",
        "# Evaluate quality of Language Model"
      ]
    },
    {
      "cell_type": "markdown",
      "metadata": {
        "id": "wkJ9vjgz7KT4",
        "colab_type": "text"
      },
      "source": [
        "<!--@slideshow fragment-->\n",
        "**Q**: Even the simplest Language Model has 2 parameters: $n$ and $\\delta$. How to choose them?\n"
      ]
    },
    {
      "cell_type": "markdown",
      "metadata": {
        "id": "hVC-oV7aohTg",
        "colab_type": "text"
      },
      "source": [
        "<!--@slideshow fragment-->\n",
        "**A**: Choose the parameters that give the best quality!\n"
      ]
    },
    {
      "cell_type": "markdown",
      "metadata": {
        "id": "5X2fbd8Sohq1",
        "colab_type": "text"
      },
      "source": [
        "<!--@slideshow fragment-->\n",
        "**Q**: How to measure quality?"
      ]
    },
    {
      "cell_type": "markdown",
      "metadata": {
        "id": "EA8eUVGtX7Ns",
        "colab_type": "text"
      },
      "source": [
        "<!--@slideshow slide-->\n",
        "```\n",
        "Вячэрняя прахалода.\n",
        "Спякотлівы дзень, бывай.\n",
        "Няхай адпачне прырода,\n",
        "Бадзенеўскі родны край.\n",
        "```"
      ]
    },
    {
      "cell_type": "markdown",
      "metadata": {
        "id": "NvzT1n0vocXH",
        "colab_type": "text"
      },
      "source": [
        "<!--@slideshow fragment-->\n",
        "If you are surprised to see it on the slide, probably your inner Language Model for Belarusian language is not so good."
      ]
    },
    {
      "cell_type": "markdown",
      "metadata": {
        "id": "3NhR5lTYosWu",
        "colab_type": "text"
      },
      "source": [
        "<!--@slideshow slide-->\n",
        "\n",
        "**Idea**: a language model is good for a given text if it is not \"surprised\" by it (it _assigns high probability_ to it)."
      ]
    },
    {
      "cell_type": "markdown",
      "metadata": {
        "id": "cMWsyqRQYKWX",
        "colab_type": "text"
      },
      "source": [
        "<!--@slideshow fragment-->\n",
        "Here is the formula for probability of text $t_1 t_2 \\dots t_l$ (chain rule):\n",
        "$$\n",
        "\\Pr(t_1 t_2 \\dots t_l) = \\Pr(t_1) \\cdot \\Pr(t_2 | t_1) \\cdot \\dots \\cdot \\Pr(t_l|t_1 t_2 \\dots t_{l-1})\n",
        "$$\n"
      ]
    },
    {
      "cell_type": "markdown",
      "metadata": {
        "id": "TGSQ08_4o47B",
        "colab_type": "text"
      },
      "source": [
        "<!--@slideshow fragment-->\n",
        "**Problem**: longer texts have lower probability because of larger number of terms in the product.\n"
      ]
    },
    {
      "cell_type": "markdown",
      "metadata": {
        "id": "d6Qlp3RNo6vK",
        "colab_type": "text"
      },
      "source": [
        "<!--@slideshow fragment-->\n",
        "**Solution**: normalize by the number of tokens.\n"
      ]
    },
    {
      "cell_type": "markdown",
      "metadata": {
        "id": "bfG8J9ATo8QZ",
        "colab_type": "text"
      },
      "source": [
        "<!--@slideshow fragment-->\n",
        "**Definition**: _perplexity_ of text $t_1 t_2 \\dots t_l$ is its inverse normalized probability:\n",
        "$$\n",
        "\\textrm{Perplexity}(t_1 t_2 \\dots t_l) = \\dfrac{1}{\\Pr(t_1 t_2 \\dots t_l)^\\frac{1}{l}}\n",
        "$$\n",
        "\n",
        "The lower the perplexity of the text, the better the Language Model is for the text."
      ]
    },
    {
      "cell_type": "code",
      "metadata": {
        "id": "wXFkYLItbW5e",
        "colab_type": "code",
        "colab": {}
      },
      "source": [
        "#@slideshow slide\n",
        "def perplexity(language_model, sequence):\n",
        "    import numpy as np\n",
        "\n",
        "    sum_logarithms = 0.0\n",
        "    for i in range(len(sequence)):\n",
        "        token = sequence[i]\n",
        "        prefix = sequence[:i]\n",
        "        sum_logarithms += np.log(language_model.predict_token_probability(prefix, token))\n",
        "    return np.exp(-sum_logarithms / len(sequence))\n"
      ],
      "execution_count": 0,
      "outputs": []
    },
    {
      "cell_type": "markdown",
      "metadata": {
        "id": "mgWeagv_S08n",
        "colab_type": "text"
      },
      "source": [
        "<!--@slideshow slide-->\n",
        "## Colab quiz 5"
      ]
    },
    {
      "cell_type": "code",
      "metadata": {
        "id": "lLxSmle4S4oa",
        "colab_type": "code",
        "outputId": "7738917b-bbce-454a-cdce-43268cf6c779",
        "colab": {
          "base_uri": "https://localhost:8080/",
          "height": 269,
          "referenced_widgets": [
            "87021fadb2d84270b65a3c5c014abef3",
            "c1c04008adaf4cfd8ebfba0c43d0efbc",
            "d73dc5f2e3b64dc69546e124e484d158",
            "7939cb470acc49e590ae70730256b8a2",
            "bed8217d7f294bd6a75762dc9b1a402d",
            "66f1dad63f6b4dbd955e0f58709f562b",
            "490d4492bb6b49ef9c8a40bf4965c1b5",
            "e7fd46e0f0bc4d9db7cd1b68a979933d",
            "10c41f4ad08747e4a4a0cdf6f3eeb3e9",
            "ca156e841fb948b6b93d243a1f549db8",
            "edb4f9bd65f04b9f9bd311e8b0b9a8a0",
            "f21609b4b7324c03ac0ba42b2728b032",
            "c60b9042d8b74bbd8be902215b7a6c0d",
            "fb448dec28ca4778ad9366ae202765c4",
            "b9529c5771074cfca22c78e84968f64f",
            "3e45ca5fb32346f184e75d302d6559e3"
          ]
        }
      },
      "source": [
        "enable_mathjax_in_cell()\n",
        "quiz_perplexity()()"
      ],
      "execution_count": 23,
      "outputs": [
        {
          "output_type": "display_data",
          "data": {
            "text/html": [
              "\n",
              "        <script src=\"https://www.gstatic.com/external_hosted/mathjax/latest/MathJax.js?config=TeX-AMS_HTML-full,Safe&delayStartupUntil=configured\"></script>\n",
              "        <script>\n",
              "            (() => {\n",
              "            const mathjax = window.MathJax;\n",
              "            mathjax.Hub.Config({\n",
              "            'tex2jax': {\n",
              "                'inlineMath': [['$', '$'], ['\\(', '\\)']],\n",
              "                'displayMath': [['$$', '$$'], ['\\[', '\\]']],\n",
              "                'processEscapes': true,\n",
              "                'processEnvironments': true,\n",
              "                'skipTags': ['script', 'noscript', 'style', 'textarea', 'code'],\n",
              "                'displayAlign': 'center',\n",
              "            },\n",
              "            'HTML-CSS': {\n",
              "                'styles': {'.MathJax_Display': {'margin': 0}},\n",
              "                'linebreaks': {'automatic': true},\n",
              "                // Disable to prevent OTF font loading, which aren't part of our\n",
              "                // distribution.\n",
              "                'imageFont': null,\n",
              "            },\n",
              "            'messageStyle': 'none'\n",
              "            });\n",
              "            mathjax.Hub.Configured();\n",
              "        })();\n",
              "        </script>\n",
              "        "
            ],
            "text/plain": [
              "<IPython.core.display.HTML object>"
            ]
          },
          "metadata": {
            "tags": []
          }
        },
        {
          "output_type": "display_data",
          "data": {
            "application/vnd.jupyter.widget-view+json": {
              "model_id": "87021fadb2d84270b65a3c5c014abef3",
              "version_minor": 0,
              "version_major": 2
            },
            "text/plain": [
              "VBox(children=(Output(), RadioButtons(options=('3.64', '0.27', '640', '0.0016'), value='3.64'), HTML(value='<b…"
            ]
          },
          "metadata": {
            "tags": []
          }
        }
      ]
    },
    {
      "cell_type": "markdown",
      "metadata": {
        "id": "2xLFiLbFUyAC",
        "colab_type": "text"
      },
      "source": [
        "Using perplexity, we can evaluate model's quality and choose the best model.\n",
        "\n",
        "Perplexity is defined for a single text. To evaluate a model on a set of texts, we will average perplexity over this set."
      ]
    },
    {
      "cell_type": "markdown",
      "metadata": {
        "id": "DA8nBO4npJnI",
        "colab_type": "text"
      },
      "source": [
        "<!--@slideshow slide-->\n",
        "## Colab demo: choose the best $n$-gram language model using perplexity"
      ]
    },
    {
      "cell_type": "code",
      "metadata": {
        "id": "EKjoEixgciZp",
        "colab_type": "code",
        "outputId": "719eb5cc-018f-487c-e140-11e5635a04fd",
        "colab": {
          "base_uri": "https://localhost:8080/",
          "height": 353,
          "referenced_widgets": [
            "f7e3eb9ab9ce4274ae98449ce2561e19",
            "4885beb18729489a984fbb542966f7e1",
            "b32020a6b3ed4c8dabc0b56d6b473dcd",
            "d3d8bf94213047e0aaa43a840c52ac73",
            "dcdcc975fd1541e3ba797c79e353d0a2",
            "afb56f36c1c145e884fb58273289671d",
            "eeffaead8ff549af83f05dfa0ad61e4f",
            "5c1341614fc941308322c0d91b8b6f5b",
            "0d1bd3edef8c418a9d17f20cd444c295",
            "3949f66d1dcc4d2a8f4724102ed1e217",
            "75f173fbf36b4805914535cec3eff1b5",
            "6596e23d6cb04ff29bf663f8c2c562a7",
            "41b09865789649d183f15e93077e82c4",
            "6af66b30437d444ab39882fbb41d6575",
            "e74ac157abd041f3bbea3b62b9ae6d72",
            "14a761f0df2244ef8b8bb39f5e03477c"
          ]
        }
      },
      "source": [
        "import random\n",
        "from itertools import product\n",
        "\n",
        "# convert tweets into sequences of tokens\n",
        "sequences = [tokenize(tweet[\"text\"])\n",
        "              for tweet in tqdm(tweets, desc=\"tokenize\")\n",
        "              if not tweet.get(\"is_retweet\")\n",
        "            ]\n",
        "random.seed(0)\n",
        "random.shuffle(sequences)\n",
        "# take 30000 texts to train language models\n",
        "train = sequences[:30000]\n",
        "# the remaining texts are left for validation\n",
        "test = sequences[30000:]\n",
        "results = []\n",
        "\n",
        "# iterate over pairs of (n, delta)\n",
        "for n, delta in tqdm(list(product((1, 2, 3), (1e-1, 1e-2, 1e-3, 1e-4)))):\n",
        "    # train language model\n",
        "    lm = NGramLanguageModel(n, delta=delta, verbose=False)\n",
        "    lm.fit(train)\n",
        "    # compute average perplexity on hold-out test dataset\n",
        "    avg_perplexity = sum(perplexity(lm, test_seq) for test_seq in test) / len(test)\n",
        "    results.append((n, delta, avg_perplexity))\n",
        "\n",
        "print(tabulate(results, headers=(\"n\", \"delta\", \"average perplexity\"), floatfmt=\".4f\"))"
      ],
      "execution_count": 24,
      "outputs": [
        {
          "output_type": "display_data",
          "data": {
            "application/vnd.jupyter.widget-view+json": {
              "model_id": "f7e3eb9ab9ce4274ae98449ce2561e19",
              "version_minor": 0,
              "version_major": 2
            },
            "text/plain": [
              "HBox(children=(FloatProgress(value=0.0, description='tokenize', max=48040.0, style=ProgressStyle(description_w…"
            ]
          },
          "metadata": {
            "tags": []
          }
        },
        {
          "output_type": "stream",
          "text": [
            "\n"
          ],
          "name": "stdout"
        },
        {
          "output_type": "display_data",
          "data": {
            "application/vnd.jupyter.widget-view+json": {
              "model_id": "0d1bd3edef8c418a9d17f20cd444c295",
              "version_minor": 0,
              "version_major": 2
            },
            "text/plain": [
              "HBox(children=(FloatProgress(value=0.0, max=12.0), HTML(value='')))"
            ]
          },
          "metadata": {
            "tags": []
          }
        },
        {
          "output_type": "stream",
          "text": [
            "\n",
            "  n    delta    average perplexity\n",
            "---  -------  --------------------\n",
            "  1   0.1000            23685.4814\n",
            "  1   0.0100            23855.4823\n",
            "  1   0.0010            24103.7997\n",
            "  1   0.0001            24485.8272\n",
            "  2   0.1000              895.3498\n",
            "  2   0.0100              553.7922\n",
            "  2   0.0010              583.4630\n",
            "  2   0.0001              949.3447\n",
            "  3   0.1000             4423.5242\n",
            "  3   0.0100             2601.0637\n",
            "  3   0.0010             2111.1178\n",
            "  3   0.0001             2629.4928\n"
          ],
          "name": "stdout"
        }
      ]
    },
    {
      "cell_type": "markdown",
      "metadata": {
        "id": "z2W2-jB8v1Hu",
        "colab_type": "text"
      },
      "source": [
        "On average, bigram models beat trigram models because trigram models suffer from sparsity problem.\n",
        "\n",
        "However, trigram models have lower perplexity on \"typical\" texts:"
      ]
    },
    {
      "cell_type": "code",
      "metadata": {
        "id": "bn3624dWuI8I",
        "colab_type": "code",
        "outputId": "fed4e8a0-be49-4add-89fc-f8b1cd642edc",
        "colab": {
          "base_uri": "https://localhost:8080/",
          "height": 51
        }
      },
      "source": [
        "typical_text = \"MAKE AMERICA GREAT AGAIN!\"\n",
        "best_bigram_lm = NGramLanguageModel(2, delta=0.01, verbose=False)\n",
        "best_bigram_lm.fit(train)\n",
        "print(\"Best bigram model perplexity:\", perplexity(best_bigram_lm, tokenize(typical_text)))\n",
        "best_trigram_lm = NGramLanguageModel(3, delta=0.001, verbose=False)\n",
        "best_trigram_lm.fit(train)\n",
        "print(\"Best trigram model perplexity:\", perplexity(best_trigram_lm, tokenize(typical_text)))"
      ],
      "execution_count": 25,
      "outputs": [
        {
          "output_type": "stream",
          "text": [
            "Best bigram model perplexity: 3.3911673707219236\n",
            "Best trigram model perplexity: 1.1986171207570266\n"
          ],
          "name": "stdout"
        }
      ]
    },
    {
      "cell_type": "markdown",
      "metadata": {
        "id": "RkWqtmRZER0n",
        "colab_type": "text"
      },
      "source": [
        "<!--@slideshow slide-->\n",
        "# Text classification with language models"
      ]
    },
    {
      "cell_type": "markdown",
      "metadata": {
        "id": "39HKG_Qr2hUM",
        "colab_type": "text"
      },
      "source": [
        "<!--@slideshow slide-->\n",
        "**Classification problem (informally)**:\n",
        "- We have a set of documents.\n",
        "- Each document has a label (category).\n",
        "- We need need to create an algorithm that predicts labels of **new similar** documents."
      ]
    },
    {
      "cell_type": "markdown",
      "metadata": {
        "id": "TGJ9LJMUQQ0a",
        "colab_type": "text"
      },
      "source": [
        "<!--@slideshow slide-->\n",
        "## 20 newsgroup dataset\n",
        "\n",
        "[This is Usenet](https://en.wikipedia.org/wiki/Usenet_newsgroup)\n",
        "\n",
        "![Usenet](https://upload.wikimedia.org/wikipedia/commons/f/f4/Usenet_servers_and_clients.svg)"
      ]
    },
    {
      "cell_type": "markdown",
      "metadata": {
        "id": "jASQyAUbqE67",
        "colab_type": "text"
      },
      "source": [
        "<!--@slideshow slide-->\n",
        "<center>\n",
        "<b>Usenet categories</b>\n",
        "<table border=\"1\">\n",
        "<tbody><tr>\n",
        "<td>comp.graphics<br>comp.os.ms-windows.misc<br>comp.sys.ibm.pc.hardware<br>comp.sys.mac.hardware<br>comp.windows.x</td>\n",
        "<td>rec.autos<br>rec.motorcycles<br>rec.sport.baseball<br>rec.sport.hockey</td>\n",
        "<td>sci.crypt<br>sci.electronics<br>sci.med<br>sci.space</td>\n",
        "</tr><tr>\n",
        "<td>misc.forsale</td>\n",
        "<td>talk.politics.misc<br>talk.politics.guns<br>talk.politics.mideast</td>\n",
        "<td>talk.religion.misc<br>alt.atheism<br>soc.religion.christian</td>\n",
        "</tr>\n",
        "</tbody></table>\n",
        "</center>"
      ]
    },
    {
      "cell_type": "markdown",
      "metadata": {
        "id": "pFekjDllus6k",
        "colab_type": "text"
      },
      "source": [
        "<!--@slideshow slide-->\n",
        "## Colab demo: look at the data"
      ]
    },
    {
      "cell_type": "code",
      "metadata": {
        "id": "gmYEw1ANv469",
        "colab_type": "code",
        "colab": {
          "base_uri": "https://localhost:8080/",
          "height": 88
        },
        "outputId": "a4d3855a-eb6d-437f-8d1b-682ed7771e4c"
      },
      "source": [
        "from sklearn.datasets import fetch_20newsgroups\n",
        "\n",
        "# select a subset of categories to speed up the demonstration\n",
        "categories = (\"sci.space\", \"rec.autos\", \"talk.politics.misc\", \"comp.graphics\")\n",
        "# ignore metadata to avoid overfitting (for example, metadata may contain the name of target category)\n",
        "remove = ('headers', 'footers', 'quotes')\n",
        "dataset_train = fetch_20newsgroups(subset=\"train\", remove=remove, categories=categories)\n",
        "dataset_test = fetch_20newsgroups(subset=\"test\", remove=remove, categories=categories)\n",
        "print(type(dataset_train))\n",
        "# get texts and target\n",
        "texts_train = dataset_train.data\n",
        "print(\">>>\",texts_train[:2])\n",
        "y_train = dataset_train.target\n",
        "print(y_train[:2])\n",
        "texts_test = dataset_test.data\n",
        "y_test = dataset_test.target\n"
      ],
      "execution_count": 36,
      "outputs": [
        {
          "output_type": "stream",
          "text": [
            "<class 'sklearn.utils.Bunch'>\n",
            ">>> [\"\\n\\nPlease note that there are some radiosity packages in my Resource Listing\\n(under the Subject 3: FTP list)\\n\\nGreetings,\\nNick.\\n--\\nNick (Nikolaos) Fotis         National Technical Univ. of Athens, Greece\\nHOME: 16 Esperidon St.,       InterNet : nfotis@theseas.ntua.gr\\n      Halandri, GR - 152 32   UUCP:    mcsun!ariadne!theseas!nfotis\\n      Athens, GREECE          FAX: (+30 1) 77 84 578\\n\\nUSENET Editor of comp.graphics Resource Listing and soc.culture.greece FAQ\\nNTUA/UA ACM Student Chapter Chair - we're organizing a small conference\\n        in Comp. Graphics, call if you're interested to participate.\", '\\nI\\'m sorry about your friend.  Really.  But this anecdote does nothing to\\njustify the \"war on drugs\".  If anything, it demonstrates that the \"war\"\\nis a miserable failure.  What it demonstrates is that people will take\\ndrugs if they want to, legal or not.  Perhaps if your friend were taking\\nlegal, regulated drugs under a doctors supervision he might not be in the\\nposition he\\'s in now.\\n\\n--------------------------------------------------------------------------\\n...Dale Cook    \"Any town having more churches than bars has a serious\\n                   social problem.\" ---Edward Abbey\\nThe opinions are mine only (i.e., they are NOT my employer\\'s)']\n",
            "[0 3]\n"
          ],
          "name": "stdout"
        }
      ]
    },
    {
      "cell_type": "code",
      "metadata": {
        "id": "LMId7Uck_BVl",
        "colab_type": "code",
        "outputId": "e0eb8a42-4a55-4909-9fa1-f5c03c220112",
        "colab": {
          "base_uri": "https://localhost:8080/",
          "height": 1000
        }
      },
      "source": [
        "# the easiest way to look at the data is to convert it to Pandas dataframe\n",
        "import pandas as pd\n",
        "\n",
        "# convert train\n",
        "df_train = pd.DataFrame({\n",
        "    \"text\": texts_train,\n",
        "    \"label\": y_train,\n",
        "    \"category\": [dataset_train.target_names[l] for l in y_train]\n",
        "})\n",
        "\n",
        "# convert test\n",
        "df_test = pd.DataFrame({\n",
        "    \"text\": texts_test,\n",
        "    \"label\": y_test,\n",
        "    \"category\": [dataset_test.target_names[l] for l in y_test]\n",
        "})\n",
        "\n",
        "# print the first 10 train examples\n",
        "pd.set_option('display.max_colwidth', -1)  # display full texts\n",
        "df_train.head(10)"
      ],
      "execution_count": 37,
      "outputs": [
        {
          "output_type": "stream",
          "text": [
            "/usr/local/lib/python3.6/dist-packages/ipykernel_launcher.py:19: FutureWarning: Passing a negative integer is deprecated in version 1.0 and will not be supported in future version. Instead, use None to not limit the column width.\n"
          ],
          "name": "stderr"
        },
        {
          "output_type": "execute_result",
          "data": {
            "text/html": [
              "<div>\n",
              "<style scoped>\n",
              "    .dataframe tbody tr th:only-of-type {\n",
              "        vertical-align: middle;\n",
              "    }\n",
              "\n",
              "    .dataframe tbody tr th {\n",
              "        vertical-align: top;\n",
              "    }\n",
              "\n",
              "    .dataframe thead th {\n",
              "        text-align: right;\n",
              "    }\n",
              "</style>\n",
              "<table border=\"1\" class=\"dataframe\">\n",
              "  <thead>\n",
              "    <tr style=\"text-align: right;\">\n",
              "      <th></th>\n",
              "      <th>text</th>\n",
              "      <th>label</th>\n",
              "      <th>category</th>\n",
              "    </tr>\n",
              "  </thead>\n",
              "  <tbody>\n",
              "    <tr>\n",
              "      <th>0</th>\n",
              "      <td>\\n\\nPlease note that there are some radiosity packages in my Resource Listing\\n(under the Subject 3: FTP list)\\n\\nGreetings,\\nNick.\\n--\\nNick (Nikolaos) Fotis         National Technical Univ. of Athens, Greece\\nHOME: 16 Esperidon St.,       InterNet : nfotis@theseas.ntua.gr\\n      Halandri, GR - 152 32   UUCP:    mcsun!ariadne!theseas!nfotis\\n      Athens, GREECE          FAX: (+30 1) 77 84 578\\n\\nUSENET Editor of comp.graphics Resource Listing and soc.culture.greece FAQ\\nNTUA/UA ACM Student Chapter Chair - we're organizing a small conference\\n        in Comp. Graphics, call if you're interested to participate.</td>\n",
              "      <td>0</td>\n",
              "      <td>comp.graphics</td>\n",
              "    </tr>\n",
              "    <tr>\n",
              "      <th>1</th>\n",
              "      <td>\\nI'm sorry about your friend.  Really.  But this anecdote does nothing to\\njustify the \"war on drugs\".  If anything, it demonstrates that the \"war\"\\nis a miserable failure.  What it demonstrates is that people will take\\ndrugs if they want to, legal or not.  Perhaps if your friend were taking\\nlegal, regulated drugs under a doctors supervision he might not be in the\\nposition he's in now.\\n\\n--------------------------------------------------------------------------\\n...Dale Cook    \"Any town having more churches than bars has a serious\\n                   social problem.\" ---Edward Abbey\\nThe opinions are mine only (i.e., they are NOT my employer's)</td>\n",
              "      <td>3</td>\n",
              "      <td>talk.politics.misc</td>\n",
              "    </tr>\n",
              "    <tr>\n",
              "      <th>2</th>\n",
              "      <td>I think Mark was talking about making it available to people who didn't\\nhave email in the first place.\\n\\nIf anybody in the Boston area wants a sci.space feed by honest-to-gosh UUCP\\n(no weird offline malreaders), let me know.  I'll also hand out logins to\\nanyone who wants one, especially the Boston Chapter of NSS (which I keep forgetting\\nto re-attend).\\n\\n\\n</td>\n",
              "      <td>2</td>\n",
              "      <td>sci.space</td>\n",
              "    </tr>\n",
              "    <tr>\n",
              "      <th>3</th>\n",
              "      <td>\\n</td>\n",
              "      <td>1</td>\n",
              "      <td>rec.autos</td>\n",
              "    </tr>\n",
              "    <tr>\n",
              "      <th>4</th>\n",
              "      <td>THE WHITE HOUSE\\n\\n                    Office of the Press Secretary\\n\\n____________________________________________________________________\\nFor Immediate Release                                  April 5, 1993 \\n\\n                       REMARKS BY THE PRESIDENT\\n        EN ROUTE TO CAMDEN YARDS FOR ORIOLES OPENING DAY GAME\\n\\t     \\n                              MARC Train\\n                       En Route to Camden Yards\\n\\n\\n\\n11:45 A.M. EDT\\n\\t     \\n\\t     Q\\t  Mr. President, what do you think of Jesse Jackson's \\nprotest today?\\n\\t     \\n\\t     THE PRESIDENT:  I think it's an informational protest.  \\nI think it's fine.  The owners put out a statement few days ago, \\nwhich they say was the first step in, you know, efforts to increase \\nminority ownership and minority increases in management.  I think we \\nshould.  I'm encouraged by Don Baylor's appointment out in Colorado.  \\nAnd I think it's time to make a move on that front.  So, I think it's \\na legitimate issue, and I think it's -- like I said, it's an \\ninformational picket and not an attempt to get people not to go to \\nthe game.  So, I think it's good.\\n\\t     \\n\\t     Q\\t  Do you think they're moving fast enough?\\n\\t     \\n\\t     THE PRESIDENT:  Well, I think that it was a good first \\nstep.  And I think you'll see some movement now.  And I think it's an \\nissue that deserves some attention, and they're obviously going to \\ngive it some.  And I think that Reverend Jackson being out there will \\nhighlight the issue.  So I think it's fine.\\n\\t     \\n\\t     Q\\t  Mr. President, how about the logjam in the Senate \\non the economic stimulus plan?  Do you think they'll be able to break \\nthat and get cloture?\\n\\t     \\n\\t     THE PRESIDENT:  I don't know, we're working at it.  I \\nmean, it's a classic -- there was an article in the paper today, one \\nof the papers I saw, which pretty well summed it up.  They said, you \\nknow, this is a -- it's just a political power play.  In the Senate \\nthe majority does not rule.  It's not like the country.  It's not \\nlike the -- it's not like the House.  If the minority chooses, they \\ncan stop majority rule.  And that's what they're doing.  There are a \\nlot of Republican senators who have told people that they might vote \\nfor the stimulus program but there's enormous partisan political \\npressure not to do it.  \\n\\t     \\n\\t     And, of course, what it means is that in this time when \\nno new jobs are being created, even though there seems to be an \\neconomic recovery, it means that for political purposes they're \\nwilling to deny jobs to places like Baltimore and Dallas and Houston \\nand Pittsburgh and Philadelphia and Portland and Seattle.  It's very \\nsad.  I mean, the block grant program was designed to create jobs in \\na hurry based on local priorities, and it's one that the Republicans \\nhad always championed.  Just about the only Democrat champions of the \\nprogram were people like me who were out there at the grassroots \\nlevel, governors and senators.  I just think it's real sad that they \\nhave chosen to exert the minority muscle in a way that will keep \\nAmericans out of work.  I think it's a mistake.\\n\\t     \\n\\t     THE PRESS:  Thank you.</td>\n",
              "      <td>3</td>\n",
              "      <td>talk.politics.misc</td>\n",
              "    </tr>\n",
              "    <tr>\n",
              "      <th>5</th>\n",
              "      <td>\\n\\nHmmmm....  The prefix \"peri-\" is Greek, not Latin, so it's usually used\\nwith the Greek form of the name of the body being orbited.  (That's why\\nit's \"perihelion\" rather than \"perisol\", \"perigee\" rather than \"periterr\",\\nand \"pericynthion\" rather than \"perilune\".)  So for Jupiter I'd expect it\\nto be something like \"perizeon\".)   :^)</td>\n",
              "      <td>2</td>\n",
              "      <td>sci.space</td>\n",
              "    </tr>\n",
              "    <tr>\n",
              "      <th>6</th>\n",
              "      <td>\\n[Excellent discussion of DC-X landing techniques by Henry deleted]\\n\\n\\nThe DC-X will not take of horizontally.  It takes of vertically. \\n\\n\\nFor several reasons.  Vertical landings don't require miles of runway and limit\\nnoise pollution.  They don't require wheels or wings.  Just turn on the engines\\nand touch down.  Of course, as Henry pointed out, vetical landings aren't quite\\nthat simple.\\n\\n\\nWell, to be blunt, yes.  But at least you're learning.\\n\\n\\nThe Soyuz vehicles use parachutes for the descent and then fire small rockets\\njust before they hit the ground.  Parachutes are, however, not especially\\npractical if you want to reuse something without much effort.  The landings\\nare also not very comfortable.  However, in the words of Georgy Grechko,\\n\"I prefer to have bruises, not to sink.\"\\n\\n</td>\n",
              "      <td>2</td>\n",
              "      <td>sci.space</td>\n",
              "    </tr>\n",
              "    <tr>\n",
              "      <th>7</th>\n",
              "      <td>#1\\n\\nClayton, my man...\\n\\nYou are a tad out of touch....\\n\\nFirst, gay comunities all over the country are in the process of excluding NAMBLA\\nfrom parades etc.\\n\\n#2\\n\\nNobody from NAMBLA is gonna get a job in a day care centre.  The same liberals you are\\nupset about are also passing laws that make tough background checks for childcare\\npeople.\\n\\n#3\\n\\nTell me, how would you feel if your employer fired you for your antigay post on the\\ninternet?  Would you be upset ?  I`ll bet you would be pissed!\\nTo some, your posts ,ight make the company look bad.\\nWhile your posts offend me I dont think it would be right for you to get fired over\\nit.\\n\\nI dont believe the gay comunity is asking for hiring quotas like the affirmative\\naction laws of the 60's did.\\nMy understanding is that the gay community just wants the same rights the srtraights\\nhave.  I dont think people should have their leases cancelled when their landlord\\nfinds out they are gay.  I dont think that when someone sees someone walk out of\\na gay business and then blabs it all over work that the gay person gets fired.\\nDo you REALLY think these are justified ?\\n\\n#4\\n\\nClayton, I am told you are a parent a couple times over.\\nHave you been following the strip in the paper \"For Better or For Worse\" ?\\n\\nI honestly want your opinion as a parent on the strip.  \\n\\nDo you really care about your childeren\\nas much as friends of mine tell me ?  How much do you care about your childeren ?\\nHow much do you care about other people's childeren?  Do you care about MY childeren?\\nDo you care about my sister's childeren ?\\n\\nIf one of your kids told you he/she was gay, would you throw them out of your home\\nin the middle of the night?\\n\\nWould you approve of your childeren driving down to San Francisco to trow bottles\\nat and beat up on gay people?  Would you condone your childeren beating up on someone\\nelses childeren ?\\n</td>\n",
              "      <td>3</td>\n",
              "      <td>talk.politics.misc</td>\n",
              "    </tr>\n",
              "    <tr>\n",
              "      <th>8</th>\n",
              "      <td>Is there any program available (free or otherwise) for taking a tiff or gif\\nor some other bitmapped file and turning it (or parts of it) into ascii\\ncharacters?\\n\\n  DOS, OS/2 or platform independent programs if possible.</td>\n",
              "      <td>0</td>\n",
              "      <td>comp.graphics</td>\n",
              "    </tr>\n",
              "    <tr>\n",
              "      <th>9</th>\n",
              "      <td>As a matter of interest does anyone know why autos are so popular in the US while \\nhere in Europe they are rare??? Just wondering.....</td>\n",
              "      <td>1</td>\n",
              "      <td>rec.autos</td>\n",
              "    </tr>\n",
              "  </tbody>\n",
              "</table>\n",
              "</div>"
            ],
            "text/plain": [
              "                                                                                                                                                                                                                                                                                                                                                                                                                                                                                                                                                                                                                                                                                                                                                                                                                                                                                                                                                                                                                                                                                                                                                                                                                                                                                                                                                                                                                                                                                                                                                                                                                                                                                                                                                                                                                                                                                                                                                                                                                                                                                                                                                                                                                                                                                                                                                                                                                                                                                                                                                                                                                                                                                                                                                                                                                                                                                                                                                                                                                                                                                                                                                                                                                                                                                                                                     text  ...            category\n",
              "0  \\n\\nPlease note that there are some radiosity packages in my Resource Listing\\n(under the Subject 3: FTP list)\\n\\nGreetings,\\nNick.\\n--\\nNick (Nikolaos) Fotis         National Technical Univ. of Athens, Greece\\nHOME: 16 Esperidon St.,       InterNet : nfotis@theseas.ntua.gr\\n      Halandri, GR - 152 32   UUCP:    mcsun!ariadne!theseas!nfotis\\n      Athens, GREECE          FAX: (+30 1) 77 84 578\\n\\nUSENET Editor of comp.graphics Resource Listing and soc.culture.greece FAQ\\nNTUA/UA ACM Student Chapter Chair - we're organizing a small conference\\n        in Comp. Graphics, call if you're interested to participate.                                                                                                                                                                                                                                                                                                                                                                                                                                                                                                                                                                                                                                                                                                                                                                                                                                                                                                                                                                                                                                                                                                                                                                                                                                                                                                                                                                                                                                                                                                                                                                                                                                                                                                                                                                                                                                                                                                                                                                                                                                                                                                                                                                                                                                                                                                                                                                                                                                                                                                                                                                                                                                                                                              ...  comp.graphics     \n",
              "1  \\nI'm sorry about your friend.  Really.  But this anecdote does nothing to\\njustify the \"war on drugs\".  If anything, it demonstrates that the \"war\"\\nis a miserable failure.  What it demonstrates is that people will take\\ndrugs if they want to, legal or not.  Perhaps if your friend were taking\\nlegal, regulated drugs under a doctors supervision he might not be in the\\nposition he's in now.\\n\\n--------------------------------------------------------------------------\\n...Dale Cook    \"Any town having more churches than bars has a serious\\n                   social problem.\" ---Edward Abbey\\nThe opinions are mine only (i.e., they are NOT my employer's)                                                                                                                                                                                                                                                                                                                                                                                                                                                                                                                                                                                                                                                                                                                                                                                                                                                                                                                                                                                                                                                                                                                                                                                                                                                                                                                                                                                                                                                                                                                                                                                                                                                                                                                                                                                                                                                                                                                                                                                                                                                                                                                                                                                                                                                                                                                                                                                                                                                                                                                                                                                                                                                      ...  talk.politics.misc\n",
              "2  I think Mark was talking about making it available to people who didn't\\nhave email in the first place.\\n\\nIf anybody in the Boston area wants a sci.space feed by honest-to-gosh UUCP\\n(no weird offline malreaders), let me know.  I'll also hand out logins to\\nanyone who wants one, especially the Boston Chapter of NSS (which I keep forgetting\\nto re-attend).\\n\\n\\n                                                                                                                                                                                                                                                                                                                                                                                                                                                                                                                                                                                                                                                                                                                                                                                                                                                                                                                                                                                                                                                                                                                                                                                                                                                                                                                                                                                                                                                                                                                                                                                                                                                                                                                                                                                                                                                                                                                                                                                                                                                                                                                                                                                                                                                                                                                                                                                                                                                                                                                                                                                                                                                                                                                                                                                                                                                                                                                                                            ...  sci.space         \n",
              "3  \\n                                                                                                                                                                                                                                                                                                                                                                                                                                                                                                                                                                                                                                                                                                                                                                                                                                                                                                                                                                                                                                                                                                                                                                                                                                                                                                                                                                                                                                                                                                                                                                                                                                                                                                                                                                                                                                                                                                                                                                                                                                                                                                                                                                                                                                                                                                                                                                                                                                                                                                                                                                                                                                                                                                                                                                                                                                                                                                                                                                                                                                                                                                                                                                                                                                                                                                                                      ...  rec.autos         \n",
              "4  THE WHITE HOUSE\\n\\n                    Office of the Press Secretary\\n\\n____________________________________________________________________\\nFor Immediate Release                                  April 5, 1993 \\n\\n                       REMARKS BY THE PRESIDENT\\n        EN ROUTE TO CAMDEN YARDS FOR ORIOLES OPENING DAY GAME\\n\\t     \\n                              MARC Train\\n                       En Route to Camden Yards\\n\\n\\n\\n11:45 A.M. EDT\\n\\t     \\n\\t     Q\\t  Mr. President, what do you think of Jesse Jackson's \\nprotest today?\\n\\t     \\n\\t     THE PRESIDENT:  I think it's an informational protest.  \\nI think it's fine.  The owners put out a statement few days ago, \\nwhich they say was the first step in, you know, efforts to increase \\nminority ownership and minority increases in management.  I think we \\nshould.  I'm encouraged by Don Baylor's appointment out in Colorado.  \\nAnd I think it's time to make a move on that front.  So, I think it's \\na legitimate issue, and I think it's -- like I said, it's an \\ninformational picket and not an attempt to get people not to go to \\nthe game.  So, I think it's good.\\n\\t     \\n\\t     Q\\t  Do you think they're moving fast enough?\\n\\t     \\n\\t     THE PRESIDENT:  Well, I think that it was a good first \\nstep.  And I think you'll see some movement now.  And I think it's an \\nissue that deserves some attention, and they're obviously going to \\ngive it some.  And I think that Reverend Jackson being out there will \\nhighlight the issue.  So I think it's fine.\\n\\t     \\n\\t     Q\\t  Mr. President, how about the logjam in the Senate \\non the economic stimulus plan?  Do you think they'll be able to break \\nthat and get cloture?\\n\\t     \\n\\t     THE PRESIDENT:  I don't know, we're working at it.  I \\nmean, it's a classic -- there was an article in the paper today, one \\nof the papers I saw, which pretty well summed it up.  They said, you \\nknow, this is a -- it's just a political power play.  In the Senate \\nthe majority does not rule.  It's not like the country.  It's not \\nlike the -- it's not like the House.  If the minority chooses, they \\ncan stop majority rule.  And that's what they're doing.  There are a \\nlot of Republican senators who have told people that they might vote \\nfor the stimulus program but there's enormous partisan political \\npressure not to do it.  \\n\\t     \\n\\t     And, of course, what it means is that in this time when \\nno new jobs are being created, even though there seems to be an \\neconomic recovery, it means that for political purposes they're \\nwilling to deny jobs to places like Baltimore and Dallas and Houston \\nand Pittsburgh and Philadelphia and Portland and Seattle.  It's very \\nsad.  I mean, the block grant program was designed to create jobs in \\na hurry based on local priorities, and it's one that the Republicans \\nhad always championed.  Just about the only Democrat champions of the \\nprogram were people like me who were out there at the grassroots \\nlevel, governors and senators.  I just think it's real sad that they \\nhave chosen to exert the minority muscle in a way that will keep \\nAmericans out of work.  I think it's a mistake.\\n\\t     \\n\\t     THE PRESS:  Thank you.  ...  talk.politics.misc\n",
              "5  \\n\\nHmmmm....  The prefix \"peri-\" is Greek, not Latin, so it's usually used\\nwith the Greek form of the name of the body being orbited.  (That's why\\nit's \"perihelion\" rather than \"perisol\", \"perigee\" rather than \"periterr\",\\nand \"pericynthion\" rather than \"perilune\".)  So for Jupiter I'd expect it\\nto be something like \"perizeon\".)   :^)                                                                                                                                                                                                                                                                                                                                                                                                                                                                                                                                                                                                                                                                                                                                                                                                                                                                                                                                                                                                                                                                                                                                                                                                                                                                                                                                                                                                                                                                                                                                                                                                                                                                                                                                                                                                                                                                                                                                                                                                                                                                                                                                                                                                                                                                                                                                                                                                                                                                                                                                                                                                                                                                                                                                                                                                                                                                                                                                                                                    ...  sci.space         \n",
              "6  \\n[Excellent discussion of DC-X landing techniques by Henry deleted]\\n\\n\\nThe DC-X will not take of horizontally.  It takes of vertically. \\n\\n\\nFor several reasons.  Vertical landings don't require miles of runway and limit\\nnoise pollution.  They don't require wheels or wings.  Just turn on the engines\\nand touch down.  Of course, as Henry pointed out, vetical landings aren't quite\\nthat simple.\\n\\n\\nWell, to be blunt, yes.  But at least you're learning.\\n\\n\\nThe Soyuz vehicles use parachutes for the descent and then fire small rockets\\njust before they hit the ground.  Parachutes are, however, not especially\\npractical if you want to reuse something without much effort.  The landings\\nare also not very comfortable.  However, in the words of Georgy Grechko,\\n\"I prefer to have bruises, not to sink.\"\\n\\n                                                                                                                                                                                                                                                                                                                                                                                                                                                                                                                                                                                                                                                                                                                                                                                                                                                                                                                                                                                                                                                                                                                                                                                                                                                                                                                                                                                                                                                                                                                                                                                                                                                                                                                                                                                                                                                                                                                                                                                                                                                                                                                                                                                                                                                                                                                                                                                                                                                                                         ...  sci.space         \n",
              "7  #1\\n\\nClayton, my man...\\n\\nYou are a tad out of touch....\\n\\nFirst, gay comunities all over the country are in the process of excluding NAMBLA\\nfrom parades etc.\\n\\n#2\\n\\nNobody from NAMBLA is gonna get a job in a day care centre.  The same liberals you are\\nupset about are also passing laws that make tough background checks for childcare\\npeople.\\n\\n#3\\n\\nTell me, how would you feel if your employer fired you for your antigay post on the\\ninternet?  Would you be upset ?  I`ll bet you would be pissed!\\nTo some, your posts ,ight make the company look bad.\\nWhile your posts offend me I dont think it would be right for you to get fired over\\nit.\\n\\nI dont believe the gay comunity is asking for hiring quotas like the affirmative\\naction laws of the 60's did.\\nMy understanding is that the gay community just wants the same rights the srtraights\\nhave.  I dont think people should have their leases cancelled when their landlord\\nfinds out they are gay.  I dont think that when someone sees someone walk out of\\na gay business and then blabs it all over work that the gay person gets fired.\\nDo you REALLY think these are justified ?\\n\\n#4\\n\\nClayton, I am told you are a parent a couple times over.\\nHave you been following the strip in the paper \"For Better or For Worse\" ?\\n\\nI honestly want your opinion as a parent on the strip.  \\n\\nDo you really care about your childeren\\nas much as friends of mine tell me ?  How much do you care about your childeren ?\\nHow much do you care about other people's childeren?  Do you care about MY childeren?\\nDo you care about my sister's childeren ?\\n\\nIf one of your kids told you he/she was gay, would you throw them out of your home\\nin the middle of the night?\\n\\nWould you approve of your childeren driving down to San Francisco to trow bottles\\nat and beat up on gay people?  Would you condone your childeren beating up on someone\\nelses childeren ?\\n                                                                                                                                                                                                                                                                                                                                                                                                                                                                                                                                                                                                                                                                                                                                                                                                                                                                                                                                                                                                                                                                                                                                                                                                                                                                                                                                                       ...  talk.politics.misc\n",
              "8  Is there any program available (free or otherwise) for taking a tiff or gif\\nor some other bitmapped file and turning it (or parts of it) into ascii\\ncharacters?\\n\\n  DOS, OS/2 or platform independent programs if possible.                                                                                                                                                                                                                                                                                                                                                                                                                                                                                                                                                                                                                                                                                                                                                                                                                                                                                                                                                                                                                                                                                                                                                                                                                                                                                                                                                                                                                                                                                                                                                                                                                                                                                                                                                                                                                                                                                                                                                                                                                                                                                                                                                                                                                                                                                                                                                                                                                                                                                                                                                                                                                                                                                                                                                                                                                                                                                                                                                                                                                                                                                                          ...  comp.graphics     \n",
              "9  As a matter of interest does anyone know why autos are so popular in the US while \\nhere in Europe they are rare??? Just wondering.....                                                                                                                                                                                                                                                                                                                                                                                                                                                                                                                                                                                                                                                                                                                                                                                                                                                                                                                                                                                                                                                                                                                                                                                                                                                                                                                                                                                                                                                                                                                                                                                                                                                                                                                                                                                                                                                                                                                                                                                                                                                                                                                                                                                                                                                                                                                                                                                                                                                                                                                                                                                                                                                                                                                                                                                                                                                                                                                                                                                                                                                                                                                                                                                                 ...  rec.autos         \n",
              "\n",
              "[10 rows x 3 columns]"
            ]
          },
          "metadata": {
            "tags": []
          },
          "execution_count": 37
        }
      ]
    },
    {
      "cell_type": "code",
      "metadata": {
        "id": "FXKm7cbI1nX8",
        "colab_type": "code",
        "outputId": "d89f268f-ea43-4e3a-fba0-a0a2ab045975",
        "colab": {
          "base_uri": "https://localhost:8080/",
          "height": 187
        }
      },
      "source": [
        "print(\"train contains {} texts\".format(df_train.shape[0]))\n",
        "print(\"test contains {} texts\".format(df_test.shape[0]))\n",
        "from collections import Counter\n",
        "print()\n",
        "print(\"distribution of labels in train:\")\n",
        "df_train.groupby([\"category\"])[\"category\"].count()"
      ],
      "execution_count": 38,
      "outputs": [
        {
          "output_type": "stream",
          "text": [
            "train contains 2236 texts\n",
            "test contains 1489 texts\n",
            "\n",
            "distribution of labels in train:\n"
          ],
          "name": "stdout"
        },
        {
          "output_type": "execute_result",
          "data": {
            "text/plain": [
              "category\n",
              "comp.graphics         584\n",
              "rec.autos             594\n",
              "sci.space             593\n",
              "talk.politics.misc    465\n",
              "Name: category, dtype: int64"
            ]
          },
          "metadata": {
            "tags": []
          },
          "execution_count": 38
        }
      ]
    },
    {
      "cell_type": "markdown",
      "metadata": {
        "id": "sQ8cMLh_oH8g",
        "colab_type": "text"
      },
      "source": [
        "<!--@slideshow slide-->\n",
        "## Classification with language models\n",
        "\n",
        "**Idea**:\n",
        "- train LM for each class\n",
        "- prediction:\n",
        "    - for each language model compute perplexity\n",
        "    - choose the model (and the corresponding class) with the lowest perplexity"
      ]
    },
    {
      "cell_type": "markdown",
      "metadata": {
        "id": "ZlivaQ7izqU0",
        "colab_type": "text"
      },
      "source": [
        "<!--@slideshow fragment-->\n",
        "We will evaluate the quality of classification with accuracy score:\n",
        "$$\n",
        "\\textrm{accuracy} = \\dfrac{\\textrm{number of correct predictions}}{\\textrm{total number of predictions}}\n",
        "$$\n"
      ]
    },
    {
      "cell_type": "code",
      "metadata": {
        "id": "528BHzl07tlK",
        "colab_type": "code",
        "colab": {}
      },
      "source": [
        "from sklearn.metrics import accuracy_score"
      ],
      "execution_count": 0,
      "outputs": []
    },
    {
      "cell_type": "markdown",
      "metadata": {
        "id": "2b7OzFIe0gwU",
        "colab_type": "text"
      },
      "source": [
        "<!--@slideshow slide-->\n",
        "## Colab quiz 6"
      ]
    },
    {
      "cell_type": "code",
      "metadata": {
        "id": "s_JGgTsu0i6i",
        "colab_type": "code",
        "outputId": "7c1d668f-0b3a-4804-fa87-6626c90f78f0",
        "colab": {
          "base_uri": "https://localhost:8080/",
          "height": 201,
          "referenced_widgets": [
            "fb2cf0bc4e3e45fea56e9ed5a73900ef",
            "1ab90e3b99bc470f94a3b71b5191eead",
            "f565c34bb3164801bdcf2921a2f44955",
            "ea7499e835944b9d8c4e92d7eb06de42",
            "d3122164ae13484aab5b1ef5c3852a80",
            "928842dd9a5a487a87acad3e9df68e6c",
            "8b9e3d016cc14bfe93373b857e2a19a3",
            "2e5e0278e9904c23b52a0a97bbcfbe11",
            "99fea270779b43149c8afada4ccd73e4",
            "8c22c48c2a58427f81e208d7277dfcc4",
            "6a429022c6bf4e87ba863b5ecdfd54d9",
            "47afbd6aafbd466dac37ed1cea6e98b7",
            "f27a28b5a77a48bfadd9a0b4c2857c24",
            "70882d4bd3ff4628a2670de666d1a0dc",
            "70e2aa7ee1834d81a38844014fe0f165",
            "37a8d9390a9b40b2a150c17513ca0386"
          ]
        }
      },
      "source": [
        "quiz_random_benchmark()()"
      ],
      "execution_count": 40,
      "outputs": [
        {
          "output_type": "display_data",
          "data": {
            "application/vnd.jupyter.widget-view+json": {
              "model_id": "fb2cf0bc4e3e45fea56e9ed5a73900ef",
              "version_minor": 0,
              "version_major": 2
            },
            "text/plain": [
              "VBox(children=(Output(), RadioButtons(options=('0', '0.0625', '0.25', '0.5'), value='0'), HTML(value='<br>'), …"
            ]
          },
          "metadata": {
            "tags": []
          }
        }
      ]
    },
    {
      "cell_type": "markdown",
      "metadata": {
        "id": "5P85nUepviGv",
        "colab_type": "text"
      },
      "source": [
        "<!--@slideshow slide-->\n",
        "## Colab demo: classification with language models"
      ]
    },
    {
      "cell_type": "code",
      "metadata": {
        "id": "U9PYSdedktwG",
        "colab_type": "code",
        "colab": {}
      },
      "source": [
        "from collections import defaultdict\n",
        "from copy import deepcopy\n",
        "\n",
        "class LanguageModelClassifier:\n",
        "    def __init__(self, n=4, delta=0.0001, pretrained_lm=None):\n",
        "        self._n = n\n",
        "        self._delta = delta\n",
        "        # optional pre-trained language model\n",
        "        self._pretrained_lm = pretrained_lm\n",
        "        # store language model for each class here\n",
        "        self._class2lm = dict()\n",
        "\n",
        "    def fit(self, texts, labels):\n",
        "        class2train = defaultdict(list)\n",
        "        # collect separate text datasets for each class\n",
        "        for text, label in zip(texts, labels):\n",
        "            class2train[label].append(text)\n",
        "        # fit language model for each class\n",
        "        for class_, train in class2train.items():\n",
        "            if self._pretrained_lm:\n",
        "                # if pre-trained language model is provided, copy n-gram counts from it\n",
        "                lm = deepcopy(self._pretrained_lm)\n",
        "            else:\n",
        "                # else train language model from scratch\n",
        "                lm = NGramLanguageModel(n=self._n, delta=self._delta)\n",
        "            lm.verbose = False\n",
        "            # fit and save language model\n",
        "            lm.fit(train)\n",
        "            self._class2lm[class_] = lm\n",
        " \n",
        "    def predict(self, texts):\n",
        "        predictions = []\n",
        "        for text in tqdm(texts, desc=\"predict\"):\n",
        "            class2perplexity = dict()\n",
        "            # compute perplexity for each language model\n",
        "            for class_, lm in self._class2lm.items():\n",
        "                class2perplexity[class_] = perplexity(lm, text)\n",
        "            # choose the class with the lowest perplexity\n",
        "            class_with_lowest_perplexity = min(\n",
        "                class2perplexity.items(),\n",
        "                key=lambda x: x[1]\n",
        "            )[0]\n",
        "            predictions.append(class_with_lowest_perplexity)\n",
        "        return predictions\n"
      ],
      "execution_count": 0,
      "outputs": []
    },
    {
      "cell_type": "code",
      "metadata": {
        "id": "NfFhKZwZyVYV",
        "colab_type": "code",
        "colab": {}
      },
      "source": [
        "# tokenize the texts\n",
        "# treat any alphanumeric sequence as a token\n",
        "import re\n",
        "tokenized_texts_train = [re.split(r'\\W+', t.lower().strip()) for t in texts_train]\n",
        "tokenized_texts_test = [re.split(r'\\W+', t.lower().strip()) for t in texts_test]"
      ],
      "execution_count": 0,
      "outputs": []
    },
    {
      "cell_type": "code",
      "metadata": {
        "id": "qWzrdsEGMw_-",
        "colab_type": "code",
        "outputId": "132b7f22-ff98-4766-babc-21590df5ea77",
        "colab": {
          "base_uri": "https://localhost:8080/",
          "height": 83,
          "referenced_widgets": [
            "8cea2dc3f4124c229e22a983e9cd9ab7",
            "faa88e6ea7cf447faeb01bb96dea4c69",
            "078250c1d49c461ea03f41199b0ef9d4",
            "455f6b07003f4904a247ed8f308273b6",
            "3cea9187b9344efb827effcbea228837",
            "beb31ed2977d4e85aceb19f516c52c77",
            "4bf98a78986f46b79c14038fc55a6c00",
            "062b20397df04c92814b9082f78644a7"
          ]
        }
      },
      "source": [
        "# without pretraining\n",
        "clf = LanguageModelClassifier(n=2)\n",
        "clf.fit(tokenized_texts_train, y_train)\n",
        "print(accuracy_score(y_test, clf.predict(tokenized_texts_test)))"
      ],
      "execution_count": 43,
      "outputs": [
        {
          "output_type": "display_data",
          "data": {
            "application/vnd.jupyter.widget-view+json": {
              "model_id": "8cea2dc3f4124c229e22a983e9cd9ab7",
              "version_minor": 0,
              "version_major": 2
            },
            "text/plain": [
              "HBox(children=(FloatProgress(value=0.0, description='predict', max=1489.0, style=ProgressStyle(description_wid…"
            ]
          },
          "metadata": {
            "tags": []
          }
        },
        {
          "output_type": "stream",
          "text": [
            "\n",
            "0.7038280725319006\n"
          ],
          "name": "stdout"
        }
      ]
    },
    {
      "cell_type": "markdown",
      "metadata": {
        "id": "JFEomXlhwts2",
        "colab_type": "text"
      },
      "source": [
        "<!--@slideshow slide-->\n",
        "## Pre-trained Language Models\n",
        "We know that language models suffer from sparsity problem. In our classification problem, there are only 2236 training examples, this may be a problem.\n"
      ]
    },
    {
      "cell_type": "markdown",
      "metadata": {
        "id": "lDQhVBbUaIRg",
        "colab_type": "text"
      },
      "source": [
        "<!--@slideshow fragment-->\n",
        "**Idea**: we can \"initialize\" language model with pre-training on large unlabelled dataset.\n",
        "\n",
        "> So we don't have to train each language model for each class from scratch, we will use some initial counts from pre-trained model."
      ]
    },
    {
      "cell_type": "markdown",
      "metadata": {
        "id": "dWfiPlfCcZUD",
        "colab_type": "text"
      },
      "source": [
        "<!--@slideshow slide-->\n",
        "## Colab demo: classification with pre-trained language model"
      ]
    },
    {
      "cell_type": "code",
      "metadata": {
        "id": "DrRzs_VhMzpQ",
        "colab_type": "code",
        "outputId": "a24536ab-f476-4450-aa20-0e2b346a306b",
        "colab": {
          "base_uri": "https://localhost:8080/",
          "height": 134,
          "referenced_widgets": [
            "f2185363bad446fabdf6840c419b623b",
            "3ed950fe850d4aeeb0ee271bf345cf4c",
            "e170c36d1e0b46518e984fa04b1ee89e",
            "21976a53226143f4b31b08f9fad3ed1a",
            "99837a84a5c848e2975aca543a64da6d",
            "decab98854c74caea3478f4ff4694737",
            "9315efbb0e234622be86c89493545b03",
            "c2df933eff4a4b1994a8020c517de41a"
          ]
        }
      },
      "source": [
        "# Let's try language model pre-trained on Reddit comments\n",
        "# The code of pre-training is here: https://colab.research.google.com/drive/1DAW26wL5hxykxmLZ9W9ozk0_Otm3LpNI\n",
        "import pickle\n",
        "with open(\"harbour-space-text-mining-course/models/reddit_lm.pickle\", \"rb\") as f:\n",
        "    print(\"load\")\n",
        "    pretrained_lm = pickle.load(f)\n",
        "\n",
        "clf2 = LanguageModelClassifier(pretrained_lm=pretrained_lm)\n",
        "print(\"fit\")\n",
        "# `fit` is relatively slow because of deepcopy\n",
        "clf2.fit(tokenized_texts_train, y_train)\n",
        "\n",
        "print(\"predict\")\n",
        "print(accuracy_score(y_test, clf2.predict(tokenized_texts_test)))"
      ],
      "execution_count": 44,
      "outputs": [
        {
          "output_type": "stream",
          "text": [
            "load\n",
            "fit\n",
            "predict\n"
          ],
          "name": "stdout"
        },
        {
          "output_type": "display_data",
          "data": {
            "application/vnd.jupyter.widget-view+json": {
              "model_id": "f2185363bad446fabdf6840c419b623b",
              "version_minor": 0,
              "version_major": 2
            },
            "text/plain": [
              "HBox(children=(FloatProgress(value=0.0, description='predict', max=1489.0, style=ProgressStyle(description_wid…"
            ]
          },
          "metadata": {
            "tags": []
          }
        },
        {
          "output_type": "stream",
          "text": [
            "\n",
            "0.7253190060443251\n"
          ],
          "name": "stdout"
        }
      ]
    },
    {
      "cell_type": "markdown",
      "metadata": {
        "id": "2WuSMtUNTkr-",
        "colab_type": "text"
      },
      "source": [
        "<!--@slideshow slide-->\n",
        "# Summary\n",
        "\n",
        "1. Language Model predicts\n",
        "  - Probability of text\n",
        "  - Probability of the next word\n",
        "1. $n$-gram Language Model\n",
        "  - The next word depends only on $n-1$ previous words\n",
        "1. Generate text with Language Model\n",
        "  - Predict probabilities for all words\n",
        "  - Sample\n",
        "1. Perplexity measures the quality of Language Model\n",
        "  - A good model is not \"surprised\"\n",
        "1. Text classification with Language Models:\n",
        "  - Train LM for each class\n",
        "  - Choose LM with smallest perplexity\n",
        "1. **We can use pre-trained language models for classification.**\n",
        "  - This idea is used in ULMFiT algorithm (stay tuned)."
      ]
    },
    {
      "cell_type": "markdown",
      "metadata": {
        "id": "GqXrrGAr4nO5",
        "colab_type": "text"
      },
      "source": [
        "<!--@slideshow slide-->\n",
        "# Recommended resources\n",
        "- [📖 Language Models (nlpforhackers.io)](https://nlpforhackers.io/language-models/)\n",
        "- [📖 Home page for 20 newsgroups dataset](http://qwone.com/~jason/20Newsgroups/)\n",
        "- [📖 20 newsgroups dataset in sklearn](https://scikit-learn.org/0.19/datasets/twenty_newsgroups.html)"
      ]
    },
    {
      "cell_type": "markdown",
      "metadata": {
        "id": "2JOW3ezhTmxD",
        "colab_type": "text"
      },
      "source": [
        "<!--@slideshow slide-->\n",
        "# [OPTIONAL] Perplexity as loss function\n",
        "Take the logarithm of the probability of text:\n",
        "$$\n",
        "\\log \\Pr(t_1 t_2 \\dots t_l) = \\log \\Pr(t_1) + \\log \\Pr(t_2 | t_1) + \\dots + \\log \\Pr(t_l|t_1 t_2 \\dots t_{l-1})\n",
        "$$\n",
        "Take average instead of sum:\n",
        "$$\n",
        "\\dfrac{\\log \\Pr(t_1 t_2 \\dots t_l)}{l} = \\dfrac{\\log \\Pr(t_1) + \\log \\Pr(t_2 | t_1) + \\dots + \\log \\Pr(t_l|t_1 t_2 \\dots t_{l-1})}{l}\n",
        "$$\n",
        "The expression above can be interpreted as loss function (it is similar to cross entropy loss).\n",
        "\n",
        "We are interested in minimization of the loss function, so take the previous expression with the opposite sign:\n",
        "$$\n",
        "\\textrm{LossFunction}(t_1 t_2 \\dots t_l) = -\\frac{1}{l}(\\log \\Pr(t_1) + \\log \\Pr(t_2 | t_1) + \\dots + \\log \\Pr(t_l|t_1 t_2 \\dots t_{l-1}))\n",
        "$$\n",
        "\n",
        "$\\exp\\left(\\textrm{LossFunction}(t_1 t_2 \\dots t_l)\\right)$ is called perplexity:\n",
        "$$\n",
        "\\textrm{Perplexity}(t_1 t_2 \\dots t_l) = \\dfrac{1}{\\Pr(t_1 t_2 \\dots t_l)^\\frac{1}{l}}\n",
        "$$"
      ]
    }
  ]
}