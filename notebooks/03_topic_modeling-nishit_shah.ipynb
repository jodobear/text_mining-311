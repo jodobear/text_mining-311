{
  "nbformat": 4,
  "nbformat_minor": 0,
  "metadata": {
    "colab": {
      "name": "03_topic_modeling_nishit_shah.ipynb",
      "provenance": [],
      "collapsed_sections": [],
      "toc_visible": true
    },
    "kernelspec": {
      "name": "python3",
      "display_name": "Python 3"
    },
    "widgets": {
      "application/vnd.jupyter.widget-state+json": {
        "3c1f72e6c01c44e2a8bc3ff440ffe22c": {
          "model_module": "@jupyter-widgets/controls",
          "model_name": "VBoxModel",
          "state": {
            "_view_name": "VBoxView",
            "_dom_classes": [],
            "_model_name": "VBoxModel",
            "_view_module": "@jupyter-widgets/controls",
            "_model_module_version": "1.5.0",
            "_view_count": null,
            "_view_module_version": "1.5.0",
            "box_style": "",
            "layout": "IPY_MODEL_9a7f11be81c4428f8b10940081462cad",
            "_model_module": "@jupyter-widgets/controls",
            "children": [
              "IPY_MODEL_66c5f4fad42345c885d8f0424fb40009",
              "IPY_MODEL_88a8460138fe4ab89ec3b2e0421a4cc4",
              "IPY_MODEL_730a2b8f1e7d4263baea66de97727bc1"
            ]
          }
        },
        "9a7f11be81c4428f8b10940081462cad": {
          "model_module": "@jupyter-widgets/base",
          "model_name": "LayoutModel",
          "state": {
            "_view_name": "LayoutView",
            "grid_template_rows": null,
            "right": null,
            "justify_content": null,
            "_view_module": "@jupyter-widgets/base",
            "overflow": null,
            "_model_module_version": "1.2.0",
            "_view_count": null,
            "flex_flow": null,
            "width": null,
            "min_width": null,
            "border": null,
            "align_items": null,
            "bottom": null,
            "_model_module": "@jupyter-widgets/base",
            "top": null,
            "grid_column": null,
            "overflow_y": null,
            "overflow_x": null,
            "grid_auto_flow": null,
            "grid_area": null,
            "grid_template_columns": null,
            "flex": null,
            "_model_name": "LayoutModel",
            "justify_items": null,
            "grid_row": null,
            "max_height": null,
            "align_content": null,
            "visibility": null,
            "align_self": null,
            "height": null,
            "min_height": null,
            "padding": null,
            "grid_auto_rows": null,
            "grid_gap": null,
            "max_width": null,
            "order": null,
            "_view_module_version": "1.2.0",
            "grid_template_areas": null,
            "object_position": null,
            "object_fit": null,
            "grid_auto_columns": null,
            "margin": null,
            "display": null,
            "left": null
          }
        },
        "66c5f4fad42345c885d8f0424fb40009": {
          "model_module": "@jupyter-widgets/output",
          "model_name": "OutputModel",
          "state": {
            "_view_name": "OutputView",
            "msg_id": "",
            "_dom_classes": [],
            "_model_name": "OutputModel",
            "outputs": [
              {
                "output_type": "display_data",
                "metadata": {
                  "tags": []
                },
                "text/html": "next step: re-assign labels (E-step)",
                "text/plain": "<IPython.core.display.HTML object>"
              }
            ],
            "_view_module": "@jupyter-widgets/output",
            "_model_module_version": "1.0.0",
            "_view_count": null,
            "_view_module_version": "1.0.0",
            "layout": "IPY_MODEL_56036236fcf54fb993d391b9ffb50824",
            "_model_module": "@jupyter-widgets/output"
          }
        },
        "88a8460138fe4ab89ec3b2e0421a4cc4": {
          "model_module": "@jupyter-widgets/controls",
          "model_name": "ButtonModel",
          "state": {
            "_view_name": "ButtonView",
            "style": "IPY_MODEL_725874fbf1cc480ebb8b771c0db68c23",
            "_dom_classes": [],
            "description": "update",
            "_model_name": "ButtonModel",
            "button_style": "",
            "_view_module": "@jupyter-widgets/controls",
            "_model_module_version": "1.5.0",
            "tooltip": "",
            "_view_count": null,
            "disabled": false,
            "_view_module_version": "1.5.0",
            "layout": "IPY_MODEL_7080ca757bb44823b8d505aad66e4ea1",
            "_model_module": "@jupyter-widgets/controls",
            "icon": ""
          }
        },
        "730a2b8f1e7d4263baea66de97727bc1": {
          "model_module": "@jupyter-widgets/output",
          "model_name": "OutputModel",
          "state": {
            "_view_name": "OutputView",
            "msg_id": "",
            "_dom_classes": [],
            "_model_name": "OutputModel",
            "outputs": [
              {
                "output_type": "display_data",
                "metadata": {
                  "tags": [],
                  "needs_background": "light"
                },
                "image/png": "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\n",
                "text/plain": "<Figure size 576x576 with 1 Axes>"
              }
            ],
            "_view_module": "@jupyter-widgets/output",
            "_model_module_version": "1.0.0",
            "_view_count": null,
            "_view_module_version": "1.0.0",
            "layout": "IPY_MODEL_abd940d834704ddb9fe2afd32cbc1815",
            "_model_module": "@jupyter-widgets/output"
          }
        },
        "725874fbf1cc480ebb8b771c0db68c23": {
          "model_module": "@jupyter-widgets/controls",
          "model_name": "ButtonStyleModel",
          "state": {
            "_view_name": "StyleView",
            "_model_name": "ButtonStyleModel",
            "_view_module": "@jupyter-widgets/base",
            "_model_module_version": "1.5.0",
            "_view_count": null,
            "button_color": null,
            "font_weight": "",
            "_view_module_version": "1.2.0",
            "_model_module": "@jupyter-widgets/controls"
          }
        },
        "7080ca757bb44823b8d505aad66e4ea1": {
          "model_module": "@jupyter-widgets/base",
          "model_name": "LayoutModel",
          "state": {
            "_view_name": "LayoutView",
            "grid_template_rows": null,
            "right": null,
            "justify_content": null,
            "_view_module": "@jupyter-widgets/base",
            "overflow": null,
            "_model_module_version": "1.2.0",
            "_view_count": null,
            "flex_flow": null,
            "width": null,
            "min_width": null,
            "border": null,
            "align_items": null,
            "bottom": null,
            "_model_module": "@jupyter-widgets/base",
            "top": null,
            "grid_column": null,
            "overflow_y": null,
            "overflow_x": null,
            "grid_auto_flow": null,
            "grid_area": null,
            "grid_template_columns": null,
            "flex": null,
            "_model_name": "LayoutModel",
            "justify_items": null,
            "grid_row": null,
            "max_height": null,
            "align_content": null,
            "visibility": null,
            "align_self": null,
            "height": null,
            "min_height": null,
            "padding": null,
            "grid_auto_rows": null,
            "grid_gap": null,
            "max_width": null,
            "order": null,
            "_view_module_version": "1.2.0",
            "grid_template_areas": null,
            "object_position": null,
            "object_fit": null,
            "grid_auto_columns": null,
            "margin": null,
            "display": null,
            "left": null
          }
        },
        "56036236fcf54fb993d391b9ffb50824": {
          "model_module": "@jupyter-widgets/base",
          "model_name": "LayoutModel",
          "state": {
            "_view_name": "LayoutView",
            "grid_template_rows": null,
            "right": null,
            "justify_content": null,
            "_view_module": "@jupyter-widgets/base",
            "overflow": null,
            "_model_module_version": "1.2.0",
            "_view_count": null,
            "flex_flow": null,
            "width": null,
            "min_width": null,
            "border": null,
            "align_items": null,
            "bottom": null,
            "_model_module": "@jupyter-widgets/base",
            "top": null,
            "grid_column": null,
            "overflow_y": null,
            "overflow_x": null,
            "grid_auto_flow": null,
            "grid_area": null,
            "grid_template_columns": null,
            "flex": null,
            "_model_name": "LayoutModel",
            "justify_items": null,
            "grid_row": null,
            "max_height": null,
            "align_content": null,
            "visibility": null,
            "align_self": null,
            "height": null,
            "min_height": null,
            "padding": null,
            "grid_auto_rows": null,
            "grid_gap": null,
            "max_width": null,
            "order": null,
            "_view_module_version": "1.2.0",
            "grid_template_areas": null,
            "object_position": null,
            "object_fit": null,
            "grid_auto_columns": null,
            "margin": null,
            "display": null,
            "left": null
          }
        },
        "abd940d834704ddb9fe2afd32cbc1815": {
          "model_module": "@jupyter-widgets/base",
          "model_name": "LayoutModel",
          "state": {
            "_view_name": "LayoutView",
            "grid_template_rows": null,
            "right": null,
            "justify_content": null,
            "_view_module": "@jupyter-widgets/base",
            "overflow": null,
            "_model_module_version": "1.2.0",
            "_view_count": null,
            "flex_flow": null,
            "width": null,
            "min_width": null,
            "border": null,
            "align_items": null,
            "bottom": null,
            "_model_module": "@jupyter-widgets/base",
            "top": null,
            "grid_column": null,
            "overflow_y": null,
            "overflow_x": null,
            "grid_auto_flow": null,
            "grid_area": null,
            "grid_template_columns": null,
            "flex": null,
            "_model_name": "LayoutModel",
            "justify_items": null,
            "grid_row": null,
            "max_height": null,
            "align_content": null,
            "visibility": null,
            "align_self": null,
            "height": null,
            "min_height": null,
            "padding": null,
            "grid_auto_rows": null,
            "grid_gap": null,
            "max_width": null,
            "order": null,
            "_view_module_version": "1.2.0",
            "grid_template_areas": null,
            "object_position": null,
            "object_fit": null,
            "grid_auto_columns": null,
            "margin": null,
            "display": null,
            "left": null
          }
        },
        "5bd7c42f840d4f10aff7231e05ce7926": {
          "model_module": "@jupyter-widgets/controls",
          "model_name": "VBoxModel",
          "state": {
            "_view_name": "VBoxView",
            "_dom_classes": [],
            "_model_name": "VBoxModel",
            "_view_module": "@jupyter-widgets/controls",
            "_model_module_version": "1.5.0",
            "_view_count": null,
            "_view_module_version": "1.5.0",
            "box_style": "",
            "layout": "IPY_MODEL_22c2e1098d9f411da6758e20e2cc8f6e",
            "_model_module": "@jupyter-widgets/controls",
            "children": [
              "IPY_MODEL_554ebe67746544f7983d410393bb6f02",
              "IPY_MODEL_359e61ece4214ea5b859ab0a3bbcd4c3",
              "IPY_MODEL_d2f8316a868b4ec3880a071c787a8c1d"
            ]
          }
        },
        "22c2e1098d9f411da6758e20e2cc8f6e": {
          "model_module": "@jupyter-widgets/base",
          "model_name": "LayoutModel",
          "state": {
            "_view_name": "LayoutView",
            "grid_template_rows": null,
            "right": null,
            "justify_content": null,
            "_view_module": "@jupyter-widgets/base",
            "overflow": null,
            "_model_module_version": "1.2.0",
            "_view_count": null,
            "flex_flow": null,
            "width": null,
            "min_width": null,
            "border": null,
            "align_items": null,
            "bottom": null,
            "_model_module": "@jupyter-widgets/base",
            "top": null,
            "grid_column": null,
            "overflow_y": null,
            "overflow_x": null,
            "grid_auto_flow": null,
            "grid_area": null,
            "grid_template_columns": null,
            "flex": null,
            "_model_name": "LayoutModel",
            "justify_items": null,
            "grid_row": null,
            "max_height": null,
            "align_content": null,
            "visibility": null,
            "align_self": null,
            "height": null,
            "min_height": null,
            "padding": null,
            "grid_auto_rows": null,
            "grid_gap": null,
            "max_width": null,
            "order": null,
            "_view_module_version": "1.2.0",
            "grid_template_areas": null,
            "object_position": null,
            "object_fit": null,
            "grid_auto_columns": null,
            "margin": null,
            "display": null,
            "left": null
          }
        },
        "554ebe67746544f7983d410393bb6f02": {
          "model_module": "@jupyter-widgets/output",
          "model_name": "OutputModel",
          "state": {
            "_view_name": "OutputView",
            "msg_id": "",
            "_dom_classes": [],
            "_model_name": "OutputModel",
            "outputs": [
              {
                "output_type": "display_data",
                "metadata": {
                  "tags": []
                },
                "text/html": "next step: re-assign labels (E-step)",
                "text/plain": "<IPython.core.display.HTML object>"
              }
            ],
            "_view_module": "@jupyter-widgets/output",
            "_model_module_version": "1.0.0",
            "_view_count": null,
            "_view_module_version": "1.0.0",
            "layout": "IPY_MODEL_136ef1156f3942638f202f78c3649ea3",
            "_model_module": "@jupyter-widgets/output"
          }
        },
        "359e61ece4214ea5b859ab0a3bbcd4c3": {
          "model_module": "@jupyter-widgets/controls",
          "model_name": "ButtonModel",
          "state": {
            "_view_name": "ButtonView",
            "style": "IPY_MODEL_52a4f9521675478cb8b3ad5494bfd3df",
            "_dom_classes": [],
            "description": "update",
            "_model_name": "ButtonModel",
            "button_style": "",
            "_view_module": "@jupyter-widgets/controls",
            "_model_module_version": "1.5.0",
            "tooltip": "",
            "_view_count": null,
            "disabled": false,
            "_view_module_version": "1.5.0",
            "layout": "IPY_MODEL_e10361a32e3b469989673d5dcd4de895",
            "_model_module": "@jupyter-widgets/controls",
            "icon": ""
          }
        },
        "d2f8316a868b4ec3880a071c787a8c1d": {
          "model_module": "@jupyter-widgets/output",
          "model_name": "OutputModel",
          "state": {
            "_view_name": "OutputView",
            "msg_id": "",
            "_dom_classes": [],
            "_model_name": "OutputModel",
            "outputs": [
              {
                "output_type": "display_data",
                "metadata": {
                  "tags": []
                },
                "image/png": "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\n",
                "text/plain": "<Figure size 576x576 with 1 Axes>"
              }
            ],
            "_view_module": "@jupyter-widgets/output",
            "_model_module_version": "1.0.0",
            "_view_count": null,
            "_view_module_version": "1.0.0",
            "layout": "IPY_MODEL_fed6625cea144968879707741ca68f6c",
            "_model_module": "@jupyter-widgets/output"
          }
        },
        "52a4f9521675478cb8b3ad5494bfd3df": {
          "model_module": "@jupyter-widgets/controls",
          "model_name": "ButtonStyleModel",
          "state": {
            "_view_name": "StyleView",
            "_model_name": "ButtonStyleModel",
            "_view_module": "@jupyter-widgets/base",
            "_model_module_version": "1.5.0",
            "_view_count": null,
            "button_color": null,
            "font_weight": "",
            "_view_module_version": "1.2.0",
            "_model_module": "@jupyter-widgets/controls"
          }
        },
        "e10361a32e3b469989673d5dcd4de895": {
          "model_module": "@jupyter-widgets/base",
          "model_name": "LayoutModel",
          "state": {
            "_view_name": "LayoutView",
            "grid_template_rows": null,
            "right": null,
            "justify_content": null,
            "_view_module": "@jupyter-widgets/base",
            "overflow": null,
            "_model_module_version": "1.2.0",
            "_view_count": null,
            "flex_flow": null,
            "width": null,
            "min_width": null,
            "border": null,
            "align_items": null,
            "bottom": null,
            "_model_module": "@jupyter-widgets/base",
            "top": null,
            "grid_column": null,
            "overflow_y": null,
            "overflow_x": null,
            "grid_auto_flow": null,
            "grid_area": null,
            "grid_template_columns": null,
            "flex": null,
            "_model_name": "LayoutModel",
            "justify_items": null,
            "grid_row": null,
            "max_height": null,
            "align_content": null,
            "visibility": null,
            "align_self": null,
            "height": null,
            "min_height": null,
            "padding": null,
            "grid_auto_rows": null,
            "grid_gap": null,
            "max_width": null,
            "order": null,
            "_view_module_version": "1.2.0",
            "grid_template_areas": null,
            "object_position": null,
            "object_fit": null,
            "grid_auto_columns": null,
            "margin": null,
            "display": null,
            "left": null
          }
        },
        "136ef1156f3942638f202f78c3649ea3": {
          "model_module": "@jupyter-widgets/base",
          "model_name": "LayoutModel",
          "state": {
            "_view_name": "LayoutView",
            "grid_template_rows": null,
            "right": null,
            "justify_content": null,
            "_view_module": "@jupyter-widgets/base",
            "overflow": null,
            "_model_module_version": "1.2.0",
            "_view_count": null,
            "flex_flow": null,
            "width": null,
            "min_width": null,
            "border": null,
            "align_items": null,
            "bottom": null,
            "_model_module": "@jupyter-widgets/base",
            "top": null,
            "grid_column": null,
            "overflow_y": null,
            "overflow_x": null,
            "grid_auto_flow": null,
            "grid_area": null,
            "grid_template_columns": null,
            "flex": null,
            "_model_name": "LayoutModel",
            "justify_items": null,
            "grid_row": null,
            "max_height": null,
            "align_content": null,
            "visibility": null,
            "align_self": null,
            "height": null,
            "min_height": null,
            "padding": null,
            "grid_auto_rows": null,
            "grid_gap": null,
            "max_width": null,
            "order": null,
            "_view_module_version": "1.2.0",
            "grid_template_areas": null,
            "object_position": null,
            "object_fit": null,
            "grid_auto_columns": null,
            "margin": null,
            "display": null,
            "left": null
          }
        },
        "fed6625cea144968879707741ca68f6c": {
          "model_module": "@jupyter-widgets/base",
          "model_name": "LayoutModel",
          "state": {
            "_view_name": "LayoutView",
            "grid_template_rows": null,
            "right": null,
            "justify_content": null,
            "_view_module": "@jupyter-widgets/base",
            "overflow": null,
            "_model_module_version": "1.2.0",
            "_view_count": null,
            "flex_flow": null,
            "width": null,
            "min_width": null,
            "border": null,
            "align_items": null,
            "bottom": null,
            "_model_module": "@jupyter-widgets/base",
            "top": null,
            "grid_column": null,
            "overflow_y": null,
            "overflow_x": null,
            "grid_auto_flow": null,
            "grid_area": null,
            "grid_template_columns": null,
            "flex": null,
            "_model_name": "LayoutModel",
            "justify_items": null,
            "grid_row": null,
            "max_height": null,
            "align_content": null,
            "visibility": null,
            "align_self": null,
            "height": null,
            "min_height": null,
            "padding": null,
            "grid_auto_rows": null,
            "grid_gap": null,
            "max_width": null,
            "order": null,
            "_view_module_version": "1.2.0",
            "grid_template_areas": null,
            "object_position": null,
            "object_fit": null,
            "grid_auto_columns": null,
            "margin": null,
            "display": null,
            "left": null
          }
        },
        "747ce0b1b9294c3ba5baf43dc03c195e": {
          "model_module": "@jupyter-widgets/controls",
          "model_name": "VBoxModel",
          "state": {
            "_view_name": "VBoxView",
            "_dom_classes": [],
            "_model_name": "VBoxModel",
            "_view_module": "@jupyter-widgets/controls",
            "_model_module_version": "1.5.0",
            "_view_count": null,
            "_view_module_version": "1.5.0",
            "box_style": "",
            "layout": "IPY_MODEL_fa3cf4590214438bbfbd8432456ada88",
            "_model_module": "@jupyter-widgets/controls",
            "children": [
              "IPY_MODEL_48d995530c25401aad789a16726748a7",
              "IPY_MODEL_caf9de206550448b9a0293dc6f0b64ab",
              "IPY_MODEL_481eee105a15496d87a87c82d5942673",
              "IPY_MODEL_c8478118aef04b6791d9af6b8ba42597"
            ]
          }
        },
        "fa3cf4590214438bbfbd8432456ada88": {
          "model_module": "@jupyter-widgets/base",
          "model_name": "LayoutModel",
          "state": {
            "_view_name": "LayoutView",
            "grid_template_rows": null,
            "right": null,
            "justify_content": null,
            "_view_module": "@jupyter-widgets/base",
            "overflow": null,
            "_model_module_version": "1.2.0",
            "_view_count": null,
            "flex_flow": null,
            "width": null,
            "min_width": null,
            "border": null,
            "align_items": null,
            "bottom": null,
            "_model_module": "@jupyter-widgets/base",
            "top": null,
            "grid_column": null,
            "overflow_y": null,
            "overflow_x": null,
            "grid_auto_flow": null,
            "grid_area": null,
            "grid_template_columns": null,
            "flex": null,
            "_model_name": "LayoutModel",
            "justify_items": null,
            "grid_row": null,
            "max_height": null,
            "align_content": null,
            "visibility": null,
            "align_self": null,
            "height": null,
            "min_height": null,
            "padding": null,
            "grid_auto_rows": null,
            "grid_gap": null,
            "max_width": null,
            "order": null,
            "_view_module_version": "1.2.0",
            "grid_template_areas": null,
            "object_position": null,
            "object_fit": null,
            "grid_auto_columns": null,
            "margin": null,
            "display": null,
            "left": null
          }
        },
        "48d995530c25401aad789a16726748a7": {
          "model_module": "@jupyter-widgets/output",
          "model_name": "OutputModel",
          "state": {
            "_view_name": "OutputView",
            "msg_id": "",
            "_dom_classes": [],
            "_model_name": "OutputModel",
            "outputs": [
              {
                "output_type": "display_data",
                "metadata": {
                  "tags": []
                },
                "application/vnd.jupyter.widget-view+json": {
                  "model_id": "d44363c970d546839a5e324b34778a31",
                  "version_minor": 0,
                  "version_major": 2
                },
                "text/plain": "HTMLMath(value='\\n            Suppose you run $k$-means algorithm on 4 points:\\n            <ul>\\n            …"
              },
              {
                "output_type": "display_data",
                "metadata": {
                  "tags": []
                },
                "application/vnd.jupyter.widget-view+json": {
                  "model_id": "2b44a1dfbeca48e199f130323cf74642",
                  "version_minor": 0,
                  "version_major": 2
                },
                "text/plain": "HTMLMath(value='Compute clusters and new coordinates of $c_1$ and $c_2$ after one full iteration, i.e. after o…"
              },
              {
                "output_type": "display_data",
                "metadata": {
                  "tags": []
                },
                "application/vnd.jupyter.widget-view+json": {
                  "model_id": "5abe252b47bc45d7b0523324e9f3ff46",
                  "version_minor": 0,
                  "version_major": 2
                },
                "text/plain": "HTMLMath(value='\\n            Options:\\n            <ol>\\n                <li>cluster 1: $x_1$ and $x_3$; clus…"
              },
              {
                "output_type": "display_data",
                "metadata": {
                  "tags": []
                },
                "application/vnd.jupyter.widget-view+json": {
                  "model_id": "2e566d5cf72647b7b8fbbac8aeae1244",
                  "version_minor": 0,
                  "version_major": 2
                },
                "text/plain": "HTML(value='Choose the correct answer below.')"
              },
              {
                "output_type": "display_data",
                "metadata": {
                  "tags": []
                },
                "application/vnd.jupyter.widget-view+json": {
                  "model_id": "55ddaacf0b4e43f087c3edbb20b764d4",
                  "version_minor": 0,
                  "version_major": 2
                },
                "text/plain": "HTML(value='<b>Hint</b>: draw a picture.')"
              }
            ],
            "_view_module": "@jupyter-widgets/output",
            "_model_module_version": "1.0.0",
            "_view_count": null,
            "_view_module_version": "1.0.0",
            "layout": "IPY_MODEL_6f61acd9f193475e9d0f50baf326d0af",
            "_model_module": "@jupyter-widgets/output"
          }
        },
        "caf9de206550448b9a0293dc6f0b64ab": {
          "model_module": "@jupyter-widgets/controls",
          "model_name": "RadioButtonsModel",
          "state": {
            "_options_labels": [
              "option 1",
              "option 2",
              "option 3",
              "option 4"
            ],
            "_view_name": "RadioButtonsView",
            "style": "IPY_MODEL_9edf1c0cddaf4749a5b8f4ad39cfd65e",
            "_dom_classes": [],
            "description": "",
            "_model_name": "RadioButtonsModel",
            "index": 0,
            "_view_module": "@jupyter-widgets/controls",
            "_model_module_version": "1.5.0",
            "_view_count": null,
            "disabled": false,
            "_view_module_version": "1.5.0",
            "description_tooltip": null,
            "_model_module": "@jupyter-widgets/controls",
            "layout": "IPY_MODEL_8af9e3176c174277a4ff0afbbbce32e7"
          }
        },
        "481eee105a15496d87a87c82d5942673": {
          "model_module": "@jupyter-widgets/controls",
          "model_name": "HTMLModel",
          "state": {
            "_view_name": "HTMLView",
            "style": "IPY_MODEL_b2b6a05bdb2141c28c8ff20ea29c48e3",
            "_dom_classes": [],
            "description": "",
            "_model_name": "HTMLModel",
            "placeholder": "​",
            "_view_module": "@jupyter-widgets/controls",
            "_model_module_version": "1.5.0",
            "value": "<br>",
            "_view_count": null,
            "_view_module_version": "1.5.0",
            "description_tooltip": null,
            "_model_module": "@jupyter-widgets/controls",
            "layout": "IPY_MODEL_9d02226256ea47e5a834a3e232a6f729"
          }
        },
        "c8478118aef04b6791d9af6b8ba42597": {
          "model_module": "@jupyter-widgets/controls",
          "model_name": "ButtonModel",
          "state": {
            "_view_name": "ButtonView",
            "style": "IPY_MODEL_ff8bf01742474d869ef773b69e5d9801",
            "_dom_classes": [],
            "description": "Check",
            "_model_name": "ButtonModel",
            "button_style": "",
            "_view_module": "@jupyter-widgets/controls",
            "_model_module_version": "1.5.0",
            "tooltip": "",
            "_view_count": null,
            "disabled": false,
            "_view_module_version": "1.5.0",
            "layout": "IPY_MODEL_7af94b18b0fa4a798be49aa44c7e4524",
            "_model_module": "@jupyter-widgets/controls",
            "icon": ""
          }
        },
        "9edf1c0cddaf4749a5b8f4ad39cfd65e": {
          "model_module": "@jupyter-widgets/controls",
          "model_name": "DescriptionStyleModel",
          "state": {
            "_view_name": "StyleView",
            "_model_name": "DescriptionStyleModel",
            "description_width": "",
            "_view_module": "@jupyter-widgets/base",
            "_model_module_version": "1.5.0",
            "_view_count": null,
            "_view_module_version": "1.2.0",
            "_model_module": "@jupyter-widgets/controls"
          }
        },
        "8af9e3176c174277a4ff0afbbbce32e7": {
          "model_module": "@jupyter-widgets/base",
          "model_name": "LayoutModel",
          "state": {
            "_view_name": "LayoutView",
            "grid_template_rows": null,
            "right": null,
            "justify_content": null,
            "_view_module": "@jupyter-widgets/base",
            "overflow": null,
            "_model_module_version": "1.2.0",
            "_view_count": null,
            "flex_flow": null,
            "width": null,
            "min_width": null,
            "border": null,
            "align_items": null,
            "bottom": null,
            "_model_module": "@jupyter-widgets/base",
            "top": null,
            "grid_column": null,
            "overflow_y": null,
            "overflow_x": null,
            "grid_auto_flow": null,
            "grid_area": null,
            "grid_template_columns": null,
            "flex": null,
            "_model_name": "LayoutModel",
            "justify_items": null,
            "grid_row": null,
            "max_height": null,
            "align_content": null,
            "visibility": null,
            "align_self": null,
            "height": null,
            "min_height": null,
            "padding": null,
            "grid_auto_rows": null,
            "grid_gap": null,
            "max_width": null,
            "order": null,
            "_view_module_version": "1.2.0",
            "grid_template_areas": null,
            "object_position": null,
            "object_fit": null,
            "grid_auto_columns": null,
            "margin": null,
            "display": null,
            "left": null
          }
        },
        "b2b6a05bdb2141c28c8ff20ea29c48e3": {
          "model_module": "@jupyter-widgets/controls",
          "model_name": "DescriptionStyleModel",
          "state": {
            "_view_name": "StyleView",
            "_model_name": "DescriptionStyleModel",
            "description_width": "",
            "_view_module": "@jupyter-widgets/base",
            "_model_module_version": "1.5.0",
            "_view_count": null,
            "_view_module_version": "1.2.0",
            "_model_module": "@jupyter-widgets/controls"
          }
        },
        "9d02226256ea47e5a834a3e232a6f729": {
          "model_module": "@jupyter-widgets/base",
          "model_name": "LayoutModel",
          "state": {
            "_view_name": "LayoutView",
            "grid_template_rows": null,
            "right": null,
            "justify_content": null,
            "_view_module": "@jupyter-widgets/base",
            "overflow": null,
            "_model_module_version": "1.2.0",
            "_view_count": null,
            "flex_flow": null,
            "width": null,
            "min_width": null,
            "border": null,
            "align_items": null,
            "bottom": null,
            "_model_module": "@jupyter-widgets/base",
            "top": null,
            "grid_column": null,
            "overflow_y": null,
            "overflow_x": null,
            "grid_auto_flow": null,
            "grid_area": null,
            "grid_template_columns": null,
            "flex": null,
            "_model_name": "LayoutModel",
            "justify_items": null,
            "grid_row": null,
            "max_height": null,
            "align_content": null,
            "visibility": null,
            "align_self": null,
            "height": null,
            "min_height": null,
            "padding": null,
            "grid_auto_rows": null,
            "grid_gap": null,
            "max_width": null,
            "order": null,
            "_view_module_version": "1.2.0",
            "grid_template_areas": null,
            "object_position": null,
            "object_fit": null,
            "grid_auto_columns": null,
            "margin": null,
            "display": null,
            "left": null
          }
        },
        "ff8bf01742474d869ef773b69e5d9801": {
          "model_module": "@jupyter-widgets/controls",
          "model_name": "ButtonStyleModel",
          "state": {
            "_view_name": "StyleView",
            "_model_name": "ButtonStyleModel",
            "_view_module": "@jupyter-widgets/base",
            "_model_module_version": "1.5.0",
            "_view_count": null,
            "button_color": null,
            "font_weight": "",
            "_view_module_version": "1.2.0",
            "_model_module": "@jupyter-widgets/controls"
          }
        },
        "7af94b18b0fa4a798be49aa44c7e4524": {
          "model_module": "@jupyter-widgets/base",
          "model_name": "LayoutModel",
          "state": {
            "_view_name": "LayoutView",
            "grid_template_rows": null,
            "right": null,
            "justify_content": null,
            "_view_module": "@jupyter-widgets/base",
            "overflow": null,
            "_model_module_version": "1.2.0",
            "_view_count": null,
            "flex_flow": null,
            "width": null,
            "min_width": null,
            "border": null,
            "align_items": null,
            "bottom": null,
            "_model_module": "@jupyter-widgets/base",
            "top": null,
            "grid_column": null,
            "overflow_y": null,
            "overflow_x": null,
            "grid_auto_flow": null,
            "grid_area": null,
            "grid_template_columns": null,
            "flex": null,
            "_model_name": "LayoutModel",
            "justify_items": null,
            "grid_row": null,
            "max_height": null,
            "align_content": null,
            "visibility": null,
            "align_self": null,
            "height": null,
            "min_height": null,
            "padding": null,
            "grid_auto_rows": null,
            "grid_gap": null,
            "max_width": null,
            "order": null,
            "_view_module_version": "1.2.0",
            "grid_template_areas": null,
            "object_position": null,
            "object_fit": null,
            "grid_auto_columns": null,
            "margin": null,
            "display": null,
            "left": null
          }
        },
        "d44363c970d546839a5e324b34778a31": {
          "model_module": "@jupyter-widgets/controls",
          "model_name": "HTMLMathModel",
          "state": {
            "_view_name": "HTMLMathView",
            "style": "IPY_MODEL_4352880f912840b1adbbda8b83f62390",
            "_dom_classes": [],
            "description": "",
            "_model_name": "HTMLMathModel",
            "placeholder": "​",
            "_view_module": "@jupyter-widgets/controls",
            "_model_module_version": "1.5.0",
            "value": "\n            Suppose you run $k$-means algorithm on 4 points:\n            <ul>\n                <li>$x_1 = (3, 1)$</li>\n                <li>$x_2 = (4, 2)$</li>\n                <li>$x_3 = (3, 3)$</li>\n                <li>$x_4 = (6, 2)$</li>\n            </ul>\n            with initial cluster centers\n            <ul>\n                <li>$c_1 = (0, 2)$</li>\n                <li>$c_2 = (7, 2)$</li>\n            </ul>\n        ",
            "_view_count": null,
            "_view_module_version": "1.5.0",
            "description_tooltip": null,
            "_model_module": "@jupyter-widgets/controls",
            "layout": "IPY_MODEL_ffed1caa1b4949c0885162dde1290f6c"
          }
        },
        "6f61acd9f193475e9d0f50baf326d0af": {
          "model_module": "@jupyter-widgets/base",
          "model_name": "LayoutModel",
          "state": {
            "_view_name": "LayoutView",
            "grid_template_rows": null,
            "right": null,
            "justify_content": null,
            "_view_module": "@jupyter-widgets/base",
            "overflow": null,
            "_model_module_version": "1.2.0",
            "_view_count": null,
            "flex_flow": null,
            "width": null,
            "min_width": null,
            "border": null,
            "align_items": null,
            "bottom": null,
            "_model_module": "@jupyter-widgets/base",
            "top": null,
            "grid_column": null,
            "overflow_y": null,
            "overflow_x": null,
            "grid_auto_flow": null,
            "grid_area": null,
            "grid_template_columns": null,
            "flex": null,
            "_model_name": "LayoutModel",
            "justify_items": null,
            "grid_row": null,
            "max_height": null,
            "align_content": null,
            "visibility": null,
            "align_self": null,
            "height": null,
            "min_height": null,
            "padding": null,
            "grid_auto_rows": null,
            "grid_gap": null,
            "max_width": null,
            "order": null,
            "_view_module_version": "1.2.0",
            "grid_template_areas": null,
            "object_position": null,
            "object_fit": null,
            "grid_auto_columns": null,
            "margin": null,
            "display": null,
            "left": null
          }
        },
        "4352880f912840b1adbbda8b83f62390": {
          "model_module": "@jupyter-widgets/controls",
          "model_name": "DescriptionStyleModel",
          "state": {
            "_view_name": "StyleView",
            "_model_name": "DescriptionStyleModel",
            "description_width": "",
            "_view_module": "@jupyter-widgets/base",
            "_model_module_version": "1.5.0",
            "_view_count": null,
            "_view_module_version": "1.2.0",
            "_model_module": "@jupyter-widgets/controls"
          }
        },
        "ffed1caa1b4949c0885162dde1290f6c": {
          "model_module": "@jupyter-widgets/base",
          "model_name": "LayoutModel",
          "state": {
            "_view_name": "LayoutView",
            "grid_template_rows": null,
            "right": null,
            "justify_content": null,
            "_view_module": "@jupyter-widgets/base",
            "overflow": null,
            "_model_module_version": "1.2.0",
            "_view_count": null,
            "flex_flow": null,
            "width": null,
            "min_width": null,
            "border": null,
            "align_items": null,
            "bottom": null,
            "_model_module": "@jupyter-widgets/base",
            "top": null,
            "grid_column": null,
            "overflow_y": null,
            "overflow_x": null,
            "grid_auto_flow": null,
            "grid_area": null,
            "grid_template_columns": null,
            "flex": null,
            "_model_name": "LayoutModel",
            "justify_items": null,
            "grid_row": null,
            "max_height": null,
            "align_content": null,
            "visibility": null,
            "align_self": null,
            "height": null,
            "min_height": null,
            "padding": null,
            "grid_auto_rows": null,
            "grid_gap": null,
            "max_width": null,
            "order": null,
            "_view_module_version": "1.2.0",
            "grid_template_areas": null,
            "object_position": null,
            "object_fit": null,
            "grid_auto_columns": null,
            "margin": null,
            "display": null,
            "left": null
          }
        },
        "2b44a1dfbeca48e199f130323cf74642": {
          "model_module": "@jupyter-widgets/controls",
          "model_name": "HTMLMathModel",
          "state": {
            "_view_name": "HTMLMathView",
            "style": "IPY_MODEL_edcff661e1a047c2ac5b390726de9661",
            "_dom_classes": [],
            "description": "",
            "_model_name": "HTMLMathModel",
            "placeholder": "​",
            "_view_module": "@jupyter-widgets/controls",
            "_model_module_version": "1.5.0",
            "value": "Compute clusters and new coordinates of $c_1$ and $c_2$ after one full iteration, i.e. after one E-step and one M-step.",
            "_view_count": null,
            "_view_module_version": "1.5.0",
            "description_tooltip": null,
            "_model_module": "@jupyter-widgets/controls",
            "layout": "IPY_MODEL_f2515f3dbac54090b8a35655ace80eba"
          }
        },
        "edcff661e1a047c2ac5b390726de9661": {
          "model_module": "@jupyter-widgets/controls",
          "model_name": "DescriptionStyleModel",
          "state": {
            "_view_name": "StyleView",
            "_model_name": "DescriptionStyleModel",
            "description_width": "",
            "_view_module": "@jupyter-widgets/base",
            "_model_module_version": "1.5.0",
            "_view_count": null,
            "_view_module_version": "1.2.0",
            "_model_module": "@jupyter-widgets/controls"
          }
        },
        "f2515f3dbac54090b8a35655ace80eba": {
          "model_module": "@jupyter-widgets/base",
          "model_name": "LayoutModel",
          "state": {
            "_view_name": "LayoutView",
            "grid_template_rows": null,
            "right": null,
            "justify_content": null,
            "_view_module": "@jupyter-widgets/base",
            "overflow": null,
            "_model_module_version": "1.2.0",
            "_view_count": null,
            "flex_flow": null,
            "width": null,
            "min_width": null,
            "border": null,
            "align_items": null,
            "bottom": null,
            "_model_module": "@jupyter-widgets/base",
            "top": null,
            "grid_column": null,
            "overflow_y": null,
            "overflow_x": null,
            "grid_auto_flow": null,
            "grid_area": null,
            "grid_template_columns": null,
            "flex": null,
            "_model_name": "LayoutModel",
            "justify_items": null,
            "grid_row": null,
            "max_height": null,
            "align_content": null,
            "visibility": null,
            "align_self": null,
            "height": null,
            "min_height": null,
            "padding": null,
            "grid_auto_rows": null,
            "grid_gap": null,
            "max_width": null,
            "order": null,
            "_view_module_version": "1.2.0",
            "grid_template_areas": null,
            "object_position": null,
            "object_fit": null,
            "grid_auto_columns": null,
            "margin": null,
            "display": null,
            "left": null
          }
        },
        "5abe252b47bc45d7b0523324e9f3ff46": {
          "model_module": "@jupyter-widgets/controls",
          "model_name": "HTMLMathModel",
          "state": {
            "_view_name": "HTMLMathView",
            "style": "IPY_MODEL_0dde43e29fb14cb7b36831ce310703fd",
            "_dom_classes": [],
            "description": "",
            "_model_name": "HTMLMathModel",
            "placeholder": "​",
            "_view_module": "@jupyter-widgets/controls",
            "_model_module_version": "1.5.0",
            "value": "\n            Options:\n            <ol>\n                <li>cluster 1: $x_1$ and $x_3$; cluster 2: $x_2$ and $x_4$; $c_1 = (0, 2)$; $c_2 = (7, 2)$</li>\n                <li>cluster 1: $x_1$ and $x_3$; cluster 2: $x_2$ and $x_4$; $c_1 = (3, 2)$; $c_2 = (5, 2)$</li>\n                <li>cluster 1: $x_1$ and $x_2$; cluster 2: $x_3$ and $x_4$; $c_1 = (0, 2)$; $c_2 = (7, 2)$</li>\n                <li>cluster 1: $x_1$ and $x_2$; cluster 2: $x_3$ and $x_4$; $c_1 = (3, 2)$; $c_2 = (5, 2)$</li>\n            </ol>\n        ",
            "_view_count": null,
            "_view_module_version": "1.5.0",
            "description_tooltip": null,
            "_model_module": "@jupyter-widgets/controls",
            "layout": "IPY_MODEL_b30e2575feeb453cab463014d8f0b46a"
          }
        },
        "0dde43e29fb14cb7b36831ce310703fd": {
          "model_module": "@jupyter-widgets/controls",
          "model_name": "DescriptionStyleModel",
          "state": {
            "_view_name": "StyleView",
            "_model_name": "DescriptionStyleModel",
            "description_width": "",
            "_view_module": "@jupyter-widgets/base",
            "_model_module_version": "1.5.0",
            "_view_count": null,
            "_view_module_version": "1.2.0",
            "_model_module": "@jupyter-widgets/controls"
          }
        },
        "b30e2575feeb453cab463014d8f0b46a": {
          "model_module": "@jupyter-widgets/base",
          "model_name": "LayoutModel",
          "state": {
            "_view_name": "LayoutView",
            "grid_template_rows": null,
            "right": null,
            "justify_content": null,
            "_view_module": "@jupyter-widgets/base",
            "overflow": null,
            "_model_module_version": "1.2.0",
            "_view_count": null,
            "flex_flow": null,
            "width": null,
            "min_width": null,
            "border": null,
            "align_items": null,
            "bottom": null,
            "_model_module": "@jupyter-widgets/base",
            "top": null,
            "grid_column": null,
            "overflow_y": null,
            "overflow_x": null,
            "grid_auto_flow": null,
            "grid_area": null,
            "grid_template_columns": null,
            "flex": null,
            "_model_name": "LayoutModel",
            "justify_items": null,
            "grid_row": null,
            "max_height": null,
            "align_content": null,
            "visibility": null,
            "align_self": null,
            "height": null,
            "min_height": null,
            "padding": null,
            "grid_auto_rows": null,
            "grid_gap": null,
            "max_width": null,
            "order": null,
            "_view_module_version": "1.2.0",
            "grid_template_areas": null,
            "object_position": null,
            "object_fit": null,
            "grid_auto_columns": null,
            "margin": null,
            "display": null,
            "left": null
          }
        },
        "2e566d5cf72647b7b8fbbac8aeae1244": {
          "model_module": "@jupyter-widgets/controls",
          "model_name": "HTMLModel",
          "state": {
            "_view_name": "HTMLView",
            "style": "IPY_MODEL_71d564ec3eb841eb98f27a7d89c845f8",
            "_dom_classes": [],
            "description": "",
            "_model_name": "HTMLModel",
            "placeholder": "​",
            "_view_module": "@jupyter-widgets/controls",
            "_model_module_version": "1.5.0",
            "value": "Choose the correct answer below.",
            "_view_count": null,
            "_view_module_version": "1.5.0",
            "description_tooltip": null,
            "_model_module": "@jupyter-widgets/controls",
            "layout": "IPY_MODEL_70556863e1764748a10dffcb55b3178d"
          }
        },
        "71d564ec3eb841eb98f27a7d89c845f8": {
          "model_module": "@jupyter-widgets/controls",
          "model_name": "DescriptionStyleModel",
          "state": {
            "_view_name": "StyleView",
            "_model_name": "DescriptionStyleModel",
            "description_width": "",
            "_view_module": "@jupyter-widgets/base",
            "_model_module_version": "1.5.0",
            "_view_count": null,
            "_view_module_version": "1.2.0",
            "_model_module": "@jupyter-widgets/controls"
          }
        },
        "70556863e1764748a10dffcb55b3178d": {
          "model_module": "@jupyter-widgets/base",
          "model_name": "LayoutModel",
          "state": {
            "_view_name": "LayoutView",
            "grid_template_rows": null,
            "right": null,
            "justify_content": null,
            "_view_module": "@jupyter-widgets/base",
            "overflow": null,
            "_model_module_version": "1.2.0",
            "_view_count": null,
            "flex_flow": null,
            "width": null,
            "min_width": null,
            "border": null,
            "align_items": null,
            "bottom": null,
            "_model_module": "@jupyter-widgets/base",
            "top": null,
            "grid_column": null,
            "overflow_y": null,
            "overflow_x": null,
            "grid_auto_flow": null,
            "grid_area": null,
            "grid_template_columns": null,
            "flex": null,
            "_model_name": "LayoutModel",
            "justify_items": null,
            "grid_row": null,
            "max_height": null,
            "align_content": null,
            "visibility": null,
            "align_self": null,
            "height": null,
            "min_height": null,
            "padding": null,
            "grid_auto_rows": null,
            "grid_gap": null,
            "max_width": null,
            "order": null,
            "_view_module_version": "1.2.0",
            "grid_template_areas": null,
            "object_position": null,
            "object_fit": null,
            "grid_auto_columns": null,
            "margin": null,
            "display": null,
            "left": null
          }
        },
        "55ddaacf0b4e43f087c3edbb20b764d4": {
          "model_module": "@jupyter-widgets/controls",
          "model_name": "HTMLModel",
          "state": {
            "_view_name": "HTMLView",
            "style": "IPY_MODEL_375f9493279c437596222af0e507fbc3",
            "_dom_classes": [],
            "description": "",
            "_model_name": "HTMLModel",
            "placeholder": "​",
            "_view_module": "@jupyter-widgets/controls",
            "_model_module_version": "1.5.0",
            "value": "<b>Hint</b>: draw a picture.",
            "_view_count": null,
            "_view_module_version": "1.5.0",
            "description_tooltip": null,
            "_model_module": "@jupyter-widgets/controls",
            "layout": "IPY_MODEL_2b80ecf5881a440db6a4d81f11cb2580"
          }
        },
        "375f9493279c437596222af0e507fbc3": {
          "model_module": "@jupyter-widgets/controls",
          "model_name": "DescriptionStyleModel",
          "state": {
            "_view_name": "StyleView",
            "_model_name": "DescriptionStyleModel",
            "description_width": "",
            "_view_module": "@jupyter-widgets/base",
            "_model_module_version": "1.5.0",
            "_view_count": null,
            "_view_module_version": "1.2.0",
            "_model_module": "@jupyter-widgets/controls"
          }
        },
        "2b80ecf5881a440db6a4d81f11cb2580": {
          "model_module": "@jupyter-widgets/base",
          "model_name": "LayoutModel",
          "state": {
            "_view_name": "LayoutView",
            "grid_template_rows": null,
            "right": null,
            "justify_content": null,
            "_view_module": "@jupyter-widgets/base",
            "overflow": null,
            "_model_module_version": "1.2.0",
            "_view_count": null,
            "flex_flow": null,
            "width": null,
            "min_width": null,
            "border": null,
            "align_items": null,
            "bottom": null,
            "_model_module": "@jupyter-widgets/base",
            "top": null,
            "grid_column": null,
            "overflow_y": null,
            "overflow_x": null,
            "grid_auto_flow": null,
            "grid_area": null,
            "grid_template_columns": null,
            "flex": null,
            "_model_name": "LayoutModel",
            "justify_items": null,
            "grid_row": null,
            "max_height": null,
            "align_content": null,
            "visibility": null,
            "align_self": null,
            "height": null,
            "min_height": null,
            "padding": null,
            "grid_auto_rows": null,
            "grid_gap": null,
            "max_width": null,
            "order": null,
            "_view_module_version": "1.2.0",
            "grid_template_areas": null,
            "object_position": null,
            "object_fit": null,
            "grid_auto_columns": null,
            "margin": null,
            "display": null,
            "left": null
          }
        },
        "5689750c0fa04f4aa27a6106b3a84ca8": {
          "model_module": "@jupyter-widgets/controls",
          "model_name": "VBoxModel",
          "state": {
            "_view_name": "VBoxView",
            "_dom_classes": [],
            "_model_name": "VBoxModel",
            "_view_module": "@jupyter-widgets/controls",
            "_model_module_version": "1.5.0",
            "_view_count": null,
            "_view_module_version": "1.5.0",
            "box_style": "",
            "layout": "IPY_MODEL_417fcff884fc4ef9aeaf83982fde9ca6",
            "_model_module": "@jupyter-widgets/controls",
            "children": [
              "IPY_MODEL_809ae0232c2342e29a9be46c0b98dc0d",
              "IPY_MODEL_d9ce7594f7694163ad9c33614df35251",
              "IPY_MODEL_bb74f4012f3c4eb688351c8ca23cb452",
              "IPY_MODEL_5f3dc01b65fc4558903a414ca2976aed"
            ]
          }
        },
        "417fcff884fc4ef9aeaf83982fde9ca6": {
          "model_module": "@jupyter-widgets/base",
          "model_name": "LayoutModel",
          "state": {
            "_view_name": "LayoutView",
            "grid_template_rows": null,
            "right": null,
            "justify_content": null,
            "_view_module": "@jupyter-widgets/base",
            "overflow": null,
            "_model_module_version": "1.2.0",
            "_view_count": null,
            "flex_flow": null,
            "width": null,
            "min_width": null,
            "border": null,
            "align_items": null,
            "bottom": null,
            "_model_module": "@jupyter-widgets/base",
            "top": null,
            "grid_column": null,
            "overflow_y": null,
            "overflow_x": null,
            "grid_auto_flow": null,
            "grid_area": null,
            "grid_template_columns": null,
            "flex": null,
            "_model_name": "LayoutModel",
            "justify_items": null,
            "grid_row": null,
            "max_height": null,
            "align_content": null,
            "visibility": null,
            "align_self": null,
            "height": null,
            "min_height": null,
            "padding": null,
            "grid_auto_rows": null,
            "grid_gap": null,
            "max_width": null,
            "order": null,
            "_view_module_version": "1.2.0",
            "grid_template_areas": null,
            "object_position": null,
            "object_fit": null,
            "grid_auto_columns": null,
            "margin": null,
            "display": null,
            "left": null
          }
        },
        "809ae0232c2342e29a9be46c0b98dc0d": {
          "model_module": "@jupyter-widgets/output",
          "model_name": "OutputModel",
          "state": {
            "_view_name": "OutputView",
            "msg_id": "",
            "_dom_classes": [],
            "_model_name": "OutputModel",
            "outputs": [
              {
                "output_type": "display_data",
                "metadata": {
                  "tags": []
                },
                "application/vnd.jupyter.widget-view+json": {
                  "model_id": "d355bc14ad524223a9d646959dddcfb5",
                  "version_minor": 0,
                  "version_major": 2
                },
                "text/plain": "HTMLMath(value='\\n            Suppose you have 4 points with the following true labels and clusters:\\n        …"
              },
              {
                "output_type": "display_data",
                "metadata": {
                  "tags": []
                },
                "application/vnd.jupyter.widget-view+json": {
                  "model_id": "5ca4384182c24b0bb2e294bd4d29d1a6",
                  "version_minor": 0,
                  "version_major": 2
                },
                "text/plain": "HTMLMath(value='<table>\\n<thead>\\n<tr><th>point  </th><th style=\"text-align: right;\">  label</th><th style=\"te…"
              },
              {
                "output_type": "display_data",
                "metadata": {
                  "tags": []
                },
                "application/vnd.jupyter.widget-view+json": {
                  "model_id": "b1059189246a45259ff095350033843a",
                  "version_minor": 0,
                  "version_major": 2
                },
                "text/plain": "HTML(value='What is the clustering quality according to the definition above?')"
              }
            ],
            "_view_module": "@jupyter-widgets/output",
            "_model_module_version": "1.0.0",
            "_view_count": null,
            "_view_module_version": "1.0.0",
            "layout": "IPY_MODEL_1b40d91f1e614f67aaf49338b06fde1a",
            "_model_module": "@jupyter-widgets/output"
          }
        },
        "d9ce7594f7694163ad9c33614df35251": {
          "model_module": "@jupyter-widgets/controls",
          "model_name": "RadioButtonsModel",
          "state": {
            "_options_labels": [
              "0",
              "0.25",
              "0.5",
              "0.75"
            ],
            "_view_name": "RadioButtonsView",
            "style": "IPY_MODEL_9312c22a1be04b80ab9c8128ead48589",
            "_dom_classes": [],
            "description": "",
            "_model_name": "RadioButtonsModel",
            "index": 0,
            "_view_module": "@jupyter-widgets/controls",
            "_model_module_version": "1.5.0",
            "_view_count": null,
            "disabled": false,
            "_view_module_version": "1.5.0",
            "description_tooltip": null,
            "_model_module": "@jupyter-widgets/controls",
            "layout": "IPY_MODEL_a364b36c771c411399e584b80b8e55f6"
          }
        },
        "bb74f4012f3c4eb688351c8ca23cb452": {
          "model_module": "@jupyter-widgets/controls",
          "model_name": "HTMLModel",
          "state": {
            "_view_name": "HTMLView",
            "style": "IPY_MODEL_c4a2b7f523e547329aaad65cd7445e11",
            "_dom_classes": [],
            "description": "",
            "_model_name": "HTMLModel",
            "placeholder": "​",
            "_view_module": "@jupyter-widgets/controls",
            "_model_module_version": "1.5.0",
            "value": "<br>",
            "_view_count": null,
            "_view_module_version": "1.5.0",
            "description_tooltip": null,
            "_model_module": "@jupyter-widgets/controls",
            "layout": "IPY_MODEL_3dc2651bedb7419c8830ab0274c64aea"
          }
        },
        "5f3dc01b65fc4558903a414ca2976aed": {
          "model_module": "@jupyter-widgets/controls",
          "model_name": "ButtonModel",
          "state": {
            "_view_name": "ButtonView",
            "style": "IPY_MODEL_d919118af8d64ef5be4313fe89226a05",
            "_dom_classes": [],
            "description": "Check",
            "_model_name": "ButtonModel",
            "button_style": "",
            "_view_module": "@jupyter-widgets/controls",
            "_model_module_version": "1.5.0",
            "tooltip": "",
            "_view_count": null,
            "disabled": false,
            "_view_module_version": "1.5.0",
            "layout": "IPY_MODEL_51cb874ae88849d3927ab80620dd64a0",
            "_model_module": "@jupyter-widgets/controls",
            "icon": ""
          }
        },
        "9312c22a1be04b80ab9c8128ead48589": {
          "model_module": "@jupyter-widgets/controls",
          "model_name": "DescriptionStyleModel",
          "state": {
            "_view_name": "StyleView",
            "_model_name": "DescriptionStyleModel",
            "description_width": "",
            "_view_module": "@jupyter-widgets/base",
            "_model_module_version": "1.5.0",
            "_view_count": null,
            "_view_module_version": "1.2.0",
            "_model_module": "@jupyter-widgets/controls"
          }
        },
        "a364b36c771c411399e584b80b8e55f6": {
          "model_module": "@jupyter-widgets/base",
          "model_name": "LayoutModel",
          "state": {
            "_view_name": "LayoutView",
            "grid_template_rows": null,
            "right": null,
            "justify_content": null,
            "_view_module": "@jupyter-widgets/base",
            "overflow": null,
            "_model_module_version": "1.2.0",
            "_view_count": null,
            "flex_flow": null,
            "width": null,
            "min_width": null,
            "border": null,
            "align_items": null,
            "bottom": null,
            "_model_module": "@jupyter-widgets/base",
            "top": null,
            "grid_column": null,
            "overflow_y": null,
            "overflow_x": null,
            "grid_auto_flow": null,
            "grid_area": null,
            "grid_template_columns": null,
            "flex": null,
            "_model_name": "LayoutModel",
            "justify_items": null,
            "grid_row": null,
            "max_height": null,
            "align_content": null,
            "visibility": null,
            "align_self": null,
            "height": null,
            "min_height": null,
            "padding": null,
            "grid_auto_rows": null,
            "grid_gap": null,
            "max_width": null,
            "order": null,
            "_view_module_version": "1.2.0",
            "grid_template_areas": null,
            "object_position": null,
            "object_fit": null,
            "grid_auto_columns": null,
            "margin": null,
            "display": null,
            "left": null
          }
        },
        "c4a2b7f523e547329aaad65cd7445e11": {
          "model_module": "@jupyter-widgets/controls",
          "model_name": "DescriptionStyleModel",
          "state": {
            "_view_name": "StyleView",
            "_model_name": "DescriptionStyleModel",
            "description_width": "",
            "_view_module": "@jupyter-widgets/base",
            "_model_module_version": "1.5.0",
            "_view_count": null,
            "_view_module_version": "1.2.0",
            "_model_module": "@jupyter-widgets/controls"
          }
        },
        "3dc2651bedb7419c8830ab0274c64aea": {
          "model_module": "@jupyter-widgets/base",
          "model_name": "LayoutModel",
          "state": {
            "_view_name": "LayoutView",
            "grid_template_rows": null,
            "right": null,
            "justify_content": null,
            "_view_module": "@jupyter-widgets/base",
            "overflow": null,
            "_model_module_version": "1.2.0",
            "_view_count": null,
            "flex_flow": null,
            "width": null,
            "min_width": null,
            "border": null,
            "align_items": null,
            "bottom": null,
            "_model_module": "@jupyter-widgets/base",
            "top": null,
            "grid_column": null,
            "overflow_y": null,
            "overflow_x": null,
            "grid_auto_flow": null,
            "grid_area": null,
            "grid_template_columns": null,
            "flex": null,
            "_model_name": "LayoutModel",
            "justify_items": null,
            "grid_row": null,
            "max_height": null,
            "align_content": null,
            "visibility": null,
            "align_self": null,
            "height": null,
            "min_height": null,
            "padding": null,
            "grid_auto_rows": null,
            "grid_gap": null,
            "max_width": null,
            "order": null,
            "_view_module_version": "1.2.0",
            "grid_template_areas": null,
            "object_position": null,
            "object_fit": null,
            "grid_auto_columns": null,
            "margin": null,
            "display": null,
            "left": null
          }
        },
        "d919118af8d64ef5be4313fe89226a05": {
          "model_module": "@jupyter-widgets/controls",
          "model_name": "ButtonStyleModel",
          "state": {
            "_view_name": "StyleView",
            "_model_name": "ButtonStyleModel",
            "_view_module": "@jupyter-widgets/base",
            "_model_module_version": "1.5.0",
            "_view_count": null,
            "button_color": null,
            "font_weight": "",
            "_view_module_version": "1.2.0",
            "_model_module": "@jupyter-widgets/controls"
          }
        },
        "51cb874ae88849d3927ab80620dd64a0": {
          "model_module": "@jupyter-widgets/base",
          "model_name": "LayoutModel",
          "state": {
            "_view_name": "LayoutView",
            "grid_template_rows": null,
            "right": null,
            "justify_content": null,
            "_view_module": "@jupyter-widgets/base",
            "overflow": null,
            "_model_module_version": "1.2.0",
            "_view_count": null,
            "flex_flow": null,
            "width": null,
            "min_width": null,
            "border": null,
            "align_items": null,
            "bottom": null,
            "_model_module": "@jupyter-widgets/base",
            "top": null,
            "grid_column": null,
            "overflow_y": null,
            "overflow_x": null,
            "grid_auto_flow": null,
            "grid_area": null,
            "grid_template_columns": null,
            "flex": null,
            "_model_name": "LayoutModel",
            "justify_items": null,
            "grid_row": null,
            "max_height": null,
            "align_content": null,
            "visibility": null,
            "align_self": null,
            "height": null,
            "min_height": null,
            "padding": null,
            "grid_auto_rows": null,
            "grid_gap": null,
            "max_width": null,
            "order": null,
            "_view_module_version": "1.2.0",
            "grid_template_areas": null,
            "object_position": null,
            "object_fit": null,
            "grid_auto_columns": null,
            "margin": null,
            "display": null,
            "left": null
          }
        },
        "d355bc14ad524223a9d646959dddcfb5": {
          "model_module": "@jupyter-widgets/controls",
          "model_name": "HTMLMathModel",
          "state": {
            "_view_name": "HTMLMathView",
            "style": "IPY_MODEL_0b62468fe0b647be838365ff88a07778",
            "_dom_classes": [],
            "description": "",
            "_model_name": "HTMLMathModel",
            "placeholder": "​",
            "_view_module": "@jupyter-widgets/controls",
            "_model_module_version": "1.5.0",
            "value": "\n            Suppose you have 4 points with the following true labels and clusters:\n        ",
            "_view_count": null,
            "_view_module_version": "1.5.0",
            "description_tooltip": null,
            "_model_module": "@jupyter-widgets/controls",
            "layout": "IPY_MODEL_faa69b3f28cb4ced80645d3e182781b0"
          }
        },
        "1b40d91f1e614f67aaf49338b06fde1a": {
          "model_module": "@jupyter-widgets/base",
          "model_name": "LayoutModel",
          "state": {
            "_view_name": "LayoutView",
            "grid_template_rows": null,
            "right": null,
            "justify_content": null,
            "_view_module": "@jupyter-widgets/base",
            "overflow": null,
            "_model_module_version": "1.2.0",
            "_view_count": null,
            "flex_flow": null,
            "width": null,
            "min_width": null,
            "border": null,
            "align_items": null,
            "bottom": null,
            "_model_module": "@jupyter-widgets/base",
            "top": null,
            "grid_column": null,
            "overflow_y": null,
            "overflow_x": null,
            "grid_auto_flow": null,
            "grid_area": null,
            "grid_template_columns": null,
            "flex": null,
            "_model_name": "LayoutModel",
            "justify_items": null,
            "grid_row": null,
            "max_height": null,
            "align_content": null,
            "visibility": null,
            "align_self": null,
            "height": null,
            "min_height": null,
            "padding": null,
            "grid_auto_rows": null,
            "grid_gap": null,
            "max_width": null,
            "order": null,
            "_view_module_version": "1.2.0",
            "grid_template_areas": null,
            "object_position": null,
            "object_fit": null,
            "grid_auto_columns": null,
            "margin": null,
            "display": null,
            "left": null
          }
        },
        "0b62468fe0b647be838365ff88a07778": {
          "model_module": "@jupyter-widgets/controls",
          "model_name": "DescriptionStyleModel",
          "state": {
            "_view_name": "StyleView",
            "_model_name": "DescriptionStyleModel",
            "description_width": "",
            "_view_module": "@jupyter-widgets/base",
            "_model_module_version": "1.5.0",
            "_view_count": null,
            "_view_module_version": "1.2.0",
            "_model_module": "@jupyter-widgets/controls"
          }
        },
        "faa69b3f28cb4ced80645d3e182781b0": {
          "model_module": "@jupyter-widgets/base",
          "model_name": "LayoutModel",
          "state": {
            "_view_name": "LayoutView",
            "grid_template_rows": null,
            "right": null,
            "justify_content": null,
            "_view_module": "@jupyter-widgets/base",
            "overflow": null,
            "_model_module_version": "1.2.0",
            "_view_count": null,
            "flex_flow": null,
            "width": null,
            "min_width": null,
            "border": null,
            "align_items": null,
            "bottom": null,
            "_model_module": "@jupyter-widgets/base",
            "top": null,
            "grid_column": null,
            "overflow_y": null,
            "overflow_x": null,
            "grid_auto_flow": null,
            "grid_area": null,
            "grid_template_columns": null,
            "flex": null,
            "_model_name": "LayoutModel",
            "justify_items": null,
            "grid_row": null,
            "max_height": null,
            "align_content": null,
            "visibility": null,
            "align_self": null,
            "height": null,
            "min_height": null,
            "padding": null,
            "grid_auto_rows": null,
            "grid_gap": null,
            "max_width": null,
            "order": null,
            "_view_module_version": "1.2.0",
            "grid_template_areas": null,
            "object_position": null,
            "object_fit": null,
            "grid_auto_columns": null,
            "margin": null,
            "display": null,
            "left": null
          }
        },
        "5ca4384182c24b0bb2e294bd4d29d1a6": {
          "model_module": "@jupyter-widgets/controls",
          "model_name": "HTMLMathModel",
          "state": {
            "_view_name": "HTMLMathView",
            "style": "IPY_MODEL_408e89c30ee044c79f71023a57f10fec",
            "_dom_classes": [],
            "description": "",
            "_model_name": "HTMLMathModel",
            "placeholder": "​",
            "_view_module": "@jupyter-widgets/controls",
            "_model_module_version": "1.5.0",
            "value": "<table>\n<thead>\n<tr><th>point  </th><th style=\"text-align: right;\">  label</th><th style=\"text-align: right;\">  cluster</th></tr>\n</thead>\n<tbody>\n<tr><td>$x_1$  </td><td style=\"text-align: right;\">      1</td><td style=\"text-align: right;\">        2</td></tr>\n<tr><td>$x_2$  </td><td style=\"text-align: right;\">      1</td><td style=\"text-align: right;\">        2</td></tr>\n<tr><td>$x_3$  </td><td style=\"text-align: right;\">      2</td><td style=\"text-align: right;\">        1</td></tr>\n<tr><td>$x_4$  </td><td style=\"text-align: right;\">      1</td><td style=\"text-align: right;\">        1</td></tr>\n</tbody>\n</table>",
            "_view_count": null,
            "_view_module_version": "1.5.0",
            "description_tooltip": null,
            "_model_module": "@jupyter-widgets/controls",
            "layout": "IPY_MODEL_9ff560e708cb420ba408c5f34ecc0aa4"
          }
        },
        "408e89c30ee044c79f71023a57f10fec": {
          "model_module": "@jupyter-widgets/controls",
          "model_name": "DescriptionStyleModel",
          "state": {
            "_view_name": "StyleView",
            "_model_name": "DescriptionStyleModel",
            "description_width": "",
            "_view_module": "@jupyter-widgets/base",
            "_model_module_version": "1.5.0",
            "_view_count": null,
            "_view_module_version": "1.2.0",
            "_model_module": "@jupyter-widgets/controls"
          }
        },
        "9ff560e708cb420ba408c5f34ecc0aa4": {
          "model_module": "@jupyter-widgets/base",
          "model_name": "LayoutModel",
          "state": {
            "_view_name": "LayoutView",
            "grid_template_rows": null,
            "right": null,
            "justify_content": null,
            "_view_module": "@jupyter-widgets/base",
            "overflow": null,
            "_model_module_version": "1.2.0",
            "_view_count": null,
            "flex_flow": null,
            "width": null,
            "min_width": null,
            "border": null,
            "align_items": null,
            "bottom": null,
            "_model_module": "@jupyter-widgets/base",
            "top": null,
            "grid_column": null,
            "overflow_y": null,
            "overflow_x": null,
            "grid_auto_flow": null,
            "grid_area": null,
            "grid_template_columns": null,
            "flex": null,
            "_model_name": "LayoutModel",
            "justify_items": null,
            "grid_row": null,
            "max_height": null,
            "align_content": null,
            "visibility": null,
            "align_self": null,
            "height": null,
            "min_height": null,
            "padding": null,
            "grid_auto_rows": null,
            "grid_gap": null,
            "max_width": null,
            "order": null,
            "_view_module_version": "1.2.0",
            "grid_template_areas": null,
            "object_position": null,
            "object_fit": null,
            "grid_auto_columns": null,
            "margin": null,
            "display": null,
            "left": null
          }
        },
        "b1059189246a45259ff095350033843a": {
          "model_module": "@jupyter-widgets/controls",
          "model_name": "HTMLModel",
          "state": {
            "_view_name": "HTMLView",
            "style": "IPY_MODEL_79a5dabde67d43a4acacd3afa07bef71",
            "_dom_classes": [],
            "description": "",
            "_model_name": "HTMLModel",
            "placeholder": "​",
            "_view_module": "@jupyter-widgets/controls",
            "_model_module_version": "1.5.0",
            "value": "What is the clustering quality according to the definition above?",
            "_view_count": null,
            "_view_module_version": "1.5.0",
            "description_tooltip": null,
            "_model_module": "@jupyter-widgets/controls",
            "layout": "IPY_MODEL_fc669fa0c90c458fb86dfddad7ef5d53"
          }
        },
        "79a5dabde67d43a4acacd3afa07bef71": {
          "model_module": "@jupyter-widgets/controls",
          "model_name": "DescriptionStyleModel",
          "state": {
            "_view_name": "StyleView",
            "_model_name": "DescriptionStyleModel",
            "description_width": "",
            "_view_module": "@jupyter-widgets/base",
            "_model_module_version": "1.5.0",
            "_view_count": null,
            "_view_module_version": "1.2.0",
            "_model_module": "@jupyter-widgets/controls"
          }
        },
        "fc669fa0c90c458fb86dfddad7ef5d53": {
          "model_module": "@jupyter-widgets/base",
          "model_name": "LayoutModel",
          "state": {
            "_view_name": "LayoutView",
            "grid_template_rows": null,
            "right": null,
            "justify_content": null,
            "_view_module": "@jupyter-widgets/base",
            "overflow": null,
            "_model_module_version": "1.2.0",
            "_view_count": null,
            "flex_flow": null,
            "width": null,
            "min_width": null,
            "border": null,
            "align_items": null,
            "bottom": null,
            "_model_module": "@jupyter-widgets/base",
            "top": null,
            "grid_column": null,
            "overflow_y": null,
            "overflow_x": null,
            "grid_auto_flow": null,
            "grid_area": null,
            "grid_template_columns": null,
            "flex": null,
            "_model_name": "LayoutModel",
            "justify_items": null,
            "grid_row": null,
            "max_height": null,
            "align_content": null,
            "visibility": null,
            "align_self": null,
            "height": null,
            "min_height": null,
            "padding": null,
            "grid_auto_rows": null,
            "grid_gap": null,
            "max_width": null,
            "order": null,
            "_view_module_version": "1.2.0",
            "grid_template_areas": null,
            "object_position": null,
            "object_fit": null,
            "grid_auto_columns": null,
            "margin": null,
            "display": null,
            "left": null
          }
        },
        "713d0431375b4ef78170088231db039a": {
          "model_module": "@jupyter-widgets/controls",
          "model_name": "VBoxModel",
          "state": {
            "_view_name": "VBoxView",
            "_dom_classes": [],
            "_model_name": "VBoxModel",
            "_view_module": "@jupyter-widgets/controls",
            "_model_module_version": "1.5.0",
            "_view_count": null,
            "_view_module_version": "1.5.0",
            "box_style": "",
            "layout": "IPY_MODEL_81f1a09e4caf43db9374b7e7864fa276",
            "_model_module": "@jupyter-widgets/controls",
            "children": [
              "IPY_MODEL_effc7c35739540fc92ab46fc226d5402",
              "IPY_MODEL_508e17398a9049e1bfa5d5be4102be57",
              "IPY_MODEL_293e47323e5f46c586d44c9b3f6ee8fb",
              "IPY_MODEL_2fa88ab09287431d8f87f0ea12fbc562"
            ]
          }
        },
        "81f1a09e4caf43db9374b7e7864fa276": {
          "model_module": "@jupyter-widgets/base",
          "model_name": "LayoutModel",
          "state": {
            "_view_name": "LayoutView",
            "grid_template_rows": null,
            "right": null,
            "justify_content": null,
            "_view_module": "@jupyter-widgets/base",
            "overflow": null,
            "_model_module_version": "1.2.0",
            "_view_count": null,
            "flex_flow": null,
            "width": null,
            "min_width": null,
            "border": null,
            "align_items": null,
            "bottom": null,
            "_model_module": "@jupyter-widgets/base",
            "top": null,
            "grid_column": null,
            "overflow_y": null,
            "overflow_x": null,
            "grid_auto_flow": null,
            "grid_area": null,
            "grid_template_columns": null,
            "flex": null,
            "_model_name": "LayoutModel",
            "justify_items": null,
            "grid_row": null,
            "max_height": null,
            "align_content": null,
            "visibility": null,
            "align_self": null,
            "height": null,
            "min_height": null,
            "padding": null,
            "grid_auto_rows": null,
            "grid_gap": null,
            "max_width": null,
            "order": null,
            "_view_module_version": "1.2.0",
            "grid_template_areas": null,
            "object_position": null,
            "object_fit": null,
            "grid_auto_columns": null,
            "margin": null,
            "display": null,
            "left": null
          }
        },
        "effc7c35739540fc92ab46fc226d5402": {
          "model_module": "@jupyter-widgets/output",
          "model_name": "OutputModel",
          "state": {
            "_view_name": "OutputView",
            "msg_id": "",
            "_dom_classes": [],
            "_model_name": "OutputModel",
            "outputs": [
              {
                "output_type": "display_data",
                "metadata": {
                  "tags": []
                },
                "application/vnd.jupyter.widget-view+json": {
                  "model_id": "973988dbd4ef42a7bbbee4805a435f11",
                  "version_minor": 0,
                  "version_major": 2
                },
                "text/plain": "HTMLMath(value='\\n            Choose the correct NMF for the matrix\\n            $$\\n            X = \\\\begin{p…"
              }
            ],
            "_view_module": "@jupyter-widgets/output",
            "_model_module_version": "1.0.0",
            "_view_count": null,
            "_view_module_version": "1.0.0",
            "layout": "IPY_MODEL_5a3c81c38c4744aaa09c7950fa295b71",
            "_model_module": "@jupyter-widgets/output"
          }
        },
        "508e17398a9049e1bfa5d5be4102be57": {
          "model_module": "@jupyter-widgets/controls",
          "model_name": "RadioButtonsModel",
          "state": {
            "_options_labels": [
              "option 1",
              "option 2",
              "option 3",
              "option 4"
            ],
            "_view_name": "RadioButtonsView",
            "style": "IPY_MODEL_26933392016e4784a08866d645c84a8c",
            "_dom_classes": [],
            "description": "",
            "_model_name": "RadioButtonsModel",
            "index": 0,
            "_view_module": "@jupyter-widgets/controls",
            "_model_module_version": "1.5.0",
            "_view_count": null,
            "disabled": false,
            "_view_module_version": "1.5.0",
            "description_tooltip": null,
            "_model_module": "@jupyter-widgets/controls",
            "layout": "IPY_MODEL_9f4e05450fe34e32a28793c76e9bbd59"
          }
        },
        "293e47323e5f46c586d44c9b3f6ee8fb": {
          "model_module": "@jupyter-widgets/controls",
          "model_name": "HTMLModel",
          "state": {
            "_view_name": "HTMLView",
            "style": "IPY_MODEL_87dd37e03cb440bfb2475558a625d31d",
            "_dom_classes": [],
            "description": "",
            "_model_name": "HTMLModel",
            "placeholder": "​",
            "_view_module": "@jupyter-widgets/controls",
            "_model_module_version": "1.5.0",
            "value": "<br>",
            "_view_count": null,
            "_view_module_version": "1.5.0",
            "description_tooltip": null,
            "_model_module": "@jupyter-widgets/controls",
            "layout": "IPY_MODEL_637f0c758c96478e9ba842c54f1fae8a"
          }
        },
        "2fa88ab09287431d8f87f0ea12fbc562": {
          "model_module": "@jupyter-widgets/controls",
          "model_name": "ButtonModel",
          "state": {
            "_view_name": "ButtonView",
            "style": "IPY_MODEL_5bd5918e9c7c41d5b398d13aee69f403",
            "_dom_classes": [],
            "description": "Check",
            "_model_name": "ButtonModel",
            "button_style": "",
            "_view_module": "@jupyter-widgets/controls",
            "_model_module_version": "1.5.0",
            "tooltip": "",
            "_view_count": null,
            "disabled": false,
            "_view_module_version": "1.5.0",
            "layout": "IPY_MODEL_ee04de73cd1d4ecaba59fa7f8c7de94f",
            "_model_module": "@jupyter-widgets/controls",
            "icon": ""
          }
        },
        "26933392016e4784a08866d645c84a8c": {
          "model_module": "@jupyter-widgets/controls",
          "model_name": "DescriptionStyleModel",
          "state": {
            "_view_name": "StyleView",
            "_model_name": "DescriptionStyleModel",
            "description_width": "",
            "_view_module": "@jupyter-widgets/base",
            "_model_module_version": "1.5.0",
            "_view_count": null,
            "_view_module_version": "1.2.0",
            "_model_module": "@jupyter-widgets/controls"
          }
        },
        "9f4e05450fe34e32a28793c76e9bbd59": {
          "model_module": "@jupyter-widgets/base",
          "model_name": "LayoutModel",
          "state": {
            "_view_name": "LayoutView",
            "grid_template_rows": null,
            "right": null,
            "justify_content": null,
            "_view_module": "@jupyter-widgets/base",
            "overflow": null,
            "_model_module_version": "1.2.0",
            "_view_count": null,
            "flex_flow": null,
            "width": null,
            "min_width": null,
            "border": null,
            "align_items": null,
            "bottom": null,
            "_model_module": "@jupyter-widgets/base",
            "top": null,
            "grid_column": null,
            "overflow_y": null,
            "overflow_x": null,
            "grid_auto_flow": null,
            "grid_area": null,
            "grid_template_columns": null,
            "flex": null,
            "_model_name": "LayoutModel",
            "justify_items": null,
            "grid_row": null,
            "max_height": null,
            "align_content": null,
            "visibility": null,
            "align_self": null,
            "height": null,
            "min_height": null,
            "padding": null,
            "grid_auto_rows": null,
            "grid_gap": null,
            "max_width": null,
            "order": null,
            "_view_module_version": "1.2.0",
            "grid_template_areas": null,
            "object_position": null,
            "object_fit": null,
            "grid_auto_columns": null,
            "margin": null,
            "display": null,
            "left": null
          }
        },
        "87dd37e03cb440bfb2475558a625d31d": {
          "model_module": "@jupyter-widgets/controls",
          "model_name": "DescriptionStyleModel",
          "state": {
            "_view_name": "StyleView",
            "_model_name": "DescriptionStyleModel",
            "description_width": "",
            "_view_module": "@jupyter-widgets/base",
            "_model_module_version": "1.5.0",
            "_view_count": null,
            "_view_module_version": "1.2.0",
            "_model_module": "@jupyter-widgets/controls"
          }
        },
        "637f0c758c96478e9ba842c54f1fae8a": {
          "model_module": "@jupyter-widgets/base",
          "model_name": "LayoutModel",
          "state": {
            "_view_name": "LayoutView",
            "grid_template_rows": null,
            "right": null,
            "justify_content": null,
            "_view_module": "@jupyter-widgets/base",
            "overflow": null,
            "_model_module_version": "1.2.0",
            "_view_count": null,
            "flex_flow": null,
            "width": null,
            "min_width": null,
            "border": null,
            "align_items": null,
            "bottom": null,
            "_model_module": "@jupyter-widgets/base",
            "top": null,
            "grid_column": null,
            "overflow_y": null,
            "overflow_x": null,
            "grid_auto_flow": null,
            "grid_area": null,
            "grid_template_columns": null,
            "flex": null,
            "_model_name": "LayoutModel",
            "justify_items": null,
            "grid_row": null,
            "max_height": null,
            "align_content": null,
            "visibility": null,
            "align_self": null,
            "height": null,
            "min_height": null,
            "padding": null,
            "grid_auto_rows": null,
            "grid_gap": null,
            "max_width": null,
            "order": null,
            "_view_module_version": "1.2.0",
            "grid_template_areas": null,
            "object_position": null,
            "object_fit": null,
            "grid_auto_columns": null,
            "margin": null,
            "display": null,
            "left": null
          }
        },
        "5bd5918e9c7c41d5b398d13aee69f403": {
          "model_module": "@jupyter-widgets/controls",
          "model_name": "ButtonStyleModel",
          "state": {
            "_view_name": "StyleView",
            "_model_name": "ButtonStyleModel",
            "_view_module": "@jupyter-widgets/base",
            "_model_module_version": "1.5.0",
            "_view_count": null,
            "button_color": null,
            "font_weight": "",
            "_view_module_version": "1.2.0",
            "_model_module": "@jupyter-widgets/controls"
          }
        },
        "ee04de73cd1d4ecaba59fa7f8c7de94f": {
          "model_module": "@jupyter-widgets/base",
          "model_name": "LayoutModel",
          "state": {
            "_view_name": "LayoutView",
            "grid_template_rows": null,
            "right": null,
            "justify_content": null,
            "_view_module": "@jupyter-widgets/base",
            "overflow": null,
            "_model_module_version": "1.2.0",
            "_view_count": null,
            "flex_flow": null,
            "width": null,
            "min_width": null,
            "border": null,
            "align_items": null,
            "bottom": null,
            "_model_module": "@jupyter-widgets/base",
            "top": null,
            "grid_column": null,
            "overflow_y": null,
            "overflow_x": null,
            "grid_auto_flow": null,
            "grid_area": null,
            "grid_template_columns": null,
            "flex": null,
            "_model_name": "LayoutModel",
            "justify_items": null,
            "grid_row": null,
            "max_height": null,
            "align_content": null,
            "visibility": null,
            "align_self": null,
            "height": null,
            "min_height": null,
            "padding": null,
            "grid_auto_rows": null,
            "grid_gap": null,
            "max_width": null,
            "order": null,
            "_view_module_version": "1.2.0",
            "grid_template_areas": null,
            "object_position": null,
            "object_fit": null,
            "grid_auto_columns": null,
            "margin": null,
            "display": null,
            "left": null
          }
        },
        "973988dbd4ef42a7bbbee4805a435f11": {
          "model_module": "@jupyter-widgets/controls",
          "model_name": "HTMLMathModel",
          "state": {
            "_view_name": "HTMLMathView",
            "style": "IPY_MODEL_0d70a2b2b391439d9c9ee8fccead5243",
            "_dom_classes": [],
            "description": "",
            "_model_name": "HTMLMathModel",
            "placeholder": "​",
            "_view_module": "@jupyter-widgets/controls",
            "_model_module_version": "1.5.0",
            "value": "\n            Choose the correct NMF for the matrix\n            $$\n            X = \\begin{pmatrix}\n                    1 & 2 \\\\\n                    2 & 4\n                \\end{pmatrix}\n            $$\n            <ul>\n                <li> option 1:\n                    $$\n                    X =\n                    \\begin{pmatrix}\n                        1 & 1\\\\\n                        1 & 1\n                    \\end{pmatrix}\n                    \\cdot\n\n                    \\begin{pmatrix}\n                        1 & 2 \\\\\n                        2 & 4\n                    \\end{pmatrix}\n                    $$\n                </li>\n                <li> option 2:\n                    $$\n                    X =\n                    \\begin{pmatrix}\n                        1 & 0\\\\\n                        0 & 1\n                    \\end{pmatrix}\n                    \\cdot\n\n                    \\begin{pmatrix}\n                        1 & 2 \\\\\n                        2 & 2\n                    \\end{pmatrix}\n                    $$\n                </li>\n                <li> option 3:\n                    $$\n                    X =\n                    \\begin{pmatrix}\n                        1 \\\\\n                        2 \n                    \\end{pmatrix}\n                    \\cdot\n\n                    \\begin{pmatrix}\n                        1 & 2\n                    \\end{pmatrix}\n                    $$\n                </li>\n\n                <li> option 4:\n                    $$\n                    X =\n                    \\begin{pmatrix}\n                        1 & 2\n                    \\end{pmatrix}\n                    \\cdot\n\n                    \\begin{pmatrix}\n                        1 \\\\\n                        2\n                    \\end{pmatrix}\n                    $$\n                </li>\n            </ul>\n        ",
            "_view_count": null,
            "_view_module_version": "1.5.0",
            "description_tooltip": null,
            "_model_module": "@jupyter-widgets/controls",
            "layout": "IPY_MODEL_deec99f401fe43a19d43e4aaaead5355"
          }
        },
        "5a3c81c38c4744aaa09c7950fa295b71": {
          "model_module": "@jupyter-widgets/base",
          "model_name": "LayoutModel",
          "state": {
            "_view_name": "LayoutView",
            "grid_template_rows": null,
            "right": null,
            "justify_content": null,
            "_view_module": "@jupyter-widgets/base",
            "overflow": null,
            "_model_module_version": "1.2.0",
            "_view_count": null,
            "flex_flow": null,
            "width": null,
            "min_width": null,
            "border": null,
            "align_items": null,
            "bottom": null,
            "_model_module": "@jupyter-widgets/base",
            "top": null,
            "grid_column": null,
            "overflow_y": null,
            "overflow_x": null,
            "grid_auto_flow": null,
            "grid_area": null,
            "grid_template_columns": null,
            "flex": null,
            "_model_name": "LayoutModel",
            "justify_items": null,
            "grid_row": null,
            "max_height": null,
            "align_content": null,
            "visibility": null,
            "align_self": null,
            "height": null,
            "min_height": null,
            "padding": null,
            "grid_auto_rows": null,
            "grid_gap": null,
            "max_width": null,
            "order": null,
            "_view_module_version": "1.2.0",
            "grid_template_areas": null,
            "object_position": null,
            "object_fit": null,
            "grid_auto_columns": null,
            "margin": null,
            "display": null,
            "left": null
          }
        },
        "0d70a2b2b391439d9c9ee8fccead5243": {
          "model_module": "@jupyter-widgets/controls",
          "model_name": "DescriptionStyleModel",
          "state": {
            "_view_name": "StyleView",
            "_model_name": "DescriptionStyleModel",
            "description_width": "",
            "_view_module": "@jupyter-widgets/base",
            "_model_module_version": "1.5.0",
            "_view_count": null,
            "_view_module_version": "1.2.0",
            "_model_module": "@jupyter-widgets/controls"
          }
        },
        "deec99f401fe43a19d43e4aaaead5355": {
          "model_module": "@jupyter-widgets/base",
          "model_name": "LayoutModel",
          "state": {
            "_view_name": "LayoutView",
            "grid_template_rows": null,
            "right": null,
            "justify_content": null,
            "_view_module": "@jupyter-widgets/base",
            "overflow": null,
            "_model_module_version": "1.2.0",
            "_view_count": null,
            "flex_flow": null,
            "width": null,
            "min_width": null,
            "border": null,
            "align_items": null,
            "bottom": null,
            "_model_module": "@jupyter-widgets/base",
            "top": null,
            "grid_column": null,
            "overflow_y": null,
            "overflow_x": null,
            "grid_auto_flow": null,
            "grid_area": null,
            "grid_template_columns": null,
            "flex": null,
            "_model_name": "LayoutModel",
            "justify_items": null,
            "grid_row": null,
            "max_height": null,
            "align_content": null,
            "visibility": null,
            "align_self": null,
            "height": null,
            "min_height": null,
            "padding": null,
            "grid_auto_rows": null,
            "grid_gap": null,
            "max_width": null,
            "order": null,
            "_view_module_version": "1.2.0",
            "grid_template_areas": null,
            "object_position": null,
            "object_fit": null,
            "grid_auto_columns": null,
            "margin": null,
            "display": null,
            "left": null
          }
        },
        "aa5361be46a34a08bd33a81d220fa51b": {
          "model_module": "@jupyter-widgets/controls",
          "model_name": "HBoxModel",
          "state": {
            "_view_name": "HBoxView",
            "_dom_classes": [],
            "_model_name": "HBoxModel",
            "_view_module": "@jupyter-widgets/controls",
            "_model_module_version": "1.5.0",
            "_view_count": null,
            "_view_module_version": "1.5.0",
            "box_style": "",
            "layout": "IPY_MODEL_f7492635cfbf40bdb678122f747c48f5",
            "_model_module": "@jupyter-widgets/controls",
            "children": [
              "IPY_MODEL_54826c1e509d4788a5955aa12e6bb652",
              "IPY_MODEL_a32b0936a4f14686afb08f89df8dc9aa"
            ]
          }
        },
        "f7492635cfbf40bdb678122f747c48f5": {
          "model_module": "@jupyter-widgets/base",
          "model_name": "LayoutModel",
          "state": {
            "_view_name": "LayoutView",
            "grid_template_rows": null,
            "right": null,
            "justify_content": null,
            "_view_module": "@jupyter-widgets/base",
            "overflow": null,
            "_model_module_version": "1.2.0",
            "_view_count": null,
            "flex_flow": null,
            "width": null,
            "min_width": null,
            "border": null,
            "align_items": null,
            "bottom": null,
            "_model_module": "@jupyter-widgets/base",
            "top": null,
            "grid_column": null,
            "overflow_y": null,
            "overflow_x": null,
            "grid_auto_flow": null,
            "grid_area": null,
            "grid_template_columns": null,
            "flex": null,
            "_model_name": "LayoutModel",
            "justify_items": null,
            "grid_row": null,
            "max_height": null,
            "align_content": null,
            "visibility": null,
            "align_self": null,
            "height": null,
            "min_height": null,
            "padding": null,
            "grid_auto_rows": null,
            "grid_gap": null,
            "max_width": null,
            "order": null,
            "_view_module_version": "1.2.0",
            "grid_template_areas": null,
            "object_position": null,
            "object_fit": null,
            "grid_auto_columns": null,
            "margin": null,
            "display": null,
            "left": null
          }
        },
        "54826c1e509d4788a5955aa12e6bb652": {
          "model_module": "@jupyter-widgets/controls",
          "model_name": "FloatProgressModel",
          "state": {
            "_view_name": "ProgressView",
            "style": "IPY_MODEL_e33091d3641f4eeab51d27316796fe00",
            "_dom_classes": [],
            "description": "iterations: 100%",
            "_model_name": "FloatProgressModel",
            "bar_style": "success",
            "max": 30,
            "_view_module": "@jupyter-widgets/controls",
            "_model_module_version": "1.5.0",
            "value": 30,
            "_view_count": null,
            "_view_module_version": "1.5.0",
            "orientation": "horizontal",
            "min": 0,
            "description_tooltip": null,
            "_model_module": "@jupyter-widgets/controls",
            "layout": "IPY_MODEL_37a71bd8f48d457a8d50edbf9e5beb06"
          }
        },
        "a32b0936a4f14686afb08f89df8dc9aa": {
          "model_module": "@jupyter-widgets/controls",
          "model_name": "HTMLModel",
          "state": {
            "_view_name": "HTMLView",
            "style": "IPY_MODEL_59ff1e9dc4964864a8e2645ed534fa8d",
            "_dom_classes": [],
            "description": "",
            "_model_name": "HTMLModel",
            "placeholder": "​",
            "_view_module": "@jupyter-widgets/controls",
            "_model_module_version": "1.5.0",
            "value": " 30/30 [01:39&lt;00:00,  3.31s/it]",
            "_view_count": null,
            "_view_module_version": "1.5.0",
            "description_tooltip": null,
            "_model_module": "@jupyter-widgets/controls",
            "layout": "IPY_MODEL_02d0caa4590c4d7ba29400d7f1ee7438"
          }
        },
        "e33091d3641f4eeab51d27316796fe00": {
          "model_module": "@jupyter-widgets/controls",
          "model_name": "ProgressStyleModel",
          "state": {
            "_view_name": "StyleView",
            "_model_name": "ProgressStyleModel",
            "description_width": "initial",
            "_view_module": "@jupyter-widgets/base",
            "_model_module_version": "1.5.0",
            "_view_count": null,
            "_view_module_version": "1.2.0",
            "bar_color": null,
            "_model_module": "@jupyter-widgets/controls"
          }
        },
        "37a71bd8f48d457a8d50edbf9e5beb06": {
          "model_module": "@jupyter-widgets/base",
          "model_name": "LayoutModel",
          "state": {
            "_view_name": "LayoutView",
            "grid_template_rows": null,
            "right": null,
            "justify_content": null,
            "_view_module": "@jupyter-widgets/base",
            "overflow": null,
            "_model_module_version": "1.2.0",
            "_view_count": null,
            "flex_flow": null,
            "width": null,
            "min_width": null,
            "border": null,
            "align_items": null,
            "bottom": null,
            "_model_module": "@jupyter-widgets/base",
            "top": null,
            "grid_column": null,
            "overflow_y": null,
            "overflow_x": null,
            "grid_auto_flow": null,
            "grid_area": null,
            "grid_template_columns": null,
            "flex": null,
            "_model_name": "LayoutModel",
            "justify_items": null,
            "grid_row": null,
            "max_height": null,
            "align_content": null,
            "visibility": null,
            "align_self": null,
            "height": null,
            "min_height": null,
            "padding": null,
            "grid_auto_rows": null,
            "grid_gap": null,
            "max_width": null,
            "order": null,
            "_view_module_version": "1.2.0",
            "grid_template_areas": null,
            "object_position": null,
            "object_fit": null,
            "grid_auto_columns": null,
            "margin": null,
            "display": null,
            "left": null
          }
        },
        "59ff1e9dc4964864a8e2645ed534fa8d": {
          "model_module": "@jupyter-widgets/controls",
          "model_name": "DescriptionStyleModel",
          "state": {
            "_view_name": "StyleView",
            "_model_name": "DescriptionStyleModel",
            "description_width": "",
            "_view_module": "@jupyter-widgets/base",
            "_model_module_version": "1.5.0",
            "_view_count": null,
            "_view_module_version": "1.2.0",
            "_model_module": "@jupyter-widgets/controls"
          }
        },
        "02d0caa4590c4d7ba29400d7f1ee7438": {
          "model_module": "@jupyter-widgets/base",
          "model_name": "LayoutModel",
          "state": {
            "_view_name": "LayoutView",
            "grid_template_rows": null,
            "right": null,
            "justify_content": null,
            "_view_module": "@jupyter-widgets/base",
            "overflow": null,
            "_model_module_version": "1.2.0",
            "_view_count": null,
            "flex_flow": null,
            "width": null,
            "min_width": null,
            "border": null,
            "align_items": null,
            "bottom": null,
            "_model_module": "@jupyter-widgets/base",
            "top": null,
            "grid_column": null,
            "overflow_y": null,
            "overflow_x": null,
            "grid_auto_flow": null,
            "grid_area": null,
            "grid_template_columns": null,
            "flex": null,
            "_model_name": "LayoutModel",
            "justify_items": null,
            "grid_row": null,
            "max_height": null,
            "align_content": null,
            "visibility": null,
            "align_self": null,
            "height": null,
            "min_height": null,
            "padding": null,
            "grid_auto_rows": null,
            "grid_gap": null,
            "max_width": null,
            "order": null,
            "_view_module_version": "1.2.0",
            "grid_template_areas": null,
            "object_position": null,
            "object_fit": null,
            "grid_auto_columns": null,
            "margin": null,
            "display": null,
            "left": null
          }
        },
        "203e4850833549ee9631e70c67c01624": {
          "model_module": "@jupyter-widgets/controls",
          "model_name": "HBoxModel",
          "state": {
            "_view_name": "HBoxView",
            "_dom_classes": [],
            "_model_name": "HBoxModel",
            "_view_module": "@jupyter-widgets/controls",
            "_model_module_version": "1.5.0",
            "_view_count": null,
            "_view_module_version": "1.5.0",
            "box_style": "",
            "layout": "IPY_MODEL_9cd8ec9d6ade4645bb54769c35f94fbd",
            "_model_module": "@jupyter-widgets/controls",
            "children": [
              "IPY_MODEL_9d32643f125d47ba85422a03a4b08927",
              "IPY_MODEL_03da9f5793a24363a49ee532963e46e2"
            ]
          }
        },
        "9cd8ec9d6ade4645bb54769c35f94fbd": {
          "model_module": "@jupyter-widgets/base",
          "model_name": "LayoutModel",
          "state": {
            "_view_name": "LayoutView",
            "grid_template_rows": null,
            "right": null,
            "justify_content": null,
            "_view_module": "@jupyter-widgets/base",
            "overflow": null,
            "_model_module_version": "1.2.0",
            "_view_count": null,
            "flex_flow": null,
            "width": null,
            "min_width": null,
            "border": null,
            "align_items": null,
            "bottom": null,
            "_model_module": "@jupyter-widgets/base",
            "top": null,
            "grid_column": null,
            "overflow_y": null,
            "overflow_x": null,
            "grid_auto_flow": null,
            "grid_area": null,
            "grid_template_columns": null,
            "flex": null,
            "_model_name": "LayoutModel",
            "justify_items": null,
            "grid_row": null,
            "max_height": null,
            "align_content": null,
            "visibility": null,
            "align_self": null,
            "height": null,
            "min_height": null,
            "padding": null,
            "grid_auto_rows": null,
            "grid_gap": null,
            "max_width": null,
            "order": null,
            "_view_module_version": "1.2.0",
            "grid_template_areas": null,
            "object_position": null,
            "object_fit": null,
            "grid_auto_columns": null,
            "margin": null,
            "display": null,
            "left": null
          }
        },
        "9d32643f125d47ba85422a03a4b08927": {
          "model_module": "@jupyter-widgets/controls",
          "model_name": "FloatProgressModel",
          "state": {
            "_view_name": "ProgressView",
            "style": "IPY_MODEL_869844ae9b7040acb5482e80fbfd0b0a",
            "_dom_classes": [],
            "description": "iterations: 100%",
            "_model_name": "FloatProgressModel",
            "bar_style": "success",
            "max": 30,
            "_view_module": "@jupyter-widgets/controls",
            "_model_module_version": "1.5.0",
            "value": 30,
            "_view_count": null,
            "_view_module_version": "1.5.0",
            "orientation": "horizontal",
            "min": 0,
            "description_tooltip": null,
            "_model_module": "@jupyter-widgets/controls",
            "layout": "IPY_MODEL_c55fb2587b2d4ad5b86b8edff9f37032"
          }
        },
        "03da9f5793a24363a49ee532963e46e2": {
          "model_module": "@jupyter-widgets/controls",
          "model_name": "HTMLModel",
          "state": {
            "_view_name": "HTMLView",
            "style": "IPY_MODEL_f03097d97eeb43f1bfa38c5a4e024400",
            "_dom_classes": [],
            "description": "",
            "_model_name": "HTMLModel",
            "placeholder": "​",
            "_view_module": "@jupyter-widgets/controls",
            "_model_module_version": "1.5.0",
            "value": " 30/30 [01:27&lt;00:00,  2.90s/it]",
            "_view_count": null,
            "_view_module_version": "1.5.0",
            "description_tooltip": null,
            "_model_module": "@jupyter-widgets/controls",
            "layout": "IPY_MODEL_b0ddf99cd6f84723b6e7629764a22448"
          }
        },
        "869844ae9b7040acb5482e80fbfd0b0a": {
          "model_module": "@jupyter-widgets/controls",
          "model_name": "ProgressStyleModel",
          "state": {
            "_view_name": "StyleView",
            "_model_name": "ProgressStyleModel",
            "description_width": "initial",
            "_view_module": "@jupyter-widgets/base",
            "_model_module_version": "1.5.0",
            "_view_count": null,
            "_view_module_version": "1.2.0",
            "bar_color": null,
            "_model_module": "@jupyter-widgets/controls"
          }
        },
        "c55fb2587b2d4ad5b86b8edff9f37032": {
          "model_module": "@jupyter-widgets/base",
          "model_name": "LayoutModel",
          "state": {
            "_view_name": "LayoutView",
            "grid_template_rows": null,
            "right": null,
            "justify_content": null,
            "_view_module": "@jupyter-widgets/base",
            "overflow": null,
            "_model_module_version": "1.2.0",
            "_view_count": null,
            "flex_flow": null,
            "width": null,
            "min_width": null,
            "border": null,
            "align_items": null,
            "bottom": null,
            "_model_module": "@jupyter-widgets/base",
            "top": null,
            "grid_column": null,
            "overflow_y": null,
            "overflow_x": null,
            "grid_auto_flow": null,
            "grid_area": null,
            "grid_template_columns": null,
            "flex": null,
            "_model_name": "LayoutModel",
            "justify_items": null,
            "grid_row": null,
            "max_height": null,
            "align_content": null,
            "visibility": null,
            "align_self": null,
            "height": null,
            "min_height": null,
            "padding": null,
            "grid_auto_rows": null,
            "grid_gap": null,
            "max_width": null,
            "order": null,
            "_view_module_version": "1.2.0",
            "grid_template_areas": null,
            "object_position": null,
            "object_fit": null,
            "grid_auto_columns": null,
            "margin": null,
            "display": null,
            "left": null
          }
        },
        "f03097d97eeb43f1bfa38c5a4e024400": {
          "model_module": "@jupyter-widgets/controls",
          "model_name": "DescriptionStyleModel",
          "state": {
            "_view_name": "StyleView",
            "_model_name": "DescriptionStyleModel",
            "description_width": "",
            "_view_module": "@jupyter-widgets/base",
            "_model_module_version": "1.5.0",
            "_view_count": null,
            "_view_module_version": "1.2.0",
            "_model_module": "@jupyter-widgets/controls"
          }
        },
        "b0ddf99cd6f84723b6e7629764a22448": {
          "model_module": "@jupyter-widgets/base",
          "model_name": "LayoutModel",
          "state": {
            "_view_name": "LayoutView",
            "grid_template_rows": null,
            "right": null,
            "justify_content": null,
            "_view_module": "@jupyter-widgets/base",
            "overflow": null,
            "_model_module_version": "1.2.0",
            "_view_count": null,
            "flex_flow": null,
            "width": null,
            "min_width": null,
            "border": null,
            "align_items": null,
            "bottom": null,
            "_model_module": "@jupyter-widgets/base",
            "top": null,
            "grid_column": null,
            "overflow_y": null,
            "overflow_x": null,
            "grid_auto_flow": null,
            "grid_area": null,
            "grid_template_columns": null,
            "flex": null,
            "_model_name": "LayoutModel",
            "justify_items": null,
            "grid_row": null,
            "max_height": null,
            "align_content": null,
            "visibility": null,
            "align_self": null,
            "height": null,
            "min_height": null,
            "padding": null,
            "grid_auto_rows": null,
            "grid_gap": null,
            "max_width": null,
            "order": null,
            "_view_module_version": "1.2.0",
            "grid_template_areas": null,
            "object_position": null,
            "object_fit": null,
            "grid_auto_columns": null,
            "margin": null,
            "display": null,
            "left": null
          }
        },
        "b337fb5bce164b5189d14906aaa45ccb": {
          "model_module": "@jupyter-widgets/controls",
          "model_name": "HBoxModel",
          "state": {
            "_view_name": "HBoxView",
            "_dom_classes": [],
            "_model_name": "HBoxModel",
            "_view_module": "@jupyter-widgets/controls",
            "_model_module_version": "1.5.0",
            "_view_count": null,
            "_view_module_version": "1.5.0",
            "box_style": "",
            "layout": "IPY_MODEL_6ffd11fab7d24041a02451fb6c0d305b",
            "_model_module": "@jupyter-widgets/controls",
            "children": [
              "IPY_MODEL_58e03c7021c34c938afa367f48b0e64c",
              "IPY_MODEL_cf7bf8f76fc64643bca72801505609d9"
            ]
          }
        },
        "6ffd11fab7d24041a02451fb6c0d305b": {
          "model_module": "@jupyter-widgets/base",
          "model_name": "LayoutModel",
          "state": {
            "_view_name": "LayoutView",
            "grid_template_rows": null,
            "right": null,
            "justify_content": null,
            "_view_module": "@jupyter-widgets/base",
            "overflow": null,
            "_model_module_version": "1.2.0",
            "_view_count": null,
            "flex_flow": null,
            "width": null,
            "min_width": null,
            "border": null,
            "align_items": null,
            "bottom": null,
            "_model_module": "@jupyter-widgets/base",
            "top": null,
            "grid_column": null,
            "overflow_y": null,
            "overflow_x": null,
            "grid_auto_flow": null,
            "grid_area": null,
            "grid_template_columns": null,
            "flex": null,
            "_model_name": "LayoutModel",
            "justify_items": null,
            "grid_row": null,
            "max_height": null,
            "align_content": null,
            "visibility": null,
            "align_self": null,
            "height": null,
            "min_height": null,
            "padding": null,
            "grid_auto_rows": null,
            "grid_gap": null,
            "max_width": null,
            "order": null,
            "_view_module_version": "1.2.0",
            "grid_template_areas": null,
            "object_position": null,
            "object_fit": null,
            "grid_auto_columns": null,
            "margin": null,
            "display": null,
            "left": null
          }
        },
        "58e03c7021c34c938afa367f48b0e64c": {
          "model_module": "@jupyter-widgets/controls",
          "model_name": "FloatProgressModel",
          "state": {
            "_view_name": "ProgressView",
            "style": "IPY_MODEL_99f6e7633bcf48bf8eb9428969075f67",
            "_dom_classes": [],
            "description": "iterations: 100%",
            "_model_name": "FloatProgressModel",
            "bar_style": "success",
            "max": 30,
            "_view_module": "@jupyter-widgets/controls",
            "_model_module_version": "1.5.0",
            "value": 30,
            "_view_count": null,
            "_view_module_version": "1.5.0",
            "orientation": "horizontal",
            "min": 0,
            "description_tooltip": null,
            "_model_module": "@jupyter-widgets/controls",
            "layout": "IPY_MODEL_25d2bdc04b8a42bbbc5f8f8d11d9466b"
          }
        },
        "cf7bf8f76fc64643bca72801505609d9": {
          "model_module": "@jupyter-widgets/controls",
          "model_name": "HTMLModel",
          "state": {
            "_view_name": "HTMLView",
            "style": "IPY_MODEL_079ba60d96af4c13ac75f108978a1ed5",
            "_dom_classes": [],
            "description": "",
            "_model_name": "HTMLModel",
            "placeholder": "​",
            "_view_module": "@jupyter-widgets/controls",
            "_model_module_version": "1.5.0",
            "value": " 30/30 [01:41&lt;00:00,  3.37s/it]",
            "_view_count": null,
            "_view_module_version": "1.5.0",
            "description_tooltip": null,
            "_model_module": "@jupyter-widgets/controls",
            "layout": "IPY_MODEL_b655561b60134ad8bf3df4a9f8af4ca8"
          }
        },
        "99f6e7633bcf48bf8eb9428969075f67": {
          "model_module": "@jupyter-widgets/controls",
          "model_name": "ProgressStyleModel",
          "state": {
            "_view_name": "StyleView",
            "_model_name": "ProgressStyleModel",
            "description_width": "initial",
            "_view_module": "@jupyter-widgets/base",
            "_model_module_version": "1.5.0",
            "_view_count": null,
            "_view_module_version": "1.2.0",
            "bar_color": null,
            "_model_module": "@jupyter-widgets/controls"
          }
        },
        "25d2bdc04b8a42bbbc5f8f8d11d9466b": {
          "model_module": "@jupyter-widgets/base",
          "model_name": "LayoutModel",
          "state": {
            "_view_name": "LayoutView",
            "grid_template_rows": null,
            "right": null,
            "justify_content": null,
            "_view_module": "@jupyter-widgets/base",
            "overflow": null,
            "_model_module_version": "1.2.0",
            "_view_count": null,
            "flex_flow": null,
            "width": null,
            "min_width": null,
            "border": null,
            "align_items": null,
            "bottom": null,
            "_model_module": "@jupyter-widgets/base",
            "top": null,
            "grid_column": null,
            "overflow_y": null,
            "overflow_x": null,
            "grid_auto_flow": null,
            "grid_area": null,
            "grid_template_columns": null,
            "flex": null,
            "_model_name": "LayoutModel",
            "justify_items": null,
            "grid_row": null,
            "max_height": null,
            "align_content": null,
            "visibility": null,
            "align_self": null,
            "height": null,
            "min_height": null,
            "padding": null,
            "grid_auto_rows": null,
            "grid_gap": null,
            "max_width": null,
            "order": null,
            "_view_module_version": "1.2.0",
            "grid_template_areas": null,
            "object_position": null,
            "object_fit": null,
            "grid_auto_columns": null,
            "margin": null,
            "display": null,
            "left": null
          }
        },
        "079ba60d96af4c13ac75f108978a1ed5": {
          "model_module": "@jupyter-widgets/controls",
          "model_name": "DescriptionStyleModel",
          "state": {
            "_view_name": "StyleView",
            "_model_name": "DescriptionStyleModel",
            "description_width": "",
            "_view_module": "@jupyter-widgets/base",
            "_model_module_version": "1.5.0",
            "_view_count": null,
            "_view_module_version": "1.2.0",
            "_model_module": "@jupyter-widgets/controls"
          }
        },
        "b655561b60134ad8bf3df4a9f8af4ca8": {
          "model_module": "@jupyter-widgets/base",
          "model_name": "LayoutModel",
          "state": {
            "_view_name": "LayoutView",
            "grid_template_rows": null,
            "right": null,
            "justify_content": null,
            "_view_module": "@jupyter-widgets/base",
            "overflow": null,
            "_model_module_version": "1.2.0",
            "_view_count": null,
            "flex_flow": null,
            "width": null,
            "min_width": null,
            "border": null,
            "align_items": null,
            "bottom": null,
            "_model_module": "@jupyter-widgets/base",
            "top": null,
            "grid_column": null,
            "overflow_y": null,
            "overflow_x": null,
            "grid_auto_flow": null,
            "grid_area": null,
            "grid_template_columns": null,
            "flex": null,
            "_model_name": "LayoutModel",
            "justify_items": null,
            "grid_row": null,
            "max_height": null,
            "align_content": null,
            "visibility": null,
            "align_self": null,
            "height": null,
            "min_height": null,
            "padding": null,
            "grid_auto_rows": null,
            "grid_gap": null,
            "max_width": null,
            "order": null,
            "_view_module_version": "1.2.0",
            "grid_template_areas": null,
            "object_position": null,
            "object_fit": null,
            "grid_auto_columns": null,
            "margin": null,
            "display": null,
            "left": null
          }
        },
        "67fa20638fd64a9faa69c49059f1c680": {
          "model_module": "@jupyter-widgets/controls",
          "model_name": "HBoxModel",
          "state": {
            "_view_name": "HBoxView",
            "_dom_classes": [],
            "_model_name": "HBoxModel",
            "_view_module": "@jupyter-widgets/controls",
            "_model_module_version": "1.5.0",
            "_view_count": null,
            "_view_module_version": "1.5.0",
            "box_style": "",
            "layout": "IPY_MODEL_6e805d9fe80c47719fb93591f056dae3",
            "_model_module": "@jupyter-widgets/controls",
            "children": [
              "IPY_MODEL_d14d60a4d3854e25bff4605ef28865dd",
              "IPY_MODEL_f7c22a1a1403449980cd5a8d4b7b40c0"
            ]
          }
        },
        "6e805d9fe80c47719fb93591f056dae3": {
          "model_module": "@jupyter-widgets/base",
          "model_name": "LayoutModel",
          "state": {
            "_view_name": "LayoutView",
            "grid_template_rows": null,
            "right": null,
            "justify_content": null,
            "_view_module": "@jupyter-widgets/base",
            "overflow": null,
            "_model_module_version": "1.2.0",
            "_view_count": null,
            "flex_flow": null,
            "width": null,
            "min_width": null,
            "border": null,
            "align_items": null,
            "bottom": null,
            "_model_module": "@jupyter-widgets/base",
            "top": null,
            "grid_column": null,
            "overflow_y": null,
            "overflow_x": null,
            "grid_auto_flow": null,
            "grid_area": null,
            "grid_template_columns": null,
            "flex": null,
            "_model_name": "LayoutModel",
            "justify_items": null,
            "grid_row": null,
            "max_height": null,
            "align_content": null,
            "visibility": null,
            "align_self": null,
            "height": null,
            "min_height": null,
            "padding": null,
            "grid_auto_rows": null,
            "grid_gap": null,
            "max_width": null,
            "order": null,
            "_view_module_version": "1.2.0",
            "grid_template_areas": null,
            "object_position": null,
            "object_fit": null,
            "grid_auto_columns": null,
            "margin": null,
            "display": null,
            "left": null
          }
        },
        "d14d60a4d3854e25bff4605ef28865dd": {
          "model_module": "@jupyter-widgets/controls",
          "model_name": "FloatProgressModel",
          "state": {
            "_view_name": "ProgressView",
            "style": "IPY_MODEL_559da70babc74615a9604cb90f1af1a1",
            "_dom_classes": [],
            "description": "iterations: 100%",
            "_model_name": "FloatProgressModel",
            "bar_style": "success",
            "max": 30,
            "_view_module": "@jupyter-widgets/controls",
            "_model_module_version": "1.5.0",
            "value": 30,
            "_view_count": null,
            "_view_module_version": "1.5.0",
            "orientation": "horizontal",
            "min": 0,
            "description_tooltip": null,
            "_model_module": "@jupyter-widgets/controls",
            "layout": "IPY_MODEL_8dc87a6eec104043952f5fb4caf67e53"
          }
        },
        "f7c22a1a1403449980cd5a8d4b7b40c0": {
          "model_module": "@jupyter-widgets/controls",
          "model_name": "HTMLModel",
          "state": {
            "_view_name": "HTMLView",
            "style": "IPY_MODEL_f6f0e3f9d7c24d7aa2d2020fd8ed211c",
            "_dom_classes": [],
            "description": "",
            "_model_name": "HTMLModel",
            "placeholder": "​",
            "_view_module": "@jupyter-widgets/controls",
            "_model_module_version": "1.5.0",
            "value": " 30/30 [00:39&lt;00:00,  1.33s/it]",
            "_view_count": null,
            "_view_module_version": "1.5.0",
            "description_tooltip": null,
            "_model_module": "@jupyter-widgets/controls",
            "layout": "IPY_MODEL_d76a30189b5844da8c917c2426217dd3"
          }
        },
        "559da70babc74615a9604cb90f1af1a1": {
          "model_module": "@jupyter-widgets/controls",
          "model_name": "ProgressStyleModel",
          "state": {
            "_view_name": "StyleView",
            "_model_name": "ProgressStyleModel",
            "description_width": "initial",
            "_view_module": "@jupyter-widgets/base",
            "_model_module_version": "1.5.0",
            "_view_count": null,
            "_view_module_version": "1.2.0",
            "bar_color": null,
            "_model_module": "@jupyter-widgets/controls"
          }
        },
        "8dc87a6eec104043952f5fb4caf67e53": {
          "model_module": "@jupyter-widgets/base",
          "model_name": "LayoutModel",
          "state": {
            "_view_name": "LayoutView",
            "grid_template_rows": null,
            "right": null,
            "justify_content": null,
            "_view_module": "@jupyter-widgets/base",
            "overflow": null,
            "_model_module_version": "1.2.0",
            "_view_count": null,
            "flex_flow": null,
            "width": null,
            "min_width": null,
            "border": null,
            "align_items": null,
            "bottom": null,
            "_model_module": "@jupyter-widgets/base",
            "top": null,
            "grid_column": null,
            "overflow_y": null,
            "overflow_x": null,
            "grid_auto_flow": null,
            "grid_area": null,
            "grid_template_columns": null,
            "flex": null,
            "_model_name": "LayoutModel",
            "justify_items": null,
            "grid_row": null,
            "max_height": null,
            "align_content": null,
            "visibility": null,
            "align_self": null,
            "height": null,
            "min_height": null,
            "padding": null,
            "grid_auto_rows": null,
            "grid_gap": null,
            "max_width": null,
            "order": null,
            "_view_module_version": "1.2.0",
            "grid_template_areas": null,
            "object_position": null,
            "object_fit": null,
            "grid_auto_columns": null,
            "margin": null,
            "display": null,
            "left": null
          }
        },
        "f6f0e3f9d7c24d7aa2d2020fd8ed211c": {
          "model_module": "@jupyter-widgets/controls",
          "model_name": "DescriptionStyleModel",
          "state": {
            "_view_name": "StyleView",
            "_model_name": "DescriptionStyleModel",
            "description_width": "",
            "_view_module": "@jupyter-widgets/base",
            "_model_module_version": "1.5.0",
            "_view_count": null,
            "_view_module_version": "1.2.0",
            "_model_module": "@jupyter-widgets/controls"
          }
        },
        "d76a30189b5844da8c917c2426217dd3": {
          "model_module": "@jupyter-widgets/base",
          "model_name": "LayoutModel",
          "state": {
            "_view_name": "LayoutView",
            "grid_template_rows": null,
            "right": null,
            "justify_content": null,
            "_view_module": "@jupyter-widgets/base",
            "overflow": null,
            "_model_module_version": "1.2.0",
            "_view_count": null,
            "flex_flow": null,
            "width": null,
            "min_width": null,
            "border": null,
            "align_items": null,
            "bottom": null,
            "_model_module": "@jupyter-widgets/base",
            "top": null,
            "grid_column": null,
            "overflow_y": null,
            "overflow_x": null,
            "grid_auto_flow": null,
            "grid_area": null,
            "grid_template_columns": null,
            "flex": null,
            "_model_name": "LayoutModel",
            "justify_items": null,
            "grid_row": null,
            "max_height": null,
            "align_content": null,
            "visibility": null,
            "align_self": null,
            "height": null,
            "min_height": null,
            "padding": null,
            "grid_auto_rows": null,
            "grid_gap": null,
            "max_width": null,
            "order": null,
            "_view_module_version": "1.2.0",
            "grid_template_areas": null,
            "object_position": null,
            "object_fit": null,
            "grid_auto_columns": null,
            "margin": null,
            "display": null,
            "left": null
          }
        },
        "c1064ea699f14a998f7c419ebac24520": {
          "model_module": "@jupyter-widgets/controls",
          "model_name": "VBoxModel",
          "state": {
            "_view_name": "VBoxView",
            "_dom_classes": [],
            "_model_name": "VBoxModel",
            "_view_module": "@jupyter-widgets/controls",
            "_model_module_version": "1.5.0",
            "_view_count": null,
            "_view_module_version": "1.5.0",
            "box_style": "",
            "layout": "IPY_MODEL_590466c8e0bd40ecaedcba47bbcb9c57",
            "_model_module": "@jupyter-widgets/controls",
            "children": [
              "IPY_MODEL_5c2eb76b0aab429e8f97f8ad74ac133e",
              "IPY_MODEL_eb65570a58fe4f818c90bb26c0822365",
              "IPY_MODEL_1309734a0e2e4e56a3e530a59a3bdc1a",
              "IPY_MODEL_0c086950924444138676344490ee2784"
            ]
          }
        },
        "590466c8e0bd40ecaedcba47bbcb9c57": {
          "model_module": "@jupyter-widgets/base",
          "model_name": "LayoutModel",
          "state": {
            "_view_name": "LayoutView",
            "grid_template_rows": null,
            "right": null,
            "justify_content": null,
            "_view_module": "@jupyter-widgets/base",
            "overflow": null,
            "_model_module_version": "1.2.0",
            "_view_count": null,
            "flex_flow": null,
            "width": null,
            "min_width": null,
            "border": null,
            "align_items": null,
            "bottom": null,
            "_model_module": "@jupyter-widgets/base",
            "top": null,
            "grid_column": null,
            "overflow_y": null,
            "overflow_x": null,
            "grid_auto_flow": null,
            "grid_area": null,
            "grid_template_columns": null,
            "flex": null,
            "_model_name": "LayoutModel",
            "justify_items": null,
            "grid_row": null,
            "max_height": null,
            "align_content": null,
            "visibility": null,
            "align_self": null,
            "height": null,
            "min_height": null,
            "padding": null,
            "grid_auto_rows": null,
            "grid_gap": null,
            "max_width": null,
            "order": null,
            "_view_module_version": "1.2.0",
            "grid_template_areas": null,
            "object_position": null,
            "object_fit": null,
            "grid_auto_columns": null,
            "margin": null,
            "display": null,
            "left": null
          }
        },
        "5c2eb76b0aab429e8f97f8ad74ac133e": {
          "model_module": "@jupyter-widgets/output",
          "model_name": "OutputModel",
          "state": {
            "_view_name": "OutputView",
            "msg_id": "",
            "_dom_classes": [],
            "_model_name": "OutputModel",
            "outputs": [
              {
                "output_type": "display_data",
                "metadata": {
                  "tags": []
                },
                "application/vnd.jupyter.widget-view+json": {
                  "model_id": "825cb2a07cfc44aab61f2e27214a7d4f",
                  "version_minor": 0,
                  "version_major": 2
                },
                "text/plain": "HTMLMath(value='\\n            Consider three words $A$, $B$, $C$ that occur with probabilities\\n            $$…"
              }
            ],
            "_view_module": "@jupyter-widgets/output",
            "_model_module_version": "1.0.0",
            "_view_count": null,
            "_view_module_version": "1.0.0",
            "layout": "IPY_MODEL_776debd37f4c4178995e88bfacaaa6dc",
            "_model_module": "@jupyter-widgets/output"
          }
        },
        "eb65570a58fe4f818c90bb26c0822365": {
          "model_module": "@jupyter-widgets/controls",
          "model_name": "RadioButtonsModel",
          "state": {
            "_options_labels": [
              "A and B",
              "B and C",
              "A and C"
            ],
            "_view_name": "RadioButtonsView",
            "style": "IPY_MODEL_1c867cf2c8be4fe183d5eac0cee4e613",
            "_dom_classes": [],
            "description": "",
            "_model_name": "RadioButtonsModel",
            "index": 0,
            "_view_module": "@jupyter-widgets/controls",
            "_model_module_version": "1.5.0",
            "_view_count": null,
            "disabled": false,
            "_view_module_version": "1.5.0",
            "description_tooltip": null,
            "_model_module": "@jupyter-widgets/controls",
            "layout": "IPY_MODEL_ab67a0f0ac864ae58311bc91f3da0c73"
          }
        },
        "1309734a0e2e4e56a3e530a59a3bdc1a": {
          "model_module": "@jupyter-widgets/controls",
          "model_name": "HTMLModel",
          "state": {
            "_view_name": "HTMLView",
            "style": "IPY_MODEL_c2e96cf035374655ad7daf7cdad1d8f2",
            "_dom_classes": [],
            "description": "",
            "_model_name": "HTMLModel",
            "placeholder": "​",
            "_view_module": "@jupyter-widgets/controls",
            "_model_module_version": "1.5.0",
            "value": "<font color='green'>'A and B' is the correct answer</font>",
            "_view_count": null,
            "_view_module_version": "1.5.0",
            "description_tooltip": null,
            "_model_module": "@jupyter-widgets/controls",
            "layout": "IPY_MODEL_1f2c2102bffa4bad97e88cebbdfe6677"
          }
        },
        "0c086950924444138676344490ee2784": {
          "model_module": "@jupyter-widgets/controls",
          "model_name": "ButtonModel",
          "state": {
            "_view_name": "ButtonView",
            "style": "IPY_MODEL_785a5bacab244cb1a2581ab6ef892deb",
            "_dom_classes": [],
            "description": "Check",
            "_model_name": "ButtonModel",
            "button_style": "",
            "_view_module": "@jupyter-widgets/controls",
            "_model_module_version": "1.5.0",
            "tooltip": "",
            "_view_count": null,
            "disabled": false,
            "_view_module_version": "1.5.0",
            "layout": "IPY_MODEL_d535480cd81440cba2e836a6835f77e3",
            "_model_module": "@jupyter-widgets/controls",
            "icon": ""
          }
        },
        "1c867cf2c8be4fe183d5eac0cee4e613": {
          "model_module": "@jupyter-widgets/controls",
          "model_name": "DescriptionStyleModel",
          "state": {
            "_view_name": "StyleView",
            "_model_name": "DescriptionStyleModel",
            "description_width": "",
            "_view_module": "@jupyter-widgets/base",
            "_model_module_version": "1.5.0",
            "_view_count": null,
            "_view_module_version": "1.2.0",
            "_model_module": "@jupyter-widgets/controls"
          }
        },
        "ab67a0f0ac864ae58311bc91f3da0c73": {
          "model_module": "@jupyter-widgets/base",
          "model_name": "LayoutModel",
          "state": {
            "_view_name": "LayoutView",
            "grid_template_rows": null,
            "right": null,
            "justify_content": null,
            "_view_module": "@jupyter-widgets/base",
            "overflow": null,
            "_model_module_version": "1.2.0",
            "_view_count": null,
            "flex_flow": null,
            "width": null,
            "min_width": null,
            "border": null,
            "align_items": null,
            "bottom": null,
            "_model_module": "@jupyter-widgets/base",
            "top": null,
            "grid_column": null,
            "overflow_y": null,
            "overflow_x": null,
            "grid_auto_flow": null,
            "grid_area": null,
            "grid_template_columns": null,
            "flex": null,
            "_model_name": "LayoutModel",
            "justify_items": null,
            "grid_row": null,
            "max_height": null,
            "align_content": null,
            "visibility": null,
            "align_self": null,
            "height": null,
            "min_height": null,
            "padding": null,
            "grid_auto_rows": null,
            "grid_gap": null,
            "max_width": null,
            "order": null,
            "_view_module_version": "1.2.0",
            "grid_template_areas": null,
            "object_position": null,
            "object_fit": null,
            "grid_auto_columns": null,
            "margin": null,
            "display": null,
            "left": null
          }
        },
        "c2e96cf035374655ad7daf7cdad1d8f2": {
          "model_module": "@jupyter-widgets/controls",
          "model_name": "DescriptionStyleModel",
          "state": {
            "_view_name": "StyleView",
            "_model_name": "DescriptionStyleModel",
            "description_width": "",
            "_view_module": "@jupyter-widgets/base",
            "_model_module_version": "1.5.0",
            "_view_count": null,
            "_view_module_version": "1.2.0",
            "_model_module": "@jupyter-widgets/controls"
          }
        },
        "1f2c2102bffa4bad97e88cebbdfe6677": {
          "model_module": "@jupyter-widgets/base",
          "model_name": "LayoutModel",
          "state": {
            "_view_name": "LayoutView",
            "grid_template_rows": null,
            "right": null,
            "justify_content": null,
            "_view_module": "@jupyter-widgets/base",
            "overflow": null,
            "_model_module_version": "1.2.0",
            "_view_count": null,
            "flex_flow": null,
            "width": null,
            "min_width": null,
            "border": null,
            "align_items": null,
            "bottom": null,
            "_model_module": "@jupyter-widgets/base",
            "top": null,
            "grid_column": null,
            "overflow_y": null,
            "overflow_x": null,
            "grid_auto_flow": null,
            "grid_area": null,
            "grid_template_columns": null,
            "flex": null,
            "_model_name": "LayoutModel",
            "justify_items": null,
            "grid_row": null,
            "max_height": null,
            "align_content": null,
            "visibility": null,
            "align_self": null,
            "height": null,
            "min_height": null,
            "padding": null,
            "grid_auto_rows": null,
            "grid_gap": null,
            "max_width": null,
            "order": null,
            "_view_module_version": "1.2.0",
            "grid_template_areas": null,
            "object_position": null,
            "object_fit": null,
            "grid_auto_columns": null,
            "margin": null,
            "display": null,
            "left": null
          }
        },
        "785a5bacab244cb1a2581ab6ef892deb": {
          "model_module": "@jupyter-widgets/controls",
          "model_name": "ButtonStyleModel",
          "state": {
            "_view_name": "StyleView",
            "_model_name": "ButtonStyleModel",
            "_view_module": "@jupyter-widgets/base",
            "_model_module_version": "1.5.0",
            "_view_count": null,
            "button_color": null,
            "font_weight": "",
            "_view_module_version": "1.2.0",
            "_model_module": "@jupyter-widgets/controls"
          }
        },
        "d535480cd81440cba2e836a6835f77e3": {
          "model_module": "@jupyter-widgets/base",
          "model_name": "LayoutModel",
          "state": {
            "_view_name": "LayoutView",
            "grid_template_rows": null,
            "right": null,
            "justify_content": null,
            "_view_module": "@jupyter-widgets/base",
            "overflow": null,
            "_model_module_version": "1.2.0",
            "_view_count": null,
            "flex_flow": null,
            "width": null,
            "min_width": null,
            "border": null,
            "align_items": null,
            "bottom": null,
            "_model_module": "@jupyter-widgets/base",
            "top": null,
            "grid_column": null,
            "overflow_y": null,
            "overflow_x": null,
            "grid_auto_flow": null,
            "grid_area": null,
            "grid_template_columns": null,
            "flex": null,
            "_model_name": "LayoutModel",
            "justify_items": null,
            "grid_row": null,
            "max_height": null,
            "align_content": null,
            "visibility": null,
            "align_self": null,
            "height": null,
            "min_height": null,
            "padding": null,
            "grid_auto_rows": null,
            "grid_gap": null,
            "max_width": null,
            "order": null,
            "_view_module_version": "1.2.0",
            "grid_template_areas": null,
            "object_position": null,
            "object_fit": null,
            "grid_auto_columns": null,
            "margin": null,
            "display": null,
            "left": null
          }
        },
        "825cb2a07cfc44aab61f2e27214a7d4f": {
          "model_module": "@jupyter-widgets/controls",
          "model_name": "HTMLMathModel",
          "state": {
            "_view_name": "HTMLMathView",
            "style": "IPY_MODEL_641b2234f875456ba6dfe925c7beb598",
            "_dom_classes": [],
            "description": "",
            "_model_name": "HTMLMathModel",
            "placeholder": "​",
            "_view_module": "@jupyter-widgets/controls",
            "_model_module_version": "1.5.0",
            "value": "\n            Consider three words $A$, $B$, $C$ that occur with probabilities\n            $$\n            \\Pr(A) = \\frac{1}{2}, \\Pr(B) = \\frac{1}{4}, \\Pr(C) = \\frac{1}{2}\n            $$\n            and co-occur with probabilities\n            $$\n            \\Pr(A, B) = \\frac{1}{4}, \\Pr(B, C) = \\frac{1}{16}, \\Pr(A, C) = \\frac{1}{4}\n            $$\n            Choose the pair of words with the highest value of $PMI$.\n        ",
            "_view_count": null,
            "_view_module_version": "1.5.0",
            "description_tooltip": null,
            "_model_module": "@jupyter-widgets/controls",
            "layout": "IPY_MODEL_8c745398f56f45d7b7cf6f56e963aaf1"
          }
        },
        "776debd37f4c4178995e88bfacaaa6dc": {
          "model_module": "@jupyter-widgets/base",
          "model_name": "LayoutModel",
          "state": {
            "_view_name": "LayoutView",
            "grid_template_rows": null,
            "right": null,
            "justify_content": null,
            "_view_module": "@jupyter-widgets/base",
            "overflow": null,
            "_model_module_version": "1.2.0",
            "_view_count": null,
            "flex_flow": null,
            "width": null,
            "min_width": null,
            "border": null,
            "align_items": null,
            "bottom": null,
            "_model_module": "@jupyter-widgets/base",
            "top": null,
            "grid_column": null,
            "overflow_y": null,
            "overflow_x": null,
            "grid_auto_flow": null,
            "grid_area": null,
            "grid_template_columns": null,
            "flex": null,
            "_model_name": "LayoutModel",
            "justify_items": null,
            "grid_row": null,
            "max_height": null,
            "align_content": null,
            "visibility": null,
            "align_self": null,
            "height": null,
            "min_height": null,
            "padding": null,
            "grid_auto_rows": null,
            "grid_gap": null,
            "max_width": null,
            "order": null,
            "_view_module_version": "1.2.0",
            "grid_template_areas": null,
            "object_position": null,
            "object_fit": null,
            "grid_auto_columns": null,
            "margin": null,
            "display": null,
            "left": null
          }
        },
        "641b2234f875456ba6dfe925c7beb598": {
          "model_module": "@jupyter-widgets/controls",
          "model_name": "DescriptionStyleModel",
          "state": {
            "_view_name": "StyleView",
            "_model_name": "DescriptionStyleModel",
            "description_width": "",
            "_view_module": "@jupyter-widgets/base",
            "_model_module_version": "1.5.0",
            "_view_count": null,
            "_view_module_version": "1.2.0",
            "_model_module": "@jupyter-widgets/controls"
          }
        },
        "8c745398f56f45d7b7cf6f56e963aaf1": {
          "model_module": "@jupyter-widgets/base",
          "model_name": "LayoutModel",
          "state": {
            "_view_name": "LayoutView",
            "grid_template_rows": null,
            "right": null,
            "justify_content": null,
            "_view_module": "@jupyter-widgets/base",
            "overflow": null,
            "_model_module_version": "1.2.0",
            "_view_count": null,
            "flex_flow": null,
            "width": null,
            "min_width": null,
            "border": null,
            "align_items": null,
            "bottom": null,
            "_model_module": "@jupyter-widgets/base",
            "top": null,
            "grid_column": null,
            "overflow_y": null,
            "overflow_x": null,
            "grid_auto_flow": null,
            "grid_area": null,
            "grid_template_columns": null,
            "flex": null,
            "_model_name": "LayoutModel",
            "justify_items": null,
            "grid_row": null,
            "max_height": null,
            "align_content": null,
            "visibility": null,
            "align_self": null,
            "height": null,
            "min_height": null,
            "padding": null,
            "grid_auto_rows": null,
            "grid_gap": null,
            "max_width": null,
            "order": null,
            "_view_module_version": "1.2.0",
            "grid_template_areas": null,
            "object_position": null,
            "object_fit": null,
            "grid_auto_columns": null,
            "margin": null,
            "display": null,
            "left": null
          }
        },
        "36961edb6e6747e1af725553b513120a": {
          "model_module": "@jupyter-widgets/controls",
          "model_name": "HBoxModel",
          "state": {
            "_view_name": "HBoxView",
            "_dom_classes": [],
            "_model_name": "HBoxModel",
            "_view_module": "@jupyter-widgets/controls",
            "_model_module_version": "1.5.0",
            "_view_count": null,
            "_view_module_version": "1.5.0",
            "box_style": "",
            "layout": "IPY_MODEL_f94b0d9d013f4691ab00e8ba0b19f15c",
            "_model_module": "@jupyter-widgets/controls",
            "children": [
              "IPY_MODEL_3175e823a7a543f798c8b9551fe7ada5",
              "IPY_MODEL_66f8d08b23764fa5a32ecba255f807db"
            ]
          }
        },
        "f94b0d9d013f4691ab00e8ba0b19f15c": {
          "model_module": "@jupyter-widgets/base",
          "model_name": "LayoutModel",
          "state": {
            "_view_name": "LayoutView",
            "grid_template_rows": null,
            "right": null,
            "justify_content": null,
            "_view_module": "@jupyter-widgets/base",
            "overflow": null,
            "_model_module_version": "1.2.0",
            "_view_count": null,
            "flex_flow": null,
            "width": null,
            "min_width": null,
            "border": null,
            "align_items": null,
            "bottom": null,
            "_model_module": "@jupyter-widgets/base",
            "top": null,
            "grid_column": null,
            "overflow_y": null,
            "overflow_x": null,
            "grid_auto_flow": null,
            "grid_area": null,
            "grid_template_columns": null,
            "flex": null,
            "_model_name": "LayoutModel",
            "justify_items": null,
            "grid_row": null,
            "max_height": null,
            "align_content": null,
            "visibility": null,
            "align_self": null,
            "height": null,
            "min_height": null,
            "padding": null,
            "grid_auto_rows": null,
            "grid_gap": null,
            "max_width": null,
            "order": null,
            "_view_module_version": "1.2.0",
            "grid_template_areas": null,
            "object_position": null,
            "object_fit": null,
            "grid_auto_columns": null,
            "margin": null,
            "display": null,
            "left": null
          }
        },
        "3175e823a7a543f798c8b9551fe7ada5": {
          "model_module": "@jupyter-widgets/controls",
          "model_name": "FloatProgressModel",
          "state": {
            "_view_name": "ProgressView",
            "style": "IPY_MODEL_2b8d1f22c10c40ccb4c3328c706c8377",
            "_dom_classes": [],
            "description": "100%",
            "_model_name": "FloatProgressModel",
            "bar_style": "success",
            "max": 6,
            "_view_module": "@jupyter-widgets/controls",
            "_model_module_version": "1.5.0",
            "value": 6,
            "_view_count": null,
            "_view_module_version": "1.5.0",
            "orientation": "horizontal",
            "min": 0,
            "description_tooltip": null,
            "_model_module": "@jupyter-widgets/controls",
            "layout": "IPY_MODEL_fb586e4f577e4e90a7ff1b237d9ad562"
          }
        },
        "66f8d08b23764fa5a32ecba255f807db": {
          "model_module": "@jupyter-widgets/controls",
          "model_name": "HTMLModel",
          "state": {
            "_view_name": "HTMLView",
            "style": "IPY_MODEL_d2193deaa87045738350ec1068795b28",
            "_dom_classes": [],
            "description": "",
            "_model_name": "HTMLModel",
            "placeholder": "​",
            "_view_module": "@jupyter-widgets/controls",
            "_model_module_version": "1.5.0",
            "value": " 6/6 [01:06&lt;00:00, 11.13s/it]",
            "_view_count": null,
            "_view_module_version": "1.5.0",
            "description_tooltip": null,
            "_model_module": "@jupyter-widgets/controls",
            "layout": "IPY_MODEL_4cc52d682cc74a6faed9248a32e1a5d6"
          }
        },
        "2b8d1f22c10c40ccb4c3328c706c8377": {
          "model_module": "@jupyter-widgets/controls",
          "model_name": "ProgressStyleModel",
          "state": {
            "_view_name": "StyleView",
            "_model_name": "ProgressStyleModel",
            "description_width": "initial",
            "_view_module": "@jupyter-widgets/base",
            "_model_module_version": "1.5.0",
            "_view_count": null,
            "_view_module_version": "1.2.0",
            "bar_color": null,
            "_model_module": "@jupyter-widgets/controls"
          }
        },
        "fb586e4f577e4e90a7ff1b237d9ad562": {
          "model_module": "@jupyter-widgets/base",
          "model_name": "LayoutModel",
          "state": {
            "_view_name": "LayoutView",
            "grid_template_rows": null,
            "right": null,
            "justify_content": null,
            "_view_module": "@jupyter-widgets/base",
            "overflow": null,
            "_model_module_version": "1.2.0",
            "_view_count": null,
            "flex_flow": null,
            "width": null,
            "min_width": null,
            "border": null,
            "align_items": null,
            "bottom": null,
            "_model_module": "@jupyter-widgets/base",
            "top": null,
            "grid_column": null,
            "overflow_y": null,
            "overflow_x": null,
            "grid_auto_flow": null,
            "grid_area": null,
            "grid_template_columns": null,
            "flex": null,
            "_model_name": "LayoutModel",
            "justify_items": null,
            "grid_row": null,
            "max_height": null,
            "align_content": null,
            "visibility": null,
            "align_self": null,
            "height": null,
            "min_height": null,
            "padding": null,
            "grid_auto_rows": null,
            "grid_gap": null,
            "max_width": null,
            "order": null,
            "_view_module_version": "1.2.0",
            "grid_template_areas": null,
            "object_position": null,
            "object_fit": null,
            "grid_auto_columns": null,
            "margin": null,
            "display": null,
            "left": null
          }
        },
        "d2193deaa87045738350ec1068795b28": {
          "model_module": "@jupyter-widgets/controls",
          "model_name": "DescriptionStyleModel",
          "state": {
            "_view_name": "StyleView",
            "_model_name": "DescriptionStyleModel",
            "description_width": "",
            "_view_module": "@jupyter-widgets/base",
            "_model_module_version": "1.5.0",
            "_view_count": null,
            "_view_module_version": "1.2.0",
            "_model_module": "@jupyter-widgets/controls"
          }
        },
        "4cc52d682cc74a6faed9248a32e1a5d6": {
          "model_module": "@jupyter-widgets/base",
          "model_name": "LayoutModel",
          "state": {
            "_view_name": "LayoutView",
            "grid_template_rows": null,
            "right": null,
            "justify_content": null,
            "_view_module": "@jupyter-widgets/base",
            "overflow": null,
            "_model_module_version": "1.2.0",
            "_view_count": null,
            "flex_flow": null,
            "width": null,
            "min_width": null,
            "border": null,
            "align_items": null,
            "bottom": null,
            "_model_module": "@jupyter-widgets/base",
            "top": null,
            "grid_column": null,
            "overflow_y": null,
            "overflow_x": null,
            "grid_auto_flow": null,
            "grid_area": null,
            "grid_template_columns": null,
            "flex": null,
            "_model_name": "LayoutModel",
            "justify_items": null,
            "grid_row": null,
            "max_height": null,
            "align_content": null,
            "visibility": null,
            "align_self": null,
            "height": null,
            "min_height": null,
            "padding": null,
            "grid_auto_rows": null,
            "grid_gap": null,
            "max_width": null,
            "order": null,
            "_view_module_version": "1.2.0",
            "grid_template_areas": null,
            "object_position": null,
            "object_fit": null,
            "grid_auto_columns": null,
            "margin": null,
            "display": null,
            "left": null
          }
        },
        "020030f9c0314a71a44450e61c5a8516": {
          "model_module": "@jupyter-widgets/controls",
          "model_name": "HBoxModel",
          "state": {
            "_view_name": "HBoxView",
            "_dom_classes": [],
            "_model_name": "HBoxModel",
            "_view_module": "@jupyter-widgets/controls",
            "_model_module_version": "1.5.0",
            "_view_count": null,
            "_view_module_version": "1.5.0",
            "box_style": "",
            "layout": "IPY_MODEL_57c1b88c5dd042b0adf1de6cc02925f1",
            "_model_module": "@jupyter-widgets/controls",
            "children": [
              "IPY_MODEL_15a865c728b549d1afba111909dd9f88",
              "IPY_MODEL_be5175b52b2e48ee969148a1fd73c129"
            ]
          }
        },
        "57c1b88c5dd042b0adf1de6cc02925f1": {
          "model_module": "@jupyter-widgets/base",
          "model_name": "LayoutModel",
          "state": {
            "_view_name": "LayoutView",
            "grid_template_rows": null,
            "right": null,
            "justify_content": null,
            "_view_module": "@jupyter-widgets/base",
            "overflow": null,
            "_model_module_version": "1.2.0",
            "_view_count": null,
            "flex_flow": null,
            "width": null,
            "min_width": null,
            "border": null,
            "align_items": null,
            "bottom": null,
            "_model_module": "@jupyter-widgets/base",
            "top": null,
            "grid_column": null,
            "overflow_y": null,
            "overflow_x": null,
            "grid_auto_flow": null,
            "grid_area": null,
            "grid_template_columns": null,
            "flex": null,
            "_model_name": "LayoutModel",
            "justify_items": null,
            "grid_row": null,
            "max_height": null,
            "align_content": null,
            "visibility": null,
            "align_self": null,
            "height": null,
            "min_height": null,
            "padding": null,
            "grid_auto_rows": null,
            "grid_gap": null,
            "max_width": null,
            "order": null,
            "_view_module_version": "1.2.0",
            "grid_template_areas": null,
            "object_position": null,
            "object_fit": null,
            "grid_auto_columns": null,
            "margin": null,
            "display": null,
            "left": null
          }
        },
        "15a865c728b549d1afba111909dd9f88": {
          "model_module": "@jupyter-widgets/controls",
          "model_name": "FloatProgressModel",
          "state": {
            "_view_name": "ProgressView",
            "style": "IPY_MODEL_b9fba7710bbf4f3ca702386edf217588",
            "_dom_classes": [],
            "description": "tokenize: 100%",
            "_model_name": "FloatProgressModel",
            "bar_style": "success",
            "max": 1182,
            "_view_module": "@jupyter-widgets/controls",
            "_model_module_version": "1.5.0",
            "value": 1182,
            "_view_count": null,
            "_view_module_version": "1.5.0",
            "orientation": "horizontal",
            "min": 0,
            "description_tooltip": null,
            "_model_module": "@jupyter-widgets/controls",
            "layout": "IPY_MODEL_44ea31a69c2249de91e5edf1e2eea29b"
          }
        },
        "be5175b52b2e48ee969148a1fd73c129": {
          "model_module": "@jupyter-widgets/controls",
          "model_name": "HTMLModel",
          "state": {
            "_view_name": "HTMLView",
            "style": "IPY_MODEL_80dcf24deb5e48f290b66cb80dd19225",
            "_dom_classes": [],
            "description": "",
            "_model_name": "HTMLModel",
            "placeholder": "​",
            "_view_module": "@jupyter-widgets/controls",
            "_model_module_version": "1.5.0",
            "value": " 1182/1182 [00:16&lt;00:00, 72.27it/s]",
            "_view_count": null,
            "_view_module_version": "1.5.0",
            "description_tooltip": null,
            "_model_module": "@jupyter-widgets/controls",
            "layout": "IPY_MODEL_8a918275e49047b8b57400f009bd6fd5"
          }
        },
        "b9fba7710bbf4f3ca702386edf217588": {
          "model_module": "@jupyter-widgets/controls",
          "model_name": "ProgressStyleModel",
          "state": {
            "_view_name": "StyleView",
            "_model_name": "ProgressStyleModel",
            "description_width": "initial",
            "_view_module": "@jupyter-widgets/base",
            "_model_module_version": "1.5.0",
            "_view_count": null,
            "_view_module_version": "1.2.0",
            "bar_color": null,
            "_model_module": "@jupyter-widgets/controls"
          }
        },
        "44ea31a69c2249de91e5edf1e2eea29b": {
          "model_module": "@jupyter-widgets/base",
          "model_name": "LayoutModel",
          "state": {
            "_view_name": "LayoutView",
            "grid_template_rows": null,
            "right": null,
            "justify_content": null,
            "_view_module": "@jupyter-widgets/base",
            "overflow": null,
            "_model_module_version": "1.2.0",
            "_view_count": null,
            "flex_flow": null,
            "width": null,
            "min_width": null,
            "border": null,
            "align_items": null,
            "bottom": null,
            "_model_module": "@jupyter-widgets/base",
            "top": null,
            "grid_column": null,
            "overflow_y": null,
            "overflow_x": null,
            "grid_auto_flow": null,
            "grid_area": null,
            "grid_template_columns": null,
            "flex": null,
            "_model_name": "LayoutModel",
            "justify_items": null,
            "grid_row": null,
            "max_height": null,
            "align_content": null,
            "visibility": null,
            "align_self": null,
            "height": null,
            "min_height": null,
            "padding": null,
            "grid_auto_rows": null,
            "grid_gap": null,
            "max_width": null,
            "order": null,
            "_view_module_version": "1.2.0",
            "grid_template_areas": null,
            "object_position": null,
            "object_fit": null,
            "grid_auto_columns": null,
            "margin": null,
            "display": null,
            "left": null
          }
        },
        "80dcf24deb5e48f290b66cb80dd19225": {
          "model_module": "@jupyter-widgets/controls",
          "model_name": "DescriptionStyleModel",
          "state": {
            "_view_name": "StyleView",
            "_model_name": "DescriptionStyleModel",
            "description_width": "",
            "_view_module": "@jupyter-widgets/base",
            "_model_module_version": "1.5.0",
            "_view_count": null,
            "_view_module_version": "1.2.0",
            "_model_module": "@jupyter-widgets/controls"
          }
        },
        "8a918275e49047b8b57400f009bd6fd5": {
          "model_module": "@jupyter-widgets/base",
          "model_name": "LayoutModel",
          "state": {
            "_view_name": "LayoutView",
            "grid_template_rows": null,
            "right": null,
            "justify_content": null,
            "_view_module": "@jupyter-widgets/base",
            "overflow": null,
            "_model_module_version": "1.2.0",
            "_view_count": null,
            "flex_flow": null,
            "width": null,
            "min_width": null,
            "border": null,
            "align_items": null,
            "bottom": null,
            "_model_module": "@jupyter-widgets/base",
            "top": null,
            "grid_column": null,
            "overflow_y": null,
            "overflow_x": null,
            "grid_auto_flow": null,
            "grid_area": null,
            "grid_template_columns": null,
            "flex": null,
            "_model_name": "LayoutModel",
            "justify_items": null,
            "grid_row": null,
            "max_height": null,
            "align_content": null,
            "visibility": null,
            "align_self": null,
            "height": null,
            "min_height": null,
            "padding": null,
            "grid_auto_rows": null,
            "grid_gap": null,
            "max_width": null,
            "order": null,
            "_view_module_version": "1.2.0",
            "grid_template_areas": null,
            "object_position": null,
            "object_fit": null,
            "grid_auto_columns": null,
            "margin": null,
            "display": null,
            "left": null
          }
        },
        "21b2b656636447abbe618718ca013e1b": {
          "model_module": "@jupyter-widgets/controls",
          "model_name": "HBoxModel",
          "state": {
            "_view_name": "HBoxView",
            "_dom_classes": [],
            "_model_name": "HBoxModel",
            "_view_module": "@jupyter-widgets/controls",
            "_model_module_version": "1.5.0",
            "_view_count": null,
            "_view_module_version": "1.5.0",
            "box_style": "",
            "layout": "IPY_MODEL_e3e7912351a44f10aced90409f0bdd07",
            "_model_module": "@jupyter-widgets/controls",
            "children": [
              "IPY_MODEL_7366317832f1442289f389a14e60be5a",
              "IPY_MODEL_42873c708636431bae998aacb8a826e4"
            ]
          }
        },
        "e3e7912351a44f10aced90409f0bdd07": {
          "model_module": "@jupyter-widgets/base",
          "model_name": "LayoutModel",
          "state": {
            "_view_name": "LayoutView",
            "grid_template_rows": null,
            "right": null,
            "justify_content": null,
            "_view_module": "@jupyter-widgets/base",
            "overflow": null,
            "_model_module_version": "1.2.0",
            "_view_count": null,
            "flex_flow": null,
            "width": null,
            "min_width": null,
            "border": null,
            "align_items": null,
            "bottom": null,
            "_model_module": "@jupyter-widgets/base",
            "top": null,
            "grid_column": null,
            "overflow_y": null,
            "overflow_x": null,
            "grid_auto_flow": null,
            "grid_area": null,
            "grid_template_columns": null,
            "flex": null,
            "_model_name": "LayoutModel",
            "justify_items": null,
            "grid_row": null,
            "max_height": null,
            "align_content": null,
            "visibility": null,
            "align_self": null,
            "height": null,
            "min_height": null,
            "padding": null,
            "grid_auto_rows": null,
            "grid_gap": null,
            "max_width": null,
            "order": null,
            "_view_module_version": "1.2.0",
            "grid_template_areas": null,
            "object_position": null,
            "object_fit": null,
            "grid_auto_columns": null,
            "margin": null,
            "display": null,
            "left": null
          }
        },
        "7366317832f1442289f389a14e60be5a": {
          "model_module": "@jupyter-widgets/controls",
          "model_name": "FloatProgressModel",
          "state": {
            "_view_name": "ProgressView",
            "style": "IPY_MODEL_b4b618ffc6464a06bbe1bee3c4f75cd7",
            "_dom_classes": [],
            "description": "tokenize: 100%",
            "_model_name": "FloatProgressModel",
            "bar_style": "success",
            "max": 9497,
            "_view_module": "@jupyter-widgets/controls",
            "_model_module_version": "1.5.0",
            "value": 9497,
            "_view_count": null,
            "_view_module_version": "1.5.0",
            "orientation": "horizontal",
            "min": 0,
            "description_tooltip": null,
            "_model_module": "@jupyter-widgets/controls",
            "layout": "IPY_MODEL_c26d16318f9a4384bc5f5bdb443f4e4f"
          }
        },
        "42873c708636431bae998aacb8a826e4": {
          "model_module": "@jupyter-widgets/controls",
          "model_name": "HTMLModel",
          "state": {
            "_view_name": "HTMLView",
            "style": "IPY_MODEL_146a6bdc8f574a28a322c3ee0048c909",
            "_dom_classes": [],
            "description": "",
            "_model_name": "HTMLModel",
            "placeholder": "​",
            "_view_module": "@jupyter-widgets/controls",
            "_model_module_version": "1.5.0",
            "value": " 9497/9497 [00:29&lt;00:00, 321.99it/s]",
            "_view_count": null,
            "_view_module_version": "1.5.0",
            "description_tooltip": null,
            "_model_module": "@jupyter-widgets/controls",
            "layout": "IPY_MODEL_b08e8090484044728f9cb69b2b545abe"
          }
        },
        "b4b618ffc6464a06bbe1bee3c4f75cd7": {
          "model_module": "@jupyter-widgets/controls",
          "model_name": "ProgressStyleModel",
          "state": {
            "_view_name": "StyleView",
            "_model_name": "ProgressStyleModel",
            "description_width": "initial",
            "_view_module": "@jupyter-widgets/base",
            "_model_module_version": "1.5.0",
            "_view_count": null,
            "_view_module_version": "1.2.0",
            "bar_color": null,
            "_model_module": "@jupyter-widgets/controls"
          }
        },
        "c26d16318f9a4384bc5f5bdb443f4e4f": {
          "model_module": "@jupyter-widgets/base",
          "model_name": "LayoutModel",
          "state": {
            "_view_name": "LayoutView",
            "grid_template_rows": null,
            "right": null,
            "justify_content": null,
            "_view_module": "@jupyter-widgets/base",
            "overflow": null,
            "_model_module_version": "1.2.0",
            "_view_count": null,
            "flex_flow": null,
            "width": null,
            "min_width": null,
            "border": null,
            "align_items": null,
            "bottom": null,
            "_model_module": "@jupyter-widgets/base",
            "top": null,
            "grid_column": null,
            "overflow_y": null,
            "overflow_x": null,
            "grid_auto_flow": null,
            "grid_area": null,
            "grid_template_columns": null,
            "flex": null,
            "_model_name": "LayoutModel",
            "justify_items": null,
            "grid_row": null,
            "max_height": null,
            "align_content": null,
            "visibility": null,
            "align_self": null,
            "height": null,
            "min_height": null,
            "padding": null,
            "grid_auto_rows": null,
            "grid_gap": null,
            "max_width": null,
            "order": null,
            "_view_module_version": "1.2.0",
            "grid_template_areas": null,
            "object_position": null,
            "object_fit": null,
            "grid_auto_columns": null,
            "margin": null,
            "display": null,
            "left": null
          }
        },
        "146a6bdc8f574a28a322c3ee0048c909": {
          "model_module": "@jupyter-widgets/controls",
          "model_name": "DescriptionStyleModel",
          "state": {
            "_view_name": "StyleView",
            "_model_name": "DescriptionStyleModel",
            "description_width": "",
            "_view_module": "@jupyter-widgets/base",
            "_model_module_version": "1.5.0",
            "_view_count": null,
            "_view_module_version": "1.2.0",
            "_model_module": "@jupyter-widgets/controls"
          }
        },
        "b08e8090484044728f9cb69b2b545abe": {
          "model_module": "@jupyter-widgets/base",
          "model_name": "LayoutModel",
          "state": {
            "_view_name": "LayoutView",
            "grid_template_rows": null,
            "right": null,
            "justify_content": null,
            "_view_module": "@jupyter-widgets/base",
            "overflow": null,
            "_model_module_version": "1.2.0",
            "_view_count": null,
            "flex_flow": null,
            "width": null,
            "min_width": null,
            "border": null,
            "align_items": null,
            "bottom": null,
            "_model_module": "@jupyter-widgets/base",
            "top": null,
            "grid_column": null,
            "overflow_y": null,
            "overflow_x": null,
            "grid_auto_flow": null,
            "grid_area": null,
            "grid_template_columns": null,
            "flex": null,
            "_model_name": "LayoutModel",
            "justify_items": null,
            "grid_row": null,
            "max_height": null,
            "align_content": null,
            "visibility": null,
            "align_self": null,
            "height": null,
            "min_height": null,
            "padding": null,
            "grid_auto_rows": null,
            "grid_gap": null,
            "max_width": null,
            "order": null,
            "_view_module_version": "1.2.0",
            "grid_template_areas": null,
            "object_position": null,
            "object_fit": null,
            "grid_auto_columns": null,
            "margin": null,
            "display": null,
            "left": null
          }
        }
      }
    }
  },
  "cells": [
    {
      "cell_type": "code",
      "metadata": {
        "id": "hmBdWwXoI0xC",
        "colab_type": "code",
        "outputId": "149b6b28-ff93-4e5a-ec4c-96b9825ccb81",
        "colab": {
          "base_uri": "https://localhost:8080/",
          "height": 153
        }
      },
      "source": [
        "#@title <b><font color=\"red\">▶</font><font color=\"black\"> run this cell to prepare supplementary materials for the lesson</font></b>\n",
        "\n",
        "!rm -rf harbour-space-text-mining-course\n",
        "!git clone https://github.com/horoshenkih/harbour-space-text-mining-course.git\n",
        "import sys\n",
        "sys.path.append('harbour-space-text-mining-course')\n",
        "\n",
        "from tmcourse.ipyquiz import Quiz\n",
        "\n",
        "from tmcourse.utils import (\n",
        "    enable_mathjax_in_cell,\n",
        "    plot_confusion_matrix,\n",
        "    show_vectorizer_largest_components,\n",
        ")\n",
        "from tmcourse.quiz import (\n",
        "    quiz_kmeans,\n",
        "    quiz_estimate_clustering_quality,\n",
        "    quiz_nmf,\n",
        "    quiz_coherence,\n",
        ")\n",
        "from tmcourse.demo import (\n",
        "    demo_kmeans,\n",
        ")\n",
        "\n",
        "from tqdm.notebook import tqdm\n",
        "from tabulate import tabulate\n",
        "import matplotlib.pyplot as plt\n",
        "import numpy as np\n"
      ],
      "execution_count": 3,
      "outputs": [
        {
          "output_type": "stream",
          "text": [
            "Cloning into 'harbour-space-text-mining-course'...\n",
            "remote: Enumerating objects: 222, done.\u001b[K\n",
            "remote: Counting objects: 100% (222/222), done.\u001b[K\n",
            "remote: Compressing objects: 100% (162/162), done.\u001b[K\n",
            "remote: Total 529 (delta 122), reused 159 (delta 59), pack-reused 307\u001b[K\n",
            "Receiving objects: 100% (529/529), 46.20 MiB | 17.65 MiB/s, done.\n",
            "Resolving deltas: 100% (305/305), done.\n",
            "Checking out files: 100% (68/68), done.\n"
          ],
          "name": "stdout"
        }
      ]
    },
    {
      "cell_type": "markdown",
      "metadata": {
        "id": "MFyVbzmYhH5_",
        "colab_type": "text"
      },
      "source": [
        "<!--@slideshow slide-->\n",
        "<center><h1>Topic Modeling</h1></center>"
      ]
    },
    {
      "cell_type": "markdown",
      "metadata": {
        "id": "H8AhYLRKFZKh",
        "colab_type": "text"
      },
      "source": [
        "<!--@slideshow slide-->\n",
        "# Last lesson's review\n",
        "1. Machine Learning basics\n",
        "  - Data + Answers $\\rightarrow$ Rules (Model)\n",
        "  - Rules predict answers on **new similar** objects\n",
        "  - Linear models\n",
        "  - Loss function\n",
        "  - Gradient descent\n",
        "  - Overfitting\n",
        "  - Cross-validation\n",
        "2. Text classification\n",
        "  - `TfidfVectorizer`\n",
        "  - `Pipeline`\n",
        "  - Important tokens"
      ]
    },
    {
      "cell_type": "markdown",
      "metadata": {
        "id": "CkiZO4_sJbR_",
        "colab_type": "text"
      },
      "source": [
        "<!--@slideshow slide-->\n",
        "# Plan for today\n",
        "1. Motivation: automatically find groups of related documents\n",
        "1. Clustering. $k$-means algorithm.\n",
        "1. Clustering of TF-IDF vectors. Topics.\n",
        "1. **Coding session 1**: $k$-means.\n",
        "1. Non-negative matrix factorization (NMF).\n",
        "1. **Coding session 2**: NMF.\n",
        "1. Probability refresher: total probability, conditional independency.\n",
        "1. Version of NMF: Probabilistic Latent Semantic Allocation (PLSA).\n",
        "1. PLSA algorithm.\n",
        "1. Latent Dirichlet Allocation (LDA): \"smooth\" version of PLSA.\n",
        "1. Python libraries: gensim, pyLDAvis\n",
        "1. Evaluate quality of topics.\n",
        "1. Apply LDA model.\n",
        "1. **Coding session 3**: LDA."
      ]
    },
    {
      "cell_type": "markdown",
      "metadata": {
        "id": "shtxzBDDovQ2",
        "colab_type": "text"
      },
      "source": [
        "<!--@slideshow slide-->\n",
        "# Motivation\n",
        "\n",
        "- We know how to solve text classification problem using Machine Learning.\n",
        "- But what if we don't know the labels?\n",
        "- Can we somehow extract labels from the data?"
      ]
    },
    {
      "cell_type": "markdown",
      "metadata": {
        "id": "SFdRdTvTESE5",
        "colab_type": "text"
      },
      "source": [
        "<!--@slideshow slide-->\n",
        "# Clustering"
      ]
    },
    {
      "cell_type": "markdown",
      "metadata": {
        "id": "hT0XD7BGpq9g",
        "colab_type": "text"
      },
      "source": [
        "<!--@slideshow slide-->\n",
        "How many classes are on the picture?"
      ]
    },
    {
      "cell_type": "code",
      "metadata": {
        "id": "egXhgi_FpQPh",
        "colab_type": "code",
        "outputId": "df4b8081-4a00-406c-f192-4e6a03b3797d",
        "colab": {
          "base_uri": "https://localhost:8080/",
          "height": 431
        }
      },
      "source": [
        "#@slideshow fragment tags=remove_input\n",
        "from sklearn.datasets import make_blobs\n",
        "X, y = make_blobs(n_samples=300, centers=4, random_state=0, cluster_std=0.6)\n",
        "import matplotlib.pyplot as plt\n",
        "plt.figure(figsize=(7, 7))\n",
        "plt.axis(\"equal\")\n",
        "plt.scatter(X[:, 0], X[:, 1])\n",
        "plt.show()"
      ],
      "execution_count": 0,
      "outputs": [
        {
          "output_type": "display_data",
          "data": {
            "image/png": "[encoded data removed]",
            "text/plain": [
              "<Figure size 504x504 with 1 Axes>"
            ]
          },
          "metadata": {
            "tags": []
          }
        }
      ]
    },
    {
      "cell_type": "markdown",
      "metadata": {
        "id": "ToL4nmU-p2z3",
        "colab_type": "text"
      },
      "source": [
        "<!--@slideshow fragment-->\n",
        "Can we find them automatically?"
      ]
    },
    {
      "cell_type": "markdown",
      "metadata": {
        "id": "DaeVDsO0w-Hk",
        "colab_type": "text"
      },
      "source": [
        "<!--@slideshow slide-->\n",
        "# $k$-means algorithm\n",
        "\n",
        "$k$-means algorithm computes $k$ cluster centers using so-called **expectation-minimization** approach.\n",
        "\n",
        "1. Start with initial (random) cluster centers.\n",
        "2. Update cluster centers, repeating 2 steps:\n",
        "    1. Assign points to the nearest cluster center (**expectation** step).\n",
        "    2. Set the centers to the average of points belongint to the cluster (**maximization** step)."
      ]
    },
    {
      "cell_type": "markdown",
      "metadata": {
        "id": "jkSsFvjjtFTN",
        "colab_type": "text"
      },
      "source": [
        "<!--@slideshow slide-->\n",
        "## Colab demo: $k$-means"
      ]
    },
    {
      "cell_type": "code",
      "metadata": {
        "id": "IxqDKA7y9CIo",
        "colab_type": "code",
        "outputId": "a7d281d5-955e-48c4-d068-6bf2797ccdab",
        "colab": {
          "base_uri": "https://localhost:8080/",
          "height": 532,
          "referenced_widgets": [
            "3c1f72e6c01c44e2a8bc3ff440ffe22c",
            "9a7f11be81c4428f8b10940081462cad",
            "66c5f4fad42345c885d8f0424fb40009",
            "88a8460138fe4ab89ec3b2e0421a4cc4",
            "730a2b8f1e7d4263baea66de97727bc1",
            "725874fbf1cc480ebb8b771c0db68c23",
            "7080ca757bb44823b8d505aad66e4ea1",
            "56036236fcf54fb993d391b9ffb50824",
            "abd940d834704ddb9fe2afd32cbc1815"
          ]
        }
      },
      "source": [
        "demo_kmeans(k=4)"
      ],
      "execution_count": 0,
      "outputs": [
        {
          "output_type": "display_data",
          "data": {
            "application/vnd.jupyter.widget-view+json": {
              "model_id": "3c1f72e6c01c44e2a8bc3ff440ffe22c",
              "version_minor": 0,
              "version_major": 2
            },
            "text/plain": [
              "VBox(children=(Output(), Button(description='update', style=ButtonStyle()), Output()))"
            ]
          },
          "metadata": {
            "tags": []
          }
        }
      ]
    },
    {
      "cell_type": "code",
      "metadata": {
        "id": "Qgaayufd9Cct",
        "colab_type": "code",
        "outputId": "84680a7b-fdb6-4972-e353-daa775ecb55e",
        "colab": {
          "base_uri": "https://localhost:8080/",
          "height": 534,
          "referenced_widgets": [
            "5bd7c42f840d4f10aff7231e05ce7926",
            "22c2e1098d9f411da6758e20e2cc8f6e",
            "554ebe67746544f7983d410393bb6f02",
            "359e61ece4214ea5b859ab0a3bbcd4c3",
            "d2f8316a868b4ec3880a071c787a8c1d",
            "52a4f9521675478cb8b3ad5494bfd3df",
            "e10361a32e3b469989673d5dcd4de895",
            "136ef1156f3942638f202f78c3649ea3",
            "fed6625cea144968879707741ca68f6c"
          ]
        }
      },
      "source": [
        "# try wrong number of cluster\n",
        "demo_kmeans(k=5)"
      ],
      "execution_count": 0,
      "outputs": [
        {
          "output_type": "display_data",
          "data": {
            "application/vnd.jupyter.widget-view+json": {
              "model_id": "5bd7c42f840d4f10aff7231e05ce7926",
              "version_minor": 0,
              "version_major": 2
            },
            "text/plain": [
              "VBox(children=(Output(), Button(description='update', style=ButtonStyle()), Output()))"
            ]
          },
          "metadata": {
            "tags": []
          }
        }
      ]
    },
    {
      "cell_type": "markdown",
      "metadata": {
        "id": "vwEHjiaVl3XE",
        "colab_type": "text"
      },
      "source": [
        "<!--@slideshow slide-->\n",
        "## Colab quiz 1\n",
        "One step of $k$-means algorithm"
      ]
    },
    {
      "cell_type": "code",
      "metadata": {
        "id": "b3MwKemOl-JT",
        "colab_type": "code",
        "outputId": "cb7b902e-6213-407d-ccaf-914aebd6584c",
        "colab": {
          "base_uri": "https://localhost:8080/",
          "height": 527,
          "referenced_widgets": [
            "747ce0b1b9294c3ba5baf43dc03c195e",
            "fa3cf4590214438bbfbd8432456ada88",
            "48d995530c25401aad789a16726748a7",
            "caf9de206550448b9a0293dc6f0b64ab",
            "481eee105a15496d87a87c82d5942673",
            "c8478118aef04b6791d9af6b8ba42597",
            "9edf1c0cddaf4749a5b8f4ad39cfd65e",
            "8af9e3176c174277a4ff0afbbbce32e7",
            "b2b6a05bdb2141c28c8ff20ea29c48e3",
            "9d02226256ea47e5a834a3e232a6f729",
            "ff8bf01742474d869ef773b69e5d9801",
            "7af94b18b0fa4a798be49aa44c7e4524",
            "d44363c970d546839a5e324b34778a31",
            "6f61acd9f193475e9d0f50baf326d0af",
            "4352880f912840b1adbbda8b83f62390",
            "ffed1caa1b4949c0885162dde1290f6c",
            "2b44a1dfbeca48e199f130323cf74642",
            "edcff661e1a047c2ac5b390726de9661",
            "f2515f3dbac54090b8a35655ace80eba",
            "5abe252b47bc45d7b0523324e9f3ff46",
            "0dde43e29fb14cb7b36831ce310703fd",
            "b30e2575feeb453cab463014d8f0b46a",
            "2e566d5cf72647b7b8fbbac8aeae1244",
            "71d564ec3eb841eb98f27a7d89c845f8",
            "70556863e1764748a10dffcb55b3178d",
            "55ddaacf0b4e43f087c3edbb20b764d4",
            "375f9493279c437596222af0e507fbc3",
            "2b80ecf5881a440db6a4d81f11cb2580"
          ]
        }
      },
      "source": [
        "enable_mathjax_in_cell()\n",
        "quiz_kmeans()()"
      ],
      "execution_count": 0,
      "outputs": [
        {
          "output_type": "display_data",
          "data": {
            "text/html": [
              "\n",
              "        <script src=\"https://www.gstatic.com/external_hosted/mathjax/latest/MathJax.js?config=TeX-AMS_HTML-full,Safe&delayStartupUntil=configured\"></script>\n",
              "        <script>\n",
              "            (() => {\n",
              "            const mathjax = window.MathJax;\n",
              "            mathjax.Hub.Config({\n",
              "            'tex2jax': {\n",
              "                'inlineMath': [['$', '$'], ['\\(', '\\)']],\n",
              "                'displayMath': [['$$', '$$'], ['\\[', '\\]']],\n",
              "                'processEscapes': true,\n",
              "                'processEnvironments': true,\n",
              "                'skipTags': ['script', 'noscript', 'style', 'textarea', 'code'],\n",
              "                'displayAlign': 'center',\n",
              "            },\n",
              "            'HTML-CSS': {\n",
              "                'styles': {'.MathJax_Display': {'margin': 0}},\n",
              "                'linebreaks': {'automatic': true},\n",
              "                // Disable to prevent OTF font loading, which aren't part of our\n",
              "                // distribution.\n",
              "                'imageFont': null,\n",
              "            },\n",
              "            'messageStyle': 'none'\n",
              "            });\n",
              "            mathjax.Hub.Configured();\n",
              "        })();\n",
              "        </script>\n",
              "        "
            ],
            "text/plain": [
              "<IPython.core.display.HTML object>"
            ]
          },
          "metadata": {
            "tags": []
          }
        },
        {
          "output_type": "display_data",
          "data": {
            "application/vnd.jupyter.widget-view+json": {
              "model_id": "747ce0b1b9294c3ba5baf43dc03c195e",
              "version_minor": 0,
              "version_major": 2
            },
            "text/plain": [
              "VBox(children=(Output(), RadioButtons(options=('option 1', 'option 2', 'option 3', 'option 4'), value='option …"
            ]
          },
          "metadata": {
            "tags": []
          }
        }
      ]
    },
    {
      "cell_type": "markdown",
      "metadata": {
        "id": "maFk8CJfl9pt",
        "colab_type": "text"
      },
      "source": [
        "<!--@slideshow slide-->\n",
        "Since we know true labels of texts, **in this lesson** we will evaluate quality of clustering using true labels.\n",
        "\n"
      ]
    },
    {
      "cell_type": "code",
      "metadata": {
        "id": "cYgf6zNiaRLF",
        "colab_type": "code",
        "colab": {}
      },
      "source": [
        "#@slideshow fragment\n",
        "def estimate_clustering_quality(target, prediction):\n",
        "    from itertools import combinations\n",
        "    N = len(target)\n",
        "    total_pairs = 0\n",
        "    # we will count the ratio of \"good\" pairs of points\n",
        "    good_pairs = 0\n",
        "    for pair in combinations(range(N), 2):\n",
        "        # NB: O(n**2) complexity!\n",
        "        total_pairs += 1\n",
        "        i, j = pair\n",
        "        if (target[i] == target[j]) == (prediction[i] == prediction[j]):\n",
        "            # a pair of points is \"good\" if and only if\n",
        "            #   - both points belong to the same cluster and have the same label\n",
        "            #   - or points belong to different clusters and have different labels\n",
        "            good_pairs += 1\n",
        "\n",
        "    return good_pairs / total_pairs"
      ],
      "execution_count": 0,
      "outputs": []
    },
    {
      "cell_type": "markdown",
      "metadata": {
        "id": "xT6-Eq4An4kr",
        "colab_type": "text"
      },
      "source": [
        "<!--@slideshow slide-->\n",
        "## Colab quiz 2\n",
        "\n",
        "Evaluate quality of clustering."
      ]
    },
    {
      "cell_type": "code",
      "metadata": {
        "id": "zxqXv_HEn8J7",
        "colab_type": "code",
        "outputId": "f3a5307d-3fbc-495d-d1bf-614d7212ca98",
        "colab": {
          "base_uri": "https://localhost:8080/",
          "height": 319,
          "referenced_widgets": [
            "5689750c0fa04f4aa27a6106b3a84ca8",
            "417fcff884fc4ef9aeaf83982fde9ca6",
            "809ae0232c2342e29a9be46c0b98dc0d",
            "d9ce7594f7694163ad9c33614df35251",
            "bb74f4012f3c4eb688351c8ca23cb452",
            "5f3dc01b65fc4558903a414ca2976aed",
            "9312c22a1be04b80ab9c8128ead48589",
            "a364b36c771c411399e584b80b8e55f6",
            "c4a2b7f523e547329aaad65cd7445e11",
            "3dc2651bedb7419c8830ab0274c64aea",
            "d919118af8d64ef5be4313fe89226a05",
            "51cb874ae88849d3927ab80620dd64a0",
            "d355bc14ad524223a9d646959dddcfb5",
            "1b40d91f1e614f67aaf49338b06fde1a",
            "0b62468fe0b647be838365ff88a07778",
            "faa69b3f28cb4ced80645d3e182781b0",
            "5ca4384182c24b0bb2e294bd4d29d1a6",
            "408e89c30ee044c79f71023a57f10fec",
            "9ff560e708cb420ba408c5f34ecc0aa4",
            "b1059189246a45259ff095350033843a",
            "79a5dabde67d43a4acacd3afa07bef71",
            "fc669fa0c90c458fb86dfddad7ef5d53"
          ]
        }
      },
      "source": [
        "enable_mathjax_in_cell()\n",
        "quiz_estimate_clustering_quality()()"
      ],
      "execution_count": 0,
      "outputs": [
        {
          "output_type": "display_data",
          "data": {
            "text/html": [
              "\n",
              "        <script src=\"https://www.gstatic.com/external_hosted/mathjax/latest/MathJax.js?config=TeX-AMS_HTML-full,Safe&delayStartupUntil=configured\"></script>\n",
              "        <script>\n",
              "            (() => {\n",
              "            const mathjax = window.MathJax;\n",
              "            mathjax.Hub.Config({\n",
              "            'tex2jax': {\n",
              "                'inlineMath': [['$', '$'], ['\\(', '\\)']],\n",
              "                'displayMath': [['$$', '$$'], ['\\[', '\\]']],\n",
              "                'processEscapes': true,\n",
              "                'processEnvironments': true,\n",
              "                'skipTags': ['script', 'noscript', 'style', 'textarea', 'code'],\n",
              "                'displayAlign': 'center',\n",
              "            },\n",
              "            'HTML-CSS': {\n",
              "                'styles': {'.MathJax_Display': {'margin': 0}},\n",
              "                'linebreaks': {'automatic': true},\n",
              "                // Disable to prevent OTF font loading, which aren't part of our\n",
              "                // distribution.\n",
              "                'imageFont': null,\n",
              "            },\n",
              "            'messageStyle': 'none'\n",
              "            });\n",
              "            mathjax.Hub.Configured();\n",
              "        })();\n",
              "        </script>\n",
              "        "
            ],
            "text/plain": [
              "<IPython.core.display.HTML object>"
            ]
          },
          "metadata": {
            "tags": []
          }
        },
        {
          "output_type": "display_data",
          "data": {
            "application/vnd.jupyter.widget-view+json": {
              "model_id": "5689750c0fa04f4aa27a6106b3a84ca8",
              "version_minor": 0,
              "version_major": 2
            },
            "text/plain": [
              "VBox(children=(Output(), RadioButtons(options=('0', '0.25', '0.5', '0.75'), value='0'), HTML(value='<br>'), Bu…"
            ]
          },
          "metadata": {
            "tags": []
          }
        }
      ]
    },
    {
      "cell_type": "markdown",
      "metadata": {
        "id": "gjbROZL9LncC",
        "colab_type": "text"
      },
      "source": [
        "<!--@slideshow slide-->\n",
        "# Clustering of TF-IDF vectors. Topics.\n",
        "\n",
        "Now we kknow how\n",
        "- Find clusters of vectors\n",
        "- Extract vectors from texts\n",
        "\n",
        "So we can find clusters of texts using `sklearn.cluster.KMeans`."
      ]
    },
    {
      "cell_type": "markdown",
      "metadata": {
        "id": "_J36erXUuG2a",
        "colab_type": "text"
      },
      "source": [
        "<!--@slideshow slide-->\n",
        "## Colab demo: $k$-means in `sklearn`"
      ]
    },
    {
      "cell_type": "code",
      "metadata": {
        "id": "c4MgGA1a_zur",
        "colab_type": "code",
        "outputId": "c6f0a95e-5a84-430f-d8dc-1532fc9bfa89",
        "colab": {
          "base_uri": "https://localhost:8080/",
          "height": 51
        }
      },
      "source": [
        "from sklearn.feature_extraction.text import TfidfVectorizer\n",
        "from sklearn.datasets import fetch_20newsgroups\n",
        "import numpy as np\n",
        "\n",
        "categories = (\"sci.space\", \"rec.sport.hockey\", \"comp.graphics\")\n",
        "fetch_params = dict(\n",
        "    shuffle=True, random_state=1,\n",
        "    remove=('headers', 'footers', 'quotes'),\n",
        "    categories=categories\n",
        ")\n",
        "train_dataset = fetch_20newsgroups(subset=\"train\", **fetch_params)\n",
        "test_dataset = fetch_20newsgroups(subset=\"test\", **fetch_params)\n",
        "\n",
        "vec = TfidfVectorizer(stop_words=\"english\")\n",
        "vec.fit(train_dataset.data)\n",
        "X_train = vec.transform(train_dataset.data)\n",
        "X_test = vec.transform(test_dataset.data)"
      ],
      "execution_count": 0,
      "outputs": [
        {
          "output_type": "stream",
          "text": [
            "Downloading 20news dataset. This may take a few minutes.\n",
            "Downloading dataset from https://ndownloader.figshare.com/files/5975967 (14 MB)\n"
          ],
          "name": "stderr"
        }
      ]
    },
    {
      "cell_type": "code",
      "metadata": {
        "id": "sB2aGTyNS2ZC",
        "colab_type": "code",
        "colab": {}
      },
      "source": [
        "# for this dataset we know the true number of classes, but in general we don't\n",
        "n_clusters = len(categories)"
      ],
      "execution_count": 0,
      "outputs": []
    },
    {
      "cell_type": "code",
      "metadata": {
        "id": "Qkh-spWJ8aho",
        "colab_type": "code",
        "outputId": "ae56947b-2bb3-4e46-cf0b-27cb7968e9cd",
        "colab": {
          "base_uri": "https://localhost:8080/",
          "height": 302
        }
      },
      "source": [
        "# KMeans has standard fit/predict interface\n",
        "from sklearn.cluster import KMeans\n",
        "kmeans = KMeans(n_clusters=n_clusters, random_state=0, n_init=20)\n",
        "kmeans.fit(X_train)  # takes vectors\n",
        "predictions = kmeans.predict(X_test)  # returns clusters\n",
        "plot_confusion_matrix(test_dataset.target, predictions)\n",
        "estimate_clustering_quality(test_dataset.target, predictions)"
      ],
      "execution_count": 0,
      "outputs": [
        {
          "output_type": "execute_result",
          "data": {
            "text/plain": [
              "0.7146142174961424"
            ]
          },
          "metadata": {
            "tags": []
          },
          "execution_count": 10
        },
        {
          "output_type": "display_data",
          "data": {
            "image/png": "[encoded data removed]",
            "text/plain": [
              "<Figure size 432x288 with 1 Axes>"
            ]
          },
          "metadata": {
            "tags": []
          }
        }
      ]
    },
    {
      "cell_type": "markdown",
      "metadata": {
        "id": "-TtSzO1HJEK_",
        "colab_type": "text"
      },
      "source": [
        "Compare clustering quality with random benchmark."
      ]
    },
    {
      "cell_type": "code",
      "metadata": {
        "id": "vNqbcIfyJGtk",
        "colab_type": "code",
        "outputId": "4cc91414-988e-4655-e42d-a3edb98e4f0e",
        "colab": {
          "base_uri": "https://localhost:8080/",
          "height": 302
        }
      },
      "source": [
        "import random\n",
        "random.seed(0)\n",
        "random_predictions = [random.randint(0, n_clusters - 1) for _ in test_dataset.target]\n",
        "plot_confusion_matrix(test_dataset.target, random_predictions)\n",
        "estimate_clustering_quality(test_dataset.target, random_predictions)"
      ],
      "execution_count": 0,
      "outputs": [
        {
          "output_type": "execute_result",
          "data": {
            "text/plain": [
              "0.5557895671883216"
            ]
          },
          "metadata": {
            "tags": []
          },
          "execution_count": 11
        },
        {
          "output_type": "display_data",
          "data": {
            "image/png": "[encoded data removed]",
            "text/plain": [
              "<Figure size 432x288 with 1 Axes>"
            ]
          },
          "metadata": {
            "tags": []
          }
        }
      ]
    },
    {
      "cell_type": "markdown",
      "metadata": {
        "id": "L1lB2Hs3DFE1",
        "colab_type": "text"
      },
      "source": [
        "Compare with classification.\n"
      ]
    },
    {
      "cell_type": "code",
      "metadata": {
        "id": "r32Yi90nDHtU",
        "colab_type": "code",
        "outputId": "65747674-d86d-43e5-be94-2d99e198cf6f",
        "colab": {
          "base_uri": "https://localhost:8080/",
          "height": 302
        }
      },
      "source": [
        "from sklearn.linear_model import SGDClassifier\n",
        "clf = SGDClassifier(alpha=.0001, max_iter=50, penalty=\"l2\", loss=\"log\", random_state=0)\n",
        "clf.fit(X_train, train_dataset.target)\n",
        "plot_confusion_matrix(test_dataset.target, clf.predict(X_test))\n",
        "estimate_clustering_quality(test_dataset.target, clf.predict(X_test))"
      ],
      "execution_count": 0,
      "outputs": [
        {
          "output_type": "execute_result",
          "data": {
            "text/plain": [
              "0.8967120410446853"
            ]
          },
          "metadata": {
            "tags": []
          },
          "execution_count": 12
        },
        {
          "output_type": "display_data",
          "data": {
            "image/png": "[encoded data removed]",
            "text/plain": [
              "<Figure size 432x288 with 1 Axes>"
            ]
          },
          "metadata": {
            "tags": []
          }
        }
      ]
    },
    {
      "cell_type": "markdown",
      "metadata": {
        "id": "JuB0R2lhEc-9",
        "colab_type": "text"
      },
      "source": [
        "<!--@slideshow slide-->\n",
        "Let's do an experiment.\n",
        "\n",
        "What are the largest components (words) for each centroid?"
      ]
    },
    {
      "cell_type": "code",
      "metadata": {
        "id": "NdNdjFTFEhdl",
        "colab_type": "code",
        "outputId": "288b99fc-8ea2-4708-ad37-6a55859013f5",
        "colab": {
          "base_uri": "https://localhost:8080/",
          "height": 170
        }
      },
      "source": [
        "#@slideshow fragment tags=remove_input\n",
        "show_vectorizer_largest_components(vec, kmeans.cluster_centers_)"
      ],
      "execution_count": 0,
      "outputs": [
        {
          "output_type": "stream",
          "text": [
            "['use', 'new', 'year', 'long', 'good', 'does', 'edu', 'earth', 'moon', 'orbit',\n",
            " 'launch', 'time', 'know', 'people', 'nasa', 'think', 'don', 'like', 'just',\n",
            " 'space']\n",
            "['player', 'toronto', 'good', 'leafs', 'espn', 'playoffs', 'teams', 'win',\n",
            " 'think', 'detroit', 'league', 'year', 'nhl', 'games', 'season', 'players',\n",
            " 'play', 'hockey', 'team', 'game']\n",
            "['color', 'code', 'use', 'mail', 'advance', 'ftp', 'hi', 'format', 'help',\n",
            " 'need', 'windows', 'looking', 'does', 'program', 'image', 'know', 'file',\n",
            " 'files', 'graphics', 'thanks']\n"
          ],
          "name": "stdout"
        }
      ]
    },
    {
      "cell_type": "markdown",
      "metadata": {
        "id": "M66ZspI27kGn",
        "colab_type": "text"
      },
      "source": [
        "<!--@slideshow fragment-->\n",
        "Is there the correspondence between largest components and true categories? Remember that the categories are (\"sci.space\", \"rec.sport.hockey\", \"comp.graphics\").\n"
      ]
    },
    {
      "cell_type": "markdown",
      "metadata": {
        "id": "Q4H4h4d4u8ks",
        "colab_type": "text"
      },
      "source": [
        "<!--@slideshow fragment-->\n",
        "It is important that we found centroids (and their components) **without any information about true categories**.\n",
        "\n",
        "We somehow \"inferred\" categories. Let's call them _topics_."
      ]
    },
    {
      "cell_type": "markdown",
      "metadata": {
        "id": "F4sUBI6VU8MM",
        "colab_type": "text"
      },
      "source": [
        "<!--@slideshow slide-->\n",
        "# Coding session 1\n",
        "\n",
        "Apply $k$-means on tf-idf vectors of the dataset `harbour-space-text-mining-course/datasets/content_classification.csv`.\n",
        "The dataset has 7 categories: leisure, affection, bonding, enjoy_the_moment, achievement, nature, exercise. Can you find the cluster that corresponds to the category \"achievement\"?\n",
        "\n",
        "**Hints**:\n",
        "- Use parameters `n_clusters=7`, `n_init=10`, `max_iter=10`, `random_state=0` for `KMeans`\n",
        "- Use the function `show_vectorizer_largest_components` to see the words corresponding to the largest components."
      ]
    },
    {
      "cell_type": "code",
      "metadata": {
        "id": "C0XPtqMYVMqA",
        "colab_type": "code",
        "colab": {}
      },
      "source": [
        "import pandas as pd\n",
        "from sklearn.feature_extraction.text import TfidfVectorizer\n",
        "from sklearn.cluster import KMeans\n",
        "from sklearn.model_selection import train_test_split\n",
        "from sklearn.preprocessing import LabelEncoder\n",
        "\n",
        "df = pd.read_csv(\"harbour-space-text-mining-course/datasets/content_classification.csv\", header=0, names=[\"text\", \"label\"])\n",
        "\n",
        "# YOUR CODE HERE\n",
        "# print(df.head())\n",
        "le = LabelEncoder()\n",
        "y = le.fit_transform(df.label)\n",
        "# print(df.head())\n",
        "\n",
        "X_train, X_test, y_train, y_test = train_test_split(df.text, y, test_size=0.25, random_state=42, shuffle=True)\n",
        "# print(X_train.shape, X_test.shape, y_train.shape, y_test.shape)\n",
        "\n",
        "trf = TfidfVectorizer(stop_words=\"english\")\n",
        "trf.fit(X_train)\n",
        "X_train = trf.transform(X_train)\n",
        "X_test = trf.transform(X_test)\n",
        "# print(X_train.shape, X_test.shape)"
      ],
      "execution_count": 0,
      "outputs": []
    },
    {
      "cell_type": "code",
      "metadata": {
        "id": "JTdzmQOngOkI",
        "colab_type": "code",
        "outputId": "8189cb61-f1a8-4e1d-a129-b77e41bb610f",
        "colab": {
          "base_uri": "https://localhost:8080/",
          "height": 302
        }
      },
      "source": [
        "kmeans = KMeans(n_clusters=7, n_init=10, max_iter=10, random_state=42)\n",
        "kmeans.fit(X_train)\n",
        "predictions = kmeans.predict(X_test)\n",
        "plot_confusion_matrix(y_test, predictions)\n",
        "estimate_clustering_quality(y_test, predictions)"
      ],
      "execution_count": 0,
      "outputs": [
        {
          "output_type": "execute_result",
          "data": {
            "text/plain": [
              "0.623916633983308"
            ]
          },
          "metadata": {
            "tags": []
          },
          "execution_count": 33
        },
        {
          "output_type": "display_data",
          "data": {
            "image/png": "[encoded data removed]",
            "text/plain": [
              "<Figure size 432x288 with 1 Axes>"
            ]
          },
          "metadata": {
            "tags": []
          }
        }
      ]
    },
    {
      "cell_type": "markdown",
      "metadata": {
        "id": "WuFXX_E2EMq6",
        "colab_type": "text"
      },
      "source": [
        "<!--@slideshow slide-->\n",
        "# Non-negative matrix factorization (NMF)"
      ]
    },
    {
      "cell_type": "markdown",
      "metadata": {
        "id": "bkcuALJXip9b",
        "colab_type": "text"
      },
      "source": [
        "<!--@slideshow fragment-->\n",
        "So, we accidentally discovered topics. Now let's try to formalize this discovery."
      ]
    },
    {
      "cell_type": "markdown",
      "metadata": {
        "id": "uvPCBzTgvTqh",
        "colab_type": "text"
      },
      "source": [
        "<!--@slideshow slide-->\n",
        "**Q**: Can a document have many topics?\n"
      ]
    },
    {
      "cell_type": "markdown",
      "metadata": {
        "id": "yD1kYiMyvVtw",
        "colab_type": "text"
      },
      "source": [
        "<!--@slideshow fragment-->\n",
        "**A**: Why not?\n",
        "> Systems as diverse as genetic networks or the world wide web are best described as\n",
        "networks with complex topology. A common property of many large networks is that the\n",
        "vertex connectivities follow a scale-free power-law distribution.\n"
      ]
    },
    {
      "cell_type": "markdown",
      "metadata": {
        "id": "P1c048J6vXYV",
        "colab_type": "text"
      },
      "source": [
        "<!--@slideshow slide-->\n",
        "**Q**: Can a word represent many topics?\n"
      ]
    },
    {
      "cell_type": "markdown",
      "metadata": {
        "id": "NC9hUbqgvYm7",
        "colab_type": "text"
      },
      "source": [
        "<!--@slideshow fragment-->\n",
        "**A**: Sure! https://en.wikipedia.org/wiki/Matrix\n"
      ]
    },
    {
      "cell_type": "markdown",
      "metadata": {
        "id": "QPwNIHE7vZse",
        "colab_type": "text"
      },
      "source": [
        "<!--@slideshow slide-->\n",
        "So in general we cannot assign one topic to a document or to a word. A document or a word may have all possible topics in some (probably small) proportions.\n"
      ]
    },
    {
      "cell_type": "markdown",
      "metadata": {
        "id": "QwgFqvo8vaoT",
        "colab_type": "text"
      },
      "source": [
        "<!--@slideshow fragment-->\n",
        "More formally:\n",
        "- Suppose we want to find $T$ topics\n",
        "- For each document and for each word, assign a non-negative vector with $T$ elements.\n",
        "- The larger the $i$-th component, the higher the affinity of the document/word with the $i$-th topic.\n"
      ]
    },
    {
      "cell_type": "markdown",
      "metadata": {
        "id": "1gQ7L1Q_vbxf",
        "colab_type": "text"
      },
      "source": [
        "<!--@slideshow fragment-->\n",
        "**Q**: How to find such vectors?\n"
      ]
    },
    {
      "cell_type": "markdown",
      "metadata": {
        "id": "1T2oFbjJvcvk",
        "colab_type": "text"
      },
      "source": [
        "<!--@slideshow fragment-->\n",
        "**A**: Since we have a tfidf-matrix, let's try to extract topics from it. By the way, there is a suitable matrix method."
      ]
    },
    {
      "cell_type": "markdown",
      "metadata": {
        "id": "P6qsxhkdqFtD",
        "colab_type": "text"
      },
      "source": [
        "<!--@slideshow slide-->\n",
        "What we want:\n",
        "\n",
        "![alt text](https://raw.githubusercontent.com/horoshenkih/harbour-space-text-mining-course/master/pic/doc-topic-term-topic.png)"
      ]
    },
    {
      "cell_type": "markdown",
      "metadata": {
        "id": "ccSOPh74p7ND",
        "colab_type": "text"
      },
      "source": [
        "<!--@slideshow slide-->\n",
        "What we have:\n",
        "\n",
        "![doc-term](https://raw.githubusercontent.com/horoshenkih/harbour-space-text-mining-course/master/pic/doc-term.png)"
      ]
    },
    {
      "cell_type": "markdown",
      "metadata": {
        "id": "H0WmpEaFqOP2",
        "colab_type": "text"
      },
      "source": [
        "<!--@slideshow slide-->\n",
        "What we will try:\n",
        "\n",
        "![alt text](https://raw.githubusercontent.com/horoshenkih/harbour-space-text-mining-course/master/pic/product.png)"
      ]
    },
    {
      "cell_type": "markdown",
      "metadata": {
        "id": "HHDABuRR-YCa",
        "colab_type": "text"
      },
      "source": [
        "<!--@slideshow fragment-->\n",
        "**Definition**: non-negative matrix factorization of the matrix $X$ is a pair of matrices $D, W$ such that $X \\approx D \\cdot W$."
      ]
    },
    {
      "cell_type": "markdown",
      "metadata": {
        "id": "PvMvxP1qRIqW",
        "colab_type": "text"
      },
      "source": [
        "<!--@slideshow slide-->\n",
        "##  Non-negative number factorization\n",
        "\n",
        "We will examine the simplest version of non-negative matrix factorization $X \\approx D\\cdot W$, where $X, D, W$ are just numbers ($1 \\times 1$ matrices).\n",
        "<!--@slideshow fragment-->\n",
        "The algorithm of factorization is called ALS (Alternating Least Squares). The idea is to minimize the difference between $X$ and $D \\cdot W$:\n",
        "$$\n",
        "L_X(D, W) = \\frac{1}{2}(X - D\\cdot W)^2\n",
        "$$\n",
        "<!--@slideshow fragment-->\n",
        "The function $L_X$ depends on variables $D, W$, and we need to minimize $L_X$."
      ]
    },
    {
      "cell_type": "code",
      "metadata": {
        "id": "E-Si6-qtWQsg",
        "colab_type": "code",
        "outputId": "1871f8ae-c5c7-435f-d3b2-4fa32f0d6612",
        "colab": {
          "base_uri": "https://localhost:8080/",
          "height": 412
        }
      },
      "source": [
        "#@slideshow slide tags=remove_input\n",
        "# this is how L_X(D, W) depends on D for fixed X and W\n",
        "\n",
        "X = 4\n",
        "def L_X(D, W):\n",
        "    return 0.5 * (X - D*W)**2\n",
        "\n",
        "D_range = np.linspace(0, 5, 30)\n",
        "plt.figure(figsize=(10, 6))\n",
        "plt.plot(D_range, L_X(D_range, 2))\n",
        "plt.xlabel(r\"$D$\")\n",
        "plt.title(r\"$L_4(D, 2)$\")\n",
        "plt.show()"
      ],
      "execution_count": 0,
      "outputs": [
        {
          "output_type": "display_data",
          "data": {
            "image/png": "[encoded data removed]",
            "text/plain": [
              "<Figure size 720x432 with 1 Axes>"
            ]
          },
          "metadata": {
            "tags": []
          }
        }
      ]
    },
    {
      "cell_type": "markdown",
      "metadata": {
        "id": "8V5FrjC1XIi8",
        "colab_type": "text"
      },
      "source": [
        "<!--@slideshow slide-->\n",
        "Suppose some $W_0$ is fixed. Then $L_X(D, W_0)$ depends only on $D$. Denote this function $f(D) \\equiv L_X(W_0, D)$.\n",
        "We can compute the derivative:\n",
        "$$\n",
        "\\dfrac{\\mathrm{d}f}{\\mathrm{d}D} = (D\\cdot W - X) \\cdot W\n",
        "$$"
      ]
    },
    {
      "cell_type": "markdown",
      "metadata": {
        "id": "paEc0qDYxSvk",
        "colab_type": "text"
      },
      "source": [
        "<!--@slideshow fragment-->\n",
        "Recall the interpretation of the derivative: if we change $D$ by some small amount $\\Delta D$, then the function $f(D)$ will change by $\\Delta f(D) \\approx \\dfrac{\\mathrm{d}f}{\\mathrm{d}D} \\Delta D$.\n"
      ]
    },
    {
      "cell_type": "markdown",
      "metadata": {
        "id": "wkYqa-pbxT3m",
        "colab_type": "text"
      },
      "source": [
        "<!--@slideshow slide-->\n",
        "Our goal is to minimize the function $f$. Since we know the derivative $\\dfrac{\\mathrm{d}f}{\\mathrm{d}D}$, we can take a small step $\\Delta D$ such that $\\Delta f(D) < 0$ and decrease $f$ a little.\n",
        "- If $\\dfrac{\\mathrm{d}f}{\\mathrm{d}D} > 0$, take step $\\Delta D < 0$\n",
        "- If $\\dfrac{\\mathrm{d}f}{\\mathrm{d}D} < 0$, take step $\\Delta D > 0$\n",
        "\n",
        "In both cases, we take the step in the direction opposite to $\\dfrac{\\mathrm{d}f}{\\mathrm{d}D}$.\n"
      ]
    },
    {
      "cell_type": "markdown",
      "metadata": {
        "id": "v9pNmKDbxVS2",
        "colab_type": "text"
      },
      "source": [
        "<!--@slideshow fragment-->\n",
        "Clearly, we can do the same thing with $W$, having $D$ fixed.\n"
      ]
    },
    {
      "cell_type": "markdown",
      "metadata": {
        "id": "-Bv7UbahxWig",
        "colab_type": "text"
      },
      "source": [
        "<!--@slideshow slide-->\n",
        "So this ALS (Alternating least squares):\n",
        "0. Choose _learning rate_ $\\lambda$ (some positive small number).\n",
        "1. Initialize $D^{(0)}$, $W^{(0)}$ randomly.\n",
        "2. Repeat for $t = 0, 1, 2, \\dots$ until convergence:\n",
        "    1. Change $D$ by $\\Delta D$:\n",
        "    $$D^{(t+1)} = D^{(t)} - \\lambda \\cdot (D^{(t)}W^{(t)} - X) W^{(t)}$$\n",
        "    2. Change $W$ by $\\Delta W$:\n",
        "    $$W^{(t+1)} = W^{(t)} - \\lambda \\cdot (D^{\\color{red}{(t+1)}}W^{(t)} - X) D^{\\color{red}{(t+1)}}$$"
      ]
    },
    {
      "cell_type": "code",
      "metadata": {
        "id": "z4Zv4FxQL4Dm",
        "colab_type": "code",
        "colab": {}
      },
      "source": [
        "#@slideshow\n",
        "def non_negative_number_factorization(\n",
        "    X,  # number to factorize\n",
        "    D0=None,  # optional initial value for D\n",
        "    W0=None,  # optional initial value for W\n",
        "    tolerance=1e-4,  # stop iterations if |X - WD| < tolerance\n",
        "    learning_rate=1e-5,  # lambda in the formula\n",
        "    seed=0,\n",
        "):\n",
        "    import numpy as np\n",
        "    # initialize W and D with W0, D0 or randomly\n",
        "    np.random.seed(seed)\n",
        "    D = D0 or np.random.random() * X  # random from 0 to X\n",
        "    W = W0 or np.random.random() * X  # random from 0 to X\n",
        "\n",
        "    # repeat alternating steps until convergence\n",
        "    while np.abs(X - D*W) > tolerance:\n",
        "        D_step = -learning_rate * (W*D - X) * W\n",
        "        D += D_step\n",
        "        assert D > 0\n",
        "        W_step = -learning_rate * (W*D - X) * D\n",
        "        W += W_step\n",
        "        assert W > 0\n",
        "    return D, W"
      ],
      "execution_count": 0,
      "outputs": []
    },
    {
      "cell_type": "code",
      "metadata": {
        "id": "3eS_pyPxd9Ae",
        "colab_type": "code",
        "outputId": "c58123f2-6c6b-4073-bb72-92c3d6dd4ce0",
        "colab": {
          "base_uri": "https://localhost:8080/",
          "height": 34
        }
      },
      "source": [
        "#@slideshow fragment\n",
        "# factorize X = 4\n",
        "D, W = non_negative_number_factorization(4)\n",
        "print(D, W, D*W)"
      ],
      "execution_count": 0,
      "outputs": [
        {
          "output_type": "stream",
          "text": [
            "1.630045471770632 2.453980621551367 4.0000999999726865\n"
          ],
          "name": "stdout"
        }
      ]
    },
    {
      "cell_type": "markdown",
      "metadata": {
        "id": "_dL8J3ZPla_y",
        "colab_type": "text"
      },
      "source": [
        "<!--@slideshow slide-->\n",
        "## Colab demo: NMF in sklearn"
      ]
    },
    {
      "cell_type": "code",
      "metadata": {
        "id": "0zfzQzGQWq7s",
        "colab_type": "code",
        "colab": {}
      },
      "source": [
        "from sklearn.feature_extraction.text import TfidfVectorizer\n",
        "trf = TfidfVectorizer(stop_words=\"english\")\n",
        "trf.fit(train_dataset.data)\n",
        "X_train = trf.transform(train_dataset.data)\n",
        "X_test = trf.transform(test_dataset.data)"
      ],
      "execution_count": 0,
      "outputs": []
    },
    {
      "cell_type": "code",
      "metadata": {
        "id": "Xz7Dcax7EIyc",
        "colab_type": "code",
        "colab": {}
      },
      "source": [
        "# NMF has standatd fit/transform interface\n",
        "from sklearn.decomposition import NMF\n",
        "nmf = NMF(\n",
        "    n_components=3,\n",
        "    random_state=0,\n",
        "    solver=\"cd\",  # coordinate descent == ALS\n",
        "    init=\"random\"\n",
        ")\n",
        "nmf.fit(X_train)\n",
        "X_train_nmf = nmf.transform(X_train)\n",
        "\n",
        "# to transform the new input data, factorize the input matrix with fixed self.components_\n",
        "X_test_nmf = nmf.transform(X_test)"
      ],
      "execution_count": 0,
      "outputs": []
    },
    {
      "cell_type": "code",
      "metadata": {
        "id": "8Lmg1KOsf0ct",
        "colab_type": "code",
        "outputId": "6ca568e4-88ab-4348-ae51-bdbdd16be1a4",
        "colab": {
          "base_uri": "https://localhost:8080/",
          "height": 170
        }
      },
      "source": [
        "show_vectorizer_largest_components(trf, nmf.components_)"
      ],
      "execution_count": 0,
      "outputs": [
        {
          "output_type": "stream",
          "text": [
            "['research', 'mission', 'think', 'satellite', 'sci', 'gov', 'cost', 'like',\n",
            " 'people', 'data', 'station', 'just', 'lunar', 'earth', 'orbit', 'moon',\n",
            " 'shuttle', 'launch', 'nasa', 'space']\n",
            "['code', 'hi', 'mail', 'use', 'advance', 'ftp', 'format', 'software', 'looking',\n",
            " 'help', 'windows', 'need', 'does', 'program', 'file', 'know', 'image', 'files',\n",
            " 'thanks', 'graphics']\n",
            "['toronto', 'time', 'good', 'like', 'just', 'win', 'teams', 'detroit', 'league',\n",
            " 'don', 'think', 'year', 'nhl', 'season', 'players', 'games', 'play', 'hockey',\n",
            " 'team', 'game']\n"
          ],
          "name": "stdout"
        }
      ]
    },
    {
      "cell_type": "code",
      "metadata": {
        "id": "Jcyn_tpxdZ-S",
        "colab_type": "code",
        "outputId": "552f3dc0-1588-4c49-f12a-59e24fb95725",
        "colab": {
          "base_uri": "https://localhost:8080/",
          "height": 302
        }
      },
      "source": [
        "dominant_topics = np.argmax(X_test_nmf, axis=1)\n",
        "\n",
        "plot_confusion_matrix(test_dataset.target, dominant_topics)\n",
        "estimate_clustering_quality(test_dataset.target, dominant_topics)"
      ],
      "execution_count": 0,
      "outputs": [
        {
          "output_type": "execute_result",
          "data": {
            "text/plain": [
              "0.8544065584386744"
            ]
          },
          "metadata": {
            "tags": []
          },
          "execution_count": 140
        },
        {
          "output_type": "display_data",
          "data": {
            "image/png": "[encoded data removed]",
            "text/plain": [
              "<Figure size 432x288 with 1 Axes>"
            ]
          },
          "metadata": {
            "tags": []
          }
        }
      ]
    },
    {
      "cell_type": "markdown",
      "metadata": {
        "id": "MwEJeKJ4oKRW",
        "colab_type": "text"
      },
      "source": [
        "<!--@slideshow slide-->\n",
        "## Colab quiz 3\n",
        "\n",
        "Choose the correct NMF"
      ]
    },
    {
      "cell_type": "code",
      "metadata": {
        "id": "6YRryeTrjbtD",
        "colab_type": "code",
        "outputId": "858d7045-1ed0-42ee-d920-960e854b946b",
        "colab": {
          "base_uri": "https://localhost:8080/",
          "height": 461,
          "referenced_widgets": [
            "713d0431375b4ef78170088231db039a",
            "81f1a09e4caf43db9374b7e7864fa276",
            "effc7c35739540fc92ab46fc226d5402",
            "508e17398a9049e1bfa5d5be4102be57",
            "293e47323e5f46c586d44c9b3f6ee8fb",
            "2fa88ab09287431d8f87f0ea12fbc562",
            "26933392016e4784a08866d645c84a8c",
            "9f4e05450fe34e32a28793c76e9bbd59",
            "87dd37e03cb440bfb2475558a625d31d",
            "637f0c758c96478e9ba842c54f1fae8a",
            "5bd5918e9c7c41d5b398d13aee69f403",
            "ee04de73cd1d4ecaba59fa7f8c7de94f",
            "973988dbd4ef42a7bbbee4805a435f11",
            "5a3c81c38c4744aaa09c7950fa295b71",
            "0d70a2b2b391439d9c9ee8fccead5243",
            "deec99f401fe43a19d43e4aaaead5355"
          ]
        }
      },
      "source": [
        "enable_mathjax_in_cell()\n",
        "quiz_nmf()()"
      ],
      "execution_count": 0,
      "outputs": [
        {
          "output_type": "display_data",
          "data": {
            "text/html": [
              "\n",
              "        <script src=\"https://www.gstatic.com/external_hosted/mathjax/latest/MathJax.js?config=TeX-AMS_HTML-full,Safe&delayStartupUntil=configured\"></script>\n",
              "        <script>\n",
              "            (() => {\n",
              "            const mathjax = window.MathJax;\n",
              "            mathjax.Hub.Config({\n",
              "            'tex2jax': {\n",
              "                'inlineMath': [['$', '$'], ['\\(', '\\)']],\n",
              "                'displayMath': [['$$', '$$'], ['\\[', '\\]']],\n",
              "                'processEscapes': true,\n",
              "                'processEnvironments': true,\n",
              "                'skipTags': ['script', 'noscript', 'style', 'textarea', 'code'],\n",
              "                'displayAlign': 'center',\n",
              "            },\n",
              "            'HTML-CSS': {\n",
              "                'styles': {'.MathJax_Display': {'margin': 0}},\n",
              "                'linebreaks': {'automatic': true},\n",
              "                // Disable to prevent OTF font loading, which aren't part of our\n",
              "                // distribution.\n",
              "                'imageFont': null,\n",
              "            },\n",
              "            'messageStyle': 'none'\n",
              "            });\n",
              "            mathjax.Hub.Configured();\n",
              "        })();\n",
              "        </script>\n",
              "        "
            ],
            "text/plain": [
              "<IPython.core.display.HTML object>"
            ]
          },
          "metadata": {
            "tags": []
          }
        },
        {
          "output_type": "display_data",
          "data": {
            "application/vnd.jupyter.widget-view+json": {
              "model_id": "713d0431375b4ef78170088231db039a",
              "version_minor": 0,
              "version_major": 2
            },
            "text/plain": [
              "VBox(children=(Output(), RadioButtons(options=('option 1', 'option 2', 'option 3', 'option 4'), value='option …"
            ]
          },
          "metadata": {
            "tags": []
          }
        }
      ]
    },
    {
      "cell_type": "markdown",
      "metadata": {
        "id": "UcLla_nZYA_8",
        "colab_type": "text"
      },
      "source": [
        "<!--@slideshow slide-->\n",
        "# Coding session 2\n",
        "\n",
        "Apply `NMF` on tf-idf vectors of the dataset `harbour-space-text-mining-course/datasets/content_classification.csv`.\n",
        "The dataset has 7 categories: leisure, affection, bonding, enjoy_the_moment, achievement, nature, exercise. Can you find the cluster that corresponds to the category \"achievement\"?\n",
        "\n",
        "**Hints**:\n",
        "- Use parameters `n_components=7`, `solver=\"cd\"`, `init=\"random\"`, `random_state=0` for `NMF`\n",
        "- Use the function `show_vectorizer_largest_components` to see the words corresponding to the largest components."
      ]
    },
    {
      "cell_type": "code",
      "metadata": {
        "id": "fnbGb0QjYDFW",
        "colab_type": "code",
        "colab": {}
      },
      "source": [
        "import pandas as pd\n",
        "from sklearn.feature_extraction.text import TfidfVectorizer\n",
        "from sklearn.decomposition import NMF\n",
        "\n",
        "df = pd.read_csv(\"harbour-space-text-mining-course/datasets/content_classification.csv\", header=0, names=[\"text\", \"label\"])\n",
        "\n",
        "# YOUR CODE HERE"
      ],
      "execution_count": 0,
      "outputs": []
    },
    {
      "cell_type": "markdown",
      "metadata": {
        "id": "yFXHCW-QNKZ8",
        "colab_type": "text"
      },
      "source": [
        "<!--@slideshow slide-->\n",
        "# Probability refresher\n"
      ]
    },
    {
      "cell_type": "markdown",
      "metadata": {
        "id": "DknXRbwGoiTv",
        "colab_type": "text"
      },
      "source": [
        "<!--@slideshow slide-->\n",
        "## Law of total probability\n",
        "\n",
        "![alt text](https://raw.githubusercontent.com/horoshenkih/harbour-space-text-mining-course/master/pic/total-probability.png)\n",
        "\n",
        "$$\n",
        "\\Pr(B) =  \\sum\\limits_{i=1}^N\\Pr(A_i \\cap B) = \\sum\\limits_{i=1}^N\\Pr(B|A_i) \\Pr(A_i)\n",
        "$$\n"
      ]
    },
    {
      "cell_type": "markdown",
      "metadata": {
        "id": "anX_eoOJokdg",
        "colab_type": "text"
      },
      "source": [
        "<!--@slideshow slide-->\n",
        "## Conditional independency\n",
        "\n",
        "By definition, $B$ is independent of $A$ if\n",
        "$$\\Pr(B|A) = \\Pr(A) \\Leftrightarrow \\Pr(AB) = \\Pr(A) \\Pr(B)$$"
      ]
    },
    {
      "cell_type": "markdown",
      "metadata": {
        "id": "ZOXpUJ65iKcd",
        "colab_type": "text"
      },
      "source": [
        "<!--@slideshow slide-->\n",
        "# Version of NMF: Probabilistic Latent Semantic Allocation (PLSA)."
      ]
    },
    {
      "cell_type": "markdown",
      "metadata": {
        "id": "ovMbAD8dNItz",
        "colab_type": "text"
      },
      "source": [
        "<!--@slideshow slide-->\n",
        "Now we know that NMF works. But how to interpret it?"
      ]
    },
    {
      "cell_type": "markdown",
      "metadata": {
        "id": "7NoWVWTZzj2p",
        "colab_type": "text"
      },
      "source": [
        "<!--@slideshow fragment-->\n",
        "Suppose we have the matrix of conditional probabilities $P = \\lbrace\\Pr(w_j|d_i)\\rbrace_{ij}$\n",
        "  - First, compute the matrix of term frequencies (using `CountVectorizer`)\n",
        "  - Then, normalize rows: $\\Pr(w_j|d_i) = \\dfrac{\\mathrm{TF}(w_j, d_i)}{\\sum\\limits_w\\mathrm{TF}(w, d_i)}$, where $\\mathrm{TF}$ is term frequency."
      ]
    },
    {
      "cell_type": "markdown",
      "metadata": {
        "id": "7K2YtRYh1JAS",
        "colab_type": "text"
      },
      "source": [
        "<!--@slideshow fragment-->\n",
        "Apply the law of total probability: \n",
        "$$\\Pr(w|d) = \\sum_t\\limits\\Pr(w|t,d)\\Pr(t|d)$$"
      ]
    },
    {
      "cell_type": "markdown",
      "metadata": {
        "id": "z3BOGvdY1XnV",
        "colab_type": "text"
      },
      "source": [
        "<!--@slideshow slide-->\n",
        "**Assumption**:\n",
        "$$\\Pr(w|t,d) = \\Pr(w|t)$$\n",
        "> Suppose that the document $d$ has topic $t$. Then the probability to find the word $w$ in the document $d$ for the given $t$ does not depend on the document!"
      ]
    },
    {
      "cell_type": "markdown",
      "metadata": {
        "id": "qi62aIXX1hF1",
        "colab_type": "text"
      },
      "source": [
        "<!--@slideshow slide-->\n",
        "So we have $$\\Pr(w|d) = \\sum_t\\limits\\Pr(t|d)\\Pr(w|t)$$\n"
      ]
    },
    {
      "cell_type": "markdown",
      "metadata": {
        "id": "WdoW7KL712KH",
        "colab_type": "text"
      },
      "source": [
        "<!--@slideshow fragment-->\n",
        "Denote $$\\Theta = \\lbrace \\Pr(t_k|d_i) \\rbrace_{ik}, \\Phi = \\lbrace \\Pr(w_j|t_k) \\rbrace_{kj}$$"
      ]
    },
    {
      "cell_type": "markdown",
      "metadata": {
        "id": "9s4YNsvq13-9",
        "colab_type": "text"
      },
      "source": [
        "<!--@slideshow fragment-->\n",
        "We can write $P = \\Theta\\Phi$\n",
        "> $P_{ij} = \\Pr(w_j|d_i) = \\sum\\limits_t \\Pr(t_k|d_i) \\Pr(w_j|t_k) = \\sum\\limits_t \\Theta_{ik} \\Phi_{kj} = (\\Theta \\Phi)_{ij}$"
      ]
    },
    {
      "cell_type": "markdown",
      "metadata": {
        "id": "6ti5OkT5NhvN",
        "colab_type": "text"
      },
      "source": [
        "<!--@slideshow slide-->\n",
        "# PLSA algorithm\n",
        "How do we find $\\Theta$ and $\\Phi$?\n",
        "\n",
        "Apply Expextation-Maximization algorithm similar to $k$-means.\n"
      ]
    },
    {
      "cell_type": "markdown",
      "metadata": {
        "id": "RuKFPe4f2G63",
        "colab_type": "text"
      },
      "source": [
        "<!--@slideshow slide-->\n",
        "## Expectation step\n",
        "$$H_{dwt} =\\Pr(t | d w) = \\dfrac{\\Pr(w|t) \\Pr(t|d)}{\\Pr(w|d)} = \\dfrac{\\Phi_{tw} \\Theta_{dt}}{\\sum\\limits_s \\Phi_{sw} \\Theta_{ds}}$$"
      ]
    },
    {
      "cell_type": "markdown",
      "metadata": {
        "id": "80VGkxD52YLE",
        "colab_type": "text"
      },
      "source": [
        "<!--@slideshow slide-->\n",
        "## Maximization step\n",
        "\n",
        "How many times the word $w$ in document $d$ belongs to the topic $t$: $$\\hat{n}_{dwt} = \\mathrm{TF}(w, d) \\cdot H_{dwt}$$ ($\\mathrm{TF}$ is term frequency).\n",
        "\n",
        "\n",
        "\n"
      ]
    },
    {
      "cell_type": "markdown",
      "metadata": {
        "id": "xN8-25AI3I1x",
        "colab_type": "text"
      },
      "source": [
        "<!--@slideshow fragment-->\n",
        "Using $\\hat{n}_{dwt}$, we can compute new approximations for $\\Theta$ and $\\Phi$."
      ]
    },
    {
      "cell_type": "markdown",
      "metadata": {
        "id": "xO7OH3VT3IS-",
        "colab_type": "text"
      },
      "source": [
        "<!--@slideshow slide-->\n",
        "  - New approximations for $\\Theta$:\n",
        "    - $\\hat{n}_{dt} = \\sum\\limits_w \\hat{n}_{dwt}$\n",
        "    - $\\hat{n}_{d} = \\sum\\limits_t \\hat{n}_{dt}$\n",
        "    - $\\Theta_{dt} = \\dfrac{\\hat{n}_{dt}}{\\hat{n}_{d}}$"
      ]
    },
    {
      "cell_type": "markdown",
      "metadata": {
        "id": "OzvHQMiv3BOy",
        "colab_type": "text"
      },
      "source": [
        "<!--@slideshow fragment-->\n",
        "  - New approximations for $\\Phi$:\n",
        "    - $\\hat{n}_{wt} = \\sum\\limits_d \\hat{n}_{dwt}$\n",
        "    - $\\hat{n}_{t} = \\sum\\limits_w \\hat{n}_{wt}$\n",
        "    - $\\Phi_{tw} = \\dfrac{\\hat{n}_{wt}}{\\hat{n}_{t}}$"
      ]
    },
    {
      "cell_type": "markdown",
      "metadata": {
        "id": "tRKiOHD729_F",
        "colab_type": "text"
      },
      "source": [
        "<!--@slideshow slide-->\n",
        "As usual, we may add something to numerators and denominators to smooth probability estimations:\n",
        "\n",
        "$$\\Theta_{dt} = \\dfrac{\\hat{n}_{dt} \\color{red}{+ \\alpha_t}}{\\hat{n}_{d}\\color{red}{+ \\alpha_0}}, \\Phi_{tw} = \\dfrac{\\hat{n}_{wt} \\color{red}{+ \\beta_w}}{\\hat{n}_{t}\\color{red}{+ \\beta_0}}$$\n",
        "\n",
        "This version is called LDA (Latent Dirichlet Allocation)"
      ]
    },
    {
      "cell_type": "markdown",
      "metadata": {
        "id": "VCK3igBhye8e",
        "colab_type": "text"
      },
      "source": [
        "<!--@slideshow slide-->\n",
        "## Colab demo: PLSA implementation"
      ]
    },
    {
      "cell_type": "code",
      "metadata": {
        "id": "jUlpQthDiN3P",
        "colab_type": "code",
        "colab": {}
      },
      "source": [
        "import numpy as np\n",
        "import scipy.sparse\n",
        "\n",
        "def plsa_decomposition(\n",
        "    X, n_topics, n_iterations=10,\n",
        "    alpha_t=0, alpha_0=0, beta_w=0, beta_0=0,\n",
        "    phi=None, theta=None, update_phi=True,\n",
        "    random_state=0\n",
        "):\n",
        "    \"\"\"\n",
        "    param X: (document, word) matrix with word counts\n",
        "             (the output of CountVectorizer)\n",
        "    return: (theta, phi) such that theta * phi ≈ X\n",
        "    \"\"\"\n",
        "    n_documents, n_words = X.shape\n",
        "\n",
        "    # theta is the matrix of topics for documents\n",
        "    theta_shape = (n_documents, n_topics)\n",
        "    np.random.seed(random_state)\n",
        "    if theta is None:\n",
        "        # initialize theta with random normalized rows\n",
        "        theta = np.random.random(theta_shape)\n",
        "        theta /= np.sum(theta, axis=1)[:, None]  # normalize rows\n",
        "    else:\n",
        "        assert theta.shape == theta_shape, \"theta has wrong shape, expected {}, got {}\".format(\n",
        "            theta_shape, theta.shape)\n",
        "\n",
        "    # phi is the matrix of topics for words\n",
        "    phi_shape = (n_topics, n_words)\n",
        "    if phi is None:\n",
        "        # initialize phi with random normalized columns\n",
        "        phi = np.random.random(phi_shape)\n",
        "        phi /= np.sum(phi, axis=0)\n",
        "    else:\n",
        "        assert phi.shape == phi_shape, \"phi has wrong shape, expected {}, got {}\".format(\n",
        "                    phi_shape, phi.shape)\n",
        "\n",
        "    # iterate over nonzero items of the input matrix\n",
        "    D, W, word_counts = scipy.sparse.find(X)\n",
        "    # in this implementation, the number of iterations is fixed\n",
        "    # an alternative way is to iterate until convergence of theta and phi\n",
        "    for _ in tqdm(range(n_iterations), desc=\"iterations\"):\n",
        "        # initialize \"n-hat\" variables\n",
        "        n_hat_td = np.zeros(theta.shape)\n",
        "        n_hat_wt = np.zeros(phi.shape)\n",
        "        n_hat_t = np.zeros(n_topics)\n",
        "        n_hat_d = np.zeros(n_documents)\n",
        "\n",
        "        # calculate all the normalization factors with one matrix multiplication\n",
        "        # Z[d, t] = \\sum_{t} theta_[d, t] * phi_[t, w]\n",
        "        Z = theta @ phi\n",
        "\n",
        "        for d, w, word_count in zip(D, W, word_counts):\n",
        "            for t in range(n_topics):\n",
        "                delta = word_count * theta[d, t] * phi[t, w] / Z[d, w]\n",
        "                n_hat_td[d, t] += delta\n",
        "                n_hat_wt[t, w] += delta\n",
        "                n_hat_t[t] += delta\n",
        "                n_hat_d[d] += delta\n",
        "\n",
        "        # update\n",
        "        # broadcasting: (n_doculents, n_topics) / (n_documents,)\n",
        "        theta = (n_hat_td + alpha_t) / (n_hat_d[:, None] + alpha_0)\n",
        "        if update_phi:\n",
        "            # broadcasting: (n_topics, n_words) / (n_topics,)\n",
        "            phi = (n_hat_wt + beta_w) / (n_hat_t[:, None] + beta_0)\n",
        "\n",
        "    return theta, phi\n",
        "\n",
        "\n",
        "from sklearn.base import BaseEstimator\n",
        "\n",
        "class PLSA(BaseEstimator):\n",
        "    def __init__(\n",
        "        self, n_topics=10, n_iterations=10,\n",
        "        alpha_t=0, alpha_0=0, beta_w=0, beta_0=0,\n",
        "        random_state=0\n",
        "    ):\n",
        "        self.n_topics = n_topics\n",
        "        self.n_iterations = n_iterations\n",
        "        self.alpha_t = alpha_t\n",
        "        self.alpha_0 = alpha_0\n",
        "        self.beta_w = beta_w\n",
        "        self.beta_0 = beta_0\n",
        "        self.random_state = random_state\n",
        "    \n",
        "    def fit_transform(self, X, y=None):\n",
        "        theta, phi = plsa_decomposition(\n",
        "            X, n_topics=self.n_topics, n_iterations=self.n_iterations,\n",
        "            alpha_t=self.alpha_t, alpha_0=self.alpha_0, beta_w=self.beta_w, beta_0=self.beta_0,\n",
        "            random_state=self.random_state\n",
        "        )\n",
        "        self.components_ = phi\n",
        "        return theta\n",
        "    \n",
        "    def transform(self, X):\n",
        "        theta, _ = plsa_decomposition(\n",
        "            X, n_topics=self.n_topics, n_iterations=self.n_iterations,\n",
        "            update_phi=False,  # do not update the word topic matrix\n",
        "            phi=self.components_,  # use the matrix obtained in the preceeding `fit_transform`\n",
        "            alpha_t=self.alpha_t, alpha_0=self.alpha_0, beta_w=self.beta_w, beta_0=self.beta_0,\n",
        "            random_state=self.random_state\n",
        "        )\n",
        "        return theta\n"
      ],
      "execution_count": 0,
      "outputs": []
    },
    {
      "cell_type": "code",
      "metadata": {
        "id": "XmQNAw3it1Y-",
        "colab_type": "code",
        "colab": {}
      },
      "source": [
        "from sklearn.feature_extraction.text import CountVectorizer\n",
        "trf = CountVectorizer(stop_words=\"english\")\n",
        "trf.fit(train_dataset.data)\n",
        "X_train = trf.transform(train_dataset.data)\n",
        "X_test = trf.transform(test_dataset.data)"
      ],
      "execution_count": 0,
      "outputs": []
    },
    {
      "cell_type": "markdown",
      "metadata": {
        "id": "Q1Lji6hWSK2y",
        "colab_type": "text"
      },
      "source": [
        "Without smoothing (PLSA)"
      ]
    },
    {
      "cell_type": "code",
      "metadata": {
        "id": "BCKHcM8fuKw2",
        "colab_type": "code",
        "outputId": "e44d795a-ff45-4292-dd44-c3a7749758c2",
        "colab": {
          "base_uri": "https://localhost:8080/",
          "height": 152,
          "referenced_widgets": [
            "aa5361be46a34a08bd33a81d220fa51b",
            "f7492635cfbf40bdb678122f747c48f5",
            "54826c1e509d4788a5955aa12e6bb652",
            "a32b0936a4f14686afb08f89df8dc9aa",
            "e33091d3641f4eeab51d27316796fe00",
            "37a71bd8f48d457a8d50edbf9e5beb06",
            "59ff1e9dc4964864a8e2645ed534fa8d",
            "02d0caa4590c4d7ba29400d7f1ee7438",
            "203e4850833549ee9631e70c67c01624",
            "9cd8ec9d6ade4645bb54769c35f94fbd",
            "9d32643f125d47ba85422a03a4b08927",
            "03da9f5793a24363a49ee532963e46e2",
            "869844ae9b7040acb5482e80fbfd0b0a",
            "c55fb2587b2d4ad5b86b8edff9f37032",
            "f03097d97eeb43f1bfa38c5a4e024400",
            "b0ddf99cd6f84723b6e7629764a22448"
          ]
        }
      },
      "source": [
        "plsa = PLSA(n_topics=3, n_iterations=30)\n",
        "X_train_plsa = plsa.fit_transform(X_train)\n",
        "X_test_plsa = plsa.transform(X_test)"
      ],
      "execution_count": 0,
      "outputs": [
        {
          "output_type": "display_data",
          "data": {
            "application/vnd.jupyter.widget-view+json": {
              "model_id": "aa5361be46a34a08bd33a81d220fa51b",
              "version_minor": 0,
              "version_major": 2
            },
            "text/plain": [
              "HBox(children=(FloatProgress(value=0.0, description='iterations', max=30.0, style=ProgressStyle(description_wi…"
            ]
          },
          "metadata": {
            "tags": []
          }
        },
        {
          "output_type": "stream",
          "text": [
            "/usr/local/lib/python3.6/dist-packages/ipykernel_launcher.py:63: RuntimeWarning: invalid value encountered in true_divide\n"
          ],
          "name": "stderr"
        },
        {
          "output_type": "stream",
          "text": [
            "\n"
          ],
          "name": "stdout"
        },
        {
          "output_type": "display_data",
          "data": {
            "application/vnd.jupyter.widget-view+json": {
              "model_id": "203e4850833549ee9631e70c67c01624",
              "version_minor": 0,
              "version_major": 2
            },
            "text/plain": [
              "HBox(children=(FloatProgress(value=0.0, description='iterations', max=30.0, style=ProgressStyle(description_wi…"
            ]
          },
          "metadata": {
            "tags": []
          }
        },
        {
          "output_type": "stream",
          "text": [
            "\n"
          ],
          "name": "stdout"
        }
      ]
    },
    {
      "cell_type": "code",
      "metadata": {
        "id": "cao1vf8_xyap",
        "colab_type": "code",
        "outputId": "7cfd72c0-6bc7-4eaf-f878-41314a1afd80",
        "colab": {
          "base_uri": "https://localhost:8080/",
          "height": 153
        }
      },
      "source": [
        "show_vectorizer_largest_components(trf, plsa.components_)"
      ],
      "execution_count": 0,
      "outputs": [
        {
          "output_type": "stream",
          "text": [
            "['gif', 'mail', 'information', 'does', 'space', 'know', 'like', 'program',\n",
            " 'files', 'ftp', 'images', 'jpeg', 'available', 'file', 'use', 'software',\n",
            " 'data', 'graphics', 'edu', 'image']\n",
            "['data', 'program', 'spacecraft', 'people', 'new', 'mission', 'years', 'like',\n",
            " 'time', 'moon', 'year', 'just', 'shuttle', 'lunar', 'satellite', 'orbit',\n",
            " 'earth', 'nasa', 'launch', 'space']\n",
            "['17', 'nhl', '13', '20', '18', 'period', '15', '14', 'games', '16', '25', '12',\n",
            " 'season', '11', '55', 'play', 'hockey', '10', 'game', 'team']\n"
          ],
          "name": "stdout"
        }
      ]
    },
    {
      "cell_type": "code",
      "metadata": {
        "id": "GBjT9fmiyT6b",
        "colab_type": "code",
        "outputId": "3fb9026c-4c89-43c4-f8b0-877d03f45007",
        "colab": {
          "base_uri": "https://localhost:8080/",
          "height": 302
        }
      },
      "source": [
        "dominant_topics = np.argmax(X_test_plsa, axis=1)\n",
        "\n",
        "plot_confusion_matrix(test_dataset.target, dominant_topics)\n",
        "# 100 iterations give the quality 0.8785407989730233\n",
        "estimate_clustering_quality(test_dataset.target, dominant_topics)"
      ],
      "execution_count": 0,
      "outputs": [
        {
          "output_type": "execute_result",
          "data": {
            "text/plain": [
              "0.8609426466142576"
            ]
          },
          "metadata": {
            "tags": []
          },
          "execution_count": 10
        },
        {
          "output_type": "display_data",
          "data": {
            "image/png": "[encoded data removed]",
            "text/plain": [
              "<Figure size 432x288 with 1 Axes>"
            ]
          },
          "metadata": {
            "tags": []
          }
        }
      ]
    },
    {
      "cell_type": "markdown",
      "metadata": {
        "id": "PdjiQxwciH-u",
        "colab_type": "text"
      },
      "source": [
        "With smoothing (LDA)"
      ]
    },
    {
      "cell_type": "code",
      "metadata": {
        "id": "-SWd3ObnvMya",
        "colab_type": "code",
        "outputId": "dedeb468-982b-46dd-8eab-ca2fa05bf76a",
        "colab": {
          "base_uri": "https://localhost:8080/",
          "height": 115,
          "referenced_widgets": [
            "b337fb5bce164b5189d14906aaa45ccb",
            "6ffd11fab7d24041a02451fb6c0d305b",
            "58e03c7021c34c938afa367f48b0e64c",
            "cf7bf8f76fc64643bca72801505609d9",
            "99f6e7633bcf48bf8eb9428969075f67",
            "25d2bdc04b8a42bbbc5f8f8d11d9466b",
            "079ba60d96af4c13ac75f108978a1ed5",
            "b655561b60134ad8bf3df4a9f8af4ca8",
            "67fa20638fd64a9faa69c49059f1c680",
            "6e805d9fe80c47719fb93591f056dae3",
            "d14d60a4d3854e25bff4605ef28865dd",
            "f7c22a1a1403449980cd5a8d4b7b40c0",
            "559da70babc74615a9604cb90f1af1a1",
            "8dc87a6eec104043952f5fb4caf67e53",
            "f6f0e3f9d7c24d7aa2d2020fd8ed211c",
            "d76a30189b5844da8c917c2426217dd3"
          ]
        }
      },
      "source": [
        "lda = PLSA(\n",
        "    n_topics=3, n_iterations=30,\n",
        "    alpha_t=0.1/3, alpha_0=0.1, beta_w=0.1/len(trf.vocabulary_), beta_0=0.1\n",
        ")\n",
        "X_train_lda = lda.fit_transform(X_train)\n",
        "X_test_lda = lda.transform(X_test)"
      ],
      "execution_count": 0,
      "outputs": [
        {
          "output_type": "display_data",
          "data": {
            "application/vnd.jupyter.widget-view+json": {
              "model_id": "b337fb5bce164b5189d14906aaa45ccb",
              "version_minor": 0,
              "version_major": 2
            },
            "text/plain": [
              "HBox(children=(FloatProgress(value=0.0, description='iterations', max=30.0, style=ProgressStyle(description_wi…"
            ]
          },
          "metadata": {
            "tags": []
          }
        },
        {
          "output_type": "stream",
          "text": [
            "\n"
          ],
          "name": "stdout"
        },
        {
          "output_type": "display_data",
          "data": {
            "application/vnd.jupyter.widget-view+json": {
              "model_id": "67fa20638fd64a9faa69c49059f1c680",
              "version_minor": 0,
              "version_major": 2
            },
            "text/plain": [
              "HBox(children=(FloatProgress(value=0.0, description='iterations', max=30.0, style=ProgressStyle(description_wi…"
            ]
          },
          "metadata": {
            "tags": []
          }
        },
        {
          "output_type": "stream",
          "text": [
            "\n"
          ],
          "name": "stdout"
        }
      ]
    },
    {
      "cell_type": "code",
      "metadata": {
        "id": "ffdRH8z1wrsD",
        "colab_type": "code",
        "outputId": "5df2e19c-599e-48e8-9303-94aa91f25d25",
        "colab": {
          "base_uri": "https://localhost:8080/",
          "height": 153
        }
      },
      "source": [
        "show_vectorizer_largest_components(trf, lda.components_)"
      ],
      "execution_count": 0,
      "outputs": [
        {
          "output_type": "stream",
          "text": [
            "['gif', 'mail', 'information', 'does', 'space', 'know', 'like', 'program',\n",
            " 'files', 'ftp', 'images', 'jpeg', 'available', 'file', 'use', 'software',\n",
            " 'data', 'graphics', 'edu', 'image']\n",
            "['data', 'program', 'spacecraft', 'people', 'new', 'mission', 'years', 'like',\n",
            " 'time', 'moon', 'year', 'just', 'shuttle', 'lunar', 'satellite', 'orbit',\n",
            " 'earth', 'nasa', 'launch', 'space']\n",
            "['17', 'nhl', '13', '20', '18', 'period', '15', '14', 'games', '16', '25', '12',\n",
            " 'season', '11', '55', 'play', 'hockey', '10', 'game', 'team']\n"
          ],
          "name": "stdout"
        }
      ]
    },
    {
      "cell_type": "code",
      "metadata": {
        "id": "iSudf5_gwwN9",
        "colab_type": "code",
        "outputId": "da1ba5fd-8642-4f69-c2a3-b5c890b4e913",
        "colab": {
          "base_uri": "https://localhost:8080/",
          "height": 302
        }
      },
      "source": [
        "dominant_topics = np.argmax(X_test_lda, axis=1)\n",
        "\n",
        "plot_confusion_matrix(test_dataset.target, dominant_topics)\n",
        "# 100 iterations give the quality 0.8821097151600854\n",
        "estimate_clustering_quality(test_dataset.target, dominant_topics)"
      ],
      "execution_count": 0,
      "outputs": [
        {
          "output_type": "execute_result",
          "data": {
            "text/plain": [
              "0.8635129539765979"
            ]
          },
          "metadata": {
            "tags": []
          },
          "execution_count": 13
        },
        {
          "output_type": "display_data",
          "data": {
            "image/png": "[encoded data removed]",
            "text/plain": [
              "<Figure size 432x288 with 1 Axes>"
            ]
          },
          "metadata": {
            "tags": []
          }
        }
      ]
    },
    {
      "cell_type": "markdown",
      "metadata": {
        "id": "au3kf1StFP0u",
        "colab_type": "text"
      },
      "source": [
        "<!--@slideshow slide-->\n",
        "# Colab demo: gensim\n",
        "\n",
        "`gensim` is a Python library that implements LDA algorithm."
      ]
    },
    {
      "cell_type": "code",
      "metadata": {
        "id": "1xYtiyt9QDzZ",
        "colab_type": "code",
        "outputId": "b8a24196-8885-4d7d-bc0f-e298e6caf003",
        "colab": {
          "base_uri": "https://localhost:8080/",
          "height": 214
        }
      },
      "source": [
        "import spacy\n",
        "\n",
        "# to work with gensim we need to convert data into representable form\n",
        "# hence we need to tokenize text separately\n",
        "# extract tokens (lemmas) with spaCy\n",
        "# we are interested in interpretable topics, so keep only nouns, adjectives, verbs and adverbs\n",
        "nlp = spacy.load(\"en\", disable=['parser', 'ner'])\n",
        "def tokens(s):\n",
        "    return [t.lemma_ for t in nlp(s) if t.pos_ in ['NOUN', 'ADJ', 'VERB', 'ADV']]\n",
        "\n",
        "train_documents = [tokens(t) for t in tqdm(train_dataset.data, desc=\"tokenize\")] # list of lists\n",
        "print(train_documents[0])"
      ],
      "execution_count": 0,
      "outputs": [
        {
          "output_type": "error",
          "ename": "NameError",
          "evalue": "ignored",
          "traceback": [
            "\u001b[0;31m---------------------------------------------------------------------------\u001b[0m",
            "\u001b[0;31mNameError\u001b[0m                                 Traceback (most recent call last)",
            "\u001b[0;32m<ipython-input-6-ca84a04ed807>\u001b[0m in \u001b[0;36m<module>\u001b[0;34m()\u001b[0m\n\u001b[1;32m      9\u001b[0m     \u001b[0;32mreturn\u001b[0m \u001b[0;34m[\u001b[0m\u001b[0mt\u001b[0m\u001b[0;34m.\u001b[0m\u001b[0mlemma_\u001b[0m \u001b[0;32mfor\u001b[0m \u001b[0mt\u001b[0m \u001b[0;32min\u001b[0m \u001b[0mnlp\u001b[0m\u001b[0;34m(\u001b[0m\u001b[0ms\u001b[0m\u001b[0;34m)\u001b[0m \u001b[0;32mif\u001b[0m \u001b[0mt\u001b[0m\u001b[0;34m.\u001b[0m\u001b[0mpos_\u001b[0m \u001b[0;32min\u001b[0m \u001b[0;34m[\u001b[0m\u001b[0;34m'NOUN'\u001b[0m\u001b[0;34m,\u001b[0m \u001b[0;34m'ADJ'\u001b[0m\u001b[0;34m,\u001b[0m \u001b[0;34m'VERB'\u001b[0m\u001b[0;34m,\u001b[0m \u001b[0;34m'ADV'\u001b[0m\u001b[0;34m]\u001b[0m\u001b[0;34m]\u001b[0m\u001b[0;34m\u001b[0m\u001b[0;34m\u001b[0m\u001b[0m\n\u001b[1;32m     10\u001b[0m \u001b[0;34m\u001b[0m\u001b[0m\n\u001b[0;32m---> 11\u001b[0;31m \u001b[0mtrain_documents\u001b[0m \u001b[0;34m=\u001b[0m \u001b[0;34m[\u001b[0m\u001b[0mtokens\u001b[0m\u001b[0;34m(\u001b[0m\u001b[0mt\u001b[0m\u001b[0;34m)\u001b[0m \u001b[0;32mfor\u001b[0m \u001b[0mt\u001b[0m \u001b[0;32min\u001b[0m \u001b[0mtqdm\u001b[0m\u001b[0;34m(\u001b[0m\u001b[0mtrain_dataset\u001b[0m\u001b[0;34m.\u001b[0m\u001b[0mdata\u001b[0m\u001b[0;34m,\u001b[0m \u001b[0mdesc\u001b[0m\u001b[0;34m=\u001b[0m\u001b[0;34m\"tokenize\"\u001b[0m\u001b[0;34m)\u001b[0m\u001b[0;34m]\u001b[0m \u001b[0;31m# list of lists\u001b[0m\u001b[0;34m\u001b[0m\u001b[0;34m\u001b[0m\u001b[0m\n\u001b[0m\u001b[1;32m     12\u001b[0m \u001b[0mprint\u001b[0m\u001b[0;34m(\u001b[0m\u001b[0mtrain_documents\u001b[0m\u001b[0;34m[\u001b[0m\u001b[0;36m0\u001b[0m\u001b[0;34m]\u001b[0m\u001b[0;34m)\u001b[0m\u001b[0;34m\u001b[0m\u001b[0;34m\u001b[0m\u001b[0m\n",
            "\u001b[0;31mNameError\u001b[0m: name 'train_dataset' is not defined"
          ]
        }
      ]
    },
    {
      "cell_type": "code",
      "metadata": {
        "id": "JNUxR1OlTEbv",
        "colab_type": "code",
        "outputId": "01315c3a-db26-498b-bf20-4ef544e4e094",
        "colab": {
          "base_uri": "https://localhost:8080/",
          "height": 34
        }
      },
      "source": [
        "# Remove rare and common tokens.\n",
        "from gensim.corpora import Dictionary\n",
        "\n",
        "# Create a dictionary representation of the documents.\n",
        "dictionary = Dictionary(train_documents) # accepts list of lists\n",
        "\n",
        "# Filter out words that occur less than in 5 documents, or more than in 50% of the documents.\n",
        "dictionary.filter_extremes(no_below=5, no_above=0.5)\n",
        "print(\"dictionary word with index 10:\", dictionary[10])"
      ],
      "execution_count": 0,
      "outputs": [
        {
          "output_type": "stream",
          "text": [
            "dictionary word with index 10: hardware\n"
          ],
          "name": "stdout"
        }
      ]
    },
    {
      "cell_type": "code",
      "metadata": {
        "id": "onUWLnV9T6j8",
        "colab_type": "code",
        "outputId": "466d9161-a127-4eef-fd23-d9038cd5c230",
        "colab": {
          "base_uri": "https://localhost:8080/",
          "height": 88
        }
      },
      "source": [
        "# Convert tokenized documents into bag-of-words (BOW) representation: (word index, word count)\n",
        "corpus = [dictionary.doc2bow(doc) for doc in train_documents]\n",
        "print(\"Example of BOW representation:\", corpus[0])\n",
        "print('Number of unique tokens:', len(dictionary))\n",
        "print('Number of documents:', len(corpus))"
      ],
      "execution_count": 0,
      "outputs": [
        {
          "output_type": "stream",
          "text": [
            "Example of BOW representation: [(0, 1), (1, 1), (2, 1), (3, 1), (4, 1), (5, 1), (6, 3), (7, 1), (8, 3), (9, 1), (10, 1), (11, 1), (12, 1), (13, 2), (14, 1), (15, 1), (16, 1), (17, 1), (18, 1), (19, 1), (20, 1), (21, 1), (22, 1), (23, 1), (24, 1)]\n",
            "Number of unique tokens: 2730\n",
            "Number of documents: 1777\n"
          ],
          "name": "stdout"
        }
      ]
    },
    {
      "cell_type": "code",
      "metadata": {
        "id": "kvXUUK7gUswY",
        "colab_type": "code",
        "outputId": "ec2a9608-bcd3-48bf-e438-895995171711",
        "colab": {
          "base_uri": "https://localhost:8080/",
          "height": 173
        }
      },
      "source": [
        "from gensim.models import LdaModel\n",
        "\n",
        "# train LDA model\n",
        "lda = LdaModel(\n",
        "    corpus,  # documents in BOW format\n",
        "    id2word=dictionary.id2token,  # id -> word mapping to make topics interpretable\n",
        "    num_topics=3,  # desired number of topics\n",
        "    passes=30,  # number of iterations\n",
        ")\n",
        "\n",
        "# recall what true categories are\n",
        "print(\"True categories:\", train_dataset.target_names)\n",
        "\n",
        "# look at the topics\n",
        "print(\"LDA topics:\")\n",
        "lda.print_topics()"
      ],
      "execution_count": 0,
      "outputs": [
        {
          "output_type": "stream",
          "text": [
            "True categories: ['comp.graphics', 'rec.sport.hockey', 'sci.space']\n",
            "LDA topics:\n"
          ],
          "name": "stdout"
        },
        {
          "output_type": "execute_result",
          "data": {
            "text/plain": [
              "[(0,\n",
              "  '0.017*\"game\" + 0.016*\"will\" + 0.015*\"team\" + 0.014*\"play\" + 0.011*\"would\" + 0.011*\"go\" + 0.009*\"think\" + 0.009*\"year\" + 0.008*\"player\" + 0.008*\"get\"'),\n",
              " (1,\n",
              "  '0.018*\"image\" + 0.014*\"can\" + 0.013*\"use\" + 0.013*\"file\" + 0.010*\"will\" + 0.009*\"program\" + 0.007*\"also\" + 0.007*\"available\" + 0.007*\"format\" + 0.007*\"other\"'),\n",
              " (2,\n",
              "  '0.012*\"space\" + 0.010*\"will\" + 0.009*\"launch\" + 0.009*\"would\" + 0.007*\"use\" + 0.007*\"can\" + 0.006*\"year\" + 0.006*\"satellite\" + 0.006*\"orbit\" + 0.005*\"more\"')]"
            ]
          },
          "metadata": {
            "tags": []
          },
          "execution_count": 19
        }
      ]
    },
    {
      "cell_type": "code",
      "metadata": {
        "id": "ahxJH1HJW14p",
        "colab_type": "code",
        "outputId": "3891c26a-dfbe-4073-83b7-075ea8cdeaaf",
        "colab": {
          "base_uri": "https://localhost:8080/",
          "height": 302
        }
      },
      "source": [
        "# check that topics provide good clusterization of the training data\n",
        "def get_topic(lda, doc):\n",
        "    # helper function for gensim\n",
        "    return max(lda.get_document_topics(doc), key=lambda t: t[1])[0]\n",
        "\n",
        "train_topics = [get_topic(lda, doc) for doc in corpus]\n",
        "plot_confusion_matrix(train_dataset.target, train_topics)\n",
        "estimate_clustering_quality(train_dataset.target, train_topics)\n"
      ],
      "execution_count": 0,
      "outputs": [
        {
          "output_type": "execute_result",
          "data": {
            "text/plain": [
              "0.778487125279472"
            ]
          },
          "metadata": {
            "tags": []
          },
          "execution_count": 20
        },
        {
          "output_type": "display_data",
          "data": {
            "image/png": "[encoded data removed]",
            "text/plain": [
              "<Figure size 432x288 with 1 Axes>"
            ]
          },
          "metadata": {
            "tags": []
          }
        }
      ]
    },
    {
      "cell_type": "markdown",
      "metadata": {
        "id": "6zrXOLemLKpc",
        "colab_type": "text"
      },
      "source": [
        "<!--@slideshow slide-->\n",
        "# Colab demo: pyLDAvis\n",
        "Python library for interactive topic model visualization. "
      ]
    },
    {
      "cell_type": "code",
      "metadata": {
        "id": "y5ZcyUnCtA1R",
        "colab_type": "code",
        "outputId": "0b1d788e-c65a-49b6-f077-b84f9d971bf4",
        "colab": {
          "base_uri": "https://localhost:8080/",
          "height": 85
        }
      },
      "source": [
        "!pip install -q pyldavis\n",
        "# pyldavis makes gensim spam with warnings, suppress\n",
        "import warnings\n",
        "warnings.filterwarnings('ignore')"
      ],
      "execution_count": 0,
      "outputs": [
        {
          "output_type": "stream",
          "text": [
            "\u001b[K     |████████████████████████████████| 1.6MB 2.8MB/s \n",
            "\u001b[K     |████████████████████████████████| 552kB 17.0MB/s \n",
            "\u001b[?25h  Building wheel for pyldavis (setup.py) ... \u001b[?25l\u001b[?25hdone\n",
            "  Building wheel for funcy (setup.py) ... \u001b[?25l\u001b[?25hdone\n"
          ],
          "name": "stdout"
        }
      ]
    },
    {
      "cell_type": "code",
      "metadata": {
        "id": "C2HGqzSKZeGs",
        "colab_type": "code",
        "outputId": "9cfb3d50-f4ad-4c67-ed08-70fe4c600b79",
        "colab": {
          "base_uri": "https://localhost:8080/",
          "height": 881
        }
      },
      "source": [
        "# Colab hint: View output fullscreen\n",
        "import pyLDAvis\n",
        "import pyLDAvis.gensim  # don't skip this\n",
        "\n",
        "pyLDAvis.enable_notebook()\n",
        "pyLDAvis.gensim.prepare(lda, corpus, dictionary)"
      ],
      "execution_count": 0,
      "outputs": [
        {
          "output_type": "execute_result",
          "data": {
            "text/html": [
              "\n",
              "<link rel=\"stylesheet\" type=\"text/css\" href=\"https://cdn.rawgit.com/bmabey/pyLDAvis/files/ldavis.v1.0.0.css\">\n",
              "\n",
              "\n",
              "<div id=\"ldavis_el1231401264569266405459668938\"></div>\n",
              "<script type=\"text/javascript\">\n",
              "\n",
              "var ldavis_el1231401264569266405459668938_data = {\"mdsDat\": {\"x\": [0.01746981597891977, -0.15806131600090398, 0.14059150002198426], \"y\": [-0.10913177222745854, 0.04499032608558795, 0.06414144614187076], \"topics\": [1, 2, 3], \"cluster\": [1, 1, 1], \"Freq\": [33.9824333190918, 33.18155288696289, 32.836021423339844]}, \"tinfo\": {\"Term\": [\"game\", \"image\", \"play\", \"team\", \"file\", \"space\", \"launch\", \"player\", \"season\", \"format\", \"use\", \"graphic\", \"orbit\", \"color\", \"program\", \"software\", \"period\", \"satellite\", \"goal\", \"go\", \"win\", \"year\", \"hockey\", \"available\", \"package\", \"version\", \"mail\", \"mission\", \"playoff\", \"score\", \"orbit\", \"launch\", \"spacecraft\", \"vehicle\", \"lunar\", \"solar\", \"km\", \"engine\", \"fuel\", \"atmosphere\", \"rocket\", \"energy\", \"radius\", \"military\", \"landing\", \"launcher\", \"propulsion\", \"venture\", \"funding\", \"orbiter\", \"craft\", \"velocity\", \"firm\", \"balloon\", \"liquid\", \"ozone\", \"moon\", \"astronaut\", \"flight\", \"experiment\", \"probe\", \"mission\", \"satellite\", \"payload\", \"fund\", \"shuttle\", \"sky\", \"space\", \"mass\", \"technology\", \"study\", \"plane\", \"%\", \"earth\", \"orbital\", \"activity\", \"station\", \"cost\", \"project\", \"surface\", \"build\", \"design\", \"would\", \"year\", \"will\", \"use\", \"system\", \"more\", \"large\", \"may\", \"can\", \"first\", \"time\", \"other\", \"also\", \"-\", \"could\", \"how\", \"make\", \"problem\", \"so\", \"then\", \"point\", \"work\", \"very\", \"go\", \"game\", \"season\", \"hockey\", \"playoff\", \"score\", \"puck\", \"league\", \"shot\", \"draft\", \"coach\", \"defenseman\", \"fan\", \"king\", \"goalie\", \"flyer\", \"player\", \"beat\", \"play\", \"captain\", \"zone\", \"club\", \"defensive\", \"scoring\", \"skate\", \"goaltender\", \"winner\", \"slot\", \"arena\", \"franchise\", \"baseball\", \"win\", \"penalty\", \"team\", \"defense\", \"goal\", \"round\", \"period\", \"ice\", \"trade\", \"pick\", \"blue\", \"go\", \"think\", \"watch\", \"get\", \"night\", \"good\", \"year\", \"third\", \"say\", \"will\", \"second\", \"just\", \"would\", \"when\", \"make\", \"last\", \"point\", \"take\", \"first\", \"see\", \"time\", \"can\", \"so\", \"only\", \"more\", \"know\", \"well\", \"graphic\", \"file\", \"format\", \"directory\", \"3d\", \"server\", \"pub\", \"animation\", \"driver\", \"card\", \"tool\", \"viewer\", \"code\", \"pc\", \"shareware\", \"color\", \"vga\", \"virtual\", \"pixel\", \"internet\", \"visualization\", \"workstation\", \"package\", \"programming\", \"interactive\", \"menu\", \"documentation\", \"jpeg\", \"anonymous\", \"converter\", \"image\", \"mirror\", \"text\", \"software\", \"version\", \"display\", \"screen\", \"mail\", \"address\", \"email\", \"user\", \"available\", \"standard\", \"write\", \"library\", \"thank\", \"program\", \"use\", \"information\", \"object\", \"can\", \"archive\", \"site\", \"datum\", \"send\", \"also\", \"bit\", \"other\", \"include\", \"system\", \"will\", \"-\", \"run\", \"know\", \"work\", \"would\", \"find\", \"more\", \"look\"], \"Freq\": [653.0, 727.0, 560.0, 602.0, 499.0, 515.0, 370.0, 326.0, 302.0, 273.0, 822.0, 242.0, 226.0, 228.0, 443.0, 245.0, 281.0, 243.0, 249.0, 599.0, 215.0, 601.0, 182.0, 330.0, 185.0, 191.0, 219.0, 187.0, 159.0, 154.0, 225.12657165527344, 368.2366638183594, 89.15798950195312, 86.18146514892578, 127.23039245605469, 81.17398834228516, 60.55052947998047, 60.5396728515625, 49.682594299316406, 45.73846435546875, 134.16786193847656, 42.71782684326172, 36.849483489990234, 44.57017135620117, 36.81246566772461, 35.84209060668945, 36.79706573486328, 33.879478454589844, 39.66679763793945, 31.907636642456055, 29.948719024658203, 30.880786895751953, 28.93297576904297, 26.981964111328125, 27.94113540649414, 26.97022247314453, 84.72827911376953, 40.4307861328125, 92.39964294433594, 32.707855224609375, 99.74801635742188, 180.89276123046875, 233.30555725097656, 59.37358856201172, 82.00607299804688, 75.0392837524414, 37.50557327270508, 466.5630187988281, 53.41502380371094, 81.8257064819336, 59.506526947021484, 56.636810302734375, 193.34011840820312, 66.38551330566406, 50.94917297363281, 50.85711669921875, 76.51818084716797, 143.83267211914062, 103.96507263183594, 99.08833312988281, 103.05557250976562, 100.31864929199219, 346.09991455078125, 239.01991271972656, 392.3199462890625, 282.91607666015625, 167.55929565429688, 207.8505401611328, 102.03028869628906, 173.2093963623047, 266.9680480957031, 169.47857666015625, 180.91392517089844, 182.05776977539062, 176.36302185058594, 159.94476318359375, 141.5380096435547, 143.86476135253906, 154.70936584472656, 120.30662536621094, 139.19041442871094, 128.90347290039062, 135.673583984375, 124.95299530029297, 124.26830291748047, 124.91558837890625, 652.0606689453125, 302.169921875, 181.80270385742188, 158.52276611328125, 153.6692352294922, 111.93408966064453, 105.1427993774414, 146.48553466796875, 91.5417709350586, 85.73049926757812, 69.23181915283203, 101.82464599609375, 61.45111083984375, 58.55116653442383, 55.641029357910156, 322.3222961425781, 55.619956970214844, 552.8165283203125, 50.761749267578125, 49.79276657104492, 44.96681213378906, 44.00032043457031, 41.063941955566406, 36.23393630981445, 36.230865478515625, 48.56598663330078, 35.19292449951172, 32.33426284790039, 31.378952026367188, 30.409574508666992, 209.2030487060547, 108.06092071533203, 577.86865234375, 62.21171569824219, 234.23226928710938, 84.21746063232422, 259.3358154296875, 102.91848754882812, 97.4247817993164, 124.11981964111328, 64.94318389892578, 430.79327392578125, 358.82965087890625, 91.63433837890625, 310.0407409667969, 81.73342895507812, 306.6142883300781, 349.2901611328125, 97.2933578491211, 248.72926330566406, 613.9806518554688, 163.8465576171875, 263.6633605957031, 440.205810546875, 242.94203186035156, 266.5077209472656, 178.686279296875, 229.1171875, 204.0529022216797, 227.4246063232422, 235.04165649414062, 237.55184936523438, 304.9024353027344, 202.11489868164062, 193.94113159179688, 206.4621124267578, 189.76817321777344, 182.495361328125, 241.4942626953125, 498.4570007324219, 272.1255798339844, 108.18556213378906, 97.5284652709961, 84.8511734008789, 73.24336242675781, 49.910179138183594, 69.1040267944336, 79.64601135253906, 95.95292663574219, 70.03470611572266, 144.8637237548828, 83.40852355957031, 45.05351257324219, 225.2679443359375, 42.084712982177734, 43.03523635864258, 46.85795974731445, 54.451454162597656, 35.334102630615234, 35.32850646972656, 182.25743103027344, 49.58636474609375, 32.414634704589844, 31.426311492919922, 30.457422256469727, 29.491661071777344, 55.1634407043457, 29.477724075317383, 696.2648315429688, 41.830657958984375, 46.53409957885742, 234.61923217773438, 184.21397399902344, 158.30819702148438, 85.7739028930664, 202.8042449951172, 127.27421569824219, 116.53944396972656, 140.9590301513672, 276.83154296875, 84.84481048583984, 175.8831329345703, 88.0380859375, 174.55062866210938, 327.11407470703125, 512.2183227539062, 178.20950317382812, 119.77052307128906, 525.7044067382812, 98.3724365234375, 135.73025512695312, 187.75718688964844, 181.7465362548828, 278.88232421875, 138.15371704101562, 266.1912841796875, 188.1232452392578, 203.05517578125, 366.8064880371094, 206.32025146484375, 146.87193298339844, 218.65847778320312, 174.44580078125, 236.3197021484375, 162.65745544433594, 173.8994140625, 163.2124786376953], \"Total\": [653.0, 727.0, 560.0, 602.0, 499.0, 515.0, 370.0, 326.0, 302.0, 273.0, 822.0, 242.0, 226.0, 228.0, 443.0, 245.0, 281.0, 243.0, 249.0, 599.0, 215.0, 601.0, 182.0, 330.0, 185.0, 191.0, 219.0, 187.0, 159.0, 154.0, 226.10409545898438, 370.2519226074219, 89.84426879882812, 86.88179779052734, 128.3472137451172, 81.94364929199219, 61.20947265625, 61.209293365478516, 50.347713470458984, 46.398128509521484, 136.22938537597656, 43.43495178222656, 37.51128387451172, 45.40794372558594, 37.51073455810547, 36.52357482910156, 37.51051712036133, 34.54892349243164, 40.47128677368164, 32.57411575317383, 30.599512100219727, 31.58610725402832, 29.611665725708008, 27.637174606323242, 28.624164581298828, 27.637004852294922, 86.85994720458984, 41.45545196533203, 94.75303649902344, 33.55853271484375, 102.6470947265625, 187.50880432128906, 243.73350524902344, 61.19181823730469, 84.87029266357422, 77.96119689941406, 38.493385314941406, 515.67236328125, 55.26677322387695, 86.81648254394531, 62.162841796875, 59.20552062988281, 230.43101501464844, 72.96823120117188, 54.257171630859375, 54.25578689575195, 88.66246795654297, 198.59388732910156, 144.52798461914062, 137.6492919921875, 150.3292236328125, 145.45001220703125, 1022.6254272460938, 601.0350341796875, 1373.1070556640625, 822.154296875, 375.0141906738281, 588.2120361328125, 159.0845489501953, 434.1708679199219, 1097.574951171875, 439.7574462890625, 530.3611450195312, 594.7544555664062, 558.769287109375, 443.8075866699219, 358.77423095703125, 404.5167236328125, 517.2656860351562, 240.98304748535156, 449.08026123046875, 344.0158386230469, 433.4112243652344, 349.966552734375, 369.2566223144531, 599.1589965820312, 653.2570190429688, 302.84906005859375, 182.48851013183594, 159.1928253173828, 154.33963012695312, 112.60165405273438, 105.80709838867188, 147.5517578125, 92.21812438964844, 86.39413452148438, 69.89305877685547, 102.89610290527344, 62.12812423706055, 59.21597671508789, 56.303955078125, 326.17962646484375, 56.304351806640625, 560.0996704101562, 51.45125198364258, 50.48054122924805, 45.626792907714844, 44.656131744384766, 41.744606018066406, 36.89094161987305, 36.8909797668457, 49.51414108276367, 35.92127990722656, 33.00852584838867, 32.03770446777344, 31.067062377929688, 215.58436584472656, 110.69368743896484, 602.20947265625, 64.0885238647461, 249.7143096923828, 87.40743255615234, 281.834228515625, 107.77244567871094, 101.98235321044922, 134.0269775390625, 67.99221801757812, 599.1589965820312, 512.5289916992188, 102.09074401855469, 466.4342346191406, 90.41271209716797, 503.2025146484375, 601.0350341796875, 113.804931640625, 400.93475341796875, 1373.1070556640625, 231.93743896484375, 467.1368408203125, 1022.6254272460938, 420.0935974121094, 517.2656860351562, 276.96051025390625, 433.4112243652344, 358.177734375, 439.7574462890625, 473.9227294921875, 530.3611450195312, 1097.574951171875, 449.08026123046875, 427.3542785644531, 588.2120361328125, 532.523193359375, 387.1763000488281, 242.18423461914062, 499.93670654296875, 273.3123779296875, 108.93750762939453, 98.23865509033203, 85.59483337402344, 73.92290496826172, 50.58010482788086, 70.0357666015625, 80.73319244384766, 97.27457427978516, 71.00684356689453, 146.8885955810547, 84.6297378540039, 45.717071533203125, 228.60443115234375, 42.79995346069336, 43.77294158935547, 47.6644287109375, 55.44813919067383, 35.990882873535156, 35.99088668823242, 185.80833435058594, 50.58351516723633, 33.07307052612305, 32.10069274902344, 31.12803077697754, 30.155275344848633, 56.42465591430664, 30.155534744262695, 727.9816284179688, 42.80356979370117, 47.66904067993164, 245.25082397460938, 191.70968627929688, 167.3229217529297, 89.4924545288086, 219.82748413085938, 136.22157287597656, 126.50872802734375, 156.82232666015625, 330.277587890625, 91.51545715332031, 205.58616638183594, 95.42071533203125, 213.08636474609375, 443.2925109863281, 822.154296875, 234.1422119140625, 141.31617736816406, 1097.574951171875, 111.06103515625, 175.59616088867188, 288.42413330078125, 282.5950012207031, 558.769287109375, 189.95755004882812, 594.7544555664062, 326.33270263671875, 375.0141906738281, 1373.1070556640625, 443.8075866699219, 213.3531494140625, 532.523193359375, 349.966552734375, 1022.6254272460938, 310.8226623535156, 588.2120361328125, 379.4625244140625], \"Category\": [\"Default\", \"Default\", \"Default\", \"Default\", \"Default\", \"Default\", \"Default\", \"Default\", \"Default\", \"Default\", \"Default\", \"Default\", \"Default\", \"Default\", \"Default\", \"Default\", \"Default\", \"Default\", \"Default\", \"Default\", \"Default\", \"Default\", \"Default\", \"Default\", \"Default\", \"Default\", \"Default\", \"Default\", \"Default\", \"Default\", \"Topic1\", \"Topic1\", \"Topic1\", \"Topic1\", \"Topic1\", \"Topic1\", \"Topic1\", \"Topic1\", \"Topic1\", \"Topic1\", \"Topic1\", \"Topic1\", \"Topic1\", \"Topic1\", \"Topic1\", \"Topic1\", \"Topic1\", \"Topic1\", \"Topic1\", \"Topic1\", \"Topic1\", \"Topic1\", \"Topic1\", \"Topic1\", \"Topic1\", \"Topic1\", \"Topic1\", \"Topic1\", \"Topic1\", \"Topic1\", \"Topic1\", \"Topic1\", \"Topic1\", \"Topic1\", \"Topic1\", \"Topic1\", \"Topic1\", \"Topic1\", \"Topic1\", \"Topic1\", \"Topic1\", \"Topic1\", \"Topic1\", \"Topic1\", \"Topic1\", \"Topic1\", \"Topic1\", \"Topic1\", \"Topic1\", \"Topic1\", \"Topic1\", \"Topic1\", \"Topic1\", \"Topic1\", \"Topic1\", \"Topic1\", \"Topic1\", \"Topic1\", \"Topic1\", \"Topic1\", \"Topic1\", \"Topic1\", \"Topic1\", \"Topic1\", \"Topic1\", \"Topic1\", \"Topic1\", \"Topic1\", \"Topic1\", \"Topic1\", \"Topic1\", \"Topic1\", \"Topic1\", \"Topic1\", \"Topic1\", \"Topic1\", \"Topic2\", \"Topic2\", \"Topic2\", \"Topic2\", \"Topic2\", \"Topic2\", \"Topic2\", \"Topic2\", \"Topic2\", \"Topic2\", \"Topic2\", \"Topic2\", \"Topic2\", \"Topic2\", \"Topic2\", \"Topic2\", \"Topic2\", \"Topic2\", \"Topic2\", \"Topic2\", \"Topic2\", \"Topic2\", \"Topic2\", \"Topic2\", \"Topic2\", \"Topic2\", \"Topic2\", \"Topic2\", \"Topic2\", \"Topic2\", \"Topic2\", \"Topic2\", \"Topic2\", \"Topic2\", \"Topic2\", \"Topic2\", \"Topic2\", \"Topic2\", \"Topic2\", \"Topic2\", \"Topic2\", \"Topic2\", \"Topic2\", \"Topic2\", \"Topic2\", \"Topic2\", \"Topic2\", \"Topic2\", \"Topic2\", \"Topic2\", \"Topic2\", \"Topic2\", \"Topic2\", \"Topic2\", \"Topic2\", \"Topic2\", \"Topic2\", \"Topic2\", \"Topic2\", \"Topic2\", \"Topic2\", \"Topic2\", \"Topic2\", \"Topic2\", \"Topic2\", \"Topic2\", \"Topic2\", \"Topic2\", \"Topic3\", \"Topic3\", \"Topic3\", \"Topic3\", \"Topic3\", \"Topic3\", \"Topic3\", \"Topic3\", \"Topic3\", \"Topic3\", \"Topic3\", \"Topic3\", \"Topic3\", \"Topic3\", \"Topic3\", \"Topic3\", \"Topic3\", \"Topic3\", \"Topic3\", \"Topic3\", \"Topic3\", \"Topic3\", \"Topic3\", \"Topic3\", \"Topic3\", \"Topic3\", \"Topic3\", \"Topic3\", \"Topic3\", \"Topic3\", \"Topic3\", \"Topic3\", \"Topic3\", \"Topic3\", \"Topic3\", \"Topic3\", \"Topic3\", \"Topic3\", \"Topic3\", \"Topic3\", \"Topic3\", \"Topic3\", \"Topic3\", \"Topic3\", \"Topic3\", \"Topic3\", \"Topic3\", \"Topic3\", \"Topic3\", \"Topic3\", \"Topic3\", \"Topic3\", \"Topic3\", \"Topic3\", \"Topic3\", \"Topic3\", \"Topic3\", \"Topic3\", \"Topic3\", \"Topic3\", \"Topic3\", \"Topic3\", \"Topic3\", \"Topic3\", \"Topic3\", \"Topic3\", \"Topic3\", \"Topic3\", \"Topic3\"], \"logprob\": [30.0, 29.0, 28.0, 27.0, 26.0, 25.0, 24.0, 23.0, 22.0, 21.0, 20.0, 19.0, 18.0, 17.0, 16.0, 15.0, 14.0, 13.0, 12.0, 11.0, 10.0, 9.0, 8.0, 7.0, 6.0, 5.0, 4.0, 3.0, 2.0, 1.0, -5.162199974060059, -4.670100212097168, -6.088399887084961, -6.122399806976318, -5.732800006866455, -6.182199954986572, -6.475399971008301, -6.475500106811523, -6.6732001304626465, -6.755899906158447, -5.679800033569336, -6.82420015335083, -6.9720001220703125, -6.781799793243408, -6.9730000495910645, -6.99970006942749, -6.973400115966797, -7.056000232696533, -6.8983001708984375, -7.116000175476074, -7.1793999671936035, -7.14870023727417, -7.213900089263916, -7.283699989318848, -7.248700141906738, -7.28410005569458, -6.139400005340576, -6.879199981689453, -6.052700042724609, -7.09119987487793, -5.976200103759766, -5.380899906158447, -5.126500129699707, -6.494999885559082, -6.171999931335449, -6.260799884796143, -6.954400062561035, -4.4334001541137695, -6.6006999015808105, -6.174200057983398, -6.492800235748291, -6.542200088500977, -5.3144001960754395, -6.383399963378906, -6.6479997634887695, -6.649799823760986, -6.241300106048584, -5.610199928283691, -5.934800148010254, -5.982800006866455, -5.943600177764893, -5.9704999923706055, -4.732100009918213, -5.10230016708374, -4.606800079345703, -4.933700084686279, -5.457499980926514, -5.242000102996826, -5.95359992980957, -5.424300193786621, -4.991700172424316, -5.446100234985352, -5.380799770355225, -5.374499797821045, -5.406300067901611, -5.504000186920166, -5.626299858093262, -5.610000133514404, -5.537300109863281, -5.78879976272583, -5.64300012588501, -5.719799995422363, -5.668600082397461, -5.750899791717529, -5.756400108337402, -5.751200199127197, -4.074900150299072, -4.843999862670898, -5.352099895477295, -5.489099979400635, -5.520199775695801, -5.837100028991699, -5.899700164794922, -5.5680999755859375, -6.0381999015808105, -6.103799819946289, -6.317500114440918, -5.931700229644775, -6.436800003051758, -6.485099792480469, -6.536099910736084, -4.779399871826172, -6.536399841308594, -4.239999771118164, -6.627799987792969, -6.64709997177124, -6.749100208282471, -6.7708001136779785, -6.839900016784668, -6.965000152587891, -6.965099811553955, -6.672100067138672, -6.994100093841553, -7.07889986038208, -7.10890007019043, -7.140200138092041, -5.211699962615967, -5.872300148010254, -4.1956000328063965, -6.4243998527526855, -5.098700046539307, -6.121600151062012, -4.9969000816345215, -5.92110013961792, -5.975900173187256, -5.733699798583984, -6.381499767303467, -4.4893999099731445, -4.672100067138672, -6.037199974060059, -4.818299770355225, -6.151500225067139, -4.829400062561035, -4.699100017547607, -5.97730016708374, -5.038599967956543, -4.135000228881836, -5.456099987030029, -4.980299949645996, -4.467700004577637, -5.06220006942749, -4.969600200653076, -5.3694000244140625, -5.120800018310547, -5.236599922180176, -5.128200054168701, -5.095200061798096, -5.08459997177124, -4.835000038146973, -5.246200084686279, -5.287399768829346, -5.224899768829346, -5.309199810028076, -5.348299980163574, -5.057700157165527, -4.333000183105469, -4.938300132751465, -5.8607001304626465, -5.964399814605713, -6.103600025177002, -6.250699996948242, -6.634300231933594, -6.308899879455566, -6.166900157928467, -5.9807000160217285, -6.295499801635742, -5.568699836730957, -6.120800018310547, -6.736700057983398, -5.127200126647949, -6.804800033569336, -6.78249979019165, -6.697400093078613, -6.5472002029418945, -6.979700088500977, -6.979800224304199, -5.339099884033203, -6.6407999992370605, -7.065899848937988, -7.09689998626709, -7.128200054168701, -7.160399913787842, -6.534200191497803, -7.160900115966797, -3.998800039291382, -6.8109002113342285, -6.7042999267578125, -5.086599826812744, -5.328400135040283, -5.480000019073486, -6.092800140380859, -5.2322998046875, -5.698200225830078, -5.786300182342529, -5.596099853515625, -4.92110013961792, -6.103700160980225, -5.37470006942749, -6.066800117492676, -5.382299900054932, -4.754199981689453, -4.305799961090088, -5.361599922180176, -5.758900165557861, -4.279799938201904, -5.9558000564575195, -5.633900165557861, -5.3094000816345215, -5.341899871826172, -4.913700103759766, -5.616199970245361, -4.960299968719482, -5.307400226593018, -5.230999946594238, -4.639699935913086, -5.215099811553955, -5.554999828338623, -5.1570000648498535, -5.382900238037109, -5.0792999267578125, -5.452899932861328, -5.386000156402588, -5.44950008392334], \"loglift\": [30.0, 29.0, 28.0, 27.0, 26.0, 25.0, 24.0, 23.0, 22.0, 21.0, 20.0, 19.0, 18.0, 17.0, 16.0, 15.0, 14.0, 13.0, 12.0, 11.0, 10.0, 9.0, 8.0, 7.0, 6.0, 5.0, 4.0, 3.0, 2.0, 1.0, 1.0750000476837158, 1.0738999843597412, 1.0716999769210815, 1.0712000131607056, 1.0706000328063965, 1.0699000358581543, 1.06850004196167, 1.0683000087738037, 1.065999984741211, 1.065000057220459, 1.0641000270843506, 1.0627000331878662, 1.0614999532699585, 1.0607000589370728, 1.0605000257492065, 1.0605000257492065, 1.0600999593734741, 1.0598000288009644, 1.0592000484466553, 1.0586999654769897, 1.057800054550171, 1.0566999912261963, 1.0561000108718872, 1.055299997329712, 1.0551999807357788, 1.054900050163269, 1.0544999837875366, 1.0542999505996704, 1.0542000532150269, 1.0536999702453613, 1.0506999492645264, 1.0434000492095947, 1.035599946975708, 1.0492000579833984, 1.0449999570846558, 1.041100025177002, 1.0533000230789185, 0.979200005531311, 1.045199990272522, 1.0200999975204468, 1.0356999635696411, 1.034999966621399, 0.9038000106811523, 0.9847999811172485, 1.0163999795913696, 1.0146000385284424, 0.9319999814033508, 0.7566999793052673, 0.7498999834060669, 0.7505999803543091, 0.7017999887466431, 0.7077999711036682, -0.004100000020116568, 0.15719999372959137, -0.17339999973773956, 0.012500000186264515, 0.2736999988555908, 0.03909999877214432, 0.635200023651123, 0.16040000319480896, -0.3343999981880188, 0.1257999986410141, 0.003800000064074993, -0.10450000315904617, -0.0738999992609024, 0.058800000697374344, 0.14920000731945038, 0.045499999076128006, -0.12770000100135803, 0.3846000134944916, -0.09200000017881393, 0.09769999980926514, -0.08209999650716782, 0.049400001764297485, -0.009700000286102295, -0.4885999858379364, 1.1013000011444092, 1.1009000539779663, 1.0994000434875488, 1.0989999771118164, 1.0987999439239502, 1.0972000360488892, 1.0968999862670898, 1.095900058746338, 1.0958000421524048, 1.0954999923706055, 1.0937000513076782, 1.0927000045776367, 1.0922000408172607, 1.0918999910354614, 1.0913000106811523, 1.0913000106811523, 1.09089994430542, 1.0901000499725342, 1.0896999835968018, 1.0894999504089355, 1.0886000394821167, 1.0884000062942505, 1.0866999626159668, 1.0851999521255493, 1.0851000547409058, 1.083799958229065, 1.0827000141143799, 1.0824999809265137, 1.0823999643325806, 1.0817999839782715, 1.073099970817566, 1.0791000127792358, 1.061900019645691, 1.0735000371932983, 1.039199948310852, 1.065999984741211, 1.0199999809265137, 1.0571000576019287, 1.0575000047683716, 1.0263999700546265, 1.0572999715805054, 0.7732999920845032, 0.7466999888420105, 0.9951000213623047, 0.6948000192642212, 1.0023000240325928, 0.6078000068664551, 0.5604000091552734, 0.946399986743927, 0.6256999969482422, 0.29829999804496765, 0.7555999755859375, 0.5311999917030334, 0.26030001044273376, 0.5554999709129333, 0.4399999976158142, 0.664900004863739, 0.4657000005245209, 0.5404999852180481, 0.4438000023365021, 0.4018999934196472, 0.30000001192092896, -0.1776999980211258, 0.30480000376701355, 0.31310001015663147, 0.05620000138878822, 0.0714000016450882, 0.35100001096725464, 1.11080002784729, 1.110700011253357, 1.1093000173568726, 1.1066999435424805, 1.1064000129699707, 1.1049000024795532, 1.1044000387191772, 1.1002999544143677, 1.1002999544143677, 1.100100040435791, 1.100000023841858, 1.0999000072479248, 1.0997999906539917, 1.0990999937057495, 1.0989999771118164, 1.0988999605178833, 1.0967999696731567, 1.09660005569458, 1.09660005569458, 1.0954999923706055, 1.0951999425888062, 1.0951000452041626, 1.0943000316619873, 1.0937000513076782, 1.093500018119812, 1.0923999547958374, 1.0918999910354614, 1.0914000272750854, 1.090999960899353, 1.09089994430542, 1.069100022315979, 1.0907000303268433, 1.0894999504089355, 1.0693000555038452, 1.073799967765808, 1.0583000183105469, 1.0712000131607056, 1.0329999923706055, 1.045699954032898, 1.031599998474121, 1.0069999694824219, 0.9370999932289124, 1.0379999876022339, 0.9575999975204468, 1.0331000089645386, 0.9142000079154968, 0.8097000122070312, 0.640500009059906, 0.8406999707221985, 0.948199987411499, 0.3774999976158142, 0.9922999739646912, 0.8561000227928162, 0.6844000220298767, 0.6722000241279602, 0.4187000095844269, 0.795199990272522, 0.30970001220703125, 0.5627999901771545, 0.5001999735832214, -0.20640000700950623, 0.34769999980926514, 0.7402999997138977, 0.22349999845027924, 0.4174000024795532, -0.3513000011444092, 0.4661000072956085, -0.10499999672174454, 0.26989999413490295]}, \"token.table\": {\"Topic\": [1, 2, 3, 1, 2, 3, 3, 1, 3, 1, 2, 3, 1, 2, 3, 3, 1, 3, 1, 3, 2, 1, 3, 1, 1, 2, 3, 1, 2, 2, 1, 2, 3, 1, 2, 1, 2, 3, 1, 2, 3, 2, 1, 2, 3, 2, 2, 1, 3, 1, 2, 3, 3, 1, 2, 3, 1, 2, 3, 1, 1, 3, 1, 2, 2, 2, 1, 2, 3, 3, 1, 2, 3, 3, 2, 1, 3, 1, 3, 1, 2, 3, 1, 1, 1, 2, 3, 1, 3, 1, 2, 3, 1, 1, 2, 3, 1, 2, 3, 2, 1, 2, 3, 2, 1, 1, 2, 3, 1, 1, 2, 3, 1, 2, 3, 1, 2, 3, 1, 2, 2, 2, 1, 2, 3, 3, 2, 1, 2, 3, 1, 2, 3, 1, 3, 1, 2, 3, 1, 2, 3, 3, 1, 3, 3, 1, 2, 3, 2, 1, 1, 2, 3, 1, 1, 2, 3, 1, 2, 3, 1, 3, 1, 2, 1, 3, 1, 1, 2, 3, 1, 3, 1, 2, 3, 1, 2, 3, 1, 3, 1, 2, 3, 3, 1, 1, 3, 1, 3, 1, 3, 1, 2, 3, 1, 2, 1, 2, 3, 1, 2, 3, 1, 3, 1, 3, 1, 1, 2, 3, 1, 1, 2, 3, 1, 3, 1, 3, 1, 2, 1, 2, 3, 1, 2, 3, 3, 1, 3, 1, 2, 3, 1, 2, 3, 2, 1, 2, 3, 1, 3, 1, 2, 3, 1, 2, 3, 1, 3, 1, 2, 3, 1, 3, 2, 1, 1, 2, 1, 2, 1, 2, 3, 1, 3, 1, 2, 3, 2, 2, 1, 2, 3, 2, 1, 2, 3, 1, 2, 3, 1, 2, 3, 3, 3, 1, 2, 1, 3, 1, 2, 3, 2, 1, 2, 2, 1, 2, 3, 1, 3, 1, 1, 2, 3, 1, 1, 2, 3, 1, 2, 3, 1, 2, 3, 1, 2, 3, 1, 2, 3, 1, 2, 3, 1, 2, 1, 3, 1, 3, 1, 2, 3, 1, 2, 3, 1, 2, 3, 1, 2, 3, 1, 2, 3, 1, 3, 1, 2, 3, 1, 2, 3, 1, 3, 1, 1, 1, 1, 3, 1, 2, 3, 3, 3, 3, 3, 1, 2, 1, 2, 3, 1, 2, 3, 1, 2, 3, 1, 2, 3, 1, 2, 1, 2, 3, 3, 1, 2, 3, 1, 2, 3, 1, 2, 3, 2], \"Freq\": [0.8375608921051025, 0.13019080460071564, 0.030377855524420738, 0.36051660776138306, 0.17575183510780334, 0.4641651213169098, 0.9975706338882446, 0.9399918913841248, 0.05529364198446274, 0.029363924637436867, 0.036704905331134796, 0.9323046207427979, 0.3149779438972473, 0.186123326420784, 0.499311625957489, 0.9885309934616089, 0.01772274821996689, 0.9747511744499207, 0.1080486923456192, 0.8823977112770081, 0.9694464802742004, 0.9648911952972412, 0.02412227913737297, 0.9914193153381348, 0.11808249354362488, 0.04238858446478844, 0.8386884331703186, 0.9769450426101685, 0.9656529426574707, 0.9945945143699646, 0.1263440102338791, 0.1474013477563858, 0.726478099822998, 0.04412269592285156, 0.9559917449951172, 0.6851628422737122, 0.08647686243057251, 0.22617025673389435, 0.24326357245445251, 0.2778853476047516, 0.4792383313179016, 0.9912295341491699, 0.012386479414999485, 0.012386479414999485, 0.9909183382987976, 0.9862626194953918, 0.9954379200935364, 0.013615760952234268, 0.9871426820755005, 0.0131231052801013, 0.004374368581920862, 0.9842329025268555, 0.9616808295249939, 0.7250978350639343, 0.07553102821111679, 0.19638065993785858, 0.3957920968532562, 0.40972843766212463, 0.19510877132415771, 0.9804077744483948, 0.3467116355895996, 0.6518178582191467, 0.015603417530655861, 0.9674118757247925, 0.9872224926948547, 0.9853070378303528, 0.6875213980674744, 0.006875214166939259, 0.30938464403152466, 0.9913941025733948, 0.017929403111338615, 0.03585880622267723, 0.9442818760871887, 0.963761568069458, 0.9976347088813782, 0.014278418384492397, 0.9852108955383301, 0.9045032262802124, 0.08222756534814835, 0.039522964507341385, 0.039522964507341385, 0.9248373508453369, 0.9899861216545105, 0.9965807199478149, 0.9833564758300781, 0.9912911653518677, 0.00971854105591774, 0.0020002531819045544, 0.996126115322113, 0.34746500849723816, 0.13190801441669464, 0.5244147777557373, 0.9793437719345093, 0.3843027651309967, 0.5161936283111572, 0.09778117388486862, 0.9709451198577881, 0.021107502281665802, 0.010553751140832901, 0.9946015477180481, 0.0036588171496987343, 0.0036588171496987343, 0.9951982498168945, 0.9676098823547363, 0.993093729019165, 0.9661802649497986, 0.023565372452139854, 0.011782686226069927, 0.9883550405502319, 0.0015307910507544875, 0.9980757832527161, 0.0015307910507544875, 0.16937007009983063, 0.6646167635917664, 0.1672261506319046, 0.20862576365470886, 0.7193416357040405, 0.07176726311445236, 0.06006864458322525, 0.9370708465576172, 0.9963527321815491, 0.9758483171463013, 0.12917263805866241, 0.6100923418998718, 0.26033255457878113, 0.9951102137565613, 0.9973230361938477, 0.3559803366661072, 0.36834076046943665, 0.2744015157222748, 0.009278809651732445, 0.9557173848152161, 0.027836428955197334, 0.042583491653203964, 0.9560680985450745, 0.3156287968158722, 0.10725250840187073, 0.576099157333374, 0.2092745304107666, 0.029896359890699387, 0.7602217197418213, 0.9675545692443848, 0.01803486980497837, 0.9738829731941223, 0.9616891145706177, 0.2547433376312256, 0.5651448965072632, 0.17981882393360138, 0.9818419814109802, 0.996577799320221, 0.2328537106513977, 0.35679197311401367, 0.41124969720840454, 0.9863843321800232, 0.641168475151062, 0.025143861770629883, 0.33315616846084595, 0.2635754942893982, 0.6463015079498291, 0.09026557952165604, 0.9939178824424744, 0.005401727743446827, 0.9856647253036499, 0.9923719763755798, 0.07335933297872543, 0.9222316145896912, 0.9781944751739502, 0.23981288075447083, 0.3294132947921753, 0.42955493927001953, 0.9895033836364746, 0.007791365031152964, 0.013647065497934818, 0.063686303794384, 0.9234514236450195, 0.2996525764465332, 0.5161757469177246, 0.18559128046035767, 0.958984911441803, 0.03618810698390007, 0.39846062660217285, 0.3040277659893036, 0.29711803793907166, 0.965711236000061, 0.9910160303115845, 0.0233625378459692, 0.9812265634536743, 0.965287983417511, 0.03199849650263786, 0.9785868525505066, 0.023025572299957275, 0.3536139726638794, 0.3502138555049896, 0.2958116829395294, 0.08848313242197037, 0.9069520831108093, 0.1344502866268158, 0.014152660965919495, 0.8491596579551697, 0.27143755555152893, 0.45395591855049133, 0.2737775444984436, 0.9951168894767761, 0.00442274147644639, 0.939967930316925, 0.05529223009943962, 0.9823750853538513, 0.30600863695144653, 0.24716082215309143, 0.4472433924674988, 0.976951003074646, 0.016145668923854828, 0.00538189010694623, 0.9795039892196655, 0.9641811847686768, 0.016342053189873695, 0.011816177517175674, 0.9807427525520325, 0.018067877739667892, 0.9756653904914856, 0.07096370309591293, 0.9189799427986145, 0.007096370216459036, 0.0298447385430336, 0.9251868724822998, 0.0447671078145504, 0.9860602617263794, 0.9627480506896973, 0.03378063440322876, 0.0017853964818641543, 0.9873242974281311, 0.010712378658354282, 0.006131590809673071, 0.9871861338615417, 0.006131590809673071, 0.9987887144088745, 0.3137897551059723, 0.5283665657043457, 0.15920215845108032, 0.9742116928100586, 0.029226351529359818, 0.49796032905578613, 0.1701364517211914, 0.3278238773345947, 0.2594223916530609, 0.002255846746265888, 0.7376618981361389, 0.01976928673684597, 0.9884642958641052, 0.7195838093757629, 0.020757226273417473, 0.26292484998703003, 0.9863900542259216, 0.9875153303146362, 0.9946568012237549, 0.9863698482513428, 0.9836350679397583, 0.014681120403110981, 0.03432202339172363, 0.9610166549682617, 0.13592487573623657, 0.17810845375061035, 0.6889985203742981, 0.9559621214866638, 0.04102841764688492, 0.28184136748313904, 0.6210486888885498, 0.09727268666028976, 0.9977994561195374, 0.9821628332138062, 0.011174126528203487, 0.03352237865328789, 0.9609748721122742, 0.9971964359283447, 0.2241983860731125, 0.7070872187614441, 0.06898412108421326, 0.24054554104804993, 0.4958614110946655, 0.26375606656074524, 0.15569984912872314, 0.2017020881175995, 0.6440312266349792, 0.9930505752563477, 0.984315037727356, 0.006777282804250717, 0.9894832968711853, 0.9620170593261719, 0.03848068043589592, 0.2050158679485321, 0.022779541090130806, 0.7745044231414795, 0.9758493304252625, 0.9871826171875, 0.025978488847613335, 0.9743528366088867, 0.30952149629592896, 0.4498082399368286, 0.24049153923988342, 0.04077458381652832, 0.9582027196884155, 0.9884841442108154, 0.9056137800216675, 0.0019392158137634397, 0.09308236092329025, 0.990602970123291, 0.06556269526481628, 0.010927115567028522, 0.928804874420166, 0.8684622049331665, 0.11278729885816574, 0.022557459771633148, 0.9652068614959717, 0.03217356279492378, 0.01608678139746189, 0.7192190885543823, 0.007264839485287666, 0.2687990665435791, 0.447983056306839, 0.010666263289749622, 0.5413128733634949, 0.3043181896209717, 0.5695496201515198, 0.12563595175743103, 0.03985324129462242, 0.9597989320755005, 0.9445211291313171, 0.05759274959564209, 0.02097797580063343, 0.9859648942947388, 0.04692932963371277, 0.1360950469970703, 0.8212632536888123, 0.3749827444553375, 0.3982374668121338, 0.2267337441444397, 0.21657311916351318, 0.7004481554031372, 0.08389769494533539, 0.12301751971244812, 0.8523356318473816, 0.026360895484685898, 0.3412768840789795, 0.4487508237361908, 0.21117685735225677, 0.010280178859829903, 0.9868971705436707, 0.03922247141599655, 0.9511449337005615, 0.009805617853999138, 0.3442176282405853, 0.0328405499458313, 0.6227541565895081, 0.10202629119157791, 0.8991066813468933, 0.9898505806922913, 0.9814441204071045, 0.9841117262840271, 0.036513544619083405, 0.9597845673561096, 0.3358098268508911, 0.34122610092163086, 0.32226911187171936, 0.9813094735145569, 0.985820472240448, 0.982342004776001, 0.9724684953689575, 0.09795207530260086, 0.9011590480804443, 0.24536626040935516, 0.47007009387016296, 0.28410831093788147, 0.22137923538684845, 0.5784425139427185, 0.20233586430549622, 0.2854839265346527, 0.4471610486507416, 0.2672770619392395, 0.02783133089542389, 0.9694580435752869, 0.004638555459678173, 0.020196249708533287, 0.9896162748336792, 0.3571769893169403, 0.1457282155752182, 0.49719035625457764, 0.972468376159668, 0.3383448123931885, 0.43026506900787354, 0.2307785302400589, 0.12160351127386093, 0.024320702999830246, 0.8560887575149536, 0.3976473808288574, 0.5806649923324585, 0.02162935398519039, 0.9904806613922119], \"Term\": [\"%\", \"%\", \"%\", \"-\", \"-\", \"-\", \"3d\", \"activity\", \"activity\", \"address\", \"address\", \"address\", \"also\", \"also\", \"also\", \"animation\", \"anonymous\", \"anonymous\", \"archive\", \"archive\", \"arena\", \"astronaut\", \"astronaut\", \"atmosphere\", \"available\", \"available\", \"available\", \"balloon\", \"baseball\", \"beat\", \"bit\", \"bit\", \"bit\", \"blue\", \"blue\", \"build\", \"build\", \"build\", \"can\", \"can\", \"can\", \"captain\", \"card\", \"card\", \"card\", \"club\", \"coach\", \"code\", \"code\", \"color\", \"color\", \"color\", \"converter\", \"cost\", \"cost\", \"cost\", \"could\", \"could\", \"could\", \"craft\", \"datum\", \"datum\", \"defense\", \"defense\", \"defenseman\", \"defensive\", \"design\", \"design\", \"design\", \"directory\", \"display\", \"display\", \"display\", \"documentation\", \"draft\", \"driver\", \"driver\", \"earth\", \"earth\", \"email\", \"email\", \"email\", \"energy\", \"engine\", \"experiment\", \"fan\", \"fan\", \"file\", \"file\", \"find\", \"find\", \"find\", \"firm\", \"first\", \"first\", \"first\", \"flight\", \"flight\", \"flight\", \"flyer\", \"format\", \"format\", \"format\", \"franchise\", \"fuel\", \"fund\", \"fund\", \"fund\", \"funding\", \"game\", \"game\", \"game\", \"get\", \"get\", \"get\", \"go\", \"go\", \"go\", \"goal\", \"goal\", \"goalie\", \"goaltender\", \"good\", \"good\", \"good\", \"graphic\", \"hockey\", \"how\", \"how\", \"how\", \"ice\", \"ice\", \"ice\", \"image\", \"image\", \"include\", \"include\", \"include\", \"information\", \"information\", \"information\", \"interactive\", \"internet\", \"internet\", \"jpeg\", \"just\", \"just\", \"just\", \"king\", \"km\", \"know\", \"know\", \"know\", \"landing\", \"large\", \"large\", \"large\", \"last\", \"last\", \"last\", \"launch\", \"launch\", \"launcher\", \"league\", \"library\", \"library\", \"liquid\", \"look\", \"look\", \"look\", \"lunar\", \"lunar\", \"mail\", \"mail\", \"mail\", \"make\", \"make\", \"make\", \"mass\", \"mass\", \"may\", \"may\", \"may\", \"menu\", \"military\", \"mirror\", \"mirror\", \"mission\", \"mission\", \"moon\", \"moon\", \"more\", \"more\", \"more\", \"night\", \"night\", \"object\", \"object\", \"object\", \"only\", \"only\", \"only\", \"orbit\", \"orbit\", \"orbital\", \"orbital\", \"orbiter\", \"other\", \"other\", \"other\", \"ozone\", \"package\", \"package\", \"package\", \"payload\", \"payload\", \"pc\", \"pc\", \"penalty\", \"penalty\", \"period\", \"period\", \"period\", \"pick\", \"pick\", \"pick\", \"pixel\", \"plane\", \"plane\", \"play\", \"play\", \"play\", \"player\", \"player\", \"player\", \"playoff\", \"point\", \"point\", \"point\", \"probe\", \"probe\", \"problem\", \"problem\", \"problem\", \"program\", \"program\", \"program\", \"programming\", \"programming\", \"project\", \"project\", \"project\", \"propulsion\", \"pub\", \"puck\", \"radius\", \"rocket\", \"rocket\", \"round\", \"round\", \"run\", \"run\", \"run\", \"satellite\", \"satellite\", \"say\", \"say\", \"say\", \"score\", \"scoring\", \"screen\", \"screen\", \"screen\", \"season\", \"second\", \"second\", \"second\", \"see\", \"see\", \"see\", \"send\", \"send\", \"send\", \"server\", \"shareware\", \"shot\", \"shot\", \"shuttle\", \"shuttle\", \"site\", \"site\", \"site\", \"skate\", \"sky\", \"sky\", \"slot\", \"so\", \"so\", \"so\", \"software\", \"software\", \"solar\", \"space\", \"space\", \"space\", \"spacecraft\", \"standard\", \"standard\", \"standard\", \"station\", \"station\", \"station\", \"study\", \"study\", \"study\", \"surface\", \"surface\", \"surface\", \"system\", \"system\", \"system\", \"take\", \"take\", \"take\", \"team\", \"team\", \"technology\", \"technology\", \"text\", \"text\", \"thank\", \"thank\", \"thank\", \"then\", \"then\", \"then\", \"think\", \"think\", \"think\", \"third\", \"third\", \"third\", \"time\", \"time\", \"time\", \"tool\", \"tool\", \"trade\", \"trade\", \"trade\", \"use\", \"use\", \"use\", \"user\", \"user\", \"vehicle\", \"velocity\", \"venture\", \"version\", \"version\", \"very\", \"very\", \"very\", \"vga\", \"viewer\", \"virtual\", \"visualization\", \"watch\", \"watch\", \"well\", \"well\", \"well\", \"when\", \"when\", \"when\", \"will\", \"will\", \"will\", \"win\", \"win\", \"win\", \"winner\", \"winner\", \"work\", \"work\", \"work\", \"workstation\", \"would\", \"would\", \"would\", \"write\", \"write\", \"write\", \"year\", \"year\", \"year\", \"zone\"]}, \"R\": 30, \"lambda.step\": 0.01, \"plot.opts\": {\"xlab\": \"PC1\", \"ylab\": \"PC2\"}, \"topic.order\": [3, 1, 2]};\n",
              "\n",
              "function LDAvis_load_lib(url, callback){\n",
              "  var s = document.createElement('script');\n",
              "  s.src = url;\n",
              "  s.async = true;\n",
              "  s.onreadystatechange = s.onload = callback;\n",
              "  s.onerror = function(){console.warn(\"failed to load library \" + url);};\n",
              "  document.getElementsByTagName(\"head\")[0].appendChild(s);\n",
              "}\n",
              "\n",
              "if(typeof(LDAvis) !== \"undefined\"){\n",
              "   // already loaded: just create the visualization\n",
              "   !function(LDAvis){\n",
              "       new LDAvis(\"#\" + \"ldavis_el1231401264569266405459668938\", ldavis_el1231401264569266405459668938_data);\n",
              "   }(LDAvis);\n",
              "}else if(typeof define === \"function\" && define.amd){\n",
              "   // require.js is available: use it to load d3/LDAvis\n",
              "   require.config({paths: {d3: \"https://cdnjs.cloudflare.com/ajax/libs/d3/3.5.5/d3.min\"}});\n",
              "   require([\"d3\"], function(d3){\n",
              "      window.d3 = d3;\n",
              "      LDAvis_load_lib(\"https://cdn.rawgit.com/bmabey/pyLDAvis/files/ldavis.v1.0.0.js\", function(){\n",
              "        new LDAvis(\"#\" + \"ldavis_el1231401264569266405459668938\", ldavis_el1231401264569266405459668938_data);\n",
              "      });\n",
              "    });\n",
              "}else{\n",
              "    // require.js not available: dynamically load d3 & LDAvis\n",
              "    LDAvis_load_lib(\"https://cdnjs.cloudflare.com/ajax/libs/d3/3.5.5/d3.min.js\", function(){\n",
              "         LDAvis_load_lib(\"https://cdn.rawgit.com/bmabey/pyLDAvis/files/ldavis.v1.0.0.js\", function(){\n",
              "                 new LDAvis(\"#\" + \"ldavis_el1231401264569266405459668938\", ldavis_el1231401264569266405459668938_data);\n",
              "            })\n",
              "         });\n",
              "}\n",
              "</script>"
            ],
            "text/plain": [
              "PreparedData(topic_coordinates=              x         y  topics  cluster       Freq\n",
              "topic                                                \n",
              "2      0.017470 -0.109132       1        1  33.982433\n",
              "0     -0.158061  0.044990       2        1  33.181553\n",
              "1      0.140592  0.064141       3        1  32.836021, topic_info=      Term        Freq        Total Category  logprob  loglift\n",
              "301   game  653.000000   653.000000  Default  30.0000  30.0000\n",
              "48   image  727.000000   727.000000  Default  29.0000  29.0000\n",
              "130   play  560.000000   560.000000  Default  28.0000  28.0000\n",
              "182   team  602.000000   602.000000  Default  27.0000  27.0000\n",
              "6     file  499.000000   499.000000  Default  26.0000  26.0000\n",
              "..     ...         ...          ...      ...      ...      ...\n",
              "583   work  174.445801   349.966553   Topic3  -5.3829   0.4174\n",
              "40   would  236.319702  1022.625427   Topic3  -5.0793  -0.3513\n",
              "68    find  162.657455   310.822662   Topic3  -5.4529   0.4661\n",
              "268   more  173.899414   588.212036   Topic3  -5.3860  -0.1050\n",
              "52    look  163.212479   379.462524   Topic3  -5.4495   0.2699\n",
              "\n",
              "[243 rows x 6 columns], token_table=      Topic      Freq   Term\n",
              "term                        \n",
              "132       1  0.837561      %\n",
              "132       2  0.130191      %\n",
              "132       3  0.030378      %\n",
              "253       1  0.360517      -\n",
              "253       2  0.175752      -\n",
              "...     ...       ...    ...\n",
              "126       3  0.856089  write\n",
              "87        1  0.397647   year\n",
              "87        2  0.580665   year\n",
              "87        3  0.021629   year\n",
              "753       2  0.990481   zone\n",
              "\n",
              "[397 rows x 3 columns], R=30, lambda_step=0.01, plot_opts={'xlab': 'PC1', 'ylab': 'PC2'}, topic_order=[3, 1, 2])"
            ]
          },
          "metadata": {
            "tags": []
          },
          "execution_count": 22
        }
      ]
    },
    {
      "cell_type": "markdown",
      "metadata": {
        "id": "f_rgrqhwNsUS",
        "colab_type": "text"
      },
      "source": [
        "<!--@slideshow slide-->\n",
        "# Evaluate quality of topics.\n",
        "\n",
        "Visually, we can evaluate top words (ordered by $\\Pr(w|t)$) and decide if they form a meaningful topic.\n",
        "\n",
        "**Idea**: top words of a topic should often co-occur.\n",
        "\n",
        "**Definition**: topic coherence is the measure of how often the most \"representative\" words of a topic occur together."
      ]
    },
    {
      "cell_type": "markdown",
      "metadata": {
        "id": "ODdDj7qt5hnM",
        "colab_type": "text"
      },
      "source": [
        "<!--@slideshow slide-->\n",
        "## Colab demo: implementation of coherence with PMI"
      ]
    },
    {
      "cell_type": "code",
      "metadata": {
        "id": "QhhoMLoUylk3",
        "colab_type": "code",
        "outputId": "545c0556-aa44-4c78-bb81-9cc25b859a48",
        "colab": {
          "base_uri": "https://localhost:8080/",
          "height": 119
        }
      },
      "source": [
        "def get_top_topic_words(lda, dictionary, k=10):\n",
        "    # helper function that returns top k words for each topic\n",
        "    top_words = dict()\n",
        "    for topicid in range(lda.num_topics):\n",
        "        top_words[topicid] = [dictionary[tokenid] for tokenid, _ in lda.get_topic_terms(topicid, k)]\n",
        "    return top_words\n",
        "\n",
        "from pprint import pprint\n",
        "pprint(get_top_topic_words(lda, dictionary, k=10), compact=True)"
      ],
      "execution_count": 0,
      "outputs": [
        {
          "output_type": "stream",
          "text": [
            "{0: ['game', 'will', 'team', 'play', 'would', 'go', 'think', 'year', 'player',\n",
            "     'get'],\n",
            " 1: ['image', 'can', 'use', 'file', 'will', 'program', 'also', 'available',\n",
            "     'format', 'other'],\n",
            " 2: ['space', 'will', 'launch', 'would', 'use', 'can', 'year', 'satellite',\n",
            "     'orbit', 'more']}\n"
          ],
          "name": "stdout"
        }
      ]
    },
    {
      "cell_type": "code",
      "metadata": {
        "id": "CmLTbPRlz4lf",
        "colab_type": "code",
        "outputId": "bfd26352-4e25-4f4c-fb3f-03e221589e4e",
        "colab": {
          "base_uri": "https://localhost:8080/",
          "height": 68
        }
      },
      "source": [
        "def topic_coherence(documents, topic_words, window_size=10):\n",
        "    from collections import Counter\n",
        "    from itertools import combinations\n",
        "    import numpy as np\n",
        "\n",
        "    # Step 1. Compute word occurrence and co-occurrence in documents\n",
        "    words_count = Counter()\n",
        "    word_pairs_count = Counter()\n",
        "    num_windows = 0\n",
        "    for document in documents:\n",
        "        # count word co-occurrence in a sliding window\n",
        "        for window_start in range(max(0, len(document) - window_size) + 1):\n",
        "            num_windows += 1\n",
        "            window = document[window_start:window_start + window_size]\n",
        "            for w in window:\n",
        "                words_count[w] += 1\n",
        "            for word_pair in combinations(sorted(window), 2):\n",
        "                assert word_pair[0] <= word_pair[1]\n",
        "                word_pairs_count[word_pair] += 1\n",
        "\n",
        "    # Step 2. Estimate how often top words in topics co-occur.\n",
        "    scores = []\n",
        "    for topic_word_pair in combinations(sorted(topic_words), 2):\n",
        "        assert topic_word_pair[0] <= topic_word_pair[1]\n",
        "        # we can estimate how dependent two words are\n",
        "        # P(w1, w2) is the probability to find both words close to each other\n",
        "        P_w1_w2 = word_pairs_count[topic_word_pair] / num_windows\n",
        "        # P(w1) is the probability to find the first word in a document\n",
        "        P_w1 = words_count[topic_word_pair[0]] / num_windows\n",
        "        # P(w2) is the probability to find the second word in a document\n",
        "        P_w2 = words_count[topic_word_pair[1]] / num_windows\n",
        "\n",
        "        # if P(w1, w2) == P(w1) * P(w2), then w1 and w2 are independent\n",
        "        # if P(w1, w2) > P(w1) * P(w2), then w1 and w2 often co-occur\n",
        "\n",
        "        # compute log(P(w1, w2) / (P(w1) * P(w2))) as a measure of co-occurrence\n",
        "        # (it is called Pointwise Mutual Information, or PMI)\n",
        "        score = np.log(P_w1_w2 / (P_w1 * P_w2))\n",
        "        scores.append(score)\n",
        "    return np.mean(scores)\n",
        "\n",
        "for topic, topic_words in get_top_topic_words(lda, dictionary, k=10).items():\n",
        "    print(topic, topic_coherence(train_documents, topic_words))"
      ],
      "execution_count": 0,
      "outputs": [
        {
          "output_type": "stream",
          "text": [
            "0 0.3632820357070297\n",
            "1 0.3831533479100026\n",
            "2 -0.0514056433112338\n"
          ],
          "name": "stdout"
        }
      ]
    },
    {
      "cell_type": "markdown",
      "metadata": {
        "id": "kM4O8WNolvtk",
        "colab_type": "text"
      },
      "source": [
        "<!--@slideshow slide-->\n",
        "## Colab quiz 4\n",
        "\n",
        "Choose the words with highest $PMI$."
      ]
    },
    {
      "cell_type": "code",
      "metadata": {
        "id": "5MO2I045StgB",
        "colab_type": "code",
        "outputId": "e49d78f2-ca01-4e7e-e2a1-2071a23c273e",
        "colab": {
          "base_uri": "https://localhost:8080/",
          "height": 34
        }
      },
      "source": [
        "np.log((1/4)/(1/8)), np.log((1/16)/(1/8))"
      ],
      "execution_count": 0,
      "outputs": [
        {
          "output_type": "execute_result",
          "data": {
            "text/plain": [
              "(0.6931471805599453, -0.6931471805599453)"
            ]
          },
          "metadata": {
            "tags": []
          },
          "execution_count": 26
        }
      ]
    },
    {
      "cell_type": "code",
      "metadata": {
        "id": "uNpmh6A2mTDJ",
        "colab_type": "code",
        "outputId": "04b2c8cd-965b-4d62-c171-43b06bd4d8f9",
        "colab": {
          "base_uri": "https://localhost:8080/",
          "height": 267,
          "referenced_widgets": [
            "c1064ea699f14a998f7c419ebac24520",
            "590466c8e0bd40ecaedcba47bbcb9c57",
            "5c2eb76b0aab429e8f97f8ad74ac133e",
            "eb65570a58fe4f818c90bb26c0822365",
            "1309734a0e2e4e56a3e530a59a3bdc1a",
            "0c086950924444138676344490ee2784",
            "1c867cf2c8be4fe183d5eac0cee4e613",
            "ab67a0f0ac864ae58311bc91f3da0c73",
            "c2e96cf035374655ad7daf7cdad1d8f2",
            "1f2c2102bffa4bad97e88cebbdfe6677",
            "785a5bacab244cb1a2581ab6ef892deb",
            "d535480cd81440cba2e836a6835f77e3",
            "825cb2a07cfc44aab61f2e27214a7d4f",
            "776debd37f4c4178995e88bfacaaa6dc",
            "641b2234f875456ba6dfe925c7beb598",
            "8c745398f56f45d7b7cf6f56e963aaf1"
          ]
        }
      },
      "source": [
        "enable_mathjax_in_cell()\n",
        "quiz_coherence()()"
      ],
      "execution_count": 0,
      "outputs": [
        {
          "output_type": "display_data",
          "data": {
            "text/html": [
              "\n",
              "        <script src=\"https://www.gstatic.com/external_hosted/mathjax/latest/MathJax.js?config=TeX-AMS_HTML-full,Safe&delayStartupUntil=configured\"></script>\n",
              "        <script>\n",
              "            (() => {\n",
              "            const mathjax = window.MathJax;\n",
              "            mathjax.Hub.Config({\n",
              "            'tex2jax': {\n",
              "                'inlineMath': [['$', '$'], ['\\(', '\\)']],\n",
              "                'displayMath': [['$$', '$$'], ['\\[', '\\]']],\n",
              "                'processEscapes': true,\n",
              "                'processEnvironments': true,\n",
              "                'skipTags': ['script', 'noscript', 'style', 'textarea', 'code'],\n",
              "                'displayAlign': 'center',\n",
              "            },\n",
              "            'HTML-CSS': {\n",
              "                'styles': {'.MathJax_Display': {'margin': 0}},\n",
              "                'linebreaks': {'automatic': true},\n",
              "                // Disable to prevent OTF font loading, which aren't part of our\n",
              "                // distribution.\n",
              "                'imageFont': null,\n",
              "            },\n",
              "            'messageStyle': 'none'\n",
              "            });\n",
              "            mathjax.Hub.Configured();\n",
              "        })();\n",
              "        </script>\n",
              "        "
            ],
            "text/plain": [
              "<IPython.core.display.HTML object>"
            ]
          },
          "metadata": {
            "tags": []
          }
        },
        {
          "output_type": "display_data",
          "data": {
            "application/vnd.jupyter.widget-view+json": {
              "model_id": "c1064ea699f14a998f7c419ebac24520",
              "version_minor": 0,
              "version_major": 2
            },
            "text/plain": [
              "VBox(children=(Output(), RadioButtons(options=('A and B', 'B and C', 'A and C'), value='A and B'), HTML(value=…"
            ]
          },
          "metadata": {
            "tags": []
          }
        }
      ]
    },
    {
      "cell_type": "markdown",
      "metadata": {
        "id": "fL3fjK3T5LUe",
        "colab_type": "text"
      },
      "source": [
        "<!--@slideshow slide-->\n",
        "## Colab demo: coherence in gensim"
      ]
    },
    {
      "cell_type": "markdown",
      "metadata": {
        "id": "BKU7IFAH0lyH",
        "colab_type": "text"
      },
      "source": [
        "`gensim` implements several versons of coherence, but the idea is always the same: estimate how often top words in topics co-occur."
      ]
    },
    {
      "cell_type": "code",
      "metadata": {
        "id": "e6p613zG0sVQ",
        "colab_type": "code",
        "outputId": "7e6f6334-73f8-4c6f-dc04-ec3f6c2648d2",
        "colab": {
          "base_uri": "https://localhost:8080/",
          "height": 51
        }
      },
      "source": [
        "from gensim.models import CoherenceModel\n",
        "cm_uci = CoherenceModel(\n",
        "    model=lda,\n",
        "    texts=train_documents,\n",
        "    dictionary=dictionary,\n",
        "    coherence='c_uci',  # 'c_uci' is similar to our implementation\n",
        "    topn=10\n",
        ")\n",
        "print(\"'c_uci' coherence per topic:\", cm_uci.get_coherence_per_topic())\n",
        "print(\"average 'c_uci' coherence:\", cm_uci.get_coherence())"
      ],
      "execution_count": 0,
      "outputs": [
        {
          "output_type": "stream",
          "text": [
            "'c_uci' coherence per topic: [0.3516373805029231, 0.3762110984123889, -0.03177036536676752]\n",
            "average 'c_uci' coherence: 0.23202603784951484\n"
          ],
          "name": "stdout"
        }
      ]
    },
    {
      "cell_type": "code",
      "metadata": {
        "id": "bTeQjoAJC3_D",
        "colab_type": "code",
        "outputId": "3b5a00c2-44bb-4945-f788-1afc682889e8",
        "colab": {
          "base_uri": "https://localhost:8080/",
          "height": 51
        }
      },
      "source": [
        "# 'c_v' is the current state-of-the-art\n",
        "# see http://svn.aksw.org/papers/2015/WSDM_Topic_Evaluation/public.pdf for details\n",
        "cm_v = CoherenceModel(\n",
        "    model=lda,\n",
        "    texts=train_documents,\n",
        "    dictionary=dictionary,\n",
        "    coherence='c_v',\n",
        "    topn=10\n",
        ")\n",
        "print(\"'c_v' coherence per topic:\", cm_v.get_coherence_per_topic())\n",
        "print(\"average 'c_v' coherence:\", cm_v.get_coherence())"
      ],
      "execution_count": 0,
      "outputs": [
        {
          "output_type": "stream",
          "text": [
            "'c_v' coherence per topic: [0.6321687836722216, 0.5221580742011538, 0.4389226872706772]\n",
            "average 'c_v' coherence: 0.5310831817146843\n"
          ],
          "name": "stdout"
        }
      ]
    },
    {
      "cell_type": "markdown",
      "metadata": {
        "id": "ECPzvlYwDV1_",
        "colab_type": "text"
      },
      "source": [
        "Using coherence , we can choose the optimal number of topics."
      ]
    },
    {
      "cell_type": "code",
      "metadata": {
        "id": "dN3Q-mK1DYqT",
        "colab_type": "code",
        "outputId": "cded2f28-231c-41fc-e073-c2eef6d21dd9",
        "colab": {
          "base_uri": "https://localhost:8080/",
          "height": 317,
          "referenced_widgets": [
            "36961edb6e6747e1af725553b513120a",
            "f94b0d9d013f4691ab00e8ba0b19f15c",
            "3175e823a7a543f798c8b9551fe7ada5",
            "66f8d08b23764fa5a32ecba255f807db",
            "2b8d1f22c10c40ccb4c3328c706c8377",
            "fb586e4f577e4e90a7ff1b237d9ad562",
            "d2193deaa87045738350ec1068795b28",
            "4cc52d682cc74a6faed9248a32e1a5d6"
          ]
        }
      },
      "source": [
        "import warnings\n",
        "warnings.filterwarnings('ignore')\n",
        "\n",
        "num_topics_grid = list(range(1, 7))\n",
        "coherences = []\n",
        "for num_topics in tqdm(num_topics_grid):\n",
        "    # train LDA with num_topics\n",
        "    lda_ = LdaModel(corpus, id2word=dictionary.id2token, num_topics=num_topics, passes=5)\n",
        "    # evaluate coherence\n",
        "    cm = CoherenceModel(model=lda_, texts=train_documents, dictionary=dictionary, coherence='c_v', topn=10)\n",
        "    coherences.append(cm.get_coherence())\n",
        "plt.plot(num_topics_grid, coherences)\n",
        "plt.show()"
      ],
      "execution_count": 0,
      "outputs": [
        {
          "output_type": "display_data",
          "data": {
            "application/vnd.jupyter.widget-view+json": {
              "model_id": "36961edb6e6747e1af725553b513120a",
              "version_minor": 0,
              "version_major": 2
            },
            "text/plain": [
              "HBox(children=(FloatProgress(value=0.0, max=6.0), HTML(value='')))"
            ]
          },
          "metadata": {
            "tags": []
          }
        },
        {
          "output_type": "stream",
          "text": [
            "\n"
          ],
          "name": "stdout"
        },
        {
          "output_type": "display_data",
          "data": {
            "image/png": "[encoded data removed]",
            "text/plain": [
              "<Figure size 432x288 with 1 Axes>"
            ]
          },
          "metadata": {
            "tags": []
          }
        }
      ]
    },
    {
      "cell_type": "markdown",
      "metadata": {
        "id": "h_W1g3qIVBVq",
        "colab_type": "text"
      },
      "source": [
        "<!--@slideshow slide-->\n",
        "# Colab demo: apply LDA model"
      ]
    },
    {
      "cell_type": "code",
      "metadata": {
        "id": "pHrjyYv0ZI1z",
        "colab_type": "code",
        "outputId": "4af9f517-7e88-4445-ab16-5a8673caa921",
        "colab": {
          "base_uri": "https://localhost:8080/",
          "height": 51
        }
      },
      "source": [
        "# experiment: document containing 1 word \"space\"\n",
        "space_doc = dictionary.doc2bow([\"space\"])\n",
        "print(\"document topics:\", lda.get_document_topics(space_doc))  # belongs to topic 0\n",
        "print(\"term topics:\", lda.get_term_topics(space_doc[0][0], minimum_probability=0))"
      ],
      "execution_count": 0,
      "outputs": [
        {
          "output_type": "stream",
          "text": [
            "document topics: [(0, 0.6497827), (1, 0.18174338), (2, 0.16847393)]\n",
            "term topics: [(0, 0.0098694), (1, 0.0044430923), (2, 0.00068774127)]\n"
          ],
          "name": "stdout"
        }
      ]
    },
    {
      "cell_type": "code",
      "metadata": {
        "id": "PNj-ECarYdNk",
        "colab_type": "code",
        "outputId": "245731fe-d572-44de-8fc8-8831a008af4f",
        "colab": {
          "base_uri": "https://localhost:8080/",
          "height": 368,
          "referenced_widgets": [
            "020030f9c0314a71a44450e61c5a8516",
            "57c1b88c5dd042b0adf1de6cc02925f1",
            "15a865c728b549d1afba111909dd9f88",
            "be5175b52b2e48ee969148a1fd73c129",
            "b9fba7710bbf4f3ca702386edf217588",
            "44ea31a69c2249de91e5edf1e2eea29b",
            "80dcf24deb5e48f290b66cb80dd19225",
            "8a918275e49047b8b57400f009bd6fd5"
          ]
        }
      },
      "source": [
        "# apply on new data\n",
        "test_documents = [tokens(t) for t in tqdm(test_dataset.data, desc=\"tokenize\")]\n",
        "print(\"test document example:\", test_documents[0])\n",
        "test_corpus = [dictionary.doc2bow(doc) for doc in test_documents]\n",
        "test_topics = [get_topic(lda, doc) for doc in test_corpus]\n",
        "plot_confusion_matrix(test_dataset.target, test_topics)\n",
        "estimate_clustering_quality(test_dataset.target, test_topics)"
      ],
      "execution_count": 0,
      "outputs": [
        {
          "output_type": "display_data",
          "data": {
            "application/vnd.jupyter.widget-view+json": {
              "model_id": "020030f9c0314a71a44450e61c5a8516",
              "version_minor": 0,
              "version_major": 2
            },
            "text/plain": [
              "HBox(children=(FloatProgress(value=0.0, description='tokenize', max=1182.0, style=ProgressStyle(description_wi…"
            ]
          },
          "metadata": {
            "tags": []
          }
        },
        {
          "output_type": "stream",
          "text": [
            "\n",
            "test document example: ['lose', 'year', 'maybe', 'should', 'eye', 'check', 'team', 'get', 'respect', 'mabee']\n"
          ],
          "name": "stdout"
        },
        {
          "output_type": "execute_result",
          "data": {
            "text/plain": [
              "0.7222606669904623"
            ]
          },
          "metadata": {
            "tags": []
          },
          "execution_count": 165
        },
        {
          "output_type": "display_data",
          "data": {
            "image/png": "[encoded data removed]",
            "text/plain": [
              "<Figure size 432x288 with 1 Axes>"
            ]
          },
          "metadata": {
            "tags": []
          }
        }
      ]
    },
    {
      "cell_type": "markdown",
      "metadata": {
        "id": "piepE-xMfAsi",
        "colab_type": "text"
      },
      "source": [
        "<!--@slideshow slide-->\n",
        "# Coding session 3"
      ]
    },
    {
      "cell_type": "markdown",
      "metadata": {
        "id": "9MyDUHSllI6d",
        "colab_type": "text"
      },
      "source": [
        "## Exercise 1\n",
        "\n",
        "Tokenize the texts. Use the method `tokens()` implemented above."
      ]
    },
    {
      "cell_type": "code",
      "metadata": {
        "id": "QbD65CZCiARl",
        "colab_type": "code",
        "colab": {
          "base_uri": "https://localhost:8080/",
          "height": 372,
          "referenced_widgets": [
            "21b2b656636447abbe618718ca013e1b",
            "e3e7912351a44f10aced90409f0bdd07",
            "7366317832f1442289f389a14e60be5a",
            "42873c708636431bae998aacb8a826e4",
            "b4b618ffc6464a06bbe1bee3c4f75cd7",
            "c26d16318f9a4384bc5f5bdb443f4e4f",
            "146a6bdc8f574a28a322c3ee0048c909",
            "b08e8090484044728f9cb69b2b545abe"
          ]
        },
        "outputId": "775bbfd0-587e-48c1-d3f0-bc7032060f66"
      },
      "source": [
        "import pandas as pd\n",
        "from sklearn.model_selection import train_test_split\n",
        "from sklearn.preprocessing import LabelEncoder\n",
        "\n",
        "df = pd.read_csv(\"harbour-space-text-mining-course/datasets/content_classification.csv\", header=0, names=[\"text\", \"label\"])\n",
        "# YOUR CODE HERE\n",
        "\n",
        "import spacy\n",
        "\n",
        "# to work with gensim we need to convert data into representable form\n",
        "# hence we need to tokenize text separately extract tokens (lemmas) with spaCy\n",
        "# we are interested in interpretable topics, so keep only nouns, adjectives, verbs and adverbs\n",
        "nlp = spacy.load(\"en\", disable=['parser', 'ner'])\n",
        "def tokens(s):\n",
        "    return [t.lemma_ for t in nlp(s) if t.pos_ in ['NOUN', 'ADJ', 'VERB', 'ADV']]\n",
        "\n",
        "le = LabelEncoder()\n",
        "y = le.fit_transform(df.label)\n",
        "X_train, X_test, y_test, y_train = train_test_split(df.text, y, test_size=0.25, shuffle=True, random_state=42)\n",
        "X_train = [tokens(t) for t in tqdm(X_train, desc=\"tokenize\")]\n",
        "X_train[0]"
      ],
      "execution_count": 4,
      "outputs": [
        {
          "output_type": "display_data",
          "data": {
            "application/vnd.jupyter.widget-view+json": {
              "model_id": "21b2b656636447abbe618718ca013e1b",
              "version_minor": 0,
              "version_major": 2
            },
            "text/plain": [
              "HBox(children=(FloatProgress(value=0.0, description='tokenize', max=9497.0, style=ProgressStyle(description_wi…"
            ]
          },
          "metadata": {
            "tags": []
          }
        },
        {
          "output_type": "stream",
          "text": [
            "\n"
          ],
          "name": "stdout"
        },
        {
          "output_type": "execute_result",
          "data": {
            "text/plain": [
              "['receive',\n",
              " 'email',\n",
              " 'state',\n",
              " 'final',\n",
              " 'piece',\n",
              " 'client',\n",
              " 'personal',\n",
              " 'computer',\n",
              " 'arrive',\n",
              " 'tomorrow',\n",
              " 'pretty',\n",
              " 'excited',\n",
              " 'build',\n",
              " 'see',\n",
              " 'how',\n",
              " 'like',\n",
              " 'final',\n",
              " 'product']"
            ]
          },
          "metadata": {
            "tags": []
          },
          "execution_count": 4
        }
      ]
    },
    {
      "cell_type": "markdown",
      "metadata": {
        "id": "wjpC2-bQlSZa",
        "colab_type": "text"
      },
      "source": [
        "## Exercise 2\n",
        "\n",
        "Create the dictionary for Gensim.\n",
        "- Filter out words that occur less than in 5 documents, or more than in 50% of the documents.\n",
        "- **NB**. There is a bug in Gensim: the dictionary should be initialized. To initialize the dictionary, you can just access an element of it. So print the dictionary element with the index 10."
      ]
    },
    {
      "cell_type": "code",
      "metadata": {
        "id": "VF7R9a4pjJWO",
        "colab_type": "code",
        "outputId": "cdf386b2-6f86-49ae-8c9b-d64aa10c9218",
        "colab": {
          "base_uri": "https://localhost:8080/",
          "height": 34
        }
      },
      "source": [
        "from gensim.corpora import Dictionary\n",
        "\n",
        "# YOUR CODE HERE\n",
        "dictionary = Dictionary(X_train)\n",
        "dictionary.filter_extremes(no_below=5, no_above=0.5)\n",
        "print(\"dictionary word with index 10:\", dictionary[10])"
      ],
      "execution_count": 5,
      "outputs": [
        {
          "output_type": "stream",
          "text": [
            "dictionary word with index 10: piece\n"
          ],
          "name": "stdout"
        }
      ]
    },
    {
      "cell_type": "markdown",
      "metadata": {
        "id": "EInKdl84ljcj",
        "colab_type": "text"
      },
      "source": [
        "## Exercise 3\n",
        "\n",
        "Create the corpus, converting each document from the exercise 1 to the bag-of-words representation using `.doc2bow()` method of the dictionary created in the Exercise 2."
      ]
    },
    {
      "cell_type": "code",
      "metadata": {
        "id": "tPukiSF_jpF8",
        "colab_type": "code",
        "outputId": "a494916d-c695-4f7f-9fc6-2ca21e7563b1",
        "colab": {
          "base_uri": "https://localhost:8080/",
          "height": 68
        }
      },
      "source": [
        "# YOUR CODE HERE\n",
        "corpus = [dictionary.doc2bow(doc) for doc in X_train]\n",
        "print(\"Example of BOW representation:\", corpus[0])\n",
        "print('Number of unique tokens:', len(dictionary))\n",
        "print('Number of documents:', len(corpus))"
      ],
      "execution_count": 6,
      "outputs": [
        {
          "output_type": "stream",
          "text": [
            "Example of BOW representation: [(0, 1), (1, 1), (2, 1), (3, 1), (4, 1), (5, 1), (6, 2), (7, 1), (8, 1), (9, 1), (10, 1), (11, 1), (12, 1), (13, 1), (14, 1), (15, 1), (16, 1)]\n",
            "Number of unique tokens: 1629\n",
            "Number of documents: 9497\n"
          ],
          "name": "stdout"
        }
      ]
    },
    {
      "cell_type": "markdown",
      "metadata": {
        "id": "eOd0izqklym8",
        "colab_type": "text"
      },
      "source": [
        "## Exercise 4\n",
        "\n",
        "Train `LdaModel` with 7 topics. Use 10 passes over the training data."
      ]
    },
    {
      "cell_type": "code",
      "metadata": {
        "id": "bheGb2v_jyEa",
        "colab_type": "code",
        "outputId": "a48e1514-f8f4-45af-eece-cb97f565fda0",
        "colab": {
          "base_uri": "https://localhost:8080/",
          "height": 289
        }
      },
      "source": [
        "from gensim.models import LdaModel\n",
        "\n",
        "# YOUR CODE HERE\n",
        "lda = LdaModel(\n",
        "    corpus,  # documents in BOW format\n",
        "    id2word=dictionary.id2token,  # id -> word mapping to make topics interpretable\n",
        "    num_topics=7,  # desired number of topics\n",
        "    passes=10,  # number of iterations\n",
        ")\n",
        "\n",
        "# recall what true categories are\n",
        "print(\"True categories:\", y_train)\n",
        "\n",
        "# look at the topics\n",
        "print(\"LDA topics:\")\n",
        "lda.print_topics()"
      ],
      "execution_count": 7,
      "outputs": [
        {
          "output_type": "stream",
          "text": [
            "True categories: [1 1 1 ... 1 0 2]\n",
            "LDA topics:\n"
          ],
          "name": "stdout"
        },
        {
          "output_type": "execute_result",
          "data": {
            "text/plain": [
              "[(0,\n",
              "  '0.032*\"time\" + 0.029*\"happy\" + 0.027*\"very\" + 0.024*\"first\" + 0.022*\"go\" + 0.018*\"see\" + 0.018*\"get\" + 0.017*\"when\" + 0.016*\"school\" + 0.016*\"so\"'),\n",
              " (1,\n",
              "  '0.048*\"buy\" + 0.041*\"new\" + 0.040*\"eat\" + 0.040*\"dinner\" + 0.025*\"car\" + 0.023*\"go\" + 0.022*\"food\" + 0.022*\"make\" + 0.018*\"favorite\" + 0.016*\"wife\"'),\n",
              " (2,\n",
              "  '0.078*\"happy\" + 0.045*\"make\" + 0.037*\"when\" + 0.025*\"very\" + 0.021*\"day\" + 0.020*\"feel\" + 0.019*\"month\" + 0.018*\"last\" + 0.017*\"so\" + 0.014*\"love\"'),\n",
              " (3,\n",
              "  '0.050*\"watch\" + 0.049*\"go\" + 0.026*\"time\" + 0.024*\"movie\" + 0.024*\"spend\" + 0.021*\"family\" + 0.021*\"get\" + 0.019*\"day\" + 0.018*\"walk\" + 0.017*\"show\"'),\n",
              " (4,\n",
              "  '0.045*\"get\" + 0.034*\"work\" + 0.031*\"new\" + 0.027*\"job\" + 0.026*\"receive\" + 0.017*\"money\" + 0.017*\"good\" + 0.017*\"find\" + 0.014*\"start\" + 0.013*\"pay\"'),\n",
              " (5,\n",
              "  '0.110*\"friend\" + 0.032*\"game\" + 0.029*\"go\" + 0.026*\"play\" + 0.022*\"see\" + 0.020*\"old\" + 0.020*\"good\" + 0.018*\"win\" + 0.018*\"talk\" + 0.017*\"time\"'),\n",
              " (6,\n",
              "  '0.058*\"work\" + 0.036*\"make\" + 0.028*\"today\" + 0.025*\"birthday\" + 0.025*\"happy\" + 0.020*\"day\" + 0.018*\"lunch\" + 0.015*\"mother\" + 0.014*\"finish\" + 0.014*\"get\"')]"
            ]
          },
          "metadata": {
            "tags": []
          },
          "execution_count": 7
        }
      ]
    },
    {
      "cell_type": "markdown",
      "metadata": {
        "id": "PLDke0JQl7ua",
        "colab_type": "text"
      },
      "source": [
        "## Exercise 5\n",
        "\n",
        "Visualize the LDA model from the Exercise 4 using `pyLDAVis`."
      ]
    },
    {
      "cell_type": "code",
      "metadata": {
        "id": "s1cMYV5AkC_l",
        "colab_type": "code",
        "colab": {}
      },
      "source": [
        "# YOUR CODE HERE\n",
        "!pip install -q pyldavis\n",
        "# pyldavis makes gensim spam with warnings, suppress\n",
        "import warnings\n",
        "warnings.filterwarnings('ignore')"
      ],
      "execution_count": 0,
      "outputs": []
    },
    {
      "cell_type": "code",
      "metadata": {
        "id": "i8tuftC-XnQa",
        "colab_type": "code",
        "colab": {
          "base_uri": "https://localhost:8080/",
          "height": 861
        },
        "outputId": "f03f4e95-c187-47df-8d99-06c1f45df8f8"
      },
      "source": [
        "# Colab hint: View output fullscreen\n",
        "import pyLDAvis\n",
        "import pyLDAvis.gensim  # don't skip this\n",
        "\n",
        "pyLDAvis.enable_notebook()\n",
        "pyLDAvis.gensim.prepare(lda, corpus, dictionary)"
      ],
      "execution_count": 10,
      "outputs": [
        {
          "output_type": "execute_result",
          "data": {
            "text/html": [
              "\n",
              "<link rel=\"stylesheet\" type=\"text/css\" href=\"https://cdn.rawgit.com/bmabey/pyLDAvis/files/ldavis.v1.0.0.css\">\n",
              "\n",
              "\n",
              "<div id=\"ldavis_el1211398010164790801731349251\"></div>\n",
              "<script type=\"text/javascript\">\n",
              "\n",
              "var ldavis_el1211398010164790801731349251_data = {\"mdsDat\": {\"x\": [0.09474180829199548, 0.022291064789460246, 0.20437094877017584, 0.18181739133623984, -0.20681405157106508, -0.19990622571340816, -0.09650093590339776], \"y\": [0.11553137502313113, 0.1613042768373222, -0.10213556306090336, 0.005234738695531368, 0.10332549930050168, 0.005659687025455718, -0.2889200138210387], \"topics\": [1, 2, 3, 4, 5, 6, 7], \"cluster\": [1, 1, 1, 1, 1, 1, 1], \"Freq\": [19.096736907958984, 18.001558303833008, 14.162217140197754, 13.178512573242188, 12.961591720581055, 11.895736694335938, 10.70364761352539]}, \"tinfo\": {\"Term\": [\"friend\", \"work\", \"happy\", \"watch\", \"buy\", \"new\", \"eat\", \"dinner\", \"go\", \"game\", \"make\", \"time\", \"job\", \"play\", \"receive\", \"birthday\", \"today\", \"first\", \"movie\", \"when\", \"car\", \"favorite\", \"spend\", \"food\", \"see\", \"feel\", \"win\", \"lunch\", \"very\", \"money\", \"brother\", \"sleep\", \"lose\", \"cat\", \"ask\", \"room\", \"girl\", \"face\", \"date\", \"hug\", \"am\", \"pound\", \"joy\", \"sweet\", \"church\", \"tour\", \"taste\", \"huge\", \"eye\", \"stand\", \"wish\", \"lay\", \"heart\", \"mood\", \"diet\", \"clear\", \"real\", \"relief\", \"scale\", \"create\", \"love\", \"baby\", \"event\", \"little\", \"never\", \"would\", \"always\", \"tell\", \"clean\", \"happy\", \"ago\", \"when\", \"young\", \"say\", \"month\", \"make\", \"feel\", \"smile\", \"last\", \"very\", \"past\", \"so\", \"day\", \"night\", \"son\", \"give\", \"see\", \"week\", \"moment\", \"year\", \"get\", \"morning\", \"go\", \"good\", \"be\", \"ride\", \"high\", \"feeling\", \"funny\", \"graduate\", \"bike\", \"second\", \"season\", \"degree\", \"relative\", \"grade\", \"meeting\", \"bear\", \"discover\", \"world\", \"miss\", \"pet\", \"movement\", \"graduation\", \"begin\", \"worker\", \"holiday\", \"earn\", \"line\", \"awhile\", \"co\", \"road\", \"ceremony\", \"self\", \"school\", \"first\", \"trip\", \"name\", \"hospital\", \"result\", \"attend\", \"time\", \"back\", \"experience\", \"about\", \"become\", \"very\", \"moment\", \"college\", \"daughter\", \"see\", \"life\", \"so\", \"long\", \"happy\", \"parent\", \"go\", \"when\", \"come\", \"sister\", \"get\", \"year\", \"son\", \"home\", \"day\", \"yesterday\", \"feel\", \"much\", \"take\", \"month\", \"family\", \"make\", \"money\", \"wake\", \"pass\", \"online\", \"mail\", \"save\", \"job\", \"exam\", \"cream\", \"gym\", \"ice\", \"promotion\", \"bill\", \"bad\", \"final\", \"enough\", \"set\", \"check\", \"important\", \"forget\", \"record\", \"amount\", \"workout\", \"receive\", \"credit\", \"course\", \"personal\", \"successful\", \"clothe\", \"nap\", \"interview\", \"compliment\", \"pay\", \"purchase\", \"coffee\", \"start\", \"free\", \"new\", \"more\", \"get\", \"work\", \"class\", \"do\", \"hard\", \"find\", \"hit\", \"well\", \"phone\", \"want\", \"need\", \"good\", \"finally\", \"morning\", \"can\", \"feel\", \"today\", \"able\", \"make\", \"really\", \"happy\", \"will\", \"take\", \"lunch\", \"mother\", \"birthday\", \"celebrate\", \"leave\", \"pizza\", \"breakfast\", \"extra\", \"raise\", \"special\", \"coworker\", \"cake\", \"doctor\", \"pregnant\", \"mile\", \"off\", \"task\", \"anniversary\", \"mine\", \"earlier\", \"sandwich\", \"grandma\", \"story\", \"sun\", \"easy\", \"fit\", \"sick\", \"accomplish\", \"excellent\", \"laundry\", \"difficult\", \"complete\", \"project\", \"work\", \"finish\", \"today\", \"mom\", \"wedding\", \"happen\", \"help\", \"gift\", \"make\", \"early\", \"surprise\", \"way\", \"day\", \"home\", \"happy\", \"come\", \"give\", \"able\", \"hour\", \"husband\", \"get\", \"will\", \"when\", \"wife\", \"very\", \"week\", \"take\", \"friend\", \"game\", \"call\", \"team\", \"catch\", \"offer\", \"hang\", \"video\", \"away\", \"travel\", \"town\", \"plant\", \"match\", \"garden\", \"beat\", \"invite\", \"basketball\", \"city\", \"fall\", \"price\", \"celebration\", \"memory\", \"asleep\", \"mall\", \"flight\", \"board\", \"tea\", \"granddaughter\", \"touch\", \"pool\", \"talk\", \"childhood\", \"drink\", \"play\", \"win\", \"meet\", \"company\", \"visit\", \"old\", \"speak\", \"fun\", \"live\", \"party\", \"year\", \"see\", \"weekend\", \"go\", \"good\", \"great\", \"time\", \"really\", \"get\", \"last\", \"come\", \"daughter\", \"long\", \"new\", \"night\", \"enjoy\", \"watch\", \"movie\", \"tv\", \"outside\", \"walk\", \"news\", \"bonus\", \"relax\", \"yard\", \"episode\", \"nephew\", \"song\", \"dance\", \"concert\", \"boy\", \"here\", \"baseball\", \"deal\", \"park\", \"ground\", \"period\", \"cuddle\", \"ball\", \"fly\", \"busy\", \"marry\", \"praise\", \"snuggle\", \"cricket\", \"sing\", \"show\", \"spend\", \"together\", \"kid\", \"dog\", \"rain\", \"go\", \"family\", \"weather\", \"favorite\", \"enjoy\", \"nice\", \"time\", \"play\", \"girlfriend\", \"take\", \"wife\", \"day\", \"get\", \"yesterday\", \"lot\", \"able\", \"see\", \"husband\", \"son\", \"good\", \"today\", \"buy\", \"dinner\", \"eat\", \"car\", \"food\", \"delicious\", \"cook\", \"restaurant\", \"ticket\", \"meal\", \"read\", \"sell\", \"awesome\", \"successfully\", \"tonight\", \"scratch\", \"recipe\", \"roommate\", \"chocolate\", \"award\", \"shoe\", \"cookie\", \"beer\", \"approve\", \"pair\", \"lottery\", \"fiance\", \"kitchen\", \"bake\", \"competition\", \"book\", \"vacation\", \"new\", \"favorite\", \"fix\", \"wife\", \"go\", \"win\", \"store\", \"make\", \"last\", \"family\", \"husband\", \"really\", \"good\", \"able\", \"night\", \"great\", \"get\", \"house\", \"home\"], \"Freq\": [1073.0, 977.0, 1841.0, 444.0, 385.0, 800.0, 325.0, 321.0, 1342.0, 314.0, 1401.0, 896.0, 296.0, 388.0, 283.0, 253.0, 469.0, 372.0, 215.0, 944.0, 200.0, 271.0, 272.0, 177.0, 730.0, 519.0, 256.0, 181.0, 900.0, 184.0, 139.81932067871094, 106.3305892944336, 104.43096923828125, 103.86995697021484, 88.197021484375, 63.43274688720703, 61.55192565917969, 53.52668380737305, 52.801490783691406, 40.16452407836914, 39.816925048828125, 38.73787307739258, 35.2410888671875, 32.755714416503906, 32.47582244873047, 28.682437896728516, 25.444534301757812, 24.917428970336914, 24.621749877929688, 25.781667709350586, 24.21951675415039, 23.12643051147461, 22.995777130126953, 22.205760955810547, 21.102859497070312, 19.800386428833008, 19.454042434692383, 19.366636276245117, 18.886873245239258, 18.305076599121094, 202.03732299804688, 104.81829071044922, 196.33346557617188, 122.14338684082031, 74.48117065429688, 169.2553253173828, 79.7220230102539, 181.760986328125, 79.68360137939453, 1111.8992919921875, 157.172607421875, 524.8589477539062, 53.97551727294922, 135.71559143066406, 266.06573486328125, 642.1402587890625, 290.07098388671875, 65.29386138916016, 254.7788543701172, 363.4953308105469, 96.6607894897461, 239.26223754882812, 296.27618408203125, 139.8016815185547, 156.27401733398438, 124.97816467285156, 190.5448455810547, 133.14886474609375, 109.64649200439453, 116.22480010986328, 141.12725830078125, 101.54488372802734, 110.89893341064453, 105.06745147705078, 116.60466003417969, 82.99039459228516, 70.82598876953125, 58.966552734375, 58.8186149597168, 58.55506896972656, 54.12569046020508, 48.590694427490234, 46.69438171386719, 40.5612678527832, 40.00615310668945, 35.48387145996094, 35.50680160522461, 33.487457275390625, 31.588041305541992, 31.26137924194336, 31.438133239746094, 28.035400390625, 27.544662475585938, 27.438608169555664, 27.32495880126953, 27.16680335998535, 24.913894653320312, 24.398263931274414, 24.416810989379883, 23.831357955932617, 24.173879623413086, 23.31109619140625, 23.221065521240234, 22.7581729888916, 212.65264892578125, 328.6390380859375, 124.78144836425781, 30.63801383972168, 29.04254722595215, 48.94435501098633, 49.5169677734375, 432.4486999511719, 125.34880065917969, 50.30335235595703, 70.4228744506836, 44.83067321777344, 360.11505126953125, 139.21226501464844, 66.72758483886719, 156.5654296875, 243.3599090576172, 124.11551666259766, 211.78573608398438, 128.88555908203125, 385.8188781738281, 66.71419525146484, 296.56591796875, 229.7535400390625, 155.94900512695312, 90.78691864013672, 240.69198608398438, 127.5242691040039, 118.09748077392578, 113.70763397216797, 162.03189086914062, 104.8815689086914, 107.4571304321289, 83.90609741210938, 96.26226806640625, 97.97633361816406, 90.5091781616211, 92.28309631347656, 182.9746551513672, 90.49308013916016, 75.98324584960938, 69.19282531738281, 64.71354675292969, 60.53832244873047, 291.7707824707031, 55.737525939941406, 54.67391586303711, 56.77312469482422, 53.200931549072266, 49.084495544433594, 47.72462463378906, 44.92793273925781, 43.07773971557617, 43.19863510131836, 42.525978088378906, 64.58281707763672, 40.413841247558594, 38.04753875732422, 36.412906646728516, 36.10948944091797, 34.93489074707031, 276.2841491699219, 33.183006286621094, 32.01145553588867, 31.56066131591797, 31.03238296508789, 27.679616928100586, 27.022157669067383, 44.40825271606445, 37.01095962524414, 139.98977661132812, 91.23776245117188, 63.814273834228516, 146.8463134765625, 78.37020111083984, 332.353515625, 131.2092742919922, 483.2585144042969, 365.64117431640625, 77.28670501708984, 120.14907836914062, 75.31621551513672, 175.68777465820312, 61.46714401245117, 128.46725463867188, 76.77544403076172, 92.80223083496094, 80.22547912597656, 177.48822021484375, 120.63104248046875, 103.79590606689453, 85.90172576904297, 121.5518798828125, 116.8394775390625, 108.44568634033203, 114.63899230957031, 89.78800201416016, 94.03215026855469, 78.29732513427734, 79.47486114501953, 180.47314453125, 145.22817993164062, 252.3103485107422, 100.3526840209961, 80.59698486328125, 65.53228759765625, 56.18364715576172, 54.70975875854492, 51.015045166015625, 48.22157669067383, 40.36696243286133, 39.30535888671875, 37.17391586303711, 35.002098083496094, 33.06329345703125, 36.47426223754883, 29.5133056640625, 28.4659366607666, 28.355518341064453, 27.7933292388916, 26.068218231201172, 26.020429611206055, 28.257387161254883, 25.27507209777832, 25.291763305664062, 24.685630798339844, 23.234914779663086, 22.139297485351562, 22.23723793029785, 20.59525489807129, 25.09328269958496, 123.9838638305664, 93.79013061523438, 578.3279418945312, 143.36566162109375, 281.4665222167969, 99.55255889892578, 47.7891960144043, 49.16670608520508, 106.63928985595703, 76.65243530273438, 355.4122009277344, 58.459869384765625, 78.9056167602539, 56.37255859375, 202.76776123046875, 122.66388702392578, 243.70565795898438, 115.3847885131836, 86.53019714355469, 114.02094268798828, 78.34856414794922, 86.05145263671875, 134.58197021484375, 70.92546081542969, 107.42427062988281, 74.94136810302734, 87.23406219482422, 75.70797729492188, 71.2931137084961, 1072.1953125, 313.2407531738281, 157.2009735107422, 94.85726928710938, 77.66465759277344, 70.92760467529297, 68.94300079345703, 120.7297592163086, 61.983192443847656, 56.29157638549805, 55.51344299316406, 44.99936294555664, 43.26478576660156, 42.78778076171875, 40.31289291381836, 38.51726531982422, 37.99652099609375, 37.17760467529297, 31.705554962158203, 25.761554718017578, 24.430681228637695, 23.382076263427734, 22.27944564819336, 21.205049514770508, 20.972490310668945, 20.196462631225586, 26.83509063720703, 18.22852325439453, 18.116558074951172, 18.100709915161133, 172.0847625732422, 26.777667999267578, 61.00529479980469, 251.7133331298828, 174.19955444335938, 152.3410186767578, 64.95836639404297, 141.76513671875, 197.9750213623047, 45.64381790161133, 89.3343276977539, 62.89688491821289, 67.61593627929688, 152.42958068847656, 210.86312866210938, 84.03592681884766, 281.1324157714844, 196.165771484375, 102.984375, 163.24002075195312, 124.44056701660156, 147.89747619628906, 108.21615600585938, 81.9025650024414, 76.98371124267578, 73.23849487304688, 75.5289306640625, 69.86685180664062, 69.4555892944336, 443.181396484375, 214.16856384277344, 83.71427917480469, 83.17375946044922, 162.9966278076172, 48.79867172241211, 48.03178787231445, 47.327186584472656, 42.242218017578125, 40.29689025878906, 39.872833251953125, 71.05272674560547, 37.748191833496094, 36.197017669677734, 35.92959213256836, 33.305023193359375, 31.907400131225586, 28.848247528076172, 63.205604553222656, 27.780176162719727, 26.685396194458008, 25.866186141967773, 25.443363189697266, 25.4045467376709, 23.157276153564453, 22.857009887695312, 22.708518981933594, 22.537864685058594, 22.403629302978516, 22.399436950683594, 154.30267333984375, 210.46484375, 125.82059478759766, 103.34115600585938, 112.67711639404297, 47.13105010986328, 434.16668701171875, 189.6351318359375, 52.82538604736328, 128.78578186035156, 138.16671752929688, 114.98835754394531, 233.9047393798828, 136.40333557128906, 83.98033142089844, 126.18986511230469, 106.09954071044922, 169.386962890625, 189.0074462890625, 82.07866668701172, 74.38067626953125, 83.19769287109375, 85.80101776123047, 70.10990142822266, 68.64501190185547, 73.2840347290039, 69.16191864013672, 384.690673828125, 321.0447998046875, 324.5279541015625, 200.12432861328125, 176.4499053955078, 103.5835952758789, 101.19889068603516, 100.58958435058594, 87.36691284179688, 66.56938171386719, 63.95930099487305, 43.589019775390625, 39.120967864990234, 38.676082611083984, 38.318267822265625, 36.652713775634766, 34.520790100097656, 32.5572624206543, 32.30986022949219, 32.01435852050781, 31.29610824584961, 30.76920509338379, 30.753198623657227, 30.59185791015625, 27.30587387084961, 25.974946975708008, 25.889493942260742, 22.79191017150879, 21.134714126586914, 20.141164779663086, 94.9232406616211, 68.44621276855469, 328.4097900390625, 141.5024871826172, 53.115806579589844, 128.03529357910156, 188.9270477294922, 81.54081726074219, 49.8040657043457, 173.7945098876953, 100.63024139404297, 90.02984619140625, 73.31700897216797, 86.40355682373047, 90.57791900634766, 76.7424545288086, 65.1417236328125, 65.59679412841797, 87.89186096191406, 57.816219329833984, 62.24079895019531], \"Total\": [1073.0, 977.0, 1841.0, 444.0, 385.0, 800.0, 325.0, 321.0, 1342.0, 314.0, 1401.0, 896.0, 296.0, 388.0, 283.0, 253.0, 469.0, 372.0, 215.0, 944.0, 200.0, 271.0, 272.0, 177.0, 730.0, 519.0, 256.0, 181.0, 900.0, 184.0, 140.6656494140625, 107.17951202392578, 105.27477264404297, 104.71437072753906, 89.04505920410156, 64.27655792236328, 62.4928092956543, 54.37063217163086, 53.65010452270508, 41.008079528808594, 40.661354064941406, 39.5810432434082, 36.120880126953125, 33.6035270690918, 33.333717346191406, 29.52811622619629, 26.289209365844727, 25.768604278564453, 25.46589469909668, 26.66921043395996, 25.063663482666016, 23.972116470336914, 23.840503692626953, 23.0500431060791, 21.947566986083984, 20.647436141967773, 20.298152923583984, 20.21247100830078, 19.731422424316406, 19.149471282958984, 214.42518615722656, 111.46641540527344, 217.62916564941406, 133.80918884277344, 81.4583969116211, 194.29978942871094, 88.3752212524414, 216.4341278076172, 91.68934631347656, 1841.7884521484375, 216.20640563964844, 944.174072265625, 64.9845199584961, 197.49806213378906, 459.6980285644531, 1401.1993408203125, 519.6621704101562, 83.12535858154297, 544.31884765625, 900.9822998046875, 150.53330993652344, 614.955078125, 905.234375, 285.7471923828125, 369.8986511230469, 268.5301513671875, 730.990966796875, 381.4453125, 252.56851196289062, 403.2980041503906, 1424.45654296875, 267.7862548828125, 1342.55908203125, 722.5662231445312, 117.4497299194336, 83.93171691894531, 71.67268371582031, 59.81279373168945, 59.6644401550293, 59.399742126464844, 54.97064971923828, 49.43802261352539, 47.5406608581543, 41.40654373168945, 40.852142333984375, 36.329551696777344, 36.354469299316406, 34.33252716064453, 32.435237884521484, 32.106773376464844, 32.30126953125, 28.880685806274414, 28.389936447143555, 28.283315658569336, 28.172359466552734, 28.032594680786133, 25.759687423706055, 25.244211196899414, 25.263731002807617, 24.67803955078125, 25.04424285888672, 24.15607261657715, 24.06612777709961, 23.60503578186035, 232.590576171875, 372.3005065917969, 137.99880981445312, 32.0492057800293, 30.48297119140625, 55.69936752319336, 58.02313995361328, 896.7448120117188, 195.04806518554688, 61.85280990600586, 97.08733367919922, 54.090145111083984, 900.9822998046875, 252.56851196289062, 95.06875610351562, 356.2870788574219, 730.990966796875, 266.19293212890625, 614.955078125, 302.3837890625, 1841.7884521484375, 104.86514282226562, 1342.55908203125, 944.174072265625, 469.904541015625, 179.3486785888672, 1424.45654296875, 403.2980041503906, 369.8986511230469, 376.54931640625, 905.234375, 332.3952941894531, 519.6621704101562, 219.0594024658203, 407.02752685546875, 459.6980285644531, 439.57745361328125, 1401.1993408203125, 184.57687377929688, 91.33839416503906, 76.83638763427734, 70.03888702392578, 65.55774688720703, 61.38299560546875, 296.09454345703125, 56.582035064697266, 55.518367767333984, 57.66889190673828, 54.0455207824707, 49.92892837524414, 48.56888198852539, 45.77446365356445, 43.922752380371094, 44.047245025634766, 43.371665954589844, 65.9176254272461, 41.25922393798828, 38.8975944519043, 37.25811767578125, 36.97489547729492, 35.7789421081543, 283.076171875, 34.02756118774414, 32.860008239746094, 32.40547180175781, 31.877532958984375, 28.526042938232422, 27.867738723754883, 45.87984085083008, 38.25665283203125, 151.52587890625, 99.24217987060547, 75.59095001220703, 224.978759765625, 102.10542297363281, 800.125, 227.043212890625, 1424.45654296875, 977.8626708984375, 110.0271987915039, 219.34629821777344, 108.03389739990234, 445.0054931640625, 80.43578338623047, 297.11346435546875, 120.90428924560547, 175.3428955078125, 135.69927978515625, 722.5662231445312, 335.220703125, 267.7862548828125, 187.3173065185547, 519.6621704101562, 469.57257080078125, 529.284912109375, 1401.1993408203125, 510.57879638671875, 1841.7884521484375, 200.16607666015625, 407.02752685546875, 181.31881713867188, 146.0740509033203, 253.92660522460938, 101.19817352294922, 81.44538879394531, 66.37812042236328, 57.031009674072266, 55.556243896484375, 51.860618591308594, 49.06814193725586, 41.21236038208008, 40.15083694458008, 38.020748138427734, 35.84794616699219, 33.90879821777344, 37.43378448486328, 30.358346939086914, 29.311176300048828, 29.202075958251953, 28.64002227783203, 26.91412353515625, 26.866336822509766, 29.177309036254883, 26.121103286743164, 26.141447067260742, 25.532224655151367, 24.081275939941406, 22.98517417907715, 23.0894775390625, 21.440326690673828, 26.59288787841797, 165.32354736328125, 120.44136047363281, 977.8626708984375, 206.3467559814453, 469.57257080078125, 138.3629913330078, 58.24482345581055, 61.02634048461914, 207.23316955566406, 131.88734436035156, 1401.1993408203125, 89.25241088867188, 143.07630920410156, 93.98080444335938, 905.234375, 376.54931640625, 1841.7884521484375, 469.904541015625, 268.5301513671875, 529.284912109375, 219.50306701660156, 303.0322570800781, 1424.45654296875, 200.16607666015625, 944.174072265625, 322.80169677734375, 900.9822998046875, 381.4453125, 407.02752685546875, 1073.09521484375, 314.108642578125, 158.05435180664062, 95.7065200805664, 78.50874328613281, 71.7732925415039, 69.78706359863281, 122.29638671875, 62.828590393066406, 57.13636779785156, 56.360023498535156, 45.84400177001953, 44.10847854614258, 43.63228988647461, 41.15703201293945, 39.361759185791016, 38.84003829956055, 38.02216339111328, 32.55189514160156, 26.607404708862305, 25.274967193603516, 24.227815628051758, 23.123762130737305, 22.04962158203125, 21.81686782836914, 21.041152954101562, 28.024864196777344, 19.073137283325195, 18.961339950561523, 18.945356369018555, 232.4629364013672, 29.553192138671875, 75.6233139038086, 388.8197937011719, 256.44384765625, 222.31517028808594, 82.28434753417969, 208.99034118652344, 325.5403747558594, 55.01799774169922, 144.78419494628906, 93.17964172363281, 104.3767318725586, 403.2980041503906, 730.990966796875, 154.9709930419922, 1342.55908203125, 722.5662231445312, 313.7222900390625, 896.7448120117188, 510.57879638671875, 1424.45654296875, 544.31884765625, 469.904541015625, 356.2870788574219, 302.3837890625, 800.125, 285.7471923828125, 318.9566650390625, 444.0249938964844, 215.0115966796875, 84.5578384399414, 84.01753997802734, 165.03594970703125, 49.65534591674805, 48.876220703125, 48.17058181762695, 43.086830139160156, 41.1397705078125, 40.71664810180664, 72.59232330322266, 38.60051727294922, 37.04079055786133, 36.77433395385742, 34.15140914916992, 32.75139617919922, 29.69354820251465, 65.08350372314453, 28.62596893310547, 27.530527114868164, 26.70986557006836, 26.288909912109375, 26.24928092956543, 24.00271224975586, 23.70256805419922, 23.55321502685547, 23.381818771362305, 23.24854278564453, 23.27842140197754, 169.66566467285156, 272.35443115234375, 174.06875610351562, 155.7785186767578, 190.43466186523438, 61.87446212768555, 1342.55908203125, 439.57745361328125, 73.81997680664062, 271.111572265625, 318.9566650390625, 257.38055419921875, 896.7448120117188, 388.8197937011719, 172.36708068847656, 407.02752685546875, 322.80169677734375, 905.234375, 1424.45654296875, 332.3952941894531, 269.4426574707031, 529.284912109375, 730.990966796875, 303.0322570800781, 369.8986511230469, 722.5662231445312, 469.57257080078125, 385.5464172363281, 321.9127197265625, 325.9373779296875, 200.9939727783203, 177.2943878173828, 104.42829895019531, 102.04286193847656, 101.43977355957031, 88.2141342163086, 67.41516876220703, 64.80416870117188, 44.433349609375, 39.96646499633789, 39.52131652832031, 39.163238525390625, 37.497291564941406, 35.364479064941406, 33.40215301513672, 33.15365982055664, 32.8607292175293, 32.14051818847656, 31.613126754760742, 31.597869873046875, 31.43682289123535, 28.149436950683594, 26.81859016418457, 26.734878540039062, 23.637643814086914, 21.978862762451172, 20.986974716186523, 111.98443603515625, 96.22242736816406, 800.125, 271.111572265625, 72.58245849609375, 322.80169677734375, 1342.55908203125, 256.44384765625, 89.18975830078125, 1401.1993408203125, 544.31884765625, 439.57745361328125, 303.0322570800781, 510.57879638671875, 722.5662231445312, 529.284912109375, 285.7471923828125, 313.7222900390625, 1424.45654296875, 202.64772033691406, 376.54931640625], \"Category\": [\"Default\", \"Default\", \"Default\", \"Default\", \"Default\", \"Default\", \"Default\", \"Default\", \"Default\", \"Default\", \"Default\", \"Default\", \"Default\", \"Default\", \"Default\", \"Default\", \"Default\", \"Default\", \"Default\", \"Default\", \"Default\", \"Default\", \"Default\", \"Default\", \"Default\", \"Default\", \"Default\", \"Default\", \"Default\", \"Default\", \"Topic1\", \"Topic1\", \"Topic1\", \"Topic1\", \"Topic1\", \"Topic1\", \"Topic1\", \"Topic1\", \"Topic1\", \"Topic1\", \"Topic1\", \"Topic1\", \"Topic1\", \"Topic1\", \"Topic1\", \"Topic1\", \"Topic1\", \"Topic1\", \"Topic1\", \"Topic1\", \"Topic1\", \"Topic1\", \"Topic1\", \"Topic1\", \"Topic1\", \"Topic1\", \"Topic1\", \"Topic1\", \"Topic1\", \"Topic1\", \"Topic1\", \"Topic1\", \"Topic1\", \"Topic1\", \"Topic1\", \"Topic1\", \"Topic1\", \"Topic1\", \"Topic1\", \"Topic1\", \"Topic1\", \"Topic1\", \"Topic1\", \"Topic1\", \"Topic1\", \"Topic1\", \"Topic1\", \"Topic1\", \"Topic1\", \"Topic1\", \"Topic1\", \"Topic1\", \"Topic1\", \"Topic1\", \"Topic1\", \"Topic1\", \"Topic1\", \"Topic1\", \"Topic1\", \"Topic1\", \"Topic1\", \"Topic1\", \"Topic1\", \"Topic1\", \"Topic2\", \"Topic2\", \"Topic2\", \"Topic2\", \"Topic2\", \"Topic2\", \"Topic2\", \"Topic2\", \"Topic2\", \"Topic2\", \"Topic2\", \"Topic2\", \"Topic2\", \"Topic2\", \"Topic2\", \"Topic2\", \"Topic2\", \"Topic2\", \"Topic2\", \"Topic2\", \"Topic2\", \"Topic2\", \"Topic2\", \"Topic2\", \"Topic2\", \"Topic2\", \"Topic2\", \"Topic2\", \"Topic2\", \"Topic2\", \"Topic2\", \"Topic2\", \"Topic2\", \"Topic2\", \"Topic2\", \"Topic2\", \"Topic2\", \"Topic2\", \"Topic2\", \"Topic2\", \"Topic2\", \"Topic2\", \"Topic2\", \"Topic2\", \"Topic2\", \"Topic2\", \"Topic2\", \"Topic2\", \"Topic2\", \"Topic2\", \"Topic2\", \"Topic2\", \"Topic2\", \"Topic2\", \"Topic2\", \"Topic2\", \"Topic2\", \"Topic2\", \"Topic2\", \"Topic2\", \"Topic2\", \"Topic2\", \"Topic2\", \"Topic2\", \"Topic2\", \"Topic2\", \"Topic2\", \"Topic2\", \"Topic3\", \"Topic3\", \"Topic3\", \"Topic3\", \"Topic3\", \"Topic3\", \"Topic3\", \"Topic3\", \"Topic3\", \"Topic3\", \"Topic3\", \"Topic3\", \"Topic3\", \"Topic3\", \"Topic3\", \"Topic3\", \"Topic3\", \"Topic3\", \"Topic3\", \"Topic3\", \"Topic3\", \"Topic3\", \"Topic3\", \"Topic3\", \"Topic3\", \"Topic3\", \"Topic3\", \"Topic3\", \"Topic3\", \"Topic3\", \"Topic3\", \"Topic3\", \"Topic3\", \"Topic3\", \"Topic3\", \"Topic3\", \"Topic3\", \"Topic3\", \"Topic3\", \"Topic3\", \"Topic3\", \"Topic3\", \"Topic3\", \"Topic3\", \"Topic3\", \"Topic3\", \"Topic3\", \"Topic3\", \"Topic3\", \"Topic3\", \"Topic3\", \"Topic3\", \"Topic3\", \"Topic3\", \"Topic3\", \"Topic3\", \"Topic3\", \"Topic3\", \"Topic3\", \"Topic3\", \"Topic3\", \"Topic3\", \"Topic4\", \"Topic4\", \"Topic4\", \"Topic4\", \"Topic4\", \"Topic4\", \"Topic4\", \"Topic4\", \"Topic4\", \"Topic4\", \"Topic4\", \"Topic4\", \"Topic4\", \"Topic4\", \"Topic4\", \"Topic4\", \"Topic4\", \"Topic4\", \"Topic4\", \"Topic4\", \"Topic4\", \"Topic4\", \"Topic4\", \"Topic4\", \"Topic4\", \"Topic4\", \"Topic4\", \"Topic4\", \"Topic4\", \"Topic4\", \"Topic4\", \"Topic4\", \"Topic4\", \"Topic4\", \"Topic4\", \"Topic4\", \"Topic4\", \"Topic4\", \"Topic4\", \"Topic4\", \"Topic4\", \"Topic4\", \"Topic4\", \"Topic4\", \"Topic4\", \"Topic4\", \"Topic4\", \"Topic4\", \"Topic4\", \"Topic4\", \"Topic4\", \"Topic4\", \"Topic4\", \"Topic4\", \"Topic4\", \"Topic4\", \"Topic4\", \"Topic4\", \"Topic4\", \"Topic4\", \"Topic5\", \"Topic5\", \"Topic5\", \"Topic5\", \"Topic5\", \"Topic5\", \"Topic5\", \"Topic5\", \"Topic5\", \"Topic5\", \"Topic5\", \"Topic5\", \"Topic5\", \"Topic5\", \"Topic5\", \"Topic5\", \"Topic5\", \"Topic5\", \"Topic5\", \"Topic5\", \"Topic5\", \"Topic5\", \"Topic5\", \"Topic5\", \"Topic5\", \"Topic5\", \"Topic5\", \"Topic5\", \"Topic5\", \"Topic5\", \"Topic5\", \"Topic5\", \"Topic5\", \"Topic5\", \"Topic5\", \"Topic5\", \"Topic5\", \"Topic5\", \"Topic5\", \"Topic5\", \"Topic5\", \"Topic5\", \"Topic5\", \"Topic5\", \"Topic5\", \"Topic5\", \"Topic5\", \"Topic5\", \"Topic5\", \"Topic5\", \"Topic5\", \"Topic5\", \"Topic5\", \"Topic5\", \"Topic5\", \"Topic5\", \"Topic5\", \"Topic5\", \"Topic5\", \"Topic6\", \"Topic6\", \"Topic6\", \"Topic6\", \"Topic6\", \"Topic6\", \"Topic6\", \"Topic6\", \"Topic6\", \"Topic6\", \"Topic6\", \"Topic6\", \"Topic6\", \"Topic6\", \"Topic6\", \"Topic6\", \"Topic6\", \"Topic6\", \"Topic6\", \"Topic6\", \"Topic6\", \"Topic6\", \"Topic6\", \"Topic6\", \"Topic6\", \"Topic6\", \"Topic6\", \"Topic6\", \"Topic6\", \"Topic6\", \"Topic6\", \"Topic6\", \"Topic6\", \"Topic6\", \"Topic6\", \"Topic6\", \"Topic6\", \"Topic6\", \"Topic6\", \"Topic6\", \"Topic6\", \"Topic6\", \"Topic6\", \"Topic6\", \"Topic6\", \"Topic6\", \"Topic6\", \"Topic6\", \"Topic6\", \"Topic6\", \"Topic6\", \"Topic6\", \"Topic6\", \"Topic6\", \"Topic6\", \"Topic6\", \"Topic6\", \"Topic7\", \"Topic7\", \"Topic7\", \"Topic7\", \"Topic7\", \"Topic7\", \"Topic7\", \"Topic7\", \"Topic7\", \"Topic7\", \"Topic7\", \"Topic7\", \"Topic7\", \"Topic7\", \"Topic7\", \"Topic7\", \"Topic7\", \"Topic7\", \"Topic7\", \"Topic7\", \"Topic7\", \"Topic7\", \"Topic7\", \"Topic7\", \"Topic7\", \"Topic7\", \"Topic7\", \"Topic7\", \"Topic7\", \"Topic7\", \"Topic7\", \"Topic7\", \"Topic7\", \"Topic7\", \"Topic7\", \"Topic7\", \"Topic7\", \"Topic7\", \"Topic7\", \"Topic7\", \"Topic7\", \"Topic7\", \"Topic7\", \"Topic7\", \"Topic7\", \"Topic7\", \"Topic7\", \"Topic7\", \"Topic7\", \"Topic7\", \"Topic7\"], \"logprob\": [30.0, 29.0, 28.0, 27.0, 26.0, 25.0, 24.0, 23.0, 22.0, 21.0, 20.0, 19.0, 18.0, 17.0, 16.0, 15.0, 14.0, 13.0, 12.0, 11.0, 10.0, 9.0, 8.0, 7.0, 6.0, 5.0, 4.0, 3.0, 2.0, 1.0, -4.630799770355225, -4.904600143432617, -4.922699928283691, -4.928100109100342, -5.091599941253662, -5.421199798583984, -5.451300144195557, -5.591000080108643, -5.604700088500977, -5.878200054168701, -5.886899948120117, -5.914400100708008, -6.008999824523926, -6.082099914550781, -6.090700149536133, -6.214900016784668, -6.334700107574463, -6.355599880218506, -6.367599964141846, -6.321499824523926, -6.383999824523926, -6.430200099945068, -6.4359002113342285, -6.470799922943115, -6.5218000411987305, -6.5854997634887695, -6.603099822998047, -6.607600212097168, -6.632699966430664, -6.664000034332275, -4.262700080871582, -4.919000148773193, -4.291399955749512, -4.765999794006348, -5.260700225830078, -4.439799785614014, -5.192699909210205, -4.368500232696533, -5.1930999755859375, -2.5573999881744385, -4.513899803161621, -3.3080999851226807, -5.582699775695801, -4.660600185394287, -3.987499952316284, -3.1064000129699707, -3.901099920272827, -5.392300128936768, -4.030799865722656, -3.6754000186920166, -5.0, -4.093599796295166, -3.8798999786376953, -4.63100004196167, -4.519599914550781, -4.743100166320801, -4.321300029754639, -4.679699897766113, -4.873899936676025, -4.815700054168701, -4.621500015258789, -4.950699806213379, -4.862599849700928, -4.916600227355957, -4.753300189971924, -5.093400001525879, -5.2519001960754395, -5.435200214385986, -5.437699794769287, -5.442200183868408, -5.5208001136779785, -5.628699779510498, -5.668499946594238, -5.809299945831299, -5.8231000900268555, -5.9430999755859375, -5.942399978637695, -6.000999927520752, -6.0594000816345215, -6.069799900054932, -6.0640997886657715, -6.178699970245361, -6.196300029754639, -6.200200080871582, -6.2042999267578125, -6.210100173950195, -6.2967000007629395, -6.317599773406982, -6.31689977645874, -6.341100215911865, -6.326900005340576, -6.3632001876831055, -6.367099761962891, -6.387199878692627, -4.152500152587891, -3.7172000408172607, -4.6855998039245605, -6.089900016784668, -6.143400192260742, -5.621500015258789, -5.609799861907959, -3.442699909210205, -4.681000232696533, -5.594099998474121, -5.257599830627441, -5.709199905395508, -3.625699996948242, -4.576099872589111, -5.311500072479248, -4.458700180053711, -4.017600059509277, -4.690899848937988, -4.156599998474121, -4.653200149536133, -3.55679988861084, -5.311699867248535, -3.8199000358581543, -4.075099945068359, -4.462600231170654, -5.003600120544434, -4.028600215911865, -4.66379976272583, -4.740600109100342, -4.778500080108643, -4.424300193786621, -4.859300136566162, -4.835000038146973, -5.082399845123291, -4.945099830627441, -4.9274001121521, -5.006700038909912, -4.987299919128418, -4.062900066375732, -4.767000198364258, -4.941699981689453, -5.035399913787842, -5.10230016708374, -5.169000148773193, -3.596299886703491, -5.2515997886657715, -5.270899772644043, -5.2332000732421875, -5.2982001304626465, -5.378699779510498, -5.406799793243408, -5.467199802398682, -5.509300231933594, -5.506400108337402, -5.52209997177124, -5.104300022125244, -5.5731000900268555, -5.633399963378906, -5.677299976348877, -5.685699939727783, -5.718800067901611, -3.6507999897003174, -5.770199775695801, -5.80620002746582, -5.820300102233887, -5.837200164794922, -5.951600074768066, -5.975599765777588, -5.478799819946289, -5.660999774932861, -4.330699920654297, -4.758800029754639, -5.116300106048584, -4.282899856567383, -4.910799980163574, -3.466099977493286, -4.395500183105469, -3.0917000770568848, -3.3705999851226807, -4.924699783325195, -4.483500003814697, -4.9506001472473145, -4.103499889373779, -5.153800010681152, -4.416600227355957, -4.931399822235107, -4.741799831390381, -4.887400150299072, -4.093400001525879, -4.479499816894531, -4.629799842834473, -4.8190999031066895, -4.47189998626709, -4.511499881744385, -4.585999965667725, -4.5304999351501465, -4.774799823760986, -4.728600025177002, -4.9116997718811035, -4.8968000411987305, -4.004700183868408, -4.2220001220703125, -3.669600009918213, -4.591599941253662, -4.810800075531006, -5.0177001953125, -5.171599864959717, -5.198200225830078, -5.268099784851074, -5.32450008392334, -5.502299785614014, -5.528900146484375, -5.584700107574463, -5.644899845123291, -5.7017998695373535, -5.603700160980225, -5.815400123596191, -5.851600170135498, -5.855400085449219, -5.875500202178955, -5.939599990844727, -5.941400051116943, -5.85890007019043, -5.970399856567383, -5.969799995422363, -5.99399995803833, -6.054599761962891, -6.10290002822876, -6.098499774932861, -6.17519998550415, -5.977700233459473, -4.380099773406982, -4.659200191497803, -2.840100049972534, -4.234899997711182, -3.56030011177063, -4.599599838256836, -5.333499908447266, -5.305099964141846, -4.530799865722656, -4.861000061035156, -3.3269999027252197, -5.131899833679199, -4.831999778747559, -5.168300151824951, -3.888200044631958, -4.3907999992370605, -3.7042999267578125, -4.452000141143799, -4.739799976348877, -4.463900089263916, -4.839099884033203, -4.745299816131592, -4.298099994659424, -4.938600063323975, -4.523499965667725, -4.883600234985352, -4.7316999435424805, -4.8734002113342285, -4.933499813079834, -2.206199884414673, -3.4367001056671143, -4.126100063323975, -4.63129997253418, -4.831299781799316, -4.921999931335449, -4.950399875640869, -4.390100002288818, -5.05679988861084, -5.15310001373291, -5.166999816894531, -5.376999855041504, -5.416299819946289, -5.4274001121521, -5.486999988555908, -5.532599925994873, -5.546199798583984, -5.567999839782715, -5.727200031280518, -5.934800148010254, -5.987800121307373, -6.031700134277344, -6.079999923706055, -6.12939977645874, -6.140500068664551, -6.178199768066406, -5.894000053405762, -6.280700206756592, -6.286799907684326, -6.287700176239014, -4.035699844360352, -5.896100044250488, -5.072700023651123, -3.655400037765503, -4.023499965667725, -4.15749979019165, -5.009900093078613, -4.229499816894531, -3.8954999446868896, -5.362800121307373, -4.691299915313721, -5.042200088500977, -4.969799995422363, -4.1570000648498535, -3.8324999809265137, -4.752399921417236, -3.544800043106079, -3.9047000408172607, -4.549099922180176, -4.088399887084961, -4.359799861907959, -4.18720006942749, -4.499499797821045, -4.77810001373291, -4.840099811553955, -4.889900207519531, -4.8592000007629395, -4.937099933624268, -4.942999839782715, -3.0039000511169434, -3.731100082397461, -4.670499801635742, -4.6768999099731445, -4.0040998458862305, -5.21019983291626, -5.22599983215332, -5.240799903869629, -5.354400157928467, -5.401599884033203, -5.412199974060059, -4.834400177001953, -5.466899871826172, -5.508900165557861, -5.516300201416016, -5.592199802398682, -5.635000228881836, -5.735799789428711, -4.951499938964844, -5.773499965667725, -5.813700199127197, -5.844900131225586, -5.861400127410889, -5.8628997802734375, -5.955599784851074, -5.968599796295166, -5.975100040435791, -5.982699871063232, -5.98859977722168, -5.988800048828125, -4.058899879455566, -3.748500108718872, -4.263000011444092, -4.459799766540527, -4.373300075531006, -5.244900226593018, -3.024399995803833, -3.852799892425537, -5.130899906158447, -4.239699840545654, -4.169400215148926, -4.353000164031982, -3.642899990081787, -4.182199954986572, -4.667300224304199, -4.2600998878479, -4.433499813079834, -3.9656999111175537, -3.856100082397461, -4.690199851989746, -4.788700103759766, -4.676599979400635, -4.6458001136779785, -4.847799777984619, -4.868899822235107, -4.803500175476074, -4.861400127410889, -3.039799928665161, -3.2207000255584717, -3.20989990234375, -3.6933000087738037, -3.819200038909912, -4.351900100708008, -4.375199794769287, -4.381199836730957, -4.52209997177124, -4.794000148773193, -4.834000110626221, -5.21750020980835, -5.3256001472473145, -5.336999893188477, -5.34630012512207, -5.3907999992370605, -5.450699806213379, -5.509300231933594, -5.516900062561035, -5.526100158691406, -5.548799991607666, -5.565800189971924, -5.566299915313721, -5.571499824523926, -5.685200214385986, -5.735099792480469, -5.738399982452393, -5.865900039672852, -5.941299915313721, -5.989500045776367, -4.439199924468994, -4.766200065612793, -3.197999954223633, -4.039899826049805, -5.019800186157227, -4.139999866485596, -3.7509000301361084, -4.59119987487793, -5.084199905395508, -3.834399938583374, -4.380799770355225, -4.492099761962891, -4.697500228881836, -4.533199787139893, -4.486100196838379, -4.651800155639648, -4.815700054168701, -4.808700084686279, -4.516200065612793, -4.934999942779541, -4.861299991607666], \"loglift\": [30.0, 29.0, 28.0, 27.0, 26.0, 25.0, 24.0, 23.0, 22.0, 21.0, 20.0, 19.0, 18.0, 17.0, 16.0, 15.0, 14.0, 13.0, 12.0, 11.0, 10.0, 9.0, 8.0, 7.0, 6.0, 5.0, 4.0, 3.0, 2.0, 1.0, 1.6496000289916992, 1.6476999521255493, 1.6476000547409058, 1.6476000547409058, 1.6461000442504883, 1.6424000263214111, 1.6404999494552612, 1.6399999856948853, 1.6397000551223755, 1.6348999738693237, 1.6346999406814575, 1.6340999603271484, 1.63100004196167, 1.6301000118255615, 1.6296000480651855, 1.6266000270843506, 1.6230000257492065, 1.6220999956130981, 1.621899962425232, 1.6217999458312988, 1.621399998664856, 1.6196999549865723, 1.6196000576019287, 1.618299961090088, 1.6164000034332275, 1.613800048828125, 1.6131999492645264, 1.6129000186920166, 1.611899971961975, 1.6105999946594238, 1.5960999727249146, 1.5942000150680542, 1.5527000427246094, 1.5643999576568604, 1.566100001335144, 1.517699956893921, 1.5526000261306763, 1.4810999631881714, 1.5153000354766846, 1.1510000228881836, 1.3367999792099, 1.06850004196167, 1.4700000286102295, 1.280500054359436, 1.1088000535964966, 0.8754000067710876, 1.07260000705719, 1.414199948310852, 0.8964999914169312, 0.7479000091552734, 1.2127000093460083, 0.7117000222206116, 0.5388000011444092, 0.9408000111579895, 0.7940000295639038, 0.8907999992370605, 0.3111000061035156, 0.6032000184059143, 0.8212000131607056, 0.4115000069141388, -0.6561999917030334, 0.6859999895095825, -0.838100016117096, -0.272599995136261, 1.7074999809265137, 1.7034000158309937, 1.7028000354766846, 1.7005000114440918, 1.7003999948501587, 1.7003999948501587, 1.6992000341415405, 1.6973999738693237, 1.6967999935150146, 1.694100022315979, 1.6937999725341797, 1.6912000179290771, 1.691100001335144, 1.6898000240325928, 1.6881999969482422, 1.687999963760376, 1.687600016593933, 1.684999942779541, 1.684499979019165, 1.684399962425232, 1.6842000484466553, 1.6833000183105469, 1.6813000440597534, 1.6806000471115112, 1.6806000471115112, 1.679800033569336, 1.6792999505996704, 1.6791000366210938, 1.6790000200271606, 1.6782000064849854, 1.625100016593933, 1.590000033378601, 1.6139999628067017, 1.669700026512146, 1.6663000583648682, 1.5853999853134155, 1.5562000274658203, 0.9854000210762024, 1.2726000547409058, 1.5080000162124634, 1.3935999870300293, 1.5269999504089355, 0.7975999712944031, 1.11899995803833, 1.360700011253357, 0.8924000263214111, 0.6148999929428101, 0.95169997215271, 0.6486999988555908, 0.8618999719619751, 0.15160000324249268, 1.2625000476837158, 0.2046000063419342, 0.30140000581741333, 0.6116999983787537, 1.0339000225067139, -0.0632999986410141, 0.5633000135421753, 0.5730000138282776, 0.517300009727478, -0.00570000009611249, 0.5612000226974487, 0.13860000669956207, 0.7551000118255615, 0.2728999853134155, 0.1688999980688095, 0.13429999351501465, -1.0054999589920044, 1.9458999633789062, 1.9452999830245972, 1.9434000253677368, 1.9423999786376953, 1.94159996509552, 1.9407000541687012, 1.9399000406265259, 1.9395999908447266, 1.9392999410629272, 1.9388999938964844, 1.9387999773025513, 1.9375, 1.9371000528335571, 1.9358999729156494, 1.9351999759674072, 1.9350999593734741, 1.9349000453948975, 1.9341000318527222, 1.933899998664856, 1.9325000047683716, 1.9315999746322632, 1.930899977684021, 1.9306999444961548, 1.930299997329712, 1.9294999837875366, 1.9284000396728516, 1.9282000064849854, 1.9277000427246094, 1.9244999885559082, 1.923799991607666, 1.9220000505447388, 1.9214999675750732, 1.8753999471664429, 1.8704999685287476, 1.7851999998092651, 1.527999997138977, 1.690000057220459, 1.0759999752044678, 1.4062000513076782, 0.8736000061035156, 0.9708999991416931, 1.6014000177383423, 1.3526999950408936, 1.5937999486923218, 1.0252000093460083, 1.6856000423431396, 1.1161999702453613, 1.500499963760376, 1.3183000087738037, 1.4290000200271606, 0.5507000088691711, 0.9325000047683716, 1.0068000555038452, 1.1749999523162842, 0.501800000667572, 0.5636000037193298, 0.3693000078201294, -0.5486999750137329, 0.21649999916553497, -1.020300030708313, 1.0160000324249268, 0.32120001316070557, 2.021899938583374, 2.0208001136779785, 2.02020001411438, 2.018199920654297, 2.0160999298095703, 2.0137999057769775, 2.0116000175476074, 2.011199951171875, 2.0100998878479004, 2.009200096130371, 2.0058999061584473, 2.0053000450134277, 2.0041000843048096, 2.002700090408325, 2.001300096511841, 2.0006000995635986, 1.9983999729156494, 1.9973000288009644, 1.9972000122070312, 1.9966000318527222, 1.9946000576019287, 1.9946000576019287, 1.9945000410079956, 1.9937000274658203, 1.993499994277954, 1.992900013923645, 1.9908000230789185, 1.9890999794006348, 1.9889999628067017, 1.9864000082015991, 1.968500018119812, 1.738800048828125, 1.7764999866485596, 1.5013999938964844, 1.6624000072479248, 1.514799952507019, 1.6973999738693237, 1.8286999464035034, 1.8105000257492065, 1.3622000217437744, 1.4838999509811401, 0.6547999978065491, 1.6035000085830688, 1.43149995803833, 1.5154999494552612, 0.5303999781608582, 0.9049999713897705, 0.004100000020116568, 0.6223000288009644, 0.89410001039505, 0.49140000343322754, 0.996399998664856, 0.7677000164985657, -0.3328000009059906, 0.9890999794006348, -0.1468999981880188, 0.5662999749183655, -0.3082999885082245, 0.40950000286102295, 0.28450000286102295, 2.04229998588562, 2.0404000282287598, 2.0378000736236572, 2.0343000888824463, 2.032399892807007, 2.0313000679016113, 2.0309998989105225, 2.0302999019622803, 2.029599905014038, 2.0283000469207764, 2.0280001163482666, 2.024600028991699, 2.023900032043457, 2.0236001014709473, 2.0225000381469727, 2.0215001106262207, 2.021199941635132, 2.020699977874756, 2.0167999267578125, 2.0109000205993652, 2.009200096130371, 2.0076000690460205, 2.00600004196167, 2.0041000843048096, 2.003700017929077, 2.00219988822937, 1.9997999668121338, 1.9979000091552734, 1.9975999593734741, 1.9975999593734741, 1.742400050163269, 1.944599986076355, 1.8284000158309937, 1.6083999872207642, 1.656499981880188, 1.6651999950408936, 1.8066999912261963, 1.6550999879837036, 1.545799970626831, 1.8564000129699707, 1.5602999925613403, 1.6500999927520752, 1.6089999675750732, 1.070199966430664, 0.800000011920929, 1.4312000274658203, 0.4796999990940094, 0.739300012588501, 0.9291999936103821, 0.33959999680519104, 0.6315000057220459, -0.22179999947547913, 0.4277999997138977, 0.2962000072002411, 0.5109999775886536, 0.6251999735832214, -0.31709998846054077, 0.6347000002861023, 0.5188000202178955, 2.1270999908447266, 2.1250998973846436, 2.11899995803833, 2.1189000606536865, 2.1166000366210938, 2.111599922180176, 2.111599922180176, 2.111299991607666, 2.1092000007629395, 2.108299970626831, 2.1080000400543213, 2.107599973678589, 2.1066999435424805, 2.1059000492095947, 2.105799913406372, 2.1038999557495117, 2.1029000282287598, 2.100100040435791, 2.0996999740600586, 2.0989999771118164, 2.0978000164031982, 2.09689998626709, 2.096299886703491, 2.096299886703491, 2.093100070953369, 2.0927000045776367, 2.0924999713897705, 2.0922000408172607, 2.0920000076293945, 2.0905001163482666, 2.03410005569458, 1.8711999654769897, 1.8043999671936035, 1.7186000347137451, 1.604200005531311, 1.8567999601364136, 1.000100016593933, 1.2883000373840332, 1.7943999767303467, 1.384600043296814, 1.2924000024795532, 1.3233000040054321, 0.785099983215332, 1.0815000534057617, 1.4098999500274658, 0.9578999876976013, 1.0162999629974365, 0.453000009059906, 0.10920000076293945, 0.7303000092506409, 0.8417999744415283, 0.27869999408721924, -0.013399999588727951, 0.6651999950408936, 0.4447000026702881, -0.15950000286102295, 0.21359999477863312, 2.2323999404907227, 2.2318999767303467, 2.230299949645996, 2.2302000522613525, 2.22979998588562, 2.2265000343322754, 2.226300001144409, 2.2262001037597656, 2.224900007247925, 2.2219998836517334, 2.2214999198913574, 2.215399980545044, 2.213200092315674, 2.2130000591278076, 2.2128000259399414, 2.2118000984191895, 2.210400104522705, 2.2090001106262207, 2.2088000774383545, 2.2084999084472656, 2.2079999446868896, 2.2074999809265137, 2.2074999809265137, 2.2072999477386475, 2.204200029373169, 2.2026000022888184, 2.202500104904175, 2.198199987411499, 2.1953999996185303, 2.1933999061584473, 2.0692999362945557, 1.8940000534057617, 1.344099998474121, 1.5844000577926636, 1.9222999811172485, 1.3099000453948975, 0.2736000120639801, 1.0887999534606934, 1.651900053024292, 0.14740000665187836, 0.546500027179718, 0.6488999724388123, 0.815500020980835, 0.45809999108314514, 0.15800000727176666, 0.3034999966621399, 0.7559999823570251, 0.6696000099182129, -0.5508999824523926, 0.980400025844574, 0.4345000088214874]}, \"token.table\": {\"Topic\": [1, 3, 4, 5, 6, 7, 1, 2, 4, 1, 2, 1, 2, 5, 1, 3, 4, 7, 1, 5, 2, 7, 7, 5, 7, 2, 1, 2, 2, 5, 7, 3, 7, 6, 6, 5, 2, 2, 5, 1, 2, 5, 7, 2, 2, 3, 3, 4, 5, 6, 4, 7, 6, 4, 1, 6, 7, 4, 5, 1, 2, 3, 4, 7, 1, 5, 4, 5, 2, 2, 3, 2, 5, 7, 1, 5, 2, 3, 1, 7, 1, 3, 2, 1, 3, 2, 5, 1, 2, 4, 5, 6, 7, 5, 6, 7, 2, 3, 4, 3, 6, 6, 7, 7, 3, 4, 3, 1, 3, 6, 6, 6, 1, 1, 2, 4, 5, 6, 1, 2, 3, 4, 5, 6, 6, 2, 7, 1, 4, 7, 7, 2, 1, 3, 4, 5, 6, 4, 1, 2, 4, 6, 5, 7, 4, 3, 4, 6, 2, 4, 4, 7, 1, 2, 4, 5, 6, 7, 3, 6, 1, 4, 3, 4, 2, 4, 7, 4, 1, 1, 5, 1, 2, 4, 6, 7, 6, 7, 1, 2, 3, 2, 7, 3, 1, 2, 3, 4, 6, 7, 1, 2, 3, 4, 5, 6, 7, 3, 4, 7, 2, 3, 5, 4, 1, 2, 7, 5, 6, 7, 3, 3, 5, 7, 5, 2, 5, 6, 2, 5, 5, 1, 2, 3, 4, 5, 6, 7, 1, 3, 4, 1, 1, 4, 6, 7, 1, 2, 3, 4, 7, 1, 2, 4, 5, 6, 7, 1, 2, 3, 4, 5, 6, 7, 2, 2, 2, 5, 4, 1, 2, 3, 4, 5, 6, 7, 6, 3, 5, 4, 5, 1, 2, 3, 4, 5, 6, 7, 2, 3, 1, 1, 2, 3, 4, 5, 7, 6, 2, 1, 3, 5, 2, 1, 2, 4, 5, 6, 7, 2, 5, 1, 4, 5, 6, 1, 3, 4, 5, 7, 1, 1, 1, 4, 6, 7, 3, 3, 3, 5, 5, 2, 3, 5, 1, 1, 2, 6, 7, 1, 2, 3, 4, 5, 7, 4, 1, 4, 1, 2, 3, 4, 5, 2, 1, 4, 1, 4, 5, 1, 2, 3, 5, 6, 1, 1, 2, 3, 4, 5, 6, 7, 7, 1, 6, 4, 3, 1, 2, 3, 4, 5, 7, 5, 6, 5, 7, 1, 2, 4, 5, 2, 5, 4, 4, 2, 1, 4, 1, 2, 3, 5, 3, 7, 1, 2, 3, 4, 5, 7, 1, 1, 2, 3, 4, 5, 7, 1, 2, 3, 6, 4, 2, 6, 1, 2, 4, 5, 2, 7, 3, 1, 3, 4, 6, 1, 2, 7, 2, 3, 5, 6, 7, 6, 1, 2, 4, 5, 6, 7, 1, 5, 6, 7, 4, 5, 1, 2, 5, 6, 3, 6, 7, 2, 4, 5, 6, 7, 2, 6, 4, 5, 3, 1, 4, 5, 3, 7, 6, 3, 2, 3, 5, 4, 5, 5, 6, 5, 1, 6, 4, 5, 3, 4, 3, 3, 4, 1, 6, 4, 7, 1, 1, 2, 3, 4, 5, 6, 7, 2, 3, 4, 7, 3, 2, 6, 1, 7, 1, 2, 2, 2, 1, 7, 4, 3, 1, 2, 1, 1, 2, 7, 2, 2, 1, 2, 5, 6, 2, 7, 3, 7, 2, 6, 4, 6, 1, 2, 4, 6, 1, 1, 2, 6, 1, 2, 3, 4, 5, 6, 7, 1, 2, 4, 6, 3, 6, 3, 4, 5, 4, 2, 5, 6, 1, 1, 2, 3, 5, 6, 3, 4, 6, 7, 4, 3, 7, 4, 1, 3, 4, 1, 2, 3, 4, 6, 7, 1, 2, 5, 6, 4, 1, 5, 5, 1, 4, 7, 1, 2, 3, 4, 5, 6, 1, 3, 4, 6, 1, 2, 5, 6, 7, 5, 1, 5, 5, 2, 4, 6, 2, 7, 1, 2, 3, 4, 5, 6, 7, 5, 6, 2, 4, 5, 3, 2, 6, 1, 3, 5, 6, 7, 6, 1, 2, 4, 7, 4, 6, 2, 4, 1, 2, 4, 5, 7, 4, 5, 6, 7, 1, 2, 3, 4, 5, 6, 7, 1, 2, 3, 4, 5, 6, 7, 1, 2, 4, 6, 7, 1, 2, 3, 4, 5, 5, 7, 1, 2, 3, 4, 6, 2, 3, 2, 1, 4, 5, 6, 1, 2, 5, 7, 1, 2, 3, 4, 5, 6, 7, 1, 6], \"Freq\": [0.1587046980857849, 0.20404888689517975, 0.21538494527339935, 0.11902852356433868, 0.15681535005569458, 0.14547930657863617, 0.26780012249946594, 0.7210003137588501, 0.95713871717453, 0.7261579632759094, 0.26826217770576477, 0.9052311182022095, 0.011315388604998589, 0.07920772582292557, 0.9837350845336914, 0.9736335873603821, 0.9552670121192932, 0.9861047267913818, 0.988263726234436, 0.9514023065567017, 0.8617251515388489, 0.13787603378295898, 0.9738067388534546, 0.9868118762969971, 0.9758180975914001, 0.9725245833396912, 0.9419877529144287, 0.05382787436246872, 0.6408676505088806, 0.18456989526748657, 0.16918906569480896, 0.9830808639526367, 0.9554634690284729, 0.9509713649749756, 0.9770575761795044, 0.9783718585968018, 0.9961708784103394, 0.9611876010894775, 0.9718873500823975, 0.12941358983516693, 0.8319445252418518, 0.03697531297802925, 0.9810788035392761, 0.9583861827850342, 0.9823424220085144, 0.988287091255188, 0.003938145935535431, 0.9924127459526062, 0.9505182504653931, 0.982072651386261, 0.142876997590065, 0.8483321666717529, 0.9789436459541321, 0.9819219708442688, 0.9952678680419922, 0.9582250714302063, 0.9985827207565308, 0.9713371396064758, 0.9933291673660278, 0.08541656285524368, 0.34166625142097473, 0.4591140151023865, 0.10677070170640945, 0.9950547218322754, 0.9931778907775879, 0.9935199022293091, 0.9881601333618164, 0.9495561122894287, 0.9557000994682312, 0.015170449391007423, 0.986079216003418, 0.06767458468675613, 0.9136068820953369, 0.9652026295661926, 0.9599889516830444, 0.9731166362762451, 0.2908371686935425, 0.6998269557952881, 0.8725113868713379, 0.11997031420469284, 0.9686432480812073, 0.9815592169761658, 0.9583040475845337, 0.14552006125450134, 0.8466622233390808, 0.7047531008720398, 0.294523686170578, 0.20216871798038483, 0.3319823145866394, 0.24473056197166443, 0.17450352013111115, 0.004256183747202158, 0.040433745831251144, 0.7899436950683594, 0.20660065114498138, 0.9529720544815063, 0.006048745010048151, 0.24194981157779694, 0.7500444054603577, 0.9671520590782166, 0.026139244437217712, 0.9719014763832092, 0.9897801876068115, 0.9806053042411804, 0.973828136920929, 0.9705826044082642, 0.9906631112098694, 0.9399737119674683, 0.9698020815849304, 0.9462958574295044, 0.9734231233596802, 0.9844427704811096, 0.9878824949264526, 0.1150757446885109, 0.4406558871269226, 0.05894123390316963, 0.21611785888671875, 0.17121024429798126, 0.3269871473312378, 0.1789591759443283, 0.041978079825639725, 0.22425131499767303, 0.040873393416404724, 0.1866919845342636, 0.9766431450843811, 0.9901816844940186, 0.9958986043930054, 0.956825852394104, 0.9401009678840637, 0.037604037672281265, 0.9971647262573242, 0.9865813255310059, 0.232509046792984, 0.5470800995826721, 0.19603703916072845, 0.004559000954031944, 0.018236003816127777, 0.9731528759002686, 0.12602747976779938, 0.1942923665046692, 0.08926946669816971, 0.5933793783187866, 0.8066295385360718, 0.1851280927658081, 0.9776528477668762, 0.123245969414711, 0.649842381477356, 0.21287940442562103, 0.950713038444519, 0.956335723400116, 0.003068074118345976, 0.9971240758895874, 0.021946555003523827, 0.20065422356128693, 0.0031352222431451082, 0.21633033454418182, 0.43266066908836365, 0.12227366119623184, 0.9762244820594788, 0.9722951650619507, 0.9006145596504211, 0.09649442136287689, 0.9897134304046631, 0.9528149962425232, 0.8083707094192505, 0.08083707094192505, 0.0970044881105423, 0.9899877309799194, 0.9817051291465759, 0.9931832551956177, 0.9830456972122192, 0.15014418959617615, 0.2070169895887375, 0.006824736017733812, 0.4322332739830017, 0.20474207401275635, 0.4758188724517822, 0.5237696170806885, 0.5580548644065857, 0.20590299367904663, 0.23476791381835938, 0.9864110350608826, 0.9725123643875122, 0.9789914488792419, 0.27146294713020325, 0.1998683214187622, 0.36095622181892395, 0.056679077446460724, 0.005966218654066324, 0.10440882295370102, 0.16404291987419128, 0.1438184529542923, 0.3955007493495941, 0.06292057037353516, 0.02696595899760723, 0.11235816031694412, 0.09438085556030273, 0.2423105686903, 0.6930082440376282, 0.06300074607133865, 0.8836947679519653, 0.06983605772256851, 0.045662038028240204, 0.9791547656059265, 0.22043894231319427, 0.04133230075240135, 0.7302039861679077, 0.9625579714775085, 0.9524070620536804, 0.9926992058753967, 0.9769241809844971, 0.7639163136482239, 0.019587598741054535, 0.20566977560520172, 0.998979389667511, 0.08978880941867828, 0.6147080063819885, 0.29008692502975464, 0.9888637065887451, 0.9964705109596252, 0.9855086803436279, 0.09898512065410614, 0.16918733716011047, 0.3390766978263855, 0.09477298706769943, 0.1038992702960968, 0.1326821744441986, 0.06177794560790062, 0.2653779983520508, 0.15164457261562347, 0.5838316082954407, 0.9921141266822815, 0.3074833154678345, 0.011603143997490406, 0.4873320460319519, 0.19145187735557556, 0.46549707651138306, 0.014895906671881676, 0.14895907044410706, 0.3239859640598297, 0.04468771815299988, 0.08267792314291, 0.22121931612491608, 0.02309023216366768, 0.20930176973342896, 0.3232632279396057, 0.14077593386173248, 0.14531539380550385, 0.07611759006977081, 0.2449602484703064, 0.034598905593156815, 0.27125540375709534, 0.10102880001068115, 0.1259400099515915, 0.963403046131134, 0.9932702779769897, 0.9546263813972473, 0.943735659122467, 0.9677538275718689, 0.0095625976100564, 0.12112623453140259, 0.14662650227546692, 0.08925090730190277, 0.3283158540725708, 0.0988135114312172, 0.21037714183330536, 0.9781328439712524, 0.9884011745452881, 0.9887219071388245, 0.8029319643974304, 0.18025003373622894, 0.6037609577178955, 0.20957890152931213, 0.05103734880685806, 0.13247992098331451, 0.002714752685278654, 0.0005429505254141986, 0.0005429505254141986, 0.2962033152580261, 0.6942265629768372, 0.9647447466850281, 0.18336832523345947, 0.08685868233442307, 0.00482548214495182, 0.5163266062736511, 0.10616061091423035, 0.11098609119653702, 0.9662851691246033, 0.9906144738197327, 0.16161960363388062, 0.758368968963623, 0.07459366321563721, 0.9705086946487427, 0.06904806196689606, 0.3027491867542267, 0.3266504406929016, 0.06108097732067108, 0.07701514661312103, 0.16465306282043457, 0.9513508081436157, 0.032805200666189194, 0.20956426858901978, 0.3553481101989746, 0.24145448207855225, 0.19134129583835602, 0.4737285077571869, 0.07895474880933762, 0.024673359468579292, 0.1332361400127411, 0.28621095418930054, 0.9754175543785095, 0.9701728224754333, 0.24089844524860382, 0.2837981581687927, 0.23099851608276367, 0.24089844524860382, 0.9806548357009888, 0.9694801568984985, 0.9590268731117249, 0.02179606445133686, 0.9908093810081482, 0.0033772997558116913, 0.9861714839935303, 0.010131899267435074, 0.9689686298370361, 0.2824522852897644, 0.05135496333241463, 0.6611951589584351, 0.9730242490768433, 0.46847543120384216, 0.1267639398574829, 0.001837158459238708, 0.0183715857565403, 0.19841311872005463, 0.18555301427841187, 0.9794626832008362, 0.9594480395317078, 0.9945314526557922, 0.003756673773750663, 0.4658275544643402, 0.23667044937610626, 0.19159035384655, 0.10143019258975983, 0.9499784708023071, 0.9117460250854492, 0.0822066143155098, 0.23610307276248932, 0.08585566282272339, 0.6761133670806885, 0.07275522500276566, 0.42661017179489136, 0.0496058352291584, 0.24141505360603333, 0.208344504237175, 0.9878910183906555, 0.059381838887929916, 0.2041250616312027, 0.18927960097789764, 0.03340228274464607, 0.18927960097789764, 0.2746410071849823, 0.05195910856127739, 0.9694767594337463, 0.942053496837616, 0.05596357583999634, 0.9927265048027039, 0.9914922714233398, 0.45817890763282776, 0.06565804034471512, 0.08207254856824875, 0.25335440039634705, 0.01641451008617878, 0.12417933344841003, 0.9523972868919373, 0.9703589677810669, 0.9748692512512207, 0.9938415884971619, 0.07646801322698593, 0.18442286550998688, 0.053977422416210175, 0.6837140321731567, 0.9902496337890625, 0.9493220448493958, 0.9731987714767456, 0.9588359594345093, 0.9597145915031433, 0.27463990449905396, 0.7227365970611572, 0.43552538752555847, 0.5503457188606262, 0.0079186437651515, 0.00395932188257575, 0.9914568066596985, 0.005417796783149242, 0.5786406993865967, 0.2131834179162979, 0.010876704938709736, 0.010876704938709736, 0.12399443984031677, 0.06090955063700676, 0.9544450640678406, 0.18058235943317413, 0.1673690229654312, 0.5769826769828796, 0.022022239863872528, 0.004404447972774506, 0.044044479727745056, 0.3809008002281189, 0.007468643132597208, 0.38836944103240967, 0.2240592986345291, 0.9926472306251526, 0.9862650036811829, 0.9952951669692993, 0.4062824845314026, 0.38345763087272644, 0.13694915175437927, 0.07303954660892487, 0.9672626852989197, 0.03120202198624611, 0.9688622355461121, 0.2579232454299927, 0.5895388722419739, 0.14738471806049347, 0.9823991656303406, 0.9084391593933105, 0.07365722954273224, 0.012276205234229565, 0.004999218974262476, 0.4149351716041565, 0.09498515725135803, 0.0737384781241417, 0.40993595123291016, 0.9868021011352539, 0.007770594675093889, 0.14764130115509033, 0.08159124851226807, 0.12821482121944427, 0.44680920243263245, 0.1903795748949051, 0.48994356393814087, 0.24497178196907043, 0.038495566695928574, 0.22747379541397095, 0.9616981148719788, 0.9892259240150452, 0.27339157462120056, 0.09215446561574936, 0.6082195043563843, 0.02150270901620388, 0.9851670265197754, 0.9878889322280884, 0.9591665863990784, 0.6389158368110657, 0.12396874278783798, 0.1144326850771904, 0.009536056779325008, 0.12396874278783798, 0.015364876948297024, 0.9679872393608093, 0.34490445256233215, 0.6514862179756165, 0.9891147017478943, 0.6443756818771362, 0.23914973437786102, 0.11293181777000427, 0.9239345788955688, 0.07259485870599747, 0.9807295203208923, 0.9874875545501709, 0.9695060849189758, 0.6368674039840698, 0.35565322637557983, 0.9943035244941711, 0.981589674949646, 0.6481151580810547, 0.34977641701698303, 0.9501008987426758, 0.9853201508522034, 0.9765121340751648, 0.9763460159301758, 0.9771715998649597, 0.21587269008159637, 0.7804628014564514, 0.9813950061798096, 0.9169487953186035, 0.07053452730178833, 0.2262645959854126, 0.7596025466918945, 0.9834051728248596, 0.9875907897949219, 0.93604576587677, 0.1664777249097824, 0.08813527226448059, 0.17627054452896118, 0.048964038491249084, 0.24286162853240967, 0.10772088170051575, 0.16843628883361816, 0.00706523610278964, 0.9750025868415833, 0.01413047220557928, 0.9896936416625977, 0.9662323594093323, 0.9791408181190491, 0.975699245929718, 0.9400137066841125, 0.995664656162262, 0.10772114992141724, 0.8797227144241333, 0.9888991117477417, 0.952141523361206, 0.9801396131515503, 0.9879602789878845, 0.9660355448722839, 0.9937605857849121, 0.6886143684387207, 0.3088637888431549, 0.9629310965538025, 0.08168860524892807, 0.9157722592353821, 0.9867379069328308, 0.9886273741722107, 0.9911399483680725, 0.26128914952278137, 0.33242544531822205, 0.2886492609977722, 0.11764851212501526, 0.9743683338165283, 0.9902471899986267, 0.9914306998252869, 0.9645146131515503, 0.08840916305780411, 0.9076674580574036, 0.9550988674163818, 0.9450812935829163, 0.2843622863292694, 0.5073915123939514, 0.12824180722236633, 0.07806023210287094, 0.9889950156211853, 0.7819514870643616, 0.2045103907585144, 0.9836702942848206, 0.38864627480506897, 0.344740629196167, 0.09431583434343338, 0.05203632265329361, 0.09431583434343338, 0.021139755845069885, 0.0032522701658308506, 0.4217371344566345, 0.3190062940120697, 0.07028952240943909, 0.18653757870197296, 0.01377556100487709, 0.9780648350715637, 0.054527610540390015, 0.09087935090065002, 0.8360900282859802, 0.9782314300537109, 0.0881204679608345, 0.13952407240867615, 0.7710540890693665, 0.9749069809913635, 0.04889350384473801, 0.25335726141929626, 0.6533949971199036, 0.004444864112883806, 0.04444864019751549, 0.2803012430667877, 0.10090844333171844, 0.04484819993376732, 0.5606024861335754, 0.9596498608589172, 0.9724717140197754, 0.986809253692627, 0.9570805430412292, 0.36344242095947266, 0.08387132734060287, 0.5521529316902161, 0.982039749622345, 0.23585627973079681, 0.1940900683403015, 0.17443537712097168, 0.3095613718032837, 0.0835324302315712, 0.043017610907554626, 0.11184578388929367, 0.739902913570404, 0.10324226319789886, 0.988196074962616, 0.9509605169296265, 0.9634301662445068, 0.9926178455352783, 0.8409025073051453, 0.1570916771888733, 0.9862365126609802, 0.01672716625034809, 0.48174241185188293, 0.05687236785888672, 0.002230288926512003, 0.18176855146884918, 0.26094380021095276, 0.0021295961923897266, 0.24916276335716248, 0.5984165668487549, 0.146942138671875, 0.00574485631659627, 0.00574485631659627, 0.2585185468196869, 0.7238519191741943, 0.9702976942062378, 0.9492999911308289, 0.9821147918701172, 0.9936120510101318, 0.980111300945282, 0.9058049321174622, 0.09420371055603027, 0.993402898311615, 0.2805998623371124, 0.7066959738731384, 0.402893602848053, 0.39956390857696533, 0.0621543824672699, 0.09656127542257309, 0.0299672931432724, 0.005549498368054628, 0.002219799440354109, 0.9893996119499207, 0.00817685667425394, 0.28230971097946167, 0.03349437192082405, 0.6794572472572327, 0.9853468537330627, 0.006059285718947649, 0.9876636266708374, 0.2623431086540222, 0.5303893089294434, 0.05703110992908478, 0.039921775460243225, 0.10265599936246872, 0.9976915717124939, 0.06384282559156418, 0.05320235341787338, 0.5958663821220398, 0.2766522467136383, 0.27092936635017395, 0.7179628610610962, 0.17168907821178436, 0.8241075873374939, 0.34867382049560547, 0.21235023438930511, 0.19924218952655792, 0.12059395760297775, 0.11797235161066055, 0.25165998935699463, 0.5420369505882263, 0.07743384689092636, 0.12260358780622482, 0.24233166873455048, 0.06731434911489487, 0.4308118522167206, 0.18174874782562256, 0.023560022935271263, 0.02019430510699749, 0.033657174557447433, 0.5560415387153625, 0.24359914660453796, 0.06460673362016678, 0.1133265569806099, 0.0010591266909614205, 0.0010591266909614205, 0.021182535216212273, 0.04027240350842476, 0.003097877139225602, 0.23234078288078308, 0.328374981880188, 0.3965282738208771, 0.15986724197864532, 0.08492947369813919, 0.38967642188072205, 0.35470545291900635, 0.009991702623665333, 0.6785110831260681, 0.3197581171989441, 0.9575615525245667, 0.0030679155606776476, 0.3742856979370117, 0.5910850167274475, 0.031701792031526566, 0.9631645083427429, 0.9782290458679199, 0.9655283689498901, 0.8697899580001831, 0.010293371975421906, 0.11322709172964096, 0.9747757911682129, 0.28762850165367126, 0.31738317012786865, 0.3768925070762634, 0.014877336099743843, 0.12334711104631424, 0.3158889412879944, 0.11131324619054794, 0.1624571681022644, 0.03610159456729889, 0.24669422209262848, 0.006016932427883148, 0.830967128276825, 0.15388280153274536], \"Term\": [\"able\", \"able\", \"able\", \"able\", \"able\", \"able\", \"about\", \"about\", \"accomplish\", \"ago\", \"ago\", \"always\", \"always\", \"always\", \"am\", \"amount\", \"anniversary\", \"approve\", \"ask\", \"asleep\", \"attend\", \"attend\", \"award\", \"away\", \"awesome\", \"awhile\", \"baby\", \"baby\", \"back\", \"back\", \"back\", \"bad\", \"bake\", \"ball\", \"baseball\", \"basketball\", \"be\", \"bear\", \"beat\", \"become\", \"become\", \"become\", \"beer\", \"begin\", \"bike\", \"bill\", \"birthday\", \"birthday\", \"board\", \"bonus\", \"book\", \"book\", \"boy\", \"breakfast\", \"brother\", \"busy\", \"buy\", \"cake\", \"call\", \"can\", \"can\", \"can\", \"can\", \"car\", \"cat\", \"catch\", \"celebrate\", \"celebration\", \"ceremony\", \"check\", \"check\", \"childhood\", \"childhood\", \"chocolate\", \"church\", \"city\", \"class\", \"class\", \"clean\", \"clean\", \"clear\", \"clothe\", \"co\", \"coffee\", \"coffee\", \"college\", \"college\", \"come\", \"come\", \"come\", \"come\", \"come\", \"come\", \"company\", \"company\", \"competition\", \"complete\", \"complete\", \"complete\", \"compliment\", \"compliment\", \"concert\", \"cook\", \"cookie\", \"course\", \"coworker\", \"cream\", \"create\", \"credit\", \"cricket\", \"cuddle\", \"dance\", \"date\", \"daughter\", \"daughter\", \"daughter\", \"daughter\", \"daughter\", \"day\", \"day\", \"day\", \"day\", \"day\", \"day\", \"deal\", \"degree\", \"delicious\", \"diet\", \"difficult\", \"difficult\", \"dinner\", \"discover\", \"do\", \"do\", \"do\", \"do\", \"do\", \"doctor\", \"dog\", \"dog\", \"dog\", \"dog\", \"drink\", \"drink\", \"earlier\", \"early\", \"early\", \"early\", \"earn\", \"easy\", \"eat\", \"eat\", \"enjoy\", \"enjoy\", \"enjoy\", \"enjoy\", \"enjoy\", \"enjoy\", \"enough\", \"episode\", \"event\", \"event\", \"exam\", \"excellent\", \"experience\", \"experience\", \"experience\", \"extra\", \"eye\", \"face\", \"fall\", \"family\", \"family\", \"family\", \"family\", \"family\", \"favorite\", \"favorite\", \"feel\", \"feel\", \"feel\", \"feeling\", \"fiance\", \"final\", \"finally\", \"finally\", \"finally\", \"finally\", \"finally\", \"finally\", \"find\", \"find\", \"find\", \"find\", \"find\", \"find\", \"find\", \"finish\", \"finish\", \"finish\", \"first\", \"first\", \"first\", \"fit\", \"fix\", \"fix\", \"fix\", \"flight\", \"fly\", \"food\", \"forget\", \"free\", \"free\", \"free\", \"friend\", \"fun\", \"fun\", \"fun\", \"funny\", \"game\", \"garden\", \"get\", \"get\", \"get\", \"get\", \"get\", \"get\", \"get\", \"gift\", \"gift\", \"gift\", \"girl\", \"girlfriend\", \"girlfriend\", \"girlfriend\", \"girlfriend\", \"give\", \"give\", \"give\", \"give\", \"give\", \"go\", \"go\", \"go\", \"go\", \"go\", \"go\", \"good\", \"good\", \"good\", \"good\", \"good\", \"good\", \"good\", \"grade\", \"graduate\", \"graduation\", \"granddaughter\", \"grandma\", \"great\", \"great\", \"great\", \"great\", \"great\", \"great\", \"great\", \"ground\", \"gym\", \"hang\", \"happen\", \"happen\", \"happy\", \"happy\", \"happy\", \"happy\", \"happy\", \"happy\", \"happy\", \"hard\", \"hard\", \"heart\", \"help\", \"help\", \"help\", \"help\", \"help\", \"help\", \"here\", \"high\", \"hit\", \"hit\", \"hit\", \"holiday\", \"home\", \"home\", \"home\", \"home\", \"home\", \"home\", \"hospital\", \"hospital\", \"hour\", \"hour\", \"hour\", \"hour\", \"house\", \"house\", \"house\", \"house\", \"house\", \"hug\", \"huge\", \"husband\", \"husband\", \"husband\", \"husband\", \"ice\", \"important\", \"interview\", \"interview\", \"invite\", \"job\", \"job\", \"job\", \"joy\", \"kid\", \"kid\", \"kid\", \"kitchen\", \"last\", \"last\", \"last\", \"last\", \"last\", \"last\", \"laundry\", \"lay\", \"leave\", \"life\", \"life\", \"life\", \"life\", \"life\", \"line\", \"little\", \"little\", \"live\", \"live\", \"live\", \"long\", \"long\", \"long\", \"long\", \"long\", \"lose\", \"lot\", \"lot\", \"lot\", \"lot\", \"lot\", \"lot\", \"lot\", \"lottery\", \"love\", \"love\", \"lunch\", \"mail\", \"make\", \"make\", \"make\", \"make\", \"make\", \"make\", \"mall\", \"marry\", \"match\", \"meal\", \"meet\", \"meet\", \"meet\", \"meet\", \"meeting\", \"memory\", \"mile\", \"mine\", \"miss\", \"mom\", \"mom\", \"moment\", \"moment\", \"moment\", \"moment\", \"money\", \"money\", \"month\", \"month\", \"month\", \"month\", \"month\", \"month\", \"mood\", \"more\", \"more\", \"more\", \"more\", \"more\", \"more\", \"morning\", \"morning\", \"morning\", \"morning\", \"mother\", \"movement\", \"movie\", \"much\", \"much\", \"much\", \"much\", \"name\", \"name\", \"nap\", \"need\", \"need\", \"need\", \"nephew\", \"never\", \"never\", \"never\", \"new\", \"new\", \"new\", \"new\", \"new\", \"news\", \"nice\", \"nice\", \"nice\", \"nice\", \"nice\", \"nice\", \"night\", \"night\", \"night\", \"night\", \"off\", \"offer\", \"old\", \"old\", \"old\", \"old\", \"online\", \"outside\", \"pair\", \"parent\", \"parent\", \"parent\", \"parent\", \"parent\", \"park\", \"park\", \"party\", \"party\", \"pass\", \"past\", \"past\", \"past\", \"pay\", \"pay\", \"period\", \"personal\", \"pet\", \"phone\", \"phone\", \"pizza\", \"plant\", \"play\", \"play\", \"pool\", \"pound\", \"praise\", \"pregnant\", \"price\", \"project\", \"project\", \"promotion\", \"purchase\", \"purchase\", \"rain\", \"rain\", \"raise\", \"read\", \"real\", \"really\", \"really\", \"really\", \"really\", \"really\", \"really\", \"really\", \"receive\", \"receive\", \"receive\", \"recipe\", \"record\", \"relative\", \"relax\", \"relief\", \"restaurant\", \"result\", \"result\", \"ride\", \"road\", \"room\", \"roommate\", \"sandwich\", \"save\", \"say\", \"say\", \"scale\", \"school\", \"school\", \"scratch\", \"season\", \"second\", \"see\", \"see\", \"see\", \"see\", \"self\", \"sell\", \"set\", \"shoe\", \"show\", \"show\", \"sick\", \"sing\", \"sister\", \"sister\", \"sister\", \"sister\", \"sleep\", \"smile\", \"smile\", \"snuggle\", \"so\", \"so\", \"so\", \"so\", \"so\", \"so\", \"so\", \"son\", \"son\", \"son\", \"son\", \"song\", \"song\", \"speak\", \"speak\", \"speak\", \"special\", \"spend\", \"spend\", \"spend\", \"stand\", \"start\", \"start\", \"start\", \"start\", \"start\", \"store\", \"store\", \"store\", \"store\", \"story\", \"successful\", \"successfully\", \"sun\", \"surprise\", \"surprise\", \"surprise\", \"sweet\", \"take\", \"take\", \"take\", \"take\", \"take\", \"talk\", \"talk\", \"talk\", \"talk\", \"task\", \"taste\", \"tea\", \"team\", \"tell\", \"tell\", \"ticket\", \"time\", \"time\", \"time\", \"time\", \"time\", \"time\", \"today\", \"today\", \"today\", \"today\", \"together\", \"together\", \"together\", \"together\", \"tonight\", \"touch\", \"tour\", \"town\", \"travel\", \"trip\", \"trip\", \"tv\", \"vacation\", \"vacation\", \"very\", \"very\", \"very\", \"very\", \"very\", \"very\", \"very\", \"video\", \"video\", \"visit\", \"visit\", \"visit\", \"wake\", \"walk\", \"walk\", \"want\", \"want\", \"want\", \"want\", \"want\", \"watch\", \"way\", \"way\", \"way\", \"way\", \"weather\", \"weather\", \"wedding\", \"wedding\", \"week\", \"week\", \"week\", \"week\", \"week\", \"weekend\", \"weekend\", \"weekend\", \"weekend\", \"well\", \"well\", \"well\", \"well\", \"well\", \"well\", \"well\", \"when\", \"when\", \"when\", \"when\", \"when\", \"when\", \"when\", \"wife\", \"wife\", \"wife\", \"wife\", \"wife\", \"will\", \"will\", \"will\", \"will\", \"will\", \"win\", \"win\", \"wish\", \"work\", \"work\", \"work\", \"work\", \"worker\", \"workout\", \"world\", \"would\", \"would\", \"would\", \"yard\", \"year\", \"year\", \"year\", \"year\", \"yesterday\", \"yesterday\", \"yesterday\", \"yesterday\", \"yesterday\", \"yesterday\", \"yesterday\", \"young\", \"young\"]}, \"R\": 30, \"lambda.step\": 0.01, \"plot.opts\": {\"xlab\": \"PC1\", \"ylab\": \"PC2\"}, \"topic.order\": [3, 1, 5, 7, 6, 4, 2]};\n",
              "\n",
              "function LDAvis_load_lib(url, callback){\n",
              "  var s = document.createElement('script');\n",
              "  s.src = url;\n",
              "  s.async = true;\n",
              "  s.onreadystatechange = s.onload = callback;\n",
              "  s.onerror = function(){console.warn(\"failed to load library \" + url);};\n",
              "  document.getElementsByTagName(\"head\")[0].appendChild(s);\n",
              "}\n",
              "\n",
              "if(typeof(LDAvis) !== \"undefined\"){\n",
              "   // already loaded: just create the visualization\n",
              "   !function(LDAvis){\n",
              "       new LDAvis(\"#\" + \"ldavis_el1211398010164790801731349251\", ldavis_el1211398010164790801731349251_data);\n",
              "   }(LDAvis);\n",
              "}else if(typeof define === \"function\" && define.amd){\n",
              "   // require.js is available: use it to load d3/LDAvis\n",
              "   require.config({paths: {d3: \"https://cdnjs.cloudflare.com/ajax/libs/d3/3.5.5/d3.min\"}});\n",
              "   require([\"d3\"], function(d3){\n",
              "      window.d3 = d3;\n",
              "      LDAvis_load_lib(\"https://cdn.rawgit.com/bmabey/pyLDAvis/files/ldavis.v1.0.0.js\", function(){\n",
              "        new LDAvis(\"#\" + \"ldavis_el1211398010164790801731349251\", ldavis_el1211398010164790801731349251_data);\n",
              "      });\n",
              "    });\n",
              "}else{\n",
              "    // require.js not available: dynamically load d3 & LDAvis\n",
              "    LDAvis_load_lib(\"https://cdnjs.cloudflare.com/ajax/libs/d3/3.5.5/d3.min.js\", function(){\n",
              "         LDAvis_load_lib(\"https://cdn.rawgit.com/bmabey/pyLDAvis/files/ldavis.v1.0.0.js\", function(){\n",
              "                 new LDAvis(\"#\" + \"ldavis_el1211398010164790801731349251\", ldavis_el1211398010164790801731349251_data);\n",
              "            })\n",
              "         });\n",
              "}\n",
              "</script>"
            ],
            "text/plain": [
              "PreparedData(topic_coordinates=              x         y  topics  cluster       Freq\n",
              "topic                                                \n",
              "2      0.094742  0.115531       1        1  19.096737\n",
              "0      0.022291  0.161304       2        1  18.001558\n",
              "4      0.204371 -0.102136       3        1  14.162217\n",
              "6      0.181817  0.005235       4        1  13.178513\n",
              "5     -0.206814  0.103325       5        1  12.961592\n",
              "3     -0.199906  0.005660       6        1  11.895737\n",
              "1     -0.096501 -0.288920       7        1  10.703648, topic_info=       Term         Freq        Total Category  logprob  loglift\n",
              "109  friend  1073.000000  1073.000000  Default  30.0000  30.0000\n",
              "156    work   977.000000   977.000000  Default  29.0000  29.0000\n",
              "105   happy  1841.000000  1841.000000  Default  28.0000  28.0000\n",
              "72    watch   444.000000   444.000000  Default  27.0000  27.0000\n",
              "160     buy   385.000000   385.000000  Default  26.0000  26.0000\n",
              "..      ...          ...          ...      ...      ...      ...\n",
              "82    night    65.141724   285.747192   Topic7  -4.8157   0.7560\n",
              "114   great    65.596794   313.722290   Topic7  -4.8087   0.6696\n",
              "19      get    87.891861  1424.456543   Topic7  -4.5162  -0.5509\n",
              "88    house    57.816219   202.647720   Topic7  -4.9350   0.9804\n",
              "25     home    62.240799   376.549316   Topic7  -4.8613   0.4345\n",
              "\n",
              "[451 rows x 6 columns], token_table=      Topic      Freq       Term\n",
              "term                            \n",
              "116       1  0.158705       able\n",
              "116       3  0.204049       able\n",
              "116       4  0.215385       able\n",
              "116       5  0.119029       able\n",
              "116       6  0.156815       able\n",
              "...     ...       ...        ...\n",
              "412       5  0.036102  yesterday\n",
              "412       6  0.246694  yesterday\n",
              "412       7  0.006017  yesterday\n",
              "588       1  0.830967      young\n",
              "588       6  0.153883      young\n",
              "\n",
              "[711 rows x 3 columns], R=30, lambda_step=0.01, plot_opts={'xlab': 'PC1', 'ylab': 'PC2'}, topic_order=[3, 1, 5, 7, 6, 4, 2])"
            ]
          },
          "metadata": {
            "tags": []
          },
          "execution_count": 10
        }
      ]
    },
    {
      "cell_type": "markdown",
      "metadata": {
        "id": "nFE5mcOImFhO",
        "colab_type": "text"
      },
      "source": [
        "## Exercise 6\n",
        "\n",
        "Choose the best parameters of `LdaModel` using `CoherenceModel`.\n",
        "\n",
        "You can try different number of topics and more passes."
      ]
    },
    {
      "cell_type": "code",
      "metadata": {
        "id": "cmuy5VUGkUzi",
        "colab_type": "code",
        "colab": {
          "base_uri": "https://localhost:8080/",
          "height": 51
        },
        "outputId": "98649384-9365-4209-fbf8-1a592a16302b"
      },
      "source": [
        "import warnings\n",
        "warnings.filterwarnings('ignore')\n",
        "\n",
        "# YOUR CODE HERE\n",
        "from gensim.models import CoherenceModel\n",
        "cm_v = CoherenceModel(\n",
        "    model=lda,\n",
        "    texts=X_train,\n",
        "    dictionary=dictionary,\n",
        "    coherence='c_v',\n",
        "    topn=10\n",
        ")\n",
        "print(\"'c_v' coherence per topic:\", cm_v.get_coherence_per_topic())\n",
        "print(\"average 'c_v' coherence:\", cm_v.get_coherence())"
      ],
      "execution_count": 12,
      "outputs": [
        {
          "output_type": "stream",
          "text": [
            "'c_v' coherence per topic: [0.5950477621220742, 0.3451495852020402, 0.6640944757943139, 0.42083294858748765, 0.406587569530347, 0.3763819801887743, 0.34072194407727774]\n",
            "average 'c_v' coherence: 0.44983089507175933\n"
          ],
          "name": "stdout"
        }
      ]
    },
    {
      "cell_type": "markdown",
      "metadata": {
        "id": "HKmU_2rWE7LZ",
        "colab_type": "text"
      },
      "source": [
        "<!--@slideshow slide-->\n",
        "# Summary\n",
        "1. We can find groups of related documents using  $k$-means algorithm and TF-IDF vectors.\n",
        "1. Centroids of clusters are interpretable: words with largest components form _topics_.\n",
        "1. We can find topics using non-negative matrix factorization (NMF).\n",
        "1. Probabilistic versions of NMF PLSA and LDA (EM-algorithm).\n",
        "1. Python libraries: gensim, pyLDAvis.\n",
        "1. We can evaluate quality of topics using _coherence_: how often \"important\" words of the topic occur together."
      ]
    },
    {
      "cell_type": "markdown",
      "metadata": {
        "id": "XqRGRa2B9NKZ",
        "colab_type": "text"
      },
      "source": [
        "<!--@slideshow slide-->\n",
        "# Recommended resources\n",
        "- [📖 \"In Depth: k-Means Clustering\" by Jake VanderPlas](https://jakevdp.github.io/PythonDataScienceHandbook/05.11-k-means.html)\n",
        "- [📖 \"Topic Modeling with Gensim (Python)\" by Selva Prabhakaran](https://www.machinelearningplus.com/nlp/topic-modeling-gensim-python/)\n",
        "- [📖 Exploring the Space of Topic Coherence Measures](http://svn.aksw.org/papers/2015/WSDM_Topic_Evaluation/public.pdf)\n",
        "- [📖 Topic Models (in Russian)](http://www.machinelearning.ru/wiki/images/f/fb/Voron-ML-TopicModels.pdf)"
      ]
    },
    {
      "cell_type": "markdown",
      "metadata": {
        "id": "tC2xQpCZkfiG",
        "colab_type": "text"
      },
      "source": [
        "# [OPTIONAL] Regilarized non-negative factorization"
      ]
    },
    {
      "cell_type": "markdown",
      "metadata": {
        "id": "EUq8Hko2elfI",
        "colab_type": "text"
      },
      "source": [
        "Clearly, there is no unique solution for factorization.\n",
        "We may start with different initial values and get different results:"
      ]
    },
    {
      "cell_type": "code",
      "metadata": {
        "id": "ldU1jofWeANy",
        "colab_type": "code",
        "outputId": "0d049fa0-cf0f-469e-969e-70347537529d",
        "colab": {
          "base_uri": "https://localhost:8080/",
          "height": 34
        }
      },
      "source": [
        "W, H = non_negative_number_factorization(4, D0=0.1, W0=10)\n",
        "print(W, H, W*H)"
      ],
      "execution_count": 0,
      "outputs": [
        {
          "output_type": "stream",
          "text": [
            "0.39969104803993377 10.007479605095991 3.9999000115990793\n"
          ],
          "name": "stdout"
        }
      ]
    },
    {
      "cell_type": "markdown",
      "metadata": {
        "id": "39jo91kZeqOB",
        "colab_type": "text"
      },
      "source": [
        "We may want to restrict the number of solutions.\n",
        "\n",
        "Let's put the additional constraint: $W \\approx H$.\n",
        "\n",
        "This constraint is enforced with *regularization*: instead of minimizing\n",
        "$$\n",
        "L_X(W, H) = \\frac{1}{2} (X - WH)^2\n",
        "$$\n",
        "we will minimize\n",
        "$$\n",
        "L_{X, \\alpha}(W, H) = \\frac{1}{2} (X - WH)^2 + \\color{red}{\\frac{\\alpha}{2} (W^2 + H^2)}\n",
        "$$\n",
        "\n",
        "Intuition: we need $W \\approx H$, or $(W - H)^2 = W^2 + H^2 - 2WH \\approx 0$. Since $WH$ is restricted ($WH \\approx X$), we need the remaining part $W^2 + H^2$ to be as small as possible.\n",
        "\n",
        "Now the derivatives are\n",
        "- $\\dfrac{\\mathrm{d}L_{X, \\alpha}}{\\mathrm{d}H} = (WH-X)W \\color{red}{+ \\alpha H}$\n",
        "- $\\dfrac{\\mathrm{d}L_{X, \\alpha}}{\\mathrm{d}W} = (WH-X)H \\color{red}{+ \\alpha W}$\n"
      ]
    },
    {
      "cell_type": "code",
      "metadata": {
        "id": "eV3g0isTep0s",
        "colab_type": "code",
        "outputId": "40e82164-06d1-44b7-e414-f97fcac8740b",
        "colab": {
          "base_uri": "https://localhost:8080/",
          "height": 34
        }
      },
      "source": [
        "def non_negative_number_factorization_regularized(\n",
        "    X,  # number to factorize\n",
        "    H0=None,  # optional initial value for H\n",
        "    W0=None,  # optional initial value for W\n",
        "    tolerance=1e-4,  # stop iterations if |X - WH| < tolerance\n",
        "    max_iterations=100000,  # stop iterations after max_iterations even if |X - WH| > tolerance\n",
        "    learning_rate=1e-5,  # lambda in the formula\n",
        "    alpha=0.1,  # regularization factor\n",
        "    seed=0,\n",
        "):\n",
        "    import numpy as np\n",
        "    # initialize W and H with W0, H0 or randomly\n",
        "    np.random.seed(seed)\n",
        "    W = W0 or np.random.random() * X  # random from 0 to X\n",
        "    H = H0 or np.random.random() * X  # random from 0 to X\n",
        "\n",
        "    # repeat alternating steps until convergence\n",
        "    num_iterations = 0\n",
        "    while np.abs(X - W*H) > tolerance:\n",
        "        if num_iterations > max_iterations:\n",
        "            break\n",
        "        num_iterations += 1\n",
        "        H_step = -learning_rate * ((W*H - X) * W + alpha * H)\n",
        "        H += H_step\n",
        "        assert H > 0\n",
        "        W_step = -learning_rate * ((W*H - X) * H + alpha * W)\n",
        "        W += W_step\n",
        "        assert W > 0\n",
        "    return W, H\n",
        "\n",
        "W, H = non_negative_number_factorization_regularized(4, W0=10, H0=0.1, alpha=0.5)\n",
        "print(W, H, W*H)"
      ],
      "execution_count": 0,
      "outputs": [
        {
          "output_type": "stream",
          "text": [
            "6.098554950713719 0.6392946029826294 3.898773265984276\n"
          ],
          "name": "stdout"
        }
      ]
    },
    {
      "cell_type": "markdown",
      "metadata": {
        "id": "Aq7_f7MJgCEG",
        "colab_type": "text"
      },
      "source": [
        "# [OPTIONAL] Math behind `lda.get_document_topics`\n",
        "\n",
        "This is the illustrative example how to compute probability of topic for a given document: $\\Pr(t|d)$.\n",
        "\n",
        "If $d$ contains only one word $w$, then $\\Pr(t|d) = \\Pr(t|w)$.\n",
        "\n",
        "What we have is $\\Pr(w|t)$, transform it to $\\Pr(t|w)$ using Bayes' rule:\n",
        "$$\n",
        "\\Pr(t|w) = \\dfrac{\\Pr(t, w)}{\\Pr(w)} = \\dfrac{\\Pr(w|t)\\Pr(t)}{\\Pr(w)}\n",
        "$$\n",
        "We can estimate $\\Pr(t)$ and $\\Pr(w)$ summing over all documents."
      ]
    }
  ]
}