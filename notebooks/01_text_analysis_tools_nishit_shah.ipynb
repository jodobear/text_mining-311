{
  "nbformat": 4,
  "nbformat_minor": 0,
  "metadata": {
    "colab": {
      "name": "01-text_analysis_tools-nishit_shah.ipynb",
      "provenance": [],
      "collapsed_sections": []
    },
    "kernelspec": {
      "name": "python3",
      "display_name": "Python 3"
    },
    "widgets": {
      "application/vnd.jupyter.widget-state+json": {
        "80ff2cbf972d41d9b6cdf0904bf4566b": {
          "model_module": "@jupyter-widgets/controls",
          "model_name": "VBoxModel",
          "state": {
            "_view_name": "VBoxView",
            "_dom_classes": [],
            "_model_name": "VBoxModel",
            "_view_module": "@jupyter-widgets/controls",
            "_model_module_version": "1.5.0",
            "_view_count": null,
            "_view_module_version": "1.5.0",
            "box_style": "",
            "layout": "IPY_MODEL_b41abcec8c974c1585f16e692863484e",
            "_model_module": "@jupyter-widgets/controls",
            "children": [
              "IPY_MODEL_9d4e7186ca114eb49eb0cd5d1c6779e7",
              "IPY_MODEL_d3370b853f3c4cd9ab0722662c8b154a",
              "IPY_MODEL_9b870eec80c64e4a8a958aa574623390"
            ]
          }
        },
        "b41abcec8c974c1585f16e692863484e": {
          "model_module": "@jupyter-widgets/base",
          "model_name": "LayoutModel",
          "state": {
            "_view_name": "LayoutView",
            "grid_template_rows": null,
            "right": null,
            "justify_content": null,
            "_view_module": "@jupyter-widgets/base",
            "overflow": null,
            "_model_module_version": "1.2.0",
            "_view_count": null,
            "flex_flow": null,
            "width": null,
            "min_width": null,
            "border": null,
            "align_items": null,
            "bottom": null,
            "_model_module": "@jupyter-widgets/base",
            "top": null,
            "grid_column": null,
            "overflow_y": null,
            "overflow_x": null,
            "grid_auto_flow": null,
            "grid_area": null,
            "grid_template_columns": null,
            "flex": null,
            "_model_name": "LayoutModel",
            "justify_items": null,
            "grid_row": null,
            "max_height": null,
            "align_content": null,
            "visibility": null,
            "align_self": null,
            "height": null,
            "min_height": null,
            "padding": null,
            "grid_auto_rows": null,
            "grid_gap": null,
            "max_width": null,
            "order": null,
            "_view_module_version": "1.2.0",
            "grid_template_areas": null,
            "object_position": null,
            "object_fit": null,
            "grid_auto_columns": null,
            "margin": null,
            "display": null,
            "left": null
          }
        },
        "9d4e7186ca114eb49eb0cd5d1c6779e7": {
          "model_module": "@jupyter-widgets/controls",
          "model_name": "HTMLModel",
          "state": {
            "_view_name": "HTMLView",
            "style": "IPY_MODEL_c4eccf4290814d90b0efe0d7eb9f1e87",
            "_dom_classes": [],
            "description": "",
            "_model_name": "HTMLModel",
            "placeholder": "​",
            "_view_module": "@jupyter-widgets/controls",
            "_model_module_version": "1.5.0",
            "value": "Compute the number of tokens in an input string using spaCy.<hr>",
            "_view_count": null,
            "_view_module_version": "1.5.0",
            "description_tooltip": null,
            "_model_module": "@jupyter-widgets/controls",
            "layout": "IPY_MODEL_4f37f7da247b45b4b4c02543ab774fb9"
          }
        },
        "d3370b853f3c4cd9ab0722662c8b154a": {
          "model_module": "@jupyter-widgets/controls",
          "model_name": "HTMLModel",
          "state": {
            "_view_name": "HTMLView",
            "style": "IPY_MODEL_d944620d187c469886560de3339f99cb",
            "_dom_classes": [],
            "description": "",
            "_model_name": "HTMLModel",
            "placeholder": "​",
            "_view_module": "@jupyter-widgets/controls",
            "_model_module_version": "1.5.0",
            "value": "Sample input-output pairs:<br><table>\n<thead>\n<tr><th>input                                    </th><th style=\"text-align: right;\">  output</th></tr>\n</thead>\n<tbody>\n<tr><td>(&#x27;This is a text.&#x27;,)                     </td><td style=\"text-align: right;\">       5</td></tr>\n<tr><td>(&quot;Don&#x27;t reinvent the wheel, use spaCy.&quot;,)</td><td style=\"text-align: right;\">       9</td></tr>\n</tbody>\n</table><hr>",
            "_view_count": null,
            "_view_module_version": "1.5.0",
            "description_tooltip": null,
            "_model_module": "@jupyter-widgets/controls",
            "layout": "IPY_MODEL_6b21c5ce07cf4a2c9193562ffc8c7730"
          }
        },
        "9b870eec80c64e4a8a958aa574623390": {
          "model_module": "@jupyter-widgets/controls",
          "model_name": "HTMLModel",
          "state": {
            "_view_name": "HTMLView",
            "style": "IPY_MODEL_b938869f107b44579eabccdd3943356b",
            "_dom_classes": [],
            "description": "",
            "_model_name": "HTMLModel",
            "placeholder": "​",
            "_view_module": "@jupyter-widgets/controls",
            "_model_module_version": "1.5.0",
            "value": "<font color='green'>All 5 tests passed</font>",
            "_view_count": null,
            "_view_module_version": "1.5.0",
            "description_tooltip": null,
            "_model_module": "@jupyter-widgets/controls",
            "layout": "IPY_MODEL_de0493a8e01247b3b5534aa3865d7268"
          }
        },
        "c4eccf4290814d90b0efe0d7eb9f1e87": {
          "model_module": "@jupyter-widgets/controls",
          "model_name": "DescriptionStyleModel",
          "state": {
            "_view_name": "StyleView",
            "_model_name": "DescriptionStyleModel",
            "description_width": "",
            "_view_module": "@jupyter-widgets/base",
            "_model_module_version": "1.5.0",
            "_view_count": null,
            "_view_module_version": "1.2.0",
            "_model_module": "@jupyter-widgets/controls"
          }
        },
        "4f37f7da247b45b4b4c02543ab774fb9": {
          "model_module": "@jupyter-widgets/base",
          "model_name": "LayoutModel",
          "state": {
            "_view_name": "LayoutView",
            "grid_template_rows": null,
            "right": null,
            "justify_content": null,
            "_view_module": "@jupyter-widgets/base",
            "overflow": null,
            "_model_module_version": "1.2.0",
            "_view_count": null,
            "flex_flow": null,
            "width": null,
            "min_width": null,
            "border": null,
            "align_items": null,
            "bottom": null,
            "_model_module": "@jupyter-widgets/base",
            "top": null,
            "grid_column": null,
            "overflow_y": null,
            "overflow_x": null,
            "grid_auto_flow": null,
            "grid_area": null,
            "grid_template_columns": null,
            "flex": null,
            "_model_name": "LayoutModel",
            "justify_items": null,
            "grid_row": null,
            "max_height": null,
            "align_content": null,
            "visibility": null,
            "align_self": null,
            "height": null,
            "min_height": null,
            "padding": null,
            "grid_auto_rows": null,
            "grid_gap": null,
            "max_width": null,
            "order": null,
            "_view_module_version": "1.2.0",
            "grid_template_areas": null,
            "object_position": null,
            "object_fit": null,
            "grid_auto_columns": null,
            "margin": null,
            "display": null,
            "left": null
          }
        },
        "d944620d187c469886560de3339f99cb": {
          "model_module": "@jupyter-widgets/controls",
          "model_name": "DescriptionStyleModel",
          "state": {
            "_view_name": "StyleView",
            "_model_name": "DescriptionStyleModel",
            "description_width": "",
            "_view_module": "@jupyter-widgets/base",
            "_model_module_version": "1.5.0",
            "_view_count": null,
            "_view_module_version": "1.2.0",
            "_model_module": "@jupyter-widgets/controls"
          }
        },
        "6b21c5ce07cf4a2c9193562ffc8c7730": {
          "model_module": "@jupyter-widgets/base",
          "model_name": "LayoutModel",
          "state": {
            "_view_name": "LayoutView",
            "grid_template_rows": null,
            "right": null,
            "justify_content": null,
            "_view_module": "@jupyter-widgets/base",
            "overflow": null,
            "_model_module_version": "1.2.0",
            "_view_count": null,
            "flex_flow": null,
            "width": null,
            "min_width": null,
            "border": null,
            "align_items": null,
            "bottom": null,
            "_model_module": "@jupyter-widgets/base",
            "top": null,
            "grid_column": null,
            "overflow_y": null,
            "overflow_x": null,
            "grid_auto_flow": null,
            "grid_area": null,
            "grid_template_columns": null,
            "flex": null,
            "_model_name": "LayoutModel",
            "justify_items": null,
            "grid_row": null,
            "max_height": null,
            "align_content": null,
            "visibility": null,
            "align_self": null,
            "height": null,
            "min_height": null,
            "padding": null,
            "grid_auto_rows": null,
            "grid_gap": null,
            "max_width": null,
            "order": null,
            "_view_module_version": "1.2.0",
            "grid_template_areas": null,
            "object_position": null,
            "object_fit": null,
            "grid_auto_columns": null,
            "margin": null,
            "display": null,
            "left": null
          }
        },
        "b938869f107b44579eabccdd3943356b": {
          "model_module": "@jupyter-widgets/controls",
          "model_name": "DescriptionStyleModel",
          "state": {
            "_view_name": "StyleView",
            "_model_name": "DescriptionStyleModel",
            "description_width": "",
            "_view_module": "@jupyter-widgets/base",
            "_model_module_version": "1.5.0",
            "_view_count": null,
            "_view_module_version": "1.2.0",
            "_model_module": "@jupyter-widgets/controls"
          }
        },
        "de0493a8e01247b3b5534aa3865d7268": {
          "model_module": "@jupyter-widgets/base",
          "model_name": "LayoutModel",
          "state": {
            "_view_name": "LayoutView",
            "grid_template_rows": null,
            "right": null,
            "justify_content": null,
            "_view_module": "@jupyter-widgets/base",
            "overflow": null,
            "_model_module_version": "1.2.0",
            "_view_count": null,
            "flex_flow": null,
            "width": null,
            "min_width": null,
            "border": null,
            "align_items": null,
            "bottom": null,
            "_model_module": "@jupyter-widgets/base",
            "top": null,
            "grid_column": null,
            "overflow_y": null,
            "overflow_x": null,
            "grid_auto_flow": null,
            "grid_area": null,
            "grid_template_columns": null,
            "flex": null,
            "_model_name": "LayoutModel",
            "justify_items": null,
            "grid_row": null,
            "max_height": null,
            "align_content": null,
            "visibility": null,
            "align_self": null,
            "height": null,
            "min_height": null,
            "padding": null,
            "grid_auto_rows": null,
            "grid_gap": null,
            "max_width": null,
            "order": null,
            "_view_module_version": "1.2.0",
            "grid_template_areas": null,
            "object_position": null,
            "object_fit": null,
            "grid_auto_columns": null,
            "margin": null,
            "display": null,
            "left": null
          }
        },
        "1ce5fee0a4f8488085bff1b73a95fea7": {
          "model_module": "@jupyter-widgets/controls",
          "model_name": "VBoxModel",
          "state": {
            "_view_name": "VBoxView",
            "_dom_classes": [],
            "_model_name": "VBoxModel",
            "_view_module": "@jupyter-widgets/controls",
            "_model_module_version": "1.5.0",
            "_view_count": null,
            "_view_module_version": "1.5.0",
            "box_style": "",
            "layout": "IPY_MODEL_aea2f758a1a64e60ad56075ce288675f",
            "_model_module": "@jupyter-widgets/controls",
            "children": [
              "IPY_MODEL_f432b58b74f2452f8d904626814e3bdf",
              "IPY_MODEL_9a515aa25daf475f8ad956d073a59449",
              "IPY_MODEL_03db76f03c2b47b197a4a26a39d236c0"
            ]
          }
        },
        "aea2f758a1a64e60ad56075ce288675f": {
          "model_module": "@jupyter-widgets/base",
          "model_name": "LayoutModel",
          "state": {
            "_view_name": "LayoutView",
            "grid_template_rows": null,
            "right": null,
            "justify_content": null,
            "_view_module": "@jupyter-widgets/base",
            "overflow": null,
            "_model_module_version": "1.2.0",
            "_view_count": null,
            "flex_flow": null,
            "width": null,
            "min_width": null,
            "border": null,
            "align_items": null,
            "bottom": null,
            "_model_module": "@jupyter-widgets/base",
            "top": null,
            "grid_column": null,
            "overflow_y": null,
            "overflow_x": null,
            "grid_auto_flow": null,
            "grid_area": null,
            "grid_template_columns": null,
            "flex": null,
            "_model_name": "LayoutModel",
            "justify_items": null,
            "grid_row": null,
            "max_height": null,
            "align_content": null,
            "visibility": null,
            "align_self": null,
            "height": null,
            "min_height": null,
            "padding": null,
            "grid_auto_rows": null,
            "grid_gap": null,
            "max_width": null,
            "order": null,
            "_view_module_version": "1.2.0",
            "grid_template_areas": null,
            "object_position": null,
            "object_fit": null,
            "grid_auto_columns": null,
            "margin": null,
            "display": null,
            "left": null
          }
        },
        "f432b58b74f2452f8d904626814e3bdf": {
          "model_module": "@jupyter-widgets/controls",
          "model_name": "HTMLModel",
          "state": {
            "_view_name": "HTMLView",
            "style": "IPY_MODEL_bbd690b771b44e27bbab71c64b01d9cc",
            "_dom_classes": [],
            "description": "",
            "_model_name": "HTMLModel",
            "placeholder": "​",
            "_view_module": "@jupyter-widgets/controls",
            "_model_module_version": "1.5.0",
            "value": "Return the set of all named entity labels found in the text<hr>",
            "_view_count": null,
            "_view_module_version": "1.5.0",
            "description_tooltip": null,
            "_model_module": "@jupyter-widgets/controls",
            "layout": "IPY_MODEL_d8baa39b6d134a16b9e98b9e8ac76515"
          }
        },
        "9a515aa25daf475f8ad956d073a59449": {
          "model_module": "@jupyter-widgets/controls",
          "model_name": "HTMLModel",
          "state": {
            "_view_name": "HTMLView",
            "style": "IPY_MODEL_12f407bd5670494bb606fee20dd5e436",
            "_dom_classes": [],
            "description": "",
            "_model_name": "HTMLModel",
            "placeholder": "​",
            "_view_module": "@jupyter-widgets/controls",
            "_model_module_version": "1.5.0",
            "value": "Sample input-output pairs:<br><table>\n<thead>\n<tr><th>input                                       </th><th>output  </th></tr>\n</thead>\n<tbody>\n<tr><td>(&#x27;No named entities&#x27;,)                      </td><td>set()   </td></tr>\n<tr><td>(&#x27;London is the capital of Great Britain.&#x27;,)</td><td>{&#x27;GPE&#x27;} </td></tr>\n</tbody>\n</table><hr>",
            "_view_count": null,
            "_view_module_version": "1.5.0",
            "description_tooltip": null,
            "_model_module": "@jupyter-widgets/controls",
            "layout": "IPY_MODEL_84e093b91671414eab188657c8083fea"
          }
        },
        "03db76f03c2b47b197a4a26a39d236c0": {
          "model_module": "@jupyter-widgets/controls",
          "model_name": "HTMLModel",
          "state": {
            "_view_name": "HTMLView",
            "style": "IPY_MODEL_3f66221b72484203b7fa25c2e71ee75a",
            "_dom_classes": [],
            "description": "",
            "_model_name": "HTMLModel",
            "placeholder": "​",
            "_view_module": "@jupyter-widgets/controls",
            "_model_module_version": "1.5.0",
            "value": "<font color='green'>All 5 tests passed</font>",
            "_view_count": null,
            "_view_module_version": "1.5.0",
            "description_tooltip": null,
            "_model_module": "@jupyter-widgets/controls",
            "layout": "IPY_MODEL_a4a1b39f889b47fd887b7e6e768e4f1c"
          }
        },
        "bbd690b771b44e27bbab71c64b01d9cc": {
          "model_module": "@jupyter-widgets/controls",
          "model_name": "DescriptionStyleModel",
          "state": {
            "_view_name": "StyleView",
            "_model_name": "DescriptionStyleModel",
            "description_width": "",
            "_view_module": "@jupyter-widgets/base",
            "_model_module_version": "1.5.0",
            "_view_count": null,
            "_view_module_version": "1.2.0",
            "_model_module": "@jupyter-widgets/controls"
          }
        },
        "d8baa39b6d134a16b9e98b9e8ac76515": {
          "model_module": "@jupyter-widgets/base",
          "model_name": "LayoutModel",
          "state": {
            "_view_name": "LayoutView",
            "grid_template_rows": null,
            "right": null,
            "justify_content": null,
            "_view_module": "@jupyter-widgets/base",
            "overflow": null,
            "_model_module_version": "1.2.0",
            "_view_count": null,
            "flex_flow": null,
            "width": null,
            "min_width": null,
            "border": null,
            "align_items": null,
            "bottom": null,
            "_model_module": "@jupyter-widgets/base",
            "top": null,
            "grid_column": null,
            "overflow_y": null,
            "overflow_x": null,
            "grid_auto_flow": null,
            "grid_area": null,
            "grid_template_columns": null,
            "flex": null,
            "_model_name": "LayoutModel",
            "justify_items": null,
            "grid_row": null,
            "max_height": null,
            "align_content": null,
            "visibility": null,
            "align_self": null,
            "height": null,
            "min_height": null,
            "padding": null,
            "grid_auto_rows": null,
            "grid_gap": null,
            "max_width": null,
            "order": null,
            "_view_module_version": "1.2.0",
            "grid_template_areas": null,
            "object_position": null,
            "object_fit": null,
            "grid_auto_columns": null,
            "margin": null,
            "display": null,
            "left": null
          }
        },
        "12f407bd5670494bb606fee20dd5e436": {
          "model_module": "@jupyter-widgets/controls",
          "model_name": "DescriptionStyleModel",
          "state": {
            "_view_name": "StyleView",
            "_model_name": "DescriptionStyleModel",
            "description_width": "",
            "_view_module": "@jupyter-widgets/base",
            "_model_module_version": "1.5.0",
            "_view_count": null,
            "_view_module_version": "1.2.0",
            "_model_module": "@jupyter-widgets/controls"
          }
        },
        "84e093b91671414eab188657c8083fea": {
          "model_module": "@jupyter-widgets/base",
          "model_name": "LayoutModel",
          "state": {
            "_view_name": "LayoutView",
            "grid_template_rows": null,
            "right": null,
            "justify_content": null,
            "_view_module": "@jupyter-widgets/base",
            "overflow": null,
            "_model_module_version": "1.2.0",
            "_view_count": null,
            "flex_flow": null,
            "width": null,
            "min_width": null,
            "border": null,
            "align_items": null,
            "bottom": null,
            "_model_module": "@jupyter-widgets/base",
            "top": null,
            "grid_column": null,
            "overflow_y": null,
            "overflow_x": null,
            "grid_auto_flow": null,
            "grid_area": null,
            "grid_template_columns": null,
            "flex": null,
            "_model_name": "LayoutModel",
            "justify_items": null,
            "grid_row": null,
            "max_height": null,
            "align_content": null,
            "visibility": null,
            "align_self": null,
            "height": null,
            "min_height": null,
            "padding": null,
            "grid_auto_rows": null,
            "grid_gap": null,
            "max_width": null,
            "order": null,
            "_view_module_version": "1.2.0",
            "grid_template_areas": null,
            "object_position": null,
            "object_fit": null,
            "grid_auto_columns": null,
            "margin": null,
            "display": null,
            "left": null
          }
        },
        "3f66221b72484203b7fa25c2e71ee75a": {
          "model_module": "@jupyter-widgets/controls",
          "model_name": "DescriptionStyleModel",
          "state": {
            "_view_name": "StyleView",
            "_model_name": "DescriptionStyleModel",
            "description_width": "",
            "_view_module": "@jupyter-widgets/base",
            "_model_module_version": "1.5.0",
            "_view_count": null,
            "_view_module_version": "1.2.0",
            "_model_module": "@jupyter-widgets/controls"
          }
        },
        "a4a1b39f889b47fd887b7e6e768e4f1c": {
          "model_module": "@jupyter-widgets/base",
          "model_name": "LayoutModel",
          "state": {
            "_view_name": "LayoutView",
            "grid_template_rows": null,
            "right": null,
            "justify_content": null,
            "_view_module": "@jupyter-widgets/base",
            "overflow": null,
            "_model_module_version": "1.2.0",
            "_view_count": null,
            "flex_flow": null,
            "width": null,
            "min_width": null,
            "border": null,
            "align_items": null,
            "bottom": null,
            "_model_module": "@jupyter-widgets/base",
            "top": null,
            "grid_column": null,
            "overflow_y": null,
            "overflow_x": null,
            "grid_auto_flow": null,
            "grid_area": null,
            "grid_template_columns": null,
            "flex": null,
            "_model_name": "LayoutModel",
            "justify_items": null,
            "grid_row": null,
            "max_height": null,
            "align_content": null,
            "visibility": null,
            "align_self": null,
            "height": null,
            "min_height": null,
            "padding": null,
            "grid_auto_rows": null,
            "grid_gap": null,
            "max_width": null,
            "order": null,
            "_view_module_version": "1.2.0",
            "grid_template_areas": null,
            "object_position": null,
            "object_fit": null,
            "grid_auto_columns": null,
            "margin": null,
            "display": null,
            "left": null
          }
        },
        "9453910baca44f1a8bb671f3015e778a": {
          "model_module": "@jupyter-widgets/controls",
          "model_name": "HBoxModel",
          "state": {
            "_view_name": "HBoxView",
            "_dom_classes": [],
            "_model_name": "HBoxModel",
            "_view_module": "@jupyter-widgets/controls",
            "_model_module_version": "1.5.0",
            "_view_count": null,
            "_view_module_version": "1.5.0",
            "box_style": "",
            "layout": "IPY_MODEL_dc58261e8bbf4d26ac368237f03cec0c",
            "_model_module": "@jupyter-widgets/controls",
            "children": [
              "IPY_MODEL_fe4828b723134c78b6314a3f8d8b7ad8",
              "IPY_MODEL_e4cce48da01b4f5386f320ef55c9c7ac"
            ]
          }
        },
        "dc58261e8bbf4d26ac368237f03cec0c": {
          "model_module": "@jupyter-widgets/base",
          "model_name": "LayoutModel",
          "state": {
            "_view_name": "LayoutView",
            "grid_template_rows": null,
            "right": null,
            "justify_content": null,
            "_view_module": "@jupyter-widgets/base",
            "overflow": null,
            "_model_module_version": "1.2.0",
            "_view_count": null,
            "flex_flow": null,
            "width": null,
            "min_width": null,
            "border": null,
            "align_items": null,
            "bottom": null,
            "_model_module": "@jupyter-widgets/base",
            "top": null,
            "grid_column": null,
            "overflow_y": null,
            "overflow_x": null,
            "grid_auto_flow": null,
            "grid_area": null,
            "grid_template_columns": null,
            "flex": null,
            "_model_name": "LayoutModel",
            "justify_items": null,
            "grid_row": null,
            "max_height": null,
            "align_content": null,
            "visibility": null,
            "align_self": null,
            "height": null,
            "min_height": null,
            "padding": null,
            "grid_auto_rows": null,
            "grid_gap": null,
            "max_width": null,
            "order": null,
            "_view_module_version": "1.2.0",
            "grid_template_areas": null,
            "object_position": null,
            "object_fit": null,
            "grid_auto_columns": null,
            "margin": null,
            "display": null,
            "left": null
          }
        },
        "fe4828b723134c78b6314a3f8d8b7ad8": {
          "model_module": "@jupyter-widgets/controls",
          "model_name": "FloatProgressModel",
          "state": {
            "_view_name": "ProgressView",
            "style": "IPY_MODEL_be4065c410054dcda01e7bdf058e69f6",
            "_dom_classes": [],
            "description": "100%",
            "_model_name": "FloatProgressModel",
            "bar_style": "success",
            "max": 100,
            "_view_module": "@jupyter-widgets/controls",
            "_model_module_version": "1.5.0",
            "value": 100,
            "_view_count": null,
            "_view_module_version": "1.5.0",
            "orientation": "horizontal",
            "min": 0,
            "description_tooltip": null,
            "_model_module": "@jupyter-widgets/controls",
            "layout": "IPY_MODEL_39a2d64e009c42a6bdffacbc44e654d1"
          }
        },
        "e4cce48da01b4f5386f320ef55c9c7ac": {
          "model_module": "@jupyter-widgets/controls",
          "model_name": "HTMLModel",
          "state": {
            "_view_name": "HTMLView",
            "style": "IPY_MODEL_9983b93ce5c74cf6a51c198aee9db310",
            "_dom_classes": [],
            "description": "",
            "_model_name": "HTMLModel",
            "placeholder": "​",
            "_view_module": "@jupyter-widgets/controls",
            "_model_module_version": "1.5.0",
            "value": " 100/100 [00:12&lt;00:00,  8.14it/s]",
            "_view_count": null,
            "_view_module_version": "1.5.0",
            "description_tooltip": null,
            "_model_module": "@jupyter-widgets/controls",
            "layout": "IPY_MODEL_d965c27ca61d4b5786151133c72b1189"
          }
        },
        "be4065c410054dcda01e7bdf058e69f6": {
          "model_module": "@jupyter-widgets/controls",
          "model_name": "ProgressStyleModel",
          "state": {
            "_view_name": "StyleView",
            "_model_name": "ProgressStyleModel",
            "description_width": "initial",
            "_view_module": "@jupyter-widgets/base",
            "_model_module_version": "1.5.0",
            "_view_count": null,
            "_view_module_version": "1.2.0",
            "bar_color": null,
            "_model_module": "@jupyter-widgets/controls"
          }
        },
        "39a2d64e009c42a6bdffacbc44e654d1": {
          "model_module": "@jupyter-widgets/base",
          "model_name": "LayoutModel",
          "state": {
            "_view_name": "LayoutView",
            "grid_template_rows": null,
            "right": null,
            "justify_content": null,
            "_view_module": "@jupyter-widgets/base",
            "overflow": null,
            "_model_module_version": "1.2.0",
            "_view_count": null,
            "flex_flow": null,
            "width": null,
            "min_width": null,
            "border": null,
            "align_items": null,
            "bottom": null,
            "_model_module": "@jupyter-widgets/base",
            "top": null,
            "grid_column": null,
            "overflow_y": null,
            "overflow_x": null,
            "grid_auto_flow": null,
            "grid_area": null,
            "grid_template_columns": null,
            "flex": null,
            "_model_name": "LayoutModel",
            "justify_items": null,
            "grid_row": null,
            "max_height": null,
            "align_content": null,
            "visibility": null,
            "align_self": null,
            "height": null,
            "min_height": null,
            "padding": null,
            "grid_auto_rows": null,
            "grid_gap": null,
            "max_width": null,
            "order": null,
            "_view_module_version": "1.2.0",
            "grid_template_areas": null,
            "object_position": null,
            "object_fit": null,
            "grid_auto_columns": null,
            "margin": null,
            "display": null,
            "left": null
          }
        },
        "9983b93ce5c74cf6a51c198aee9db310": {
          "model_module": "@jupyter-widgets/controls",
          "model_name": "DescriptionStyleModel",
          "state": {
            "_view_name": "StyleView",
            "_model_name": "DescriptionStyleModel",
            "description_width": "",
            "_view_module": "@jupyter-widgets/base",
            "_model_module_version": "1.5.0",
            "_view_count": null,
            "_view_module_version": "1.2.0",
            "_model_module": "@jupyter-widgets/controls"
          }
        },
        "d965c27ca61d4b5786151133c72b1189": {
          "model_module": "@jupyter-widgets/base",
          "model_name": "LayoutModel",
          "state": {
            "_view_name": "LayoutView",
            "grid_template_rows": null,
            "right": null,
            "justify_content": null,
            "_view_module": "@jupyter-widgets/base",
            "overflow": null,
            "_model_module_version": "1.2.0",
            "_view_count": null,
            "flex_flow": null,
            "width": null,
            "min_width": null,
            "border": null,
            "align_items": null,
            "bottom": null,
            "_model_module": "@jupyter-widgets/base",
            "top": null,
            "grid_column": null,
            "overflow_y": null,
            "overflow_x": null,
            "grid_auto_flow": null,
            "grid_area": null,
            "grid_template_columns": null,
            "flex": null,
            "_model_name": "LayoutModel",
            "justify_items": null,
            "grid_row": null,
            "max_height": null,
            "align_content": null,
            "visibility": null,
            "align_self": null,
            "height": null,
            "min_height": null,
            "padding": null,
            "grid_auto_rows": null,
            "grid_gap": null,
            "max_width": null,
            "order": null,
            "_view_module_version": "1.2.0",
            "grid_template_areas": null,
            "object_position": null,
            "object_fit": null,
            "grid_auto_columns": null,
            "margin": null,
            "display": null,
            "left": null
          }
        },
        "792804d582ac43288d7223969b74c50b": {
          "model_module": "@jupyter-widgets/controls",
          "model_name": "HBoxModel",
          "state": {
            "_view_name": "HBoxView",
            "_dom_classes": [],
            "_model_name": "HBoxModel",
            "_view_module": "@jupyter-widgets/controls",
            "_model_module_version": "1.5.0",
            "_view_count": null,
            "_view_module_version": "1.5.0",
            "box_style": "",
            "layout": "IPY_MODEL_5e5b038b1c834afebe19a1c4dc69b3e8",
            "_model_module": "@jupyter-widgets/controls",
            "children": [
              "IPY_MODEL_8240c69a30aa4768897580192da1fcef",
              "IPY_MODEL_e702b1fb05e44cd0ac4b3b5ba063e5ed"
            ]
          }
        },
        "5e5b038b1c834afebe19a1c4dc69b3e8": {
          "model_module": "@jupyter-widgets/base",
          "model_name": "LayoutModel",
          "state": {
            "_view_name": "LayoutView",
            "grid_template_rows": null,
            "right": null,
            "justify_content": null,
            "_view_module": "@jupyter-widgets/base",
            "overflow": null,
            "_model_module_version": "1.2.0",
            "_view_count": null,
            "flex_flow": null,
            "width": null,
            "min_width": null,
            "border": null,
            "align_items": null,
            "bottom": null,
            "_model_module": "@jupyter-widgets/base",
            "top": null,
            "grid_column": null,
            "overflow_y": null,
            "overflow_x": null,
            "grid_auto_flow": null,
            "grid_area": null,
            "grid_template_columns": null,
            "flex": null,
            "_model_name": "LayoutModel",
            "justify_items": null,
            "grid_row": null,
            "max_height": null,
            "align_content": null,
            "visibility": null,
            "align_self": null,
            "height": null,
            "min_height": null,
            "padding": null,
            "grid_auto_rows": null,
            "grid_gap": null,
            "max_width": null,
            "order": null,
            "_view_module_version": "1.2.0",
            "grid_template_areas": null,
            "object_position": null,
            "object_fit": null,
            "grid_auto_columns": null,
            "margin": null,
            "display": null,
            "left": null
          }
        },
        "8240c69a30aa4768897580192da1fcef": {
          "model_module": "@jupyter-widgets/controls",
          "model_name": "FloatProgressModel",
          "state": {
            "_view_name": "ProgressView",
            "style": "IPY_MODEL_d2255e7fdd204903b516305fb29ff47c",
            "_dom_classes": [],
            "description": "100%",
            "_model_name": "FloatProgressModel",
            "bar_style": "success",
            "max": 48040,
            "_view_module": "@jupyter-widgets/controls",
            "_model_module_version": "1.5.0",
            "value": 48040,
            "_view_count": null,
            "_view_module_version": "1.5.0",
            "orientation": "horizontal",
            "min": 0,
            "description_tooltip": null,
            "_model_module": "@jupyter-widgets/controls",
            "layout": "IPY_MODEL_2f0b324e2830493b855d835c7bcf77ad"
          }
        },
        "e702b1fb05e44cd0ac4b3b5ba063e5ed": {
          "model_module": "@jupyter-widgets/controls",
          "model_name": "HTMLModel",
          "state": {
            "_view_name": "HTMLView",
            "style": "IPY_MODEL_2a8f90cf9a87481fbfe7f70b3360cf6f",
            "_dom_classes": [],
            "description": "",
            "_model_name": "HTMLModel",
            "placeholder": "​",
            "_view_module": "@jupyter-widgets/controls",
            "_model_module_version": "1.5.0",
            "value": " 48040/48040 [1:55:42&lt;00:00,  6.92it/s]",
            "_view_count": null,
            "_view_module_version": "1.5.0",
            "description_tooltip": null,
            "_model_module": "@jupyter-widgets/controls",
            "layout": "IPY_MODEL_af8c4cfa7c5f4f89877bcb991d2f854b"
          }
        },
        "d2255e7fdd204903b516305fb29ff47c": {
          "model_module": "@jupyter-widgets/controls",
          "model_name": "ProgressStyleModel",
          "state": {
            "_view_name": "StyleView",
            "_model_name": "ProgressStyleModel",
            "description_width": "initial",
            "_view_module": "@jupyter-widgets/base",
            "_model_module_version": "1.5.0",
            "_view_count": null,
            "_view_module_version": "1.2.0",
            "bar_color": null,
            "_model_module": "@jupyter-widgets/controls"
          }
        },
        "2f0b324e2830493b855d835c7bcf77ad": {
          "model_module": "@jupyter-widgets/base",
          "model_name": "LayoutModel",
          "state": {
            "_view_name": "LayoutView",
            "grid_template_rows": null,
            "right": null,
            "justify_content": null,
            "_view_module": "@jupyter-widgets/base",
            "overflow": null,
            "_model_module_version": "1.2.0",
            "_view_count": null,
            "flex_flow": null,
            "width": null,
            "min_width": null,
            "border": null,
            "align_items": null,
            "bottom": null,
            "_model_module": "@jupyter-widgets/base",
            "top": null,
            "grid_column": null,
            "overflow_y": null,
            "overflow_x": null,
            "grid_auto_flow": null,
            "grid_area": null,
            "grid_template_columns": null,
            "flex": null,
            "_model_name": "LayoutModel",
            "justify_items": null,
            "grid_row": null,
            "max_height": null,
            "align_content": null,
            "visibility": null,
            "align_self": null,
            "height": null,
            "min_height": null,
            "padding": null,
            "grid_auto_rows": null,
            "grid_gap": null,
            "max_width": null,
            "order": null,
            "_view_module_version": "1.2.0",
            "grid_template_areas": null,
            "object_position": null,
            "object_fit": null,
            "grid_auto_columns": null,
            "margin": null,
            "display": null,
            "left": null
          }
        },
        "2a8f90cf9a87481fbfe7f70b3360cf6f": {
          "model_module": "@jupyter-widgets/controls",
          "model_name": "DescriptionStyleModel",
          "state": {
            "_view_name": "StyleView",
            "_model_name": "DescriptionStyleModel",
            "description_width": "",
            "_view_module": "@jupyter-widgets/base",
            "_model_module_version": "1.5.0",
            "_view_count": null,
            "_view_module_version": "1.2.0",
            "_model_module": "@jupyter-widgets/controls"
          }
        },
        "af8c4cfa7c5f4f89877bcb991d2f854b": {
          "model_module": "@jupyter-widgets/base",
          "model_name": "LayoutModel",
          "state": {
            "_view_name": "LayoutView",
            "grid_template_rows": null,
            "right": null,
            "justify_content": null,
            "_view_module": "@jupyter-widgets/base",
            "overflow": null,
            "_model_module_version": "1.2.0",
            "_view_count": null,
            "flex_flow": null,
            "width": null,
            "min_width": null,
            "border": null,
            "align_items": null,
            "bottom": null,
            "_model_module": "@jupyter-widgets/base",
            "top": null,
            "grid_column": null,
            "overflow_y": null,
            "overflow_x": null,
            "grid_auto_flow": null,
            "grid_area": null,
            "grid_template_columns": null,
            "flex": null,
            "_model_name": "LayoutModel",
            "justify_items": null,
            "grid_row": null,
            "max_height": null,
            "align_content": null,
            "visibility": null,
            "align_self": null,
            "height": null,
            "min_height": null,
            "padding": null,
            "grid_auto_rows": null,
            "grid_gap": null,
            "max_width": null,
            "order": null,
            "_view_module_version": "1.2.0",
            "grid_template_areas": null,
            "object_position": null,
            "object_fit": null,
            "grid_auto_columns": null,
            "margin": null,
            "display": null,
            "left": null
          }
        },
        "3638b3a5608745d59e5bb6b58d37903b": {
          "model_module": "@jupyter-widgets/controls",
          "model_name": "HBoxModel",
          "state": {
            "_view_name": "HBoxView",
            "_dom_classes": [],
            "_model_name": "HBoxModel",
            "_view_module": "@jupyter-widgets/controls",
            "_model_module_version": "1.5.0",
            "_view_count": null,
            "_view_module_version": "1.5.0",
            "box_style": "",
            "layout": "IPY_MODEL_fb4a7ab02cfc43b5b7600eb2b8a8e74a",
            "_model_module": "@jupyter-widgets/controls",
            "children": [
              "IPY_MODEL_71a2b5039fe9440881e5530aa3b59cb8",
              "IPY_MODEL_ba07c16cf0e7421ebd2df15395c1d564"
            ]
          }
        },
        "fb4a7ab02cfc43b5b7600eb2b8a8e74a": {
          "model_module": "@jupyter-widgets/base",
          "model_name": "LayoutModel",
          "state": {
            "_view_name": "LayoutView",
            "grid_template_rows": null,
            "right": null,
            "justify_content": null,
            "_view_module": "@jupyter-widgets/base",
            "overflow": null,
            "_model_module_version": "1.2.0",
            "_view_count": null,
            "flex_flow": null,
            "width": null,
            "min_width": null,
            "border": null,
            "align_items": null,
            "bottom": null,
            "_model_module": "@jupyter-widgets/base",
            "top": null,
            "grid_column": null,
            "overflow_y": null,
            "overflow_x": null,
            "grid_auto_flow": null,
            "grid_area": null,
            "grid_template_columns": null,
            "flex": null,
            "_model_name": "LayoutModel",
            "justify_items": null,
            "grid_row": null,
            "max_height": null,
            "align_content": null,
            "visibility": null,
            "align_self": null,
            "height": null,
            "min_height": null,
            "padding": null,
            "grid_auto_rows": null,
            "grid_gap": null,
            "max_width": null,
            "order": null,
            "_view_module_version": "1.2.0",
            "grid_template_areas": null,
            "object_position": null,
            "object_fit": null,
            "grid_auto_columns": null,
            "margin": null,
            "display": null,
            "left": null
          }
        },
        "71a2b5039fe9440881e5530aa3b59cb8": {
          "model_module": "@jupyter-widgets/controls",
          "model_name": "FloatProgressModel",
          "state": {
            "_view_name": "ProgressView",
            "style": "IPY_MODEL_92c0f3f6396946c1a4ce023b7a4a10e6",
            "_dom_classes": [],
            "description": "100%",
            "_model_name": "FloatProgressModel",
            "bar_style": "success",
            "max": 1000,
            "_view_module": "@jupyter-widgets/controls",
            "_model_module_version": "1.5.0",
            "value": 1000,
            "_view_count": null,
            "_view_module_version": "1.5.0",
            "orientation": "horizontal",
            "min": 0,
            "description_tooltip": null,
            "_model_module": "@jupyter-widgets/controls",
            "layout": "IPY_MODEL_b5f7b82c3ae94b1d957bf6c5305c6d20"
          }
        },
        "ba07c16cf0e7421ebd2df15395c1d564": {
          "model_module": "@jupyter-widgets/controls",
          "model_name": "HTMLModel",
          "state": {
            "_view_name": "HTMLView",
            "style": "IPY_MODEL_cce3607396f943b6b42a2a7b6511281a",
            "_dom_classes": [],
            "description": "",
            "_model_name": "HTMLModel",
            "placeholder": "​",
            "_view_module": "@jupyter-widgets/controls",
            "_model_module_version": "1.5.0",
            "value": " 1000/1000 [00:59&lt;00:00, 16.90it/s]",
            "_view_count": null,
            "_view_module_version": "1.5.0",
            "description_tooltip": null,
            "_model_module": "@jupyter-widgets/controls",
            "layout": "IPY_MODEL_d61955dbff264f2abfd968c474c26f2c"
          }
        },
        "92c0f3f6396946c1a4ce023b7a4a10e6": {
          "model_module": "@jupyter-widgets/controls",
          "model_name": "ProgressStyleModel",
          "state": {
            "_view_name": "StyleView",
            "_model_name": "ProgressStyleModel",
            "description_width": "initial",
            "_view_module": "@jupyter-widgets/base",
            "_model_module_version": "1.5.0",
            "_view_count": null,
            "_view_module_version": "1.2.0",
            "bar_color": null,
            "_model_module": "@jupyter-widgets/controls"
          }
        },
        "b5f7b82c3ae94b1d957bf6c5305c6d20": {
          "model_module": "@jupyter-widgets/base",
          "model_name": "LayoutModel",
          "state": {
            "_view_name": "LayoutView",
            "grid_template_rows": null,
            "right": null,
            "justify_content": null,
            "_view_module": "@jupyter-widgets/base",
            "overflow": null,
            "_model_module_version": "1.2.0",
            "_view_count": null,
            "flex_flow": null,
            "width": null,
            "min_width": null,
            "border": null,
            "align_items": null,
            "bottom": null,
            "_model_module": "@jupyter-widgets/base",
            "top": null,
            "grid_column": null,
            "overflow_y": null,
            "overflow_x": null,
            "grid_auto_flow": null,
            "grid_area": null,
            "grid_template_columns": null,
            "flex": null,
            "_model_name": "LayoutModel",
            "justify_items": null,
            "grid_row": null,
            "max_height": null,
            "align_content": null,
            "visibility": null,
            "align_self": null,
            "height": null,
            "min_height": null,
            "padding": null,
            "grid_auto_rows": null,
            "grid_gap": null,
            "max_width": null,
            "order": null,
            "_view_module_version": "1.2.0",
            "grid_template_areas": null,
            "object_position": null,
            "object_fit": null,
            "grid_auto_columns": null,
            "margin": null,
            "display": null,
            "left": null
          }
        },
        "cce3607396f943b6b42a2a7b6511281a": {
          "model_module": "@jupyter-widgets/controls",
          "model_name": "DescriptionStyleModel",
          "state": {
            "_view_name": "StyleView",
            "_model_name": "DescriptionStyleModel",
            "description_width": "",
            "_view_module": "@jupyter-widgets/base",
            "_model_module_version": "1.5.0",
            "_view_count": null,
            "_view_module_version": "1.2.0",
            "_model_module": "@jupyter-widgets/controls"
          }
        },
        "d61955dbff264f2abfd968c474c26f2c": {
          "model_module": "@jupyter-widgets/base",
          "model_name": "LayoutModel",
          "state": {
            "_view_name": "LayoutView",
            "grid_template_rows": null,
            "right": null,
            "justify_content": null,
            "_view_module": "@jupyter-widgets/base",
            "overflow": null,
            "_model_module_version": "1.2.0",
            "_view_count": null,
            "flex_flow": null,
            "width": null,
            "min_width": null,
            "border": null,
            "align_items": null,
            "bottom": null,
            "_model_module": "@jupyter-widgets/base",
            "top": null,
            "grid_column": null,
            "overflow_y": null,
            "overflow_x": null,
            "grid_auto_flow": null,
            "grid_area": null,
            "grid_template_columns": null,
            "flex": null,
            "_model_name": "LayoutModel",
            "justify_items": null,
            "grid_row": null,
            "max_height": null,
            "align_content": null,
            "visibility": null,
            "align_self": null,
            "height": null,
            "min_height": null,
            "padding": null,
            "grid_auto_rows": null,
            "grid_gap": null,
            "max_width": null,
            "order": null,
            "_view_module_version": "1.2.0",
            "grid_template_areas": null,
            "object_position": null,
            "object_fit": null,
            "grid_auto_columns": null,
            "margin": null,
            "display": null,
            "left": null
          }
        },
        "e4261064d9e24ad2ab8e2b33c01e7563": {
          "model_module": "@jupyter-widgets/controls",
          "model_name": "HBoxModel",
          "state": {
            "_view_name": "HBoxView",
            "_dom_classes": [],
            "_model_name": "HBoxModel",
            "_view_module": "@jupyter-widgets/controls",
            "_model_module_version": "1.5.0",
            "_view_count": null,
            "_view_module_version": "1.5.0",
            "box_style": "",
            "layout": "IPY_MODEL_f7b7779e57d1434cb7d5c6dce51e705e",
            "_model_module": "@jupyter-widgets/controls",
            "children": [
              "IPY_MODEL_e7d29883bb6f420b90de2a575b94e846",
              "IPY_MODEL_511f6b2be6b844718151e8249dc57ed5"
            ]
          }
        },
        "f7b7779e57d1434cb7d5c6dce51e705e": {
          "model_module": "@jupyter-widgets/base",
          "model_name": "LayoutModel",
          "state": {
            "_view_name": "LayoutView",
            "grid_template_rows": null,
            "right": null,
            "justify_content": null,
            "_view_module": "@jupyter-widgets/base",
            "overflow": null,
            "_model_module_version": "1.2.0",
            "_view_count": null,
            "flex_flow": null,
            "width": null,
            "min_width": null,
            "border": null,
            "align_items": null,
            "bottom": null,
            "_model_module": "@jupyter-widgets/base",
            "top": null,
            "grid_column": null,
            "overflow_y": null,
            "overflow_x": null,
            "grid_auto_flow": null,
            "grid_area": null,
            "grid_template_columns": null,
            "flex": null,
            "_model_name": "LayoutModel",
            "justify_items": null,
            "grid_row": null,
            "max_height": null,
            "align_content": null,
            "visibility": null,
            "align_self": null,
            "height": null,
            "min_height": null,
            "padding": null,
            "grid_auto_rows": null,
            "grid_gap": null,
            "max_width": null,
            "order": null,
            "_view_module_version": "1.2.0",
            "grid_template_areas": null,
            "object_position": null,
            "object_fit": null,
            "grid_auto_columns": null,
            "margin": null,
            "display": null,
            "left": null
          }
        },
        "e7d29883bb6f420b90de2a575b94e846": {
          "model_module": "@jupyter-widgets/controls",
          "model_name": "FloatProgressModel",
          "state": {
            "_view_name": "ProgressView",
            "style": "IPY_MODEL_e7eae64e3ba241b5b38d7ffc1a92c0ed",
            "_dom_classes": [],
            "description": "100%",
            "_model_name": "FloatProgressModel",
            "bar_style": "success",
            "max": 48040,
            "_view_module": "@jupyter-widgets/controls",
            "_model_module_version": "1.5.0",
            "value": 48040,
            "_view_count": null,
            "_view_module_version": "1.5.0",
            "orientation": "horizontal",
            "min": 0,
            "description_tooltip": null,
            "_model_module": "@jupyter-widgets/controls",
            "layout": "IPY_MODEL_244084bf14bc491ea64cadb49f12ec09"
          }
        },
        "511f6b2be6b844718151e8249dc57ed5": {
          "model_module": "@jupyter-widgets/controls",
          "model_name": "HTMLModel",
          "state": {
            "_view_name": "HTMLView",
            "style": "IPY_MODEL_cbd74f62226844a8bac14942748b9364",
            "_dom_classes": [],
            "description": "",
            "_model_name": "HTMLModel",
            "placeholder": "​",
            "_view_module": "@jupyter-widgets/controls",
            "_model_module_version": "1.5.0",
            "value": " 48040/48040 [01:03&lt;00:00, 750.89it/s]",
            "_view_count": null,
            "_view_module_version": "1.5.0",
            "description_tooltip": null,
            "_model_module": "@jupyter-widgets/controls",
            "layout": "IPY_MODEL_5a77b41afe62444e86bcd7259ecd7fa4"
          }
        },
        "e7eae64e3ba241b5b38d7ffc1a92c0ed": {
          "model_module": "@jupyter-widgets/controls",
          "model_name": "ProgressStyleModel",
          "state": {
            "_view_name": "StyleView",
            "_model_name": "ProgressStyleModel",
            "description_width": "initial",
            "_view_module": "@jupyter-widgets/base",
            "_model_module_version": "1.5.0",
            "_view_count": null,
            "_view_module_version": "1.2.0",
            "bar_color": null,
            "_model_module": "@jupyter-widgets/controls"
          }
        },
        "244084bf14bc491ea64cadb49f12ec09": {
          "model_module": "@jupyter-widgets/base",
          "model_name": "LayoutModel",
          "state": {
            "_view_name": "LayoutView",
            "grid_template_rows": null,
            "right": null,
            "justify_content": null,
            "_view_module": "@jupyter-widgets/base",
            "overflow": null,
            "_model_module_version": "1.2.0",
            "_view_count": null,
            "flex_flow": null,
            "width": null,
            "min_width": null,
            "border": null,
            "align_items": null,
            "bottom": null,
            "_model_module": "@jupyter-widgets/base",
            "top": null,
            "grid_column": null,
            "overflow_y": null,
            "overflow_x": null,
            "grid_auto_flow": null,
            "grid_area": null,
            "grid_template_columns": null,
            "flex": null,
            "_model_name": "LayoutModel",
            "justify_items": null,
            "grid_row": null,
            "max_height": null,
            "align_content": null,
            "visibility": null,
            "align_self": null,
            "height": null,
            "min_height": null,
            "padding": null,
            "grid_auto_rows": null,
            "grid_gap": null,
            "max_width": null,
            "order": null,
            "_view_module_version": "1.2.0",
            "grid_template_areas": null,
            "object_position": null,
            "object_fit": null,
            "grid_auto_columns": null,
            "margin": null,
            "display": null,
            "left": null
          }
        },
        "cbd74f62226844a8bac14942748b9364": {
          "model_module": "@jupyter-widgets/controls",
          "model_name": "DescriptionStyleModel",
          "state": {
            "_view_name": "StyleView",
            "_model_name": "DescriptionStyleModel",
            "description_width": "",
            "_view_module": "@jupyter-widgets/base",
            "_model_module_version": "1.5.0",
            "_view_count": null,
            "_view_module_version": "1.2.0",
            "_model_module": "@jupyter-widgets/controls"
          }
        },
        "5a77b41afe62444e86bcd7259ecd7fa4": {
          "model_module": "@jupyter-widgets/base",
          "model_name": "LayoutModel",
          "state": {
            "_view_name": "LayoutView",
            "grid_template_rows": null,
            "right": null,
            "justify_content": null,
            "_view_module": "@jupyter-widgets/base",
            "overflow": null,
            "_model_module_version": "1.2.0",
            "_view_count": null,
            "flex_flow": null,
            "width": null,
            "min_width": null,
            "border": null,
            "align_items": null,
            "bottom": null,
            "_model_module": "@jupyter-widgets/base",
            "top": null,
            "grid_column": null,
            "overflow_y": null,
            "overflow_x": null,
            "grid_auto_flow": null,
            "grid_area": null,
            "grid_template_columns": null,
            "flex": null,
            "_model_name": "LayoutModel",
            "justify_items": null,
            "grid_row": null,
            "max_height": null,
            "align_content": null,
            "visibility": null,
            "align_self": null,
            "height": null,
            "min_height": null,
            "padding": null,
            "grid_auto_rows": null,
            "grid_gap": null,
            "max_width": null,
            "order": null,
            "_view_module_version": "1.2.0",
            "grid_template_areas": null,
            "object_position": null,
            "object_fit": null,
            "grid_auto_columns": null,
            "margin": null,
            "display": null,
            "left": null
          }
        },
        "40415686e93a4a0a9d6ee8bb00ff0c8c": {
          "model_module": "@jupyter-widgets/controls",
          "model_name": "VBoxModel",
          "state": {
            "_view_name": "VBoxView",
            "_dom_classes": [],
            "_model_name": "VBoxModel",
            "_view_module": "@jupyter-widgets/controls",
            "_model_module_version": "1.5.0",
            "_view_count": null,
            "_view_module_version": "1.5.0",
            "box_style": "",
            "layout": "IPY_MODEL_ce6ca238ba4a4c33bb559f6d526cf214",
            "_model_module": "@jupyter-widgets/controls",
            "children": [
              "IPY_MODEL_e7c208780e1b40a5a62ba39cb3907ae2",
              "IPY_MODEL_4522dae60ca24863a62706320eb17acc",
              "IPY_MODEL_fbad63584f484f578c943a3375ada289",
              "IPY_MODEL_b6df8ab2562c4622947d86c7a510d5b8"
            ]
          }
        },
        "ce6ca238ba4a4c33bb559f6d526cf214": {
          "model_module": "@jupyter-widgets/base",
          "model_name": "LayoutModel",
          "state": {
            "_view_name": "LayoutView",
            "grid_template_rows": null,
            "right": null,
            "justify_content": null,
            "_view_module": "@jupyter-widgets/base",
            "overflow": null,
            "_model_module_version": "1.2.0",
            "_view_count": null,
            "flex_flow": null,
            "width": null,
            "min_width": null,
            "border": null,
            "align_items": null,
            "bottom": null,
            "_model_module": "@jupyter-widgets/base",
            "top": null,
            "grid_column": null,
            "overflow_y": null,
            "overflow_x": null,
            "grid_auto_flow": null,
            "grid_area": null,
            "grid_template_columns": null,
            "flex": null,
            "_model_name": "LayoutModel",
            "justify_items": null,
            "grid_row": null,
            "max_height": null,
            "align_content": null,
            "visibility": null,
            "align_self": null,
            "height": null,
            "min_height": null,
            "padding": null,
            "grid_auto_rows": null,
            "grid_gap": null,
            "max_width": null,
            "order": null,
            "_view_module_version": "1.2.0",
            "grid_template_areas": null,
            "object_position": null,
            "object_fit": null,
            "grid_auto_columns": null,
            "margin": null,
            "display": null,
            "left": null
          }
        },
        "e7c208780e1b40a5a62ba39cb3907ae2": {
          "model_module": "@jupyter-widgets/output",
          "model_name": "OutputModel",
          "state": {
            "_view_name": "OutputView",
            "msg_id": "",
            "_dom_classes": [],
            "_model_name": "OutputModel",
            "outputs": [
              {
                "output_type": "display_data",
                "metadata": {
                  "tags": []
                },
                "application/vnd.jupyter.widget-view+json": {
                  "model_id": "52b19e9148c34c2c85bb8b8accf4ab9e",
                  "version_minor": 0,
                  "version_major": 2
                },
                "text/plain": "HTMLMath(value='Consider the collection $D$ containing 3 documents')"
              },
              {
                "output_type": "display_data",
                "metadata": {
                  "tags": []
                },
                "application/vnd.jupyter.widget-view+json": {
                  "model_id": "ecf34c3875ce4e38a3ca6b722cf9432e",
                  "version_minor": 0,
                  "version_major": 2
                },
                "text/plain": "HTMLMath(value='1. $d_1$ = \"If you tell the truth you don\\'t have to remember anything.\"')"
              },
              {
                "output_type": "display_data",
                "metadata": {
                  "tags": []
                },
                "application/vnd.jupyter.widget-view+json": {
                  "model_id": "3b7e69c9d81b45f79365c9275be8e7aa",
                  "version_minor": 0,
                  "version_major": 2
                },
                "text/plain": "HTMLMath(value='2. $d_2$ = \"If you don\\'t read the newspaper, you\\'re uninformed. If you read the newspaper, y…"
              },
              {
                "output_type": "display_data",
                "metadata": {
                  "tags": []
                },
                "application/vnd.jupyter.widget-view+json": {
                  "model_id": "a2b769826888458095376e096172f3f9",
                  "version_minor": 0,
                  "version_major": 2
                },
                "text/plain": "HTMLMath(value='3. $d_3$ = \"A lie can travel half way around the world while the truth is putting on its shoes…"
              },
              {
                "output_type": "display_data",
                "metadata": {
                  "tags": []
                },
                "application/vnd.jupyter.widget-view+json": {
                  "model_id": "9e875bc7447d4413aec82e3055633293",
                  "version_minor": 0,
                  "version_major": 2
                },
                "text/plain": "HTMLMath(value=\"Compute $$TFIDF(\\\\mathrm{''If''}, d_1, D)$$\")"
              }
            ],
            "_view_module": "@jupyter-widgets/output",
            "_model_module_version": "1.0.0",
            "_view_count": null,
            "_view_module_version": "1.0.0",
            "layout": "IPY_MODEL_a31bfbd2da224dfcbd8e454780561411",
            "_model_module": "@jupyter-widgets/output"
          }
        },
        "4522dae60ca24863a62706320eb17acc": {
          "model_module": "@jupyter-widgets/controls",
          "model_name": "RadioButtonsModel",
          "state": {
            "_options_labels": [
              "2.2",
              "0.81",
              "0.405",
              "1.5"
            ],
            "_view_name": "RadioButtonsView",
            "style": "IPY_MODEL_ab1eac23d1c4498e915e81b41c07f58f",
            "_dom_classes": [],
            "description": "",
            "_model_name": "RadioButtonsModel",
            "index": 2,
            "_view_module": "@jupyter-widgets/controls",
            "_model_module_version": "1.5.0",
            "_view_count": null,
            "disabled": false,
            "_view_module_version": "1.5.0",
            "description_tooltip": null,
            "_model_module": "@jupyter-widgets/controls",
            "layout": "IPY_MODEL_14f90269b7594f0594808acbb321087b"
          }
        },
        "fbad63584f484f578c943a3375ada289": {
          "model_module": "@jupyter-widgets/controls",
          "model_name": "HTMLModel",
          "state": {
            "_view_name": "HTMLView",
            "style": "IPY_MODEL_5883f45f980749289b79db21b0f13da2",
            "_dom_classes": [],
            "description": "",
            "_model_name": "HTMLModel",
            "placeholder": "​",
            "_view_module": "@jupyter-widgets/controls",
            "_model_module_version": "1.5.0",
            "value": "<font color='green'>'0.405' is the correct answer</font>",
            "_view_count": null,
            "_view_module_version": "1.5.0",
            "description_tooltip": null,
            "_model_module": "@jupyter-widgets/controls",
            "layout": "IPY_MODEL_c62aeb2eb8e344d7b8832aa3d1a9d9a3"
          }
        },
        "b6df8ab2562c4622947d86c7a510d5b8": {
          "model_module": "@jupyter-widgets/controls",
          "model_name": "ButtonModel",
          "state": {
            "_view_name": "ButtonView",
            "style": "IPY_MODEL_8ca5b2afd83f4d749581284f76164043",
            "_dom_classes": [],
            "description": "Check",
            "_model_name": "ButtonModel",
            "button_style": "",
            "_view_module": "@jupyter-widgets/controls",
            "_model_module_version": "1.5.0",
            "tooltip": "",
            "_view_count": null,
            "disabled": false,
            "_view_module_version": "1.5.0",
            "layout": "IPY_MODEL_1f096a1b18e844f1ba7e30ca941373a2",
            "_model_module": "@jupyter-widgets/controls",
            "icon": ""
          }
        },
        "ab1eac23d1c4498e915e81b41c07f58f": {
          "model_module": "@jupyter-widgets/controls",
          "model_name": "DescriptionStyleModel",
          "state": {
            "_view_name": "StyleView",
            "_model_name": "DescriptionStyleModel",
            "description_width": "",
            "_view_module": "@jupyter-widgets/base",
            "_model_module_version": "1.5.0",
            "_view_count": null,
            "_view_module_version": "1.2.0",
            "_model_module": "@jupyter-widgets/controls"
          }
        },
        "14f90269b7594f0594808acbb321087b": {
          "model_module": "@jupyter-widgets/base",
          "model_name": "LayoutModel",
          "state": {
            "_view_name": "LayoutView",
            "grid_template_rows": null,
            "right": null,
            "justify_content": null,
            "_view_module": "@jupyter-widgets/base",
            "overflow": null,
            "_model_module_version": "1.2.0",
            "_view_count": null,
            "flex_flow": null,
            "width": null,
            "min_width": null,
            "border": null,
            "align_items": null,
            "bottom": null,
            "_model_module": "@jupyter-widgets/base",
            "top": null,
            "grid_column": null,
            "overflow_y": null,
            "overflow_x": null,
            "grid_auto_flow": null,
            "grid_area": null,
            "grid_template_columns": null,
            "flex": null,
            "_model_name": "LayoutModel",
            "justify_items": null,
            "grid_row": null,
            "max_height": null,
            "align_content": null,
            "visibility": null,
            "align_self": null,
            "height": null,
            "min_height": null,
            "padding": null,
            "grid_auto_rows": null,
            "grid_gap": null,
            "max_width": null,
            "order": null,
            "_view_module_version": "1.2.0",
            "grid_template_areas": null,
            "object_position": null,
            "object_fit": null,
            "grid_auto_columns": null,
            "margin": null,
            "display": null,
            "left": null
          }
        },
        "5883f45f980749289b79db21b0f13da2": {
          "model_module": "@jupyter-widgets/controls",
          "model_name": "DescriptionStyleModel",
          "state": {
            "_view_name": "StyleView",
            "_model_name": "DescriptionStyleModel",
            "description_width": "",
            "_view_module": "@jupyter-widgets/base",
            "_model_module_version": "1.5.0",
            "_view_count": null,
            "_view_module_version": "1.2.0",
            "_model_module": "@jupyter-widgets/controls"
          }
        },
        "c62aeb2eb8e344d7b8832aa3d1a9d9a3": {
          "model_module": "@jupyter-widgets/base",
          "model_name": "LayoutModel",
          "state": {
            "_view_name": "LayoutView",
            "grid_template_rows": null,
            "right": null,
            "justify_content": null,
            "_view_module": "@jupyter-widgets/base",
            "overflow": null,
            "_model_module_version": "1.2.0",
            "_view_count": null,
            "flex_flow": null,
            "width": null,
            "min_width": null,
            "border": null,
            "align_items": null,
            "bottom": null,
            "_model_module": "@jupyter-widgets/base",
            "top": null,
            "grid_column": null,
            "overflow_y": null,
            "overflow_x": null,
            "grid_auto_flow": null,
            "grid_area": null,
            "grid_template_columns": null,
            "flex": null,
            "_model_name": "LayoutModel",
            "justify_items": null,
            "grid_row": null,
            "max_height": null,
            "align_content": null,
            "visibility": null,
            "align_self": null,
            "height": null,
            "min_height": null,
            "padding": null,
            "grid_auto_rows": null,
            "grid_gap": null,
            "max_width": null,
            "order": null,
            "_view_module_version": "1.2.0",
            "grid_template_areas": null,
            "object_position": null,
            "object_fit": null,
            "grid_auto_columns": null,
            "margin": null,
            "display": null,
            "left": null
          }
        },
        "8ca5b2afd83f4d749581284f76164043": {
          "model_module": "@jupyter-widgets/controls",
          "model_name": "ButtonStyleModel",
          "state": {
            "_view_name": "StyleView",
            "_model_name": "ButtonStyleModel",
            "_view_module": "@jupyter-widgets/base",
            "_model_module_version": "1.5.0",
            "_view_count": null,
            "button_color": null,
            "font_weight": "",
            "_view_module_version": "1.2.0",
            "_model_module": "@jupyter-widgets/controls"
          }
        },
        "1f096a1b18e844f1ba7e30ca941373a2": {
          "model_module": "@jupyter-widgets/base",
          "model_name": "LayoutModel",
          "state": {
            "_view_name": "LayoutView",
            "grid_template_rows": null,
            "right": null,
            "justify_content": null,
            "_view_module": "@jupyter-widgets/base",
            "overflow": null,
            "_model_module_version": "1.2.0",
            "_view_count": null,
            "flex_flow": null,
            "width": null,
            "min_width": null,
            "border": null,
            "align_items": null,
            "bottom": null,
            "_model_module": "@jupyter-widgets/base",
            "top": null,
            "grid_column": null,
            "overflow_y": null,
            "overflow_x": null,
            "grid_auto_flow": null,
            "grid_area": null,
            "grid_template_columns": null,
            "flex": null,
            "_model_name": "LayoutModel",
            "justify_items": null,
            "grid_row": null,
            "max_height": null,
            "align_content": null,
            "visibility": null,
            "align_self": null,
            "height": null,
            "min_height": null,
            "padding": null,
            "grid_auto_rows": null,
            "grid_gap": null,
            "max_width": null,
            "order": null,
            "_view_module_version": "1.2.0",
            "grid_template_areas": null,
            "object_position": null,
            "object_fit": null,
            "grid_auto_columns": null,
            "margin": null,
            "display": null,
            "left": null
          }
        },
        "52b19e9148c34c2c85bb8b8accf4ab9e": {
          "model_module": "@jupyter-widgets/controls",
          "model_name": "HTMLMathModel",
          "state": {
            "_view_name": "HTMLMathView",
            "style": "IPY_MODEL_7ba82d2461f94918a7a7ab00f59963dd",
            "_dom_classes": [],
            "description": "",
            "_model_name": "HTMLMathModel",
            "placeholder": "​",
            "_view_module": "@jupyter-widgets/controls",
            "_model_module_version": "1.5.0",
            "value": "Consider the collection $D$ containing 3 documents",
            "_view_count": null,
            "_view_module_version": "1.5.0",
            "description_tooltip": null,
            "_model_module": "@jupyter-widgets/controls",
            "layout": "IPY_MODEL_37198d5eef104e15a4b99c97d035722c"
          }
        },
        "a31bfbd2da224dfcbd8e454780561411": {
          "model_module": "@jupyter-widgets/base",
          "model_name": "LayoutModel",
          "state": {
            "_view_name": "LayoutView",
            "grid_template_rows": null,
            "right": null,
            "justify_content": null,
            "_view_module": "@jupyter-widgets/base",
            "overflow": null,
            "_model_module_version": "1.2.0",
            "_view_count": null,
            "flex_flow": null,
            "width": null,
            "min_width": null,
            "border": null,
            "align_items": null,
            "bottom": null,
            "_model_module": "@jupyter-widgets/base",
            "top": null,
            "grid_column": null,
            "overflow_y": null,
            "overflow_x": null,
            "grid_auto_flow": null,
            "grid_area": null,
            "grid_template_columns": null,
            "flex": null,
            "_model_name": "LayoutModel",
            "justify_items": null,
            "grid_row": null,
            "max_height": null,
            "align_content": null,
            "visibility": null,
            "align_self": null,
            "height": null,
            "min_height": null,
            "padding": null,
            "grid_auto_rows": null,
            "grid_gap": null,
            "max_width": null,
            "order": null,
            "_view_module_version": "1.2.0",
            "grid_template_areas": null,
            "object_position": null,
            "object_fit": null,
            "grid_auto_columns": null,
            "margin": null,
            "display": null,
            "left": null
          }
        },
        "7ba82d2461f94918a7a7ab00f59963dd": {
          "model_module": "@jupyter-widgets/controls",
          "model_name": "DescriptionStyleModel",
          "state": {
            "_view_name": "StyleView",
            "_model_name": "DescriptionStyleModel",
            "description_width": "",
            "_view_module": "@jupyter-widgets/base",
            "_model_module_version": "1.5.0",
            "_view_count": null,
            "_view_module_version": "1.2.0",
            "_model_module": "@jupyter-widgets/controls"
          }
        },
        "37198d5eef104e15a4b99c97d035722c": {
          "model_module": "@jupyter-widgets/base",
          "model_name": "LayoutModel",
          "state": {
            "_view_name": "LayoutView",
            "grid_template_rows": null,
            "right": null,
            "justify_content": null,
            "_view_module": "@jupyter-widgets/base",
            "overflow": null,
            "_model_module_version": "1.2.0",
            "_view_count": null,
            "flex_flow": null,
            "width": null,
            "min_width": null,
            "border": null,
            "align_items": null,
            "bottom": null,
            "_model_module": "@jupyter-widgets/base",
            "top": null,
            "grid_column": null,
            "overflow_y": null,
            "overflow_x": null,
            "grid_auto_flow": null,
            "grid_area": null,
            "grid_template_columns": null,
            "flex": null,
            "_model_name": "LayoutModel",
            "justify_items": null,
            "grid_row": null,
            "max_height": null,
            "align_content": null,
            "visibility": null,
            "align_self": null,
            "height": null,
            "min_height": null,
            "padding": null,
            "grid_auto_rows": null,
            "grid_gap": null,
            "max_width": null,
            "order": null,
            "_view_module_version": "1.2.0",
            "grid_template_areas": null,
            "object_position": null,
            "object_fit": null,
            "grid_auto_columns": null,
            "margin": null,
            "display": null,
            "left": null
          }
        },
        "ecf34c3875ce4e38a3ca6b722cf9432e": {
          "model_module": "@jupyter-widgets/controls",
          "model_name": "HTMLMathModel",
          "state": {
            "_view_name": "HTMLMathView",
            "style": "IPY_MODEL_2f1085b3fcac44c890236bca18d85129",
            "_dom_classes": [],
            "description": "",
            "_model_name": "HTMLMathModel",
            "placeholder": "​",
            "_view_module": "@jupyter-widgets/controls",
            "_model_module_version": "1.5.0",
            "value": "1. $d_1$ = \"If you tell the truth you don't have to remember anything.\"",
            "_view_count": null,
            "_view_module_version": "1.5.0",
            "description_tooltip": null,
            "_model_module": "@jupyter-widgets/controls",
            "layout": "IPY_MODEL_6902dad6c4524b84bd48a7096aa36903"
          }
        },
        "2f1085b3fcac44c890236bca18d85129": {
          "model_module": "@jupyter-widgets/controls",
          "model_name": "DescriptionStyleModel",
          "state": {
            "_view_name": "StyleView",
            "_model_name": "DescriptionStyleModel",
            "description_width": "",
            "_view_module": "@jupyter-widgets/base",
            "_model_module_version": "1.5.0",
            "_view_count": null,
            "_view_module_version": "1.2.0",
            "_model_module": "@jupyter-widgets/controls"
          }
        },
        "6902dad6c4524b84bd48a7096aa36903": {
          "model_module": "@jupyter-widgets/base",
          "model_name": "LayoutModel",
          "state": {
            "_view_name": "LayoutView",
            "grid_template_rows": null,
            "right": null,
            "justify_content": null,
            "_view_module": "@jupyter-widgets/base",
            "overflow": null,
            "_model_module_version": "1.2.0",
            "_view_count": null,
            "flex_flow": null,
            "width": null,
            "min_width": null,
            "border": null,
            "align_items": null,
            "bottom": null,
            "_model_module": "@jupyter-widgets/base",
            "top": null,
            "grid_column": null,
            "overflow_y": null,
            "overflow_x": null,
            "grid_auto_flow": null,
            "grid_area": null,
            "grid_template_columns": null,
            "flex": null,
            "_model_name": "LayoutModel",
            "justify_items": null,
            "grid_row": null,
            "max_height": null,
            "align_content": null,
            "visibility": null,
            "align_self": null,
            "height": null,
            "min_height": null,
            "padding": null,
            "grid_auto_rows": null,
            "grid_gap": null,
            "max_width": null,
            "order": null,
            "_view_module_version": "1.2.0",
            "grid_template_areas": null,
            "object_position": null,
            "object_fit": null,
            "grid_auto_columns": null,
            "margin": null,
            "display": null,
            "left": null
          }
        },
        "3b7e69c9d81b45f79365c9275be8e7aa": {
          "model_module": "@jupyter-widgets/controls",
          "model_name": "HTMLMathModel",
          "state": {
            "_view_name": "HTMLMathView",
            "style": "IPY_MODEL_c62d41de7a4d4469992ab4ef31d08b33",
            "_dom_classes": [],
            "description": "",
            "_model_name": "HTMLMathModel",
            "placeholder": "​",
            "_view_module": "@jupyter-widgets/controls",
            "_model_module_version": "1.5.0",
            "value": "2. $d_2$ = \"If you don't read the newspaper, you're uninformed. If you read the newspaper, you're misinformed.\"",
            "_view_count": null,
            "_view_module_version": "1.5.0",
            "description_tooltip": null,
            "_model_module": "@jupyter-widgets/controls",
            "layout": "IPY_MODEL_f93779be897a4f76875b42b28567d0cd"
          }
        },
        "c62d41de7a4d4469992ab4ef31d08b33": {
          "model_module": "@jupyter-widgets/controls",
          "model_name": "DescriptionStyleModel",
          "state": {
            "_view_name": "StyleView",
            "_model_name": "DescriptionStyleModel",
            "description_width": "",
            "_view_module": "@jupyter-widgets/base",
            "_model_module_version": "1.5.0",
            "_view_count": null,
            "_view_module_version": "1.2.0",
            "_model_module": "@jupyter-widgets/controls"
          }
        },
        "f93779be897a4f76875b42b28567d0cd": {
          "model_module": "@jupyter-widgets/base",
          "model_name": "LayoutModel",
          "state": {
            "_view_name": "LayoutView",
            "grid_template_rows": null,
            "right": null,
            "justify_content": null,
            "_view_module": "@jupyter-widgets/base",
            "overflow": null,
            "_model_module_version": "1.2.0",
            "_view_count": null,
            "flex_flow": null,
            "width": null,
            "min_width": null,
            "border": null,
            "align_items": null,
            "bottom": null,
            "_model_module": "@jupyter-widgets/base",
            "top": null,
            "grid_column": null,
            "overflow_y": null,
            "overflow_x": null,
            "grid_auto_flow": null,
            "grid_area": null,
            "grid_template_columns": null,
            "flex": null,
            "_model_name": "LayoutModel",
            "justify_items": null,
            "grid_row": null,
            "max_height": null,
            "align_content": null,
            "visibility": null,
            "align_self": null,
            "height": null,
            "min_height": null,
            "padding": null,
            "grid_auto_rows": null,
            "grid_gap": null,
            "max_width": null,
            "order": null,
            "_view_module_version": "1.2.0",
            "grid_template_areas": null,
            "object_position": null,
            "object_fit": null,
            "grid_auto_columns": null,
            "margin": null,
            "display": null,
            "left": null
          }
        },
        "a2b769826888458095376e096172f3f9": {
          "model_module": "@jupyter-widgets/controls",
          "model_name": "HTMLMathModel",
          "state": {
            "_view_name": "HTMLMathView",
            "style": "IPY_MODEL_e33230ab25af47c4941222bfdac84e73",
            "_dom_classes": [],
            "description": "",
            "_model_name": "HTMLMathModel",
            "placeholder": "​",
            "_view_module": "@jupyter-widgets/controls",
            "_model_module_version": "1.5.0",
            "value": "3. $d_3$ = \"A lie can travel half way around the world while the truth is putting on its shoes.\"",
            "_view_count": null,
            "_view_module_version": "1.5.0",
            "description_tooltip": null,
            "_model_module": "@jupyter-widgets/controls",
            "layout": "IPY_MODEL_29b0b2a5928d40fd9f03c7ca48accf86"
          }
        },
        "e33230ab25af47c4941222bfdac84e73": {
          "model_module": "@jupyter-widgets/controls",
          "model_name": "DescriptionStyleModel",
          "state": {
            "_view_name": "StyleView",
            "_model_name": "DescriptionStyleModel",
            "description_width": "",
            "_view_module": "@jupyter-widgets/base",
            "_model_module_version": "1.5.0",
            "_view_count": null,
            "_view_module_version": "1.2.0",
            "_model_module": "@jupyter-widgets/controls"
          }
        },
        "29b0b2a5928d40fd9f03c7ca48accf86": {
          "model_module": "@jupyter-widgets/base",
          "model_name": "LayoutModel",
          "state": {
            "_view_name": "LayoutView",
            "grid_template_rows": null,
            "right": null,
            "justify_content": null,
            "_view_module": "@jupyter-widgets/base",
            "overflow": null,
            "_model_module_version": "1.2.0",
            "_view_count": null,
            "flex_flow": null,
            "width": null,
            "min_width": null,
            "border": null,
            "align_items": null,
            "bottom": null,
            "_model_module": "@jupyter-widgets/base",
            "top": null,
            "grid_column": null,
            "overflow_y": null,
            "overflow_x": null,
            "grid_auto_flow": null,
            "grid_area": null,
            "grid_template_columns": null,
            "flex": null,
            "_model_name": "LayoutModel",
            "justify_items": null,
            "grid_row": null,
            "max_height": null,
            "align_content": null,
            "visibility": null,
            "align_self": null,
            "height": null,
            "min_height": null,
            "padding": null,
            "grid_auto_rows": null,
            "grid_gap": null,
            "max_width": null,
            "order": null,
            "_view_module_version": "1.2.0",
            "grid_template_areas": null,
            "object_position": null,
            "object_fit": null,
            "grid_auto_columns": null,
            "margin": null,
            "display": null,
            "left": null
          }
        },
        "9e875bc7447d4413aec82e3055633293": {
          "model_module": "@jupyter-widgets/controls",
          "model_name": "HTMLMathModel",
          "state": {
            "_view_name": "HTMLMathView",
            "style": "IPY_MODEL_6f9a86f2c0774ab9b31f5d8de6f2a4ed",
            "_dom_classes": [],
            "description": "",
            "_model_name": "HTMLMathModel",
            "placeholder": "​",
            "_view_module": "@jupyter-widgets/controls",
            "_model_module_version": "1.5.0",
            "value": "Compute $$TFIDF(\\mathrm{''If''}, d_1, D)$$",
            "_view_count": null,
            "_view_module_version": "1.5.0",
            "description_tooltip": null,
            "_model_module": "@jupyter-widgets/controls",
            "layout": "IPY_MODEL_49767b282a4f4db789cf1f8a73746f0a"
          }
        },
        "6f9a86f2c0774ab9b31f5d8de6f2a4ed": {
          "model_module": "@jupyter-widgets/controls",
          "model_name": "DescriptionStyleModel",
          "state": {
            "_view_name": "StyleView",
            "_model_name": "DescriptionStyleModel",
            "description_width": "",
            "_view_module": "@jupyter-widgets/base",
            "_model_module_version": "1.5.0",
            "_view_count": null,
            "_view_module_version": "1.2.0",
            "_model_module": "@jupyter-widgets/controls"
          }
        },
        "49767b282a4f4db789cf1f8a73746f0a": {
          "model_module": "@jupyter-widgets/base",
          "model_name": "LayoutModel",
          "state": {
            "_view_name": "LayoutView",
            "grid_template_rows": null,
            "right": null,
            "justify_content": null,
            "_view_module": "@jupyter-widgets/base",
            "overflow": null,
            "_model_module_version": "1.2.0",
            "_view_count": null,
            "flex_flow": null,
            "width": null,
            "min_width": null,
            "border": null,
            "align_items": null,
            "bottom": null,
            "_model_module": "@jupyter-widgets/base",
            "top": null,
            "grid_column": null,
            "overflow_y": null,
            "overflow_x": null,
            "grid_auto_flow": null,
            "grid_area": null,
            "grid_template_columns": null,
            "flex": null,
            "_model_name": "LayoutModel",
            "justify_items": null,
            "grid_row": null,
            "max_height": null,
            "align_content": null,
            "visibility": null,
            "align_self": null,
            "height": null,
            "min_height": null,
            "padding": null,
            "grid_auto_rows": null,
            "grid_gap": null,
            "max_width": null,
            "order": null,
            "_view_module_version": "1.2.0",
            "grid_template_areas": null,
            "object_position": null,
            "object_fit": null,
            "grid_auto_columns": null,
            "margin": null,
            "display": null,
            "left": null
          }
        },
        "f68ef7ef50df485d9a8b190232ddaf76": {
          "model_module": "@jupyter-widgets/controls",
          "model_name": "VBoxModel",
          "state": {
            "_view_name": "VBoxView",
            "_dom_classes": [],
            "_model_name": "VBoxModel",
            "_view_module": "@jupyter-widgets/controls",
            "_model_module_version": "1.5.0",
            "_view_count": null,
            "_view_module_version": "1.5.0",
            "box_style": "",
            "layout": "IPY_MODEL_17e941627a6f42efbc11c5d90d8eaac0",
            "_model_module": "@jupyter-widgets/controls",
            "children": [
              "IPY_MODEL_2d0b4bdd74c74b95bd090ee3882b4ca8",
              "IPY_MODEL_90e4fca6bf96455a834ef2ab564a8360",
              "IPY_MODEL_6465bbda1314472c8ad2c6db4c163f64",
              "IPY_MODEL_91e5ae9ca6f946faa1d2016e5f00116d"
            ]
          }
        },
        "17e941627a6f42efbc11c5d90d8eaac0": {
          "model_module": "@jupyter-widgets/base",
          "model_name": "LayoutModel",
          "state": {
            "_view_name": "LayoutView",
            "grid_template_rows": null,
            "right": null,
            "justify_content": null,
            "_view_module": "@jupyter-widgets/base",
            "overflow": null,
            "_model_module_version": "1.2.0",
            "_view_count": null,
            "flex_flow": null,
            "width": null,
            "min_width": null,
            "border": null,
            "align_items": null,
            "bottom": null,
            "_model_module": "@jupyter-widgets/base",
            "top": null,
            "grid_column": null,
            "overflow_y": null,
            "overflow_x": null,
            "grid_auto_flow": null,
            "grid_area": null,
            "grid_template_columns": null,
            "flex": null,
            "_model_name": "LayoutModel",
            "justify_items": null,
            "grid_row": null,
            "max_height": null,
            "align_content": null,
            "visibility": null,
            "align_self": null,
            "height": null,
            "min_height": null,
            "padding": null,
            "grid_auto_rows": null,
            "grid_gap": null,
            "max_width": null,
            "order": null,
            "_view_module_version": "1.2.0",
            "grid_template_areas": null,
            "object_position": null,
            "object_fit": null,
            "grid_auto_columns": null,
            "margin": null,
            "display": null,
            "left": null
          }
        },
        "2d0b4bdd74c74b95bd090ee3882b4ca8": {
          "model_module": "@jupyter-widgets/output",
          "model_name": "OutputModel",
          "state": {
            "_view_name": "OutputView",
            "msg_id": "",
            "_dom_classes": [],
            "_model_name": "OutputModel",
            "outputs": [
              {
                "output_type": "display_data",
                "metadata": {
                  "tags": []
                },
                "application/vnd.jupyter.widget-view+json": {
                  "model_id": "1b94e4281d524c4e86a2daf80643d04d",
                  "version_minor": 0,
                  "version_major": 2
                },
                "text/plain": "HTMLMath(value='Consider the following set of vectors')"
              },
              {
                "output_type": "display_data",
                "metadata": {
                  "tags": []
                },
                "application/vnd.jupyter.widget-view+json": {
                  "model_id": "ef819a82218a47b58c0b26deb011c0be",
                  "version_minor": 0,
                  "version_major": 2
                },
                "text/plain": "HTMLMath(value='$$\\\\mathbb{a} = (0.5, 0.5)$$')"
              },
              {
                "output_type": "display_data",
                "metadata": {
                  "tags": []
                },
                "application/vnd.jupyter.widget-view+json": {
                  "model_id": "7250a860ebb445dd97169e7607d5aedc",
                  "version_minor": 0,
                  "version_major": 2
                },
                "text/plain": "HTMLMath(value='$$\\\\mathbb{b} = (0.4, 0.8)$$')"
              },
              {
                "output_type": "display_data",
                "metadata": {
                  "tags": []
                },
                "application/vnd.jupyter.widget-view+json": {
                  "model_id": "e50ed47d935f44c789f8913cacd104d6",
                  "version_minor": 0,
                  "version_major": 2
                },
                "text/plain": "HTMLMath(value='$$\\\\mathbb{c} = (0, 0.5)$$')"
              },
              {
                "output_type": "display_data",
                "metadata": {
                  "tags": []
                },
                "application/vnd.jupyter.widget-view+json": {
                  "model_id": "6291b5a1dae746bbbe4b11d4afb56631",
                  "version_minor": 0,
                  "version_major": 2
                },
                "text/plain": "HTMLMath(value='Which one is the closest to $\\\\mathbb{w} = (1, 0)$?')"
              }
            ],
            "_view_module": "@jupyter-widgets/output",
            "_model_module_version": "1.0.0",
            "_view_count": null,
            "_view_module_version": "1.0.0",
            "layout": "IPY_MODEL_c3571229099347ef8c224fa9d0a011aa",
            "_model_module": "@jupyter-widgets/output"
          }
        },
        "90e4fca6bf96455a834ef2ab564a8360": {
          "model_module": "@jupyter-widgets/controls",
          "model_name": "RadioButtonsModel",
          "state": {
            "_options_labels": [
              "a",
              "b",
              "c"
            ],
            "_view_name": "RadioButtonsView",
            "style": "IPY_MODEL_fce898c033d94826a7b5d1ae4d285d3b",
            "_dom_classes": [],
            "description": "",
            "_model_name": "RadioButtonsModel",
            "index": 0,
            "_view_module": "@jupyter-widgets/controls",
            "_model_module_version": "1.5.0",
            "_view_count": null,
            "disabled": false,
            "_view_module_version": "1.5.0",
            "description_tooltip": null,
            "_model_module": "@jupyter-widgets/controls",
            "layout": "IPY_MODEL_035ef841b5524738b283f8d547264be9"
          }
        },
        "6465bbda1314472c8ad2c6db4c163f64": {
          "model_module": "@jupyter-widgets/controls",
          "model_name": "HTMLModel",
          "state": {
            "_view_name": "HTMLView",
            "style": "IPY_MODEL_3db2b40dfced4a21aca03bfda5f3ed54",
            "_dom_classes": [],
            "description": "",
            "_model_name": "HTMLModel",
            "placeholder": "​",
            "_view_module": "@jupyter-widgets/controls",
            "_model_module_version": "1.5.0",
            "value": "<font color='green'>'a' is the correct answer</font>",
            "_view_count": null,
            "_view_module_version": "1.5.0",
            "description_tooltip": null,
            "_model_module": "@jupyter-widgets/controls",
            "layout": "IPY_MODEL_f0ecd08c6a424464b7795aa352d84d07"
          }
        },
        "91e5ae9ca6f946faa1d2016e5f00116d": {
          "model_module": "@jupyter-widgets/controls",
          "model_name": "ButtonModel",
          "state": {
            "_view_name": "ButtonView",
            "style": "IPY_MODEL_7622ee588a3a4af4af2e74c53317a59b",
            "_dom_classes": [],
            "description": "Check",
            "_model_name": "ButtonModel",
            "button_style": "",
            "_view_module": "@jupyter-widgets/controls",
            "_model_module_version": "1.5.0",
            "tooltip": "",
            "_view_count": null,
            "disabled": false,
            "_view_module_version": "1.5.0",
            "layout": "IPY_MODEL_5bc7f96e2a354a8ca08325fcc1d9c6bd",
            "_model_module": "@jupyter-widgets/controls",
            "icon": ""
          }
        },
        "fce898c033d94826a7b5d1ae4d285d3b": {
          "model_module": "@jupyter-widgets/controls",
          "model_name": "DescriptionStyleModel",
          "state": {
            "_view_name": "StyleView",
            "_model_name": "DescriptionStyleModel",
            "description_width": "",
            "_view_module": "@jupyter-widgets/base",
            "_model_module_version": "1.5.0",
            "_view_count": null,
            "_view_module_version": "1.2.0",
            "_model_module": "@jupyter-widgets/controls"
          }
        },
        "035ef841b5524738b283f8d547264be9": {
          "model_module": "@jupyter-widgets/base",
          "model_name": "LayoutModel",
          "state": {
            "_view_name": "LayoutView",
            "grid_template_rows": null,
            "right": null,
            "justify_content": null,
            "_view_module": "@jupyter-widgets/base",
            "overflow": null,
            "_model_module_version": "1.2.0",
            "_view_count": null,
            "flex_flow": null,
            "width": null,
            "min_width": null,
            "border": null,
            "align_items": null,
            "bottom": null,
            "_model_module": "@jupyter-widgets/base",
            "top": null,
            "grid_column": null,
            "overflow_y": null,
            "overflow_x": null,
            "grid_auto_flow": null,
            "grid_area": null,
            "grid_template_columns": null,
            "flex": null,
            "_model_name": "LayoutModel",
            "justify_items": null,
            "grid_row": null,
            "max_height": null,
            "align_content": null,
            "visibility": null,
            "align_self": null,
            "height": null,
            "min_height": null,
            "padding": null,
            "grid_auto_rows": null,
            "grid_gap": null,
            "max_width": null,
            "order": null,
            "_view_module_version": "1.2.0",
            "grid_template_areas": null,
            "object_position": null,
            "object_fit": null,
            "grid_auto_columns": null,
            "margin": null,
            "display": null,
            "left": null
          }
        },
        "3db2b40dfced4a21aca03bfda5f3ed54": {
          "model_module": "@jupyter-widgets/controls",
          "model_name": "DescriptionStyleModel",
          "state": {
            "_view_name": "StyleView",
            "_model_name": "DescriptionStyleModel",
            "description_width": "",
            "_view_module": "@jupyter-widgets/base",
            "_model_module_version": "1.5.0",
            "_view_count": null,
            "_view_module_version": "1.2.0",
            "_model_module": "@jupyter-widgets/controls"
          }
        },
        "f0ecd08c6a424464b7795aa352d84d07": {
          "model_module": "@jupyter-widgets/base",
          "model_name": "LayoutModel",
          "state": {
            "_view_name": "LayoutView",
            "grid_template_rows": null,
            "right": null,
            "justify_content": null,
            "_view_module": "@jupyter-widgets/base",
            "overflow": null,
            "_model_module_version": "1.2.0",
            "_view_count": null,
            "flex_flow": null,
            "width": null,
            "min_width": null,
            "border": null,
            "align_items": null,
            "bottom": null,
            "_model_module": "@jupyter-widgets/base",
            "top": null,
            "grid_column": null,
            "overflow_y": null,
            "overflow_x": null,
            "grid_auto_flow": null,
            "grid_area": null,
            "grid_template_columns": null,
            "flex": null,
            "_model_name": "LayoutModel",
            "justify_items": null,
            "grid_row": null,
            "max_height": null,
            "align_content": null,
            "visibility": null,
            "align_self": null,
            "height": null,
            "min_height": null,
            "padding": null,
            "grid_auto_rows": null,
            "grid_gap": null,
            "max_width": null,
            "order": null,
            "_view_module_version": "1.2.0",
            "grid_template_areas": null,
            "object_position": null,
            "object_fit": null,
            "grid_auto_columns": null,
            "margin": null,
            "display": null,
            "left": null
          }
        },
        "7622ee588a3a4af4af2e74c53317a59b": {
          "model_module": "@jupyter-widgets/controls",
          "model_name": "ButtonStyleModel",
          "state": {
            "_view_name": "StyleView",
            "_model_name": "ButtonStyleModel",
            "_view_module": "@jupyter-widgets/base",
            "_model_module_version": "1.5.0",
            "_view_count": null,
            "button_color": null,
            "font_weight": "",
            "_view_module_version": "1.2.0",
            "_model_module": "@jupyter-widgets/controls"
          }
        },
        "5bc7f96e2a354a8ca08325fcc1d9c6bd": {
          "model_module": "@jupyter-widgets/base",
          "model_name": "LayoutModel",
          "state": {
            "_view_name": "LayoutView",
            "grid_template_rows": null,
            "right": null,
            "justify_content": null,
            "_view_module": "@jupyter-widgets/base",
            "overflow": null,
            "_model_module_version": "1.2.0",
            "_view_count": null,
            "flex_flow": null,
            "width": null,
            "min_width": null,
            "border": null,
            "align_items": null,
            "bottom": null,
            "_model_module": "@jupyter-widgets/base",
            "top": null,
            "grid_column": null,
            "overflow_y": null,
            "overflow_x": null,
            "grid_auto_flow": null,
            "grid_area": null,
            "grid_template_columns": null,
            "flex": null,
            "_model_name": "LayoutModel",
            "justify_items": null,
            "grid_row": null,
            "max_height": null,
            "align_content": null,
            "visibility": null,
            "align_self": null,
            "height": null,
            "min_height": null,
            "padding": null,
            "grid_auto_rows": null,
            "grid_gap": null,
            "max_width": null,
            "order": null,
            "_view_module_version": "1.2.0",
            "grid_template_areas": null,
            "object_position": null,
            "object_fit": null,
            "grid_auto_columns": null,
            "margin": null,
            "display": null,
            "left": null
          }
        },
        "1b94e4281d524c4e86a2daf80643d04d": {
          "model_module": "@jupyter-widgets/controls",
          "model_name": "HTMLMathModel",
          "state": {
            "_view_name": "HTMLMathView",
            "style": "IPY_MODEL_4e0af45645a9415eb23f95b632281227",
            "_dom_classes": [],
            "description": "",
            "_model_name": "HTMLMathModel",
            "placeholder": "​",
            "_view_module": "@jupyter-widgets/controls",
            "_model_module_version": "1.5.0",
            "value": "Consider the following set of vectors",
            "_view_count": null,
            "_view_module_version": "1.5.0",
            "description_tooltip": null,
            "_model_module": "@jupyter-widgets/controls",
            "layout": "IPY_MODEL_42ace3f63754469c8b5d74175fcbd17f"
          }
        },
        "c3571229099347ef8c224fa9d0a011aa": {
          "model_module": "@jupyter-widgets/base",
          "model_name": "LayoutModel",
          "state": {
            "_view_name": "LayoutView",
            "grid_template_rows": null,
            "right": null,
            "justify_content": null,
            "_view_module": "@jupyter-widgets/base",
            "overflow": null,
            "_model_module_version": "1.2.0",
            "_view_count": null,
            "flex_flow": null,
            "width": null,
            "min_width": null,
            "border": null,
            "align_items": null,
            "bottom": null,
            "_model_module": "@jupyter-widgets/base",
            "top": null,
            "grid_column": null,
            "overflow_y": null,
            "overflow_x": null,
            "grid_auto_flow": null,
            "grid_area": null,
            "grid_template_columns": null,
            "flex": null,
            "_model_name": "LayoutModel",
            "justify_items": null,
            "grid_row": null,
            "max_height": null,
            "align_content": null,
            "visibility": null,
            "align_self": null,
            "height": null,
            "min_height": null,
            "padding": null,
            "grid_auto_rows": null,
            "grid_gap": null,
            "max_width": null,
            "order": null,
            "_view_module_version": "1.2.0",
            "grid_template_areas": null,
            "object_position": null,
            "object_fit": null,
            "grid_auto_columns": null,
            "margin": null,
            "display": null,
            "left": null
          }
        },
        "4e0af45645a9415eb23f95b632281227": {
          "model_module": "@jupyter-widgets/controls",
          "model_name": "DescriptionStyleModel",
          "state": {
            "_view_name": "StyleView",
            "_model_name": "DescriptionStyleModel",
            "description_width": "",
            "_view_module": "@jupyter-widgets/base",
            "_model_module_version": "1.5.0",
            "_view_count": null,
            "_view_module_version": "1.2.0",
            "_model_module": "@jupyter-widgets/controls"
          }
        },
        "42ace3f63754469c8b5d74175fcbd17f": {
          "model_module": "@jupyter-widgets/base",
          "model_name": "LayoutModel",
          "state": {
            "_view_name": "LayoutView",
            "grid_template_rows": null,
            "right": null,
            "justify_content": null,
            "_view_module": "@jupyter-widgets/base",
            "overflow": null,
            "_model_module_version": "1.2.0",
            "_view_count": null,
            "flex_flow": null,
            "width": null,
            "min_width": null,
            "border": null,
            "align_items": null,
            "bottom": null,
            "_model_module": "@jupyter-widgets/base",
            "top": null,
            "grid_column": null,
            "overflow_y": null,
            "overflow_x": null,
            "grid_auto_flow": null,
            "grid_area": null,
            "grid_template_columns": null,
            "flex": null,
            "_model_name": "LayoutModel",
            "justify_items": null,
            "grid_row": null,
            "max_height": null,
            "align_content": null,
            "visibility": null,
            "align_self": null,
            "height": null,
            "min_height": null,
            "padding": null,
            "grid_auto_rows": null,
            "grid_gap": null,
            "max_width": null,
            "order": null,
            "_view_module_version": "1.2.0",
            "grid_template_areas": null,
            "object_position": null,
            "object_fit": null,
            "grid_auto_columns": null,
            "margin": null,
            "display": null,
            "left": null
          }
        },
        "ef819a82218a47b58c0b26deb011c0be": {
          "model_module": "@jupyter-widgets/controls",
          "model_name": "HTMLMathModel",
          "state": {
            "_view_name": "HTMLMathView",
            "style": "IPY_MODEL_4dd3b95632a34a9890a17eb17aea7f21",
            "_dom_classes": [],
            "description": "",
            "_model_name": "HTMLMathModel",
            "placeholder": "​",
            "_view_module": "@jupyter-widgets/controls",
            "_model_module_version": "1.5.0",
            "value": "$$\\mathbb{a} = (0.5, 0.5)$$",
            "_view_count": null,
            "_view_module_version": "1.5.0",
            "description_tooltip": null,
            "_model_module": "@jupyter-widgets/controls",
            "layout": "IPY_MODEL_099dd6f3971a4b879a7adff3deab8df7"
          }
        },
        "4dd3b95632a34a9890a17eb17aea7f21": {
          "model_module": "@jupyter-widgets/controls",
          "model_name": "DescriptionStyleModel",
          "state": {
            "_view_name": "StyleView",
            "_model_name": "DescriptionStyleModel",
            "description_width": "",
            "_view_module": "@jupyter-widgets/base",
            "_model_module_version": "1.5.0",
            "_view_count": null,
            "_view_module_version": "1.2.0",
            "_model_module": "@jupyter-widgets/controls"
          }
        },
        "099dd6f3971a4b879a7adff3deab8df7": {
          "model_module": "@jupyter-widgets/base",
          "model_name": "LayoutModel",
          "state": {
            "_view_name": "LayoutView",
            "grid_template_rows": null,
            "right": null,
            "justify_content": null,
            "_view_module": "@jupyter-widgets/base",
            "overflow": null,
            "_model_module_version": "1.2.0",
            "_view_count": null,
            "flex_flow": null,
            "width": null,
            "min_width": null,
            "border": null,
            "align_items": null,
            "bottom": null,
            "_model_module": "@jupyter-widgets/base",
            "top": null,
            "grid_column": null,
            "overflow_y": null,
            "overflow_x": null,
            "grid_auto_flow": null,
            "grid_area": null,
            "grid_template_columns": null,
            "flex": null,
            "_model_name": "LayoutModel",
            "justify_items": null,
            "grid_row": null,
            "max_height": null,
            "align_content": null,
            "visibility": null,
            "align_self": null,
            "height": null,
            "min_height": null,
            "padding": null,
            "grid_auto_rows": null,
            "grid_gap": null,
            "max_width": null,
            "order": null,
            "_view_module_version": "1.2.0",
            "grid_template_areas": null,
            "object_position": null,
            "object_fit": null,
            "grid_auto_columns": null,
            "margin": null,
            "display": null,
            "left": null
          }
        },
        "7250a860ebb445dd97169e7607d5aedc": {
          "model_module": "@jupyter-widgets/controls",
          "model_name": "HTMLMathModel",
          "state": {
            "_view_name": "HTMLMathView",
            "style": "IPY_MODEL_0e4c8d79c0184dc1900db1445a3da3ca",
            "_dom_classes": [],
            "description": "",
            "_model_name": "HTMLMathModel",
            "placeholder": "​",
            "_view_module": "@jupyter-widgets/controls",
            "_model_module_version": "1.5.0",
            "value": "$$\\mathbb{b} = (0.4, 0.8)$$",
            "_view_count": null,
            "_view_module_version": "1.5.0",
            "description_tooltip": null,
            "_model_module": "@jupyter-widgets/controls",
            "layout": "IPY_MODEL_043aa82eb2fd48489efb6d2a30d8559b"
          }
        },
        "0e4c8d79c0184dc1900db1445a3da3ca": {
          "model_module": "@jupyter-widgets/controls",
          "model_name": "DescriptionStyleModel",
          "state": {
            "_view_name": "StyleView",
            "_model_name": "DescriptionStyleModel",
            "description_width": "",
            "_view_module": "@jupyter-widgets/base",
            "_model_module_version": "1.5.0",
            "_view_count": null,
            "_view_module_version": "1.2.0",
            "_model_module": "@jupyter-widgets/controls"
          }
        },
        "043aa82eb2fd48489efb6d2a30d8559b": {
          "model_module": "@jupyter-widgets/base",
          "model_name": "LayoutModel",
          "state": {
            "_view_name": "LayoutView",
            "grid_template_rows": null,
            "right": null,
            "justify_content": null,
            "_view_module": "@jupyter-widgets/base",
            "overflow": null,
            "_model_module_version": "1.2.0",
            "_view_count": null,
            "flex_flow": null,
            "width": null,
            "min_width": null,
            "border": null,
            "align_items": null,
            "bottom": null,
            "_model_module": "@jupyter-widgets/base",
            "top": null,
            "grid_column": null,
            "overflow_y": null,
            "overflow_x": null,
            "grid_auto_flow": null,
            "grid_area": null,
            "grid_template_columns": null,
            "flex": null,
            "_model_name": "LayoutModel",
            "justify_items": null,
            "grid_row": null,
            "max_height": null,
            "align_content": null,
            "visibility": null,
            "align_self": null,
            "height": null,
            "min_height": null,
            "padding": null,
            "grid_auto_rows": null,
            "grid_gap": null,
            "max_width": null,
            "order": null,
            "_view_module_version": "1.2.0",
            "grid_template_areas": null,
            "object_position": null,
            "object_fit": null,
            "grid_auto_columns": null,
            "margin": null,
            "display": null,
            "left": null
          }
        },
        "e50ed47d935f44c789f8913cacd104d6": {
          "model_module": "@jupyter-widgets/controls",
          "model_name": "HTMLMathModel",
          "state": {
            "_view_name": "HTMLMathView",
            "style": "IPY_MODEL_28553ba6e30342438e73a85b5abf02e3",
            "_dom_classes": [],
            "description": "",
            "_model_name": "HTMLMathModel",
            "placeholder": "​",
            "_view_module": "@jupyter-widgets/controls",
            "_model_module_version": "1.5.0",
            "value": "$$\\mathbb{c} = (0, 0.5)$$",
            "_view_count": null,
            "_view_module_version": "1.5.0",
            "description_tooltip": null,
            "_model_module": "@jupyter-widgets/controls",
            "layout": "IPY_MODEL_02c5ce83b0d34708ac9c9a97a6f2eb92"
          }
        },
        "28553ba6e30342438e73a85b5abf02e3": {
          "model_module": "@jupyter-widgets/controls",
          "model_name": "DescriptionStyleModel",
          "state": {
            "_view_name": "StyleView",
            "_model_name": "DescriptionStyleModel",
            "description_width": "",
            "_view_module": "@jupyter-widgets/base",
            "_model_module_version": "1.5.0",
            "_view_count": null,
            "_view_module_version": "1.2.0",
            "_model_module": "@jupyter-widgets/controls"
          }
        },
        "02c5ce83b0d34708ac9c9a97a6f2eb92": {
          "model_module": "@jupyter-widgets/base",
          "model_name": "LayoutModel",
          "state": {
            "_view_name": "LayoutView",
            "grid_template_rows": null,
            "right": null,
            "justify_content": null,
            "_view_module": "@jupyter-widgets/base",
            "overflow": null,
            "_model_module_version": "1.2.0",
            "_view_count": null,
            "flex_flow": null,
            "width": null,
            "min_width": null,
            "border": null,
            "align_items": null,
            "bottom": null,
            "_model_module": "@jupyter-widgets/base",
            "top": null,
            "grid_column": null,
            "overflow_y": null,
            "overflow_x": null,
            "grid_auto_flow": null,
            "grid_area": null,
            "grid_template_columns": null,
            "flex": null,
            "_model_name": "LayoutModel",
            "justify_items": null,
            "grid_row": null,
            "max_height": null,
            "align_content": null,
            "visibility": null,
            "align_self": null,
            "height": null,
            "min_height": null,
            "padding": null,
            "grid_auto_rows": null,
            "grid_gap": null,
            "max_width": null,
            "order": null,
            "_view_module_version": "1.2.0",
            "grid_template_areas": null,
            "object_position": null,
            "object_fit": null,
            "grid_auto_columns": null,
            "margin": null,
            "display": null,
            "left": null
          }
        },
        "6291b5a1dae746bbbe4b11d4afb56631": {
          "model_module": "@jupyter-widgets/controls",
          "model_name": "HTMLMathModel",
          "state": {
            "_view_name": "HTMLMathView",
            "style": "IPY_MODEL_b32732a5e42d42f2843323e5e47e7fe8",
            "_dom_classes": [],
            "description": "",
            "_model_name": "HTMLMathModel",
            "placeholder": "​",
            "_view_module": "@jupyter-widgets/controls",
            "_model_module_version": "1.5.0",
            "value": "Which one is the closest to $\\mathbb{w} = (1, 0)$?",
            "_view_count": null,
            "_view_module_version": "1.5.0",
            "description_tooltip": null,
            "_model_module": "@jupyter-widgets/controls",
            "layout": "IPY_MODEL_eb288454b8e349e2a99c9af10b5fee91"
          }
        },
        "b32732a5e42d42f2843323e5e47e7fe8": {
          "model_module": "@jupyter-widgets/controls",
          "model_name": "DescriptionStyleModel",
          "state": {
            "_view_name": "StyleView",
            "_model_name": "DescriptionStyleModel",
            "description_width": "",
            "_view_module": "@jupyter-widgets/base",
            "_model_module_version": "1.5.0",
            "_view_count": null,
            "_view_module_version": "1.2.0",
            "_model_module": "@jupyter-widgets/controls"
          }
        },
        "eb288454b8e349e2a99c9af10b5fee91": {
          "model_module": "@jupyter-widgets/base",
          "model_name": "LayoutModel",
          "state": {
            "_view_name": "LayoutView",
            "grid_template_rows": null,
            "right": null,
            "justify_content": null,
            "_view_module": "@jupyter-widgets/base",
            "overflow": null,
            "_model_module_version": "1.2.0",
            "_view_count": null,
            "flex_flow": null,
            "width": null,
            "min_width": null,
            "border": null,
            "align_items": null,
            "bottom": null,
            "_model_module": "@jupyter-widgets/base",
            "top": null,
            "grid_column": null,
            "overflow_y": null,
            "overflow_x": null,
            "grid_auto_flow": null,
            "grid_area": null,
            "grid_template_columns": null,
            "flex": null,
            "_model_name": "LayoutModel",
            "justify_items": null,
            "grid_row": null,
            "max_height": null,
            "align_content": null,
            "visibility": null,
            "align_self": null,
            "height": null,
            "min_height": null,
            "padding": null,
            "grid_auto_rows": null,
            "grid_gap": null,
            "max_width": null,
            "order": null,
            "_view_module_version": "1.2.0",
            "grid_template_areas": null,
            "object_position": null,
            "object_fit": null,
            "grid_auto_columns": null,
            "margin": null,
            "display": null,
            "left": null
          }
        },
        "44c125111ce54a76908903393e9e7653": {
          "model_module": "@jupyter-widgets/controls",
          "model_name": "VBoxModel",
          "state": {
            "_view_name": "VBoxView",
            "_dom_classes": [],
            "_model_name": "VBoxModel",
            "_view_module": "@jupyter-widgets/controls",
            "_model_module_version": "1.5.0",
            "_view_count": null,
            "_view_module_version": "1.5.0",
            "box_style": "",
            "layout": "IPY_MODEL_be29c172fcd24ccfba612409d07a1e31",
            "_model_module": "@jupyter-widgets/controls",
            "children": [
              "IPY_MODEL_7b1f8b185059444c8fe9229c6e4c9dcb",
              "IPY_MODEL_2a1dc8768d8d4ab4aa2df4a3fec8263c",
              "IPY_MODEL_82fa15d3c6a048e3a7a8e4bd1cdccdbf",
              "IPY_MODEL_6fc963778489460f96cefcd213facb39"
            ]
          }
        },
        "be29c172fcd24ccfba612409d07a1e31": {
          "model_module": "@jupyter-widgets/base",
          "model_name": "LayoutModel",
          "state": {
            "_view_name": "LayoutView",
            "grid_template_rows": null,
            "right": null,
            "justify_content": null,
            "_view_module": "@jupyter-widgets/base",
            "overflow": null,
            "_model_module_version": "1.2.0",
            "_view_count": null,
            "flex_flow": null,
            "width": null,
            "min_width": null,
            "border": null,
            "align_items": null,
            "bottom": null,
            "_model_module": "@jupyter-widgets/base",
            "top": null,
            "grid_column": null,
            "overflow_y": null,
            "overflow_x": null,
            "grid_auto_flow": null,
            "grid_area": null,
            "grid_template_columns": null,
            "flex": null,
            "_model_name": "LayoutModel",
            "justify_items": null,
            "grid_row": null,
            "max_height": null,
            "align_content": null,
            "visibility": null,
            "align_self": null,
            "height": null,
            "min_height": null,
            "padding": null,
            "grid_auto_rows": null,
            "grid_gap": null,
            "max_width": null,
            "order": null,
            "_view_module_version": "1.2.0",
            "grid_template_areas": null,
            "object_position": null,
            "object_fit": null,
            "grid_auto_columns": null,
            "margin": null,
            "display": null,
            "left": null
          }
        },
        "7b1f8b185059444c8fe9229c6e4c9dcb": {
          "model_module": "@jupyter-widgets/output",
          "model_name": "OutputModel",
          "state": {
            "_view_name": "OutputView",
            "msg_id": "",
            "_dom_classes": [],
            "_model_name": "OutputModel",
            "outputs": [
              {
                "output_type": "display_data",
                "metadata": {
                  "tags": []
                },
                "text/html": "\n            With the following code\n            <p style=\"font-family:'Lucida Console', monospace\">data = [\"one, two\", \"three, four\"]</p>\n            <p style=\"font-family:'Lucida Console', monospace\">vectorizer = TfidfVectorizer().fit(data)</p>\n            <p style=\"font-family:'Lucida Console', monospace\">X = vectorizer.transform(data)</p>\n            What is the shape of X?\n        ",
                "text/plain": "<IPython.core.display.HTML object>"
              }
            ],
            "_view_module": "@jupyter-widgets/output",
            "_model_module_version": "1.0.0",
            "_view_count": null,
            "_view_module_version": "1.0.0",
            "layout": "IPY_MODEL_5a5c6555167647deacfe4c55fd681dba",
            "_model_module": "@jupyter-widgets/output"
          }
        },
        "2a1dc8768d8d4ab4aa2df4a3fec8263c": {
          "model_module": "@jupyter-widgets/controls",
          "model_name": "RadioButtonsModel",
          "state": {
            "_options_labels": [
              "1 row, 4 columns",
              "2 rows, 2 columns",
              "2 rows, 4 columns",
              "4 rows, 2 columns",
              "4 rows, 1 column"
            ],
            "_view_name": "RadioButtonsView",
            "style": "IPY_MODEL_82af160ed4bf42a194ded0e42d44bbcd",
            "_dom_classes": [],
            "description": "",
            "_model_name": "RadioButtonsModel",
            "index": 2,
            "_view_module": "@jupyter-widgets/controls",
            "_model_module_version": "1.5.0",
            "_view_count": null,
            "disabled": false,
            "_view_module_version": "1.5.0",
            "description_tooltip": null,
            "_model_module": "@jupyter-widgets/controls",
            "layout": "IPY_MODEL_444cdfdeec9e42419711e68e6d83b038"
          }
        },
        "82fa15d3c6a048e3a7a8e4bd1cdccdbf": {
          "model_module": "@jupyter-widgets/controls",
          "model_name": "HTMLModel",
          "state": {
            "_view_name": "HTMLView",
            "style": "IPY_MODEL_270220cf0f2642b697898ea5d2d9ceb1",
            "_dom_classes": [],
            "description": "",
            "_model_name": "HTMLModel",
            "placeholder": "​",
            "_view_module": "@jupyter-widgets/controls",
            "_model_module_version": "1.5.0",
            "value": "<font color='green'>'2 rows, 4 columns' is the correct answer</font>",
            "_view_count": null,
            "_view_module_version": "1.5.0",
            "description_tooltip": null,
            "_model_module": "@jupyter-widgets/controls",
            "layout": "IPY_MODEL_f523145da4264133bfb39815dcc369f3"
          }
        },
        "6fc963778489460f96cefcd213facb39": {
          "model_module": "@jupyter-widgets/controls",
          "model_name": "ButtonModel",
          "state": {
            "_view_name": "ButtonView",
            "style": "IPY_MODEL_4571413c90b24819accee8da42056b9f",
            "_dom_classes": [],
            "description": "Check",
            "_model_name": "ButtonModel",
            "button_style": "",
            "_view_module": "@jupyter-widgets/controls",
            "_model_module_version": "1.5.0",
            "tooltip": "",
            "_view_count": null,
            "disabled": false,
            "_view_module_version": "1.5.0",
            "layout": "IPY_MODEL_c32760b4734a4236a872a8d5ef0b92a1",
            "_model_module": "@jupyter-widgets/controls",
            "icon": ""
          }
        },
        "82af160ed4bf42a194ded0e42d44bbcd": {
          "model_module": "@jupyter-widgets/controls",
          "model_name": "DescriptionStyleModel",
          "state": {
            "_view_name": "StyleView",
            "_model_name": "DescriptionStyleModel",
            "description_width": "",
            "_view_module": "@jupyter-widgets/base",
            "_model_module_version": "1.5.0",
            "_view_count": null,
            "_view_module_version": "1.2.0",
            "_model_module": "@jupyter-widgets/controls"
          }
        },
        "444cdfdeec9e42419711e68e6d83b038": {
          "model_module": "@jupyter-widgets/base",
          "model_name": "LayoutModel",
          "state": {
            "_view_name": "LayoutView",
            "grid_template_rows": null,
            "right": null,
            "justify_content": null,
            "_view_module": "@jupyter-widgets/base",
            "overflow": null,
            "_model_module_version": "1.2.0",
            "_view_count": null,
            "flex_flow": null,
            "width": null,
            "min_width": null,
            "border": null,
            "align_items": null,
            "bottom": null,
            "_model_module": "@jupyter-widgets/base",
            "top": null,
            "grid_column": null,
            "overflow_y": null,
            "overflow_x": null,
            "grid_auto_flow": null,
            "grid_area": null,
            "grid_template_columns": null,
            "flex": null,
            "_model_name": "LayoutModel",
            "justify_items": null,
            "grid_row": null,
            "max_height": null,
            "align_content": null,
            "visibility": null,
            "align_self": null,
            "height": null,
            "min_height": null,
            "padding": null,
            "grid_auto_rows": null,
            "grid_gap": null,
            "max_width": null,
            "order": null,
            "_view_module_version": "1.2.0",
            "grid_template_areas": null,
            "object_position": null,
            "object_fit": null,
            "grid_auto_columns": null,
            "margin": null,
            "display": null,
            "left": null
          }
        },
        "270220cf0f2642b697898ea5d2d9ceb1": {
          "model_module": "@jupyter-widgets/controls",
          "model_name": "DescriptionStyleModel",
          "state": {
            "_view_name": "StyleView",
            "_model_name": "DescriptionStyleModel",
            "description_width": "",
            "_view_module": "@jupyter-widgets/base",
            "_model_module_version": "1.5.0",
            "_view_count": null,
            "_view_module_version": "1.2.0",
            "_model_module": "@jupyter-widgets/controls"
          }
        },
        "f523145da4264133bfb39815dcc369f3": {
          "model_module": "@jupyter-widgets/base",
          "model_name": "LayoutModel",
          "state": {
            "_view_name": "LayoutView",
            "grid_template_rows": null,
            "right": null,
            "justify_content": null,
            "_view_module": "@jupyter-widgets/base",
            "overflow": null,
            "_model_module_version": "1.2.0",
            "_view_count": null,
            "flex_flow": null,
            "width": null,
            "min_width": null,
            "border": null,
            "align_items": null,
            "bottom": null,
            "_model_module": "@jupyter-widgets/base",
            "top": null,
            "grid_column": null,
            "overflow_y": null,
            "overflow_x": null,
            "grid_auto_flow": null,
            "grid_area": null,
            "grid_template_columns": null,
            "flex": null,
            "_model_name": "LayoutModel",
            "justify_items": null,
            "grid_row": null,
            "max_height": null,
            "align_content": null,
            "visibility": null,
            "align_self": null,
            "height": null,
            "min_height": null,
            "padding": null,
            "grid_auto_rows": null,
            "grid_gap": null,
            "max_width": null,
            "order": null,
            "_view_module_version": "1.2.0",
            "grid_template_areas": null,
            "object_position": null,
            "object_fit": null,
            "grid_auto_columns": null,
            "margin": null,
            "display": null,
            "left": null
          }
        },
        "4571413c90b24819accee8da42056b9f": {
          "model_module": "@jupyter-widgets/controls",
          "model_name": "ButtonStyleModel",
          "state": {
            "_view_name": "StyleView",
            "_model_name": "ButtonStyleModel",
            "_view_module": "@jupyter-widgets/base",
            "_model_module_version": "1.5.0",
            "_view_count": null,
            "button_color": null,
            "font_weight": "",
            "_view_module_version": "1.2.0",
            "_model_module": "@jupyter-widgets/controls"
          }
        },
        "c32760b4734a4236a872a8d5ef0b92a1": {
          "model_module": "@jupyter-widgets/base",
          "model_name": "LayoutModel",
          "state": {
            "_view_name": "LayoutView",
            "grid_template_rows": null,
            "right": null,
            "justify_content": null,
            "_view_module": "@jupyter-widgets/base",
            "overflow": null,
            "_model_module_version": "1.2.0",
            "_view_count": null,
            "flex_flow": null,
            "width": null,
            "min_width": null,
            "border": null,
            "align_items": null,
            "bottom": null,
            "_model_module": "@jupyter-widgets/base",
            "top": null,
            "grid_column": null,
            "overflow_y": null,
            "overflow_x": null,
            "grid_auto_flow": null,
            "grid_area": null,
            "grid_template_columns": null,
            "flex": null,
            "_model_name": "LayoutModel",
            "justify_items": null,
            "grid_row": null,
            "max_height": null,
            "align_content": null,
            "visibility": null,
            "align_self": null,
            "height": null,
            "min_height": null,
            "padding": null,
            "grid_auto_rows": null,
            "grid_gap": null,
            "max_width": null,
            "order": null,
            "_view_module_version": "1.2.0",
            "grid_template_areas": null,
            "object_position": null,
            "object_fit": null,
            "grid_auto_columns": null,
            "margin": null,
            "display": null,
            "left": null
          }
        },
        "5a5c6555167647deacfe4c55fd681dba": {
          "model_module": "@jupyter-widgets/base",
          "model_name": "LayoutModel",
          "state": {
            "_view_name": "LayoutView",
            "grid_template_rows": null,
            "right": null,
            "justify_content": null,
            "_view_module": "@jupyter-widgets/base",
            "overflow": null,
            "_model_module_version": "1.2.0",
            "_view_count": null,
            "flex_flow": null,
            "width": null,
            "min_width": null,
            "border": null,
            "align_items": null,
            "bottom": null,
            "_model_module": "@jupyter-widgets/base",
            "top": null,
            "grid_column": null,
            "overflow_y": null,
            "overflow_x": null,
            "grid_auto_flow": null,
            "grid_area": null,
            "grid_template_columns": null,
            "flex": null,
            "_model_name": "LayoutModel",
            "justify_items": null,
            "grid_row": null,
            "max_height": null,
            "align_content": null,
            "visibility": null,
            "align_self": null,
            "height": null,
            "min_height": null,
            "padding": null,
            "grid_auto_rows": null,
            "grid_gap": null,
            "max_width": null,
            "order": null,
            "_view_module_version": "1.2.0",
            "grid_template_areas": null,
            "object_position": null,
            "object_fit": null,
            "grid_auto_columns": null,
            "margin": null,
            "display": null,
            "left": null
          }
        }
      }
    }
  },
  "cells": [
    {
      "cell_type": "code",
      "metadata": {
        "id": "iP2N3UpjarIA",
        "colab_type": "code",
        "outputId": "d6a9e782-8d67-4bd0-845c-0fb2e12303aa",
        "cellView": "both",
        "colab": {
          "base_uri": "https://localhost:8080/",
          "height": 136
        }
      },
      "source": [
        "#@title <b><font color=\"red\">▶</font><font color=\"black\"> run this cell to prepare supplementary materials for the lesson</font></b>\n",
        "\n",
        "!rm -rf harbour-space-text-mining-course\n",
        "!git clone https://github.com/horoshenkih/harbour-space-text-mining-course.git\n",
        "import sys\n",
        "sys.path.append('harbour-space-text-mining-course')\n",
        "\n",
        "from tmcourse.utils import (\n",
        "    calendar_table,\n",
        "    visualize_term_counter,\n",
        "    enable_mathjax_in_cell,\n",
        ")\n",
        "from tmcourse.ipyquiz import Quiz, Function\n",
        "from tmcourse.quiz import (\n",
        "    quiz_count_tokens,\n",
        "    quiz_count_lemmas,\n",
        "    quiz_ner,\n",
        "    quiz_tfidf,\n",
        "    quiz_vectorizer_shape,\n",
        "    quiz_vector_distance,\n",
        ")\n",
        "\n",
        "from collections import Counter\n",
        "from math import exp\n",
        "from tabulate import tabulate\n",
        "from tqdm.notebook import tqdm\n",
        "from IPython.display import HTML, display"
      ],
      "execution_count": 0,
      "outputs": [
        {
          "output_type": "stream",
          "text": [
            "Cloning into 'harbour-space-text-mining-course'...\n",
            "remote: Enumerating objects: 117, done.\u001b[K\n",
            "remote: Counting objects:   0% (1/117)\u001b[K\rremote: Counting objects:   1% (2/117)\u001b[K\rremote: Counting objects:   2% (3/117)\u001b[K\rremote: Counting objects:   3% (4/117)\u001b[K\rremote: Counting objects:   4% (5/117)\u001b[K\rremote: Counting objects:   5% (6/117)\u001b[K\rremote: Counting objects:   6% (8/117)\u001b[K\rremote: Counting objects:   7% (9/117)\u001b[K\rremote: Counting objects:   8% (10/117)\u001b[K\rremote: Counting objects:   9% (11/117)\u001b[K\rremote: Counting objects:  10% (12/117)\u001b[K\rremote: Counting objects:  11% (13/117)\u001b[K\rremote: Counting objects:  12% (15/117)\u001b[K\rremote: Counting objects:  13% (16/117)\u001b[K\rremote: Counting objects:  14% (17/117)\u001b[K\rremote: Counting objects:  15% (18/117)\u001b[K\rremote: Counting objects:  16% (19/117)\u001b[K\rremote: Counting objects:  17% (20/117)\u001b[K\rremote: Counting objects:  18% (22/117)\u001b[K\rremote: Counting objects:  19% (23/117)\u001b[K\rremote: Counting objects:  20% (24/117)\u001b[K\rremote: Counting objects:  21% (25/117)\u001b[K\rremote: Counting objects:  22% (26/117)\u001b[K\rremote: Counting objects:  23% (27/117)\u001b[K\rremote: Counting objects:  24% (29/117)\u001b[K\rremote: Counting objects:  25% (30/117)\u001b[K\rremote: Counting objects:  26% (31/117)\u001b[K\rremote: Counting objects:  27% (32/117)\u001b[K\rremote: Counting objects:  28% (33/117)\u001b[K\rremote: Counting objects:  29% (34/117)\u001b[K\rremote: Counting objects:  30% (36/117)\u001b[K\rremote: Counting objects:  31% (37/117)\u001b[K\rremote: Counting objects:  32% (38/117)\u001b[K\rremote: Counting objects:  33% (39/117)\u001b[K\rremote: Counting objects:  34% (40/117)\u001b[K\rremote: Counting objects:  35% (41/117)\u001b[K\rremote: Counting objects:  36% (43/117)\u001b[K\rremote: Counting objects:  37% (44/117)\u001b[K\rremote: Counting objects:  38% (45/117)\u001b[K\rremote: Counting objects:  39% (46/117)\u001b[K\rremote: Counting objects:  40% (47/117)\u001b[K\rremote: Counting objects:  41% (48/117)\u001b[K\rremote: Counting objects:  42% (50/117)\u001b[K\rremote: Counting objects:  43% (51/117)\u001b[K\rremote: Counting objects:  44% (52/117)\u001b[K\rremote: Counting objects:  45% (53/117)\u001b[K\rremote: Counting objects:  46% (54/117)\u001b[K\rremote: Counting objects:  47% (55/117)\u001b[K\rremote: Counting objects:  48% (57/117)\u001b[K\rremote: Counting objects:  49% (58/117)\u001b[K\rremote: Counting objects:  50% (59/117)\u001b[K\rremote: Counting objects:  51% (60/117)\u001b[K\rremote: Counting objects:  52% (61/117)\u001b[K\rremote: Counting objects:  53% (63/117)\u001b[K\rremote: Counting objects:  54% (64/117)\u001b[K\rremote: Counting objects:  55% (65/117)\u001b[K\rremote: Counting objects:  56% (66/117)\u001b[K\rremote: Counting objects:  57% (67/117)\u001b[K\rremote: Counting objects:  58% (68/117)\u001b[K\rremote: Counting objects:  59% (70/117)\u001b[K\rremote: Counting objects:  60% (71/117)\u001b[K\rremote: Counting objects:  61% (72/117)\u001b[K\rremote: Counting objects:  62% (73/117)\u001b[K\rremote: Counting objects:  63% (74/117)\u001b[K\rremote: Counting objects:  64% (75/117)\u001b[K\rremote: Counting objects:  65% (77/117)\u001b[K\rremote: Counting objects:  66% (78/117)\u001b[K\rremote: Counting objects:  67% (79/117)\u001b[K\rremote: Counting objects:  68% (80/117)\u001b[K\rremote: Counting objects:  69% (81/117)\u001b[K\rremote: Counting objects:  70% (82/117)\u001b[K\rremote: Counting objects:  71% (84/117)\u001b[K\rremote: Counting objects:  72% (85/117)\u001b[K\rremote: Counting objects:  73% (86/117)\u001b[K\rremote: Counting objects:  74% (87/117)\u001b[K\rremote: Counting objects:  75% (88/117)\u001b[K\rremote: Counting objects:  76% (89/117)\u001b[K\rremote: Counting objects:  77% (91/117)\u001b[K\rremote: Counting objects:  78% (92/117)\u001b[K\rremote: Counting objects:  79% (93/117)\u001b[K\rremote: Counting objects:  80% (94/117)\u001b[K\rremote: Counting objects:  81% (95/117)\u001b[K\rremote: Counting objects:  82% (96/117)\u001b[K\rremote: Counting objects:  83% (98/117)\u001b[K\rremote: Counting objects:  84% (99/117)\u001b[K\rremote: Counting objects:  85% (100/117)\u001b[K\rremote: Counting objects:  86% (101/117)\u001b[K\rremote: Counting objects:  87% (102/117)\u001b[K\rremote: Counting objects:  88% (103/117)\u001b[K\rremote: Counting objects:  89% (105/117)\u001b[K\rremote: Counting objects:  90% (106/117)\u001b[K\rremote: Counting objects:  91% (107/117)\u001b[K\rremote: Counting objects:  92% (108/117)\u001b[K\rremote: Counting objects:  93% (109/117)\u001b[K\rremote: Counting objects:  94% (110/117)\u001b[K\rremote: Counting objects:  95% (112/117)\u001b[K\rremote: Counting objects:  96% (113/117)\u001b[K\rremote: Counting objects:  97% (114/117)\u001b[K\rremote: Counting objects:  98% (115/117)\u001b[K\rremote: Counting objects:  99% (116/117)\u001b[K\rremote: Counting objects: 100% (117/117)\u001b[K\rremote: Counting objects: 100% (117/117), done.\u001b[K\n",
            "remote: Compressing objects: 100% (73/73), done.\u001b[K\n",
            "remote: Total 424 (delta 83), reused 77 (delta 44), pack-reused 307\u001b[K\n",
            "Receiving objects: 100% (424/424), 40.03 MiB | 20.86 MiB/s, done.\n",
            "Resolving deltas: 100% (266/266), done.\n"
          ],
          "name": "stdout"
        }
      ]
    },
    {
      "cell_type": "markdown",
      "metadata": {
        "id": "FWxF9IYN0zuo",
        "colab_type": "text"
      },
      "source": [
        "<!--@slideshow slide-->\n",
        "<h1><center>Introduction. Tools for text analysis. TF-IDF.</center></h1>"
      ]
    },
    {
      "cell_type": "markdown",
      "metadata": {
        "id": "xN91a7cUOn9_",
        "colab_type": "text"
      },
      "source": [
        "# Overview of the course"
      ]
    },
    {
      "cell_type": "markdown",
      "metadata": {
        "id": "mzTXwCh91G_a",
        "colab_type": "text"
      },
      "source": [
        "<!--@slideshow slide-->\n",
        "## The team\n",
        "\n",
        "### Your teacher\n",
        "- Sergey Khoroshenkikh\n",
        "- Senior software engineer at [Yandex](https://yandex.com/company/)\n",
        "- ~6 years of experience in data analysis and engineering\n",
        "- Taught Machine Learning at Harbour.Space in 2019: [DS210](https://in.harbour.space/data-science/machine-learning-sergey-khoroshenkikh/)\n",
        "- <img src=\"https://www.freepnglogos.com/uploads/logo-gmail-png/logo-gmail-png-image-gmail-logo-gta-wiki-the-grand-theft-auto-4.png\" alt=\"email\" width=\"15\"> horoshenkih91@gmail.com, <img src=\"https://upload.wikimedia.org/wikipedia/commons/8/82/Telegram_logo.svg\" alt=\"tg\" width=\"15\"> @khoroshenkikh\n",
        "\n",
        "### Teaching assistant\n",
        "- Catalina Sagan\n",
        "- <img src=\"https://www.freepnglogos.com/uploads/logo-gmail-png/logo-gmail-png-image-gmail-logo-gta-wiki-the-grand-theft-auto-4.png\" alt=\"email\" width=\"15\"> csagan.cs@gmail.com"
      ]
    },
    {
      "cell_type": "markdown",
      "metadata": {
        "id": "pWlyLdMA3kSc",
        "colab_type": "text"
      },
      "source": [
        "<!--@slideshow slide-->\n",
        "## Learning objectives\n",
        "1. Learn the main concepts\n",
        "  - TF-IDF, language models, classification, topic modeling, distributional semantics, neural networks, ...\n",
        "2. Understand the algorithms\n",
        "  - n-gram language models, linear classifiers, LDA, word2vec, backpropagation, RNN, LSTM, ...\n",
        "3. Practice the tools **on real datasets**\n",
        "  - spaCy, sklearn, gensim, fasttext, pytorch, ..."
      ]
    },
    {
      "cell_type": "markdown",
      "metadata": {
        "id": "2V_ZbTe-4_Af",
        "colab_type": "text"
      },
      "source": [
        "<!--@slideshow slide-->\n",
        "\n",
        "## Core ideas of the course\n",
        "1. Remote-first\n",
        "  - Chunked content\n",
        "  - Ungraded quizzes during the lecture\n",
        "  - Coding sessions in Zoom breakout rooms\n",
        "2. Hands-on\n",
        "  - Coding sessions\n",
        "  - Final projects\n",
        "3. Code-first\n",
        "  - The most important content is written in Python code (slides are somewhat optional)\n",
        "  - Math is supported by code\n"
      ]
    },
    {
      "cell_type": "markdown",
      "metadata": {
        "id": "sEXHTd8H6ifp",
        "colab_type": "text"
      },
      "source": [
        "<!--@slideshow slide-->\n",
        "## Grading policy\n",
        "- 30 points: graded quiz assignments in Google Classroom (**class code: wo7vv5r**)\n",
        "- 70+ points: final project\n",
        "  - Apply learned Text Mining techniques on real dataset\n",
        "  - Report your results at the end of the course\n",
        "  - **Receive additional points for making a small MVP**\n",
        "- There are many ways to get 100 points\n",
        "  - Apply more Text Mining techniques\n",
        "  - Create an MVP\n",
        "\n",
        "See more details in our Google Classroom."
      ]
    },
    {
      "cell_type": "markdown",
      "metadata": {
        "id": "ykqKOTyW8T_i",
        "colab_type": "text"
      },
      "source": [
        "<!--@slideshow slide-->\n",
        "## Technical details\n",
        "- The course is taught in Google Colab\n",
        "- Colab notebooks are the primary source of information\n",
        "- ⬅️ Table of contents is on the left\n",
        "- All the slides are created from Colab notebooks\n",
        "- Ungraded quizzes in Colab notebooks:\n",
        "  - Always run the first cell in the notebook to make it work\n",
        "  - I implemented the Python library for quizzes on my own, so bugs are possible\n",
        "- You can copy Colab notebooks and run your copy\n",
        "- You can modify your copy\n",
        "  - Notes: `> ...`\n",
        "  > The example of a note\n",
        "  - $\\LaTeX$ equations: `$...$` or `$$...$$`\n",
        "  $$E=mc^2$$\n",
        "- A short overview of Colab features: [link](https://colab.research.google.com/notebooks/basic_features_overview.ipynb)"
      ]
    },
    {
      "cell_type": "markdown",
      "metadata": {
        "id": "fs8yQaCpAh7J",
        "colab_type": "text"
      },
      "source": [
        "<!--@slideshow slide-->\n",
        "## Remote learning details\n",
        "- You are muted by default. To ask a question\n",
        "  - Press the \"raise hand\" button in Zoom\n",
        "  - Or write your question to the Zoom chat\n",
        "- Ungraded quizzes\n",
        "  - After you've finished the quiz, press the **\"raise hand\"**\n",
        "  - If you have a question, write it to the Zoom chat\n",
        "- Coding sessions\n",
        "  - You work in individual breakout rooms\n",
        "  - Turn on screen sharing\n",
        "  - To ask a question, press the \"raise hand\" button"
      ]
    },
    {
      "cell_type": "markdown",
      "metadata": {
        "id": "inH2xM37Jl4_",
        "colab_type": "text"
      },
      "source": [
        "<!--slideshow slide-->\n",
        "# Plan for today\n",
        "1. Look at the collection of Donald Trump's tweets\n",
        "2. Get familiar with `spacy`: Python library for text analysis\n",
        "3. Learn about tokenization, lemmatization and NLP pipeline in general\n",
        "4. Coding session 1: work with `spacy`\n",
        "5. Learn about TF-IDF\n",
        "6. \"Word of a day\": find specific words in tweets\n",
        "7. Learn how co compute TF-IDF in `sklearn`\n",
        "8. Find similar texts using TF-IDF \n",
        "9. Coding session 2: work with `sklearn`"
      ]
    },
    {
      "cell_type": "markdown",
      "metadata": {
        "id": "TK92FbFeIpKD",
        "colab_type": "text"
      },
      "source": [
        "<!--@slideshow slide-->\n",
        "# Dataset: TrumpTwitterArchive.com\n",
        "\n",
        "In this lesson, we will study [Trump's tweets](http://trumptwitterarchive.com/archive) stored in a JSON file in [the course repo on GitHub](https://github.com/horoshenkih/harbour-space-text-mining-course).\n",
        "\n",
        "> You can also store the data for your final projects on GitHub\n"
      ]
    },
    {
      "cell_type": "code",
      "metadata": {
        "id": "vanZAFmHbEZM",
        "colab_type": "code",
        "colab": {}
      },
      "source": [
        "#@slideshow fragment\n",
        "# NB! Run the first cell of the notebook to checkout the repo\n",
        "import json\n",
        "with open(\"harbour-space-text-mining-course/datasets/trump_twitter_archive/tweets.json\") as f:\n",
        "    tweets = json.load(f)"
      ],
      "execution_count": 0,
      "outputs": []
    },
    {
      "cell_type": "markdown",
      "metadata": {
        "id": "yKxmZEdJdVXu",
        "colab_type": "text"
      },
      "source": [
        "<!--@slideshow slide-->\n",
        "Tweets are stored in a list of dictionaries"
      ]
    },
    {
      "cell_type": "code",
      "metadata": {
        "id": "1YnvLToJbcCo",
        "colab_type": "code",
        "outputId": "bfe4b995-621f-4bfd-b88f-95271fedd56f",
        "colab": {
          "base_uri": "https://localhost:8080/",
          "height": 241
        }
      },
      "source": [
        "#@slideshow fragment\n",
        "from pprint import pprint\n",
        "print(f\"type: {type(tweets)}\")\n",
        "pprint(tweets[0])\n",
        "print(f\"Text: {tweets[0]['text']}\")\n",
        "print(f\"Created at: '{tweets[0]['created_at']}'\")"
      ],
      "execution_count": 0,
      "outputs": [
        {
          "output_type": "stream",
          "text": [
            "type: <class 'list'>\n",
            "{'created_at': 'Fri May 08 23:01:21 +0000 2020',\n",
            " 'favorite_count': 0,\n",
            " 'id_str': '1258894788893577216',\n",
            " 'is_retweet': True,\n",
            " 'retweet_count': 9442,\n",
            " 'source': 'Twitter for iPhone',\n",
            " 'text': 'RT @FLOTUS: In honor of #VEDay75, @POTUS and I joined some of our '\n",
            "         'nations heros at the World War II Memorial to lay a wreath in '\n",
            "         'commemorati…'}\n",
            "Text: RT @FLOTUS: In honor of #VEDay75, @POTUS and I joined some of our nations heros at the World War II Memorial to lay a wreath in commemorati…\n",
            "Created at: 'Fri May 08 23:01:21 +0000 2020'\n"
          ],
          "name": "stdout"
        }
      ]
    },
    {
      "cell_type": "markdown",
      "metadata": {
        "id": "l7NGqIYEH8Zm",
        "colab_type": "text"
      },
      "source": [
        "<!--@slideshow slide-->\n",
        "## Preliminary analysis\n",
        "Let's look at the meaningful characteristics of the dataset"
      ]
    },
    {
      "cell_type": "code",
      "metadata": {
        "id": "1LLx07I4IZGF",
        "colab_type": "code",
        "outputId": "4a6f5376-65da-4b08-8fec-cd5fbbdf8141",
        "colab": {
          "base_uri": "https://localhost:8080/",
          "height": 425
        }
      },
      "source": [
        "#@slideshow slide\n",
        "print(f\"Number of tweets: {len(tweets)}\")\n",
        "# compute the number of unique characters\n",
        "char_set = set()\n",
        "for t in tweets:\n",
        "    char_set.update(list(t['text']))\n",
        "print(f\"Number of unique characters: {len(char_set)}\")\n",
        "# compute the distribution of text sizes\n",
        "tweet_len_characters = [len(t['text']) for t in tweets]\n",
        "avg_text_len = sum(tweet_len_characters) / len(tweet_len_characters)\n",
        "print(f\"Average tweet length: {avg_text_len}\")\n",
        "import matplotlib.pyplot as plt\n",
        "# print the distribution of tweet sizes\n",
        "plt.figure(figsize=(10, 6))\n",
        "plt.hist(tweet_len_characters, bins=100)\n",
        "plt.show()"
      ],
      "execution_count": 0,
      "outputs": [
        {
          "output_type": "stream",
          "text": [
            "Number of tweets: 48040\n",
            "Number of unique characters: 752\n",
            "Average tweet length: 126.36738134887594\n"
          ],
          "name": "stdout"
        },
        {
          "output_type": "display_data",
          "data": {
            "image/png": "[encoded data removed]",
            "text/plain": [
              "<Figure size 720x432 with 1 Axes>"
            ]
          },
          "metadata": {
            "tags": [],
            "needs_background": "light"
          }
        }
      ]
    },
    {
      "cell_type": "markdown",
      "metadata": {
        "id": "2KYCWi4UnEQs",
        "colab_type": "text"
      },
      "source": [
        "<!--@slideshow slide-->\n",
        "# Tokenization\n",
        "\n",
        "How do we read texts?\n",
        "\n",
        "- Technically speaking, a text is a sequence of *characters*.\n",
        "- But we don't read texts character-by-character.\n",
        "- We perceive the text as the sequence of words, phrases, punctuation and other *meaningful* pieces.\n"
      ]
    },
    {
      "cell_type": "markdown",
      "metadata": {
        "id": "RC3JZHuCL1wk",
        "colab_type": "text"
      },
      "source": [
        "<!--@slideshow fragment-->\n",
        "**Definition**: *token* is a meaningful substring (for example, a word or a punctuation sign).\n",
        "\n",
        "The exact definition depends on your application!\n",
        "- You may need to keep emojis for *sentiment analysis* and ignore them for *topic modeling*.\n",
        "- You may remove punctuation for *text classification* and keep it for *language modeling*.\n",
        "\n",
        "For example, the substring `\":-)\"` may be a single token, three tokens or it may be ignored (0 tokens).\n"
      ]
    },
    {
      "cell_type": "markdown",
      "metadata": {
        "id": "lFaUUvxGL8Hm",
        "colab_type": "text"
      },
      "source": [
        "<!--@slideshow slide-->\n",
        "The easiest to tokenize the text is to split it by whitespace\n",
        "\n",
        "> This is what the method `.split()` does.\n"
      ]
    },
    {
      "cell_type": "code",
      "metadata": {
        "id": "iojAS9fKnsQI",
        "colab_type": "code",
        "outputId": "6cc59bea-4e3a-413d-b635-b5cb98d01d7e",
        "colab": {
          "base_uri": "https://localhost:8080/",
          "height": 136
        }
      },
      "source": [
        "#@slideshow fragment\n",
        "text = tweets[222][\"text\"]\n",
        "print(\"Text:\")\n",
        "pprint(text)\n",
        "print(\"Tokens:\")\n",
        "pprint(text.split(), compact=True)"
      ],
      "execution_count": 0,
      "outputs": [
        {
          "output_type": "stream",
          "text": [
            "Text:\n",
            "(\"RT @mitchellvii: DEMOCRATS DIDN'T EXPECT THIS - Washington Post Poll: \"\n",
            " 'Hispanics Are the Strongest Opponents of Immigration https://t.co/jqu…')\n",
            "Tokens:\n",
            "['RT', '@mitchellvii:', 'DEMOCRATS', \"DIDN'T\", 'EXPECT', 'THIS', '-',\n",
            " 'Washington', 'Post', 'Poll:', 'Hispanics', 'Are', 'the', 'Strongest',\n",
            " 'Opponents', 'of', 'Immigration', 'https://t.co/jqu…']\n"
          ],
          "name": "stdout"
        }
      ]
    },
    {
      "cell_type": "markdown",
      "metadata": {
        "id": "OFXR8Es6BM6D",
        "colab_type": "text"
      },
      "source": [
        "<!--@slideshow slide-->\n",
        "We see that dealing with punctuation is tricky.\n",
        "> We need `['Poll', ':']` instead of `'Poll:'`\n",
        "\n",
        "But we cannot split by punctuation.\n",
        "\n",
        "> We don't need to split `\"DIDN'T\"` into `['DIDN', 'T']`"
      ]
    },
    {
      "cell_type": "markdown",
      "metadata": {
        "id": "cj8ik1vDEXHM",
        "colab_type": "text"
      },
      "source": [
        "<!--@slideshow slide-->\n",
        "## spaCy\n",
        "\n",
        "It's time to get familiar with `spaCy` - a Python library for Natural Language Processing (NLP)."
      ]
    },
    {
      "cell_type": "code",
      "metadata": {
        "id": "qMt9yyqWuHPR",
        "colab_type": "code",
        "colab": {}
      },
      "source": [
        "from pprint import pprint"
      ],
      "execution_count": 0,
      "outputs": []
    },
    {
      "cell_type": "code",
      "metadata": {
        "id": "kDduMDHz9R8M",
        "colab_type": "code",
        "outputId": "6256323e-11ae-42b9-dd2a-7728b3d74a41",
        "colab": {
          "base_uri": "https://localhost:8080/",
          "height": 173
        }
      },
      "source": [
        "#@slideshow slide\n",
        "# text to be tokenized\n",
        "print(\"Text:\")\n",
        "pprint(tweets[222][\"text\"])\n",
        "\n",
        "from spacy.lang.en import English\n",
        "\n",
        "# create text analyzer that includes rules of tokenization\n",
        "# rules are language-specific, so we load the rules for English\n",
        "nlp = English()\n",
        "\n",
        "# spaCy has functional API: you just call nlp(text)\n",
        "analyzed_text = nlp(tweets[222][\"text\"])\n",
        "\n",
        "# the resulting object (`analyzed_text`) is iterable, and tokens can be extracted by iteration\n",
        "print(\"Tokens:\")\n",
        "pprint([token.text for token in analyzed_text], compact=True)\n",
        "print([token.text for token in analyzed_text])"
      ],
      "execution_count": 0,
      "outputs": [
        {
          "output_type": "stream",
          "text": [
            "Text:\n",
            "(\"RT @mitchellvii: DEMOCRATS DIDN'T EXPECT THIS - Washington Post Poll: \"\n",
            " 'Hispanics Are the Strongest Opponents of Immigration https://t.co/jqu…')\n",
            "Tokens:\n",
            "['RT', '@mitchellvii', ':', 'DEMOCRATS', \"DIDN'T\", 'EXPECT', 'THIS', '-',\n",
            " 'Washington', 'Post', 'Poll', ':', 'Hispanics', 'Are', 'the', 'Strongest',\n",
            " 'Opponents', 'of', 'Immigration', 'https://t.co/jqu', '…']\n",
            "['RT', '@mitchellvii', ':', 'DEMOCRATS', \"DIDN'T\", 'EXPECT', 'THIS', '-', 'Washington', 'Post', 'Poll', ':', 'Hispanics', 'Are', 'the', 'Strongest', 'Opponents', 'of', 'Immigration', 'https://t.co/jqu', '…']\n"
          ],
          "name": "stdout"
        }
      ]
    },
    {
      "cell_type": "markdown",
      "metadata": {
        "id": "-_0QwNxDfb7o",
        "colab_type": "text"
      },
      "source": [
        "<!--@slideshow slide-->\n",
        "Let's find the most frequent tokens"
      ]
    },
    {
      "cell_type": "code",
      "metadata": {
        "id": "cXaF1roFfoRy",
        "colab_type": "code",
        "outputId": "0d5b6c35-4dae-43f2-ed42-581a727f7eb7",
        "colab": {
          "base_uri": "https://localhost:8080/",
          "height": 85
        }
      },
      "source": [
        "#@slideshow fragment\n",
        "from spacy.lang.en import English\n",
        "\n",
        "nlp = English()\n",
        "token_counter = Counter()\n",
        "\n",
        "for tweet in tweets[:10000]:\n",
        "    doc = nlp(tweet[\"text\"])\n",
        "    for token in doc:\n",
        "        token_counter[token.text] += 1\n",
        "pprint(token_counter.most_common()[:20], compact=True)"
      ],
      "execution_count": 0,
      "outputs": [
        {
          "output_type": "stream",
          "text": [
            "[(',', 10662), ('the', 9999), ('.', 8825), ('to', 5888), (':', 5752),\n",
            " ('!', 5201), ('and', 4809), ('RT', 4677), ('of', 4295), ('a', 3639),\n",
            " ('…', 3521), ('is', 3285), ('in', 3080), ('for', 2464), ('that', 1954),\n",
            " ('I', 1917), ('on', 1822), ('are', 1740), ('The', 1689), ('with', 1560)]\n"
          ],
          "name": "stdout"
        }
      ]
    },
    {
      "cell_type": "markdown",
      "metadata": {
        "id": "HJmJL71yht-W",
        "colab_type": "text"
      },
      "source": [
        "<!--@slideshow fragment-->\n",
        "- Note that tokens \"The\" and \"the\" are treated as different words, but have the same meaning.\n",
        "- \"is\" and \"are\" are two forms of the same verb."
      ]
    },
    {
      "cell_type": "markdown",
      "metadata": {
        "id": "aYpmsVpiT-xf",
        "colab_type": "text"
      },
      "source": [
        "<!--@slideshow slide-->\n",
        "## Colab quiz 1\n",
        "This is the first in-class code quiz in the course.\n",
        "Its purpose is to check your understanding as the class progresses. \n",
        "**All Colab quizzes are ungraded.**\n",
        "\n",
        "1. Make sure to run the first cell of this Colab notebook. It imports all the necessary libraries to run the quiz.\n",
        "2. Your task is to implement a function according to the problem statement. In the example below, the problem statement is\n",
        "  > Compute the number of tokens in an input string using spaCy.\n",
        "\n",
        "  The function you need to implement is called `solution()`.\n",
        "  The signature (i.e. the input and output types) and the first line are already implemented; your task is to complete the implementation.\n",
        "3. `check_solution()` is the function that prints out the problem statement and checks your solution. You can see the results of some (but not all) tests. In this quiz, there are 5 tests but only 2 are shown to you.\n",
        "4. After you've finished, press the \"Raise hand\" button in Zoom. If you have a question, send it to the Zoom chat or ask me in the chat to unmute you."
      ]
    },
    {
      "cell_type": "code",
      "metadata": {
        "id": "8wOgEXIFUClE",
        "colab_type": "code",
        "outputId": "c0a38dfa-ec18-47d0-bb89-bb9f5f7f6393",
        "colab": {
          "base_uri": "https://localhost:8080/",
          "height": 411,
          "referenced_widgets": [
            "80ff2cbf972d41d9b6cdf0904bf4566b",
            "b41abcec8c974c1585f16e692863484e",
            "9d4e7186ca114eb49eb0cd5d1c6779e7",
            "d3370b853f3c4cd9ab0722662c8b154a",
            "9b870eec80c64e4a8a958aa574623390",
            "c4eccf4290814d90b0efe0d7eb9f1e87",
            "4f37f7da247b45b4b4c02543ab774fb9",
            "d944620d187c469886560de3339f99cb",
            "6b21c5ce07cf4a2c9193562ffc8c7730",
            "b938869f107b44579eabccdd3943356b",
            "de0493a8e01247b3b5534aa3865d7268"
          ]
        }
      },
      "source": [
        "def solution(s: str) -> int:\n",
        "    from spacy.lang.en import English\n",
        "    nlp = English() # plain English tokenization\n",
        "    # YOUR CODE HERE\n",
        "    doc = nlp(s) # store document as spacy tokens - sentence saved as token list\n",
        "    print(type(doc))\n",
        "    token_counter = Counter()\n",
        "    for tokens in doc:\n",
        "      token_counter[tokens] += 1 # get list of token counter tuples\n",
        "    print(token_counter.most_common(10))\n",
        "    return len(nlp(s)) # length of tokens in each document\n",
        "\n",
        "\n",
        "# the function `quiz_count_tokens()` returns a function that checks your solituon\n",
        "check_solution = quiz_count_tokens()\n",
        "check_solution(solution)"
      ],
      "execution_count": 0,
      "outputs": [
        {
          "output_type": "stream",
          "text": [
            "<class 'spacy.tokens.doc.Doc'>\n",
            "[(This, 1), (is, 1), (a, 1), (text, 1), (., 1)]\n",
            "<class 'spacy.tokens.doc.Doc'>\n",
            "[(Do, 1), (n't, 1), (reinvent, 1), (the, 1), (wheel, 1), (,, 1), (use, 1), (spaCy, 1), (., 1)]\n",
            "<class 'spacy.tokens.doc.Doc'>\n",
            "[(Easy, 1), (-, 1), (peasy, 1), (lemon, 1), (squeezy, 1)]\n",
            "<class 'spacy.tokens.doc.Doc'>\n",
            "[(Easy, 1), (-, 1), (peasy, 1), (lemon, 1), (squeezy, 1), (., 1)]\n",
            "<class 'spacy.tokens.doc.Doc'>\n",
            "[(Two, 1), (sentences, 1), (., 1), (With, 1), (exclamation, 1), (mark, 1), (!, 1)]\n"
          ],
          "name": "stdout"
        },
        {
          "output_type": "display_data",
          "data": {
            "application/vnd.jupyter.widget-view+json": {
              "model_id": "80ff2cbf972d41d9b6cdf0904bf4566b",
              "version_minor": 0,
              "version_major": 2
            },
            "text/plain": [
              "VBox(children=(HTML(value='Compute the number of tokens in an input string using spaCy.<hr>'), HTML(value='Sam…"
            ]
          },
          "metadata": {
            "tags": []
          }
        }
      ]
    },
    {
      "cell_type": "markdown",
      "metadata": {
        "id": "iYw-tCjmc6ij",
        "colab_type": "text"
      },
      "source": [
        "<!--@slideshow slide-->\n",
        "# Lemmatization\n",
        "\n",
        "It is often convenient to use only one form of a word\n",
        "- \"The\", \"the\" $\\rightarrow$ \"the\"\n",
        "- \"is\", \"are\" $\\rightarrow$ \"be\"\n",
        "\n"
      ]
    },
    {
      "cell_type": "markdown",
      "metadata": {
        "id": "hy1wnjAYUa8E",
        "colab_type": "text"
      },
      "source": [
        "<!--@slideshow fragment-->\n",
        "**Definition**: *lemma* is the canonical form of a word.\n",
        "> For example, dictionaries contain lemmas instead of all possible word forms."
      ]
    },
    {
      "cell_type": "markdown",
      "metadata": {
        "id": "etZQac78Ufk1",
        "colab_type": "text"
      },
      "source": [
        "<!--@slideshow fragment-->\n",
        "\n",
        "Let's see how to find lemmas in spaCy."
      ]
    },
    {
      "cell_type": "code",
      "metadata": {
        "id": "KeGuiKgsbEkv",
        "colab_type": "code",
        "outputId": "79f89f01-c798-4e4f-c8a1-e236a5b40c0f",
        "colab": {
          "base_uri": "https://localhost:8080/",
          "height": 170
        }
      },
      "source": [
        "#@slideshow slide\n",
        "import spacy\n",
        "# note that we create `nlp` in a different way\n",
        "# because we need to load dictionaries for lemmatization\n",
        "nlp = spacy.load(\"en\")\n",
        "\n",
        "token_lemma_hash = []\n",
        "for token in nlp(\"Don't mess with Donald Trump.\"):\n",
        "    # `lemma_` attribute contains the text of the token's lemma\n",
        "    lemma = token.lemma_\n",
        "    # `lemma` (without underscore) contains the hashed lemma (the internal spaCy prepresentation)\n",
        "    hashed_lemma = token.lemma\n",
        "    token_lemma_hash.append((token, lemma, hashed_lemma))\n",
        "\n",
        "print(tabulate(token_lemma_hash, headers=[\"Token\", \"Lemma\", \"Hashed lemma\"]))"
      ],
      "execution_count": 0,
      "outputs": [
        {
          "output_type": "stream",
          "text": [
            "Token    Lemma            Hashed lemma\n",
            "-------  -------  --------------------\n",
            "Do       do        2158845516055552166\n",
            "n't      not        447765159362469301\n",
            "mess     mess      1045978126549908185\n",
            "with     with     12510949447758279278\n",
            "Donald   Donald   16889399016836222064\n",
            "Trump    Trump     1134333841961332695\n",
            ".        .        12646065887601541794\n"
          ],
          "name": "stdout"
        }
      ]
    },
    {
      "cell_type": "markdown",
      "metadata": {
        "id": "ZzugJbKHeuut",
        "colab_type": "text"
      },
      "source": [
        "<!--@slideshow fragment-->\n",
        "Note the translations \n",
        "- `[\"Do\", \"n't\"]` $\\rightarrow$ `[\"do\", not\"]`\n",
        "- `[\"Donald\", \"Trump\"]` $\\rightarrow$ `[\"Donald\", \"Trump\"]` (not `[\"donald\", \"trump\"]`)"
      ]
    },
    {
      "cell_type": "markdown",
      "metadata": {
        "id": "OPnDxP-Vnkko",
        "colab_type": "text"
      },
      "source": [
        "<!--@slideshow slide-->\n",
        "How does it work? Why `\"Do\"` $\\rightarrow$ `\"do\"` and not `\"Trump\"` $\\rightarrow$ `\"trump\"`?\n"
      ]
    },
    {
      "cell_type": "markdown",
      "metadata": {
        "id": "lKcilbUIcgkQ",
        "colab_type": "text"
      },
      "source": [
        "<!--@slideshow fragment-->\n",
        "spaCy determines the lemma using not only spelling. It also predicts part of speech (POS) of the token.\n",
        "\n",
        "> Part of speech is _predicted with some probability_, because it is impossible to infer it from spelling.\n"
      ]
    },
    {
      "cell_type": "markdown",
      "metadata": {
        "id": "lhsBcS0xcmeI",
        "colab_type": "text"
      },
      "source": [
        "<!--@slideshow fragment-->\n",
        "This process (predict part of speech) is called POS-tagging.\n",
        "\n",
        "Let's see how to perform POS-tagging with spaCy."
      ]
    },
    {
      "cell_type": "code",
      "metadata": {
        "id": "c00OmaA5oedS",
        "colab_type": "code",
        "outputId": "910f9fc1-eb38-407a-8f10-7108513bab46",
        "colab": {
          "base_uri": "https://localhost:8080/",
          "height": 221
        }
      },
      "source": [
        "#@slideshow slide\n",
        "token_tag_description = []\n",
        "for text in (\"he had played a trump\", \"trump is the us president\"):\n",
        "  for token in nlp(text): # lemma nlp\n",
        "        # `tag_` attribute contains the text of the token's predicted part-of-speech tag\n",
        "        tag = token.tag_\n",
        "        # `spacy.explain` makes tag_ human-readable\n",
        "        tag_description = spacy.explain(tag)\n",
        "        token_tag_description.append((token, tag, tag_description))\n",
        "print(tabulate(token_tag_description, headers=(\"Token\", \"Tag\", \"Tag description\")))"
      ],
      "execution_count": 0,
      "outputs": [
        {
          "output_type": "stream",
          "text": [
            "Token      Tag    Tag description\n",
            "---------  -----  ---------------------------------\n",
            "he         PRP    pronoun, personal\n",
            "had        VBD    verb, past tense\n",
            "played     VBN    verb, past participle\n",
            "a          DT     determiner\n",
            "trump      NN     noun, singular or mass\n",
            "trump      NNP    noun, proper singular\n",
            "is         VBZ    verb, 3rd person singular present\n",
            "the        DT     determiner\n",
            "us         NNP    noun, proper singular\n",
            "president  NN     noun, singular or mass\n"
          ],
          "name": "stdout"
        }
      ]
    },
    {
      "cell_type": "markdown",
      "metadata": {
        "id": "XTt-yC-ki-Vf",
        "colab_type": "text"
      },
      "source": [
        "<!--@slideshow slide-->\n",
        "## Colab quiz 2"
      ]
    },
    {
      "cell_type": "code",
      "metadata": {
        "id": "aLl2qmWRnNGt",
        "colab_type": "code",
        "colab": {}
      },
      "source": [
        "def solution(s: str) -> int:\n",
        "    import spacy\n",
        "    nlp = spacy.load(\"en\")\n",
        "    # YOUR CODE HERE\n",
        "    doc = nlp(s)  # tokenize doc(sentence) as a spacy token list\n",
        "    token_description = []\n",
        "    for token in doc:\n",
        "      lemma = token.lemma_  # convert token to lemma\n",
        "      lemma_hash = token.lemma  # get lemma hash\n",
        "      token_tag = token.tag_  # get POS tag\n",
        "      token_tag_description = spacy.explain(token_tag)  # human readable tag\n",
        "      token_description.append((token, lemma, lemma_hash, token_tag, token_tag_description))\n",
        "    print(tabulate(token_description, headers=[\"Token\", \"Lemma\", \"Lemma Hash\", \"Tag\", \"Tag Description\"]))\n",
        "    return len({token.lemma_ for token in nlp(s)})  # get unique lemmas\n",
        "\n",
        "check_solution = quiz_count_lemmas()\n",
        "check_solution(solution)"
      ],
      "execution_count": 0,
      "outputs": []
    },
    {
      "cell_type": "markdown",
      "metadata": {
        "id": "YgOJMbkPnY2Z",
        "colab_type": "text"
      },
      "source": [
        "<!--@slideshow slide-->\n",
        "# NLP pipeline\n",
        "\n",
        "`spaCy` extracts a lot of information from the text.\n",
        "\n",
        "It is performed as a sequence of steps combined into so-called NLP pipeline.\n",
        "> NLP = Natural Language Processing\n",
        "\n",
        "![NLP pipeline](https://spacy.io/pipeline-7a14d4edd18f3edfee8f34393bff2992.svg)\n",
        "\n",
        "Read more: https://spacy.io/usage/processing-pipelines"
      ]
    },
    {
      "cell_type": "code",
      "metadata": {
        "id": "M3R9hJE4xgso",
        "colab_type": "code",
        "outputId": "40ccb0e7-6a7e-417c-e8be-cff56f113299",
        "colab": {
          "base_uri": "https://localhost:8080/",
          "height": 68
        }
      },
      "source": [
        "#@sldeshow slide\n",
        "import spacy\n",
        "nlp = spacy.load(\"en\")\n",
        "# `nlp` object has the attribute `pipeline`\n",
        "nlp.pipeline"
      ],
      "execution_count": 0,
      "outputs": [
        {
          "output_type": "execute_result",
          "data": {
            "text/plain": [
              "[('tagger', <spacy.pipeline.pipes.Tagger at 0x7f6aea54b748>),\n",
              " ('parser', <spacy.pipeline.pipes.DependencyParser at 0x7f6aeaccf888>),\n",
              " ('ner', <spacy.pipeline.pipes.EntityRecognizer at 0x7f6aeaccf8e8>)]"
            ]
          },
          "metadata": {
            "tags": []
          },
          "execution_count": 40
        }
      ]
    },
    {
      "cell_type": "markdown",
      "metadata": {
        "id": "N__B9CE6xuMD",
        "colab_type": "text"
      },
      "source": [
        "<!--@slideshow fragment-->\n",
        "`tagger` performs POS-tagging.\n",
        "Let's briefly look at `parser` and `ner`."
      ]
    },
    {
      "cell_type": "markdown",
      "metadata": {
        "id": "3iu1XOdCykH2",
        "colab_type": "text"
      },
      "source": [
        "<!--@slideshow slide-->\n",
        "## parser\n",
        "The `parser` component extracts dependencies between words."
      ]
    },
    {
      "cell_type": "code",
      "metadata": {
        "id": "rUXINc2kzHjm",
        "colab_type": "code",
        "outputId": "3ceae4c0-c691-45ec-ff50-028e6c4c590a",
        "colab": {
          "base_uri": "https://localhost:8080/",
          "height": 333
        }
      },
      "source": [
        "#@slideshow fragment\n",
        "doc = nlp(\"This is a sentence.\")\n",
        "\n",
        "# display the relations using spacy.displacy.render\n",
        "html = spacy.displacy.render(doc, style=\"dep\")\n",
        "display(HTML(html))"
      ],
      "execution_count": 0,
      "outputs": [
        {
          "output_type": "display_data",
          "data": {
            "text/html": [
              "<svg xmlns=\"http://www.w3.org/2000/svg\" xmlns:xlink=\"http://www.w3.org/1999/xlink\" xml:lang=\"en\" id=\"1bb72d9f8fec487bba2ecebf010115ae-0\" class=\"displacy\" width=\"750\" height=\"312.0\" direction=\"ltr\" style=\"max-width: none; height: 312.0px; color: #000000; background: #ffffff; font-family: Arial; direction: ltr\">\n",
              "<text class=\"displacy-token\" fill=\"currentColor\" text-anchor=\"middle\" y=\"222.0\">\n",
              "    <tspan class=\"displacy-word\" fill=\"currentColor\" x=\"50\">This</tspan>\n",
              "    <tspan class=\"displacy-tag\" dy=\"2em\" fill=\"currentColor\" x=\"50\">DET</tspan>\n",
              "</text>\n",
              "\n",
              "<text class=\"displacy-token\" fill=\"currentColor\" text-anchor=\"middle\" y=\"222.0\">\n",
              "    <tspan class=\"displacy-word\" fill=\"currentColor\" x=\"225\">is</tspan>\n",
              "    <tspan class=\"displacy-tag\" dy=\"2em\" fill=\"currentColor\" x=\"225\">AUX</tspan>\n",
              "</text>\n",
              "\n",
              "<text class=\"displacy-token\" fill=\"currentColor\" text-anchor=\"middle\" y=\"222.0\">\n",
              "    <tspan class=\"displacy-word\" fill=\"currentColor\" x=\"400\">a</tspan>\n",
              "    <tspan class=\"displacy-tag\" dy=\"2em\" fill=\"currentColor\" x=\"400\">DET</tspan>\n",
              "</text>\n",
              "\n",
              "<text class=\"displacy-token\" fill=\"currentColor\" text-anchor=\"middle\" y=\"222.0\">\n",
              "    <tspan class=\"displacy-word\" fill=\"currentColor\" x=\"575\">sentence.</tspan>\n",
              "    <tspan class=\"displacy-tag\" dy=\"2em\" fill=\"currentColor\" x=\"575\">NOUN</tspan>\n",
              "</text>\n",
              "\n",
              "<g class=\"displacy-arrow\">\n",
              "    <path class=\"displacy-arc\" id=\"arrow-1bb72d9f8fec487bba2ecebf010115ae-0-0\" stroke-width=\"2px\" d=\"M70,177.0 C70,89.5 220.0,89.5 220.0,177.0\" fill=\"none\" stroke=\"currentColor\"/>\n",
              "    <text dy=\"1.25em\" style=\"font-size: 0.8em; letter-spacing: 1px\">\n",
              "        <textPath xlink:href=\"#arrow-1bb72d9f8fec487bba2ecebf010115ae-0-0\" class=\"displacy-label\" startOffset=\"50%\" side=\"left\" fill=\"currentColor\" text-anchor=\"middle\">nsubj</textPath>\n",
              "    </text>\n",
              "    <path class=\"displacy-arrowhead\" d=\"M70,179.0 L62,167.0 78,167.0\" fill=\"currentColor\"/>\n",
              "</g>\n",
              "\n",
              "<g class=\"displacy-arrow\">\n",
              "    <path class=\"displacy-arc\" id=\"arrow-1bb72d9f8fec487bba2ecebf010115ae-0-1\" stroke-width=\"2px\" d=\"M420,177.0 C420,89.5 570.0,89.5 570.0,177.0\" fill=\"none\" stroke=\"currentColor\"/>\n",
              "    <text dy=\"1.25em\" style=\"font-size: 0.8em; letter-spacing: 1px\">\n",
              "        <textPath xlink:href=\"#arrow-1bb72d9f8fec487bba2ecebf010115ae-0-1\" class=\"displacy-label\" startOffset=\"50%\" side=\"left\" fill=\"currentColor\" text-anchor=\"middle\">det</textPath>\n",
              "    </text>\n",
              "    <path class=\"displacy-arrowhead\" d=\"M420,179.0 L412,167.0 428,167.0\" fill=\"currentColor\"/>\n",
              "</g>\n",
              "\n",
              "<g class=\"displacy-arrow\">\n",
              "    <path class=\"displacy-arc\" id=\"arrow-1bb72d9f8fec487bba2ecebf010115ae-0-2\" stroke-width=\"2px\" d=\"M245,177.0 C245,2.0 575.0,2.0 575.0,177.0\" fill=\"none\" stroke=\"currentColor\"/>\n",
              "    <text dy=\"1.25em\" style=\"font-size: 0.8em; letter-spacing: 1px\">\n",
              "        <textPath xlink:href=\"#arrow-1bb72d9f8fec487bba2ecebf010115ae-0-2\" class=\"displacy-label\" startOffset=\"50%\" side=\"left\" fill=\"currentColor\" text-anchor=\"middle\">attr</textPath>\n",
              "    </text>\n",
              "    <path class=\"displacy-arrowhead\" d=\"M575.0,179.0 L583.0,167.0 567.0,167.0\" fill=\"currentColor\"/>\n",
              "</g>\n",
              "</svg>"
            ],
            "text/plain": [
              "<IPython.core.display.HTML object>"
            ]
          },
          "metadata": {
            "tags": []
          }
        }
      ]
    },
    {
      "cell_type": "markdown",
      "metadata": {
        "id": "65ucvMJ411PB",
        "colab_type": "text"
      },
      "source": [
        "<!--@slideshow slide-->\n",
        "## ner\n",
        "The `ner` component recognizes named entities. (NER stands for \"Named Entity Recognition\").\n",
        "\n",
        "> Named entites correspond to some objects in real world (persons, countries, organizations, etc.)\n"
      ]
    },
    {
      "cell_type": "markdown",
      "metadata": {
        "id": "J18StFwbgX-1",
        "colab_type": "text"
      },
      "source": [
        "<!--@slideshow fragment-->\n",
        "Let's find named entities in tweets.\n",
        "Pay attention to mistakes that `ner` makes."
      ]
    },
    {
      "cell_type": "code",
      "metadata": {
        "id": "A3icRm57NSk8",
        "colab_type": "code",
        "outputId": "471f097d-70bc-453e-f113-943c917d346b",
        "colab": {
          "base_uri": "https://localhost:8080/",
          "height": 241
        }
      },
      "source": [
        "#@slideshow slide\n",
        "doc = nlp(tweets[86][\"text\"])\n",
        "# highlight names entities in the text using spacy\n",
        "html = spacy.displacy.render(doc, style=\"ent\")\n",
        "display(HTML(html))\n",
        "\n",
        "entity_label_description = []\n",
        "for ent in doc.ents:\n",
        "    # the text recognized as a named entity\n",
        "    entity_text = ent.text\n",
        "    # each entity is assigned a label, stored in the `label_` attribute\n",
        "    entity_label = ent.label_\n",
        "    # spacy.explain() works with entity labels\n",
        "    explained_entity_label = spacy.explain(ent.label_)\n",
        "\n",
        "    entity_label_description.append((entity_text, entity_label, explained_entity_label))\n",
        "\n",
        "print(tabulate(entity_label_description, headers=(\"Entity text\", \"Entity label\", \"Entity description\")))"
      ],
      "execution_count": 0,
      "outputs": [
        {
          "output_type": "display_data",
          "data": {
            "text/html": [
              "<div class=\"entities\" style=\"line-height: 2.5; direction: ltr\">Intelligence has just reported to me that I was correct, and that they did NOT bring up the \n",
              "<mark class=\"entity\" style=\"background: #7aecec; padding: 0.45em 0.6em; margin: 0 0.25em; line-height: 1; border-radius: 0.35em;\">\n",
              "    CoronaVirus\n",
              "    <span style=\"font-size: 0.8em; font-weight: bold; line-height: 1; border-radius: 0.35em; text-transform: uppercase; vertical-align: middle; margin-left: 0.5rem\">ORG</span>\n",
              "</mark>\n",
              " subject matter until late into \n",
              "<mark class=\"entity\" style=\"background: #bfe1d9; padding: 0.45em 0.6em; margin: 0 0.25em; line-height: 1; border-radius: 0.35em;\">\n",
              "    January\n",
              "    <span style=\"font-size: 0.8em; font-weight: bold; line-height: 1; border-radius: 0.35em; text-transform: uppercase; vertical-align: middle; margin-left: 0.5rem\">DATE</span>\n",
              "</mark>\n",
              ", just prior to my banning \n",
              "<mark class=\"entity\" style=\"background: #feca74; padding: 0.45em 0.6em; margin: 0 0.25em; line-height: 1; border-radius: 0.35em;\">\n",
              "    China\n",
              "    <span style=\"font-size: 0.8em; font-weight: bold; line-height: 1; border-radius: 0.35em; text-transform: uppercase; vertical-align: middle; margin-left: 0.5rem\">GPE</span>\n",
              "</mark>\n",
              " from the \n",
              "<mark class=\"entity\" style=\"background: #feca74; padding: 0.45em 0.6em; margin: 0 0.25em; line-height: 1; border-radius: 0.35em;\">\n",
              "    U.S.\n",
              "    <span style=\"font-size: 0.8em; font-weight: bold; line-height: 1; border-radius: 0.35em; text-transform: uppercase; vertical-align: middle; margin-left: 0.5rem\">GPE</span>\n",
              "</mark>\n",
              " Also, they only spoke of the \n",
              "<mark class=\"entity\" style=\"background: #bfeeb7; padding: 0.45em 0.6em; margin: 0 0.25em; line-height: 1; border-radius: 0.35em;\">\n",
              "    Virus\n",
              "    <span style=\"font-size: 0.8em; font-weight: bold; line-height: 1; border-radius: 0.35em; text-transform: uppercase; vertical-align: middle; margin-left: 0.5rem\">PRODUCT</span>\n",
              "</mark>\n",
              " in a very non-threatening, or matter of fact, manner...</div>"
            ],
            "text/plain": [
              "<IPython.core.display.HTML object>"
            ]
          },
          "metadata": {
            "tags": []
          }
        },
        {
          "output_type": "stream",
          "text": [
            "Entity text    Entity label    Entity description\n",
            "-------------  --------------  ---------------------------------------------\n",
            "CoronaVirus    ORG             Companies, agencies, institutions, etc.\n",
            "January        DATE            Absolute or relative dates or periods\n",
            "China          GPE             Countries, cities, states\n",
            "U.S.           GPE             Countries, cities, states\n",
            "Virus          PRODUCT         Objects, vehicles, foods, etc. (not services)\n"
          ],
          "name": "stdout"
        }
      ]
    },
    {
      "cell_type": "markdown",
      "metadata": {
        "id": "dEcoMT4S_8xu",
        "colab_type": "text"
      },
      "source": [
        "<!--@slideshow slide-->\n",
        "## Customizing pipelines\n",
        "- By default, spaCy includes a lot of components in NLP pipeline.\n",
        "- However, each component delays text processing.\n",
        "- It is recommended to keep only necessary parts of the pipeline."
      ]
    },
    {
      "cell_type": "code",
      "metadata": {
        "id": "pid1uZWrhe_k",
        "colab_type": "code",
        "colab": {}
      },
      "source": [
        "#@slideshow slide\n",
        "nlp_all = spacy.load(\"en\")  # load tagger, parser, ner"
      ],
      "execution_count": 0,
      "outputs": []
    },
    {
      "cell_type": "code",
      "metadata": {
        "id": "OcMu0NoCBub5",
        "colab_type": "code",
        "outputId": "0ff201b1-54c6-4220-89a2-7cd79440266a",
        "colab": {
          "base_uri": "https://localhost:8080/",
          "height": 34
        }
      },
      "source": [
        "#@slideshow fragment\n",
        "%%timeit\n",
        "for tweet in tweets[:100]:\n",
        "    nlp_all(tweet[\"text\"])"
      ],
      "execution_count": 0,
      "outputs": [
        {
          "output_type": "stream",
          "text": [
            "1 loop, best of 3: 1.14 s per loop\n"
          ],
          "name": "stdout"
        }
      ]
    },
    {
      "cell_type": "code",
      "metadata": {
        "id": "VFXzTqIRhiWG",
        "colab_type": "code",
        "colab": {}
      },
      "source": [
        "#@slideshow fragment\n",
        "nlp_tagger = spacy.load(\"en\", disable=[\"parser\", \"ner\"])  # load tokenizer the default & tagger only"
      ],
      "execution_count": 0,
      "outputs": []
    },
    {
      "cell_type": "code",
      "metadata": {
        "id": "nPAWGMz-B8Qa",
        "colab_type": "code",
        "outputId": "f29c71e8-9889-4b2d-e6e2-c38ba5e0f7ca",
        "colab": {
          "base_uri": "https://localhost:8080/",
          "height": 34
        }
      },
      "source": [
        "#@slideshow fragment\n",
        "%%timeit\n",
        "for tweet in tweets[:100]:\n",
        "    nlp_tagger(tweet[\"text\"])"
      ],
      "execution_count": 0,
      "outputs": [
        {
          "output_type": "stream",
          "text": [
            "1 loop, best of 3: 314 ms per loop\n"
          ],
          "name": "stdout"
        }
      ]
    },
    {
      "cell_type": "code",
      "metadata": {
        "id": "Mwei-aDnhlpg",
        "colab_type": "code",
        "colab": {}
      },
      "source": [
        "#@slideshow fragment\n",
        "nlp_none = spacy.load(\"en\", disable=[\"parser\", \"ner\", \"tagger\"])  # disable everything except for tokenizer - the default"
      ],
      "execution_count": 0,
      "outputs": []
    },
    {
      "cell_type": "code",
      "metadata": {
        "id": "dvcPlvgrCSBF",
        "colab_type": "code",
        "outputId": "bd665139-ba30-4cbf-9a05-7d4c11fc0731",
        "colab": {
          "base_uri": "https://localhost:8080/",
          "height": 34
        }
      },
      "source": [
        "#@slideshow fragment\n",
        "%%timeit\n",
        "for tweet in tweets[:100]:\n",
        "    nlp_none(tweet[\"text\"])"
      ],
      "execution_count": 0,
      "outputs": [
        {
          "output_type": "stream",
          "text": [
            "1000 loops, best of 3: 1.51 ms per loop\n"
          ],
          "name": "stdout"
        }
      ]
    },
    {
      "cell_type": "markdown",
      "metadata": {
        "id": "7toJBeGZvyWC",
        "colab_type": "text"
      },
      "source": [
        "<!--@slideshow slide-->\n",
        "## Colab quiz 3"
      ]
    },
    {
      "cell_type": "code",
      "metadata": {
        "id": "fn04MxvOv0G3",
        "colab_type": "code",
        "outputId": "0827c40a-cd63-45e3-d915-fa95c04276ea",
        "colab": {
          "base_uri": "https://localhost:8080/",
          "height": 411,
          "referenced_widgets": [
            "1ce5fee0a4f8488085bff1b73a95fea7",
            "aea2f758a1a64e60ad56075ce288675f",
            "f432b58b74f2452f8d904626814e3bdf",
            "9a515aa25daf475f8ad956d073a59449",
            "03db76f03c2b47b197a4a26a39d236c0",
            "bbd690b771b44e27bbab71c64b01d9cc",
            "d8baa39b6d134a16b9e98b9e8ac76515",
            "12f407bd5670494bb606fee20dd5e436",
            "84e093b91671414eab188657c8083fea",
            "3f66221b72484203b7fa25c2e71ee75a",
            "a4a1b39f889b47fd887b7e6e768e4f1c"
          ]
        }
      },
      "source": [
        "def solution(s: str) -> set:\n",
        "    import spacy\n",
        "    nlp = spacy.load(\"en\", disable=[\"parser\", \"tagger\"])\n",
        "    # YOUR CODE HERE\n",
        "    doc = nlp(s)\n",
        "    print(doc)\n",
        "    ent_labels = set()\n",
        "    for ent in doc.ents:  # from entities of the doc\n",
        "      ent_labels.add(ent.label_)  # get entity labels\n",
        "    print(ent_labels)\n",
        "    return ent_labels\n",
        "\n",
        "check_solution = quiz_ner()\n",
        "check_solution(solution)"
      ],
      "execution_count": 0,
      "outputs": [
        {
          "output_type": "stream",
          "text": [
            "No named entities\n",
            "set()\n",
            "London is the capital of Great Britain.\n",
            "{'GPE'}\n",
            "Donald Trump is the President of the U.S.\n",
            "{'GPE', 'PERSON'}\n",
            "As funding slows in Boston, its early-stage market could shine\n",
            "{'GPE'}\n",
            "California turns to vote-by-mail to keep residents safe come November\n",
            "{'GPE', 'DATE'}\n"
          ],
          "name": "stdout"
        },
        {
          "output_type": "display_data",
          "data": {
            "application/vnd.jupyter.widget-view+json": {
              "model_id": "1ce5fee0a4f8488085bff1b73a95fea7",
              "version_minor": 0,
              "version_major": 2
            },
            "text/plain": [
              "VBox(children=(HTML(value='Return the set of all named entity labels found in the text<hr>'), HTML(value='Samp…"
            ]
          },
          "metadata": {
            "tags": []
          }
        }
      ]
    },
    {
      "cell_type": "markdown",
      "metadata": {
        "id": "ZewRwlfo6FH8",
        "colab_type": "text"
      },
      "source": [
        "<!--@slideshow slide-->\n",
        "# Coding session 1: `spacy`\n",
        "\n",
        "\n"
      ]
    },
    {
      "cell_type": "markdown",
      "metadata": {
        "id": "E08iHwZMjCZ9",
        "colab_type": "text"
      },
      "source": [
        "## Exercise 1\n",
        "\n",
        "Compute the average number of tokens in Trump's tweets, the number of unique tokens, and draw the distrubution of the number of tokens (like we did at the beginning for characters).\n",
        "\n",
        "**Hints**\n",
        "- Disable `tagger`, `parser` and `ner` to speed up computations.\n",
        "- Use `tqdm` to show progress bar (instead `for x in lst` just write `for x in tqdm(lst)`)."
      ]
    },
    {
      "cell_type": "code",
      "metadata": {
        "id": "YWFMGzoNjEbk",
        "colab_type": "code",
        "outputId": "df373bf5-62fa-4ab4-9445-e2e4c8934999",
        "colab": {
          "base_uri": "https://localhost:8080/",
          "height": 897,
          "referenced_widgets": [
            "9453910baca44f1a8bb671f3015e778a",
            "dc58261e8bbf4d26ac368237f03cec0c",
            "fe4828b723134c78b6314a3f8d8b7ad8",
            "e4cce48da01b4f5386f320ef55c9c7ac",
            "be4065c410054dcda01e7bdf058e69f6",
            "39a2d64e009c42a6bdffacbc44e654d1",
            "9983b93ce5c74cf6a51c198aee9db310",
            "d965c27ca61d4b5786151133c72b1189",
            "792804d582ac43288d7223969b74c50b",
            "5e5b038b1c834afebe19a1c4dc69b3e8",
            "8240c69a30aa4768897580192da1fcef",
            "e702b1fb05e44cd0ac4b3b5ba063e5ed",
            "d2255e7fdd204903b516305fb29ff47c",
            "2f0b324e2830493b855d835c7bcf77ad",
            "2a8f90cf9a87481fbfe7f70b3360cf6f",
            "af8c4cfa7c5f4f89877bcb991d2f854b"
          ]
        }
      },
      "source": [
        "import spacy\n",
        "from tqdm.notebook import tqdm  # progress bar\n",
        "\n",
        "# YOUR CODE HERE\n",
        "from time import sleep\n",
        "\n",
        "import json\n",
        "\n",
        "with open(\"harbour-space-text-mining-course/datasets/trump_twitter_archive/tweets.json\") as f:\n",
        "    tweets = json.load(f)\n",
        "\n",
        "nlp_none = spacy.load(\"en\", disable=[\"tagger\", \"parser\", \"ner\"])\n",
        "\n",
        "tweet_tokens = []\n",
        "unique_tokens = set()\n",
        "for tweet in tqdm(tweets[:100]):\n",
        "  doc = nlp_none(tweet['text'])\n",
        "  tweet_tokens.append(list(doc))  # doc is an annotated document with a lot of info\n",
        "  unique_tokens.update(list(doc))\n",
        "\n",
        "len_tokens = [len(tweet) for tweet in tweet_tokens]\n",
        "avg_tokens = sum(len_tokens) / len(len_tokens)\n",
        "print(f\"Unique tokens across all tweets: {len(set(unique_tokens))}\")\n",
        "print(f\"Average tokens per tweet: {avg_tokens}\")\n",
        "\n",
        "### alternate ###\n",
        "\n",
        "tweet_len = []\n",
        "uniq_tokens = set()\n",
        "\n",
        "for tw in tqdm(tweets):\n",
        "  doc = nlp_none(tw['text'])\n",
        "  # print(type(doc))\n",
        "  # print(type(doc[0]), doc[0])\n",
        "  # print(type(doc[0].text), doc[0].text)\n",
        "  tokens = [token.text for token in doc] \n",
        "  # print(type(tokens[:2]), tokens[:2])\n",
        "  tweet_len.append(len(tokens))\n",
        "  uniq_tokens |= set(tokens)  # uniq_tokens.update(tokens)\n",
        "\n",
        "print(f\"Unique tokens across all tweets: {len(uniq_tokens)}\")\n",
        "print(f\"Average tokens per tweet: {sum(tweet_len) / len(tweet_len)}\")\n",
        "\n",
        "import matplotlib.pyplot as plt\n",
        "# my soln:\n",
        "plt.figure(figsize=(10, 6))\n",
        "plt.hist(len_tokens, bins=100)\n",
        "plt.show()\n",
        "\n",
        "# sergey's soln\n",
        "plt.figure(figsize=(10, 6))\n",
        "plt.hist(tweet_len, bins=100)\n",
        "plt.show()\n",
        "\n",
        "# Apparently mine is not correct"
      ],
      "execution_count": 0,
      "outputs": [
        {
          "output_type": "display_data",
          "data": {
            "application/vnd.jupyter.widget-view+json": {
              "model_id": "9453910baca44f1a8bb671f3015e778a",
              "version_minor": 0,
              "version_major": 2
            },
            "text/plain": [
              "HBox(children=(FloatProgress(value=0.0), HTML(value='')))"
            ]
          },
          "metadata": {
            "tags": []
          }
        },
        {
          "output_type": "stream",
          "text": [
            "\n",
            "Unique tokens across all tweets: 2813\n",
            "Average tokens per tweet: 28.13\n"
          ],
          "name": "stdout"
        },
        {
          "output_type": "display_data",
          "data": {
            "application/vnd.jupyter.widget-view+json": {
              "model_id": "792804d582ac43288d7223969b74c50b",
              "version_minor": 0,
              "version_major": 2
            },
            "text/plain": [
              "HBox(children=(FloatProgress(value=0.0, max=48040.0), HTML(value='')))"
            ]
          },
          "metadata": {
            "tags": []
          }
        },
        {
          "output_type": "stream",
          "text": [
            "\n",
            "Unique tokens across all tweets: 65207\n",
            "Average tokens per tweet: 24.521398834304748\n"
          ],
          "name": "stdout"
        },
        {
          "output_type": "display_data",
          "data": {
            "image/png": "[encoded data removed]",
            "text/plain": [
              "<Figure size 720x432 with 1 Axes>"
            ]
          },
          "metadata": {
            "tags": [],
            "needs_background": "light"
          }
        },
        {
          "output_type": "display_data",
          "data": {
            "image/png": "[encoded data removed]",
            "text/plain": [
              "<Figure size 720x432 with 1 Axes>"
            ]
          },
          "metadata": {
            "tags": [],
            "needs_background": "light"
          }
        }
      ]
    },
    {
      "cell_type": "markdown",
      "metadata": {
        "id": "o7FoW3mnjYHu",
        "colab_type": "text"
      },
      "source": [
        "## Exercise 2\n",
        "\n",
        "Find 10 lemmas that have the largest number of **unique** forms.\n",
        "\n",
        "For example, the text “Is is are are” contains _three_ distinct forms of the lemma “be”: “Is”, “is”, “are”.\n",
        "\n",
        "**Hints**\n",
        "- Disable `parser` and `ner` to speed up computations.\n",
        "- Use `tqdm` to show progress bar.\n",
        "- Debug on a small subset of tweets, then compute on the full dataset.\n",
        "- Lemma is stored in `.lemma_` attribute of spaCy token, form is the token text in the attribute `.text`."
      ]
    },
    {
      "cell_type": "code",
      "metadata": {
        "id": "5JJuuAS7jhMP",
        "colab_type": "code",
        "colab": {}
      },
      "source": [
        "from collections import defaultdict\n",
        "from tqdm.notebook import tqdm\n",
        "from pprint import pprint\n",
        "\n",
        "# YOUR CODE HERE\n",
        "nlp_tagger = spacy.load(\"en\", disable=[\"parser\", \"ner\"])\n",
        "\n",
        "# wrong solution as outputting count of top, where as to output only top tags\n",
        "# token_lemma = []\n",
        "# lemma_dict = defaultdict(int)\n",
        "# for tweet in tqdm(tweets):\n",
        "#   doc = nlp_tagger(tweet['text'])\n",
        "#   for token in doc:\n",
        "#     lemma = token.lemma_\n",
        "#     lemma_hash = token.lemma\n",
        "#     lemma_dict[lemma] += 1\n",
        "#     token_lemma.append((token, lemma, lemma_hash))"
      ],
      "execution_count": 0,
      "outputs": []
    },
    {
      "cell_type": "code",
      "metadata": {
        "id": "H1Rwpopc6IyB",
        "colab_type": "code",
        "outputId": "bb20d38d-d6db-40d4-ae0d-25e8a99561a4",
        "colab": {
          "base_uri": "https://localhost:8080/",
          "height": 34
        }
      },
      "source": [
        "### alternate by sergey ###\n",
        "lemma_form = defaultdict(set)\n",
        "for tweet in tqdm(tweets):\n",
        "  for token in nlp_tagger(tweet[\"text\"]):\n",
        "    lemma_form[token.lemma_].add(token.text)\n",
        "\n",
        "pprint(\n",
        "    list(sorted(\n",
        "        lemma_form,\n",
        "        key=lambda l: len(lemma_form[l]),\n",
        "        reverse=True\n",
        "    ))[:10]\n",
        ")\n"
      ],
      "execution_count": 0,
      "outputs": [
        {
          "output_type": "stream",
          "text": [
            "['-PRON-', 'be', 'go', 'have', 'do', 'love', 'get', 'close', 'pay', 'know']\n"
          ],
          "name": "stdout"
        }
      ]
    },
    {
      "cell_type": "code",
      "metadata": {
        "id": "j98DkV1_hliF",
        "colab_type": "code",
        "outputId": "754ab867-d86b-4da6-c0b2-f61dd17d56bb",
        "colab": {
          "base_uri": "https://localhost:8080/",
          "height": 34
        }
      },
      "source": [
        "# lemma_counter = Counter(lemma_dict)\n",
        "# pprint(lemma_counter.most_common()[:5], compact=True)"
      ],
      "execution_count": 0,
      "outputs": [
        {
          "output_type": "stream",
          "text": [
            "[('-PRON-', 67483), ('.', 42035), ('be', 39475), ('the', 39015), (',', 32658)]\n"
          ],
          "name": "stdout"
        }
      ]
    },
    {
      "cell_type": "markdown",
      "metadata": {
        "id": "xT0eQtwsmwkd",
        "colab_type": "text"
      },
      "source": [
        "## Exercise 3\n",
        "\n",
        "1. How many tweets contain named entities?\n",
        "2. What are top-5 most popular entity labels?\n",
        "\n",
        "**Hints**:\n",
        "- Disable `parser` and `tagger` to speed up computations.\n",
        "- Use `tqdm` to show progress bar.\n",
        "- Debug on a small subset of tweets, then compute on the full dataset."
      ]
    },
    {
      "cell_type": "code",
      "metadata": {
        "id": "nmjgZudlnG00",
        "colab_type": "code",
        "outputId": "0df239be-b0bb-42df-950c-92ad90a2c173",
        "colab": {
          "base_uri": "https://localhost:8080/",
          "height": 66,
          "referenced_widgets": [
            "3638b3a5608745d59e5bb6b58d37903b",
            "fb4a7ab02cfc43b5b7600eb2b8a8e74a",
            "71a2b5039fe9440881e5530aa3b59cb8",
            "ba07c16cf0e7421ebd2df15395c1d564",
            "92c0f3f6396946c1a4ce023b7a4a10e6",
            "b5f7b82c3ae94b1d957bf6c5305c6d20",
            "cce3607396f943b6b42a2a7b6511281a",
            "d61955dbff264f2abfd968c474c26f2c"
          ]
        }
      },
      "source": [
        "import spacy\n",
        "from collections import Counter\n",
        "from tqdm.notebook import tqdm\n",
        "from pprint import pprint\n",
        "\n",
        "# YOUR CODE HERE\n",
        "nlp_ent = spacy.load(\"en\") #, disable=[\"parser\", \"tagger\"])\n",
        "\n",
        "tw_with_ents = 0\n",
        "label_count = Counter()\n",
        "for tweet in tqdm(tweets[:1000]):\n",
        "  doc = nlp_ent(tweet['text'])\n",
        "  if doc.ents:\n",
        "    tw_with_ents += 1\n",
        "  for ent in doc.ents:\n",
        "    label_count[ent.label_] += 1\n",
        "\n"
      ],
      "execution_count": 0,
      "outputs": [
        {
          "output_type": "display_data",
          "data": {
            "application/vnd.jupyter.widget-view+json": {
              "model_id": "3638b3a5608745d59e5bb6b58d37903b",
              "version_minor": 0,
              "version_major": 2
            },
            "text/plain": [
              "HBox(children=(FloatProgress(value=0.0, max=1000.0), HTML(value='')))"
            ]
          },
          "metadata": {
            "tags": []
          }
        },
        {
          "output_type": "stream",
          "text": [
            "\n"
          ],
          "name": "stdout"
        }
      ]
    },
    {
      "cell_type": "code",
      "metadata": {
        "id": "MvIg3xUtYOr6",
        "colab_type": "code",
        "outputId": "34b531a6-abe1-4b97-c87c-e775e27f64fd",
        "colab": {
          "base_uri": "https://localhost:8080/",
          "height": 51
        }
      },
      "source": [
        "print(tw_with_ents)\n",
        "pprint(label_count.most_common(5))"
      ],
      "execution_count": 0,
      "outputs": [
        {
          "output_type": "stream",
          "text": [
            "777\n",
            "[('ORG', 646), ('PERSON', 442), ('GPE', 295), ('DATE', 167), ('NORP', 164)]\n"
          ],
          "name": "stdout"
        }
      ]
    },
    {
      "cell_type": "markdown",
      "metadata": {
        "id": "9x7viXufIDh0",
        "colab_type": "text"
      },
      "source": [
        "<!--@slideshow slide-->\n",
        "# \"Word of a day\"\n",
        "\n",
        "**Problem statement**\n",
        "- For each day, find the word which is \"specific\" for this day in Trump's tweets.\n",
        "- It may be a name, a country, or some event.\n"
      ]
    },
    {
      "cell_type": "markdown",
      "metadata": {
        "id": "ToKZiA0YssNI",
        "colab_type": "text"
      },
      "source": [
        "<!--@slideshow fragment-->\n",
        "**Definitions and notation**:\n",
        "- *Term* (notation: $t$) is a \"meaningful\" piece of text (lemma in our case).\n",
        "- *Document* (notation: $d$) is the collection of tweets created on a given day.\n",
        "- $D$ is the set of all documents (not tweets!)."
      ]
    },
    {
      "cell_type": "markdown",
      "metadata": {
        "id": "OD-b8SXwsZmb",
        "colab_type": "text"
      },
      "source": [
        "<!--@slideshow slide-->\n",
        "The first attempt: find the most frequent term for each document."
      ]
    },
    {
      "cell_type": "code",
      "metadata": {
        "id": "TQ4PifKW2BCL",
        "colab_type": "code",
        "outputId": "f47c1e7e-21ac-4272-fff6-d3720d677077",
        "colab": {
          "base_uri": "https://localhost:8080/",
          "height": 202,
          "referenced_widgets": [
            "e4261064d9e24ad2ab8e2b33c01e7563",
            "f7b7779e57d1434cb7d5c6dce51e705e",
            "e7d29883bb6f420b90de2a575b94e846",
            "511f6b2be6b844718151e8249dc57ed5",
            "e7eae64e3ba241b5b38d7ffc1a92c0ed",
            "244084bf14bc491ea64cadb49f12ec09",
            "cbd74f62226844a8bac14942748b9364",
            "5a77b41afe62444e86bcd7259ecd7fa4"
          ]
        }
      },
      "source": [
        "#@slideshow fragment\n",
        "# preprocess the data: create documents from tweets\n",
        "from pprint import pprint\n",
        "from dateutil.parser import parse as parse_datetime  # convert a string in any format to a datetime object\n",
        "# preprocess the data: convert each tweet into tuple (date, lemmas_list)\n",
        "import spacy\n",
        "nlp = spacy.load(\"en\", disable=[\"parser\", \"ner\", \"tagger\"])\n",
        "preprocessed_tweets = []\n",
        "for tweet in tqdm(tweets):\n",
        "    if tweet.get(\"is_retweet\"):\n",
        "        # ignore retweets\n",
        "        continue\n",
        "    tweet_date = parse_datetime(tweet[\"created_at\"]).date()\n",
        "    tweet_lemmas = [token.lemma_ for token in nlp(tweet[\"text\"])]\n",
        "    preprocessed_tweets.append((tweet_date, tweet_lemmas))\n",
        "\n",
        "# this is how the preprocessed data looks like\n",
        "pprint(preprocessed_tweets[100], compact=True)"
      ],
      "execution_count": 0,
      "outputs": [
        {
          "output_type": "display_data",
          "data": {
            "application/vnd.jupyter.widget-view+json": {
              "model_id": "e4261064d9e24ad2ab8e2b33c01e7563",
              "version_minor": 0,
              "version_major": 2
            },
            "text/plain": [
              "HBox(children=(FloatProgress(value=0.0, max=48040.0), HTML(value='')))"
            ]
          },
          "metadata": {
            "tags": []
          }
        },
        {
          "output_type": "stream",
          "text": [
            "\n",
            "(datetime.date(2020, 5, 1),\n",
            " ['Cryin', '’', 'Chuck', 'Schumer', 'be', 'on', 'a', 'late', 'night', 'show',\n",
            "  'use', 'a', 'false', 'talk', 'point', 'over', '&', 'amp', ';', 'over',\n",
            "  'again', '.', '“', 'We', 'do', 'not', 'have', 'enough', 'test', ',', '”',\n",
            "  'he', 'would', 'repeat', ',', 'when', 'he', 'know', 'we', 'have', 'do', 'a',\n",
            "  'great', 'job', 'on', 'Testing', ',', 'just', 'like', 'we', 'have', 'on',\n",
            "  'Ventilators', 'and', 'everything', 'else', '.', 'He', 'lie', ',', 'give',\n",
            "  'NY', 'SALT', '.', 'Run', 'AOC', '!'])\n"
          ],
          "name": "stdout"
        }
      ]
    },
    {
      "cell_type": "code",
      "metadata": {
        "id": "007hE8r3s9ez",
        "colab_type": "code",
        "colab": {}
      },
      "source": [
        "from collections import Counter, defaultdict"
      ],
      "execution_count": 0,
      "outputs": []
    },
    {
      "cell_type": "code",
      "metadata": {
        "id": "ho9X-7DkCrqI",
        "colab_type": "code",
        "colab": {}
      },
      "source": [
        "#@slideshow slide\n",
        "# term count for each document\n",
        "document_term_counter = defaultdict(Counter)\n",
        "for tweet_date, tweet_lemmas in preprocessed_tweets:\n",
        "    for lemma in tweet_lemmas:\n",
        "        # tweet_date is the document\n",
        "        # lemma is the term\n",
        "        document_term_counter[tweet_date][lemma] += 1"
      ],
      "execution_count": 0,
      "outputs": []
    },
    {
      "cell_type": "code",
      "metadata": {
        "id": "a8_8htmsbTjg",
        "colab_type": "code",
        "outputId": "22d915f3-53d8-4c93-a4ce-5b76e9adc69a",
        "colab": {
          "base_uri": "https://localhost:8080/",
          "height": 271
        }
      },
      "source": [
        "#@slideshow fragment tags=remove_input\n",
        "# visualize\n",
        "\n",
        "documents = []\n",
        "terms = []\n",
        "weights = []\n",
        "\n",
        "for d in sorted(document_term_counter):\n",
        "    documents.append(d)\n",
        "    # get the most frequent term and its count\n",
        "    term, count = document_term_counter[d].most_common(1)[0]\n",
        "    terms.append(term)\n",
        "    weights.append(count)\n",
        "\n",
        "from datetime import date\n",
        "html = calendar_table(documents, terms, weights, from_datetime=date(2020, 3, 30))\n",
        "display(HTML(html))"
      ],
      "execution_count": 0,
      "outputs": [
        {
          "output_type": "display_data",
          "data": {
            "text/html": [
              "<style>\n",
              "    th, td {\n",
              "      padding: 8px;\n",
              "      text-align: center;\n",
              "      border-bottom: 1px solid #ddd;\n",
              "      font-size: 20;\n",
              "    }\n",
              "    tr {\n",
              "      font-size: 20;\n",
              "    }\n",
              "    </style><table><tr><th>week</th><th>Mon</th><th>Tue</th><th>Wed</th><th>Thu</th><th>Fri</th><th>Sat</th><th>Sun</th></tr><tr><td>2020-03-30 - 2020-04-05</td><td><div style=\"color:rgba(0, 0, 255, 0.3066666666666667);font-weight:bold\">,</div></td><td><div style=\"color:rgba(0, 0, 255, 0.37777777777777777);font-weight:bold\">,</div></td><td><div style=\"color:rgba(0, 0, 255, 0.3066666666666667);font-weight:bold\">,</div></td><td><div style=\"color:rgba(0, 0, 255, 0.4488888888888889);font-weight:bold\">,</div></td><td><div style=\"color:rgba(0, 0, 255, 0.2888888888888889);font-weight:bold\">the</div></td><td><div style=\"color:rgba(0, 0, 255, 0.4311111111111111);font-weight:bold\">be</div></td><td><div style=\"color:rgba(0, 0, 255, 0.3244444444444445);font-weight:bold\">!</div></td></tr><tr><td>2020-04-06 - 2020-04-12</td><td><div style=\"color:rgba(0, 0, 255, 0.4666666666666667);font-weight:bold\">be</div></td><td><div style=\"color:rgba(0, 0, 255, 0.52);font-weight:bold\">,</div></td><td><div style=\"color:rgba(0, 0, 255, 0.768888888888889);font-weight:bold\">,</div></td><td><div style=\"color:rgba(0, 0, 255, 0.2888888888888889);font-weight:bold\">the</div></td><td><div style=\"color:rgba(0, 0, 255, 0.5377777777777778);font-weight:bold\">,</div></td><td><div style=\"color:rgba(0, 0, 255, 0.8222222222222222);font-weight:bold\">be</div></td><td><div style=\"color:rgba(0, 0, 255, 0.6088888888888888);font-weight:bold\">.</div></td></tr><tr><td>2020-04-13 - 2020-04-19</td><td><div style=\"color:rgba(0, 0, 255, 0.7511111111111111);font-weight:bold\">the</div></td><td><div style=\"color:rgba(0, 0, 255, 0.37777777777777777);font-weight:bold\">,</div></td><td><div style=\"color:rgba(0, 0, 255, 0.2888888888888889);font-weight:bold\">,</div></td><td><div style=\"color:rgba(0, 0, 255, 0.36000000000000004);font-weight:bold\">.</div></td><td><div style=\"color:rgba(0, 0, 255, 0.4311111111111111);font-weight:bold\">,</div></td><td><div style=\"color:rgba(0, 0, 255, 0.5733333333333334);font-weight:bold\">,</div></td><td><div style=\"color:rgba(0, 0, 255, 0.4311111111111111);font-weight:bold\">be</div></td></tr><tr><td>2020-04-20 - 2020-04-26</td><td><div style=\"color:rgba(0, 0, 255, 0.4488888888888889);font-weight:bold\">,</div></td><td><div style=\"color:rgba(0, 0, 255, 0.7866666666666666);font-weight:bold\">,</div></td><td><div style=\"color:rgba(0, 0, 255, 0.4311111111111111);font-weight:bold\">be</div></td><td><div style=\"color:rgba(0, 0, 255, 0.8044444444444445);font-weight:bold\">and</div></td><td><div style=\"color:rgba(0, 0, 255, 0.6444444444444445);font-weight:bold\">,</div></td><td><div style=\"color:rgba(0, 0, 255, 0.6977777777777778);font-weight:bold\">the</div></td><td><div style=\"color:rgba(0, 0, 255, 0.7511111111111111);font-weight:bold\">the</div></td></tr><tr><td>2020-04-27 - 2020-05-03</td><td><div style=\"color:rgba(0, 0, 255, 0.41333333333333333);font-weight:bold\">,</div></td><td><div style=\"color:rgba(0, 0, 255, 0.2888888888888889);font-weight:bold\">,</div></td><td><div style=\"color:rgba(0, 0, 255, 0.25333333333333335);font-weight:bold\">!</div></td><td><div style=\"color:rgba(0, 0, 255, 0.6444444444444445);font-weight:bold\">,</div></td><td><div style=\"color:rgba(0, 0, 255, 0.5377777777777778);font-weight:bold\">,</div></td><td><div style=\"color:rgba(0, 0, 255, 0.6266666666666667);font-weight:bold\">.</div></td><td><div style=\"color:rgba(0, 0, 255, 0.5377777777777778);font-weight:bold\">,</div></td></tr><tr><td>2020-05-04 - 2020-05-10</td><td><div style=\"color:rgba(0, 0, 255, 0.7155555555555557);font-weight:bold\">,</div></td><td><div style=\"color:rgba(0, 0, 255, 1.1066666666666667);font-weight:bold\">,</div></td><td><div style=\"color:rgba(0, 0, 255, 0.37777777777777777);font-weight:bold\">,</div></td><td><div style=\"color:rgba(0, 0, 255, 0.3244444444444445);font-weight:bold\">,</div></td><td><div style=\"color:rgba(0, 0, 255, 0.39555555555555555);font-weight:bold\">and</div></td><td></td><td></td></tr></table>"
            ],
            "text/plain": [
              "<IPython.core.display.HTML object>"
            ]
          },
          "metadata": {
            "tags": []
          }
        }
      ]
    },
    {
      "cell_type": "markdown",
      "metadata": {
        "id": "343B5HrUd1qo",
        "colab_type": "text"
      },
      "source": [
        "<!--@slideshow slide-->\n",
        "- As expected, the most frequent terms overall are the most frequent in each document.\n",
        "- The most frequent terms are not informative\n",
        "- Does informativity depend on frequency?"
      ]
    },
    {
      "cell_type": "code",
      "metadata": {
        "id": "FiesZrYM7buE",
        "colab_type": "code",
        "colab": {}
      },
      "source": [
        "# count all terms\n",
        "term_counter = Counter()\n",
        "for tweet_date, tweet_lemmas in preprocessed_tweets:\n",
        "    for term in tweet_lemmas:\n",
        "        term_counter[term] += 1"
      ],
      "execution_count": 0,
      "outputs": []
    },
    {
      "cell_type": "code",
      "metadata": {
        "id": "GuC-uVmp9SHN",
        "colab_type": "code",
        "outputId": "fda79a36-28d7-4931-96b9-2ce59d116d9a",
        "colab": {
          "base_uri": "https://localhost:8080/",
          "height": 543
        }
      },
      "source": [
        "#@slideshow slide tags=remove_input   \n",
        "visualize_term_counter(term_counter, 0, \"Top 10 terms: frequent, not informative\", use_ggplot=False)"
      ],
      "execution_count": 0,
      "outputs": [
        {
          "output_type": "display_data",
          "data": {
            "image/png": "[encoded data removed]",
            "text/plain": [
              "<Figure size 864x576 with 1 Axes>"
            ]
          },
          "metadata": {
            "tags": [],
            "needs_background": "light"
          }
        }
      ]
    },
    {
      "cell_type": "code",
      "metadata": {
        "id": "wBOCoXNI_nzu",
        "colab_type": "code",
        "outputId": "d8bcb121-46e9-4d3a-9e08-2e0f07ed16ea",
        "colab": {
          "base_uri": "https://localhost:8080/",
          "height": 491
        }
      },
      "source": [
        "#@slideshow slide tags=remove_input\n",
        "visualize_term_counter(term_counter, 1200, \"Terms from 1200 to 1210: not frequent, possibly informative\", use_ggplot=False)"
      ],
      "execution_count": 0,
      "outputs": [
        {
          "output_type": "display_data",
          "data": {
            "image/png": "[encoded data removed]",
            "text/plain": [
              "<Figure size 864x576 with 1 Axes>"
            ]
          },
          "metadata": {
            "tags": [],
            "needs_background": "light"
          }
        }
      ]
    },
    {
      "cell_type": "code",
      "metadata": {
        "id": "GTOL3HEW_5ww",
        "colab_type": "code",
        "outputId": "2ecef3be-87e5-482e-8d88-5c4b8b8d89b7",
        "colab": {
          "base_uri": "https://localhost:8080/",
          "height": 468
        }
      },
      "source": [
        "#@slideshow slide tags=remove_input\n",
        "visualize_term_counter(term_counter, 35000, \"Terms from 35000 to 35010: rare, not informative\", use_ggplot=False)"
      ],
      "execution_count": 0,
      "outputs": [
        {
          "output_type": "display_data",
          "data": {
            "image/png": "[encoded data removed]",
            "text/plain": [
              "<Figure size 864x576 with 1 Axes>"
            ]
          },
          "metadata": {
            "tags": [],
            "needs_background": "light"
          }
        }
      ]
    },
    {
      "cell_type": "markdown",
      "metadata": {
        "id": "jfOVd9sGpdOZ",
        "colab_type": "text"
      },
      "source": [
        "<!--@slideshow slide-->\n",
        "# TF-IDF\n",
        "\n",
        "Try the following idea:\n",
        "> The term $t$ is specific (or informative) for the document $d$ if it occurs relatively rarely in $D$ but occurs often in $d$."
      ]
    },
    {
      "cell_type": "markdown",
      "metadata": {
        "id": "DKcHHLh4p0ER",
        "colab_type": "text"
      },
      "source": [
        "<!--@slideshow fragment-->\n",
        "\n",
        "The measure of \"informativity\" of term $t$ for document $d$ should satisfy two properties:\n",
        "1. The higher the frequency of $t$ in $d$, the _higher_ the informativity.\n",
        "2. The higher the frequency of $t$ in the collection $D$, the _lower_ the informativity.\n",
        "\n",
        "\n",
        "\n"
      ]
    },
    {
      "cell_type": "markdown",
      "metadata": {
        "id": "LyIyrcmBzAzS",
        "colab_type": "text"
      },
      "source": [
        "<!--@slideshow fragment-->\n",
        "It can be written as the product of two functions:\n",
        "$$TFIDF(t, d, D) = TF(t, d) \\cdot IDF(t, D)$$"
      ]
    },
    {
      "cell_type": "markdown",
      "metadata": {
        "id": "Fi9VsTBtIGJH",
        "colab_type": "text"
      },
      "source": [
        "<!--@slideshow slide-->\n",
        "## Term frequency $TF(t, d)$\n",
        "\n",
        "Term frequency is just the number of occurrences of the term $t$ in the document $d$."
      ]
    },
    {
      "cell_type": "markdown",
      "metadata": {
        "id": "SsrTXoMvIT4Z",
        "colab_type": "text"
      },
      "source": [
        "<!--@slideshow slide-->\n",
        "## Inverse document frequency $IDF(t, D)$\n",
        "\n",
        "- In practice, the range of \"informativity\" is wide.\n",
        "- Informative terms may occur in 1%, 0.1% or even 0.01% of all documents $D$.\n",
        "- That's why $IDF(t, D)$ depends on $t$'s frequency in $D$ _logarithmically_.\n",
        "> If $t_1$ is 10 times more frequent than $t_2$, then $IDF(t_1, D) - IDF(t_2, D) = \\mathrm{const}$"
      ]
    },
    {
      "cell_type": "markdown",
      "metadata": {
        "id": "R9-qXHr50cWR",
        "colab_type": "text"
      },
      "source": [
        "<!--@slideshow slide-->\n",
        "$IDF(t, D)$ is computed in 3 steps:\n",
        "1. Compute the number of documents that contain $t$.\n",
        "2. Divide it by the total number of documents.\n",
        "  > The result is the probability to find term $t$ in a randomly chosen document.\n",
        "3. Take the $\\log$ of the _inverse_ quantity from the previous step.\n"
      ]
    },
    {
      "cell_type": "markdown",
      "metadata": {
        "id": "FOid8BSp0eFe",
        "colab_type": "text"
      },
      "source": [
        "<!--@slideshow fragment-->\n",
        "Or, mathematically\n",
        "$$\n",
        "IDF(t, D) = \\log\\left(\\dfrac{|D|}{|\\{d \\in D | t \\in d\\}|}\\right)\n",
        "$$\n",
        "- $|D|$ is the total number of documents\n",
        "- $|\\{d \\in D | t \\in d\\}|$ is the number of documents that contain $t$"
      ]
    },
    {
      "cell_type": "markdown",
      "metadata": {
        "id": "CPn_v7ktrAhv",
        "colab_type": "text"
      },
      "source": [
        "<!--@slideshow slide-->\n",
        "## TF-IDF example\n",
        "\n",
        "Consider the collection $D$ containing 3 documents\n",
        "\n",
        "1. $d_1$ = \"If you tell the truth you don’t have to remember anything.\"\n",
        "2. $d_2$ = \"If you don’t read the newspaper, you’re uninformed. If you read the newspaper, you’re misinformed.\"\n",
        "3. $d_3$ = \"A lie can travel half way around the world while the truth is putting on its shoes.\"\n",
        "\n",
        "Let us compute $TFIDF(\\mathrm{''newspaper''}, d_2, D)$:\n",
        "- $TF(\\mathrm{''newspaper''}, d_2) = 2$\n",
        "- $IDF(\\mathrm{''newspaper''}, D) = \\log\\left(\\dfrac{3}{1}\\right) \\approx 1.1$\n",
        "- $TFIDF(\\mathrm{''newspaper''}, d_2, D) \\approx 2.2$"
      ]
    },
    {
      "cell_type": "markdown",
      "metadata": {
        "id": "wRHzbWLkrOAU",
        "colab_type": "text"
      },
      "source": [
        "<!--@slideshow slide-->\n",
        "## Colab qiuz 4\n",
        "Compute $TFIDF(\\mathrm{''If''}, d_1, D)$\n",
        "\n",
        "\n"
      ]
    },
    {
      "cell_type": "code",
      "metadata": {
        "id": "M27jSRPa7_9I",
        "colab_type": "code",
        "outputId": "8c563897-5987-48a6-9400-a6509d08755c",
        "colab": {
          "base_uri": "https://localhost:8080/",
          "height": 276,
          "referenced_widgets": [
            "40415686e93a4a0a9d6ee8bb00ff0c8c",
            "ce6ca238ba4a4c33bb559f6d526cf214",
            "e7c208780e1b40a5a62ba39cb3907ae2",
            "4522dae60ca24863a62706320eb17acc",
            "fbad63584f484f578c943a3375ada289",
            "b6df8ab2562c4622947d86c7a510d5b8",
            "ab1eac23d1c4498e915e81b41c07f58f",
            "14f90269b7594f0594808acbb321087b",
            "5883f45f980749289b79db21b0f13da2",
            "c62aeb2eb8e344d7b8832aa3d1a9d9a3",
            "8ca5b2afd83f4d749581284f76164043",
            "1f096a1b18e844f1ba7e30ca941373a2",
            "52b19e9148c34c2c85bb8b8accf4ab9e",
            "a31bfbd2da224dfcbd8e454780561411",
            "7ba82d2461f94918a7a7ab00f59963dd",
            "37198d5eef104e15a4b99c97d035722c",
            "ecf34c3875ce4e38a3ca6b722cf9432e",
            "2f1085b3fcac44c890236bca18d85129",
            "6902dad6c4524b84bd48a7096aa36903",
            "3b7e69c9d81b45f79365c9275be8e7aa",
            "c62d41de7a4d4469992ab4ef31d08b33",
            "f93779be897a4f76875b42b28567d0cd",
            "a2b769826888458095376e096172f3f9",
            "e33230ab25af47c4941222bfdac84e73",
            "29b0b2a5928d40fd9f03c7ca48accf86",
            "9e875bc7447d4413aec82e3055633293",
            "6f9a86f2c0774ab9b31f5d8de6f2a4ed",
            "49767b282a4f4db789cf1f8a73746f0a"
          ]
        }
      },
      "source": [
        "enable_mathjax_in_cell()\n",
        "quiz_tfidf()()"
      ],
      "execution_count": 0,
      "outputs": [
        {
          "output_type": "display_data",
          "data": {
            "text/html": [
              "\n",
              "        <script src=\"https://www.gstatic.com/external_hosted/mathjax/latest/MathJax.js?config=TeX-AMS_HTML-full,Safe&delayStartupUntil=configured\"></script>\n",
              "        <script>\n",
              "            (() => {\n",
              "            const mathjax = window.MathJax;\n",
              "            mathjax.Hub.Config({\n",
              "            'tex2jax': {\n",
              "                'inlineMath': [['$', '$'], ['\\(', '\\)']],\n",
              "                'displayMath': [['$$', '$$'], ['\\[', '\\]']],\n",
              "                'processEscapes': true,\n",
              "                'processEnvironments': true,\n",
              "                'skipTags': ['script', 'noscript', 'style', 'textarea', 'code'],\n",
              "                'displayAlign': 'center',\n",
              "            },\n",
              "            'HTML-CSS': {\n",
              "                'styles': {'.MathJax_Display': {'margin': 0}},\n",
              "                'linebreaks': {'automatic': true},\n",
              "                // Disable to prevent OTF font loading, which aren't part of our\n",
              "                // distribution.\n",
              "                'imageFont': null,\n",
              "            },\n",
              "            'messageStyle': 'none'\n",
              "            });\n",
              "            mathjax.Hub.Configured();\n",
              "        })();\n",
              "        </script>\n",
              "        "
            ],
            "text/plain": [
              "<IPython.core.display.HTML object>"
            ]
          },
          "metadata": {
            "tags": []
          }
        },
        {
          "output_type": "display_data",
          "data": {
            "application/vnd.jupyter.widget-view+json": {
              "model_id": "40415686e93a4a0a9d6ee8bb00ff0c8c",
              "version_minor": 0,
              "version_major": 2
            },
            "text/plain": [
              "VBox(children=(Output(), RadioButtons(options=('2.2', '0.81', '0.405', '1.5'), value='2.2'), HTML(value='<br>'…"
            ]
          },
          "metadata": {
            "tags": []
          }
        }
      ]
    },
    {
      "cell_type": "markdown",
      "metadata": {
        "id": "9Mi_5jSdCxDG",
        "colab_type": "text"
      },
      "source": [
        "<!--@slideshow slide-->\n",
        "## TF-IDF implementation"
      ]
    },
    {
      "cell_type": "code",
      "metadata": {
        "id": "CtMbh-KMpmvM",
        "colab_type": "code",
        "colab": {}
      },
      "source": [
        "#@slideshow fragment\n",
        "from collections import defaultdict, Counter\n",
        "# 1. Compute IDF for all terms.\n",
        "#    Remember that we've already computed term counts for all documents.\n",
        "#    Document_term_counter[document][term] = term_count_in_document.\n",
        "\n",
        "# For each term, compute the number of documents where the term occurs\n",
        "term_counter = Counter()\n",
        "for document in document_term_counter:\n",
        "    for term in document_term_counter[document]:\n",
        "        term_counter[term] += 1\n",
        "# compute term IDFs from term counts\n",
        "num_documents = len(document_term_counter)\n",
        "from math import log\n",
        "term_idf = {\n",
        "    term: log(num_documents / term_count)\n",
        "    for term, term_count in term_counter.items()\n",
        "}\n",
        "\n",
        "# 2. Compute TF-IDF for all terms and documents\n",
        "document_term_tfidf = defaultdict(Counter)\n",
        "for document in document_term_counter:\n",
        "    word_tfidf = {}\n",
        "    for term in document_term_counter[document]:\n",
        "        tf = document_term_counter[document][term]\n",
        "        idf = term_idf[term]\n",
        "        document_term_tfidf[document][term] = tf * idf"
      ],
      "execution_count": 0,
      "outputs": []
    },
    {
      "cell_type": "code",
      "metadata": {
        "id": "LYHkmdJZB1rh",
        "colab_type": "code",
        "colab": {}
      },
      "source": [
        "# visualize\n",
        "documents = []\n",
        "terms = []\n",
        "weights = []\n",
        "\n",
        "for d in sorted(document_term_tfidf):\n",
        "    documents.append(d)\n",
        "    # get the most frequent term and its count\n",
        "    term = max(document_term_tfidf[d], key=lambda t: document_term_tfidf[d][t])\n",
        "    terms.append(term)\n",
        "    weights.append(document_term_tfidf[d][term])\n",
        "\n",
        "def print_tweets_by_date(tweets, d):\n",
        "    from pprint import pprint\n",
        "    for tweet in tweets:\n",
        "        if tweet.get(\"is_retweet\"):\n",
        "            continue\n",
        "        if parse_datetime(tweet[\"created_at\"]).date() == d:\n",
        "            pprint(tweet[\"text\"])\n",
        "            print(\"---\")"
      ],
      "execution_count": 0,
      "outputs": []
    },
    {
      "cell_type": "markdown",
      "metadata": {
        "id": "n7hfXZ4C3GW4",
        "colab_type": "text"
      },
      "source": [
        "<!--@slideshow slide-->\n",
        "## Colab demo: insights from daily TF-IDF"
      ]
    },
    {
      "cell_type": "code",
      "metadata": {
        "id": "tXEw-vcKERPO",
        "colab_type": "code",
        "outputId": "f4ea0ff9-8d8e-4427-9a92-68faba337b5d",
        "colab": {
          "base_uri": "https://localhost:8080/",
          "height": 1000
        }
      },
      "source": [
        "# look at the period of Trump's impeachment\n",
        "from datetime import date\n",
        "html = calendar_table(\n",
        "    documents,\n",
        "    terms,\n",
        "    weights,\n",
        "    from_datetime=date(2019, 12, 1),\n",
        "    to_datetime=date(2020, 2, 1),\n",
        ")\n",
        "display(HTML(html))"
      ],
      "execution_count": 0,
      "outputs": [
        {
          "output_type": "display_data",
          "data": {
            "text/html": [
              "<style>\n",
              "    th, td {\n",
              "      padding: 8px;\n",
              "      text-align: center;\n",
              "      border-bottom: 1px solid #ddd;\n",
              "      font-size: 20;\n",
              "    }\n",
              "    tr {\n",
              "      font-size: 20;\n",
              "    }\n",
              "    </style><table><tr><th>week</th><th>Mon</th><th>Tue</th><th>Wed</th><th>Thu</th><th>Fri</th><th>Sat</th><th>Sun</th></tr><tr><td>2019-11-25 - 2019-12-01</td><td></td><td></td><td></td><td></td><td></td><td></td><td><div style=\"color:rgba(0, 0, 255, 0.8);font-weight:bold\">AIDS</div></td></tr><tr><td>2019-12-02 - 2019-12-08</td><td><div style=\"color:rgba(0, 0, 255, 0.6754912096843249);font-weight:bold\">Impeachment</div></td><td><div style=\"color:rgba(0, 0, 255, 0.2);font-weight:bold\">https://t.co/KDVaYDKZLa</div></td><td><div style=\"color:rgba(0, 0, 255, 0.5349093273743553);font-weight:bold\">NATO</div></td><td><div style=\"color:rgba(0, 0, 255, 0.2163195068360432);font-weight:bold\">brother</div></td><td><div style=\"color:rgba(0, 0, 255, 0.4053941898877263);font-weight:bold\">Saudi</div></td><td><div style=\"color:rgba(0, 0, 255, 0.3755710717904638);font-weight:bold\">phone</div></td><td><div style=\"color:rgba(0, 0, 255, 0.37972233351221696);font-weight:bold\">evidence</div></td></tr><tr><td>2019-12-09 - 2019-12-15</td><td><div style=\"color:rgba(0, 0, 255, 0.2);font-weight:bold\">https://t.co/1seRjQ11ru</div></td><td><div style=\"color:rgba(0, 0, 255, 0.3423886182708995);font-weight:bold\">FBI</div></td><td><div style=\"color:rgba(0, 0, 255, 0.45715593053389214);font-weight:bold\">ONE</div></td><td><div style=\"color:rgba(0, 0, 255, 0.4);font-weight:bold\">https://t.co/powyhHM50y</div></td><td><div style=\"color:rgba(0, 0, 255, 0.4457201687402515);font-weight:bold\">Boris</div></td><td><div style=\"color:rgba(0, 0, 255, 0.4);font-weight:bold\">irreparable</div></td><td><div style=\"color:rgba(0, 0, 255, 0.4556272521129094);font-weight:bold\">I.G.</div></td></tr><tr><td>2019-12-16 - 2019-12-22</td><td><div style=\"color:rgba(0, 0, 255, 0.4796500684452495);font-weight:bold\">....</div></td><td><div style=\"color:rgba(0, 0, 255, 0.4491983100078284);font-weight:bold\">Endorsement</div></td><td><div style=\"color:rgba(0, 0, 255, 0.4);font-weight:bold\">ASSAULT</div></td><td><div style=\"color:rgba(0, 0, 255, 0.5291466664110878);font-weight:bold\">Nothing</div></td><td><div style=\"color:rgba(0, 0, 255, 0.4291644980212534);font-weight:bold\">religion</div></td><td><div style=\"color:rgba(0, 0, 255, 0.34765524896649025);font-weight:bold\">Mac</div></td><td><div style=\"color:rgba(0, 0, 255, 0.2518252584008914);font-weight:bold\">Majority</div></td></tr><tr><td>2019-12-23 - 2019-12-29</td><td><div style=\"color:rgba(0, 0, 255, 0.7227630817456532);font-weight:bold\">trial</div></td><td><div style=\"color:rgba(0, 0, 255, 0.34765524896649025);font-weight:bold\">Constitution</div></td><td><div style=\"color:rgba(0, 0, 255, 0.2);font-weight:bold\">https://t.co/e7ZCOVe98F</div></td><td><div style=\"color:rgba(0, 0, 255, 0.873963003780948);font-weight:bold\">homeless</div></td><td><div style=\"color:rgba(0, 0, 255, 0.36571559305338924);font-weight:bold\">Tribe</div></td><td><div style=\"color:rgba(0, 0, 255, 0.31257690946776373);font-weight:bold\">Nancy</div></td><td><div style=\"color:rgba(0, 0, 255, 0.2);font-weight:bold\">Monsey</div></td></tr><tr><td>2019-12-30 - 2020-01-05</td><td><div style=\"color:rgba(0, 0, 255, 0.2);font-weight:bold\">Coupled</div></td><td><div style=\"color:rgba(0, 0, 255, 0.7795912817142701);font-weight:bold\">Embassy</div></td><td><div style=\"color:rgba(0, 0, 255, 0.2);font-weight:bold\">https://t.co/EVAEYD1AgV</div></td><td><div style=\"color:rgba(0, 0, 255, 0.2);font-weight:bold\">sputter</div></td><td><div style=\"color:rgba(0, 0, 255, 0.5462652376436983);font-weight:bold\">argument</div></td><td><div style=\"color:rgba(0, 0, 255, 0.3861338456195852);font-weight:bold\">Iran</div></td><td><div style=\"color:rgba(0, 0, 255, 0.21062795410372387);font-weight:bold\">strike</div></td></tr><tr><td>2020-01-06 - 2020-01-12</td><td><div style=\"color:rgba(0, 0, 255, 0.27709168673693646);font-weight:bold\">continuation</div></td><td><div style=\"color:rgba(0, 0, 255, 0.2);font-weight:bold\">@kbsalsaud</div></td><td><div style=\"color:rgba(0, 0, 255, 0.2);font-weight:bold\">Missiles</div></td><td><div style=\"color:rgba(0, 0, 255, 0.3670933012940332);font-weight:bold\">%</div></td><td><div style=\"color:rgba(0, 0, 255, 0.2628623722135569);font-weight:bold\">@Varneyco</div></td><td><div style=\"color:rgba(0, 0, 255, 0.7314311861067784);font-weight:bold\">شما</div></td><td><div style=\"color:rgba(0, 0, 255, 0.7314311861067784);font-weight:bold\">ICIG</div></td></tr><tr><td>2020-01-13 - 2020-01-19</td><td><div style=\"color:rgba(0, 0, 255, 0.49714677916016764);font-weight:bold\">Existing</div></td><td><div style=\"color:rgba(0, 0, 255, 0.20650373764161517);font-weight:bold\">trial</div></td><td><div style=\"color:rgba(0, 0, 255, 0.2499208104332447);font-weight:bold\">party</div></td><td><div style=\"color:rgba(0, 0, 255, 0.2);font-weight:bold\">https://t.co/jVr7qmYOvu</div></td><td><div style=\"color:rgba(0, 0, 255, 0.828577965266946);font-weight:bold\">به</div></td><td><div style=\"color:rgba(0, 0, 255, 0.2);font-weight:bold\">16.9</div></td><td><div style=\"color:rgba(0, 0, 255, 0.6000000000000001);font-weight:bold\">@paulkrugman</div></td></tr><tr><td>2020-01-20 - 2020-01-26</td><td><div style=\"color:rgba(0, 0, 255, 0.2471110316360557);font-weight:bold\">fairness</div></td><td><div style=\"color:rgba(0, 0, 255, 0.34286694790041905);font-weight:bold\">Roger</div></td><td><div style=\"color:rgba(0, 0, 255, 0.4);font-weight:bold\">@Davos</div></td><td><div style=\"color:rgba(0, 0, 255, 0.3317611588653668);font-weight:bold\">Democrats</div></td><td><div style=\"color:rgba(0, 0, 255, 0.34286694790041905);font-weight:bold\">Cryin</div></td><td><div style=\"color:rgba(0, 0, 255, 0.2533092036316219);font-weight:bold\">Impeachment</div></td><td><div style=\"color:rgba(0, 0, 255, 0.4556272521129094);font-weight:bold\">Bryant</div></td></tr><tr><td>2020-01-27 - 2020-02-02</td><td><div style=\"color:rgba(0, 0, 255, 0.4457201687402515);font-weight:bold\">Bolton</div></td><td><div style=\"color:rgba(0, 0, 255, 0.26697497966246386);font-weight:bold\">three</div></td><td><div style=\"color:rgba(0, 0, 255, 0.33774560484216243);font-weight:bold\">Impeachment</div></td><td><div style=\"color:rgba(0, 0, 255, 0.28139543858266647);font-weight:bold\">Coronavirus</div></td><td><div style=\"color:rgba(0, 0, 255, 0.49714677916016764);font-weight:bold\">Witnesses</div></td><td><div style=\"color:rgba(0, 0, 255, 0.22007791750278485);font-weight:bold\">Greatest</div></td><td></td></tr></table>"
            ],
            "text/plain": [
              "<IPython.core.display.HTML object>"
            ]
          },
          "metadata": {
            "tags": []
          }
        }
      ]
    },
    {
      "cell_type": "code",
      "metadata": {
        "id": "oVPMrhQaG6HO",
        "colab_type": "code",
        "outputId": "c277a1ba-826f-402f-deb0-60cd2a1a6104",
        "colab": {
          "base_uri": "https://localhost:8080/",
          "height": 1000
        }
      },
      "source": [
        "# the first time \"impeachment\" becomes \"word of a day\"\n",
        "print_tweets_by_date(tweets, date(2019, 12, 2))"
      ],
      "execution_count": 0,
      "outputs": [
        {
          "output_type": "stream",
          "text": [
            "('Mini Mike Bloomberg has instructed his third rate news organization not to '\n",
            " 'investigate him or any Democrat, but to go after President Trump, only. The '\n",
            " 'Failing New York Times thinks that is O.K., because their hatred &amp; bias '\n",
            " 'is so great they can’t even see straight. It’s not O.K.!')\n",
            "---\n",
            "('Just landed in the United Kingdom, heading to London for NATO meetings '\n",
            " 'tomorrow. Prior to landing I read the Republicans Report on the Impeachment '\n",
            " 'Hoax. Great job! Radical Left has NO CASE. Read the Transcripts. Shouldn’t '\n",
            " 'even be allowed. Can we go to Supreme Court to stop?')\n",
            "---\n",
            "('The Fed should lower rates (there is almost no inflation) and loosen, making '\n",
            " 'us competitive with other nations, and manufacturing will SOAR! Dollar is '\n",
            " 'very strong relative to others.')\n",
            "---\n",
            "('Manufacturers are being held back by the strong Dollar, which is being '\n",
            " 'propped up by the ridiculous policies of the Federal Reserve - Which has '\n",
            " 'called interest rates and quantitative tightening wrong from the first days '\n",
            " 'of Jay Powell!')\n",
            "---\n",
            "'https://t.co/zlfV4MOkom'\n",
            "---\n",
            "('Thank you to President Zelensky. Case over. The Do Nothing Democrats should '\n",
            " 'finally go back to work! https://t.co/XrJSUsm9Wq')\n",
            "---\n",
            "('In the 3 decades before my election, NATO spending declined by two-thirds, '\n",
            " 'and only 3 other NATO members were meeting their financial obligations. '\n",
            " 'Since I took office, the number of NATO allies fulfilling their obligations '\n",
            " 'more than DOUBLED, and NATO spending increased by $130B!')\n",
            "---\n",
            "('Great job by @RepDougCollins of Georgia over the weekend in representing the '\n",
            " 'Republican Party, and myself, against the Impeachment Hoax!')\n",
            "---\n",
            "('When Lisa Page, the lover of Peter Strzok, talks about being “crushed”, and '\n",
            " 'how innocent she is, ask her to read Peter’s “Insurance Policy” text, to '\n",
            " 'her, just in case Hillary loses. Also, why were the lovers text messages '\n",
            " 'scrubbed after he left Mueller. Where are they Lisa?')\n",
            "---\n",
            "('The Republican Party has NEVER been so united! This Impeachment Scam is just '\n",
            " 'a continuation of the 3 year Witch Hunt, but it is only bringing us even '\n",
            " 'closer together!')\n",
            "---\n",
            "('Not only did I see it @Doks_Art, I think it is fantastic. You are a '\n",
            " 'wonderful artist, never give up your dream! https://t.co/LVVCUJz5CW')\n",
            "---\n",
            "('Thank you to Great Republican @SenJohnKennedy for the job he did in '\n",
            " 'representing both the Republican Party and myself against Sleepy Eyes Chuck '\n",
            " 'Todd on Meet the Depressed!')\n",
            "---\n",
            "('Thank you to Congressman Ben @Cline4Virginia for the Great remarks this '\n",
            " 'morning on the illegitimate Impeachment Hoax. He understands the Do Nothing '\n",
            " 'Democrats very well. Also, and as usual, @RepAndyBiggsAZ was fantastic!')\n",
            "---\n",
            "('Heading to Europe to represent our Country and fight hard for the American '\n",
            " 'People while the Do Nothing Democrats purposely scheduled an Impeachment '\n",
            " 'Hoax hearing on the same date as NATO. Not nice! https://t.co/LCXYhoOWF6')\n",
            "---\n",
            "('The Do Nothing Democrats get 3 Constitutional lawyers for their Impeachment '\n",
            " 'hoax (they will need them!), the Republicans get one. Oh, that sounds fair!')\n",
            "---\n",
            "('“When the law enforcers turn out to be the law breakers, then we have '\n",
            " 'totally upended the rule of law. Nobody is safe and everybody is in trouble. '\n",
            " 'Our system of government is under attack.”  @GovMikeHuckabee')\n",
            "---\n",
            "('“The Democrats don’t have any evidence, but they are still going to do it '\n",
            " 'anyway. That’s the sham that’s going on here.”  @jasoninthehouse Chaffetz')\n",
            "---\n",
            "('Breaking News: The President of Ukraine has just again announced that '\n",
            " 'President Trump has done nothing wrong with respect to Ukraine and our '\n",
            " 'interactions or calls. If the Radical Left Democrats were sane, which they '\n",
            " 'are not, it would be case over!')\n",
            "---\n",
            "('“The United States has outperformed the rest of the world in an eye popping '\n",
            " 'fashion. I don’t think we’ve seen numbers like that.” Mohamed El-Erian, '\n",
            " 'Allianz Chief Economic Adviser. But despite this there is tremendous '\n",
            " 'potential for growth, far greater than most have understood!')\n",
            "---\n",
            "('“The American people are going to see this for what it is. It is a political '\n",
            " 'effort by the Democrats, and the President certainly doesn’t have to aid in '\n",
            " 'the Impeachment effort.” Robert Ray @MariaBartiromo  Democrats are getting '\n",
            " '“killed” in their home districts. 2020!')\n",
            "---\n",
            "('“The process has been unfair. Republicans can’t even get their own '\n",
            " 'witnesses. It gets me that Adam Schiff is not punishable for lying, in any '\n",
            " 'way.” @MariaBartiromo')\n",
            "---\n",
            "('U.S. Markets are up as much as 21% since the announcement of Tariffs on '\n",
            " '3/1/2018 - and the U.S. is taking in massive amounts of money (and giving '\n",
            " 'some to our farmers, who have been targeted by China)!')\n",
            "---\n",
            "('Brazil and Argentina have been presiding over a massive devaluation of their '\n",
            " 'currencies. which is not good for our farmers. Therefore, effective '\n",
            " 'immediately, I will restore the Tariffs on all Steel &amp; Aluminum that is '\n",
            " 'shipped into the U.S. from those countries. The Federal....')\n",
            "---\n",
            "('.....Reserve should likewise act so that countries, of which there are many, '\n",
            " 'no longer take advantage of our strong dollar by further devaluing their '\n",
            " 'currencies. This makes it very hard for our manufactures &amp; farmers to '\n",
            " 'fairly export their goods. Lower Rates &amp; Loosen - Fed!')\n",
            "---\n",
            "('“It is clear that there is none of the bipartisan support that Speaker '\n",
            " 'Pelosi said for months was essential for Impeachment.” Chris Wallace '\n",
            " '@FoxNews')\n",
            "---\n",
            "'“Trump Economy Breaks Holiday Shopping Records.” @FoxNews'\n",
            "---\n",
            "('Great writer and historian, Doug Wead, has written a true (not Fake News) '\n",
            " 'account of what is going on in Washington and the White House. His new book, '\n",
            " 'INSIDE TRUMP’S WHITE HOUSE, is an incredible description of a very exciting '\n",
            " 'and successful time in our Country’s history. Buy it!')\n",
            "---\n",
            "('“Donald Trump was framed back in 2016.” @MariaBartiromo  100% correct, '\n",
            " 'Maria, and we can never let this happen to another president again!')\n",
            "---\n"
          ],
          "name": "stdout"
        }
      ]
    },
    {
      "cell_type": "code",
      "metadata": {
        "id": "1wXud6nvHPBz",
        "colab_type": "code",
        "outputId": "e11df356-0259-4a5a-bba5-b4cd88bf9411",
        "colab": {
          "base_uri": "https://localhost:8080/",
          "height": 1000
        }
      },
      "source": [
        "# the second time \"impeachment\" becomes \"word of a day\"\n",
        "print_tweets_by_date(tweets, date(2020, 1, 29))"
      ],
      "execution_count": 0,
      "outputs": [
        {
          "output_type": "stream",
          "text": [
            "('Nancy Pelosi wants Congress to take away authority Presidents use to stand '\n",
            " 'up to other countries and defend AMERICANS. Stand with your Commander in '\n",
            " 'Chiefs!')\n",
            "---\n",
            "('With Votes in the House tomorrow, Democrats want to make it harder for '\n",
            " 'Presidents to defend America, and stand up to, as an example, Iran. Protect '\n",
            " 'our GREAT COUNTRY!')\n",
            "---\n",
            "'GAME OVER! https://t.co/yvMa6bPqfy'\n",
            "---\n",
            "'https://t.co/aX5WIX8B0O'\n",
            "---\n",
            "('For the first time in American History, we have replaced a disastrous Trade '\n",
            " 'Deal that REWARDED outsourcing with a truly FAIR and RECIPROCAL Trade Deal '\n",
            " 'that will keep jobs, wealth and growth right here in AMERICA! '\n",
            " 'https://t.co/bDe8IV9DyD')\n",
            "---\n",
            "('Thanks to our pro-worker, pro-American economic policies, unemployment is at '\n",
            " 'the lowest level in more than 50 years. We have created over 7 MILLION new '\n",
            " 'JOBS. More Americans are working today than EVER before. We have the hottest '\n",
            " 'ECONOMY on earth! https://t.co/TRGKRF7xgQ')\n",
            "---\n",
            "('USMCA is a cutting edge state of the art agreement that protects, defends '\n",
            " 'and serves the great people of our Country. Promises Made, Promises Kept! '\n",
            " 'https://t.co/PuiG1JPTTI')\n",
            "---\n",
            "('USMCA is a massive win for American manufacturers and auto workers! '\n",
            " 'https://t.co/eOgFm31cAo')\n",
            "---\n",
            "'They will never be satisfied! https://t.co/MXHFQXWC80'\n",
            "---\n",
            "'“The best evidence is the Transcript itself.”  Brad Blakeman  @FoxNews'\n",
            "---\n",
            "('There is much talk that certain Democrats are going to be voting with '\n",
            " 'Republicans on the Impeachment Hoax, so that the Senate can get back to the '\n",
            " 'business of taking care of the American people. Sorry, but Cryin’ Chuck '\n",
            " 'Schumer will never let that happen!')\n",
            "---\n",
            "('On the Iraq War Resolution being voted on tomorrow in the House of '\n",
            " 'Represenatives, we are down to 5000 soldiers, and going down, and I want '\n",
            " 'everyone, Republican and Democrat, to vote their HEART!')\n",
            "---\n",
            "('Mark Penn, Harris Poll: “It’s time to end the Impeachment Trial.” '\n",
            " '@foxandfriends  Just another political Hoax by the Dems!')\n",
            "---\n",
            "('Remember Republicans, the Democrats already had 17 witnesses, we were given '\n",
            " 'NONE! Witnesses are up to the House, not up to the Senate. Don’t let the '\n",
            " 'Dems play you!')\n",
            "---\n",
            "('....many more mistakes of judgement, gets fired because frankly, if I '\n",
            " 'listened to him, we would be in World War Six by now, and goes out and '\n",
            " 'IMMEDIATELY writes a nasty &amp; untrue book. All Classified National '\n",
            " 'Security. Who would do this?')\n",
            "---\n",
            "('For a guy who couldn’t get approved for the Ambassador to the U.N. years '\n",
            " 'ago, couldn’t get approved for anything since, “begged” me for a non Senate '\n",
            " 'approved job, which I gave him despite many saying “Don’t do it, sir,” takes '\n",
            " 'the job, mistakenly says “Libyan Model” on T.V., and..')\n",
            "---\n",
            "'Democrats admitting the Impeachment Hoax! https://t.co/AM6v5CpXR3'\n",
            "---\n",
            "'Thank you! https://t.co/XnUsalikF0'\n",
            "---\n",
            "'175,000 ticket requests. Keep America Great! https://t.co/CqExUfsJd0'\n",
            "---\n",
            "('Why didn’t John Bolton complain about this “nonsense” a long time ago, when '\n",
            " 'he was very publicly terminated. He said, not that it matters, NOTHING!')\n",
            "---\n",
            "('No matter how many witnesses you give the Democrats, no matter how much '\n",
            " 'information is given, like the quickly produced Transcripts, it will NEVER '\n",
            " 'be enough for them. They will always scream UNFAIR. The Impeachment Hoax is '\n",
            " 'just another political CON JOB!')\n",
            "---\n",
            "('If you want your children to inherit the blessings that generations of '\n",
            " 'Americans have fought and died to secure—then we must devote everything we '\n",
            " 'have toward victory in 2020. Only this way, can we save the America we love '\n",
            " '– and drain the Washington Swamp once and for all! https://t.co/5NeC0mFWfU')\n",
            "---\n",
            "('Democrats are now the party of high taxes, high crime, open borders, '\n",
            " 'late-term abortion, socialism, and blatant corruption. The Republican Party '\n",
            " 'is the party of the American Worker, the American Family, and the American '\n",
            " 'Dream! #TrumpRallyNJ #KAG2020 https://t.co/Kq5KFhQmgH')\n",
            "---\n",
            "'Thank you Wildwood, New Jersey! #KeepAmericaGreat🇺🇸https://t.co/Lbt8IKeNYu'\n",
            "---\n"
          ],
          "name": "stdout"
        }
      ]
    },
    {
      "cell_type": "code",
      "metadata": {
        "id": "ttUCY3-pCjz6",
        "colab_type": "code",
        "outputId": "e37eec20-2beb-4bc9-cac8-49d0ec3dab3b",
        "colab": {
          "base_uri": "https://localhost:8080/",
          "height": 850
        }
      },
      "source": [
        "# interestingly, Coronavirus becomes \"word of a day\" quite early\n",
        "print_tweets_by_date(tweets, date(2020, 1, 30))"
      ],
      "execution_count": 0,
      "outputs": [
        {
          "output_type": "stream",
          "text": [
            "('Working closely with China and others on Coronavirus outbreak. Only 5 people '\n",
            " 'in U.S., all in good recovery.')\n",
            "---\n",
            "'Leaving Michigan now, great visit, heading for Iowa. Big Rally!'\n",
            "---\n",
            "('BIGGEST TRADE DEAL EVER MADE, the USMCA, was signed yesterday and the Fake '\n",
            " 'News Media barely mentioned it. They never thought it could be done. They '\n",
            " 'have zero credibility!')\n",
            "---\n",
            "('Just landed in Michigan. Car companies, and many others, are building and '\n",
            " 'expanding here. Great to see!')\n",
            "---\n",
            "('Happy birthday today to two of the very best in Congress—@RepMikeJohnson '\n",
            " '(age 48) and @RepLeeZeldin (age 40—big one!). Two Great American Patriots!!')\n",
            "---\n",
            "('Congressman @MichaelCBurgess has done a Great job representing the people of '\n",
            " 'Texas. He continues to protect your very important Second Amendment. Mike is '\n",
            " 'Strong on Crime and the Border, he Loves our Great Vets and Military. Mike '\n",
            " 'has my Complete and Total Endorsement!')\n",
            "---\n",
            "('Congressman Brian @Babin4Congress of Texas has been a strong supporter of '\n",
            " 'our #MAGA Agenda. He is strong on the Second Amendment and Securing our '\n",
            " 'Border, he Loves our Great Vets and Military. Brian has my Complete and '\n",
            " 'Total Endorsement!')\n",
            "---\n",
            "'https://t.co/Kf24nTnc7E'\n",
            "---\n",
            "'https://t.co/OWYuHqbgAj'\n",
            "---\n",
            "'https://t.co/XWKEY5MIXL'\n",
            "---\n",
            "'https://t.co/alTg16dgM5'\n",
            "---\n",
            "('Great photos from a SOUTHERN BORDER WALL Briefing with Secretary of Defense, '\n",
            " 'Mark @EsperDoD! https://t.co/rpGHpdoIa6')\n",
            "---\n",
            "('“Schiff blasted for not focusing on California homeless.” @foxandfriends  '\n",
            " 'His District is in terrible shape. He is a corrupt pol who only dreams of '\n",
            " 'the Impeachment Hoax. In my opinion he is mentally deranged!')\n",
            "---\n",
            "'https://t.co/66006PDuKf'\n",
            "---\n",
            "'https://t.co/pXexddCGtT'\n",
            "---\n",
            "('Just received a briefing on the Coronavirus in China from all of our GREAT '\n",
            " 'agencies, who are also working closely with China. We will continue to '\n",
            " 'monitor the ongoing developments. We have the best experts anywhere in the '\n",
            " 'world, and they are on top of it 24/7! https://t.co/rrtF1Stk78')\n",
            "---\n"
          ],
          "name": "stdout"
        }
      ]
    },
    {
      "cell_type": "code",
      "metadata": {
        "id": "TBP5p87eH4uQ",
        "colab_type": "code",
        "outputId": "81a97205-f8c6-4eb4-a9a3-d1237e3e5ba2",
        "colab": {
          "base_uri": "https://localhost:8080/",
          "height": 1000
        }
      },
      "source": [
        "# look at the period of COVID-19 outbreak\n",
        "from datetime import date\n",
        "html = calendar_table(\n",
        "    documents,\n",
        "    terms,\n",
        "    weights,\n",
        "    from_datetime=date(2020, 3, 1),\n",
        "    to_datetime=date(2020, 5, 1),\n",
        ")\n",
        "display(HTML(html))"
      ],
      "execution_count": 0,
      "outputs": [
        {
          "output_type": "display_data",
          "data": {
            "text/html": [
              "<style>\n",
              "    th, td {\n",
              "      padding: 8px;\n",
              "      text-align: center;\n",
              "      border-bottom: 1px solid #ddd;\n",
              "      font-size: 20;\n",
              "    }\n",
              "    tr {\n",
              "      font-size: 20;\n",
              "    }\n",
              "    </style><table><tr><th>week</th><th>Mon</th><th>Tue</th><th>Wed</th><th>Thu</th><th>Fri</th><th>Sat</th><th>Sun</th></tr><tr><td>2020-02-24 - 2020-03-01</td><td></td><td></td><td></td><td></td><td></td><td></td><td><div style=\"color:rgba(0, 0, 255, 0.7413330949081671);font-weight:bold\">Mini</div></td></tr><tr><td>2020-03-02 - 2020-03-08</td><td><div style=\"color:rgba(0, 0, 255, 0.6496594014285586);font-weight:bold\">Michelle</div></td><td><div style=\"color:rgba(0, 0, 255, 0.9848840350393324);font-weight:bold\">ease</div></td><td><div style=\"color:rgba(0, 0, 255, 1.6223911618436213);font-weight:bold\">KAG2020</div></td><td><div style=\"color:rgba(0, 0, 255, 0.46354033195532035);font-weight:bold\">CoronaVirus</div></td><td><div style=\"color:rgba(0, 0, 255, 0.2971467791601677);font-weight:bold\">PROMISES</div></td><td><div style=\"color:rgba(0, 0, 255, 0.2);font-weight:bold\">@MariaLeeTN</div></td><td><div style=\"color:rgba(0, 0, 255, 0.3454328796859648);font-weight:bold\">Bernie</div></td></tr><tr><td>2020-03-09 - 2020-03-15</td><td><div style=\"color:rgba(0, 0, 255, 0.42209315787399965);font-weight:bold\">Steven</div></td><td><div style=\"color:rgba(0, 0, 255, 0.3966341435480545);font-weight:bold\">car</div></td><td><div style=\"color:rgba(0, 0, 255, 0.8111955809218105);font-weight:bold\">CoronaVirus</div></td><td><div style=\"color:rgba(0, 0, 255, 0.7314311861067784);font-weight:bold\">KEEPING</div></td><td><div style=\"color:rgba(0, 0, 255, 0.4805911084411694);font-weight:bold\">Swine</div></td><td><div style=\"color:rgba(0, 0, 255, 0.36571559305338924);font-weight:bold\">COVID-19</div></td><td><div style=\"color:rgba(0, 0, 255, 0.320394072294113);font-weight:bold\">conjunction</div></td></tr><tr><td>2020-03-16 - 2020-03-22</td><td><div style=\"color:rgba(0, 0, 255, 0.33143118610677846);font-weight:bold\">tele</div></td><td><div style=\"color:rgba(0, 0, 255, 0.2);font-weight:bold\">https://t.co/6gD7l9Po59</div></td><td><div style=\"color:rgba(0, 0, 255, 0.5462652376436983);font-weight:bold\">Virus</div></td><td><div style=\"color:rgba(0, 0, 255, 0.22299579368841144);font-weight:bold\">THANK</div></td><td><div style=\"color:rgba(0, 0, 255, 0.266054572924271);font-weight:bold\">Businesses</div></td><td><div style=\"color:rgba(0, 0, 255, 0.2);font-weight:bold\">https://t.co/hOFQEf1hUM</div></td><td><div style=\"color:rgba(0, 0, 255, 0.24280727979032563);font-weight:bold\">supply</div></td></tr><tr><td>2020-03-23 - 2020-03-29</td><td><div style=\"color:rgba(0, 0, 255, 0.4998416208664894);font-weight:bold\">WE</div></td><td><div style=\"color:rgba(0, 0, 255, 0.33143118610677846);font-weight:bold\">mask</div></td><td><div style=\"color:rgba(0, 0, 255, 0.320394072294113);font-weight:bold\">ventilator</div></td><td><div style=\"color:rgba(0, 0, 255, 0.36571559305338924);font-weight:bold\">Teleconference</div></td><td><div style=\"color:rgba(0, 0, 255, 0.40969892823277365);font-weight:bold\">Ventilators</div></td><td><div style=\"color:rgba(0, 0, 255, 0.4);font-weight:bold\">SOURCES</div></td><td><div style=\"color:rgba(0, 0, 255, 0.3855548914705578);font-weight:bold\">Lamestream</div></td></tr><tr><td>2020-03-30 - 2020-04-05</td><td><div style=\"color:rgba(0, 0, 255, 0.2);font-weight:bold\">https://t.co/Zt3mEb1h99</div></td><td><div style=\"color:rgba(0, 0, 255, 0.4957926794350681);font-weight:bold\">car</div></td><td><div style=\"color:rgba(0, 0, 255, 0.20089828056877396);font-weight:bold\">restaurant</div></td><td><div style=\"color:rgba(0, 0, 255, 0.5971205296880958);font-weight:bold\">hospital</div></td><td><div style=\"color:rgba(0, 0, 255, 0.345660500630158);font-weight:bold\">@USNationalGuard</div></td><td><div style=\"color:rgba(0, 0, 255, 0.36571559305338924);font-weight:bold\">@BankofAmerica</div></td><td><div style=\"color:rgba(0, 0, 255, 0.2);font-weight:bold\">6:45</div></td></tr><tr><td>2020-04-06 - 2020-04-12</td><td><div style=\"color:rgba(0, 0, 255, 0.2045638049286275);font-weight:bold\">Convention</div></td><td><div style=\"color:rgba(0, 0, 255, 0.4291644980212534);font-weight:bold\">Daniel</div></td><td><div style=\"color:rgba(0, 0, 255, 0.3454328796859648);font-weight:bold\">Bernie</div></td><td><div style=\"color:rgba(0, 0, 255, 0.2971467791601677);font-weight:bold\">Boris</div></td><td><div style=\"color:rgba(0, 0, 255, 0.4);font-weight:bold\">251</div></td><td><div style=\"color:rgba(0, 0, 255, 0.6309024150293772);font-weight:bold\">source</div></td><td><div style=\"color:rgba(0, 0, 255, 0.4);font-weight:bold\">philanthropist</div></td></tr><tr><td>2020-04-13 - 2020-04-19</td><td><div style=\"color:rgba(0, 0, 255, 0.582642002520632);font-weight:bold\">Ban</div></td><td><div style=\"color:rgba(0, 0, 255, 0.22705593921282446);font-weight:bold\">GET</div></td><td><div style=\"color:rgba(0, 0, 255, 0.291321001260316);font-weight:bold\">Steinbrenner</div></td><td><div style=\"color:rgba(0, 0, 255, 0.2);font-weight:bold\">https://t.co/lmb1H6I6en</div></td><td><div style=\"color:rgba(0, 0, 255, 0.5485733895800837);font-weight:bold\">W.H.O.</div></td><td><div style=\"color:rgba(0, 0, 255, 0.3855548914705578);font-weight:bold\">Lamestream</div></td><td><div style=\"color:rgba(0, 0, 255, 0.2731326188218491);font-weight:bold\">Ventilators</div></td></tr><tr><td>2020-04-20 - 2020-04-26</td><td><div style=\"color:rgba(0, 0, 255, 0.5942935583203353);font-weight:bold\">Testing</div></td><td><div style=\"color:rgba(0, 0, 255, 0.5654033412614509);font-weight:bold\">Tom</div></td><td><div style=\"color:rgba(0, 0, 255, 0.2971467791601677);font-weight:bold\">Cindy</div></td><td><div style=\"color:rgba(0, 0, 255, 1.2573852923278583);font-weight:bold\">Complete</div></td><td><div style=\"color:rgba(0, 0, 255, 0.9559641658764717);font-weight:bold\">Ventilators</div></td><td><div style=\"color:rgba(0, 0, 255, 0.40969892823277365);font-weight:bold\">Ventilators</div></td><td><div style=\"color:rgba(0, 0, 255, 1.0);font-weight:bold\">Noble</div></td></tr><tr><td>2020-04-27 - 2020-05-03</td><td><div style=\"color:rgba(0, 0, 255, 0.2222210202198195);font-weight:bold\">state</div></td><td><div style=\"color:rgba(0, 0, 255, 0.2);font-weight:bold\">https://t.co/shcVSYZmuY</div></td><td><div style=\"color:rgba(0, 0, 255, 0.2971467791601677);font-weight:bold\">Testing</div></td><td><div style=\"color:rgba(0, 0, 255, 0.39429355832033536);font-weight:bold\">Flynn</div></td><td><div style=\"color:rgba(0, 0, 255, 0.471169451051209);font-weight:bold\">Tom</div></td><td></td><td></td></tr></table>"
            ],
            "text/plain": [
              "<IPython.core.display.HTML object>"
            ]
          },
          "metadata": {
            "tags": []
          }
        }
      ]
    },
    {
      "cell_type": "markdown",
      "metadata": {
        "id": "jLU1TyZLMvg-",
        "colab_type": "text"
      },
      "source": [
        "<!--@slideshow slide-->\n",
        "## Remarks on TF-IDF\n",
        "1. The idea of TF-IDF is very general and can be applied outside of Text Mining domain.\n",
        "  > For example, a sequence of websites visited by a user can be treated as a \"document\", and each individual website is a \"term\".\n",
        "\n",
        "  > It doesn't tell you much if the user visits [facebook.com](https://colab.research.google.com/drive/1HBWC4XPaYmnyF8nF6OpAKSy1hLasZxuV?usp=sharing) 10 times a day.\n",
        "  \n",
        "  > But 10 visits of [stackoverflow.com](https://stackoverflow.com) per day may tell you something.\n",
        "\n",
        "2. You can look at the probabilistic interpretation of TF-IDF in the **[OPTIONAL]** section."
      ]
    },
    {
      "cell_type": "markdown",
      "metadata": {
        "id": "tpYeQ0hp57Wu",
        "colab_type": "text"
      },
      "source": [
        "# TF-IDF in sklearn"
      ]
    },
    {
      "cell_type": "markdown",
      "metadata": {
        "id": "TZUPEl_hQFCG",
        "colab_type": "text"
      },
      "source": [
        "<!--@slideshow slide-->\n",
        "# Transform texts to vectors\n",
        "\n",
        "In practice, it's convenient to have the finite number of terms.\n",
        "> We can use, say, 10000 the most common words, ignoring all the other words."
      ]
    },
    {
      "cell_type": "code",
      "metadata": {
        "id": "K7F24snAvqaF",
        "colab_type": "code",
        "outputId": "187bfdbb-8e77-44bf-c778-9a5397e87cab",
        "colab": {
          "base_uri": "https://localhost:8080/",
          "height": 539
        }
      },
      "source": [
        "#@slideshow slide tags=remove_input\n",
        "n_frequent_terms = 10000\n",
        "most_common_terms = set([x[0] for x in term_counter.most_common()][:n_frequent_terms])\n",
        "import random\n",
        "random.seed(42)\n",
        "\n",
        "tweets_data = []\n",
        "for random_tweet in random.choices(preprocessed_tweets, k=10):\n",
        "    original_tweet = \" \".join(random_tweet[1])\n",
        "    masked_tweet = []\n",
        "    for t in random_tweet[1]:\n",
        "        if t in most_common_terms:\n",
        "            masked_tweet.append(t)\n",
        "        else:\n",
        "            masked_tweet.append(\"<UNK>\")\n",
        "    tweet_with_rare_words_ignored = \" \".join(masked_tweet)\n",
        "    tweets_data.append((original_tweet, tweet_with_rare_words_ignored))\n",
        "\n",
        "from IPython.display import display, HTML\n",
        "display(HTML(tabulate(\n",
        "    tweets_data,\n",
        "    headers=(\n",
        "        \"Original tweets ({} terms)\".format(len(term_counter)),\n",
        "        \"Keep {} frequent terms\".format(n_frequent_terms)\n",
        "    ),\n",
        "    tablefmt=\"html\"\n",
        ")))"
      ],
      "execution_count": 0,
      "outputs": [
        {
          "output_type": "display_data",
          "data": {
            "text/html": [
              "<table>\n",
              "<thead>\n",
              "<tr><th>Original tweets (56238 terms)                                                                                                                                                                                                                                                                        </th><th>Keep 10000 frequent terms                                                                                                                                                                                                                                                                            </th></tr>\n",
              "</thead>\n",
              "<tbody>\n",
              "<tr><td>&quot; @Aaron_Yay : Trump be my new idol . His pastor be Norman Vincent Peale ? ! # NewThoughtPioneer - can not wait to read the Art of the Deal .                                                                                                                                                        </td><td>&quot; &lt;UNK&gt; : Trump be my new idol . His pastor be Norman Vincent Peale ? ! # &lt;UNK&gt; - can not wait to read the Art of the Deal .                                                                                                                                                                         </td></tr>\n",
              "<tr><td>.... THE UNITED STATES IS OPEN FOR BUSINESS !                                                                                                                                                                                                                                                        </td><td>.... THE UNITED STATES IS OPEN FOR BUSINESS !                                                                                                                                                                                                                                                        </td></tr>\n",
              "<tr><td>May God be w/ the people of Sutherland Springs , Texas . The FBI &amp; amp ; law enforcement be on the scene . I be monitor the situation from Japan .                                                                                                                                                   </td><td>May God be w/ the people of &lt;UNK&gt; Springs , Texas . The FBI &amp; amp ; law enforcement be on the scene . I be monitor the situation from Japan .                                                                                                                                                        </td></tr>\n",
              "<tr><td>CNN be work frantically to find their “ source . ” Look hard because it do not exist . Whatever be leave of CNN ’s credibility be now go !                                                                                                                                                           </td><td>CNN be work &lt;UNK&gt; to find their “ source . ” Look hard because it do not exist . Whatever be leave of CNN ’s credibility be now go !                                                                                                                                                                 </td></tr>\n",
              "<tr><td>Obama administration be kill American industrial renaissance by stop drill and fracking . Terrible for economy .                                                                                                                                                                                     </td><td>Obama administration be kill American industrial &lt;UNK&gt; by stop drill and fracking . Terrible for economy .                                                                                                                                                                                           </td></tr>\n",
              "<tr><td>&quot; @Noe Donald Trump : &quot; # RaffaeleSollecito be unfairly convict . He do not kill anyone . The Italian government should be ashamed . ” # innocent &quot;                                                                                                                                                  </td><td>&quot; &lt;UNK&gt; Donald Trump : &quot; # &lt;UNK&gt; be unfairly convict . He do not kill anyone . The Italian government should be ashamed . ” # innocent &quot;                                                                                                                                                             </td></tr>\n",
              "<tr><td>@henriwts @BaetensGert   Yes .                                                                                                                                                                                                                                                                       </td><td>&lt;UNK&gt; &lt;UNK&gt;   Yes .                                                                                                                                                                                                                                                                                  </td></tr>\n",
              "<tr><td>So if the so - call “ Whistleblower ” have all 2 hand information , and almost everything he have say about my “ perfect ” call with the Ukrainian President be wrong ( much to the embarrassment of Pelosi &amp; amp ; Schiff ) , why be not we entitle to interview &amp; amp ; learn everything about ....</td><td>So if the so - call “ Whistleblower ” have all 2 hand information , and almost everything he have say about my “ perfect ” call with the Ukrainian President be wrong ( much to the embarrassment of Pelosi &amp; amp ; Schiff ) , why be not we entitle to interview &amp; amp ; learn everything about ....</td></tr>\n",
              "<tr><td>&quot; @curtiscraven76 : @CNN @realDonaldTrump keep up your good work Mr trump cause u have my vote &quot;                                                                                                                                                                                                     </td><td>&quot; &lt;UNK&gt; : @CNN @realDonaldTrump keep up your good work Mr trump cause u have my vote &quot;                                                                                                                                                                                                               </td></tr>\n",
              "<tr><td>Congratulations to the Kansas City Chiefs on a great game , and a fantastic comeback , under immense pressure . You represent the Great State of Kansas and , in fact , the entire USA , so very good . Our Country be PROUD OF YOU !                                                                </td><td>Congratulations to the Kansas City Chiefs on a great game , and a fantastic comeback , under &lt;UNK&gt; pressure . You represent the Great State of Kansas and , in fact , the entire USA , so very good . Our Country be PROUD OF YOU !                                                                  </td></tr>\n",
              "</tbody>\n",
              "</table>"
            ],
            "text/plain": [
              "<IPython.core.display.HTML object>"
            ]
          },
          "metadata": {
            "tags": []
          }
        }
      ]
    },
    {
      "cell_type": "markdown",
      "metadata": {
        "id": "C3NoFD3TvuYO",
        "colab_type": "text"
      },
      "source": [
        "<!--@slideshow slide-->\n",
        "Our observations so far:\n",
        "1. For each term $t$ in each document $d \\in D$, we can compute $TFIDF(t, d, D)$.\n",
        "2. We can have the finite number of terms.\n",
        "\n",
        "Therefore, we can represent each document with the fixed set of TFIDFs."
      ]
    },
    {
      "cell_type": "markdown",
      "metadata": {
        "id": "TMzn0NXh6dXx",
        "colab_type": "text"
      },
      "source": [
        "<!--@slideshow fragment-->\n",
        "In other words, we can convert a document into a **vector**."
      ]
    },
    {
      "cell_type": "markdown",
      "metadata": {
        "id": "sSnmhyUM2qeD",
        "colab_type": "text"
      },
      "source": [
        "<!--@slideshow fragment-->\n",
        "But why?\n",
        "- To compute the distance between two documents (for example, to find similar documents).\n",
        "- Vectors are inputs for machine learning algorithms."
      ]
    },
    {
      "cell_type": "markdown",
      "metadata": {
        "id": "vLr1yKOt9lvr",
        "colab_type": "text"
      },
      "source": [
        "<!--@slideshow slide-->\n",
        "## Colab quiz 5\n",
        "The cosine distance between vectors $\\mathbb{v_1}$ and $\\mathbb{v_2}$ is computed as\n",
        "$$\n",
        "d(\\mathbb{v_1}, \\mathbb{v_2}) = 1 - \\frac{1}{2}\\cos(\\textrm{angle between }\\mathbb{v_1}\\textrm{ and }\\mathbb{v_2}) = \n",
        "$$\n",
        "$$ =1 - \\frac{1}{2}\\left(\\dfrac{\\mathbb{v_1}}{||\\mathbb{v_1}||}\\right) \\cdot \\left(\\dfrac{\\mathbb{v_2}}{||\\mathbb{v_2}||}\\right)\n",
        "$$\n",
        "\n",
        "where $||\\mathbb{v}|| = \\sqrt{\\sum_i v_i^2}$ is the Euclidean norm of $\\mathbb{v}$, and $\\mathbb{v} \\cdot \\mathbb{w} = \\sum_i v_i w_i$ is the dot product of $\\mathbb{v}$ and $\\mathbb{w}$.\n",
        "\n",
        "So the algorithm to compute $d(\\mathbb{v_1}, \\mathbb{v_2})$ is:\n",
        "1. Normalize the vectors: $\\mathbb{\\tilde v_1} = \\dfrac{\\mathbb{v_1}}{||\\mathbb{v_1}||}$,  $\\mathbb{\\tilde v_2} = \\dfrac{\\mathbb{v_2}}{||\\mathbb{v_2}||}$\n",
        "2. Compute the dot product between the normalized vectors $\\mathbb{\\tilde v_1} \\cdot \\mathbb{\\tilde v_2}$\n",
        "3. Compute the distance: $d(\\mathbb{v_1},~\\mathbb{v_2}) = 1 - \\mathbb{\\tilde v_1}~\\cdot~\\mathbb{\\tilde v_2}$"
      ]
    },
    {
      "cell_type": "code",
      "metadata": {
        "id": "XrLuny369lXV",
        "colab_type": "code",
        "outputId": "20300a28-e05e-400a-af94-e8b3e3356d32",
        "colab": {
          "base_uri": "https://localhost:8080/",
          "height": 245,
          "referenced_widgets": [
            "f68ef7ef50df485d9a8b190232ddaf76",
            "17e941627a6f42efbc11c5d90d8eaac0",
            "2d0b4bdd74c74b95bd090ee3882b4ca8",
            "90e4fca6bf96455a834ef2ab564a8360",
            "6465bbda1314472c8ad2c6db4c163f64",
            "91e5ae9ca6f946faa1d2016e5f00116d",
            "fce898c033d94826a7b5d1ae4d285d3b",
            "035ef841b5524738b283f8d547264be9",
            "3db2b40dfced4a21aca03bfda5f3ed54",
            "f0ecd08c6a424464b7795aa352d84d07",
            "7622ee588a3a4af4af2e74c53317a59b",
            "5bc7f96e2a354a8ca08325fcc1d9c6bd",
            "1b94e4281d524c4e86a2daf80643d04d",
            "c3571229099347ef8c224fa9d0a011aa",
            "4e0af45645a9415eb23f95b632281227",
            "42ace3f63754469c8b5d74175fcbd17f",
            "ef819a82218a47b58c0b26deb011c0be",
            "4dd3b95632a34a9890a17eb17aea7f21",
            "099dd6f3971a4b879a7adff3deab8df7",
            "7250a860ebb445dd97169e7607d5aedc",
            "0e4c8d79c0184dc1900db1445a3da3ca",
            "043aa82eb2fd48489efb6d2a30d8559b",
            "e50ed47d935f44c789f8913cacd104d6",
            "28553ba6e30342438e73a85b5abf02e3",
            "02c5ce83b0d34708ac9c9a97a6f2eb92",
            "6291b5a1dae746bbbe4b11d4afb56631",
            "b32732a5e42d42f2843323e5e47e7fe8",
            "eb288454b8e349e2a99c9af10b5fee91"
          ]
        }
      },
      "source": [
        "enable_mathjax_in_cell()\n",
        "quiz_vector_distance()()"
      ],
      "execution_count": 0,
      "outputs": [
        {
          "output_type": "display_data",
          "data": {
            "text/html": [
              "\n",
              "        <script src=\"https://www.gstatic.com/external_hosted/mathjax/latest/MathJax.js?config=TeX-AMS_HTML-full,Safe&delayStartupUntil=configured\"></script>\n",
              "        <script>\n",
              "            (() => {\n",
              "            const mathjax = window.MathJax;\n",
              "            mathjax.Hub.Config({\n",
              "            'tex2jax': {\n",
              "                'inlineMath': [['$', '$'], ['\\(', '\\)']],\n",
              "                'displayMath': [['$$', '$$'], ['\\[', '\\]']],\n",
              "                'processEscapes': true,\n",
              "                'processEnvironments': true,\n",
              "                'skipTags': ['script', 'noscript', 'style', 'textarea', 'code'],\n",
              "                'displayAlign': 'center',\n",
              "            },\n",
              "            'HTML-CSS': {\n",
              "                'styles': {'.MathJax_Display': {'margin': 0}},\n",
              "                'linebreaks': {'automatic': true},\n",
              "                // Disable to prevent OTF font loading, which aren't part of our\n",
              "                // distribution.\n",
              "                'imageFont': null,\n",
              "            },\n",
              "            'messageStyle': 'none'\n",
              "            });\n",
              "            mathjax.Hub.Configured();\n",
              "        })();\n",
              "        </script>\n",
              "        "
            ],
            "text/plain": [
              "<IPython.core.display.HTML object>"
            ]
          },
          "metadata": {
            "tags": []
          }
        },
        {
          "output_type": "display_data",
          "data": {
            "application/vnd.jupyter.widget-view+json": {
              "model_id": "f68ef7ef50df485d9a8b190232ddaf76",
              "version_minor": 0,
              "version_major": 2
            },
            "text/plain": [
              "VBox(children=(Output(), RadioButtons(options=('a', 'b', 'c'), value='a'), HTML(value='<br>'), Button(descript…"
            ]
          },
          "metadata": {
            "tags": []
          }
        }
      ]
    },
    {
      "cell_type": "markdown",
      "metadata": {
        "id": "Xsd37keI9qXc",
        "colab_type": "text"
      },
      "source": [
        "<!--@slideshow slide-->\n",
        "scikit-learn implements so-called \"vectorizers\" that convert texts into vectors."
      ]
    },
    {
      "cell_type": "code",
      "metadata": {
        "id": "lhbclaG0XJWB",
        "colab_type": "code",
        "outputId": "c16f4c91-6b44-48e8-87dd-eeaf763711a0",
        "colab": {
          "base_uri": "https://localhost:8080/",
          "height": 136
        }
      },
      "source": [
        "#@slideshow fragment\n",
        "# TfidfVectorizer converts texts into vectors\n",
        "from sklearn.feature_extraction.text import TfidfVectorizer\n",
        "\n",
        "# the texts we will vectorize\n",
        "data = [\n",
        "  \"One, two, three.\",\n",
        "  \"Two, three.\",\n",
        "  \"Three.\"\n",
        "]\n",
        "\n",
        "# Tfidf vectorizer has the \"smooth\" version of IDF\n",
        "# Here is the difference:\n",
        "#   idf = log(n_documents / count) + 1\n",
        "#   smooth_idf = log((n_documents + 1) / (count + 1)) + 1\n",
        "\n",
        "# Note that instead of \n",
        "#   idf = log(n_documents / count)\n",
        "# TfidfVectorizer computes\n",
        "#   idf = log(n_documents / count) + 1\n",
        "# It helps to distinguish 2 cases:\n",
        "#   1. TF-IDF(t, d, D) = 0 because the term t is absent in the document d\n",
        "#   2. TF-IDF(t, d, D) = 0 because the term t is present in each document in the collection D\n",
        "vectorizer = TfidfVectorizer(smooth_idf=False)\n",
        "\n",
        "# to compute TF-IDFs, use the method `.fit()`\n",
        "vectorizer.fit(data)"
      ],
      "execution_count": 0,
      "outputs": [
        {
          "output_type": "execute_result",
          "data": {
            "text/plain": [
              "TfidfVectorizer(analyzer='word', binary=False, decode_error='strict',\n",
              "                dtype=<class 'numpy.float64'>, encoding='utf-8',\n",
              "                input='content', lowercase=True, max_df=1.0, max_features=None,\n",
              "                min_df=1, ngram_range=(1, 1), norm='l2', preprocessor=None,\n",
              "                smooth_idf=False, stop_words=None, strip_accents=None,\n",
              "                sublinear_tf=False, token_pattern='(?u)\\\\b\\\\w\\\\w+\\\\b',\n",
              "                tokenizer=None, use_idf=True, vocabulary=None)"
            ]
          },
          "metadata": {
            "tags": []
          },
          "execution_count": 23
        }
      ]
    },
    {
      "cell_type": "code",
      "metadata": {
        "id": "VV6dkLc37S0k",
        "colab_type": "code",
        "outputId": "f64dc963-72f7-4224-e61f-108faa14850d",
        "colab": {
          "base_uri": "https://localhost:8080/",
          "height": 136
        }
      },
      "source": [
        "#@slideshow slide\n",
        "# vectorizer.vocabulary_ contains word -> index mapping\n",
        "print(\"vectorizer.vocabulary_:\", vectorizer.vocabulary_)\n",
        "# vectorizer.idf_ contains the idf value for each index\n",
        "print(\"vectorizer.idf_:\", vectorizer.idf_)\n",
        "\n",
        "# let's check that TfidfVectorizer uses the formula\n",
        "#   idf = log(n_documents / count) + 1\n",
        "# to do so, we restore word count from idf\n",
        "vectorizer_internals = []\n",
        "for word, idx in vectorizer.vocabulary_.items():\n",
        "  idf = vectorizer.idf_[idx]\n",
        "  n_documents = len(data)\n",
        "  count = n_documents / exp(idf - 1)\n",
        "  vectorizer_internals.append([word, idf, count])\n",
        "\n",
        "print(tabulate(vectorizer_internals, headers=[\"word\", \"idf\", \"count\"]))"
      ],
      "execution_count": 0,
      "outputs": [
        {
          "output_type": "stream",
          "text": [
            "vectorizer.vocabulary_: {'one': 0, 'two': 2, 'three': 1}\n",
            "vectorizer.idf_: [2.09861229 1.         1.40546511]\n",
            "word        idf    count\n",
            "------  -------  -------\n",
            "one     2.09861        1\n",
            "two     1.40547        2\n",
            "three   1              3\n"
          ],
          "name": "stdout"
        }
      ]
    },
    {
      "cell_type": "code",
      "metadata": {
        "id": "E9WHwrv4gHjG",
        "colab_type": "code",
        "outputId": "410900c6-5238-4649-9808-9f43eca853b3",
        "colab": {
          "base_uri": "https://localhost:8080/",
          "height": 51
        }
      },
      "source": [
        "#@slideshow slide\n",
        "# The trained vectorizer can be applied on new data\n",
        "new_data = [\n",
        "    \"Two, three, four\",\n",
        "    \"Five\",\n",
        "]\n",
        "pprint(vectorizer.transform(new_data).todense())"
      ],
      "execution_count": 0,
      "outputs": [
        {
          "output_type": "stream",
          "text": [
            "matrix([[0.        , 0.57973867, 0.81480247],\n",
            "        [0.        , 0.        , 0.        ]])\n"
          ],
          "name": "stdout"
        }
      ]
    },
    {
      "cell_type": "markdown",
      "metadata": {
        "id": "cTRD2Kl1ggUS",
        "colab_type": "text"
      },
      "source": [
        "<!--@slideshow fragment-->\n",
        "The `.transform()` method converts the input text array into matrix where:\n",
        "- $i$-th row corresponds to the $i$-th input text\n",
        "- $j$-th column corresponds to some term $t_j$ *from the training set*\n",
        "  > The mapping $t_j \\rightarrow j$ is stored in the `.vocabulary_` attribute.\n",
        "\n",
        "Note that:\n",
        "1. New words (\"four\", \"five\") are ignored.\n",
        "1. Non-zero vectors are normalized (have length 1)."
      ]
    },
    {
      "cell_type": "markdown",
      "metadata": {
        "id": "E3dFubxv5R4b",
        "colab_type": "text"
      },
      "source": [
        "<!--@slideshow slide-->\n",
        "## Colab quiz 6"
      ]
    },
    {
      "cell_type": "code",
      "metadata": {
        "id": "_mQlIxxa5Tsl",
        "colab_type": "code",
        "outputId": "c268674f-3936-47c5-b35a-a8fd7bfa9cee",
        "colab": {
          "base_uri": "https://localhost:8080/",
          "height": 294,
          "referenced_widgets": [
            "44c125111ce54a76908903393e9e7653",
            "be29c172fcd24ccfba612409d07a1e31",
            "7b1f8b185059444c8fe9229c6e4c9dcb",
            "2a1dc8768d8d4ab4aa2df4a3fec8263c",
            "82fa15d3c6a048e3a7a8e4bd1cdccdbf",
            "6fc963778489460f96cefcd213facb39",
            "82af160ed4bf42a194ded0e42d44bbcd",
            "444cdfdeec9e42419711e68e6d83b038",
            "270220cf0f2642b697898ea5d2d9ceb1",
            "f523145da4264133bfb39815dcc369f3",
            "4571413c90b24819accee8da42056b9f",
            "c32760b4734a4236a872a8d5ef0b92a1",
            "5a5c6555167647deacfe4c55fd681dba"
          ]
        }
      },
      "source": [
        "quiz_vectorizer_shape()()"
      ],
      "execution_count": 0,
      "outputs": [
        {
          "output_type": "display_data",
          "data": {
            "application/vnd.jupyter.widget-view+json": {
              "model_id": "44c125111ce54a76908903393e9e7653",
              "version_minor": 0,
              "version_major": 2
            },
            "text/plain": [
              "VBox(children=(Output(), RadioButtons(options=('1 row, 4 columns', '2 rows, 2 columns', '2 rows, 4 columns', '…"
            ]
          },
          "metadata": {
            "tags": []
          }
        }
      ]
    },
    {
      "cell_type": "markdown",
      "metadata": {
        "id": "MNPriLQveCv6",
        "colab_type": "text"
      },
      "source": [
        "<!--@slideshow slide-->\n",
        "By default, `TfidfVectorizer` performs simple tokenization: lowercasing, split by punctuation."
      ]
    },
    {
      "cell_type": "code",
      "metadata": {
        "id": "d-M75a6k9BAW",
        "colab_type": "code",
        "colab": {}
      },
      "source": [
        "from pprint import pprint"
      ],
      "execution_count": 0,
      "outputs": []
    },
    {
      "cell_type": "code",
      "metadata": {
        "id": "Qy9sKjaieW36",
        "colab_type": "code",
        "outputId": "cea4e128-473c-4a03-8c7f-94e934d146cb",
        "colab": {
          "base_uri": "https://localhost:8080/",
          "height": 51
        }
      },
      "source": [
        "#@slideshow fragment\n",
        "text = tweets[99][\"text\"]\n",
        "print(text)\n",
        "vectorizer = TfidfVectorizer().fit([text])\n",
        "pprint(vectorizer.vocabulary_)"
      ],
      "execution_count": 0,
      "outputs": [
        {
          "output_type": "stream",
          "text": [
            "Thank you! https://t.co/s3aLt9qTVZ\n",
            "{'co': 0, 'https': 1, 's3alt9qtvz': 2, 'thank': 3, 'you': 4}\n"
          ],
          "name": "stdout"
        }
      ]
    },
    {
      "cell_type": "markdown",
      "metadata": {
        "id": "CgFIQE5MeXft",
        "colab_type": "text"
      },
      "source": [
        "<!--@slideshow fragment-->\n",
        "But the tokenizer can be redefined:"
      ]
    },
    {
      "cell_type": "code",
      "metadata": {
        "id": "uzw1I1LLQvuS",
        "colab_type": "code",
        "outputId": "7ef62561-e1c6-4141-bdb0-a8a5baac371c",
        "colab": {
          "base_uri": "https://localhost:8080/",
          "height": 105
        }
      },
      "source": [
        "#@slideshow fragment\n",
        "nlp = spacy.load(\"en\", disable=[\"parser\", \"ner\", \"tagger\"])\n",
        "\n",
        "def spacy_tokenizer(text):\n",
        "    return [t.lemma_ for t in nlp(text)]\n",
        "\n",
        "text = tweets[99][\"text\"]\n",
        "print(text)\n",
        "vectorizer_spacy = TfidfVectorizer(tokenizer=spacy_tokenizer).fit([text])\n",
        "pprint(vectorizer_spacy.vocabulary_)"
      ],
      "execution_count": 0,
      "outputs": [
        {
          "output_type": "stream",
          "text": [
            "Thank you! https://t.co/s3aLt9qTVZ\n",
            "{'!': 0, 'https://t.co/s3alt9qtvz': 1, 'thank': 2, 'you': 3}\n"
          ],
          "name": "stdout"
        },
        {
          "output_type": "stream",
          "text": [
            "/usr/local/lib/python3.6/dist-packages/sklearn/feature_extraction/text.py:507: UserWarning: The parameter 'token_pattern' will not be used since 'tokenizer' is not None'\n",
            "  warnings.warn(\"The parameter 'token_pattern' will not be used\"\n"
          ],
          "name": "stderr"
        }
      ]
    },
    {
      "cell_type": "markdown",
      "metadata": {
        "id": "lePxdd8FaE6p",
        "colab_type": "text"
      },
      "source": [
        "<!--@slideshow slide-->\n",
        "# Text similarity with TF-IDF: Quora Question Pairs\n",
        "\n",
        "Now we will use TF-IDF vectors to find duplicates in Quora questions."
      ]
    },
    {
      "cell_type": "code",
      "metadata": {
        "id": "lWXCqNOCacNW",
        "colab_type": "code",
        "outputId": "8d4fa0d6-0595-4a76-8f1c-e4ca8255bf72",
        "colab": {
          "base_uri": "https://localhost:8080/",
          "height": 376
        }
      },
      "source": [
        "#@slideshow fragment\n",
        "import pandas as pd\n",
        "\n",
        "df = pd.read_csv(\"harbour-space-text-mining-course/datasets/quora_question_pairs/train.csv\")\n",
        "print(f\"Total samples: {df.shape[0]}\")\n",
        "# select a subset of rows to speed up the demonstration\n",
        "df = df.head(20000)\n",
        "# `is_duplicate` shows whether `question1` and `question2` are duplicates\n",
        "df[[\"question1\", \"question2\", \"is_duplicate\"]].head(10)"
      ],
      "execution_count": 0,
      "outputs": [
        {
          "output_type": "stream",
          "text": [
            "Total samples: 404290\n"
          ],
          "name": "stdout"
        },
        {
          "output_type": "execute_result",
          "data": {
            "text/html": [
              "<div>\n",
              "<style scoped>\n",
              "    .dataframe tbody tr th:only-of-type {\n",
              "        vertical-align: middle;\n",
              "    }\n",
              "\n",
              "    .dataframe tbody tr th {\n",
              "        vertical-align: top;\n",
              "    }\n",
              "\n",
              "    .dataframe thead th {\n",
              "        text-align: right;\n",
              "    }\n",
              "</style>\n",
              "<table border=\"1\" class=\"dataframe\">\n",
              "  <thead>\n",
              "    <tr style=\"text-align: right;\">\n",
              "      <th></th>\n",
              "      <th>question1</th>\n",
              "      <th>question2</th>\n",
              "      <th>is_duplicate</th>\n",
              "    </tr>\n",
              "  </thead>\n",
              "  <tbody>\n",
              "    <tr>\n",
              "      <th>0</th>\n",
              "      <td>What is the step by step guide to invest in sh...</td>\n",
              "      <td>What is the step by step guide to invest in sh...</td>\n",
              "      <td>0</td>\n",
              "    </tr>\n",
              "    <tr>\n",
              "      <th>1</th>\n",
              "      <td>What is the story of Kohinoor (Koh-i-Noor) Dia...</td>\n",
              "      <td>What would happen if the Indian government sto...</td>\n",
              "      <td>0</td>\n",
              "    </tr>\n",
              "    <tr>\n",
              "      <th>2</th>\n",
              "      <td>How can I increase the speed of my internet co...</td>\n",
              "      <td>How can Internet speed be increased by hacking...</td>\n",
              "      <td>0</td>\n",
              "    </tr>\n",
              "    <tr>\n",
              "      <th>3</th>\n",
              "      <td>Why am I mentally very lonely? How can I solve...</td>\n",
              "      <td>Find the remainder when [math]23^{24}[/math] i...</td>\n",
              "      <td>0</td>\n",
              "    </tr>\n",
              "    <tr>\n",
              "      <th>4</th>\n",
              "      <td>Which one dissolve in water quikly sugar, salt...</td>\n",
              "      <td>Which fish would survive in salt water?</td>\n",
              "      <td>0</td>\n",
              "    </tr>\n",
              "    <tr>\n",
              "      <th>5</th>\n",
              "      <td>Astrology: I am a Capricorn Sun Cap moon and c...</td>\n",
              "      <td>I'm a triple Capricorn (Sun, Moon and ascendan...</td>\n",
              "      <td>1</td>\n",
              "    </tr>\n",
              "    <tr>\n",
              "      <th>6</th>\n",
              "      <td>Should I buy tiago?</td>\n",
              "      <td>What keeps childern active and far from phone ...</td>\n",
              "      <td>0</td>\n",
              "    </tr>\n",
              "    <tr>\n",
              "      <th>7</th>\n",
              "      <td>How can I be a good geologist?</td>\n",
              "      <td>What should I do to be a great geologist?</td>\n",
              "      <td>1</td>\n",
              "    </tr>\n",
              "    <tr>\n",
              "      <th>8</th>\n",
              "      <td>When do you use シ instead of し?</td>\n",
              "      <td>When do you use \"&amp;\" instead of \"and\"?</td>\n",
              "      <td>0</td>\n",
              "    </tr>\n",
              "    <tr>\n",
              "      <th>9</th>\n",
              "      <td>Motorola (company): Can I hack my Charter Moto...</td>\n",
              "      <td>How do I hack Motorola DCX3400 for free internet?</td>\n",
              "      <td>0</td>\n",
              "    </tr>\n",
              "  </tbody>\n",
              "</table>\n",
              "</div>"
            ],
            "text/plain": [
              "                                           question1  ... is_duplicate\n",
              "0  What is the step by step guide to invest in sh...  ...            0\n",
              "1  What is the story of Kohinoor (Koh-i-Noor) Dia...  ...            0\n",
              "2  How can I increase the speed of my internet co...  ...            0\n",
              "3  Why am I mentally very lonely? How can I solve...  ...            0\n",
              "4  Which one dissolve in water quikly sugar, salt...  ...            0\n",
              "5  Astrology: I am a Capricorn Sun Cap moon and c...  ...            1\n",
              "6                                Should I buy tiago?  ...            0\n",
              "7                     How can I be a good geologist?  ...            1\n",
              "8                    When do you use シ instead of し?  ...            0\n",
              "9  Motorola (company): Can I hack my Charter Moto...  ...            0\n",
              "\n",
              "[10 rows x 3 columns]"
            ]
          },
          "metadata": {
            "tags": []
          },
          "execution_count": 29
        }
      ]
    },
    {
      "cell_type": "code",
      "metadata": {
        "id": "pOUD76sHt9st",
        "colab_type": "code",
        "outputId": "8ab836b3-2e28-4f1a-ebfc-c6c8f7ece9f6",
        "colab": {
          "base_uri": "https://localhost:8080/",
          "height": 207
        }
      },
      "source": [
        "#@slideshow slide\n",
        "import numpy as np\n",
        "from sklearn.model_selection import train_test_split\n",
        "\n",
        "# split the data into two parts\n",
        "# we will train TfidfVectorizer on the first (train) part and apply it on the second (test) part\n",
        "df_train, df_test = train_test_split(df.fillna(\".\"), test_size=0.5, shuffle=True, random_state=0)\n",
        "\n",
        "# we use spacy_tokenizer, but we could use the default one\n",
        "quora_vectorizer = TfidfVectorizer(tokenizer=spacy_tokenizer)\n",
        "\n",
        "# stack two columns: question1 first, question2 second\n",
        "questions = np.hstack([df_train.question1.values, df_train.question2.values])\n",
        "quora_vectorizer.fit(questions)"
      ],
      "execution_count": 0,
      "outputs": [
        {
          "output_type": "stream",
          "text": [
            "/usr/local/lib/python3.6/dist-packages/sklearn/feature_extraction/text.py:507: UserWarning: The parameter 'token_pattern' will not be used since 'tokenizer' is not None'\n",
            "  warnings.warn(\"The parameter 'token_pattern' will not be used\"\n"
          ],
          "name": "stderr"
        },
        {
          "output_type": "execute_result",
          "data": {
            "text/plain": [
              "TfidfVectorizer(analyzer='word', binary=False, decode_error='strict',\n",
              "                dtype=<class 'numpy.float64'>, encoding='utf-8',\n",
              "                input='content', lowercase=True, max_df=1.0, max_features=None,\n",
              "                min_df=1, ngram_range=(1, 1), norm='l2', preprocessor=None,\n",
              "                smooth_idf=True, stop_words=None, strip_accents=None,\n",
              "                sublinear_tf=False, token_pattern='(?u)\\\\b\\\\w\\\\w+\\\\b',\n",
              "                tokenizer=<function spacy_tokenizer at 0x7f5fb4915ea0>,\n",
              "                use_idf=True, vocabulary=None)"
            ]
          },
          "metadata": {
            "tags": []
          },
          "execution_count": 30
        }
      ]
    },
    {
      "cell_type": "code",
      "metadata": {
        "id": "VWU_7cZqy4lJ",
        "colab_type": "code",
        "colab": {}
      },
      "source": [
        "#@slideshow slide\n",
        "# extract TF-IDF vectors from the test data\n",
        "question_1_vectors = quora_vectorizer.transform(df_test.question1)\n",
        "question_2_vectors = quora_vectorizer.transform(df_test.question2)"
      ],
      "execution_count": 0,
      "outputs": []
    },
    {
      "cell_type": "code",
      "metadata": {
        "id": "n7A9Tq-47gcN",
        "colab_type": "code",
        "outputId": "407633c1-c4b7-4230-d496-ab01780ac86c",
        "colab": {
          "base_uri": "https://localhost:8080/",
          "height": 34
        }
      },
      "source": [
        "#@slideshow fragment\n",
        "from sklearn.metrics import roc_auc_score\n",
        "\n",
        "# compute distances between TF-IDF vectors\n",
        "# iterate over pairs using `zip()` generator\n",
        "# vectors are normalized, so the similarity = 1 - distance = dot product\n",
        "tf_idf_similarity = [\n",
        "    # v1, v2 are sparse matrices: convert their dot product into a dense matrix and then to a scalar\n",
        "    np.dot(v1, v2.T).todense().item()  \n",
        "    for v1, v2 in zip(question_1_vectors, question_2_vectors)\n",
        "]\n",
        "# evaluate ROC AUC score:\n",
        "#   - ROC AUC = 1 for perfect ranking\n",
        "#   - ROC AUC = 0.5 for random ranking\n",
        "print(\"ROC AUC:\", roc_auc_score(df_test.is_duplicate, tf_idf_similarity))"
      ],
      "execution_count": 0,
      "outputs": [
        {
          "output_type": "stream",
          "text": [
            "ROC AUC: 0.7190145081862447\n"
          ],
          "name": "stdout"
        }
      ]
    },
    {
      "cell_type": "markdown",
      "metadata": {
        "id": "MQH56yZkgXaO",
        "colab_type": "text"
      },
      "source": [
        "<!--@slideshow slide-->\n",
        "# Other sklearn vectorizers\n",
        "\n",
        "There are other vectorizers that convert texts into vectors. All of them implement the same `fit/transform` interface.\n",
        "1. `CountVectorizer`. Constructs the vector of term frequencies instead of TF-IDFs\n",
        "1. `HashingVectorizer`. Performs so-called \"one-hot encoding\". Converts the document into binary vector: 1 if the term occurs in the document and 0 otherwise.\n",
        "\n",
        "> Hashing vectorizer doesn't store the vocabulary - it  constructs vectors \"on the fly\" using hash function."
      ]
    },
    {
      "cell_type": "code",
      "metadata": {
        "id": "BjVCTDlgLanD",
        "colab_type": "code",
        "outputId": "1e0ee7d6-90e6-4a3e-ef5c-9568ab65bc4c",
        "colab": {
          "base_uri": "https://localhost:8080/",
          "height": 136
        }
      },
      "source": [
        "#@slideshow slide\n",
        "from sklearn.feature_extraction.text import TfidfVectorizer, CountVectorizer, HashingVectorizer\n",
        "data = [\n",
        "  \"one\",\n",
        "  \"one two\",\n",
        "  \"one two three\",\n",
        "]\n",
        "\n",
        "tfidf_vectorizer = TfidfVectorizer().fit(data)\n",
        "count_vectorizer = CountVectorizer().fit(data)\n",
        "hashing_vectorizer = HashingVectorizer().fit(data)\n",
        "\n",
        "new_data = [\n",
        "    \"one two two four\",\n",
        "    \"five\",\n",
        "]\n",
        "tfidf_transformed = tfidf_vectorizer.transform(new_data).todense()\n",
        "count_transformed = count_vectorizer.transform(new_data).todense()\n",
        "hashing_transformed = hashing_vectorizer.transform(new_data).todense()\n",
        "print(\"TfidfVectorizer\\n\", tfidf_transformed)\n",
        "print(\"CountVectorizer\\n\", count_transformed)\n",
        "print(\"HashingVectorizer shape:\", hashing_transformed.shape)"
      ],
      "execution_count": 0,
      "outputs": [
        {
          "output_type": "stream",
          "text": [
            "TfidfVectorizer\n",
            " [[0.361965   0.         0.93219169]\n",
            " [0.         0.         0.        ]]\n",
            "CountVectorizer\n",
            " [[1 0 2]\n",
            " [0 0 0]]\n",
            "HashingVectorizer shape: (2, 1048576)\n"
          ],
          "name": "stdout"
        }
      ]
    },
    {
      "cell_type": "markdown",
      "metadata": {
        "id": "XZXZeVuJEp7d",
        "colab_type": "text"
      },
      "source": [
        "<!--@slideshow slide-->\n",
        "# Coding session 2: `sklearn`"
      ]
    },
    {
      "cell_type": "markdown",
      "metadata": {
        "id": "Po3_OsMALCKu",
        "colab_type": "text"
      },
      "source": [
        "## Exercise 1\n",
        "Compare `TfidfVectorizer` and `CountVectorizer` on the Quora Question Pairs dataset. Which one gives higher ROC AUC?\n",
        "\n",
        "**Hints**:\n",
        "- You can use the same split into train and test."
      ]
    },
    {
      "cell_type": "code",
      "metadata": {
        "id": "yk54zbFHJU4f",
        "colab_type": "code",
        "outputId": "88a1b295-5734-4923-8fbd-2ec7cd2531d2",
        "colab": {
          "base_uri": "https://localhost:8080/",
          "height": 105
        }
      },
      "source": [
        "# YOUR CODE HERE\n",
        "import numpy as np\n",
        "from sklearn.model_selection import train_test_split\n",
        "from sklearn.metrics import roc_auc_score\n",
        "from sklearn.feature_extraction.text import TfidfVectorizer, CountVectorizer\n",
        "\n",
        "\n",
        "df_train, df_test = train_test_split(df.fillna(\".\"), test_size=0.5, shuffle=True, random_state=0)\n",
        "train_questions = np.hstack([df_train.question1.values, df_train.question2.values])\n",
        "\n",
        "tfidf_vectorizer = TfidfVectorizer(tokenizer=spacy_tokenizer)\n",
        "count_vectorizer = CountVectorizer(tokenizer=spacy_tokenizer)\n",
        "tfidf_vectorizer.fit(train_questions)\n",
        "count_vectorizer.fit(train_questions)\n",
        "\n",
        "tfidf_q1_vectors = tfidf_vectorizer.transform(df_test.question1)\n",
        "tfidf_q2_vectors = tfidf_vectorizer.transform(df_test.question2)\n",
        "count_q1_vectors = count_vectorizer.transform(df_test.question1)\n",
        "count_q2_vectors = count_vectorizer.transform(df_test.question2)\n",
        "\n",
        "tfidf_similarity = [\n",
        "    np.dot(v1, v2.T).todense().item()  \n",
        "    for v1, v2 in zip(tfidf_q1_vectors, tfidf_q2_vectors)\n",
        "]\n",
        "count_similarity = [\n",
        "    np.dot(v1, v2.T).todense().item()  \n",
        "    for v1, v2 in zip(count_q1_vectors, count_q2_vectors)\n",
        "]\n",
        "\n",
        "print(\"TFIDF Vectorizer ROC AUC:\", roc_auc_score(df_test.is_duplicate, tfidf_similarity))\n",
        "print(\"COUNT Vectorizer ROC AUC:\", roc_auc_score(df_test.is_duplicate, count_similarity))"
      ],
      "execution_count": 0,
      "outputs": [
        {
          "output_type": "stream",
          "text": [
            "/usr/local/lib/python3.6/dist-packages/sklearn/feature_extraction/text.py:507: UserWarning: The parameter 'token_pattern' will not be used since 'tokenizer' is not None'\n",
            "  warnings.warn(\"The parameter 'token_pattern' will not be used\"\n"
          ],
          "name": "stderr"
        },
        {
          "output_type": "stream",
          "text": [
            "TFIDF Vectorizer ROC AUC: 0.7190145081862447\n",
            "COUNT Vectorizer ROC AUC: 0.5911961529283892\n"
          ],
          "name": "stdout"
        }
      ]
    },
    {
      "cell_type": "markdown",
      "metadata": {
        "id": "kq_g7LNZJUdR",
        "colab_type": "text"
      },
      "source": [
        "## Exercise 2\n",
        "\n",
        "Compare the default tokenizer in `TfIdfVectorizer` and spaCy tokenizer. Which one gives higher ROC AUC?\n",
        "\n",
        "**Hints**:\n",
        "- You can use the same split into train and test."
      ]
    },
    {
      "cell_type": "code",
      "metadata": {
        "id": "tlI8zaeLJwF8",
        "colab_type": "code",
        "outputId": "21c7182e-d4a3-496f-f584-da6daa64272b",
        "colab": {
          "base_uri": "https://localhost:8080/",
          "height": 105
        }
      },
      "source": [
        "# YOUR CODE HERE\n",
        "tfidf_default_tokenizer = TfidfVectorizer()\n",
        "tfidf_spacy_tokenizer = TfidfVectorizer(tokenizer=spacy_tokenizer)\n",
        "\n",
        "tfidf_default_tokenizer.fit(train_questions)\n",
        "tfidf_spacy_tokenizer.fit(train_questions)\n",
        "\n",
        "default_q1_vectors = tfidf_default_tokenizer.transform(df_test.question1)\n",
        "default_q2_vectors = tfidf_default_tokenizer.transform(df_test.question2)\n",
        "spacy_q1_vectors = tfidf_spacy_tokenizer.transform(df_test.question1)\n",
        "spacy_q2_vectors = tfidf_spacy_tokenizer.transform(df_test.question2)\n",
        "\n",
        "tfidf_default_similarity = [\n",
        "    np.dot(v1, v2.T).todense().item()  \n",
        "    for v1, v2 in zip(default_q1_vectors, default_q2_vectors)\n",
        "]\n",
        "tfidf_spacy_similarity = [\n",
        "    np.dot(v1, v2.T).todense().item()  \n",
        "    for v1, v2 in zip(spacy_q1_vectors, spacy_q2_vectors)\n",
        "]\n",
        "\n",
        "print(\"TFIDF Default Tokenizer ROC AUC:\", roc_auc_score(df_test.is_duplicate, tfidf_default_similarity))\n",
        "print(\"TFIDF Spacy Tokenizer ROC AUC:\", roc_auc_score(df_test.is_duplicate, tfidf_spacy_similarity))"
      ],
      "execution_count": 0,
      "outputs": [
        {
          "output_type": "stream",
          "text": [
            "/usr/local/lib/python3.6/dist-packages/sklearn/feature_extraction/text.py:507: UserWarning: The parameter 'token_pattern' will not be used since 'tokenizer' is not None'\n",
            "  warnings.warn(\"The parameter 'token_pattern' will not be used\"\n"
          ],
          "name": "stderr"
        },
        {
          "output_type": "stream",
          "text": [
            "TFIDF Default Tokenizer ROC AUC: 0.7151965644376397\n",
            "TFIDF Spacy Tokenizer ROC AUC: 0.7190145081862447\n"
          ],
          "name": "stdout"
        }
      ]
    },
    {
      "cell_type": "markdown",
      "metadata": {
        "id": "xZna1CaPJ3pE",
        "colab_type": "text"
      },
      "source": [
        "## Exercise 3\n",
        "\n",
        "`TfIdfVectorizer` has the parameter `ngram_range`. Set it to `(1, 2)` and compare with the default one. Which one gives higher ROC AUC?\n",
        "\n",
        "**Hints**:\n",
        "- You can use the same split into train and test.\n",
        "- Use the default tokenizer, not the spaCy tokenizer.\n",
        "- `ngram_range=(1, 2)` means that terms are not only words but also subsequent word pairs (so-called *bigrams*). We will cover it in more details in the next lecture."
      ]
    },
    {
      "cell_type": "code",
      "metadata": {
        "id": "o2Q7-BW3KJAO",
        "colab_type": "code",
        "outputId": "057d9b8f-c7a3-4886-98c0-5fe3fa0b83a5",
        "colab": {
          "base_uri": "https://localhost:8080/",
          "height": 51
        }
      },
      "source": [
        "# YOUR CODE HERE\n",
        "ngram_default_tokenizer = TfidfVectorizer()\n",
        "ngram_12_tokenizer = TfidfVectorizer(ngram_range=(1, 2))\n",
        "\n",
        "ngram_default_tokenizer.fit(train_questions)\n",
        "ngram_12_tokenizer.fit(train_questions)\n",
        "\n",
        "default_q1_vectors = ngram_default_tokenizer.transform(df_test.question1)\n",
        "default_q2_vectors = ngram_default_tokenizer.transform(df_test.question2)\n",
        "ngram_q1_vectors = ngram_12_tokenizer.transform(df_test.question1)\n",
        "ngram_q2_vectors = ngram_12_tokenizer.transform(df_test.question2)\n",
        "\n",
        "ngram_default_similarity = [\n",
        "    np.dot(v1, v2.T).todense().item()  \n",
        "    for v1, v2 in zip(default_q1_vectors, default_q2_vectors)\n",
        "]\n",
        "ngram_12_similarity = [\n",
        "    np.dot(v1, v2.T).todense().item()  \n",
        "    for v1, v2 in zip(ngram_q1_vectors, ngram_q2_vectors)\n",
        "]\n",
        "\n",
        "print(\"TFIDF Default Ngram ROC AUC:\", roc_auc_score(df_test.is_duplicate, ngram_default_similarity))\n",
        "print(\"TFIDF Ngram_Range=(1, 2) ROC AUC:\", roc_auc_score(df_test.is_duplicate, ngram_12_similarity))"
      ],
      "execution_count": 0,
      "outputs": [
        {
          "output_type": "stream",
          "text": [
            "TFIDF Default Ngram ROC AUC: 0.7151965644376397\n",
            "TFIDF Ngram_Range=(1, 2) ROC AUC: 0.6801230491498611\n"
          ],
          "name": "stdout"
        }
      ]
    },
    {
      "cell_type": "markdown",
      "metadata": {
        "id": "VvQuz4sWKKaz",
        "colab_type": "text"
      },
      "source": [
        "## Exercise 4\n",
        "\n",
        "`TfIdfVectorizer` has the parameter `stop_words`. Set it to `\"english\"` and compare with the default one. Which one gives higher ROC AUC?\n",
        "\n",
        "**Hints**:\n",
        "- You can use the same split into train and test.\n",
        "- Use the default tokenizer, not the spaCy tokenizer.\n",
        "- `stop_words=\"english\"` means that the most frequent non-informative words are removed from the input data."
      ]
    },
    {
      "cell_type": "code",
      "metadata": {
        "id": "1IaM2ivIOGpG",
        "colab_type": "code",
        "outputId": "ba25cc88-24f5-4171-a0f1-e795fe8b435b",
        "colab": {
          "base_uri": "https://localhost:8080/",
          "height": 51
        }
      },
      "source": [
        "# YOUR CODE HERE\n",
        "# YOUR CODE HERE\n",
        "stopwords_default_tokenizer = TfidfVectorizer()\n",
        "stopwords_english_tokenizer = TfidfVectorizer(stop_words=\"english\")\n",
        "\n",
        "stopwords_default_tokenizer.fit(train_questions)\n",
        "stopwords_english_tokenizer.fit(train_questions)\n",
        "\n",
        "default_q1_vectors = stopwords_default_tokenizer.transform(df_test.question1)\n",
        "default_q2_vectors = stopwords_default_tokenizer.transform(df_test.question2)\n",
        "english_q1_vectors = stopwords_english_tokenizer.transform(df_test.question1)\n",
        "english_q2_vectors = stopwords_english_tokenizer.transform(df_test.question2)\n",
        "\n",
        "stopwords_default_similarity = [\n",
        "    np.dot(v1, v2.T).todense().item()  \n",
        "    for v1, v2 in zip(default_q1_vectors, default_q2_vectors)\n",
        "]\n",
        "stopwords_english_similarity = [\n",
        "    np.dot(v1, v2.T).todense().item()  \n",
        "    for v1, v2 in zip(english_q1_vectors, english_q2_vectors)\n",
        "]\n",
        "\n",
        "print(\"TFIDF Stopwords=Default ROC AUC:\", roc_auc_score(df_test.is_duplicate, stopwords_default_similarity))\n",
        "print(\"TFIDF Stopwords=English ROC AUC:\", roc_auc_score(df_test.is_duplicate, stopwords_english_similarity))"
      ],
      "execution_count": 0,
      "outputs": [
        {
          "output_type": "stream",
          "text": [
            "TFIDF Stopwords=Default ROC AUC: 0.7151965644376397\n",
            "TFIDF Stopwords=English ROC AUC: 0.7136266892114091\n"
          ],
          "name": "stdout"
        }
      ]
    },
    {
      "cell_type": "markdown",
      "metadata": {
        "id": "nWryVkCXeYBm",
        "colab_type": "text"
      },
      "source": [
        "<!--@slideshow slide-->\n",
        "# Lecture summary\n",
        "1. `spacy`: Python library for text analysis\n",
        "  - tokenization\n",
        "  - lemmatization\n",
        "  - named entity recognition\n",
        "1. TF-IDF: measure of the word informativity in the documents\n",
        "  - The product of term frequency (TF) and inverse document frequency (IDF)\n",
        "1. `TfidfVectorizer` in `sklearn`\n",
        "  - `fit()`, `transform()`\n",
        "1. TF-IDF vectors for text similarity\n",
        "  - Quora Question Pairs dataset"
      ]
    },
    {
      "cell_type": "markdown",
      "metadata": {
        "id": "pNfTlPdbmq8E",
        "colab_type": "text"
      },
      "source": [
        "<!--@slideshow slide-->\n",
        "# Recommended resources\n",
        "- [📖 Overview of Colaboratory Features](https://colab.research.google.com/notebooks/basic_features_overview.ipynb)\n",
        "- [📖 Natural Language Processing with Python, chapter 3\n",
        "](http://www.nltk.org/book/ch03.html)\n",
        "- [📖 Advanced NLP with spaCy, chapter 1](https://course.spacy.io/)\n",
        "- [📖 Lemma (morphology)](https://en.wikipedia.org/wiki/Lemma_(morphology))\n",
        "- [📖 Language Processing Pipelines with spaCy](https://spacy.io/usage/processing-pipelines)\n",
        "- [📖 Named Entity Recognition 101 with spaCy](https://spacy.io/usage/linguistic-features#named-entities)\n",
        "- [📖 TfidfVectorizer documentation](https://scikit-learn.org/stable/modules/generated/sklearn.feature_extraction.text.TfidfVectorizer.html)\n",
        "- [📖 Quora Question Pairs dataset](https://www.kaggle.com/c/quora-question-pairs/overview)"
      ]
    },
    {
      "cell_type": "markdown",
      "metadata": {
        "id": "-hEsGF74DZV2",
        "colab_type": "text"
      },
      "source": [
        "<!--@slideshow slide-->\n",
        "# [OPTIONAL] Probabilistic interpretation of TF-IDF\n",
        "\n",
        "Given the collection of documents $D$, for each $d \\in D$ we want to figure out which terms are the most specific for the document.\n",
        "\n",
        "Let the number of terms is finite: $T$ distinct terms.\n",
        "\n",
        "Let $p_t$ is the probability to find the term $t$ in a random document from $D$, and $f_t$ is the frequency of term $t$ in the document $d$ ($f_t$ may be 0).\n",
        "\n",
        "Then the product $\\prod_{t=1}^{T} p_i^{f_t}$ gives the probability that the document $d$ is generated randomly.\n",
        "\n",
        "Thus, the inverse quality $L_d = \\prod_{t=1}^{T} p_t^{-f_t}$ shows \"non-randomness\" of the document $d$\n",
        "\n",
        "Take the $\\log$:\n",
        "$$\n",
        "\\log L_d = \\sum_{t=1}^{T}f_t\\log\\left(\\frac{1}{p_t}\\right)\n",
        "$$\n",
        "The higher the $t$-th summand, the more the term $t$ makes the document \"non-random\".\n",
        "\n",
        "Note that $t_i\\log\\left(\\frac{1}{p_t}\\right) = TFIDF(t, d)$."
      ]
    }
  ]
}