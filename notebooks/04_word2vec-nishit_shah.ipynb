{
  "nbformat": 4,
  "nbformat_minor": 0,
  "metadata": {
    "colab": {
      "name": "4_word2vec.ipynb",
      "provenance": [],
      "collapsed_sections": [],
      "toc_visible": true
    },
    "kernelspec": {
      "name": "python3",
      "display_name": "Python 3"
    },
    "widgets": {
      "application/vnd.jupyter.widget-state+json": {
        "5350b5f142424e8e984d27a04a129c7b": {
          "model_module": "@jupyter-widgets/controls",
          "model_name": "VBoxModel",
          "state": {
            "_view_name": "VBoxView",
            "_dom_classes": [],
            "_model_name": "VBoxModel",
            "_view_module": "@jupyter-widgets/controls",
            "_model_module_version": "1.5.0",
            "_view_count": null,
            "_view_module_version": "1.5.0",
            "box_style": "",
            "layout": "IPY_MODEL_b7c2a9fd7e32495c85345e6000571f40",
            "_model_module": "@jupyter-widgets/controls",
            "children": [
              "IPY_MODEL_cf7efa4222cc4395b0f18013b39e102e",
              "IPY_MODEL_ec703c50674e410a9b7f7aedf8a4fdc7",
              "IPY_MODEL_e07d8873ab89451b94c68779bac308a5",
              "IPY_MODEL_b5f053981b9d44b7be9c864d6099a031"
            ]
          }
        },
        "b7c2a9fd7e32495c85345e6000571f40": {
          "model_module": "@jupyter-widgets/base",
          "model_name": "LayoutModel",
          "state": {
            "_view_name": "LayoutView",
            "grid_template_rows": null,
            "right": null,
            "justify_content": null,
            "_view_module": "@jupyter-widgets/base",
            "overflow": null,
            "_model_module_version": "1.2.0",
            "_view_count": null,
            "flex_flow": null,
            "width": null,
            "min_width": null,
            "border": null,
            "align_items": null,
            "bottom": null,
            "_model_module": "@jupyter-widgets/base",
            "top": null,
            "grid_column": null,
            "overflow_y": null,
            "overflow_x": null,
            "grid_auto_flow": null,
            "grid_area": null,
            "grid_template_columns": null,
            "flex": null,
            "_model_name": "LayoutModel",
            "justify_items": null,
            "grid_row": null,
            "max_height": null,
            "align_content": null,
            "visibility": null,
            "align_self": null,
            "height": null,
            "min_height": null,
            "padding": null,
            "grid_auto_rows": null,
            "grid_gap": null,
            "max_width": null,
            "order": null,
            "_view_module_version": "1.2.0",
            "grid_template_areas": null,
            "object_position": null,
            "object_fit": null,
            "grid_auto_columns": null,
            "margin": null,
            "display": null,
            "left": null
          }
        },
        "cf7efa4222cc4395b0f18013b39e102e": {
          "model_module": "@jupyter-widgets/output",
          "model_name": "OutputModel",
          "state": {
            "_view_name": "OutputView",
            "msg_id": "",
            "_dom_classes": [],
            "_model_name": "OutputModel",
            "outputs": [
              {
                "output_type": "display_data",
                "metadata": {
                  "tags": []
                },
                "application/vnd.jupyter.widget-view+json": {
                  "model_id": "45df07451bc148518336a644562bca78",
                  "version_minor": 0,
                  "version_major": 2
                },
                "text/plain": "HTML(value='\\n            Consider the following sentence:\\n            \"a skibidi is caught out of the sea at…"
              }
            ],
            "_view_module": "@jupyter-widgets/output",
            "_model_module_version": "1.0.0",
            "_view_count": null,
            "_view_module_version": "1.0.0",
            "layout": "IPY_MODEL_a11615640d304c3a88719b636808b582",
            "_model_module": "@jupyter-widgets/output"
          }
        },
        "ec703c50674e410a9b7f7aedf8a4fdc7": {
          "model_module": "@jupyter-widgets/controls",
          "model_name": "RadioButtonsModel",
          "state": {
            "_options_labels": [
              "definition 1",
              "definition 2",
              "definition 3",
              "definition 4"
            ],
            "_view_name": "RadioButtonsView",
            "style": "IPY_MODEL_79126a13164745d5af59d4de20b45e00",
            "_dom_classes": [],
            "description": "",
            "_model_name": "RadioButtonsModel",
            "index": 2,
            "_view_module": "@jupyter-widgets/controls",
            "_model_module_version": "1.5.0",
            "_view_count": null,
            "disabled": false,
            "_view_module_version": "1.5.0",
            "description_tooltip": null,
            "_model_module": "@jupyter-widgets/controls",
            "layout": "IPY_MODEL_464ce5d72cc64ee5af7b322551d23231"
          }
        },
        "e07d8873ab89451b94c68779bac308a5": {
          "model_module": "@jupyter-widgets/controls",
          "model_name": "HTMLModel",
          "state": {
            "_view_name": "HTMLView",
            "style": "IPY_MODEL_ce35bee27aec44dca4cc26a90c63cfd5",
            "_dom_classes": [],
            "description": "",
            "_model_name": "HTMLModel",
            "placeholder": "​",
            "_view_module": "@jupyter-widgets/controls",
            "_model_module_version": "1.5.0",
            "value": "<font color='green'>'definition 3' is the correct answer</font>",
            "_view_count": null,
            "_view_module_version": "1.5.0",
            "description_tooltip": null,
            "_model_module": "@jupyter-widgets/controls",
            "layout": "IPY_MODEL_22d7f3c50f3047feaa9abda1efca7667"
          }
        },
        "b5f053981b9d44b7be9c864d6099a031": {
          "model_module": "@jupyter-widgets/controls",
          "model_name": "ButtonModel",
          "state": {
            "_view_name": "ButtonView",
            "style": "IPY_MODEL_86b946aee67b4809926400a576bdbe53",
            "_dom_classes": [],
            "description": "Check",
            "_model_name": "ButtonModel",
            "button_style": "",
            "_view_module": "@jupyter-widgets/controls",
            "_model_module_version": "1.5.0",
            "tooltip": "",
            "_view_count": null,
            "disabled": false,
            "_view_module_version": "1.5.0",
            "layout": "IPY_MODEL_e407478289004c0eafc959158a491892",
            "_model_module": "@jupyter-widgets/controls",
            "icon": ""
          }
        },
        "79126a13164745d5af59d4de20b45e00": {
          "model_module": "@jupyter-widgets/controls",
          "model_name": "DescriptionStyleModel",
          "state": {
            "_view_name": "StyleView",
            "_model_name": "DescriptionStyleModel",
            "description_width": "",
            "_view_module": "@jupyter-widgets/base",
            "_model_module_version": "1.5.0",
            "_view_count": null,
            "_view_module_version": "1.2.0",
            "_model_module": "@jupyter-widgets/controls"
          }
        },
        "464ce5d72cc64ee5af7b322551d23231": {
          "model_module": "@jupyter-widgets/base",
          "model_name": "LayoutModel",
          "state": {
            "_view_name": "LayoutView",
            "grid_template_rows": null,
            "right": null,
            "justify_content": null,
            "_view_module": "@jupyter-widgets/base",
            "overflow": null,
            "_model_module_version": "1.2.0",
            "_view_count": null,
            "flex_flow": null,
            "width": null,
            "min_width": null,
            "border": null,
            "align_items": null,
            "bottom": null,
            "_model_module": "@jupyter-widgets/base",
            "top": null,
            "grid_column": null,
            "overflow_y": null,
            "overflow_x": null,
            "grid_auto_flow": null,
            "grid_area": null,
            "grid_template_columns": null,
            "flex": null,
            "_model_name": "LayoutModel",
            "justify_items": null,
            "grid_row": null,
            "max_height": null,
            "align_content": null,
            "visibility": null,
            "align_self": null,
            "height": null,
            "min_height": null,
            "padding": null,
            "grid_auto_rows": null,
            "grid_gap": null,
            "max_width": null,
            "order": null,
            "_view_module_version": "1.2.0",
            "grid_template_areas": null,
            "object_position": null,
            "object_fit": null,
            "grid_auto_columns": null,
            "margin": null,
            "display": null,
            "left": null
          }
        },
        "ce35bee27aec44dca4cc26a90c63cfd5": {
          "model_module": "@jupyter-widgets/controls",
          "model_name": "DescriptionStyleModel",
          "state": {
            "_view_name": "StyleView",
            "_model_name": "DescriptionStyleModel",
            "description_width": "",
            "_view_module": "@jupyter-widgets/base",
            "_model_module_version": "1.5.0",
            "_view_count": null,
            "_view_module_version": "1.2.0",
            "_model_module": "@jupyter-widgets/controls"
          }
        },
        "22d7f3c50f3047feaa9abda1efca7667": {
          "model_module": "@jupyter-widgets/base",
          "model_name": "LayoutModel",
          "state": {
            "_view_name": "LayoutView",
            "grid_template_rows": null,
            "right": null,
            "justify_content": null,
            "_view_module": "@jupyter-widgets/base",
            "overflow": null,
            "_model_module_version": "1.2.0",
            "_view_count": null,
            "flex_flow": null,
            "width": null,
            "min_width": null,
            "border": null,
            "align_items": null,
            "bottom": null,
            "_model_module": "@jupyter-widgets/base",
            "top": null,
            "grid_column": null,
            "overflow_y": null,
            "overflow_x": null,
            "grid_auto_flow": null,
            "grid_area": null,
            "grid_template_columns": null,
            "flex": null,
            "_model_name": "LayoutModel",
            "justify_items": null,
            "grid_row": null,
            "max_height": null,
            "align_content": null,
            "visibility": null,
            "align_self": null,
            "height": null,
            "min_height": null,
            "padding": null,
            "grid_auto_rows": null,
            "grid_gap": null,
            "max_width": null,
            "order": null,
            "_view_module_version": "1.2.0",
            "grid_template_areas": null,
            "object_position": null,
            "object_fit": null,
            "grid_auto_columns": null,
            "margin": null,
            "display": null,
            "left": null
          }
        },
        "86b946aee67b4809926400a576bdbe53": {
          "model_module": "@jupyter-widgets/controls",
          "model_name": "ButtonStyleModel",
          "state": {
            "_view_name": "StyleView",
            "_model_name": "ButtonStyleModel",
            "_view_module": "@jupyter-widgets/base",
            "_model_module_version": "1.5.0",
            "_view_count": null,
            "button_color": null,
            "font_weight": "",
            "_view_module_version": "1.2.0",
            "_model_module": "@jupyter-widgets/controls"
          }
        },
        "e407478289004c0eafc959158a491892": {
          "model_module": "@jupyter-widgets/base",
          "model_name": "LayoutModel",
          "state": {
            "_view_name": "LayoutView",
            "grid_template_rows": null,
            "right": null,
            "justify_content": null,
            "_view_module": "@jupyter-widgets/base",
            "overflow": null,
            "_model_module_version": "1.2.0",
            "_view_count": null,
            "flex_flow": null,
            "width": null,
            "min_width": null,
            "border": null,
            "align_items": null,
            "bottom": null,
            "_model_module": "@jupyter-widgets/base",
            "top": null,
            "grid_column": null,
            "overflow_y": null,
            "overflow_x": null,
            "grid_auto_flow": null,
            "grid_area": null,
            "grid_template_columns": null,
            "flex": null,
            "_model_name": "LayoutModel",
            "justify_items": null,
            "grid_row": null,
            "max_height": null,
            "align_content": null,
            "visibility": null,
            "align_self": null,
            "height": null,
            "min_height": null,
            "padding": null,
            "grid_auto_rows": null,
            "grid_gap": null,
            "max_width": null,
            "order": null,
            "_view_module_version": "1.2.0",
            "grid_template_areas": null,
            "object_position": null,
            "object_fit": null,
            "grid_auto_columns": null,
            "margin": null,
            "display": null,
            "left": null
          }
        },
        "45df07451bc148518336a644562bca78": {
          "model_module": "@jupyter-widgets/controls",
          "model_name": "HTMLModel",
          "state": {
            "_view_name": "HTMLView",
            "style": "IPY_MODEL_8aa2fc55c98f45dc821d7a9069045a72",
            "_dom_classes": [],
            "description": "",
            "_model_name": "HTMLModel",
            "placeholder": "​",
            "_view_module": "@jupyter-widgets/controls",
            "_model_module_version": "1.5.0",
            "value": "\n            Consider the following sentence:\n            \"a skibidi is caught out of the sea at Christmas\".\n            \n            What is \"skibidi\"?\n            <ol>\n                <li>the Chinese tea used to purify tea glasses for eye makeup and to make it more attractive</li>\n                <li>a small, slender elongated tubular labyrinth, typically having a rounded body and a spiral, twisted, curved part</li>\n                <li>a tall, slender, tapering, broad-shouldered fish of warm seas.</li>\n                <li>the stem of the long rib of a fungus, especially one which reveals the outer edge of the flower and can be found on the stalk of a variety of trees</li>\n            </ol>\n            Choose the correct answer below\n        ",
            "_view_count": null,
            "_view_module_version": "1.5.0",
            "description_tooltip": null,
            "_model_module": "@jupyter-widgets/controls",
            "layout": "IPY_MODEL_f9906e6afb234392a36ebfc9c37f020a"
          }
        },
        "a11615640d304c3a88719b636808b582": {
          "model_module": "@jupyter-widgets/base",
          "model_name": "LayoutModel",
          "state": {
            "_view_name": "LayoutView",
            "grid_template_rows": null,
            "right": null,
            "justify_content": null,
            "_view_module": "@jupyter-widgets/base",
            "overflow": null,
            "_model_module_version": "1.2.0",
            "_view_count": null,
            "flex_flow": null,
            "width": null,
            "min_width": null,
            "border": null,
            "align_items": null,
            "bottom": null,
            "_model_module": "@jupyter-widgets/base",
            "top": null,
            "grid_column": null,
            "overflow_y": null,
            "overflow_x": null,
            "grid_auto_flow": null,
            "grid_area": null,
            "grid_template_columns": null,
            "flex": null,
            "_model_name": "LayoutModel",
            "justify_items": null,
            "grid_row": null,
            "max_height": null,
            "align_content": null,
            "visibility": null,
            "align_self": null,
            "height": null,
            "min_height": null,
            "padding": null,
            "grid_auto_rows": null,
            "grid_gap": null,
            "max_width": null,
            "order": null,
            "_view_module_version": "1.2.0",
            "grid_template_areas": null,
            "object_position": null,
            "object_fit": null,
            "grid_auto_columns": null,
            "margin": null,
            "display": null,
            "left": null
          }
        },
        "8aa2fc55c98f45dc821d7a9069045a72": {
          "model_module": "@jupyter-widgets/controls",
          "model_name": "DescriptionStyleModel",
          "state": {
            "_view_name": "StyleView",
            "_model_name": "DescriptionStyleModel",
            "description_width": "",
            "_view_module": "@jupyter-widgets/base",
            "_model_module_version": "1.5.0",
            "_view_count": null,
            "_view_module_version": "1.2.0",
            "_model_module": "@jupyter-widgets/controls"
          }
        },
        "f9906e6afb234392a36ebfc9c37f020a": {
          "model_module": "@jupyter-widgets/base",
          "model_name": "LayoutModel",
          "state": {
            "_view_name": "LayoutView",
            "grid_template_rows": null,
            "right": null,
            "justify_content": null,
            "_view_module": "@jupyter-widgets/base",
            "overflow": null,
            "_model_module_version": "1.2.0",
            "_view_count": null,
            "flex_flow": null,
            "width": null,
            "min_width": null,
            "border": null,
            "align_items": null,
            "bottom": null,
            "_model_module": "@jupyter-widgets/base",
            "top": null,
            "grid_column": null,
            "overflow_y": null,
            "overflow_x": null,
            "grid_auto_flow": null,
            "grid_area": null,
            "grid_template_columns": null,
            "flex": null,
            "_model_name": "LayoutModel",
            "justify_items": null,
            "grid_row": null,
            "max_height": null,
            "align_content": null,
            "visibility": null,
            "align_self": null,
            "height": null,
            "min_height": null,
            "padding": null,
            "grid_auto_rows": null,
            "grid_gap": null,
            "max_width": null,
            "order": null,
            "_view_module_version": "1.2.0",
            "grid_template_areas": null,
            "object_position": null,
            "object_fit": null,
            "grid_auto_columns": null,
            "margin": null,
            "display": null,
            "left": null
          }
        },
        "c0c6196bfb6b4daa9c0cf07f6bc3641e": {
          "model_module": "@jupyter-widgets/controls",
          "model_name": "VBoxModel",
          "state": {
            "_view_name": "VBoxView",
            "_dom_classes": [],
            "_model_name": "VBoxModel",
            "_view_module": "@jupyter-widgets/controls",
            "_model_module_version": "1.5.0",
            "_view_count": null,
            "_view_module_version": "1.5.0",
            "box_style": "",
            "layout": "IPY_MODEL_7f39d84120234b64bcea7b40f6fcb01d",
            "_model_module": "@jupyter-widgets/controls",
            "children": [
              "IPY_MODEL_931a5a85f98e468789c0372065d9a841",
              "IPY_MODEL_2c2bb8fd87724dde9bb18591d983e68d"
            ]
          }
        },
        "7f39d84120234b64bcea7b40f6fcb01d": {
          "model_module": "@jupyter-widgets/base",
          "model_name": "LayoutModel",
          "state": {
            "_view_name": "LayoutView",
            "grid_template_rows": null,
            "right": null,
            "justify_content": null,
            "_view_module": "@jupyter-widgets/base",
            "overflow": null,
            "_model_module_version": "1.2.0",
            "_view_count": null,
            "flex_flow": null,
            "width": null,
            "min_width": null,
            "border": null,
            "align_items": null,
            "bottom": null,
            "_model_module": "@jupyter-widgets/base",
            "top": null,
            "grid_column": null,
            "overflow_y": null,
            "overflow_x": null,
            "grid_auto_flow": null,
            "grid_area": null,
            "grid_template_columns": null,
            "flex": null,
            "_model_name": "LayoutModel",
            "justify_items": null,
            "grid_row": null,
            "max_height": null,
            "align_content": null,
            "visibility": null,
            "align_self": null,
            "height": null,
            "min_height": null,
            "padding": null,
            "grid_auto_rows": null,
            "grid_gap": null,
            "max_width": null,
            "order": null,
            "_view_module_version": "1.2.0",
            "grid_template_areas": null,
            "object_position": null,
            "object_fit": null,
            "grid_auto_columns": null,
            "margin": null,
            "display": null,
            "left": null
          }
        },
        "931a5a85f98e468789c0372065d9a841": {
          "model_module": "@jupyter-widgets/controls",
          "model_name": "HBoxModel",
          "state": {
            "_view_name": "HBoxView",
            "_dom_classes": [],
            "_model_name": "HBoxModel",
            "_view_module": "@jupyter-widgets/controls",
            "_model_module_version": "1.5.0",
            "_view_count": null,
            "_view_module_version": "1.5.0",
            "box_style": "",
            "layout": "IPY_MODEL_fd8b9217173e4de7959d228b66356539",
            "_model_module": "@jupyter-widgets/controls",
            "children": [
              "IPY_MODEL_f5f4f013bfc6404c834f8c5b0f4962ef",
              "IPY_MODEL_a56ca226ea0849a2a4176363ed1e4a63"
            ]
          }
        },
        "2c2bb8fd87724dde9bb18591d983e68d": {
          "model_module": "@jupyter-widgets/output",
          "model_name": "OutputModel",
          "state": {
            "_view_name": "OutputView",
            "msg_id": "",
            "_dom_classes": [],
            "_model_name": "OutputModel",
            "outputs": [
              {
                "output_type": "display_data",
                "metadata": {
                  "tags": []
                },
                "text/html": "never gonna give you up <span style='border: 2px solid red;'>never gonna let</span> <span style='border: 2px solid green;'>you</span> <span style='border: 2px solid red;'>down</span> ",
                "text/plain": "<IPython.core.display.HTML object>"
              },
              {
                "output_type": "stream",
                "metadata": {
                  "tags": []
                },
                "text": "Position: 8\nCenter word: 'you'\nContext: ['never', 'gonna', 'let', 'down']\n",
                "stream": "stdout"
              }
            ],
            "_view_module": "@jupyter-widgets/output",
            "_model_module_version": "1.0.0",
            "_view_count": null,
            "_view_module_version": "1.0.0",
            "layout": "IPY_MODEL_b9dd8a9891494550974a0c5f11cca674",
            "_model_module": "@jupyter-widgets/output"
          }
        },
        "fd8b9217173e4de7959d228b66356539": {
          "model_module": "@jupyter-widgets/base",
          "model_name": "LayoutModel",
          "state": {
            "_view_name": "LayoutView",
            "grid_template_rows": null,
            "right": null,
            "justify_content": null,
            "_view_module": "@jupyter-widgets/base",
            "overflow": null,
            "_model_module_version": "1.2.0",
            "_view_count": null,
            "flex_flow": null,
            "width": null,
            "min_width": null,
            "border": null,
            "align_items": null,
            "bottom": null,
            "_model_module": "@jupyter-widgets/base",
            "top": null,
            "grid_column": null,
            "overflow_y": null,
            "overflow_x": null,
            "grid_auto_flow": null,
            "grid_area": null,
            "grid_template_columns": null,
            "flex": null,
            "_model_name": "LayoutModel",
            "justify_items": null,
            "grid_row": null,
            "max_height": null,
            "align_content": null,
            "visibility": null,
            "align_self": null,
            "height": null,
            "min_height": null,
            "padding": null,
            "grid_auto_rows": null,
            "grid_gap": null,
            "max_width": null,
            "order": null,
            "_view_module_version": "1.2.0",
            "grid_template_areas": null,
            "object_position": null,
            "object_fit": null,
            "grid_auto_columns": null,
            "margin": null,
            "display": null,
            "left": null
          }
        },
        "f5f4f013bfc6404c834f8c5b0f4962ef": {
          "model_module": "@jupyter-widgets/controls",
          "model_name": "ButtonModel",
          "state": {
            "_view_name": "ButtonView",
            "style": "IPY_MODEL_96cd6bcf87f24d29b3debb5b1ed13f99",
            "_dom_classes": [],
            "description": "<<",
            "_model_name": "ButtonModel",
            "button_style": "",
            "_view_module": "@jupyter-widgets/controls",
            "_model_module_version": "1.5.0",
            "tooltip": "",
            "_view_count": null,
            "disabled": false,
            "_view_module_version": "1.5.0",
            "layout": "IPY_MODEL_7d82059bc7ee42d9a25ced44bf9bec41",
            "_model_module": "@jupyter-widgets/controls",
            "icon": ""
          }
        },
        "a56ca226ea0849a2a4176363ed1e4a63": {
          "model_module": "@jupyter-widgets/controls",
          "model_name": "ButtonModel",
          "state": {
            "_view_name": "ButtonView",
            "style": "IPY_MODEL_b239cccbbd674582a26b6604951dd921",
            "_dom_classes": [],
            "description": ">>",
            "_model_name": "ButtonModel",
            "button_style": "",
            "_view_module": "@jupyter-widgets/controls",
            "_model_module_version": "1.5.0",
            "tooltip": "",
            "_view_count": null,
            "disabled": false,
            "_view_module_version": "1.5.0",
            "layout": "IPY_MODEL_8cc09db0543341b8909d1b29d70ade08",
            "_model_module": "@jupyter-widgets/controls",
            "icon": ""
          }
        },
        "96cd6bcf87f24d29b3debb5b1ed13f99": {
          "model_module": "@jupyter-widgets/controls",
          "model_name": "ButtonStyleModel",
          "state": {
            "_view_name": "StyleView",
            "_model_name": "ButtonStyleModel",
            "_view_module": "@jupyter-widgets/base",
            "_model_module_version": "1.5.0",
            "_view_count": null,
            "button_color": null,
            "font_weight": "",
            "_view_module_version": "1.2.0",
            "_model_module": "@jupyter-widgets/controls"
          }
        },
        "7d82059bc7ee42d9a25ced44bf9bec41": {
          "model_module": "@jupyter-widgets/base",
          "model_name": "LayoutModel",
          "state": {
            "_view_name": "LayoutView",
            "grid_template_rows": null,
            "right": null,
            "justify_content": null,
            "_view_module": "@jupyter-widgets/base",
            "overflow": null,
            "_model_module_version": "1.2.0",
            "_view_count": null,
            "flex_flow": null,
            "width": null,
            "min_width": null,
            "border": null,
            "align_items": null,
            "bottom": null,
            "_model_module": "@jupyter-widgets/base",
            "top": null,
            "grid_column": null,
            "overflow_y": null,
            "overflow_x": null,
            "grid_auto_flow": null,
            "grid_area": null,
            "grid_template_columns": null,
            "flex": null,
            "_model_name": "LayoutModel",
            "justify_items": null,
            "grid_row": null,
            "max_height": null,
            "align_content": null,
            "visibility": null,
            "align_self": null,
            "height": null,
            "min_height": null,
            "padding": null,
            "grid_auto_rows": null,
            "grid_gap": null,
            "max_width": null,
            "order": null,
            "_view_module_version": "1.2.0",
            "grid_template_areas": null,
            "object_position": null,
            "object_fit": null,
            "grid_auto_columns": null,
            "margin": null,
            "display": null,
            "left": null
          }
        },
        "b239cccbbd674582a26b6604951dd921": {
          "model_module": "@jupyter-widgets/controls",
          "model_name": "ButtonStyleModel",
          "state": {
            "_view_name": "StyleView",
            "_model_name": "ButtonStyleModel",
            "_view_module": "@jupyter-widgets/base",
            "_model_module_version": "1.5.0",
            "_view_count": null,
            "button_color": null,
            "font_weight": "",
            "_view_module_version": "1.2.0",
            "_model_module": "@jupyter-widgets/controls"
          }
        },
        "8cc09db0543341b8909d1b29d70ade08": {
          "model_module": "@jupyter-widgets/base",
          "model_name": "LayoutModel",
          "state": {
            "_view_name": "LayoutView",
            "grid_template_rows": null,
            "right": null,
            "justify_content": null,
            "_view_module": "@jupyter-widgets/base",
            "overflow": null,
            "_model_module_version": "1.2.0",
            "_view_count": null,
            "flex_flow": null,
            "width": null,
            "min_width": null,
            "border": null,
            "align_items": null,
            "bottom": null,
            "_model_module": "@jupyter-widgets/base",
            "top": null,
            "grid_column": null,
            "overflow_y": null,
            "overflow_x": null,
            "grid_auto_flow": null,
            "grid_area": null,
            "grid_template_columns": null,
            "flex": null,
            "_model_name": "LayoutModel",
            "justify_items": null,
            "grid_row": null,
            "max_height": null,
            "align_content": null,
            "visibility": null,
            "align_self": null,
            "height": null,
            "min_height": null,
            "padding": null,
            "grid_auto_rows": null,
            "grid_gap": null,
            "max_width": null,
            "order": null,
            "_view_module_version": "1.2.0",
            "grid_template_areas": null,
            "object_position": null,
            "object_fit": null,
            "grid_auto_columns": null,
            "margin": null,
            "display": null,
            "left": null
          }
        },
        "b9dd8a9891494550974a0c5f11cca674": {
          "model_module": "@jupyter-widgets/base",
          "model_name": "LayoutModel",
          "state": {
            "_view_name": "LayoutView",
            "grid_template_rows": null,
            "right": null,
            "justify_content": null,
            "_view_module": "@jupyter-widgets/base",
            "overflow": null,
            "_model_module_version": "1.2.0",
            "_view_count": null,
            "flex_flow": null,
            "width": null,
            "min_width": null,
            "border": null,
            "align_items": null,
            "bottom": null,
            "_model_module": "@jupyter-widgets/base",
            "top": null,
            "grid_column": null,
            "overflow_y": null,
            "overflow_x": null,
            "grid_auto_flow": null,
            "grid_area": null,
            "grid_template_columns": null,
            "flex": null,
            "_model_name": "LayoutModel",
            "justify_items": null,
            "grid_row": null,
            "max_height": null,
            "align_content": null,
            "visibility": null,
            "align_self": null,
            "height": null,
            "min_height": null,
            "padding": null,
            "grid_auto_rows": null,
            "grid_gap": null,
            "max_width": null,
            "order": null,
            "_view_module_version": "1.2.0",
            "grid_template_areas": null,
            "object_position": null,
            "object_fit": null,
            "grid_auto_columns": null,
            "margin": null,
            "display": null,
            "left": null
          }
        },
        "1f73ad57d3bc4c95b15bc1fcd8594d0a": {
          "model_module": "@jupyter-widgets/controls",
          "model_name": "VBoxModel",
          "state": {
            "_view_name": "VBoxView",
            "_dom_classes": [],
            "_model_name": "VBoxModel",
            "_view_module": "@jupyter-widgets/controls",
            "_model_module_version": "1.5.0",
            "_view_count": null,
            "_view_module_version": "1.5.0",
            "box_style": "",
            "layout": "IPY_MODEL_b5dc0b15f0304f238bd9ef0c1fd44b14",
            "_model_module": "@jupyter-widgets/controls",
            "children": [
              "IPY_MODEL_4f10813429f84afbb53e10deb60529d8",
              "IPY_MODEL_d7fd25387ac742fead59ab62ec85fe6d",
              "IPY_MODEL_bca6562dde0f4b7dad89185b221c404d",
              "IPY_MODEL_c3044e93a8b242ef8c8228650508b370"
            ]
          }
        },
        "b5dc0b15f0304f238bd9ef0c1fd44b14": {
          "model_module": "@jupyter-widgets/base",
          "model_name": "LayoutModel",
          "state": {
            "_view_name": "LayoutView",
            "grid_template_rows": null,
            "right": null,
            "justify_content": null,
            "_view_module": "@jupyter-widgets/base",
            "overflow": null,
            "_model_module_version": "1.2.0",
            "_view_count": null,
            "flex_flow": null,
            "width": null,
            "min_width": null,
            "border": null,
            "align_items": null,
            "bottom": null,
            "_model_module": "@jupyter-widgets/base",
            "top": null,
            "grid_column": null,
            "overflow_y": null,
            "overflow_x": null,
            "grid_auto_flow": null,
            "grid_area": null,
            "grid_template_columns": null,
            "flex": null,
            "_model_name": "LayoutModel",
            "justify_items": null,
            "grid_row": null,
            "max_height": null,
            "align_content": null,
            "visibility": null,
            "align_self": null,
            "height": null,
            "min_height": null,
            "padding": null,
            "grid_auto_rows": null,
            "grid_gap": null,
            "max_width": null,
            "order": null,
            "_view_module_version": "1.2.0",
            "grid_template_areas": null,
            "object_position": null,
            "object_fit": null,
            "grid_auto_columns": null,
            "margin": null,
            "display": null,
            "left": null
          }
        },
        "4f10813429f84afbb53e10deb60529d8": {
          "model_module": "@jupyter-widgets/output",
          "model_name": "OutputModel",
          "state": {
            "_view_name": "OutputView",
            "msg_id": "",
            "_dom_classes": [],
            "_model_name": "OutputModel",
            "outputs": [
              {
                "output_type": "display_data",
                "metadata": {
                  "tags": []
                },
                "application/vnd.jupyter.widget-view+json": {
                  "model_id": "a2b493be59244e3f8ed2293bba6d262b",
                  "version_minor": 0,
                  "version_major": 2
                },
                "text/plain": "HTML(value='\\n            Choose the correct context for the word \"quick\" in the following sentence:\\n        …"
              }
            ],
            "_view_module": "@jupyter-widgets/output",
            "_model_module_version": "1.0.0",
            "_view_count": null,
            "_view_module_version": "1.0.0",
            "layout": "IPY_MODEL_32d2b29a49694a498e251abcbc0cf7dd",
            "_model_module": "@jupyter-widgets/output"
          }
        },
        "d7fd25387ac742fead59ab62ec85fe6d": {
          "model_module": "@jupyter-widgets/controls",
          "model_name": "RadioButtonsModel",
          "state": {
            "_options_labels": [
              "(the, brown)",
              "(the, quick, brown, fox)",
              "(the, brown, fox)",
              "Cannot compute the context."
            ],
            "_view_name": "RadioButtonsView",
            "style": "IPY_MODEL_f65818013c8e420486a55fdb28859258",
            "_dom_classes": [],
            "description": "",
            "_model_name": "RadioButtonsModel",
            "index": 2,
            "_view_module": "@jupyter-widgets/controls",
            "_model_module_version": "1.5.0",
            "_view_count": null,
            "disabled": false,
            "_view_module_version": "1.5.0",
            "description_tooltip": null,
            "_model_module": "@jupyter-widgets/controls",
            "layout": "IPY_MODEL_441838fb908a46108a0b8007e3e469c0"
          }
        },
        "bca6562dde0f4b7dad89185b221c404d": {
          "model_module": "@jupyter-widgets/controls",
          "model_name": "HTMLModel",
          "state": {
            "_view_name": "HTMLView",
            "style": "IPY_MODEL_1ae23259b25c4a51aca9b243f8e921df",
            "_dom_classes": [],
            "description": "",
            "_model_name": "HTMLModel",
            "placeholder": "​",
            "_view_module": "@jupyter-widgets/controls",
            "_model_module_version": "1.5.0",
            "value": "<font color='green'>'(the, brown, fox)' is the correct answer</font>",
            "_view_count": null,
            "_view_module_version": "1.5.0",
            "description_tooltip": null,
            "_model_module": "@jupyter-widgets/controls",
            "layout": "IPY_MODEL_df3fdb4de3f443ffab9595fe9758fe0f"
          }
        },
        "c3044e93a8b242ef8c8228650508b370": {
          "model_module": "@jupyter-widgets/controls",
          "model_name": "ButtonModel",
          "state": {
            "_view_name": "ButtonView",
            "style": "IPY_MODEL_626af1ae2f974a9c8628e2a356dcaa9f",
            "_dom_classes": [],
            "description": "Check",
            "_model_name": "ButtonModel",
            "button_style": "",
            "_view_module": "@jupyter-widgets/controls",
            "_model_module_version": "1.5.0",
            "tooltip": "",
            "_view_count": null,
            "disabled": false,
            "_view_module_version": "1.5.0",
            "layout": "IPY_MODEL_68fa3c2ccb824ce68a0f1a9d54d6ec9b",
            "_model_module": "@jupyter-widgets/controls",
            "icon": ""
          }
        },
        "f65818013c8e420486a55fdb28859258": {
          "model_module": "@jupyter-widgets/controls",
          "model_name": "DescriptionStyleModel",
          "state": {
            "_view_name": "StyleView",
            "_model_name": "DescriptionStyleModel",
            "description_width": "",
            "_view_module": "@jupyter-widgets/base",
            "_model_module_version": "1.5.0",
            "_view_count": null,
            "_view_module_version": "1.2.0",
            "_model_module": "@jupyter-widgets/controls"
          }
        },
        "441838fb908a46108a0b8007e3e469c0": {
          "model_module": "@jupyter-widgets/base",
          "model_name": "LayoutModel",
          "state": {
            "_view_name": "LayoutView",
            "grid_template_rows": null,
            "right": null,
            "justify_content": null,
            "_view_module": "@jupyter-widgets/base",
            "overflow": null,
            "_model_module_version": "1.2.0",
            "_view_count": null,
            "flex_flow": null,
            "width": null,
            "min_width": null,
            "border": null,
            "align_items": null,
            "bottom": null,
            "_model_module": "@jupyter-widgets/base",
            "top": null,
            "grid_column": null,
            "overflow_y": null,
            "overflow_x": null,
            "grid_auto_flow": null,
            "grid_area": null,
            "grid_template_columns": null,
            "flex": null,
            "_model_name": "LayoutModel",
            "justify_items": null,
            "grid_row": null,
            "max_height": null,
            "align_content": null,
            "visibility": null,
            "align_self": null,
            "height": null,
            "min_height": null,
            "padding": null,
            "grid_auto_rows": null,
            "grid_gap": null,
            "max_width": null,
            "order": null,
            "_view_module_version": "1.2.0",
            "grid_template_areas": null,
            "object_position": null,
            "object_fit": null,
            "grid_auto_columns": null,
            "margin": null,
            "display": null,
            "left": null
          }
        },
        "1ae23259b25c4a51aca9b243f8e921df": {
          "model_module": "@jupyter-widgets/controls",
          "model_name": "DescriptionStyleModel",
          "state": {
            "_view_name": "StyleView",
            "_model_name": "DescriptionStyleModel",
            "description_width": "",
            "_view_module": "@jupyter-widgets/base",
            "_model_module_version": "1.5.0",
            "_view_count": null,
            "_view_module_version": "1.2.0",
            "_model_module": "@jupyter-widgets/controls"
          }
        },
        "df3fdb4de3f443ffab9595fe9758fe0f": {
          "model_module": "@jupyter-widgets/base",
          "model_name": "LayoutModel",
          "state": {
            "_view_name": "LayoutView",
            "grid_template_rows": null,
            "right": null,
            "justify_content": null,
            "_view_module": "@jupyter-widgets/base",
            "overflow": null,
            "_model_module_version": "1.2.0",
            "_view_count": null,
            "flex_flow": null,
            "width": null,
            "min_width": null,
            "border": null,
            "align_items": null,
            "bottom": null,
            "_model_module": "@jupyter-widgets/base",
            "top": null,
            "grid_column": null,
            "overflow_y": null,
            "overflow_x": null,
            "grid_auto_flow": null,
            "grid_area": null,
            "grid_template_columns": null,
            "flex": null,
            "_model_name": "LayoutModel",
            "justify_items": null,
            "grid_row": null,
            "max_height": null,
            "align_content": null,
            "visibility": null,
            "align_self": null,
            "height": null,
            "min_height": null,
            "padding": null,
            "grid_auto_rows": null,
            "grid_gap": null,
            "max_width": null,
            "order": null,
            "_view_module_version": "1.2.0",
            "grid_template_areas": null,
            "object_position": null,
            "object_fit": null,
            "grid_auto_columns": null,
            "margin": null,
            "display": null,
            "left": null
          }
        },
        "626af1ae2f974a9c8628e2a356dcaa9f": {
          "model_module": "@jupyter-widgets/controls",
          "model_name": "ButtonStyleModel",
          "state": {
            "_view_name": "StyleView",
            "_model_name": "ButtonStyleModel",
            "_view_module": "@jupyter-widgets/base",
            "_model_module_version": "1.5.0",
            "_view_count": null,
            "button_color": null,
            "font_weight": "",
            "_view_module_version": "1.2.0",
            "_model_module": "@jupyter-widgets/controls"
          }
        },
        "68fa3c2ccb824ce68a0f1a9d54d6ec9b": {
          "model_module": "@jupyter-widgets/base",
          "model_name": "LayoutModel",
          "state": {
            "_view_name": "LayoutView",
            "grid_template_rows": null,
            "right": null,
            "justify_content": null,
            "_view_module": "@jupyter-widgets/base",
            "overflow": null,
            "_model_module_version": "1.2.0",
            "_view_count": null,
            "flex_flow": null,
            "width": null,
            "min_width": null,
            "border": null,
            "align_items": null,
            "bottom": null,
            "_model_module": "@jupyter-widgets/base",
            "top": null,
            "grid_column": null,
            "overflow_y": null,
            "overflow_x": null,
            "grid_auto_flow": null,
            "grid_area": null,
            "grid_template_columns": null,
            "flex": null,
            "_model_name": "LayoutModel",
            "justify_items": null,
            "grid_row": null,
            "max_height": null,
            "align_content": null,
            "visibility": null,
            "align_self": null,
            "height": null,
            "min_height": null,
            "padding": null,
            "grid_auto_rows": null,
            "grid_gap": null,
            "max_width": null,
            "order": null,
            "_view_module_version": "1.2.0",
            "grid_template_areas": null,
            "object_position": null,
            "object_fit": null,
            "grid_auto_columns": null,
            "margin": null,
            "display": null,
            "left": null
          }
        },
        "a2b493be59244e3f8ed2293bba6d262b": {
          "model_module": "@jupyter-widgets/controls",
          "model_name": "HTMLModel",
          "state": {
            "_view_name": "HTMLView",
            "style": "IPY_MODEL_a10a02d6378d4f3ca8b75e3de57c336e",
            "_dom_classes": [],
            "description": "",
            "_model_name": "HTMLModel",
            "placeholder": "​",
            "_view_module": "@jupyter-widgets/controls",
            "_model_module_version": "1.5.0",
            "value": "\n            Choose the correct context for the word \"quick\" in the following sentence:\n            <br>\n            <it>the quick brown fox jumps over the lazy dog</it>\n            <br>\n            Window size is 2.\n        ",
            "_view_count": null,
            "_view_module_version": "1.5.0",
            "description_tooltip": null,
            "_model_module": "@jupyter-widgets/controls",
            "layout": "IPY_MODEL_2c9b8db7e9554e25808f59a3651ddc76"
          }
        },
        "32d2b29a49694a498e251abcbc0cf7dd": {
          "model_module": "@jupyter-widgets/base",
          "model_name": "LayoutModel",
          "state": {
            "_view_name": "LayoutView",
            "grid_template_rows": null,
            "right": null,
            "justify_content": null,
            "_view_module": "@jupyter-widgets/base",
            "overflow": null,
            "_model_module_version": "1.2.0",
            "_view_count": null,
            "flex_flow": null,
            "width": null,
            "min_width": null,
            "border": null,
            "align_items": null,
            "bottom": null,
            "_model_module": "@jupyter-widgets/base",
            "top": null,
            "grid_column": null,
            "overflow_y": null,
            "overflow_x": null,
            "grid_auto_flow": null,
            "grid_area": null,
            "grid_template_columns": null,
            "flex": null,
            "_model_name": "LayoutModel",
            "justify_items": null,
            "grid_row": null,
            "max_height": null,
            "align_content": null,
            "visibility": null,
            "align_self": null,
            "height": null,
            "min_height": null,
            "padding": null,
            "grid_auto_rows": null,
            "grid_gap": null,
            "max_width": null,
            "order": null,
            "_view_module_version": "1.2.0",
            "grid_template_areas": null,
            "object_position": null,
            "object_fit": null,
            "grid_auto_columns": null,
            "margin": null,
            "display": null,
            "left": null
          }
        },
        "a10a02d6378d4f3ca8b75e3de57c336e": {
          "model_module": "@jupyter-widgets/controls",
          "model_name": "DescriptionStyleModel",
          "state": {
            "_view_name": "StyleView",
            "_model_name": "DescriptionStyleModel",
            "description_width": "",
            "_view_module": "@jupyter-widgets/base",
            "_model_module_version": "1.5.0",
            "_view_count": null,
            "_view_module_version": "1.2.0",
            "_model_module": "@jupyter-widgets/controls"
          }
        },
        "2c9b8db7e9554e25808f59a3651ddc76": {
          "model_module": "@jupyter-widgets/base",
          "model_name": "LayoutModel",
          "state": {
            "_view_name": "LayoutView",
            "grid_template_rows": null,
            "right": null,
            "justify_content": null,
            "_view_module": "@jupyter-widgets/base",
            "overflow": null,
            "_model_module_version": "1.2.0",
            "_view_count": null,
            "flex_flow": null,
            "width": null,
            "min_width": null,
            "border": null,
            "align_items": null,
            "bottom": null,
            "_model_module": "@jupyter-widgets/base",
            "top": null,
            "grid_column": null,
            "overflow_y": null,
            "overflow_x": null,
            "grid_auto_flow": null,
            "grid_area": null,
            "grid_template_columns": null,
            "flex": null,
            "_model_name": "LayoutModel",
            "justify_items": null,
            "grid_row": null,
            "max_height": null,
            "align_content": null,
            "visibility": null,
            "align_self": null,
            "height": null,
            "min_height": null,
            "padding": null,
            "grid_auto_rows": null,
            "grid_gap": null,
            "max_width": null,
            "order": null,
            "_view_module_version": "1.2.0",
            "grid_template_areas": null,
            "object_position": null,
            "object_fit": null,
            "grid_auto_columns": null,
            "margin": null,
            "display": null,
            "left": null
          }
        },
        "988e18e865e94f5491c696527d5046e5": {
          "model_module": "@jupyter-widgets/controls",
          "model_name": "VBoxModel",
          "state": {
            "_view_name": "VBoxView",
            "_dom_classes": [],
            "_model_name": "VBoxModel",
            "_view_module": "@jupyter-widgets/controls",
            "_model_module_version": "1.5.0",
            "_view_count": null,
            "_view_module_version": "1.5.0",
            "box_style": "",
            "layout": "IPY_MODEL_c539bd1c2d2f45438072eb6d23159285",
            "_model_module": "@jupyter-widgets/controls",
            "children": [
              "IPY_MODEL_a5b868b60a60490f8422f53e26a948a6",
              "IPY_MODEL_cfdebe8a6bc646d1812e649b5c20062d"
            ]
          }
        },
        "c539bd1c2d2f45438072eb6d23159285": {
          "model_module": "@jupyter-widgets/base",
          "model_name": "LayoutModel",
          "state": {
            "_view_name": "LayoutView",
            "grid_template_rows": null,
            "right": null,
            "justify_content": null,
            "_view_module": "@jupyter-widgets/base",
            "overflow": null,
            "_model_module_version": "1.2.0",
            "_view_count": null,
            "flex_flow": null,
            "width": null,
            "min_width": null,
            "border": null,
            "align_items": null,
            "bottom": null,
            "_model_module": "@jupyter-widgets/base",
            "top": null,
            "grid_column": null,
            "overflow_y": null,
            "overflow_x": null,
            "grid_auto_flow": null,
            "grid_area": null,
            "grid_template_columns": null,
            "flex": null,
            "_model_name": "LayoutModel",
            "justify_items": null,
            "grid_row": null,
            "max_height": null,
            "align_content": null,
            "visibility": null,
            "align_self": null,
            "height": null,
            "min_height": null,
            "padding": null,
            "grid_auto_rows": null,
            "grid_gap": null,
            "max_width": null,
            "order": null,
            "_view_module_version": "1.2.0",
            "grid_template_areas": null,
            "object_position": null,
            "object_fit": null,
            "grid_auto_columns": null,
            "margin": null,
            "display": null,
            "left": null
          }
        },
        "a5b868b60a60490f8422f53e26a948a6": {
          "model_module": "@jupyter-widgets/controls",
          "model_name": "ButtonModel",
          "state": {
            "_view_name": "ButtonView",
            "style": "IPY_MODEL_710c79de43be4e4889b6ba01ad7d0bf7",
            "_dom_classes": [],
            "description": "next step",
            "_model_name": "ButtonModel",
            "button_style": "",
            "_view_module": "@jupyter-widgets/controls",
            "_model_module_version": "1.5.0",
            "tooltip": "",
            "_view_count": null,
            "disabled": false,
            "_view_module_version": "1.5.0",
            "layout": "IPY_MODEL_54bf1fecc5b64fd0ae62fd279f5683a7",
            "_model_module": "@jupyter-widgets/controls",
            "icon": ""
          }
        },
        "cfdebe8a6bc646d1812e649b5c20062d": {
          "model_module": "@jupyter-widgets/output",
          "model_name": "OutputModel",
          "state": {
            "_view_name": "OutputView",
            "msg_id": "",
            "_dom_classes": [],
            "_model_name": "OutputModel",
            "outputs": [
              {
                "output_type": "display_data",
                "metadata": {
                  "tags": [],
                  "needs_background": "light"
                },
                "image/png": "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\n",
                "text/plain": "<Figure size 864x432 with 1 Axes>"
              }
            ],
            "_view_module": "@jupyter-widgets/output",
            "_model_module_version": "1.0.0",
            "_view_count": null,
            "_view_module_version": "1.0.0",
            "layout": "IPY_MODEL_334ba884fe204318a51664fb9154df86",
            "_model_module": "@jupyter-widgets/output"
          }
        },
        "710c79de43be4e4889b6ba01ad7d0bf7": {
          "model_module": "@jupyter-widgets/controls",
          "model_name": "ButtonStyleModel",
          "state": {
            "_view_name": "StyleView",
            "_model_name": "ButtonStyleModel",
            "_view_module": "@jupyter-widgets/base",
            "_model_module_version": "1.5.0",
            "_view_count": null,
            "button_color": null,
            "font_weight": "",
            "_view_module_version": "1.2.0",
            "_model_module": "@jupyter-widgets/controls"
          }
        },
        "54bf1fecc5b64fd0ae62fd279f5683a7": {
          "model_module": "@jupyter-widgets/base",
          "model_name": "LayoutModel",
          "state": {
            "_view_name": "LayoutView",
            "grid_template_rows": null,
            "right": null,
            "justify_content": null,
            "_view_module": "@jupyter-widgets/base",
            "overflow": null,
            "_model_module_version": "1.2.0",
            "_view_count": null,
            "flex_flow": null,
            "width": null,
            "min_width": null,
            "border": null,
            "align_items": null,
            "bottom": null,
            "_model_module": "@jupyter-widgets/base",
            "top": null,
            "grid_column": null,
            "overflow_y": null,
            "overflow_x": null,
            "grid_auto_flow": null,
            "grid_area": null,
            "grid_template_columns": null,
            "flex": null,
            "_model_name": "LayoutModel",
            "justify_items": null,
            "grid_row": null,
            "max_height": null,
            "align_content": null,
            "visibility": null,
            "align_self": null,
            "height": null,
            "min_height": null,
            "padding": null,
            "grid_auto_rows": null,
            "grid_gap": null,
            "max_width": null,
            "order": null,
            "_view_module_version": "1.2.0",
            "grid_template_areas": null,
            "object_position": null,
            "object_fit": null,
            "grid_auto_columns": null,
            "margin": null,
            "display": null,
            "left": null
          }
        },
        "334ba884fe204318a51664fb9154df86": {
          "model_module": "@jupyter-widgets/base",
          "model_name": "LayoutModel",
          "state": {
            "_view_name": "LayoutView",
            "grid_template_rows": null,
            "right": null,
            "justify_content": null,
            "_view_module": "@jupyter-widgets/base",
            "overflow": null,
            "_model_module_version": "1.2.0",
            "_view_count": null,
            "flex_flow": null,
            "width": null,
            "min_width": null,
            "border": null,
            "align_items": null,
            "bottom": null,
            "_model_module": "@jupyter-widgets/base",
            "top": null,
            "grid_column": null,
            "overflow_y": null,
            "overflow_x": null,
            "grid_auto_flow": null,
            "grid_area": null,
            "grid_template_columns": null,
            "flex": null,
            "_model_name": "LayoutModel",
            "justify_items": null,
            "grid_row": null,
            "max_height": null,
            "align_content": null,
            "visibility": null,
            "align_self": null,
            "height": null,
            "min_height": null,
            "padding": null,
            "grid_auto_rows": null,
            "grid_gap": null,
            "max_width": null,
            "order": null,
            "_view_module_version": "1.2.0",
            "grid_template_areas": null,
            "object_position": null,
            "object_fit": null,
            "grid_auto_columns": null,
            "margin": null,
            "display": null,
            "left": null
          }
        },
        "114af2a11a4f45a19263080f530818f5": {
          "model_module": "@jupyter-widgets/controls",
          "model_name": "VBoxModel",
          "state": {
            "_view_name": "VBoxView",
            "_dom_classes": [],
            "_model_name": "VBoxModel",
            "_view_module": "@jupyter-widgets/controls",
            "_model_module_version": "1.5.0",
            "_view_count": null,
            "_view_module_version": "1.5.0",
            "box_style": "",
            "layout": "IPY_MODEL_7da2503b61164adfaaed7fa5833691fe",
            "_model_module": "@jupyter-widgets/controls",
            "children": [
              "IPY_MODEL_2d94efbc61e6436e8e9c7d17c0e9725e",
              "IPY_MODEL_761fedcc3ce44102ace50ce21c32db9a",
              "IPY_MODEL_c2affc63fee34b0180415a53ada0f4e4",
              "IPY_MODEL_faf5c183d9ed4353a5c46820a0c7d747"
            ]
          }
        },
        "7da2503b61164adfaaed7fa5833691fe": {
          "model_module": "@jupyter-widgets/base",
          "model_name": "LayoutModel",
          "state": {
            "_view_name": "LayoutView",
            "grid_template_rows": null,
            "right": null,
            "justify_content": null,
            "_view_module": "@jupyter-widgets/base",
            "overflow": null,
            "_model_module_version": "1.2.0",
            "_view_count": null,
            "flex_flow": null,
            "width": null,
            "min_width": null,
            "border": null,
            "align_items": null,
            "bottom": null,
            "_model_module": "@jupyter-widgets/base",
            "top": null,
            "grid_column": null,
            "overflow_y": null,
            "overflow_x": null,
            "grid_auto_flow": null,
            "grid_area": null,
            "grid_template_columns": null,
            "flex": null,
            "_model_name": "LayoutModel",
            "justify_items": null,
            "grid_row": null,
            "max_height": null,
            "align_content": null,
            "visibility": null,
            "align_self": null,
            "height": null,
            "min_height": null,
            "padding": null,
            "grid_auto_rows": null,
            "grid_gap": null,
            "max_width": null,
            "order": null,
            "_view_module_version": "1.2.0",
            "grid_template_areas": null,
            "object_position": null,
            "object_fit": null,
            "grid_auto_columns": null,
            "margin": null,
            "display": null,
            "left": null
          }
        },
        "2d94efbc61e6436e8e9c7d17c0e9725e": {
          "model_module": "@jupyter-widgets/output",
          "model_name": "OutputModel",
          "state": {
            "_view_name": "OutputView",
            "msg_id": "",
            "_dom_classes": [],
            "_model_name": "OutputModel",
            "outputs": [
              {
                "output_type": "display_data",
                "metadata": {
                  "tags": []
                },
                "application/vnd.jupyter.widget-view+json": {
                  "model_id": "47cd61f1534d46d78a9a59abaebe0302",
                  "version_minor": 0,
                  "version_major": 2
                },
                "text/plain": "HTML(value='\\n            word2vec algorithm learns two matrices: the matrix of central vectors and the matrix…"
              }
            ],
            "_view_module": "@jupyter-widgets/output",
            "_model_module_version": "1.0.0",
            "_view_count": null,
            "_view_module_version": "1.0.0",
            "layout": "IPY_MODEL_75de418744384e00bd3616fa3540638b",
            "_model_module": "@jupyter-widgets/output"
          }
        },
        "761fedcc3ce44102ace50ce21c32db9a": {
          "model_module": "@jupyter-widgets/controls",
          "model_name": "RadioButtonsModel",
          "state": {
            "_options_labels": [
              "Taken from the matrix of context vectors",
              "Taken from the matrix of central vectors",
              "It is the average of central and context vectors",
              "None of the above"
            ],
            "_view_name": "RadioButtonsView",
            "style": "IPY_MODEL_d5c0b45ce2b14f64804e3b3e8dc3fd74",
            "_dom_classes": [],
            "description": "",
            "_model_name": "RadioButtonsModel",
            "index": 0,
            "_view_module": "@jupyter-widgets/controls",
            "_model_module_version": "1.5.0",
            "_view_count": null,
            "disabled": false,
            "_view_module_version": "1.5.0",
            "description_tooltip": null,
            "_model_module": "@jupyter-widgets/controls",
            "layout": "IPY_MODEL_0172490845844edba1f92bfdb369bbc6"
          }
        },
        "c2affc63fee34b0180415a53ada0f4e4": {
          "model_module": "@jupyter-widgets/controls",
          "model_name": "HTMLModel",
          "state": {
            "_view_name": "HTMLView",
            "style": "IPY_MODEL_ae98e26dc0b444409b886abe94c67dda",
            "_dom_classes": [],
            "description": "",
            "_model_name": "HTMLModel",
            "placeholder": "​",
            "_view_module": "@jupyter-widgets/controls",
            "_model_module_version": "1.5.0",
            "value": "<br>",
            "_view_count": null,
            "_view_module_version": "1.5.0",
            "description_tooltip": null,
            "_model_module": "@jupyter-widgets/controls",
            "layout": "IPY_MODEL_13a9c7e9cde142f694c07df8b85033d3"
          }
        },
        "faf5c183d9ed4353a5c46820a0c7d747": {
          "model_module": "@jupyter-widgets/controls",
          "model_name": "ButtonModel",
          "state": {
            "_view_name": "ButtonView",
            "style": "IPY_MODEL_c20ae76245354b7dbd5e4e4934ae5aac",
            "_dom_classes": [],
            "description": "Check",
            "_model_name": "ButtonModel",
            "button_style": "",
            "_view_module": "@jupyter-widgets/controls",
            "_model_module_version": "1.5.0",
            "tooltip": "",
            "_view_count": null,
            "disabled": false,
            "_view_module_version": "1.5.0",
            "layout": "IPY_MODEL_74fed184a55247b88922c7cbff607414",
            "_model_module": "@jupyter-widgets/controls",
            "icon": ""
          }
        },
        "d5c0b45ce2b14f64804e3b3e8dc3fd74": {
          "model_module": "@jupyter-widgets/controls",
          "model_name": "DescriptionStyleModel",
          "state": {
            "_view_name": "StyleView",
            "_model_name": "DescriptionStyleModel",
            "description_width": "",
            "_view_module": "@jupyter-widgets/base",
            "_model_module_version": "1.5.0",
            "_view_count": null,
            "_view_module_version": "1.2.0",
            "_model_module": "@jupyter-widgets/controls"
          }
        },
        "0172490845844edba1f92bfdb369bbc6": {
          "model_module": "@jupyter-widgets/base",
          "model_name": "LayoutModel",
          "state": {
            "_view_name": "LayoutView",
            "grid_template_rows": null,
            "right": null,
            "justify_content": null,
            "_view_module": "@jupyter-widgets/base",
            "overflow": null,
            "_model_module_version": "1.2.0",
            "_view_count": null,
            "flex_flow": null,
            "width": null,
            "min_width": null,
            "border": null,
            "align_items": null,
            "bottom": null,
            "_model_module": "@jupyter-widgets/base",
            "top": null,
            "grid_column": null,
            "overflow_y": null,
            "overflow_x": null,
            "grid_auto_flow": null,
            "grid_area": null,
            "grid_template_columns": null,
            "flex": null,
            "_model_name": "LayoutModel",
            "justify_items": null,
            "grid_row": null,
            "max_height": null,
            "align_content": null,
            "visibility": null,
            "align_self": null,
            "height": null,
            "min_height": null,
            "padding": null,
            "grid_auto_rows": null,
            "grid_gap": null,
            "max_width": null,
            "order": null,
            "_view_module_version": "1.2.0",
            "grid_template_areas": null,
            "object_position": null,
            "object_fit": null,
            "grid_auto_columns": null,
            "margin": null,
            "display": null,
            "left": null
          }
        },
        "ae98e26dc0b444409b886abe94c67dda": {
          "model_module": "@jupyter-widgets/controls",
          "model_name": "DescriptionStyleModel",
          "state": {
            "_view_name": "StyleView",
            "_model_name": "DescriptionStyleModel",
            "description_width": "",
            "_view_module": "@jupyter-widgets/base",
            "_model_module_version": "1.5.0",
            "_view_count": null,
            "_view_module_version": "1.2.0",
            "_model_module": "@jupyter-widgets/controls"
          }
        },
        "13a9c7e9cde142f694c07df8b85033d3": {
          "model_module": "@jupyter-widgets/base",
          "model_name": "LayoutModel",
          "state": {
            "_view_name": "LayoutView",
            "grid_template_rows": null,
            "right": null,
            "justify_content": null,
            "_view_module": "@jupyter-widgets/base",
            "overflow": null,
            "_model_module_version": "1.2.0",
            "_view_count": null,
            "flex_flow": null,
            "width": null,
            "min_width": null,
            "border": null,
            "align_items": null,
            "bottom": null,
            "_model_module": "@jupyter-widgets/base",
            "top": null,
            "grid_column": null,
            "overflow_y": null,
            "overflow_x": null,
            "grid_auto_flow": null,
            "grid_area": null,
            "grid_template_columns": null,
            "flex": null,
            "_model_name": "LayoutModel",
            "justify_items": null,
            "grid_row": null,
            "max_height": null,
            "align_content": null,
            "visibility": null,
            "align_self": null,
            "height": null,
            "min_height": null,
            "padding": null,
            "grid_auto_rows": null,
            "grid_gap": null,
            "max_width": null,
            "order": null,
            "_view_module_version": "1.2.0",
            "grid_template_areas": null,
            "object_position": null,
            "object_fit": null,
            "grid_auto_columns": null,
            "margin": null,
            "display": null,
            "left": null
          }
        },
        "c20ae76245354b7dbd5e4e4934ae5aac": {
          "model_module": "@jupyter-widgets/controls",
          "model_name": "ButtonStyleModel",
          "state": {
            "_view_name": "StyleView",
            "_model_name": "ButtonStyleModel",
            "_view_module": "@jupyter-widgets/base",
            "_model_module_version": "1.5.0",
            "_view_count": null,
            "button_color": null,
            "font_weight": "",
            "_view_module_version": "1.2.0",
            "_model_module": "@jupyter-widgets/controls"
          }
        },
        "74fed184a55247b88922c7cbff607414": {
          "model_module": "@jupyter-widgets/base",
          "model_name": "LayoutModel",
          "state": {
            "_view_name": "LayoutView",
            "grid_template_rows": null,
            "right": null,
            "justify_content": null,
            "_view_module": "@jupyter-widgets/base",
            "overflow": null,
            "_model_module_version": "1.2.0",
            "_view_count": null,
            "flex_flow": null,
            "width": null,
            "min_width": null,
            "border": null,
            "align_items": null,
            "bottom": null,
            "_model_module": "@jupyter-widgets/base",
            "top": null,
            "grid_column": null,
            "overflow_y": null,
            "overflow_x": null,
            "grid_auto_flow": null,
            "grid_area": null,
            "grid_template_columns": null,
            "flex": null,
            "_model_name": "LayoutModel",
            "justify_items": null,
            "grid_row": null,
            "max_height": null,
            "align_content": null,
            "visibility": null,
            "align_self": null,
            "height": null,
            "min_height": null,
            "padding": null,
            "grid_auto_rows": null,
            "grid_gap": null,
            "max_width": null,
            "order": null,
            "_view_module_version": "1.2.0",
            "grid_template_areas": null,
            "object_position": null,
            "object_fit": null,
            "grid_auto_columns": null,
            "margin": null,
            "display": null,
            "left": null
          }
        },
        "47cd61f1534d46d78a9a59abaebe0302": {
          "model_module": "@jupyter-widgets/controls",
          "model_name": "HTMLModel",
          "state": {
            "_view_name": "HTMLView",
            "style": "IPY_MODEL_6ac6042a3e164019a74847681f5b8066",
            "_dom_classes": [],
            "description": "",
            "_model_name": "HTMLModel",
            "placeholder": "​",
            "_view_module": "@jupyter-widgets/controls",
            "_model_module_version": "1.5.0",
            "value": "\n            word2vec algorithm learns two matrices: the matrix of central vectors and the matrix of context vectors.\n            In the implementation above, how is the word vector computed for a given word?\n        ",
            "_view_count": null,
            "_view_module_version": "1.5.0",
            "description_tooltip": null,
            "_model_module": "@jupyter-widgets/controls",
            "layout": "IPY_MODEL_6da21650951c4b50a2016ad6354079a7"
          }
        },
        "75de418744384e00bd3616fa3540638b": {
          "model_module": "@jupyter-widgets/base",
          "model_name": "LayoutModel",
          "state": {
            "_view_name": "LayoutView",
            "grid_template_rows": null,
            "right": null,
            "justify_content": null,
            "_view_module": "@jupyter-widgets/base",
            "overflow": null,
            "_model_module_version": "1.2.0",
            "_view_count": null,
            "flex_flow": null,
            "width": null,
            "min_width": null,
            "border": null,
            "align_items": null,
            "bottom": null,
            "_model_module": "@jupyter-widgets/base",
            "top": null,
            "grid_column": null,
            "overflow_y": null,
            "overflow_x": null,
            "grid_auto_flow": null,
            "grid_area": null,
            "grid_template_columns": null,
            "flex": null,
            "_model_name": "LayoutModel",
            "justify_items": null,
            "grid_row": null,
            "max_height": null,
            "align_content": null,
            "visibility": null,
            "align_self": null,
            "height": null,
            "min_height": null,
            "padding": null,
            "grid_auto_rows": null,
            "grid_gap": null,
            "max_width": null,
            "order": null,
            "_view_module_version": "1.2.0",
            "grid_template_areas": null,
            "object_position": null,
            "object_fit": null,
            "grid_auto_columns": null,
            "margin": null,
            "display": null,
            "left": null
          }
        },
        "6ac6042a3e164019a74847681f5b8066": {
          "model_module": "@jupyter-widgets/controls",
          "model_name": "DescriptionStyleModel",
          "state": {
            "_view_name": "StyleView",
            "_model_name": "DescriptionStyleModel",
            "description_width": "",
            "_view_module": "@jupyter-widgets/base",
            "_model_module_version": "1.5.0",
            "_view_count": null,
            "_view_module_version": "1.2.0",
            "_model_module": "@jupyter-widgets/controls"
          }
        },
        "6da21650951c4b50a2016ad6354079a7": {
          "model_module": "@jupyter-widgets/base",
          "model_name": "LayoutModel",
          "state": {
            "_view_name": "LayoutView",
            "grid_template_rows": null,
            "right": null,
            "justify_content": null,
            "_view_module": "@jupyter-widgets/base",
            "overflow": null,
            "_model_module_version": "1.2.0",
            "_view_count": null,
            "flex_flow": null,
            "width": null,
            "min_width": null,
            "border": null,
            "align_items": null,
            "bottom": null,
            "_model_module": "@jupyter-widgets/base",
            "top": null,
            "grid_column": null,
            "overflow_y": null,
            "overflow_x": null,
            "grid_auto_flow": null,
            "grid_area": null,
            "grid_template_columns": null,
            "flex": null,
            "_model_name": "LayoutModel",
            "justify_items": null,
            "grid_row": null,
            "max_height": null,
            "align_content": null,
            "visibility": null,
            "align_self": null,
            "height": null,
            "min_height": null,
            "padding": null,
            "grid_auto_rows": null,
            "grid_gap": null,
            "max_width": null,
            "order": null,
            "_view_module_version": "1.2.0",
            "grid_template_areas": null,
            "object_position": null,
            "object_fit": null,
            "grid_auto_columns": null,
            "margin": null,
            "display": null,
            "left": null
          }
        },
        "4227098e183447dda233bc1cb336d49e": {
          "model_module": "@jupyter-widgets/controls",
          "model_name": "VBoxModel",
          "state": {
            "_view_name": "VBoxView",
            "_dom_classes": [],
            "_model_name": "VBoxModel",
            "_view_module": "@jupyter-widgets/controls",
            "_model_module_version": "1.5.0",
            "_view_count": null,
            "_view_module_version": "1.5.0",
            "box_style": "",
            "layout": "IPY_MODEL_af2d31ac519e4893b0c97a3ce93af0bb",
            "_model_module": "@jupyter-widgets/controls",
            "children": [
              "IPY_MODEL_7c001cae8c52419e8a1675297cfdc075",
              "IPY_MODEL_dd0cc8b782fa49ef88531c539d0a555b",
              "IPY_MODEL_c85350c2b0974315aa2f9577a8415142",
              "IPY_MODEL_cff8289e2db34897bcff2e074f89e067"
            ]
          }
        },
        "af2d31ac519e4893b0c97a3ce93af0bb": {
          "model_module": "@jupyter-widgets/base",
          "model_name": "LayoutModel",
          "state": {
            "_view_name": "LayoutView",
            "grid_template_rows": null,
            "right": null,
            "justify_content": null,
            "_view_module": "@jupyter-widgets/base",
            "overflow": null,
            "_model_module_version": "1.2.0",
            "_view_count": null,
            "flex_flow": null,
            "width": null,
            "min_width": null,
            "border": null,
            "align_items": null,
            "bottom": null,
            "_model_module": "@jupyter-widgets/base",
            "top": null,
            "grid_column": null,
            "overflow_y": null,
            "overflow_x": null,
            "grid_auto_flow": null,
            "grid_area": null,
            "grid_template_columns": null,
            "flex": null,
            "_model_name": "LayoutModel",
            "justify_items": null,
            "grid_row": null,
            "max_height": null,
            "align_content": null,
            "visibility": null,
            "align_self": null,
            "height": null,
            "min_height": null,
            "padding": null,
            "grid_auto_rows": null,
            "grid_gap": null,
            "max_width": null,
            "order": null,
            "_view_module_version": "1.2.0",
            "grid_template_areas": null,
            "object_position": null,
            "object_fit": null,
            "grid_auto_columns": null,
            "margin": null,
            "display": null,
            "left": null
          }
        },
        "7c001cae8c52419e8a1675297cfdc075": {
          "model_module": "@jupyter-widgets/output",
          "model_name": "OutputModel",
          "state": {
            "_view_name": "OutputView",
            "msg_id": "",
            "_dom_classes": [],
            "_model_name": "OutputModel",
            "outputs": [
              {
                "output_type": "display_data",
                "metadata": {
                  "tags": []
                },
                "application/vnd.jupyter.widget-view+json": {
                  "model_id": "8d563cd4311a4eb18feb223a13a27c29",
                  "version_minor": 0,
                  "version_major": 2
                },
                "text/plain": "HTML(value='\\n            In the implementation above, which words are subsampled (i.e. too frequent words are…"
              }
            ],
            "_view_module": "@jupyter-widgets/output",
            "_model_module_version": "1.0.0",
            "_view_count": null,
            "_view_module_version": "1.0.0",
            "layout": "IPY_MODEL_9aa5ab370b224dea98291087351c773d",
            "_model_module": "@jupyter-widgets/output"
          }
        },
        "dd0cc8b782fa49ef88531c539d0a555b": {
          "model_module": "@jupyter-widgets/controls",
          "model_name": "RadioButtonsModel",
          "state": {
            "_options_labels": [
              "Central words",
              "Context words",
              "Negative samples",
              "All of them"
            ],
            "_view_name": "RadioButtonsView",
            "style": "IPY_MODEL_fb85605cbbc74032a9a47f5a9fc2b2f7",
            "_dom_classes": [],
            "description": "",
            "_model_name": "RadioButtonsModel",
            "index": 0,
            "_view_module": "@jupyter-widgets/controls",
            "_model_module_version": "1.5.0",
            "_view_count": null,
            "disabled": false,
            "_view_module_version": "1.5.0",
            "description_tooltip": null,
            "_model_module": "@jupyter-widgets/controls",
            "layout": "IPY_MODEL_b3ae07a49b104cf4b6eee1118b0b0ce8"
          }
        },
        "c85350c2b0974315aa2f9577a8415142": {
          "model_module": "@jupyter-widgets/controls",
          "model_name": "HTMLModel",
          "state": {
            "_view_name": "HTMLView",
            "style": "IPY_MODEL_3965f6f6ae144ee69b0beda373d33d86",
            "_dom_classes": [],
            "description": "",
            "_model_name": "HTMLModel",
            "placeholder": "​",
            "_view_module": "@jupyter-widgets/controls",
            "_model_module_version": "1.5.0",
            "value": "<br>",
            "_view_count": null,
            "_view_module_version": "1.5.0",
            "description_tooltip": null,
            "_model_module": "@jupyter-widgets/controls",
            "layout": "IPY_MODEL_ca56422f429149c385d48ed224f8f5ab"
          }
        },
        "cff8289e2db34897bcff2e074f89e067": {
          "model_module": "@jupyter-widgets/controls",
          "model_name": "ButtonModel",
          "state": {
            "_view_name": "ButtonView",
            "style": "IPY_MODEL_9e2d894072684ae49b8e85eabe590727",
            "_dom_classes": [],
            "description": "Check",
            "_model_name": "ButtonModel",
            "button_style": "",
            "_view_module": "@jupyter-widgets/controls",
            "_model_module_version": "1.5.0",
            "tooltip": "",
            "_view_count": null,
            "disabled": false,
            "_view_module_version": "1.5.0",
            "layout": "IPY_MODEL_e6a88fefcfcc409bab84318e88f7626b",
            "_model_module": "@jupyter-widgets/controls",
            "icon": ""
          }
        },
        "fb85605cbbc74032a9a47f5a9fc2b2f7": {
          "model_module": "@jupyter-widgets/controls",
          "model_name": "DescriptionStyleModel",
          "state": {
            "_view_name": "StyleView",
            "_model_name": "DescriptionStyleModel",
            "description_width": "",
            "_view_module": "@jupyter-widgets/base",
            "_model_module_version": "1.5.0",
            "_view_count": null,
            "_view_module_version": "1.2.0",
            "_model_module": "@jupyter-widgets/controls"
          }
        },
        "b3ae07a49b104cf4b6eee1118b0b0ce8": {
          "model_module": "@jupyter-widgets/base",
          "model_name": "LayoutModel",
          "state": {
            "_view_name": "LayoutView",
            "grid_template_rows": null,
            "right": null,
            "justify_content": null,
            "_view_module": "@jupyter-widgets/base",
            "overflow": null,
            "_model_module_version": "1.2.0",
            "_view_count": null,
            "flex_flow": null,
            "width": null,
            "min_width": null,
            "border": null,
            "align_items": null,
            "bottom": null,
            "_model_module": "@jupyter-widgets/base",
            "top": null,
            "grid_column": null,
            "overflow_y": null,
            "overflow_x": null,
            "grid_auto_flow": null,
            "grid_area": null,
            "grid_template_columns": null,
            "flex": null,
            "_model_name": "LayoutModel",
            "justify_items": null,
            "grid_row": null,
            "max_height": null,
            "align_content": null,
            "visibility": null,
            "align_self": null,
            "height": null,
            "min_height": null,
            "padding": null,
            "grid_auto_rows": null,
            "grid_gap": null,
            "max_width": null,
            "order": null,
            "_view_module_version": "1.2.0",
            "grid_template_areas": null,
            "object_position": null,
            "object_fit": null,
            "grid_auto_columns": null,
            "margin": null,
            "display": null,
            "left": null
          }
        },
        "3965f6f6ae144ee69b0beda373d33d86": {
          "model_module": "@jupyter-widgets/controls",
          "model_name": "DescriptionStyleModel",
          "state": {
            "_view_name": "StyleView",
            "_model_name": "DescriptionStyleModel",
            "description_width": "",
            "_view_module": "@jupyter-widgets/base",
            "_model_module_version": "1.5.0",
            "_view_count": null,
            "_view_module_version": "1.2.0",
            "_model_module": "@jupyter-widgets/controls"
          }
        },
        "ca56422f429149c385d48ed224f8f5ab": {
          "model_module": "@jupyter-widgets/base",
          "model_name": "LayoutModel",
          "state": {
            "_view_name": "LayoutView",
            "grid_template_rows": null,
            "right": null,
            "justify_content": null,
            "_view_module": "@jupyter-widgets/base",
            "overflow": null,
            "_model_module_version": "1.2.0",
            "_view_count": null,
            "flex_flow": null,
            "width": null,
            "min_width": null,
            "border": null,
            "align_items": null,
            "bottom": null,
            "_model_module": "@jupyter-widgets/base",
            "top": null,
            "grid_column": null,
            "overflow_y": null,
            "overflow_x": null,
            "grid_auto_flow": null,
            "grid_area": null,
            "grid_template_columns": null,
            "flex": null,
            "_model_name": "LayoutModel",
            "justify_items": null,
            "grid_row": null,
            "max_height": null,
            "align_content": null,
            "visibility": null,
            "align_self": null,
            "height": null,
            "min_height": null,
            "padding": null,
            "grid_auto_rows": null,
            "grid_gap": null,
            "max_width": null,
            "order": null,
            "_view_module_version": "1.2.0",
            "grid_template_areas": null,
            "object_position": null,
            "object_fit": null,
            "grid_auto_columns": null,
            "margin": null,
            "display": null,
            "left": null
          }
        },
        "9e2d894072684ae49b8e85eabe590727": {
          "model_module": "@jupyter-widgets/controls",
          "model_name": "ButtonStyleModel",
          "state": {
            "_view_name": "StyleView",
            "_model_name": "ButtonStyleModel",
            "_view_module": "@jupyter-widgets/base",
            "_model_module_version": "1.5.0",
            "_view_count": null,
            "button_color": null,
            "font_weight": "",
            "_view_module_version": "1.2.0",
            "_model_module": "@jupyter-widgets/controls"
          }
        },
        "e6a88fefcfcc409bab84318e88f7626b": {
          "model_module": "@jupyter-widgets/base",
          "model_name": "LayoutModel",
          "state": {
            "_view_name": "LayoutView",
            "grid_template_rows": null,
            "right": null,
            "justify_content": null,
            "_view_module": "@jupyter-widgets/base",
            "overflow": null,
            "_model_module_version": "1.2.0",
            "_view_count": null,
            "flex_flow": null,
            "width": null,
            "min_width": null,
            "border": null,
            "align_items": null,
            "bottom": null,
            "_model_module": "@jupyter-widgets/base",
            "top": null,
            "grid_column": null,
            "overflow_y": null,
            "overflow_x": null,
            "grid_auto_flow": null,
            "grid_area": null,
            "grid_template_columns": null,
            "flex": null,
            "_model_name": "LayoutModel",
            "justify_items": null,
            "grid_row": null,
            "max_height": null,
            "align_content": null,
            "visibility": null,
            "align_self": null,
            "height": null,
            "min_height": null,
            "padding": null,
            "grid_auto_rows": null,
            "grid_gap": null,
            "max_width": null,
            "order": null,
            "_view_module_version": "1.2.0",
            "grid_template_areas": null,
            "object_position": null,
            "object_fit": null,
            "grid_auto_columns": null,
            "margin": null,
            "display": null,
            "left": null
          }
        },
        "8d563cd4311a4eb18feb223a13a27c29": {
          "model_module": "@jupyter-widgets/controls",
          "model_name": "HTMLModel",
          "state": {
            "_view_name": "HTMLView",
            "style": "IPY_MODEL_6431cb3c51fd4a389506603498c48690",
            "_dom_classes": [],
            "description": "",
            "_model_name": "HTMLModel",
            "placeholder": "​",
            "_view_module": "@jupyter-widgets/controls",
            "_model_module_version": "1.5.0",
            "value": "\n            In the implementation above, which words are subsampled (i.e. too frequent words are thrown away with some probability)?\n        ",
            "_view_count": null,
            "_view_module_version": "1.5.0",
            "description_tooltip": null,
            "_model_module": "@jupyter-widgets/controls",
            "layout": "IPY_MODEL_7a6507d52e7a485597f5c3cd72e1c971"
          }
        },
        "9aa5ab370b224dea98291087351c773d": {
          "model_module": "@jupyter-widgets/base",
          "model_name": "LayoutModel",
          "state": {
            "_view_name": "LayoutView",
            "grid_template_rows": null,
            "right": null,
            "justify_content": null,
            "_view_module": "@jupyter-widgets/base",
            "overflow": null,
            "_model_module_version": "1.2.0",
            "_view_count": null,
            "flex_flow": null,
            "width": null,
            "min_width": null,
            "border": null,
            "align_items": null,
            "bottom": null,
            "_model_module": "@jupyter-widgets/base",
            "top": null,
            "grid_column": null,
            "overflow_y": null,
            "overflow_x": null,
            "grid_auto_flow": null,
            "grid_area": null,
            "grid_template_columns": null,
            "flex": null,
            "_model_name": "LayoutModel",
            "justify_items": null,
            "grid_row": null,
            "max_height": null,
            "align_content": null,
            "visibility": null,
            "align_self": null,
            "height": null,
            "min_height": null,
            "padding": null,
            "grid_auto_rows": null,
            "grid_gap": null,
            "max_width": null,
            "order": null,
            "_view_module_version": "1.2.0",
            "grid_template_areas": null,
            "object_position": null,
            "object_fit": null,
            "grid_auto_columns": null,
            "margin": null,
            "display": null,
            "left": null
          }
        },
        "6431cb3c51fd4a389506603498c48690": {
          "model_module": "@jupyter-widgets/controls",
          "model_name": "DescriptionStyleModel",
          "state": {
            "_view_name": "StyleView",
            "_model_name": "DescriptionStyleModel",
            "description_width": "",
            "_view_module": "@jupyter-widgets/base",
            "_model_module_version": "1.5.0",
            "_view_count": null,
            "_view_module_version": "1.2.0",
            "_model_module": "@jupyter-widgets/controls"
          }
        },
        "7a6507d52e7a485597f5c3cd72e1c971": {
          "model_module": "@jupyter-widgets/base",
          "model_name": "LayoutModel",
          "state": {
            "_view_name": "LayoutView",
            "grid_template_rows": null,
            "right": null,
            "justify_content": null,
            "_view_module": "@jupyter-widgets/base",
            "overflow": null,
            "_model_module_version": "1.2.0",
            "_view_count": null,
            "flex_flow": null,
            "width": null,
            "min_width": null,
            "border": null,
            "align_items": null,
            "bottom": null,
            "_model_module": "@jupyter-widgets/base",
            "top": null,
            "grid_column": null,
            "overflow_y": null,
            "overflow_x": null,
            "grid_auto_flow": null,
            "grid_area": null,
            "grid_template_columns": null,
            "flex": null,
            "_model_name": "LayoutModel",
            "justify_items": null,
            "grid_row": null,
            "max_height": null,
            "align_content": null,
            "visibility": null,
            "align_self": null,
            "height": null,
            "min_height": null,
            "padding": null,
            "grid_auto_rows": null,
            "grid_gap": null,
            "max_width": null,
            "order": null,
            "_view_module_version": "1.2.0",
            "grid_template_areas": null,
            "object_position": null,
            "object_fit": null,
            "grid_auto_columns": null,
            "margin": null,
            "display": null,
            "left": null
          }
        },
        "d447ef435be9460a9754b872d8363b5c": {
          "model_module": "@jupyter-widgets/controls",
          "model_name": "VBoxModel",
          "state": {
            "_view_name": "VBoxView",
            "_dom_classes": [],
            "_model_name": "VBoxModel",
            "_view_module": "@jupyter-widgets/controls",
            "_model_module_version": "1.5.0",
            "_view_count": null,
            "_view_module_version": "1.5.0",
            "box_style": "",
            "layout": "IPY_MODEL_7d385c208f5d4d25ab9d872e52270790",
            "_model_module": "@jupyter-widgets/controls",
            "children": [
              "IPY_MODEL_dbdaf077e5424dcaae408da452df6e8d",
              "IPY_MODEL_da452f0a67ad44419e34c11fe04d4634",
              "IPY_MODEL_8de4028987dd4b60862d09a34cfabbab",
              "IPY_MODEL_fed2a4026fbf49b0b66c471c81f98fd0"
            ]
          }
        },
        "7d385c208f5d4d25ab9d872e52270790": {
          "model_module": "@jupyter-widgets/base",
          "model_name": "LayoutModel",
          "state": {
            "_view_name": "LayoutView",
            "grid_template_rows": null,
            "right": null,
            "justify_content": null,
            "_view_module": "@jupyter-widgets/base",
            "overflow": null,
            "_model_module_version": "1.2.0",
            "_view_count": null,
            "flex_flow": null,
            "width": null,
            "min_width": null,
            "border": null,
            "align_items": null,
            "bottom": null,
            "_model_module": "@jupyter-widgets/base",
            "top": null,
            "grid_column": null,
            "overflow_y": null,
            "overflow_x": null,
            "grid_auto_flow": null,
            "grid_area": null,
            "grid_template_columns": null,
            "flex": null,
            "_model_name": "LayoutModel",
            "justify_items": null,
            "grid_row": null,
            "max_height": null,
            "align_content": null,
            "visibility": null,
            "align_self": null,
            "height": null,
            "min_height": null,
            "padding": null,
            "grid_auto_rows": null,
            "grid_gap": null,
            "max_width": null,
            "order": null,
            "_view_module_version": "1.2.0",
            "grid_template_areas": null,
            "object_position": null,
            "object_fit": null,
            "grid_auto_columns": null,
            "margin": null,
            "display": null,
            "left": null
          }
        },
        "dbdaf077e5424dcaae408da452df6e8d": {
          "model_module": "@jupyter-widgets/output",
          "model_name": "OutputModel",
          "state": {
            "_view_name": "OutputView",
            "msg_id": "",
            "_dom_classes": [],
            "_model_name": "OutputModel",
            "outputs": [
              {
                "output_type": "display_data",
                "metadata": {
                  "tags": []
                },
                "application/vnd.jupyter.widget-view+json": {
                  "model_id": "eca78fa2f73948ceb2dd083caf6d9a48",
                  "version_minor": 0,
                  "version_major": 2
                },
                "text/plain": "HTML(value='\\n            How is negative sampling performed? Why?\\n        ')"
              }
            ],
            "_view_module": "@jupyter-widgets/output",
            "_model_module_version": "1.0.0",
            "_view_count": null,
            "_view_module_version": "1.0.0",
            "layout": "IPY_MODEL_892f0752cd3744999a15529fbd5c5e82",
            "_model_module": "@jupyter-widgets/output"
          }
        },
        "da452f0a67ad44419e34c11fe04d4634": {
          "model_module": "@jupyter-widgets/controls",
          "model_name": "RadioButtonsModel",
          "state": {
            "_options_labels": [
              "without replacement; negative samples are i.i.d.",
              "with replacement; negative samples are i.i.d.",
              "without replacement; it is efficient",
              "with replacement; it is efficient"
            ],
            "_view_name": "RadioButtonsView",
            "style": "IPY_MODEL_b45e00219f3743c2baa23f698194bf07",
            "_dom_classes": [],
            "description": "",
            "_model_name": "RadioButtonsModel",
            "index": 0,
            "_view_module": "@jupyter-widgets/controls",
            "_model_module_version": "1.5.0",
            "_view_count": null,
            "disabled": false,
            "_view_module_version": "1.5.0",
            "description_tooltip": null,
            "_model_module": "@jupyter-widgets/controls",
            "layout": "IPY_MODEL_1d77f357a2b54357a37ba8542ef67927"
          }
        },
        "8de4028987dd4b60862d09a34cfabbab": {
          "model_module": "@jupyter-widgets/controls",
          "model_name": "HTMLModel",
          "state": {
            "_view_name": "HTMLView",
            "style": "IPY_MODEL_571a0a358f5e434fb510bea9dd02031d",
            "_dom_classes": [],
            "description": "",
            "_model_name": "HTMLModel",
            "placeholder": "​",
            "_view_module": "@jupyter-widgets/controls",
            "_model_module_version": "1.5.0",
            "value": "<br>",
            "_view_count": null,
            "_view_module_version": "1.5.0",
            "description_tooltip": null,
            "_model_module": "@jupyter-widgets/controls",
            "layout": "IPY_MODEL_4e5294cacc994355a4a8176961772e87"
          }
        },
        "fed2a4026fbf49b0b66c471c81f98fd0": {
          "model_module": "@jupyter-widgets/controls",
          "model_name": "ButtonModel",
          "state": {
            "_view_name": "ButtonView",
            "style": "IPY_MODEL_dd9353791c70458f9538aa18e92b7b9e",
            "_dom_classes": [],
            "description": "Check",
            "_model_name": "ButtonModel",
            "button_style": "",
            "_view_module": "@jupyter-widgets/controls",
            "_model_module_version": "1.5.0",
            "tooltip": "",
            "_view_count": null,
            "disabled": false,
            "_view_module_version": "1.5.0",
            "layout": "IPY_MODEL_bf35bf4d018848688a4f76e30349e211",
            "_model_module": "@jupyter-widgets/controls",
            "icon": ""
          }
        },
        "b45e00219f3743c2baa23f698194bf07": {
          "model_module": "@jupyter-widgets/controls",
          "model_name": "DescriptionStyleModel",
          "state": {
            "_view_name": "StyleView",
            "_model_name": "DescriptionStyleModel",
            "description_width": "",
            "_view_module": "@jupyter-widgets/base",
            "_model_module_version": "1.5.0",
            "_view_count": null,
            "_view_module_version": "1.2.0",
            "_model_module": "@jupyter-widgets/controls"
          }
        },
        "1d77f357a2b54357a37ba8542ef67927": {
          "model_module": "@jupyter-widgets/base",
          "model_name": "LayoutModel",
          "state": {
            "_view_name": "LayoutView",
            "grid_template_rows": null,
            "right": null,
            "justify_content": null,
            "_view_module": "@jupyter-widgets/base",
            "overflow": null,
            "_model_module_version": "1.2.0",
            "_view_count": null,
            "flex_flow": null,
            "width": null,
            "min_width": null,
            "border": null,
            "align_items": null,
            "bottom": null,
            "_model_module": "@jupyter-widgets/base",
            "top": null,
            "grid_column": null,
            "overflow_y": null,
            "overflow_x": null,
            "grid_auto_flow": null,
            "grid_area": null,
            "grid_template_columns": null,
            "flex": null,
            "_model_name": "LayoutModel",
            "justify_items": null,
            "grid_row": null,
            "max_height": null,
            "align_content": null,
            "visibility": null,
            "align_self": null,
            "height": null,
            "min_height": null,
            "padding": null,
            "grid_auto_rows": null,
            "grid_gap": null,
            "max_width": null,
            "order": null,
            "_view_module_version": "1.2.0",
            "grid_template_areas": null,
            "object_position": null,
            "object_fit": null,
            "grid_auto_columns": null,
            "margin": null,
            "display": null,
            "left": null
          }
        },
        "571a0a358f5e434fb510bea9dd02031d": {
          "model_module": "@jupyter-widgets/controls",
          "model_name": "DescriptionStyleModel",
          "state": {
            "_view_name": "StyleView",
            "_model_name": "DescriptionStyleModel",
            "description_width": "",
            "_view_module": "@jupyter-widgets/base",
            "_model_module_version": "1.5.0",
            "_view_count": null,
            "_view_module_version": "1.2.0",
            "_model_module": "@jupyter-widgets/controls"
          }
        },
        "4e5294cacc994355a4a8176961772e87": {
          "model_module": "@jupyter-widgets/base",
          "model_name": "LayoutModel",
          "state": {
            "_view_name": "LayoutView",
            "grid_template_rows": null,
            "right": null,
            "justify_content": null,
            "_view_module": "@jupyter-widgets/base",
            "overflow": null,
            "_model_module_version": "1.2.0",
            "_view_count": null,
            "flex_flow": null,
            "width": null,
            "min_width": null,
            "border": null,
            "align_items": null,
            "bottom": null,
            "_model_module": "@jupyter-widgets/base",
            "top": null,
            "grid_column": null,
            "overflow_y": null,
            "overflow_x": null,
            "grid_auto_flow": null,
            "grid_area": null,
            "grid_template_columns": null,
            "flex": null,
            "_model_name": "LayoutModel",
            "justify_items": null,
            "grid_row": null,
            "max_height": null,
            "align_content": null,
            "visibility": null,
            "align_self": null,
            "height": null,
            "min_height": null,
            "padding": null,
            "grid_auto_rows": null,
            "grid_gap": null,
            "max_width": null,
            "order": null,
            "_view_module_version": "1.2.0",
            "grid_template_areas": null,
            "object_position": null,
            "object_fit": null,
            "grid_auto_columns": null,
            "margin": null,
            "display": null,
            "left": null
          }
        },
        "dd9353791c70458f9538aa18e92b7b9e": {
          "model_module": "@jupyter-widgets/controls",
          "model_name": "ButtonStyleModel",
          "state": {
            "_view_name": "StyleView",
            "_model_name": "ButtonStyleModel",
            "_view_module": "@jupyter-widgets/base",
            "_model_module_version": "1.5.0",
            "_view_count": null,
            "button_color": null,
            "font_weight": "",
            "_view_module_version": "1.2.0",
            "_model_module": "@jupyter-widgets/controls"
          }
        },
        "bf35bf4d018848688a4f76e30349e211": {
          "model_module": "@jupyter-widgets/base",
          "model_name": "LayoutModel",
          "state": {
            "_view_name": "LayoutView",
            "grid_template_rows": null,
            "right": null,
            "justify_content": null,
            "_view_module": "@jupyter-widgets/base",
            "overflow": null,
            "_model_module_version": "1.2.0",
            "_view_count": null,
            "flex_flow": null,
            "width": null,
            "min_width": null,
            "border": null,
            "align_items": null,
            "bottom": null,
            "_model_module": "@jupyter-widgets/base",
            "top": null,
            "grid_column": null,
            "overflow_y": null,
            "overflow_x": null,
            "grid_auto_flow": null,
            "grid_area": null,
            "grid_template_columns": null,
            "flex": null,
            "_model_name": "LayoutModel",
            "justify_items": null,
            "grid_row": null,
            "max_height": null,
            "align_content": null,
            "visibility": null,
            "align_self": null,
            "height": null,
            "min_height": null,
            "padding": null,
            "grid_auto_rows": null,
            "grid_gap": null,
            "max_width": null,
            "order": null,
            "_view_module_version": "1.2.0",
            "grid_template_areas": null,
            "object_position": null,
            "object_fit": null,
            "grid_auto_columns": null,
            "margin": null,
            "display": null,
            "left": null
          }
        },
        "eca78fa2f73948ceb2dd083caf6d9a48": {
          "model_module": "@jupyter-widgets/controls",
          "model_name": "HTMLModel",
          "state": {
            "_view_name": "HTMLView",
            "style": "IPY_MODEL_bb0ca01a1ebb42f298076d1fe39e8854",
            "_dom_classes": [],
            "description": "",
            "_model_name": "HTMLModel",
            "placeholder": "​",
            "_view_module": "@jupyter-widgets/controls",
            "_model_module_version": "1.5.0",
            "value": "\n            How is negative sampling performed? Why?\n        ",
            "_view_count": null,
            "_view_module_version": "1.5.0",
            "description_tooltip": null,
            "_model_module": "@jupyter-widgets/controls",
            "layout": "IPY_MODEL_01517c0c69244328ac6d1657b7e89390"
          }
        },
        "892f0752cd3744999a15529fbd5c5e82": {
          "model_module": "@jupyter-widgets/base",
          "model_name": "LayoutModel",
          "state": {
            "_view_name": "LayoutView",
            "grid_template_rows": null,
            "right": null,
            "justify_content": null,
            "_view_module": "@jupyter-widgets/base",
            "overflow": null,
            "_model_module_version": "1.2.0",
            "_view_count": null,
            "flex_flow": null,
            "width": null,
            "min_width": null,
            "border": null,
            "align_items": null,
            "bottom": null,
            "_model_module": "@jupyter-widgets/base",
            "top": null,
            "grid_column": null,
            "overflow_y": null,
            "overflow_x": null,
            "grid_auto_flow": null,
            "grid_area": null,
            "grid_template_columns": null,
            "flex": null,
            "_model_name": "LayoutModel",
            "justify_items": null,
            "grid_row": null,
            "max_height": null,
            "align_content": null,
            "visibility": null,
            "align_self": null,
            "height": null,
            "min_height": null,
            "padding": null,
            "grid_auto_rows": null,
            "grid_gap": null,
            "max_width": null,
            "order": null,
            "_view_module_version": "1.2.0",
            "grid_template_areas": null,
            "object_position": null,
            "object_fit": null,
            "grid_auto_columns": null,
            "margin": null,
            "display": null,
            "left": null
          }
        },
        "bb0ca01a1ebb42f298076d1fe39e8854": {
          "model_module": "@jupyter-widgets/controls",
          "model_name": "DescriptionStyleModel",
          "state": {
            "_view_name": "StyleView",
            "_model_name": "DescriptionStyleModel",
            "description_width": "",
            "_view_module": "@jupyter-widgets/base",
            "_model_module_version": "1.5.0",
            "_view_count": null,
            "_view_module_version": "1.2.0",
            "_model_module": "@jupyter-widgets/controls"
          }
        },
        "01517c0c69244328ac6d1657b7e89390": {
          "model_module": "@jupyter-widgets/base",
          "model_name": "LayoutModel",
          "state": {
            "_view_name": "LayoutView",
            "grid_template_rows": null,
            "right": null,
            "justify_content": null,
            "_view_module": "@jupyter-widgets/base",
            "overflow": null,
            "_model_module_version": "1.2.0",
            "_view_count": null,
            "flex_flow": null,
            "width": null,
            "min_width": null,
            "border": null,
            "align_items": null,
            "bottom": null,
            "_model_module": "@jupyter-widgets/base",
            "top": null,
            "grid_column": null,
            "overflow_y": null,
            "overflow_x": null,
            "grid_auto_flow": null,
            "grid_area": null,
            "grid_template_columns": null,
            "flex": null,
            "_model_name": "LayoutModel",
            "justify_items": null,
            "grid_row": null,
            "max_height": null,
            "align_content": null,
            "visibility": null,
            "align_self": null,
            "height": null,
            "min_height": null,
            "padding": null,
            "grid_auto_rows": null,
            "grid_gap": null,
            "max_width": null,
            "order": null,
            "_view_module_version": "1.2.0",
            "grid_template_areas": null,
            "object_position": null,
            "object_fit": null,
            "grid_auto_columns": null,
            "margin": null,
            "display": null,
            "left": null
          }
        },
        "8bd606a3a5154f5aaa22795d9f78e12d": {
          "model_module": "@jupyter-widgets/controls",
          "model_name": "HBoxModel",
          "state": {
            "_view_name": "HBoxView",
            "_dom_classes": [],
            "_model_name": "HBoxModel",
            "_view_module": "@jupyter-widgets/controls",
            "_model_module_version": "1.5.0",
            "_view_count": null,
            "_view_module_version": "1.5.0",
            "box_style": "",
            "layout": "IPY_MODEL_e2918af745ec464192ad67d9d8f8a765",
            "_model_module": "@jupyter-widgets/controls",
            "children": [
              "IPY_MODEL_d66db06dd21a43f4a0e54a04c0f1c2dc",
              "IPY_MODEL_e86053ff711945bcbbba9f89c1b6dcf6"
            ]
          }
        },
        "e2918af745ec464192ad67d9d8f8a765": {
          "model_module": "@jupyter-widgets/base",
          "model_name": "LayoutModel",
          "state": {
            "_view_name": "LayoutView",
            "grid_template_rows": null,
            "right": null,
            "justify_content": null,
            "_view_module": "@jupyter-widgets/base",
            "overflow": null,
            "_model_module_version": "1.2.0",
            "_view_count": null,
            "flex_flow": null,
            "width": null,
            "min_width": null,
            "border": null,
            "align_items": null,
            "bottom": null,
            "_model_module": "@jupyter-widgets/base",
            "top": null,
            "grid_column": null,
            "overflow_y": null,
            "overflow_x": null,
            "grid_auto_flow": null,
            "grid_area": null,
            "grid_template_columns": null,
            "flex": null,
            "_model_name": "LayoutModel",
            "justify_items": null,
            "grid_row": null,
            "max_height": null,
            "align_content": null,
            "visibility": null,
            "align_self": null,
            "height": null,
            "min_height": null,
            "padding": null,
            "grid_auto_rows": null,
            "grid_gap": null,
            "max_width": null,
            "order": null,
            "_view_module_version": "1.2.0",
            "grid_template_areas": null,
            "object_position": null,
            "object_fit": null,
            "grid_auto_columns": null,
            "margin": null,
            "display": null,
            "left": null
          }
        },
        "d66db06dd21a43f4a0e54a04c0f1c2dc": {
          "model_module": "@jupyter-widgets/controls",
          "model_name": "FloatProgressModel",
          "state": {
            "_view_name": "ProgressView",
            "style": "IPY_MODEL_31ffaa6cef374556aafbad21c73ebffd",
            "_dom_classes": [],
            "description": "tokenize: 100%",
            "_model_name": "FloatProgressModel",
            "bar_style": "success",
            "max": 18846,
            "_view_module": "@jupyter-widgets/controls",
            "_model_module_version": "1.5.0",
            "value": 18846,
            "_view_count": null,
            "_view_module_version": "1.5.0",
            "orientation": "horizontal",
            "min": 0,
            "description_tooltip": null,
            "_model_module": "@jupyter-widgets/controls",
            "layout": "IPY_MODEL_233dd93735a94a93a9aa0081423e3fda"
          }
        },
        "e86053ff711945bcbbba9f89c1b6dcf6": {
          "model_module": "@jupyter-widgets/controls",
          "model_name": "HTMLModel",
          "state": {
            "_view_name": "HTMLView",
            "style": "IPY_MODEL_a8b509284efd41e698fb447b8b9177ef",
            "_dom_classes": [],
            "description": "",
            "_model_name": "HTMLModel",
            "placeholder": "​",
            "_view_module": "@jupyter-widgets/controls",
            "_model_module_version": "1.5.0",
            "value": " 18846/18846 [05:11&lt;00:00, 60.59it/s]",
            "_view_count": null,
            "_view_module_version": "1.5.0",
            "description_tooltip": null,
            "_model_module": "@jupyter-widgets/controls",
            "layout": "IPY_MODEL_e60d93c4b3f14fbd9a9dcd728309c4fe"
          }
        },
        "31ffaa6cef374556aafbad21c73ebffd": {
          "model_module": "@jupyter-widgets/controls",
          "model_name": "ProgressStyleModel",
          "state": {
            "_view_name": "StyleView",
            "_model_name": "ProgressStyleModel",
            "description_width": "initial",
            "_view_module": "@jupyter-widgets/base",
            "_model_module_version": "1.5.0",
            "_view_count": null,
            "_view_module_version": "1.2.0",
            "bar_color": null,
            "_model_module": "@jupyter-widgets/controls"
          }
        },
        "233dd93735a94a93a9aa0081423e3fda": {
          "model_module": "@jupyter-widgets/base",
          "model_name": "LayoutModel",
          "state": {
            "_view_name": "LayoutView",
            "grid_template_rows": null,
            "right": null,
            "justify_content": null,
            "_view_module": "@jupyter-widgets/base",
            "overflow": null,
            "_model_module_version": "1.2.0",
            "_view_count": null,
            "flex_flow": null,
            "width": null,
            "min_width": null,
            "border": null,
            "align_items": null,
            "bottom": null,
            "_model_module": "@jupyter-widgets/base",
            "top": null,
            "grid_column": null,
            "overflow_y": null,
            "overflow_x": null,
            "grid_auto_flow": null,
            "grid_area": null,
            "grid_template_columns": null,
            "flex": null,
            "_model_name": "LayoutModel",
            "justify_items": null,
            "grid_row": null,
            "max_height": null,
            "align_content": null,
            "visibility": null,
            "align_self": null,
            "height": null,
            "min_height": null,
            "padding": null,
            "grid_auto_rows": null,
            "grid_gap": null,
            "max_width": null,
            "order": null,
            "_view_module_version": "1.2.0",
            "grid_template_areas": null,
            "object_position": null,
            "object_fit": null,
            "grid_auto_columns": null,
            "margin": null,
            "display": null,
            "left": null
          }
        },
        "a8b509284efd41e698fb447b8b9177ef": {
          "model_module": "@jupyter-widgets/controls",
          "model_name": "DescriptionStyleModel",
          "state": {
            "_view_name": "StyleView",
            "_model_name": "DescriptionStyleModel",
            "description_width": "",
            "_view_module": "@jupyter-widgets/base",
            "_model_module_version": "1.5.0",
            "_view_count": null,
            "_view_module_version": "1.2.0",
            "_model_module": "@jupyter-widgets/controls"
          }
        },
        "e60d93c4b3f14fbd9a9dcd728309c4fe": {
          "model_module": "@jupyter-widgets/base",
          "model_name": "LayoutModel",
          "state": {
            "_view_name": "LayoutView",
            "grid_template_rows": null,
            "right": null,
            "justify_content": null,
            "_view_module": "@jupyter-widgets/base",
            "overflow": null,
            "_model_module_version": "1.2.0",
            "_view_count": null,
            "flex_flow": null,
            "width": null,
            "min_width": null,
            "border": null,
            "align_items": null,
            "bottom": null,
            "_model_module": "@jupyter-widgets/base",
            "top": null,
            "grid_column": null,
            "overflow_y": null,
            "overflow_x": null,
            "grid_auto_flow": null,
            "grid_area": null,
            "grid_template_columns": null,
            "flex": null,
            "_model_name": "LayoutModel",
            "justify_items": null,
            "grid_row": null,
            "max_height": null,
            "align_content": null,
            "visibility": null,
            "align_self": null,
            "height": null,
            "min_height": null,
            "padding": null,
            "grid_auto_rows": null,
            "grid_gap": null,
            "max_width": null,
            "order": null,
            "_view_module_version": "1.2.0",
            "grid_template_areas": null,
            "object_position": null,
            "object_fit": null,
            "grid_auto_columns": null,
            "margin": null,
            "display": null,
            "left": null
          }
        },
        "0e119ff76ef3404689fc3655205aa4dd": {
          "model_module": "@jupyter-widgets/controls",
          "model_name": "VBoxModel",
          "state": {
            "_view_name": "VBoxView",
            "_dom_classes": [],
            "_model_name": "VBoxModel",
            "_view_module": "@jupyter-widgets/controls",
            "_model_module_version": "1.5.0",
            "_view_count": null,
            "_view_module_version": "1.5.0",
            "box_style": "",
            "layout": "IPY_MODEL_b2d44bc111934d9696dc94699ee94a0d",
            "_model_module": "@jupyter-widgets/controls",
            "children": [
              "IPY_MODEL_aca88219df03433888cceb71f1aa9dc4",
              "IPY_MODEL_b6e4e33859cc469898f84b584ee73757",
              "IPY_MODEL_c569fe737c284b218a81c7b9a6695e4a",
              "IPY_MODEL_4b5aa5e6ccf64789a8677b54eae32c0d"
            ]
          }
        },
        "b2d44bc111934d9696dc94699ee94a0d": {
          "model_module": "@jupyter-widgets/base",
          "model_name": "LayoutModel",
          "state": {
            "_view_name": "LayoutView",
            "grid_template_rows": null,
            "right": null,
            "justify_content": null,
            "_view_module": "@jupyter-widgets/base",
            "overflow": null,
            "_model_module_version": "1.2.0",
            "_view_count": null,
            "flex_flow": null,
            "width": null,
            "min_width": null,
            "border": null,
            "align_items": null,
            "bottom": null,
            "_model_module": "@jupyter-widgets/base",
            "top": null,
            "grid_column": null,
            "overflow_y": null,
            "overflow_x": null,
            "grid_auto_flow": null,
            "grid_area": null,
            "grid_template_columns": null,
            "flex": null,
            "_model_name": "LayoutModel",
            "justify_items": null,
            "grid_row": null,
            "max_height": null,
            "align_content": null,
            "visibility": null,
            "align_self": null,
            "height": null,
            "min_height": null,
            "padding": null,
            "grid_auto_rows": null,
            "grid_gap": null,
            "max_width": null,
            "order": null,
            "_view_module_version": "1.2.0",
            "grid_template_areas": null,
            "object_position": null,
            "object_fit": null,
            "grid_auto_columns": null,
            "margin": null,
            "display": null,
            "left": null
          }
        },
        "aca88219df03433888cceb71f1aa9dc4": {
          "model_module": "@jupyter-widgets/output",
          "model_name": "OutputModel",
          "state": {
            "_view_name": "OutputView",
            "msg_id": "",
            "_dom_classes": [],
            "_model_name": "OutputModel",
            "outputs": [
              {
                "output_type": "display_data",
                "metadata": {
                  "tags": []
                },
                "application/vnd.jupyter.widget-view+json": {
                  "model_id": "761b5037886b4c969d9345434a134150",
                  "version_minor": 0,
                  "version_major": 2
                },
                "text/plain": "HTML(value='\\n            What is the most similar word to the word \"twitter\" according to the model \"glove-wi…"
              }
            ],
            "_view_module": "@jupyter-widgets/output",
            "_model_module_version": "1.0.0",
            "_view_count": null,
            "_view_module_version": "1.0.0",
            "layout": "IPY_MODEL_1a20fee6448946de8ac40b502022966d",
            "_model_module": "@jupyter-widgets/output"
          }
        },
        "b6e4e33859cc469898f84b584ee73757": {
          "model_module": "@jupyter-widgets/controls",
          "model_name": "RadioButtonsModel",
          "state": {
            "_options_labels": [
              "instagram",
              "facebook",
              "youtube",
              "internet"
            ],
            "_view_name": "RadioButtonsView",
            "style": "IPY_MODEL_b29bd19b7ef94954bdef7ff2373d79b8",
            "_dom_classes": [],
            "description": "",
            "_model_name": "RadioButtonsModel",
            "index": 0,
            "_view_module": "@jupyter-widgets/controls",
            "_model_module_version": "1.5.0",
            "_view_count": null,
            "disabled": false,
            "_view_module_version": "1.5.0",
            "description_tooltip": null,
            "_model_module": "@jupyter-widgets/controls",
            "layout": "IPY_MODEL_f3a3b6453c964b2ca886898b35bac84d"
          }
        },
        "c569fe737c284b218a81c7b9a6695e4a": {
          "model_module": "@jupyter-widgets/controls",
          "model_name": "HTMLModel",
          "state": {
            "_view_name": "HTMLView",
            "style": "IPY_MODEL_f8ce978c3da34a6e89c7a7d0e449e742",
            "_dom_classes": [],
            "description": "",
            "_model_name": "HTMLModel",
            "placeholder": "​",
            "_view_module": "@jupyter-widgets/controls",
            "_model_module_version": "1.5.0",
            "value": "<br>",
            "_view_count": null,
            "_view_module_version": "1.5.0",
            "description_tooltip": null,
            "_model_module": "@jupyter-widgets/controls",
            "layout": "IPY_MODEL_86ec492eda914776909781ba2377f5db"
          }
        },
        "4b5aa5e6ccf64789a8677b54eae32c0d": {
          "model_module": "@jupyter-widgets/controls",
          "model_name": "ButtonModel",
          "state": {
            "_view_name": "ButtonView",
            "style": "IPY_MODEL_d6a11985b5a0461ab7b598c921bdad1a",
            "_dom_classes": [],
            "description": "Check",
            "_model_name": "ButtonModel",
            "button_style": "",
            "_view_module": "@jupyter-widgets/controls",
            "_model_module_version": "1.5.0",
            "tooltip": "",
            "_view_count": null,
            "disabled": false,
            "_view_module_version": "1.5.0",
            "layout": "IPY_MODEL_98b2e053f96e465aacc9ed746b61a414",
            "_model_module": "@jupyter-widgets/controls",
            "icon": ""
          }
        },
        "b29bd19b7ef94954bdef7ff2373d79b8": {
          "model_module": "@jupyter-widgets/controls",
          "model_name": "DescriptionStyleModel",
          "state": {
            "_view_name": "StyleView",
            "_model_name": "DescriptionStyleModel",
            "description_width": "",
            "_view_module": "@jupyter-widgets/base",
            "_model_module_version": "1.5.0",
            "_view_count": null,
            "_view_module_version": "1.2.0",
            "_model_module": "@jupyter-widgets/controls"
          }
        },
        "f3a3b6453c964b2ca886898b35bac84d": {
          "model_module": "@jupyter-widgets/base",
          "model_name": "LayoutModel",
          "state": {
            "_view_name": "LayoutView",
            "grid_template_rows": null,
            "right": null,
            "justify_content": null,
            "_view_module": "@jupyter-widgets/base",
            "overflow": null,
            "_model_module_version": "1.2.0",
            "_view_count": null,
            "flex_flow": null,
            "width": null,
            "min_width": null,
            "border": null,
            "align_items": null,
            "bottom": null,
            "_model_module": "@jupyter-widgets/base",
            "top": null,
            "grid_column": null,
            "overflow_y": null,
            "overflow_x": null,
            "grid_auto_flow": null,
            "grid_area": null,
            "grid_template_columns": null,
            "flex": null,
            "_model_name": "LayoutModel",
            "justify_items": null,
            "grid_row": null,
            "max_height": null,
            "align_content": null,
            "visibility": null,
            "align_self": null,
            "height": null,
            "min_height": null,
            "padding": null,
            "grid_auto_rows": null,
            "grid_gap": null,
            "max_width": null,
            "order": null,
            "_view_module_version": "1.2.0",
            "grid_template_areas": null,
            "object_position": null,
            "object_fit": null,
            "grid_auto_columns": null,
            "margin": null,
            "display": null,
            "left": null
          }
        },
        "f8ce978c3da34a6e89c7a7d0e449e742": {
          "model_module": "@jupyter-widgets/controls",
          "model_name": "DescriptionStyleModel",
          "state": {
            "_view_name": "StyleView",
            "_model_name": "DescriptionStyleModel",
            "description_width": "",
            "_view_module": "@jupyter-widgets/base",
            "_model_module_version": "1.5.0",
            "_view_count": null,
            "_view_module_version": "1.2.0",
            "_model_module": "@jupyter-widgets/controls"
          }
        },
        "86ec492eda914776909781ba2377f5db": {
          "model_module": "@jupyter-widgets/base",
          "model_name": "LayoutModel",
          "state": {
            "_view_name": "LayoutView",
            "grid_template_rows": null,
            "right": null,
            "justify_content": null,
            "_view_module": "@jupyter-widgets/base",
            "overflow": null,
            "_model_module_version": "1.2.0",
            "_view_count": null,
            "flex_flow": null,
            "width": null,
            "min_width": null,
            "border": null,
            "align_items": null,
            "bottom": null,
            "_model_module": "@jupyter-widgets/base",
            "top": null,
            "grid_column": null,
            "overflow_y": null,
            "overflow_x": null,
            "grid_auto_flow": null,
            "grid_area": null,
            "grid_template_columns": null,
            "flex": null,
            "_model_name": "LayoutModel",
            "justify_items": null,
            "grid_row": null,
            "max_height": null,
            "align_content": null,
            "visibility": null,
            "align_self": null,
            "height": null,
            "min_height": null,
            "padding": null,
            "grid_auto_rows": null,
            "grid_gap": null,
            "max_width": null,
            "order": null,
            "_view_module_version": "1.2.0",
            "grid_template_areas": null,
            "object_position": null,
            "object_fit": null,
            "grid_auto_columns": null,
            "margin": null,
            "display": null,
            "left": null
          }
        },
        "d6a11985b5a0461ab7b598c921bdad1a": {
          "model_module": "@jupyter-widgets/controls",
          "model_name": "ButtonStyleModel",
          "state": {
            "_view_name": "StyleView",
            "_model_name": "ButtonStyleModel",
            "_view_module": "@jupyter-widgets/base",
            "_model_module_version": "1.5.0",
            "_view_count": null,
            "button_color": null,
            "font_weight": "",
            "_view_module_version": "1.2.0",
            "_model_module": "@jupyter-widgets/controls"
          }
        },
        "98b2e053f96e465aacc9ed746b61a414": {
          "model_module": "@jupyter-widgets/base",
          "model_name": "LayoutModel",
          "state": {
            "_view_name": "LayoutView",
            "grid_template_rows": null,
            "right": null,
            "justify_content": null,
            "_view_module": "@jupyter-widgets/base",
            "overflow": null,
            "_model_module_version": "1.2.0",
            "_view_count": null,
            "flex_flow": null,
            "width": null,
            "min_width": null,
            "border": null,
            "align_items": null,
            "bottom": null,
            "_model_module": "@jupyter-widgets/base",
            "top": null,
            "grid_column": null,
            "overflow_y": null,
            "overflow_x": null,
            "grid_auto_flow": null,
            "grid_area": null,
            "grid_template_columns": null,
            "flex": null,
            "_model_name": "LayoutModel",
            "justify_items": null,
            "grid_row": null,
            "max_height": null,
            "align_content": null,
            "visibility": null,
            "align_self": null,
            "height": null,
            "min_height": null,
            "padding": null,
            "grid_auto_rows": null,
            "grid_gap": null,
            "max_width": null,
            "order": null,
            "_view_module_version": "1.2.0",
            "grid_template_areas": null,
            "object_position": null,
            "object_fit": null,
            "grid_auto_columns": null,
            "margin": null,
            "display": null,
            "left": null
          }
        },
        "761b5037886b4c969d9345434a134150": {
          "model_module": "@jupyter-widgets/controls",
          "model_name": "HTMLModel",
          "state": {
            "_view_name": "HTMLView",
            "style": "IPY_MODEL_13c28b461cae486fabf4f0d1b6998537",
            "_dom_classes": [],
            "description": "",
            "_model_name": "HTMLModel",
            "placeholder": "​",
            "_view_module": "@jupyter-widgets/controls",
            "_model_module_version": "1.5.0",
            "value": "\n            What is the most similar word to the word \"twitter\" according to the model \"glove-wiki-gigaword-100\"?\n        ",
            "_view_count": null,
            "_view_module_version": "1.5.0",
            "description_tooltip": null,
            "_model_module": "@jupyter-widgets/controls",
            "layout": "IPY_MODEL_6fd09ca4693746cbb6528a7377f89cac"
          }
        },
        "1a20fee6448946de8ac40b502022966d": {
          "model_module": "@jupyter-widgets/base",
          "model_name": "LayoutModel",
          "state": {
            "_view_name": "LayoutView",
            "grid_template_rows": null,
            "right": null,
            "justify_content": null,
            "_view_module": "@jupyter-widgets/base",
            "overflow": null,
            "_model_module_version": "1.2.0",
            "_view_count": null,
            "flex_flow": null,
            "width": null,
            "min_width": null,
            "border": null,
            "align_items": null,
            "bottom": null,
            "_model_module": "@jupyter-widgets/base",
            "top": null,
            "grid_column": null,
            "overflow_y": null,
            "overflow_x": null,
            "grid_auto_flow": null,
            "grid_area": null,
            "grid_template_columns": null,
            "flex": null,
            "_model_name": "LayoutModel",
            "justify_items": null,
            "grid_row": null,
            "max_height": null,
            "align_content": null,
            "visibility": null,
            "align_self": null,
            "height": null,
            "min_height": null,
            "padding": null,
            "grid_auto_rows": null,
            "grid_gap": null,
            "max_width": null,
            "order": null,
            "_view_module_version": "1.2.0",
            "grid_template_areas": null,
            "object_position": null,
            "object_fit": null,
            "grid_auto_columns": null,
            "margin": null,
            "display": null,
            "left": null
          }
        },
        "13c28b461cae486fabf4f0d1b6998537": {
          "model_module": "@jupyter-widgets/controls",
          "model_name": "DescriptionStyleModel",
          "state": {
            "_view_name": "StyleView",
            "_model_name": "DescriptionStyleModel",
            "description_width": "",
            "_view_module": "@jupyter-widgets/base",
            "_model_module_version": "1.5.0",
            "_view_count": null,
            "_view_module_version": "1.2.0",
            "_model_module": "@jupyter-widgets/controls"
          }
        },
        "6fd09ca4693746cbb6528a7377f89cac": {
          "model_module": "@jupyter-widgets/base",
          "model_name": "LayoutModel",
          "state": {
            "_view_name": "LayoutView",
            "grid_template_rows": null,
            "right": null,
            "justify_content": null,
            "_view_module": "@jupyter-widgets/base",
            "overflow": null,
            "_model_module_version": "1.2.0",
            "_view_count": null,
            "flex_flow": null,
            "width": null,
            "min_width": null,
            "border": null,
            "align_items": null,
            "bottom": null,
            "_model_module": "@jupyter-widgets/base",
            "top": null,
            "grid_column": null,
            "overflow_y": null,
            "overflow_x": null,
            "grid_auto_flow": null,
            "grid_area": null,
            "grid_template_columns": null,
            "flex": null,
            "_model_name": "LayoutModel",
            "justify_items": null,
            "grid_row": null,
            "max_height": null,
            "align_content": null,
            "visibility": null,
            "align_self": null,
            "height": null,
            "min_height": null,
            "padding": null,
            "grid_auto_rows": null,
            "grid_gap": null,
            "max_width": null,
            "order": null,
            "_view_module_version": "1.2.0",
            "grid_template_areas": null,
            "object_position": null,
            "object_fit": null,
            "grid_auto_columns": null,
            "margin": null,
            "display": null,
            "left": null
          }
        },
        "2c70efa7e83443c49ff28b4f4d45596f": {
          "model_module": "@jupyter-widgets/controls",
          "model_name": "VBoxModel",
          "state": {
            "_view_name": "VBoxView",
            "_dom_classes": [],
            "_model_name": "VBoxModel",
            "_view_module": "@jupyter-widgets/controls",
            "_model_module_version": "1.5.0",
            "_view_count": null,
            "_view_module_version": "1.5.0",
            "box_style": "",
            "layout": "IPY_MODEL_bd7ba3617e4d42c7b3419635f4e3dcf2",
            "_model_module": "@jupyter-widgets/controls",
            "children": [
              "IPY_MODEL_4a42b6fffa5740fcaef34f7c6cc5530d",
              "IPY_MODEL_d2ea267469a241e4aa9aa039d161dd61",
              "IPY_MODEL_28fd749896e3411e9d25ac6565b106e1",
              "IPY_MODEL_2faf5e0d71bb4c2ebe6eeaac30709f05"
            ]
          }
        },
        "bd7ba3617e4d42c7b3419635f4e3dcf2": {
          "model_module": "@jupyter-widgets/base",
          "model_name": "LayoutModel",
          "state": {
            "_view_name": "LayoutView",
            "grid_template_rows": null,
            "right": null,
            "justify_content": null,
            "_view_module": "@jupyter-widgets/base",
            "overflow": null,
            "_model_module_version": "1.2.0",
            "_view_count": null,
            "flex_flow": null,
            "width": null,
            "min_width": null,
            "border": null,
            "align_items": null,
            "bottom": null,
            "_model_module": "@jupyter-widgets/base",
            "top": null,
            "grid_column": null,
            "overflow_y": null,
            "overflow_x": null,
            "grid_auto_flow": null,
            "grid_area": null,
            "grid_template_columns": null,
            "flex": null,
            "_model_name": "LayoutModel",
            "justify_items": null,
            "grid_row": null,
            "max_height": null,
            "align_content": null,
            "visibility": null,
            "align_self": null,
            "height": null,
            "min_height": null,
            "padding": null,
            "grid_auto_rows": null,
            "grid_gap": null,
            "max_width": null,
            "order": null,
            "_view_module_version": "1.2.0",
            "grid_template_areas": null,
            "object_position": null,
            "object_fit": null,
            "grid_auto_columns": null,
            "margin": null,
            "display": null,
            "left": null
          }
        },
        "4a42b6fffa5740fcaef34f7c6cc5530d": {
          "model_module": "@jupyter-widgets/output",
          "model_name": "OutputModel",
          "state": {
            "_view_name": "OutputView",
            "msg_id": "",
            "_dom_classes": [],
            "_model_name": "OutputModel",
            "outputs": [
              {
                "output_type": "display_data",
                "metadata": {
                  "tags": []
                },
                "application/vnd.jupyter.widget-view+json": {
                  "model_id": "89929e79f49d4b36aeaa99037b0f9c50",
                  "version_minor": 0,
                  "version_major": 2
                },
                "text/plain": "HTML(value='\\n            Solve the following word analogy task:\\n            $$\\n            \\\\overrightarrow…"
              }
            ],
            "_view_module": "@jupyter-widgets/output",
            "_model_module_version": "1.0.0",
            "_view_count": null,
            "_view_module_version": "1.0.0",
            "layout": "IPY_MODEL_b0b097c9d00947d9a14608a4cf17a192",
            "_model_module": "@jupyter-widgets/output"
          }
        },
        "d2ea267469a241e4aa9aa039d161dd61": {
          "model_module": "@jupyter-widgets/controls",
          "model_name": "RadioButtonsModel",
          "state": {
            "_options_labels": [
              "X = duchess",
              "X = marquess",
              "X = countess",
              "X = baronet"
            ],
            "_view_name": "RadioButtonsView",
            "style": "IPY_MODEL_8b8d74e6871741158c109e08e1cf7152",
            "_dom_classes": [],
            "description": "",
            "_model_name": "RadioButtonsModel",
            "index": 0,
            "_view_module": "@jupyter-widgets/controls",
            "_model_module_version": "1.5.0",
            "_view_count": null,
            "disabled": false,
            "_view_module_version": "1.5.0",
            "description_tooltip": null,
            "_model_module": "@jupyter-widgets/controls",
            "layout": "IPY_MODEL_0732b87c21534e18a59a0d489f95a634"
          }
        },
        "28fd749896e3411e9d25ac6565b106e1": {
          "model_module": "@jupyter-widgets/controls",
          "model_name": "HTMLModel",
          "state": {
            "_view_name": "HTMLView",
            "style": "IPY_MODEL_42d4d88236ca46e1970434ce0380744e",
            "_dom_classes": [],
            "description": "",
            "_model_name": "HTMLModel",
            "placeholder": "​",
            "_view_module": "@jupyter-widgets/controls",
            "_model_module_version": "1.5.0",
            "value": "<br>",
            "_view_count": null,
            "_view_module_version": "1.5.0",
            "description_tooltip": null,
            "_model_module": "@jupyter-widgets/controls",
            "layout": "IPY_MODEL_35009431b5c1434dbff4c810dce21f93"
          }
        },
        "2faf5e0d71bb4c2ebe6eeaac30709f05": {
          "model_module": "@jupyter-widgets/controls",
          "model_name": "ButtonModel",
          "state": {
            "_view_name": "ButtonView",
            "style": "IPY_MODEL_048ded4116314a84a6429c6067685b9e",
            "_dom_classes": [],
            "description": "Check",
            "_model_name": "ButtonModel",
            "button_style": "",
            "_view_module": "@jupyter-widgets/controls",
            "_model_module_version": "1.5.0",
            "tooltip": "",
            "_view_count": null,
            "disabled": false,
            "_view_module_version": "1.5.0",
            "layout": "IPY_MODEL_2972ee3474f2419594fd86d750d54743",
            "_model_module": "@jupyter-widgets/controls",
            "icon": ""
          }
        },
        "8b8d74e6871741158c109e08e1cf7152": {
          "model_module": "@jupyter-widgets/controls",
          "model_name": "DescriptionStyleModel",
          "state": {
            "_view_name": "StyleView",
            "_model_name": "DescriptionStyleModel",
            "description_width": "",
            "_view_module": "@jupyter-widgets/base",
            "_model_module_version": "1.5.0",
            "_view_count": null,
            "_view_module_version": "1.2.0",
            "_model_module": "@jupyter-widgets/controls"
          }
        },
        "0732b87c21534e18a59a0d489f95a634": {
          "model_module": "@jupyter-widgets/base",
          "model_name": "LayoutModel",
          "state": {
            "_view_name": "LayoutView",
            "grid_template_rows": null,
            "right": null,
            "justify_content": null,
            "_view_module": "@jupyter-widgets/base",
            "overflow": null,
            "_model_module_version": "1.2.0",
            "_view_count": null,
            "flex_flow": null,
            "width": null,
            "min_width": null,
            "border": null,
            "align_items": null,
            "bottom": null,
            "_model_module": "@jupyter-widgets/base",
            "top": null,
            "grid_column": null,
            "overflow_y": null,
            "overflow_x": null,
            "grid_auto_flow": null,
            "grid_area": null,
            "grid_template_columns": null,
            "flex": null,
            "_model_name": "LayoutModel",
            "justify_items": null,
            "grid_row": null,
            "max_height": null,
            "align_content": null,
            "visibility": null,
            "align_self": null,
            "height": null,
            "min_height": null,
            "padding": null,
            "grid_auto_rows": null,
            "grid_gap": null,
            "max_width": null,
            "order": null,
            "_view_module_version": "1.2.0",
            "grid_template_areas": null,
            "object_position": null,
            "object_fit": null,
            "grid_auto_columns": null,
            "margin": null,
            "display": null,
            "left": null
          }
        },
        "42d4d88236ca46e1970434ce0380744e": {
          "model_module": "@jupyter-widgets/controls",
          "model_name": "DescriptionStyleModel",
          "state": {
            "_view_name": "StyleView",
            "_model_name": "DescriptionStyleModel",
            "description_width": "",
            "_view_module": "@jupyter-widgets/base",
            "_model_module_version": "1.5.0",
            "_view_count": null,
            "_view_module_version": "1.2.0",
            "_model_module": "@jupyter-widgets/controls"
          }
        },
        "35009431b5c1434dbff4c810dce21f93": {
          "model_module": "@jupyter-widgets/base",
          "model_name": "LayoutModel",
          "state": {
            "_view_name": "LayoutView",
            "grid_template_rows": null,
            "right": null,
            "justify_content": null,
            "_view_module": "@jupyter-widgets/base",
            "overflow": null,
            "_model_module_version": "1.2.0",
            "_view_count": null,
            "flex_flow": null,
            "width": null,
            "min_width": null,
            "border": null,
            "align_items": null,
            "bottom": null,
            "_model_module": "@jupyter-widgets/base",
            "top": null,
            "grid_column": null,
            "overflow_y": null,
            "overflow_x": null,
            "grid_auto_flow": null,
            "grid_area": null,
            "grid_template_columns": null,
            "flex": null,
            "_model_name": "LayoutModel",
            "justify_items": null,
            "grid_row": null,
            "max_height": null,
            "align_content": null,
            "visibility": null,
            "align_self": null,
            "height": null,
            "min_height": null,
            "padding": null,
            "grid_auto_rows": null,
            "grid_gap": null,
            "max_width": null,
            "order": null,
            "_view_module_version": "1.2.0",
            "grid_template_areas": null,
            "object_position": null,
            "object_fit": null,
            "grid_auto_columns": null,
            "margin": null,
            "display": null,
            "left": null
          }
        },
        "048ded4116314a84a6429c6067685b9e": {
          "model_module": "@jupyter-widgets/controls",
          "model_name": "ButtonStyleModel",
          "state": {
            "_view_name": "StyleView",
            "_model_name": "ButtonStyleModel",
            "_view_module": "@jupyter-widgets/base",
            "_model_module_version": "1.5.0",
            "_view_count": null,
            "button_color": null,
            "font_weight": "",
            "_view_module_version": "1.2.0",
            "_model_module": "@jupyter-widgets/controls"
          }
        },
        "2972ee3474f2419594fd86d750d54743": {
          "model_module": "@jupyter-widgets/base",
          "model_name": "LayoutModel",
          "state": {
            "_view_name": "LayoutView",
            "grid_template_rows": null,
            "right": null,
            "justify_content": null,
            "_view_module": "@jupyter-widgets/base",
            "overflow": null,
            "_model_module_version": "1.2.0",
            "_view_count": null,
            "flex_flow": null,
            "width": null,
            "min_width": null,
            "border": null,
            "align_items": null,
            "bottom": null,
            "_model_module": "@jupyter-widgets/base",
            "top": null,
            "grid_column": null,
            "overflow_y": null,
            "overflow_x": null,
            "grid_auto_flow": null,
            "grid_area": null,
            "grid_template_columns": null,
            "flex": null,
            "_model_name": "LayoutModel",
            "justify_items": null,
            "grid_row": null,
            "max_height": null,
            "align_content": null,
            "visibility": null,
            "align_self": null,
            "height": null,
            "min_height": null,
            "padding": null,
            "grid_auto_rows": null,
            "grid_gap": null,
            "max_width": null,
            "order": null,
            "_view_module_version": "1.2.0",
            "grid_template_areas": null,
            "object_position": null,
            "object_fit": null,
            "grid_auto_columns": null,
            "margin": null,
            "display": null,
            "left": null
          }
        },
        "89929e79f49d4b36aeaa99037b0f9c50": {
          "model_module": "@jupyter-widgets/controls",
          "model_name": "HTMLModel",
          "state": {
            "_view_name": "HTMLView",
            "style": "IPY_MODEL_b3bb2e4fa2c74104bcb710a4cd10ac7f",
            "_dom_classes": [],
            "description": "",
            "_model_name": "HTMLModel",
            "placeholder": "​",
            "_view_module": "@jupyter-widgets/controls",
            "_model_module_version": "1.5.0",
            "value": "\n            Solve the following word analogy task:\n            $$\n            \\overrightarrow{\\mathrm{earl}} - \\overrightarrow{\\mathrm{man}} \\approx X - \\overrightarrow{\\mathrm{woman}}\n            $$\n            Use \"glove-wiki-gigaword-100\".\n        ",
            "_view_count": null,
            "_view_module_version": "1.5.0",
            "description_tooltip": null,
            "_model_module": "@jupyter-widgets/controls",
            "layout": "IPY_MODEL_a7ef0213bad044a8b21995b639ecf60f"
          }
        },
        "b0b097c9d00947d9a14608a4cf17a192": {
          "model_module": "@jupyter-widgets/base",
          "model_name": "LayoutModel",
          "state": {
            "_view_name": "LayoutView",
            "grid_template_rows": null,
            "right": null,
            "justify_content": null,
            "_view_module": "@jupyter-widgets/base",
            "overflow": null,
            "_model_module_version": "1.2.0",
            "_view_count": null,
            "flex_flow": null,
            "width": null,
            "min_width": null,
            "border": null,
            "align_items": null,
            "bottom": null,
            "_model_module": "@jupyter-widgets/base",
            "top": null,
            "grid_column": null,
            "overflow_y": null,
            "overflow_x": null,
            "grid_auto_flow": null,
            "grid_area": null,
            "grid_template_columns": null,
            "flex": null,
            "_model_name": "LayoutModel",
            "justify_items": null,
            "grid_row": null,
            "max_height": null,
            "align_content": null,
            "visibility": null,
            "align_self": null,
            "height": null,
            "min_height": null,
            "padding": null,
            "grid_auto_rows": null,
            "grid_gap": null,
            "max_width": null,
            "order": null,
            "_view_module_version": "1.2.0",
            "grid_template_areas": null,
            "object_position": null,
            "object_fit": null,
            "grid_auto_columns": null,
            "margin": null,
            "display": null,
            "left": null
          }
        },
        "b3bb2e4fa2c74104bcb710a4cd10ac7f": {
          "model_module": "@jupyter-widgets/controls",
          "model_name": "DescriptionStyleModel",
          "state": {
            "_view_name": "StyleView",
            "_model_name": "DescriptionStyleModel",
            "description_width": "",
            "_view_module": "@jupyter-widgets/base",
            "_model_module_version": "1.5.0",
            "_view_count": null,
            "_view_module_version": "1.2.0",
            "_model_module": "@jupyter-widgets/controls"
          }
        },
        "a7ef0213bad044a8b21995b639ecf60f": {
          "model_module": "@jupyter-widgets/base",
          "model_name": "LayoutModel",
          "state": {
            "_view_name": "LayoutView",
            "grid_template_rows": null,
            "right": null,
            "justify_content": null,
            "_view_module": "@jupyter-widgets/base",
            "overflow": null,
            "_model_module_version": "1.2.0",
            "_view_count": null,
            "flex_flow": null,
            "width": null,
            "min_width": null,
            "border": null,
            "align_items": null,
            "bottom": null,
            "_model_module": "@jupyter-widgets/base",
            "top": null,
            "grid_column": null,
            "overflow_y": null,
            "overflow_x": null,
            "grid_auto_flow": null,
            "grid_area": null,
            "grid_template_columns": null,
            "flex": null,
            "_model_name": "LayoutModel",
            "justify_items": null,
            "grid_row": null,
            "max_height": null,
            "align_content": null,
            "visibility": null,
            "align_self": null,
            "height": null,
            "min_height": null,
            "padding": null,
            "grid_auto_rows": null,
            "grid_gap": null,
            "max_width": null,
            "order": null,
            "_view_module_version": "1.2.0",
            "grid_template_areas": null,
            "object_position": null,
            "object_fit": null,
            "grid_auto_columns": null,
            "margin": null,
            "display": null,
            "left": null
          }
        }
      }
    }
  },
  "cells": [
    {
      "cell_type": "code",
      "metadata": {
        "id": "xb96gaW0L8SX",
        "colab_type": "code",
        "outputId": "2efdefb6-1391-4752-faa2-e1304da668f2",
        "colab": {
          "base_uri": "https://localhost:8080/",
          "height": 165
        }
      },
      "source": [
        "#@title <b><font color=\"red\">▶</font><font color=\"black\"> run this cell to prepare supplementary materials for the lesson</font></b>\n",
        "\n",
        "!rm -rf harbour-space-text-mining-course\n",
        "!git clone https://github.com/horoshenkih/harbour-space-text-mining-course.git\n",
        "import sys\n",
        "sys.path.append('harbour-space-text-mining-course')\n",
        "\n",
        "from tmcourse.utils import (\n",
        "    enable_mathjax_in_cell,\n",
        "    display_pca_scatterplot,\n",
        "    display_pca_scatterplot_interactive\n",
        ")\n",
        "from tmcourse.demo import (\n",
        "    demo_word2vec_batch,\n",
        "    demo_gradient_descent,\n",
        ")\n",
        "from tmcourse.quiz import (\n",
        "    quiz_skibidi,\n",
        "    quiz_word2vec_context,\n",
        "    quiz_word2vec_word_vector,\n",
        "    quiz_word2vec_subsampling,\n",
        "    quiz_word2vec_negative_sampling,\n",
        "    quiz_most_similar,\n",
        "    quiz_earl,\n",
        ")\n",
        "from tmcourse.ipyquiz import Quiz\n",
        "from tqdm.notebook import tqdm\n",
        "\n",
        "import warnings\n",
        "warnings.filterwarnings('ignore')"
      ],
      "execution_count": 0,
      "outputs": [
        {
          "output_type": "stream",
          "text": [
            "Cloning into 'harbour-space-text-mining-course'...\n",
            "remote: Enumerating objects: 147, done.\u001b[K\n",
            "remote: Counting objects:   0% (1/147)\u001b[K\rremote: Counting objects:   1% (2/147)\u001b[K\rremote: Counting objects:   2% (3/147)\u001b[K\rremote: Counting objects:   3% (5/147)\u001b[K\rremote: Counting objects:   4% (6/147)\u001b[K\rremote: Counting objects:   5% (8/147)\u001b[K\rremote: Counting objects:   6% (9/147)\u001b[K\rremote: Counting objects:   7% (11/147)\u001b[K\rremote: Counting objects:   8% (12/147)\u001b[K\rremote: Counting objects:   9% (14/147)\u001b[K\rremote: Counting objects:  10% (15/147)\u001b[K\rremote: Counting objects:  11% (17/147)\u001b[K\rremote: Counting objects:  12% (18/147)\u001b[K\rremote: Counting objects:  13% (20/147)\u001b[K\rremote: Counting objects:  14% (21/147)\u001b[K\rremote: Counting objects:  15% (23/147)\u001b[K\rremote: Counting objects:  16% (24/147)\u001b[K\rremote: Counting objects:  17% (25/147)\u001b[K\rremote: Counting objects:  18% (27/147)\u001b[K\rremote: Counting objects:  19% (28/147)\u001b[K\rremote: Counting objects:  20% (30/147)\u001b[K\rremote: Counting objects:  21% (31/147)\u001b[K\rremote: Counting objects:  22% (33/147)\u001b[K\rremote: Counting objects:  23% (34/147)\u001b[K\rremote: Counting objects:  24% (36/147)\u001b[K\rremote: Counting objects:  25% (37/147)\u001b[K\rremote: Counting objects:  26% (39/147)\u001b[K\rremote: Counting objects:  27% (40/147)\u001b[K\rremote: Counting objects:  28% (42/147)\u001b[K\rremote: Counting objects:  29% (43/147)\u001b[K\rremote: Counting objects:  30% (45/147)\u001b[K\rremote: Counting objects:  31% (46/147)\u001b[K\rremote: Counting objects:  32% (48/147)\u001b[K\rremote: Counting objects:  33% (49/147)\u001b[K\rremote: Counting objects:  34% (50/147)\u001b[K\rremote: Counting objects:  35% (52/147)\u001b[K\rremote: Counting objects:  36% (53/147)\u001b[K\rremote: Counting objects:  37% (55/147)\u001b[K\rremote: Counting objects:  38% (56/147)\u001b[K\rremote: Counting objects:  39% (58/147)\u001b[K\rremote: Counting objects:  40% (59/147)\u001b[K\rremote: Counting objects:  41% (61/147)\u001b[K\rremote: Counting objects:  42% (62/147)\u001b[K\rremote: Counting objects:  43% (64/147)\u001b[K\rremote: Counting objects:  44% (65/147)\u001b[K\rremote: Counting objects:  45% (67/147)\u001b[K\rremote: Counting objects:  46% (68/147)\u001b[K\rremote: Counting objects:  47% (70/147)\u001b[K\rremote: Counting objects:  48% (71/147)\u001b[K\rremote: Counting objects:  49% (73/147)\u001b[K\rremote: Counting objects:  50% (74/147)\u001b[K\rremote: Counting objects:  51% (75/147)\u001b[K\rremote: Counting objects:  52% (77/147)\u001b[K\rremote: Counting objects:  53% (78/147)\u001b[K\rremote: Counting objects:  54% (80/147)\u001b[K\rremote: Counting objects:  55% (81/147)\u001b[K\rremote: Counting objects:  56% (83/147)\u001b[K\rremote: Counting objects:  57% (84/147)\u001b[K\rremote: Counting objects:  58% (86/147)\u001b[K\rremote: Counting objects:  59% (87/147)\u001b[K\rremote: Counting objects:  60% (89/147)\u001b[K\rremote: Counting objects:  61% (90/147)\u001b[K\rremote: Counting objects:  62% (92/147)\u001b[K\rremote: Counting objects:  63% (93/147)\u001b[K\rremote: Counting objects:  64% (95/147)\u001b[K\rremote: Counting objects:  65% (96/147)\u001b[K\rremote: Counting objects:  66% (98/147)\u001b[K\rremote: Counting objects:  67% (99/147)\u001b[K\rremote: Counting objects:  68% (100/147)\u001b[K\rremote: Counting objects:  69% (102/147)\u001b[K\rremote: Counting objects:  70% (103/147)\u001b[K\rremote: Counting objects:  71% (105/147)\u001b[K\rremote: Counting objects:  72% (106/147)\u001b[K\rremote: Counting objects:  73% (108/147)\u001b[K\rremote: Counting objects:  74% (109/147)\u001b[K\rremote: Counting objects:  75% (111/147)\u001b[K\rremote: Counting objects:  76% (112/147)\u001b[K\rremote: Counting objects:  77% (114/147)\u001b[K\rremote: Counting objects:  78% (115/147)\u001b[K\rremote: Counting objects:  79% (117/147)\u001b[K\rremote: Counting objects:  80% (118/147)\u001b[K\rremote: Counting objects:  81% (120/147)\u001b[K\rremote: Counting objects:  82% (121/147)\u001b[K\rremote: Counting objects:  83% (123/147)\u001b[K\rremote: Counting objects:  84% (124/147)\u001b[K\rremote: Counting objects:  85% (125/147)\u001b[K\rremote: Counting objects:  86% (127/147)\u001b[K\rremote: Counting objects:  87% (128/147)\u001b[K\rremote: Counting objects:  88% (130/147)\u001b[K\rremote: Counting objects:  89% (131/147)\u001b[K\rremote: Counting objects:  90% (133/147)\u001b[K\rremote: Counting objects:  91% (134/147)\u001b[K\rremote: Counting objects:  92% (136/147)\u001b[K\rremote: Counting objects:  93% (137/147)\u001b[K\rremote: Counting objects:  94% (139/147)\u001b[K\rremote: Counting objects:  95% (140/147)\u001b[K\rremote: Counting objects:  96% (142/147)\u001b[K\rremote: Counting objects:  97% (143/147)\u001b[K\rremote: Counting objects:  98% (145/147)\u001b[K\rremote: Counting objects:  99% (146/147)\u001b[K\rremote: Counting objects: 100% (147/147)\u001b[K\rremote: Counting objects: 100% (147/147), done.\u001b[K\n",
            "remote: Compressing objects: 100% (96/96), done.\u001b[K\n",
            "remote: Total 454 (delta 95), reused 101 (delta 50), pack-reused 307\u001b[K\n",
            "Receiving objects: 100% (454/454), 40.56 MiB | 20.85 MiB/s, done.\n",
            "Resolving deltas: 100% (278/278), done.\n"
          ],
          "name": "stdout"
        }
      ]
    },
    {
      "cell_type": "markdown",
      "metadata": {
        "id": "TamR3h9OH8Hr",
        "colab_type": "text"
      },
      "source": [
        "<!--@slideshow slide-->\n",
        "<center><h1>Word vectors</h1></center>"
      ]
    },
    {
      "cell_type": "markdown",
      "metadata": {
        "id": "dAiUCXWVHvN1",
        "colab_type": "text"
      },
      "source": [
        "<!--@slideshow slide-->\n",
        "# Outline\n",
        "1. Sparsity problem (words are not orthogonal)\n",
        "1. Word meanings and distributional hypothesis\n",
        "1. word2vec: idea\n",
        "1. word2vec: algorithm\n",
        "1. word2vec in gensim\n",
        "1. Visualization of word vectors\n",
        "1. Properties of word vectors"
      ]
    },
    {
      "cell_type": "markdown",
      "metadata": {
        "id": "9FoyjBIAJW-a",
        "colab_type": "text"
      },
      "source": [
        "<!--@slideshow slide-->\n",
        "# Sparsity problem (words are not orthogonal)\n",
        "\n",
        "So far, we treated words (or terms) as discrete symbols.\n",
        "  - For each word, `TfidfVectorizer` creates a separate vector component.\n",
        "  - Hence all words are _orthogonal_.\n"
      ]
    },
    {
      "cell_type": "markdown",
      "metadata": {
        "id": "YNAF2SPNKuvW",
        "colab_type": "text"
      },
      "source": [
        "<!--@slideshow fragment-->\n",
        "The following experiment shows that it may be a problem:\n",
        "1. Take two questions from the Quora Question Pairs dataset:\n",
        "    - \"How can I be a good geologist?\"\n",
        "    - \"What should I do to be a great geologist?\"\n",
        "1. Compute the distance between their tfidf-vectors\n",
        "1. Repeat with only one change in the second question: \"good\" instead of \"great\"."
      ]
    },
    {
      "cell_type": "code",
      "metadata": {
        "id": "FK0zGGCiFJCl",
        "colab_type": "code",
        "outputId": "c0a9084c-338f-435d-803d-cde3698757aa",
        "colab": {
          "base_uri": "https://localhost:8080/",
          "height": 51
        }
      },
      "source": [
        "#@slideshow slide\n",
        "from sklearn.feature_extraction.text import TfidfVectorizer\n",
        "import pandas as pd\n",
        "import numpy as np\n",
        "from scipy.spatial.distance import cosine\n",
        "def row_to_array(sparse_matrix_row):\n",
        "    return np.squeeze(np.asarray(sparse_matrix_row.todense()))\n",
        "\n",
        "df = pd.read_csv(\"harbour-space-text-mining-course/datasets/quora_question_pairs/train.csv\")\n",
        "\n",
        "# words 'good' and 'great' are similar, but have different TF-IDF representations\n",
        "# let's see if it makes any difference\n",
        "\n",
        "vec = TfidfVectorizer().fit(list(df[\"question1\"].fillna(\".\")) + list(df[\"question2\"].fillna(\".\")))\n",
        "\n",
        "question_1 =              \"How can I be a good geologist?\"  # df.iloc[7][\"question1\"]\n",
        "question_2 =              \"What should I do to be a great geologist?\"  # df.iloc[7][\"question2\"]\n",
        "question_2_reformulated = \"What should I do to be a good geologist?\"\n",
        "\n",
        "vector_1 = row_to_array(vec.transform([question_1]))\n",
        "vector_2 = row_to_array(vec.transform([question_2]))\n",
        "vector_2_reformulated = row_to_array(vec.transform([question_2_reformulated]))\n",
        "print(\"cosine(\\\"{}\\\", \\\"{}\\\") = {:.2f}\".format(question_1, question_2, cosine(vector_1, vector_2)))\n",
        "print(\"cosine(\\\"{}\\\", \\\"{}\\\") = {:.2f}\".format(question_1, question_2_reformulated, cosine(vector_1, vector_2_reformulated)))"
      ],
      "execution_count": 0,
      "outputs": [
        {
          "output_type": "stream",
          "text": [
            "cosine(\"How can I be a good geologist?\", \"What should I do to be a great geologist?\") = 0.24\n",
            "cosine(\"How can I be a good geologist?\", \"What should I do to be a good geologist?\") = 0.11\n"
          ],
          "name": "stdout"
        }
      ]
    },
    {
      "cell_type": "markdown",
      "metadata": {
        "id": "YzNCaEQTNBg5",
        "colab_type": "text"
      },
      "source": [
        "<!--@slideshow slide-->\n",
        "Words \"good\" and \"great\" have similar meanings in this case, but for TF-IDF they are different."
      ]
    },
    {
      "cell_type": "markdown",
      "metadata": {
        "id": "KIYY9IzvNluc",
        "colab_type": "text"
      },
      "source": [
        "<!--@slideshow fragment-->\n",
        "**Our goal**: instead of discrete representations (all words are different, or orthogonal), find representations that captures similarity between words.\n"
      ]
    },
    {
      "cell_type": "markdown",
      "metadata": {
        "id": "Q-ho9k9fPnfz",
        "colab_type": "text"
      },
      "source": [
        "<!--@slideshow fragment-->\n",
        "**Technically**, we will represent words as _vectors_ such that the words with similar meanings will have similar (close) vectors.\n"
      ]
    },
    {
      "cell_type": "markdown",
      "metadata": {
        "id": "U469CuXOPpCW",
        "colab_type": "text"
      },
      "source": [
        "<!--@slideshow fragment-->\n",
        "But, what is \"meaning\"? How do **we** understand the meaning of the word?"
      ]
    },
    {
      "cell_type": "markdown",
      "metadata": {
        "id": "OLQjN62YJZNt",
        "colab_type": "text"
      },
      "source": [
        "<!--@slideshow slide-->\n",
        "# Word meanings. Distributional hypothesis."
      ]
    },
    {
      "cell_type": "markdown",
      "metadata": {
        "id": "zzqkeZTO8Odk",
        "colab_type": "text"
      },
      "source": [
        "<!--@slideshow slide-->\n",
        "## Colab quiz 1\n",
        "What is \"skibidi\"?"
      ]
    },
    {
      "cell_type": "code",
      "metadata": {
        "id": "qX09ii5f7fgi",
        "colab_type": "code",
        "outputId": "0c2eeb27-fd12-461f-f55d-7bd57d0d13e9",
        "colab": {
          "base_uri": "https://localhost:8080/",
          "height": 371,
          "referenced_widgets": [
            "5350b5f142424e8e984d27a04a129c7b",
            "b7c2a9fd7e32495c85345e6000571f40",
            "cf7efa4222cc4395b0f18013b39e102e",
            "ec703c50674e410a9b7f7aedf8a4fdc7",
            "e07d8873ab89451b94c68779bac308a5",
            "b5f053981b9d44b7be9c864d6099a031",
            "79126a13164745d5af59d4de20b45e00",
            "464ce5d72cc64ee5af7b322551d23231",
            "ce35bee27aec44dca4cc26a90c63cfd5",
            "22d7f3c50f3047feaa9abda1efca7667",
            "86b946aee67b4809926400a576bdbe53",
            "e407478289004c0eafc959158a491892",
            "45df07451bc148518336a644562bca78",
            "a11615640d304c3a88719b636808b582",
            "8aa2fc55c98f45dc821d7a9069045a72",
            "f9906e6afb234392a36ebfc9c37f020a"
          ]
        }
      },
      "source": [
        "quiz_skibidi()()"
      ],
      "execution_count": 0,
      "outputs": [
        {
          "output_type": "display_data",
          "data": {
            "application/vnd.jupyter.widget-view+json": {
              "model_id": "5350b5f142424e8e984d27a04a129c7b",
              "version_minor": 0,
              "version_major": 2
            },
            "text/plain": [
              "VBox(children=(Output(), RadioButtons(options=('definition 1', 'definition 2', 'definition 3', 'definition 4')…"
            ]
          },
          "metadata": {
            "tags": []
          }
        }
      ]
    },
    {
      "cell_type": "markdown",
      "metadata": {
        "id": "x7AUEpSj5Osa",
        "colab_type": "text"
      },
      "source": [
        "<!--@slideshow fragment-->\n",
        "Actually, neither the word \"skibidi\" nor the definitions 1-4 exist.\n",
        "This quiz was generated using https://www.thisworddoesnotexist.com/\n",
        "\n",
        "How did you know the meaning of \"skibidi\"?"
      ]
    },
    {
      "cell_type": "markdown",
      "metadata": {
        "id": "sO514X8YRr5G",
        "colab_type": "text"
      },
      "source": [
        "<!--@slideshow slide-->\n",
        "## Distributional semantics\n",
        "**Idea**: the meaning of a word can be deduced from  _contexts_ the word appears in.\n",
        "\n",
        "> \"You shall know a word by the company it keeps\" (Firth, 1957)"
      ]
    },
    {
      "cell_type": "markdown",
      "metadata": {
        "id": "N5ZIg0nBUBwH",
        "colab_type": "text"
      },
      "source": [
        "<!--@slideshow slide-->\n",
        "- **What we need**: represent words by vectors such that words with similar meanings have similar vectors.\n",
        "- **What we know (assume)**: the meaning of a word can be deduced from  _contexts_ the word appears in\n",
        "- **What we will do**: given a word, predict its context."
      ]
    },
    {
      "cell_type": "markdown",
      "metadata": {
        "id": "z9PVWFNoJgs1",
        "colab_type": "text"
      },
      "source": [
        "<!--@slideshow slide-->\n",
        "# word2vec\n"
      ]
    },
    {
      "cell_type": "markdown",
      "metadata": {
        "id": "JeY7gHTNdQpM",
        "colab_type": "text"
      },
      "source": [
        "<!--@slideshow slide-->\n",
        "**Idea**: for each word, find a vector such that words with similar vectors often occur in the same context.\n"
      ]
    },
    {
      "cell_type": "markdown",
      "metadata": {
        "id": "-aUIMGM4dW4H",
        "colab_type": "text"
      },
      "source": [
        "<!--@slideshow fragment-->\n",
        "- A large corpus of text (Wikipedia).\n",
        "- Every word is represented by a vector.\n",
        "- For each position in the text:\n",
        "  1. Get the word on this position.\n",
        "  1. Get the context of the word.\n",
        "  1. Adjust vectors to maximize the probability of the observed context (the closer the vectors, the larger the probability)."
      ]
    },
    {
      "cell_type": "markdown",
      "metadata": {
        "id": "VkqgywE0xHaF",
        "colab_type": "text"
      },
      "source": [
        "<!--@slideshow slide-->\n",
        "## Colab demo: word2vec context\n",
        "\n",
        "By definition, the context consists of $m$ surrounding words on the left and $m$ on the right. See the demonstration for $m=3$."
      ]
    },
    {
      "cell_type": "code",
      "metadata": {
        "id": "WNR55q1QPE62",
        "colab_type": "code",
        "outputId": "c88cd133-1ef8-4815-951b-f16b25a39793",
        "colab": {
          "base_uri": "https://localhost:8080/",
          "height": 117,
          "referenced_widgets": [
            "c0c6196bfb6b4daa9c0cf07f6bc3641e",
            "7f39d84120234b64bcea7b40f6fcb01d",
            "931a5a85f98e468789c0372065d9a841",
            "2c2bb8fd87724dde9bb18591d983e68d",
            "fd8b9217173e4de7959d228b66356539",
            "f5f4f013bfc6404c834f8c5b0f4962ef",
            "a56ca226ea0849a2a4176363ed1e4a63",
            "96cd6bcf87f24d29b3debb5b1ed13f99",
            "7d82059bc7ee42d9a25ced44bf9bec41",
            "b239cccbbd674582a26b6604951dd921",
            "8cc09db0543341b8909d1b29d70ade08",
            "b9dd8a9891494550974a0c5f11cca674"
          ]
        }
      },
      "source": [
        "demo_word2vec_batch(\"never gonna give you up never gonna let you down\".split(), 3)"
      ],
      "execution_count": 0,
      "outputs": [
        {
          "output_type": "display_data",
          "data": {
            "application/vnd.jupyter.widget-view+json": {
              "model_id": "c0c6196bfb6b4daa9c0cf07f6bc3641e",
              "version_minor": 0,
              "version_major": 2
            },
            "text/plain": [
              "VBox(children=(HBox(children=(Button(description='<<', style=ButtonStyle()), Button(description='>>', style=Bu…"
            ]
          },
          "metadata": {
            "tags": []
          }
        }
      ]
    },
    {
      "cell_type": "markdown",
      "metadata": {
        "id": "Ty_viUrnTX7K",
        "colab_type": "text"
      },
      "source": [
        "<!--@slideshow slide-->\n",
        "## Colab quiz 2\n",
        "Choose the correct context"
      ]
    },
    {
      "cell_type": "code",
      "metadata": {
        "id": "oFuY_cNoTaZ9",
        "colab_type": "code",
        "outputId": "dade1718-c6d7-4a64-d493-fd75f8c42e44",
        "colab": {
          "base_uri": "https://localhost:8080/",
          "height": 261,
          "referenced_widgets": [
            "1f73ad57d3bc4c95b15bc1fcd8594d0a",
            "b5dc0b15f0304f238bd9ef0c1fd44b14",
            "4f10813429f84afbb53e10deb60529d8",
            "d7fd25387ac742fead59ab62ec85fe6d",
            "bca6562dde0f4b7dad89185b221c404d",
            "c3044e93a8b242ef8c8228650508b370",
            "f65818013c8e420486a55fdb28859258",
            "441838fb908a46108a0b8007e3e469c0",
            "1ae23259b25c4a51aca9b243f8e921df",
            "df3fdb4de3f443ffab9595fe9758fe0f",
            "626af1ae2f974a9c8628e2a356dcaa9f",
            "68fa3c2ccb824ce68a0f1a9d54d6ec9b",
            "a2b493be59244e3f8ed2293bba6d262b",
            "32d2b29a49694a498e251abcbc0cf7dd",
            "a10a02d6378d4f3ca8b75e3de57c336e",
            "2c9b8db7e9554e25808f59a3651ddc76"
          ]
        }
      },
      "source": [
        "quiz_word2vec_context()()"
      ],
      "execution_count": 0,
      "outputs": [
        {
          "output_type": "display_data",
          "data": {
            "application/vnd.jupyter.widget-view+json": {
              "model_id": "1f73ad57d3bc4c95b15bc1fcd8594d0a",
              "version_minor": 0,
              "version_major": 2
            },
            "text/plain": [
              "VBox(children=(Output(), RadioButtons(options=('(the, brown)', '(the, quick, brown, fox)', '(the, brown, fox)'…"
            ]
          },
          "metadata": {
            "tags": []
          }
        }
      ]
    },
    {
      "cell_type": "markdown",
      "metadata": {
        "id": "8-MqkDS9i7_n",
        "colab_type": "text"
      },
      "source": [
        "<!--@slideshow slide-->\n",
        "## word2vec: objective function\n",
        "\n",
        "Consider the position $t$ in the text:\n",
        "- Word: $w_t$\n",
        "- Context: $$w_{t-m}, w_{t-m + 1}, \\dots, w_{\\color{red}{t-1}}, w_{\\color{red}{t+1}}, \\dots, w_{t+m-1}, w_{t+m}$$\n",
        "- Probability of the context\n",
        "$$\n",
        "\\Pr(w_{t-m}, w_{t-m + 1}, \\dots, w_{t-1}, w_{t+1}, \\dots, w_{t+m-1}, w_{t+m}|w_t) \\equiv \\Pr_{\\textrm{context}}(t)\n",
        "$$\n",
        "- Likelihood of the corpus is:\n",
        "$$\n",
        "\\prod_{t=1}^T \\Pr_{\\textrm{context}}(t)\n",
        "$$"
      ]
    },
    {
      "cell_type": "markdown",
      "metadata": {
        "id": "L8w7ZOwfn4aD",
        "colab_type": "text"
      },
      "source": [
        "<!--@slideshow slide-->\n",
        "\n",
        "Word vectors are _parameters_ $\\theta$.\n",
        "\n",
        "**Our goal**: maximize the likelihood, or minimize the _negative log-likelihood_ w.r.t. $\\theta$:\n",
        "$$\n",
        "L(\\theta) = -\\sum_{t=1}^T \\log\\Pr_{\\textrm{context}}(t)\n",
        "$$"
      ]
    },
    {
      "cell_type": "markdown",
      "metadata": {
        "id": "jk2cRFLds82c",
        "colab_type": "text"
      },
      "source": [
        "<!--@slideshow fragment-->\n",
        "**Assumption**: for each $t$, words both inside and outside the context are conditionally independent given $w_t$.\n",
        "\n",
        "> Informally, for any word $\\hat{w}$, the probability to find $\\hat{w}$ in the context of $w_t$ depends only on $w_t$.\n"
      ]
    },
    {
      "cell_type": "markdown",
      "metadata": {
        "id": "NsiscDad3Cya",
        "colab_type": "text"
      },
      "source": [
        "<!--@slideshow fragment-->\n",
        "So we can write:\n",
        "$$\n",
        "\\Pr_{\\textrm{context}}(t) = \\left(\\prod_{w' \\in \\textrm{context}(w_t)} \\Pr(w'|w_t)\\right)\\left(\\prod_{w'' \\notin \\textrm{context}(w_t)}(1 - \\Pr(w''|w))\\right)\n",
        "$$"
      ]
    },
    {
      "cell_type": "markdown",
      "metadata": {
        "id": "7VQ4bZrsWTQr",
        "colab_type": "text"
      },
      "source": [
        "<!--@slideshow slide-->\n",
        "The objective function:\n",
        "$$\n",
        "L(\\theta) = -\\sum_{t=1}^T \\left(\\sum_{w' \\in \\textrm{context}(w_t)} \\log\\Pr(w'|w_t) + \\sum_{w'' \\notin \\textrm{context}(w_t)}\\log(1 - \\Pr(w''|w))\\right)\n",
        "$$\n",
        "\n",
        "As usual, we will use gradient descent to find parameters (word vectors) $\\theta$ that minimize $L(\\theta)$. "
      ]
    },
    {
      "cell_type": "markdown",
      "metadata": {
        "id": "SgD3xmAISJFP",
        "colab_type": "text"
      },
      "source": [
        "<!--@slideshow slide-->\n",
        "## Colab demo: gradient descent"
      ]
    },
    {
      "cell_type": "code",
      "metadata": {
        "id": "iiHhgB0hSTai",
        "colab_type": "code",
        "outputId": "51ea8aa6-c946-4d34-e5b9-2cd45c06da80",
        "colab": {
          "base_uri": "https://localhost:8080/",
          "height": 410,
          "referenced_widgets": [
            "988e18e865e94f5491c696527d5046e5",
            "c539bd1c2d2f45438072eb6d23159285",
            "a5b868b60a60490f8422f53e26a948a6",
            "cfdebe8a6bc646d1812e649b5c20062d",
            "710c79de43be4e4889b6ba01ad7d0bf7",
            "54bf1fecc5b64fd0ae62fd279f5683a7",
            "334ba884fe204318a51664fb9154df86"
          ]
        }
      },
      "source": [
        "demo_gradient_descent(lambda x: x**4 - x**3 - x**2 + 1, theta_0=-1, learning_rate=0.5)  # local minima\n",
        "# demo_gradient_descent(lambda x: x**2, theta_0=-1, learning_rate=1.1)  # divergence"
      ],
      "execution_count": 0,
      "outputs": [
        {
          "output_type": "display_data",
          "data": {
            "application/vnd.jupyter.widget-view+json": {
              "model_id": "988e18e865e94f5491c696527d5046e5",
              "version_minor": 0,
              "version_major": 2
            },
            "text/plain": [
              "VBox(children=(Button(description='next step', style=ButtonStyle()), Output()))"
            ]
          },
          "metadata": {
            "tags": []
          }
        }
      ]
    },
    {
      "cell_type": "markdown",
      "metadata": {
        "id": "sUG7EMdOXiAI",
        "colab_type": "text"
      },
      "source": [
        "<!--@slideshow slide-->\n",
        "## Problem 1: word in its own context\n",
        "\n",
        "How do we estimate $\\Pr(o|c)$?\n",
        "\n",
        "Suppose the word $o$ has vector $\\mathbf{u}$, and the word $c$ has vector $\\mathbf{v}$.\n",
        "\n",
        "It's natural to estimate\n",
        "$$\n",
        "\\Pr(o|c) = \\sigma(\\mathbf{u} \\cdot \\mathbf{v})\n",
        "$$\n",
        "where $\\mathbf{u} \\cdot \\mathbf{v}$ is the dot product, and $\\sigma(s) = \\dfrac{1}{1 + e^{-s}}$ is the sigmoid function."
      ]
    },
    {
      "cell_type": "markdown",
      "metadata": {
        "id": "VMTbDSrxYtkI",
        "colab_type": "text"
      },
      "source": [
        "<!--@slideshow fragment-->\n",
        "But what if $o = c$?\n",
        "\n",
        "The dot product is large, but the probability to see the word in its own context is low!"
      ]
    },
    {
      "cell_type": "markdown",
      "metadata": {
        "id": "lBxzV36-ZLEI",
        "colab_type": "text"
      },
      "source": [
        "<!--@slideshow fragment-->\n",
        "**Solution**: for each word $w$, instead of _one_ vector, keep _two_ vectors:\n",
        "1. When $w$ is the context word: $\\mathbf{u}_w$.\n",
        "1. When $w$ is the central word: $\\mathbf{v}_w$."
      ]
    },
    {
      "cell_type": "markdown",
      "metadata": {
        "id": "K19QPD1AaU-J",
        "colab_type": "text"
      },
      "source": [
        "<!--@slideshow slide-->\n",
        "## Problem 2: computational complexity\n",
        "Remember that the objective function is\n",
        "$$\n",
        "L(\\theta) = -\\sum_{t=1}^T \\left(\\sum_{w' \\in \\textrm{context}(w_t)} \\log\\Pr(w'|w_t) + \\sum_{\\color{red}{w'' \\notin \\textrm{context}(w_t)}}\\log(1 - \\Pr(w''|w))\\right)\n",
        "$$\n"
      ]
    },
    {
      "cell_type": "markdown",
      "metadata": {
        "id": "dwQsuPcIzTFQ",
        "colab_type": "text"
      },
      "source": [
        "<!--@slideshow fragment-->\n",
        "- In each term, the second sum is computed over the full vocabulary (except for the context of $w_t$).\n",
        "- We need to compute it for each position $t$ in the text.\n"
      ]
    },
    {
      "cell_type": "markdown",
      "metadata": {
        "id": "pZmXnyhXzUfn",
        "colab_type": "text"
      },
      "source": [
        "<!--@slideshow fragment-->\n",
        "**Solution**: **for each context word**, keep only the fixed number (5-20) of terms in the second sum.\n",
        "\n",
        "> This is called **negative sampling**."
      ]
    },
    {
      "cell_type": "markdown",
      "metadata": {
        "id": "QIXXM9Dxbd4h",
        "colab_type": "text"
      },
      "source": [
        "<!--@slideshow slide-->\n",
        "## Problem 3: \"meaningless\" words\n",
        "\n",
        "Some words (like prepositions and articles in English)\n",
        "- are very frequent,\n",
        "- play only a technical role and therefore don't have meaning.\n",
        "\n"
      ]
    },
    {
      "cell_type": "markdown",
      "metadata": {
        "id": "RKG2AWi13SkR",
        "colab_type": "text"
      },
      "source": [
        "<!--@slideshow fragment-->\n",
        "So they harm the performance of stochastic gradient descent, because\n",
        "- they cause may updates because they are frequent,\n",
        "- these updates are \"noisy\", because \"technical\" words don't have meaning."
      ]
    },
    {
      "cell_type": "markdown",
      "metadata": {
        "id": "Cf4-WD6adbAd",
        "colab_type": "text"
      },
      "source": [
        "<!--@slideshow fragment-->\n",
        "**Solution**: throw frequent words away with some probability (the higher the frequency, the higher the probability).\n",
        "\n",
        "> This is called **subsampling**."
      ]
    },
    {
      "cell_type": "markdown",
      "metadata": {
        "id": "DmOTcfQuJnDs",
        "colab_type": "text"
      },
      "source": [
        "<!--@slideshow slide-->\n",
        "## Colab demo: word2vec implementation"
      ]
    },
    {
      "cell_type": "code",
      "metadata": {
        "id": "3iUFbbRY8HuF",
        "colab_type": "code",
        "colab": {}
      },
      "source": [
        "import numpy as np\n",
        "from collections import Counter\n",
        "from scipy.special import softmax\n",
        "from scipy.special import expit as sigmoid  # \"expit\" is the inverse of \"logit\"\n",
        "from scipy.spatial.distance import cosine as cosine_distance\n",
        "\n",
        "class Word2Vec:\n",
        "    \"\"\"\n",
        "    This is an instructive implementation of skip-gram word2vec algorithm with negative sampling loss.\n",
        "    It is deliberately inefficient: it uses built-in Python data structures (dicts and lists)\n",
        "    instead of matrix-vector operations.\n",
        "\n",
        "    The recommended way to read the code is the following:\n",
        "    1. First, read the implementation of the `train()` method:\n",
        "        - Training loop: iterate few times (epochs) over the training data.\n",
        "          Number of epochs is provided in the `n_epoch` parameter,\n",
        "          and `self.learning_rate` is predefined step size of gradient descent.\n",
        "        - In each iteration, a batch (central_word and context_words) is generated.\n",
        "        - Too frequent words are discarded (subsampling).\n",
        "        - The gradients are computed and gradient step is performed.\n",
        "    2. Then look at the method `generate_batches()`.\n",
        "       It creates pairs (central word, [list of context words])\n",
        "       by moving sliding window of predefined size `self.window_size`.\n",
        "    3. Then check the `generate_negative_samples()` method.\n",
        "       Its implementation is short, but there are two important details:\n",
        "       - Sampling is performed with replacement. It mimics i.i.d. assumption:\n",
        "         negative samples must be independent.\n",
        "       - The central word and the context word are discarded from the set \n",
        "         of negative samples.\n",
        "    4. The most important part is how gradients are computed: the method `compute_gradients()`.\n",
        "       The gradients are derived in this lecture; this method just implements them in Python code.\n",
        "    5. Then take a look at `build_vocabulary()`: it is mostly technical.\n",
        "    6. `get_vector()` method is just a one-liner, but pay attention to the fact\n",
        "       that we use only one of two matrices (the matrix of central vectors).\n",
        "    7. `get_similar_words()` method implements inefficient (O(|V|)) search of\n",
        "       words whose vectors are closest to the vector of the given word.\n",
        "    8. `__init__()` method just stores all hyperparameters and initializes necessary data structures.\n",
        "    \"\"\"\n",
        "    def __init__(\n",
        "        self,\n",
        "        window_size=2,\n",
        "        vector_size=10,\n",
        "        n_negative_samples=20,\n",
        "        learning_rate=1e-5,\n",
        "        seed=0\n",
        "    ):\n",
        "        self.window_size = window_size\n",
        "        self.learning_rate = learning_rate\n",
        "\n",
        "        self.vocab = Counter()\n",
        "\n",
        "        # how many dimensions each vector has\n",
        "        self.vector_size = vector_size\n",
        "        # vectors are initialized in .build_vocabulary() after the vocabulary is known\n",
        "        self.central_vectors = dict()  \n",
        "        self.context_vectors = dict()\n",
        "\n",
        "        # number of negative samples for each context word\n",
        "        self.n_negative_samples = n_negative_samples\n",
        "\n",
        "        # prepare vocabulary for negative sampling and sumsampling\n",
        "        self.words_array = []\n",
        "        self.negative_sampling_probabilities = []\n",
        "        self.subsampling_probabilities = dict()\n",
        "\n",
        "        np.random.seed(seed)\n",
        "\n",
        "    def build_vocabulary(self, sequences):\n",
        "        # count all the words\n",
        "        for sequence in sequences:\n",
        "            for word in sequence:\n",
        "                self.vocab[word] += 1\n",
        "\n",
        "        sum_counts_negative_sampling = sum(v**0.75 for v in self.vocab.values())\n",
        "        sum_counts_subsampling = sum(self.vocab.values())\n",
        "        for word, count in self.vocab.items():\n",
        "            self.words_array.append(word)\n",
        "            self.negative_sampling_probabilities.append(count**0.75 / sum_counts_negative_sampling)\n",
        "            word_frequency = count / sum_counts_subsampling\n",
        "            self.subsampling_probabilities[word] = (1 + np.sqrt(word_frequency / 0.001)) * 0.001 / word_frequency\n",
        "\n",
        "        # initialize vectors with small values around 0\n",
        "        for word in self.vocab:\n",
        "            self.central_vectors[word] = np.random.randn(self.vector_size) * 0.1\n",
        "            self.context_vectors[word] = np.random.randn(self.vector_size) * 0.1\n",
        "\n",
        "    def generate_batches(self, sequence):\n",
        "        # move sliding window over the sequence \n",
        "        # for each position of the window generate list of context words\n",
        "        # return list of lists pairs (central word, [context words])\n",
        "        batches = []\n",
        "        for i_central, central_word in enumerate(sequence):\n",
        "            # ignore the words outside of vocabulary (we don't have vectors for them)\n",
        "            if central_word not in self.vocab:\n",
        "                continue\n",
        "            context_words = []\n",
        "            # iterate from i_central - window_size, i_central + window_size\n",
        "            for i_context in range(i_central - self.window_size, i_central + self.window_size + 1):\n",
        "                # handle boundary cases\n",
        "                if i_context < 0 or i_context >= len(sequence):\n",
        "                    continue\n",
        "                # exclude the central word itself\n",
        "                if i_context == i_central:\n",
        "                    continue\n",
        "                context_word = sequence[i_context]\n",
        "                # ignore the words outside of vocabulary\n",
        "                if context_word not in self.vocab:\n",
        "                    continue\n",
        "                # update the batch that corresponds to the current central word\n",
        "                context_words.append(context_word)\n",
        "            # update batches with the collected batch\n",
        "            batches.append((central_word, context_words))\n",
        "        return batches\n",
        "\n",
        "    def generate_negative_samples(self, central_word, context_word):\n",
        "        negative_samples = np.random.choice(\n",
        "            self.words_array,\n",
        "            size=self.n_negative_samples,\n",
        "            replace=True,  # sampling with replacement: mimics i.i.d assumption\n",
        "            p=self.negative_sampling_probabilities\n",
        "        )\n",
        "        return [n for n in negative_samples if n != central_word and n != context_word]\n",
        "\n",
        "    def compute_gradients(self, central_word, context_word, negative_samples):\n",
        "        central_vector = self.central_vectors[central_word]\n",
        "\n",
        "        # accumulate gradient of the central word\n",
        "        central_word_gradient = np.zeros(self.vector_size)\n",
        "\n",
        "        context_word_vector = self.context_vectors[context_word]\n",
        "        context_words_gradient = -central_vector * (1 - sigmoid(np.dot(context_word_vector, central_vector)))\n",
        "\n",
        "        central_word_gradient += -context_word_vector * (1 - sigmoid(np.dot(context_word_vector, central_vector)))\n",
        "\n",
        "        # a word in negative sample can be sampled many times, so we accumulate gradients\n",
        "        negative_samples_gradients = {n: np.zeros(self.vector_size) for n in negative_samples}\n",
        "        for negative_sample in negative_samples:\n",
        "            negative_sample_vector = self.context_vectors[negative_sample]\n",
        "            negative_samples_gradients[negative_sample] += central_vector * (1 - sigmoid(-np.dot(negative_sample_vector, central_vector)))\n",
        "            central_word_gradient += negative_sample_vector * (1 - sigmoid(-np.dot(negative_sample_vector, central_vector)))\n",
        "\n",
        "        return central_word_gradient, context_words_gradient, negative_samples_gradients\n",
        "\n",
        "    def train(self, sequences, n_epoch=5):\n",
        "        T = 0\n",
        "        for epoch in range(n_epoch):\n",
        "            for sequence in sequences:\n",
        "                # learning rate decays proportional to the number of iterations\n",
        "                # similar to the original word2vec code\n",
        "                alpha = self.learning_rate * max(0.0001, (1 - T / (n_epoch * len(sequences))))\n",
        "                T += 1\n",
        "                for batch in self.generate_batches(sequence):\n",
        "                    central_word, context_words = batch\n",
        "\n",
        "                    # subsample: randomly discard too frequent words\n",
        "                    if np.random.random() > self.subsampling_probabilities[central_word]:\n",
        "                        continue\n",
        "\n",
        "                    for context_word in context_words:\n",
        "                        # generate negative samples\n",
        "                        # negative samples do not include the central word and the context word\n",
        "                        negative_samples = self.generate_negative_samples(central_word, context_word)\n",
        "\n",
        "                        # compute gradients\n",
        "                        central_word_gradient, context_word_gradient, negative_samples_gradients = self.compute_gradients(\n",
        "                            central_word, context_word, negative_samples\n",
        "                        )\n",
        "                        # perform one step of gradient descent: update all the parameters in direction opposite to gradient\n",
        "                        self.central_vectors[central_word] -= alpha * central_word_gradient\n",
        "                        self.context_vectors[context_word] -= alpha * context_word_gradient\n",
        "                        for negative_sample in negative_samples:\n",
        "                            self.context_vectors[negative_sample] -= alpha * negative_samples_gradients[negative_sample]\n",
        "\n",
        "    def get_vector(self, word):\n",
        "        return self.central_vectors[word]\n",
        "\n",
        "    def get_similar_words(self, word, k=10):\n",
        "        word_vector = self.get_vector(word)\n",
        "        cosine_similarities = [1 - 0.5 * cosine_distance(word_vector, self.get_vector(w)) for w in self.words_array]\n",
        "        return list(\n",
        "            reversed([\n",
        "                (self.words_array[i], cosine_similarities[i])\n",
        "                for i in np.argsort(cosine_similarities)[-k-1:-1]  # exclude the word itself\n",
        "            ])\n",
        "        )\n"
      ],
      "execution_count": 0,
      "outputs": []
    },
    {
      "cell_type": "code",
      "metadata": {
        "id": "iFkOzUEArFcU",
        "colab_type": "code",
        "outputId": "6a7984a9-0606-421a-ea9d-8f518884b3a6",
        "colab": {
          "base_uri": "https://localhost:8080/",
          "height": 272
        }
      },
      "source": [
        "# toy example: \"A\" and \"B\" always occur near X\n",
        "# all the other words (actually, characters) from the left and from the right are random\n",
        "from string import ascii_lowercase\n",
        "import random\n",
        "from pprint import pprint\n",
        "\n",
        "random.seed(0)\n",
        "n_examples = 1000\n",
        "# generate random left and right halves\n",
        "left_contexts = [random.choices(ascii_lowercase, k=5) for _ in range(n_examples)]\n",
        "right_contexts = [random.choices(ascii_lowercase, k=5) for _ in range(n_examples)]\n",
        "\n",
        "# insert \"XA\" and \"XB\" to the middle\n",
        "toy_dataset = [\n",
        "    l + list(\"XA\") + r for l, r in zip(left_contexts, right_contexts)\n",
        "] + [\n",
        "    l + list(\"XB\") + r for l, r in zip(left_contexts, right_contexts)\n",
        "]\n",
        "random.shuffle(toy_dataset)\n",
        "\n",
        "print(\"A few lines of the toy dataset:\")\n",
        "print(\"\\n\".join([\"\".join(t) for t in toy_dataset[:3]]))\n",
        "window_size = 1\n",
        "vector_size = 2\n",
        "learning_rate = 0.1\n",
        "n_epoch = 5\n",
        "n_negative_samples = 5\n",
        "word2vec = Word2Vec(\n",
        "    seed=1,\n",
        "    window_size=window_size,\n",
        "    vector_size=vector_size,\n",
        "    learning_rate=learning_rate,\n",
        "    n_negative_samples=n_negative_samples\n",
        ")\n",
        "word2vec.build_vocabulary(toy_dataset)\n",
        "word2vec.train(toy_dataset, n_epoch=n_epoch)\n",
        "print(\"Words most similar to 'A'\")\n",
        "pprint(word2vec.get_similar_words(\"A\"))"
      ],
      "execution_count": 0,
      "outputs": [
        {
          "output_type": "stream",
          "text": [
            "A few lines of the toy dataset:\n",
            "vohgkXAyfvap\n",
            "lgenmXAfojrf\n",
            "lpkohXBwinqm\n",
            "Words most similar to 'A'\n",
            "[('B', 0.9999876210481136),\n",
            " ('z', 0.957950766495169),\n",
            " ('a', 0.9129377419737473),\n",
            " ('k', 0.9053724127989855),\n",
            " ('i', 0.9034941870030813),\n",
            " ('b', 0.8990275152337034),\n",
            " ('n', 0.8655117493755606),\n",
            " ('g', 0.8500906263010772),\n",
            " ('t', 0.8474761246122444),\n",
            " ('m', 0.842807328160446)]\n"
          ],
          "name": "stdout"
        }
      ]
    },
    {
      "cell_type": "markdown",
      "metadata": {
        "id": "fM-u4-mWWdk1",
        "colab_type": "text"
      },
      "source": [
        "<!--@slideshow slide-->\n",
        "## Colab quiz 3\n",
        "\n",
        "How are word vectors computed?"
      ]
    },
    {
      "cell_type": "code",
      "metadata": {
        "id": "VJlKXB_-WfA3",
        "colab_type": "code",
        "outputId": "3cc816cb-7044-4cd4-979a-52fe8976cc4a",
        "colab": {
          "base_uri": "https://localhost:8080/",
          "height": 225,
          "referenced_widgets": [
            "114af2a11a4f45a19263080f530818f5",
            "7da2503b61164adfaaed7fa5833691fe",
            "2d94efbc61e6436e8e9c7d17c0e9725e",
            "761fedcc3ce44102ace50ce21c32db9a",
            "c2affc63fee34b0180415a53ada0f4e4",
            "faf5c183d9ed4353a5c46820a0c7d747",
            "d5c0b45ce2b14f64804e3b3e8dc3fd74",
            "0172490845844edba1f92bfdb369bbc6",
            "ae98e26dc0b444409b886abe94c67dda",
            "13a9c7e9cde142f694c07df8b85033d3",
            "c20ae76245354b7dbd5e4e4934ae5aac",
            "74fed184a55247b88922c7cbff607414",
            "47cd61f1534d46d78a9a59abaebe0302",
            "75de418744384e00bd3616fa3540638b",
            "6ac6042a3e164019a74847681f5b8066",
            "6da21650951c4b50a2016ad6354079a7"
          ]
        }
      },
      "source": [
        "quiz_word2vec_word_vector()()"
      ],
      "execution_count": 0,
      "outputs": [
        {
          "output_type": "display_data",
          "data": {
            "application/vnd.jupyter.widget-view+json": {
              "model_id": "114af2a11a4f45a19263080f530818f5",
              "version_minor": 0,
              "version_major": 2
            },
            "text/plain": [
              "VBox(children=(Output(), RadioButtons(options=('Taken from the matrix of context vectors', 'Taken from the mat…"
            ]
          },
          "metadata": {
            "tags": []
          }
        }
      ]
    },
    {
      "cell_type": "markdown",
      "metadata": {
        "id": "0g2DUJydV21w",
        "colab_type": "text"
      },
      "source": [
        "<!--@slideshow slide-->\n",
        "## Colab quiz 4\n",
        "\n",
        "Which words are subsampled?"
      ]
    },
    {
      "cell_type": "code",
      "metadata": {
        "id": "yimy-T6YV4UF",
        "colab_type": "code",
        "outputId": "5077aa75-ab07-4f2d-ea3c-dcc6ab20b817",
        "colab": {
          "base_uri": "https://localhost:8080/",
          "height": 197,
          "referenced_widgets": [
            "4227098e183447dda233bc1cb336d49e",
            "af2d31ac519e4893b0c97a3ce93af0bb",
            "7c001cae8c52419e8a1675297cfdc075",
            "dd0cc8b782fa49ef88531c539d0a555b",
            "c85350c2b0974315aa2f9577a8415142",
            "cff8289e2db34897bcff2e074f89e067",
            "fb85605cbbc74032a9a47f5a9fc2b2f7",
            "b3ae07a49b104cf4b6eee1118b0b0ce8",
            "3965f6f6ae144ee69b0beda373d33d86",
            "ca56422f429149c385d48ed224f8f5ab",
            "9e2d894072684ae49b8e85eabe590727",
            "e6a88fefcfcc409bab84318e88f7626b",
            "8d563cd4311a4eb18feb223a13a27c29",
            "9aa5ab370b224dea98291087351c773d",
            "6431cb3c51fd4a389506603498c48690",
            "7a6507d52e7a485597f5c3cd72e1c971"
          ]
        }
      },
      "source": [
        "quiz_word2vec_subsampling()()"
      ],
      "execution_count": 0,
      "outputs": [
        {
          "output_type": "display_data",
          "data": {
            "application/vnd.jupyter.widget-view+json": {
              "model_id": "4227098e183447dda233bc1cb336d49e",
              "version_minor": 0,
              "version_major": 2
            },
            "text/plain": [
              "VBox(children=(Output(), RadioButtons(options=('Central words', 'Context words', 'Negative samples', 'All of t…"
            ]
          },
          "metadata": {
            "tags": []
          }
        }
      ]
    },
    {
      "cell_type": "markdown",
      "metadata": {
        "id": "QdGKcJ-AV9xq",
        "colab_type": "text"
      },
      "source": [
        "<!--@slideshow slide-->\n",
        "## Colab quiz 5\n",
        "\n",
        "Details of negative sampling."
      ]
    },
    {
      "cell_type": "code",
      "metadata": {
        "id": "oObLIsyZWNsB",
        "colab_type": "code",
        "outputId": "5254d355-0d63-4765-aebd-1686cfe15662",
        "colab": {
          "base_uri": "https://localhost:8080/",
          "height": 197,
          "referenced_widgets": [
            "d447ef435be9460a9754b872d8363b5c",
            "7d385c208f5d4d25ab9d872e52270790",
            "dbdaf077e5424dcaae408da452df6e8d",
            "da452f0a67ad44419e34c11fe04d4634",
            "8de4028987dd4b60862d09a34cfabbab",
            "fed2a4026fbf49b0b66c471c81f98fd0",
            "b45e00219f3743c2baa23f698194bf07",
            "1d77f357a2b54357a37ba8542ef67927",
            "571a0a358f5e434fb510bea9dd02031d",
            "4e5294cacc994355a4a8176961772e87",
            "dd9353791c70458f9538aa18e92b7b9e",
            "bf35bf4d018848688a4f76e30349e211",
            "eca78fa2f73948ceb2dd083caf6d9a48",
            "892f0752cd3744999a15529fbd5c5e82",
            "bb0ca01a1ebb42f298076d1fe39e8854",
            "01517c0c69244328ac6d1657b7e89390"
          ]
        }
      },
      "source": [
        "quiz_word2vec_negative_sampling()()"
      ],
      "execution_count": 0,
      "outputs": [
        {
          "output_type": "display_data",
          "data": {
            "application/vnd.jupyter.widget-view+json": {
              "model_id": "d447ef435be9460a9754b872d8363b5c",
              "version_minor": 0,
              "version_major": 2
            },
            "text/plain": [
              "VBox(children=(Output(), RadioButtons(options=('without replacement; negative samples are i.i.d.', 'with repla…"
            ]
          },
          "metadata": {
            "tags": []
          }
        }
      ]
    },
    {
      "cell_type": "markdown",
      "metadata": {
        "id": "ed79xvIsVmUU",
        "colab_type": "text"
      },
      "source": [
        "<!--@slideshow slide-->\n",
        "## Derivation of gradients"
      ]
    },
    {
      "cell_type": "markdown",
      "metadata": {
        "id": "83RIkP3VlfcG",
        "colab_type": "text"
      },
      "source": [
        "<!--@slideshow slide-->\n",
        "## Exercise 1\n",
        "Prove that $\\sigma(-\\mathbf{x}) = 1 - \\sigma(\\mathbf{x})$."
      ]
    },
    {
      "cell_type": "markdown",
      "metadata": {
        "id": "F352RwUBVo_X",
        "colab_type": "text"
      },
      "source": [
        "<!--@slideshow slide-->\n",
        "## Exercise 2\n",
        "\n",
        "Prove that $\\dfrac{\\mathrm{d}\\sigma(\\mathbf{x})}{\\mathrm{d}\\mathbf{x}} = \\sigma(\\mathbf{x})(1-\\sigma(\\mathbf{x}))$."
      ]
    },
    {
      "cell_type": "markdown",
      "metadata": {
        "id": "TDXhIvRgkzc1",
        "colab_type": "text"
      },
      "source": [
        "<!--@slideshow slide-->\n",
        "## Exercise 3\n",
        "\n",
        "Prove that for arbitrary vectors $\\mathbf{x}, \\mathbf{y}$\n",
        "- $\\dfrac{\\mathrm{d}(\\mathbf{x} \\cdot \\mathbf{y})}{\\mathrm{d}\\mathbf{x}} = \\mathbf{y}$\n",
        "- $\\dfrac{\\mathrm{d}(\\mathbf{x} \\cdot \\mathbf{y})}{\\mathrm{d}\\mathbf{y}} = \\mathbf{x}$"
      ]
    },
    {
      "cell_type": "markdown",
      "metadata": {
        "id": "uhS8aD2SlPvr",
        "colab_type": "text"
      },
      "source": [
        "<!--@slideshow slide-->\n",
        "### Derivation of gradient w.r.t. central word\n",
        "\n",
        "Consider one term in the objective function:\n",
        "$$\n",
        "\\ell(c, o, N) = -\\log\\Pr(o|c) - \\sum_{n \\in N}\\log(1 - \\Pr(n|c))\n",
        "$$\n",
        "where $c$ is the central word, $o$ is the context (\"outside\") word, $n \\in N$ is a negative sample."
      ]
    },
    {
      "cell_type": "markdown",
      "metadata": {
        "id": "c3AfJugEnHfy",
        "colab_type": "text"
      },
      "source": [
        "<!--@slideshow fragment-->\n",
        "Since $\\Pr(o|c) = \\sigma(\\mathbf{u}_o \\cdot \\mathbf{v}_c)$ and $1 - \\Pr(n|c) = \\sigma(-\\mathbf{u}_n \\cdot \\mathbf{v}_c)$, we have\n",
        "$$\n",
        "\\ell(c, o, N) = -\\log\\sigma(\\mathbf{u}_o \\cdot \\mathbf{v}_c) - \\sum_{n \\in N}\\log\\sigma(-\\mathbf{u}_n \\cdot \\mathbf{v}_c)\n",
        "$$"
      ]
    },
    {
      "cell_type": "markdown",
      "metadata": {
        "id": "RXZW7ZPNqkIJ",
        "colab_type": "text"
      },
      "source": [
        "<!--@slideshow slide-->\n",
        "$$\n",
        "-\\dfrac{\\mathrm{d}\\log\\sigma(\\mathbf{u}_o \\cdot \\mathbf{v}_c)}{\\mathrm{d}\\mathbf{v}_c} \n",
        "$$\n"
      ]
    },
    {
      "cell_type": "markdown",
      "metadata": {
        "id": "fhLJMNx5qlVV",
        "colab_type": "text"
      },
      "source": [
        "<!--@slideshow fragment-->\n",
        "$$\n",
        "= - \\dfrac{1}{\\sigma(\\mathbf{u}_o \\cdot \\mathbf{v}_c)} \\dfrac{\\mathrm{d}\\sigma(\\mathbf{u}_o \\cdot \\mathbf{v}_c)}{\\mathrm{d}\\mathbf{v}_c}\n",
        "$$\n"
      ]
    },
    {
      "cell_type": "markdown",
      "metadata": {
        "id": "U8y65R9vqmr1",
        "colab_type": "text"
      },
      "source": [
        "<!--@slideshow fragment-->\n",
        "$$\n",
        "= - \\dfrac{1}{\\sigma(\\mathbf{u}_o \\cdot \\mathbf{v}_c)} \\sigma(\\mathbf{u}_o \\cdot \\mathbf{v}_c) (1 - \\sigma(\\mathbf{u}_o \\cdot \\mathbf{v}_c)) \\dfrac{\\mathrm{d} \\mathbf{u}_o \\cdot \\mathbf{v}_c}{\\mathrm{d}\\mathbf{v}_c}\n",
        "$$\n"
      ]
    },
    {
      "cell_type": "markdown",
      "metadata": {
        "id": "ZNHcGVYfqn0z",
        "colab_type": "text"
      },
      "source": [
        "<!--@slideshow fragment-->\n",
        "$$\n",
        "= - (1 - \\sigma(\\mathbf{u}_o \\cdot \\mathbf{v}_c)) \\mathbf{u}_o\n",
        "$$"
      ]
    },
    {
      "cell_type": "markdown",
      "metadata": {
        "id": "h-eqmh8aqxa3",
        "colab_type": "text"
      },
      "source": [
        "<!--@slideshow slide-->\n",
        "Similarly,\n",
        "\n",
        "$$\n",
        "\\dfrac{\\mathrm{d}}{\\mathrm{d}\\mathbf{v}_c}\\left(-\\sum_{n \\in N}\\log\\sigma(-\\mathbf{u}_n \\cdot \\mathbf{v}_c)\\right)\n",
        "=\n",
        "\\sum_{n \\in N} \\mathbf{u}_n(1 - \\sigma(-\\mathbf{u}_n\\cdot \\mathbf{v}_c))\n",
        "$$ "
      ]
    },
    {
      "cell_type": "markdown",
      "metadata": {
        "id": "zyvcncqkwBxr",
        "colab_type": "text"
      },
      "source": [
        "<!--@slideshow slide-->\n",
        "## Exercise 4\n",
        "Find derivatives $\\dfrac{\\mathrm{d}\\ell(c, o, N)}{\\mathrm{d}\\mathbf{u}_o}$ and $\\dfrac{\\mathrm{d}\\ell(c, o, N)}{\\mathrm{d}\\mathbf{u}_n}$."
      ]
    },
    {
      "cell_type": "markdown",
      "metadata": {
        "id": "qZAMIjFAJyhz",
        "colab_type": "text"
      },
      "source": [
        "<!--@slideshow slide-->\n",
        "# Colab demo: word2vec in gensim"
      ]
    },
    {
      "cell_type": "markdown",
      "metadata": {
        "id": "Qu5mpaClbTYH",
        "colab_type": "text"
      },
      "source": [
        "## How to train"
      ]
    },
    {
      "cell_type": "code",
      "metadata": {
        "id": "15DlND7gVet4",
        "colab_type": "code",
        "outputId": "1244f0da-4a42-4134-abb6-9b0994a67a80",
        "colab": {
          "base_uri": "https://localhost:8080/",
          "height": 204
        }
      },
      "source": [
        "print(\"Words most similar to 'A' (gensim implementation)\")\n",
        "from gensim.models import Word2Vec\n",
        "\n",
        "gensim_word2vec = Word2Vec(\n",
        "    sg=1,  # skip-gram\n",
        "    hs=0,  # negative sampling\n",
        "    size=vector_size,\n",
        "    window=window_size,\n",
        "    alpha=learning_rate,\n",
        "    negative=n_negative_samples\n",
        ")\n",
        "gensim_word2vec.build_vocab(toy_dataset)\n",
        "gensim_word2vec.train(toy_dataset, total_examples=len(toy_dataset), epochs=n_epoch)\n",
        "pprint(gensim_word2vec.wv.most_similar(\"A\"))"
      ],
      "execution_count": 0,
      "outputs": [
        {
          "output_type": "stream",
          "text": [
            "Words most similar to 'A' (gensim implementation)\n",
            "[('B', 0.9986007809638977),\n",
            " ('r', 0.9088090658187866),\n",
            " ('f', 0.8830968141555786),\n",
            " ('v', 0.8664787411689758),\n",
            " ('p', 0.8410423994064331),\n",
            " ('d', 0.8304134011268616),\n",
            " ('e', 0.8158031702041626),\n",
            " ('l', 0.7807328701019287),\n",
            " ('m', 0.777729868888855),\n",
            " ('u', 0.724033534526825)]\n"
          ],
          "name": "stdout"
        }
      ]
    },
    {
      "cell_type": "code",
      "metadata": {
        "id": "XLRju_9VfmgA",
        "colab_type": "code",
        "outputId": "4e9b0303-4550-4f69-d59b-34b108e96957",
        "colab": {
          "base_uri": "https://localhost:8080/",
          "height": 66,
          "referenced_widgets": [
            "8bd606a3a5154f5aaa22795d9f78e12d",
            "e2918af745ec464192ad67d9d8f8a765",
            "d66db06dd21a43f4a0e54a04c0f1c2dc",
            "e86053ff711945bcbbba9f89c1b6dcf6",
            "31ffaa6cef374556aafbad21c73ebffd",
            "233dd93735a94a93a9aa0081423e3fda",
            "a8b509284efd41e698fb447b8b9177ef",
            "e60d93c4b3f14fbd9a9dcd728309c4fe"
          ]
        }
      },
      "source": [
        "# try the real dataset\n",
        "from sklearn.datasets import fetch_20newsgroups\n",
        "dataset = fetch_20newsgroups(\n",
        "    subset=\"all\",\n",
        "    shuffle=True,\n",
        "    random_state=1,\n",
        "    remove=('headers', 'footers', 'quotes')\n",
        ")\n",
        "\n",
        "from tqdm.notebook import tqdm\n",
        "import spacy\n",
        "\n",
        "# extract tokens (lemmas) with spaCy\n",
        "nlp = spacy.load(\"en\", disable=['parser', 'ner', 'tagger'])\n",
        "def tokens(s):\n",
        "    return [t.lemma_ for t in nlp(s)]\n",
        "\n",
        "texts = [tokens(text) for text in tqdm(dataset.data, desc=\"tokenize\")]"
      ],
      "execution_count": 0,
      "outputs": [
        {
          "output_type": "display_data",
          "data": {
            "application/vnd.jupyter.widget-view+json": {
              "model_id": "8bd606a3a5154f5aaa22795d9f78e12d",
              "version_minor": 0,
              "version_major": 2
            },
            "text/plain": [
              "HBox(children=(FloatProgress(value=0.0, description='tokenize', max=18846.0, style=ProgressStyle(description_w…"
            ]
          },
          "metadata": {
            "tags": []
          }
        },
        {
          "output_type": "stream",
          "text": [
            "\n"
          ],
          "name": "stdout"
        }
      ]
    },
    {
      "cell_type": "code",
      "metadata": {
        "id": "EIsfauQZgDUb",
        "colab_type": "code",
        "colab": {}
      },
      "source": [
        "# initialize, build vocabulary and train at once\n",
        "gensim_word2vec = Word2Vec(\n",
        "    texts,\n",
        "    sg=1,  # skip-gram\n",
        "    hs=0,  # negative sampling\n",
        "    size=32,\n",
        "    window=5,  # context is a 5-word window around the target word\n",
        "    min_count=5  # ignore words that occur less than 5 times\n",
        ").wv  # \"wv\" stands for \"word vectors\""
      ],
      "execution_count": 0,
      "outputs": []
    },
    {
      "cell_type": "code",
      "metadata": {
        "id": "QEGwLcxkit-N",
        "colab_type": "code",
        "outputId": "8ac38f7f-ef9d-41db-8a89-1e122a25e2de",
        "colab": {
          "base_uri": "https://localhost:8080/",
          "height": 187
        }
      },
      "source": [
        "gensim_word2vec.most_similar(\"space\")"
      ],
      "execution_count": 0,
      "outputs": [
        {
          "output_type": "execute_result",
          "data": {
            "text/plain": [
              "[('navigation', 0.857740044593811),\n",
              " ('satellite', 0.8460273742675781),\n",
              " ('shuttle', 0.84037846326828),\n",
              " ('lunar', 0.840324342250824),\n",
              " ('exploration', 0.837765097618103),\n",
              " ('trajectory', 0.8235849142074585),\n",
              " ('constraint', 0.8180758953094482),\n",
              " ('constellation', 0.8165766596794128),\n",
              " ('SSF', 0.8120323419570923),\n",
              " ('operation', 0.8113124966621399)]"
            ]
          },
          "metadata": {
            "tags": []
          },
          "execution_count": 38
        }
      ]
    },
    {
      "cell_type": "code",
      "metadata": {
        "id": "J1YWPktljLrG",
        "colab_type": "code",
        "outputId": "c1653dea-aeb1-47ca-b384-7073da64219e",
        "colab": {
          "base_uri": "https://localhost:8080/",
          "height": 187
        }
      },
      "source": [
        "gensim_word2vec.most_similar(\"gif\")"
      ],
      "execution_count": 0,
      "outputs": [
        {
          "output_type": "execute_result",
          "data": {
            "text/plain": [
              "[('BMP', 0.9493519067764282),\n",
              " ('PCX', 0.9474430084228516),\n",
              " ('bmp', 0.9132444858551025),\n",
              " ('jpeg', 0.8968145847320557),\n",
              " ('TIFF', 0.8966711759567261),\n",
              " ('ascii', 0.8963527679443359),\n",
              " ('Targa', 0.8955907225608826),\n",
              " ('xbm', 0.8945857286453247),\n",
              " ('JPG', 0.893984854221344),\n",
              " ('postscript', 0.890293538570404)]"
            ]
          },
          "metadata": {
            "tags": []
          },
          "execution_count": 39
        }
      ]
    },
    {
      "cell_type": "code",
      "metadata": {
        "id": "7-vdgFv1jTs4",
        "colab_type": "code",
        "outputId": "fe05e837-a60f-488b-c364-79f017606ebd",
        "colab": {
          "base_uri": "https://localhost:8080/",
          "height": 187
        }
      },
      "source": [
        "gensim_word2vec.most_similar(\"hockey\")"
      ],
      "execution_count": 0,
      "outputs": [
        {
          "output_type": "execute_result",
          "data": {
            "text/plain": [
              "[('baseball', 0.9565767049789429),\n",
              " ('NHL', 0.893846869468689),\n",
              " ('football', 0.8758339881896973),\n",
              " ('ESPN', 0.8689970374107361),\n",
              " ('basketball', 0.8644440174102783),\n",
              " ('player', 0.8541895151138306),\n",
              " ('team', 0.847851037979126),\n",
              " ('arena', 0.8454728126525879),\n",
              " ('league', 0.8433417677879333),\n",
              " ('playoff', 0.842491626739502)]"
            ]
          },
          "metadata": {
            "tags": []
          },
          "execution_count": 40
        }
      ]
    },
    {
      "cell_type": "markdown",
      "metadata": {
        "id": "A48Ke60ubVdb",
        "colab_type": "text"
      },
      "source": [
        "## Pre-trained vectors"
      ]
    },
    {
      "cell_type": "code",
      "metadata": {
        "id": "PKx66YxwbXDY",
        "colab_type": "code",
        "outputId": "e63a155f-d893-4f45-9d2c-f8b6b1a413fd",
        "colab": {
          "base_uri": "https://localhost:8080/",
          "height": 568
        }
      },
      "source": [
        "import gensim.downloader as api\n",
        "\n",
        "# list all available models\n",
        "from tabulate import tabulate\n",
        "from IPython.display import display, HTML\n",
        "all_gensim_models = api.info()[\"models\"]\n",
        "gensim_model_description = [(m, all_gensim_models[m][\"description\"]) for m in all_gensim_models]\n",
        "display(HTML(tabulate(gensim_model_description, headers=(\"model name\", \"description\"), tablefmt=\"html\")))"
      ],
      "execution_count": 0,
      "outputs": [
        {
          "output_type": "display_data",
          "data": {
            "text/html": [
              "<table>\n",
              "<thead>\n",
              "<tr><th>model name                        </th><th>description                                                                                                                                                                                                                                                                                                                                                                                                                                                                                                                                                                                                  </th></tr>\n",
              "</thead>\n",
              "<tbody>\n",
              "<tr><td>fasttext-wiki-news-subwords-300   </td><td>1 million word vectors trained on Wikipedia 2017, UMBC webbase corpus and statmt.org news dataset (16B tokens).                                                                                                                                                                                                                                                                                                                                                                                                                                                                                              </td></tr>\n",
              "<tr><td>conceptnet-numberbatch-17-06-300  </td><td>ConceptNet Numberbatch consists of state-of-the-art semantic vectors (also known as word embeddings) that can be used directly as a representation of word meanings or as a starting point for further machine learning. ConceptNet Numberbatch is part of the ConceptNet open data project. ConceptNet provides lots of ways to compute with word meanings, one of which is word embeddings. ConceptNet Numberbatch is a snapshot of just the word embeddings. It is built using an ensemble that combines data from ConceptNet, word2vec, GloVe, and OpenSubtitles 2016, using a variation on retrofitting.</td></tr>\n",
              "<tr><td>word2vec-ruscorpora-300           </td><td>Word2vec Continuous Skipgram vectors trained on full Russian National Corpus (about 250M words). The model contains 185K words.                                                                                                                                                                                                                                                                                                                                                                                                                                                                              </td></tr>\n",
              "<tr><td>word2vec-google-news-300          </td><td>Pre-trained vectors trained on a part of the Google News dataset (about 100 billion words). The model contains 300-dimensional vectors for 3 million words and phrases. The phrases were obtained using a simple data-driven approach described in &#x27;Distributed Representations of Words and Phrases and their Compositionality&#x27; (https://code.google.com/archive/p/word2vec/).                                                                                                                                                                                                                              </td></tr>\n",
              "<tr><td>glove-wiki-gigaword-50            </td><td>Pre-trained vectors based on Wikipedia 2014 + Gigaword, 5.6B tokens, 400K vocab, uncased (https://nlp.stanford.edu/projects/glove/).                                                                                                                                                                                                                                                                                                                                                                                                                                                                         </td></tr>\n",
              "<tr><td>glove-wiki-gigaword-100           </td><td>Pre-trained vectors based on Wikipedia 2014 + Gigaword 5.6B tokens, 400K vocab, uncased (https://nlp.stanford.edu/projects/glove/).                                                                                                                                                                                                                                                                                                                                                                                                                                                                          </td></tr>\n",
              "<tr><td>glove-wiki-gigaword-200           </td><td>Pre-trained vectors based on Wikipedia 2014 + Gigaword, 5.6B tokens, 400K vocab, uncased (https://nlp.stanford.edu/projects/glove/).                                                                                                                                                                                                                                                                                                                                                                                                                                                                         </td></tr>\n",
              "<tr><td>glove-wiki-gigaword-300           </td><td>Pre-trained vectors based on Wikipedia 2014 + Gigaword, 5.6B tokens, 400K vocab, uncased (https://nlp.stanford.edu/projects/glove/).                                                                                                                                                                                                                                                                                                                                                                                                                                                                         </td></tr>\n",
              "<tr><td>glove-twitter-25                  </td><td>Pre-trained vectors based on 2B tweets, 27B tokens, 1.2M vocab, uncased (https://nlp.stanford.edu/projects/glove/).                                                                                                                                                                                                                                                                                                                                                                                                                                                                                          </td></tr>\n",
              "<tr><td>glove-twitter-50                  </td><td>Pre-trained vectors based on 2B tweets, 27B tokens, 1.2M vocab, uncased (https://nlp.stanford.edu/projects/glove/)                                                                                                                                                                                                                                                                                                                                                                                                                                                                                           </td></tr>\n",
              "<tr><td>glove-twitter-100                 </td><td>Pre-trained vectors based on  2B tweets, 27B tokens, 1.2M vocab, uncased (https://nlp.stanford.edu/projects/glove/)                                                                                                                                                                                                                                                                                                                                                                                                                                                                                          </td></tr>\n",
              "<tr><td>glove-twitter-200                 </td><td>Pre-trained vectors based on 2B tweets, 27B tokens, 1.2M vocab, uncased (https://nlp.stanford.edu/projects/glove/).                                                                                                                                                                                                                                                                                                                                                                                                                                                                                          </td></tr>\n",
              "<tr><td>__testing_word2vec-matrix-synopsis</td><td>[THIS IS ONLY FOR TESTING] Word vecrors of the movie matrix.                                                                                                                                                                                                                                                                                                                                                                                                                                                                                                                                                 </td></tr>\n",
              "</tbody>\n",
              "</table>"
            ],
            "text/plain": [
              "<IPython.core.display.HTML object>"
            ]
          },
          "metadata": {
            "tags": []
          }
        }
      ]
    },
    {
      "cell_type": "code",
      "metadata": {
        "id": "8yCHnqd3lOQd",
        "colab_type": "code",
        "colab": {}
      },
      "source": [
        "# load relatively small (128MB) model\n",
        "model = api.load(\"glove-wiki-gigaword-100\")"
      ],
      "execution_count": 0,
      "outputs": []
    },
    {
      "cell_type": "code",
      "metadata": {
        "id": "FWx4ur_tmvhk",
        "colab_type": "code",
        "outputId": "2bb140fc-f483-434c-87bd-7a76c656aa26",
        "colab": {
          "base_uri": "https://localhost:8080/",
          "height": 187
        }
      },
      "source": [
        "model.most_similar(\"hockey\")"
      ],
      "execution_count": 0,
      "outputs": [
        {
          "output_type": "execute_result",
          "data": {
            "text/plain": [
              "[('basketball', 0.8041675090789795),\n",
              " ('football', 0.7833694219589233),\n",
              " ('nhl', 0.7604307532310486),\n",
              " ('soccer', 0.7440757751464844),\n",
              " ('baseball', 0.7312085628509521),\n",
              " ('league', 0.7092335224151611),\n",
              " ('skating', 0.670417070388794),\n",
              " ('lacrosse', 0.6691610813140869),\n",
              " ('team', 0.6619707345962524),\n",
              " ('games', 0.6571609973907471)]"
            ]
          },
          "metadata": {
            "tags": []
          },
          "execution_count": 42
        }
      ]
    },
    {
      "cell_type": "markdown",
      "metadata": {
        "id": "Kuj7YzeeoIUf",
        "colab_type": "text"
      },
      "source": [
        "<!--@slideshow slide-->\n",
        "## Colab quiz 6\n",
        "\n",
        "What is the most similar to \"twitter\"?"
      ]
    },
    {
      "cell_type": "code",
      "metadata": {
        "id": "aA0qJsVinmLO",
        "colab_type": "code",
        "outputId": "d92b9efa-41ea-4272-d0d7-86c071f3a140",
        "colab": {
          "base_uri": "https://localhost:8080/",
          "height": 197,
          "referenced_widgets": [
            "0e119ff76ef3404689fc3655205aa4dd",
            "b2d44bc111934d9696dc94699ee94a0d",
            "aca88219df03433888cceb71f1aa9dc4",
            "b6e4e33859cc469898f84b584ee73757",
            "c569fe737c284b218a81c7b9a6695e4a",
            "4b5aa5e6ccf64789a8677b54eae32c0d",
            "b29bd19b7ef94954bdef7ff2373d79b8",
            "f3a3b6453c964b2ca886898b35bac84d",
            "f8ce978c3da34a6e89c7a7d0e449e742",
            "86ec492eda914776909781ba2377f5db",
            "d6a11985b5a0461ab7b598c921bdad1a",
            "98b2e053f96e465aacc9ed746b61a414",
            "761b5037886b4c969d9345434a134150",
            "1a20fee6448946de8ac40b502022966d",
            "13c28b461cae486fabf4f0d1b6998537",
            "6fd09ca4693746cbb6528a7377f89cac"
          ]
        }
      },
      "source": [
        "quiz_most_similar()()"
      ],
      "execution_count": 0,
      "outputs": [
        {
          "output_type": "display_data",
          "data": {
            "application/vnd.jupyter.widget-view+json": {
              "model_id": "0e119ff76ef3404689fc3655205aa4dd",
              "version_minor": 0,
              "version_major": 2
            },
            "text/plain": [
              "VBox(children=(Output(), RadioButtons(options=('instagram', 'facebook', 'youtube', 'internet'), value='instagr…"
            ]
          },
          "metadata": {
            "tags": []
          }
        }
      ]
    },
    {
      "cell_type": "markdown",
      "metadata": {
        "id": "2ps1l2bbJ3sM",
        "colab_type": "text"
      },
      "source": [
        "<!--@slideshow slide-->\n",
        "# Visualization of word vectors"
      ]
    },
    {
      "cell_type": "code",
      "metadata": {
        "id": "kbe00Hoxo9c6",
        "colab_type": "code",
        "outputId": "9f877b1f-808e-47ec-a1bd-c3f56cef9cf5",
        "colab": {
          "base_uri": "https://localhost:8080/",
          "height": 374
        }
      },
      "source": [
        "#@slideshow fragment tags=remove_input\n",
        "display_pca_scatterplot(\n",
        "    model,\n",
        "    ['coffee', 'tea', 'beer', 'wine', 'brandy', 'rum', 'champagne', 'water',\n",
        "    'spaghetti', 'borscht', 'hamburger', 'pizza', 'falafel', 'sushi', 'meatballs',\n",
        "    'dog', 'horse', 'cat', 'monkey', 'parrot', 'koala', 'lizard',\n",
        "    'frog', 'toad', 'monkey', 'ape', 'kangaroo', 'wombat', 'wolf',\n",
        "    'france', 'germany', 'hungary', 'luxembourg', 'australia', 'fiji', 'china',\n",
        "    'homework', 'assignment', 'problem', 'exam', 'test', 'class',\n",
        "    'school', 'college', 'university', 'institute',]\n",
        ")"
      ],
      "execution_count": 0,
      "outputs": [
        {
          "output_type": "display_data",
          "data": {
            "image/png": "[encoded data removed]",
            "text/plain": [
              "<Figure size 432x432 with 1 Axes>"
            ]
          },
          "metadata": {
            "tags": [],
            "needs_background": "light"
          }
        }
      ]
    },
    {
      "cell_type": "markdown",
      "metadata": {
        "id": "NceO4M0NJ1qq",
        "colab_type": "text"
      },
      "source": [
        "<!--@slideshow slide-->\n",
        "# Properties of word vectors"
      ]
    },
    {
      "cell_type": "code",
      "metadata": {
        "id": "xaktqcwqycaf",
        "colab_type": "code",
        "outputId": "64b97d63-538d-474c-b1b7-9c5bae912648",
        "colab": {
          "base_uri": "https://localhost:8080/",
          "height": 374
        }
      },
      "source": [
        "#@slideshow slide tags=remove_input\n",
        "display_pca_scatterplot(\n",
        "    model,\n",
        "    [\n",
        "        \"china\", \"beijing\",\n",
        "        \"russia\", \"moscow\",\n",
        "        \"turkey\", \"ankara\",\n",
        "        \"poland\", \"warsaw\",\n",
        "        \"germany\", \"berlin\",\n",
        "    ]\n",
        ")"
      ],
      "execution_count": 0,
      "outputs": [
        {
          "output_type": "display_data",
          "data": {
            "image/png": "[encoded data removed]",
            "text/plain": [
              "<Figure size 432x432 with 1 Axes>"
            ]
          },
          "metadata": {
            "tags": [],
            "needs_background": "light"
          }
        }
      ]
    },
    {
      "cell_type": "markdown",
      "metadata": {
        "id": "s_3xDG6S7NC1",
        "colab_type": "text"
      },
      "source": [
        "<!--@slideshow fragment-->\n",
        "For example, \n",
        "$$\n",
        "\\overrightarrow{\\mathrm{Warsaw}} - \\overrightarrow{\\mathrm{Poland}} \\approx  \\overrightarrow{\\mathrm{Moscow}} - \\overrightarrow{\\mathrm{Russia}}\n",
        "$$\n",
        "or, equivalently\n",
        "$$\n",
        "\\overrightarrow{\\mathrm{Warsaw}} - \\overrightarrow{\\mathrm{Poland}}  + \\overrightarrow{\\mathrm{Russia}} \\approx \\overrightarrow{\\mathrm{Moscow}}\n",
        "$$\n"
      ]
    },
    {
      "cell_type": "markdown",
      "metadata": {
        "id": "q3SSeMSh2oMD",
        "colab_type": "text"
      },
      "source": [
        "Thus, word vectors represent some (but not all!) relations between words (\"Warsaw is related to Poland the same way Moscow is related to Russia\")."
      ]
    },
    {
      "cell_type": "code",
      "metadata": {
        "id": "cRnrlx0A5ibR",
        "colab_type": "code",
        "outputId": "7eedeea6-dfac-4b05-a01e-938de837fe42",
        "colab": {
          "base_uri": "https://localhost:8080/",
          "height": 68
        }
      },
      "source": [
        "#@slideshow slide\n",
        "from scipy.spatial.distance import cosine\n",
        "print(\"Distance between <warsaw> and <moscow>:\", cosine(model[\"warsaw\"], model[\"moscow\"]))\n",
        "print(\"Distance between <poland> and <russia>:\", cosine(model[\"poland\"], model[\"russia\"]))\n",
        "print(\"Distance between <warsaw> - <poland> + <russia> and <moscow>:\", cosine(model[\"warsaw\"] - model[\"poland\"] + model[\"russia\"], model[\"moscow\"]))"
      ],
      "execution_count": 0,
      "outputs": [
        {
          "output_type": "stream",
          "text": [
            "Distance between <warsaw> and <moscow>: 0.3461671471595764\n",
            "Distance between <poland> and <russia>: 0.3346114158630371\n",
            "Distance between <warsaw> - <poland> + <russia> and <moscow>: 0.13101792335510254\n"
          ],
          "name": "stdout"
        }
      ]
    },
    {
      "cell_type": "code",
      "metadata": {
        "id": "AVe8qEwg86CU",
        "colab_type": "code",
        "outputId": "e4cc0f93-9a40-4ee7-f510-b1890144423a",
        "colab": {
          "base_uri": "https://localhost:8080/",
          "height": 187
        }
      },
      "source": [
        "#@slideshow slide\n",
        "# we can solve word analogy task with gensim\n",
        "model.most_similar(positive=[\"poland\", \"moscow\"], negative=[\"warsaw\"])"
      ],
      "execution_count": 0,
      "outputs": [
        {
          "output_type": "execute_result",
          "data": {
            "text/plain": [
              "[('russia', 0.8804728984832764),\n",
              " ('ukraine', 0.8040169477462769),\n",
              " ('greece', 0.7516032457351685),\n",
              " ('bulgaria', 0.7362306118011475),\n",
              " ('turkey', 0.7311098575592041),\n",
              " ('belarus', 0.7300174236297607),\n",
              " ('russian', 0.70297771692276),\n",
              " ('kazakhstan', 0.7012521624565125),\n",
              " ('armenia', 0.6977461576461792),\n",
              " ('iran', 0.6883851885795593)]"
            ]
          },
          "metadata": {
            "tags": []
          },
          "execution_count": 25
        }
      ]
    },
    {
      "cell_type": "markdown",
      "metadata": {
        "id": "qlZnL-8mFjEo",
        "colab_type": "text"
      },
      "source": [
        "<!--@slideshow slide-->\n",
        "## Colab quiz 7"
      ]
    },
    {
      "cell_type": "code",
      "metadata": {
        "id": "QaPTaiMXDVQv",
        "colab_type": "code",
        "outputId": "24aa547f-cc47-4462-fc4f-f8f5a005ba10",
        "colab": {
          "base_uri": "https://localhost:8080/",
          "height": 225,
          "referenced_widgets": [
            "2c70efa7e83443c49ff28b4f4d45596f",
            "bd7ba3617e4d42c7b3419635f4e3dcf2",
            "4a42b6fffa5740fcaef34f7c6cc5530d",
            "d2ea267469a241e4aa9aa039d161dd61",
            "28fd749896e3411e9d25ac6565b106e1",
            "2faf5e0d71bb4c2ebe6eeaac30709f05",
            "8b8d74e6871741158c109e08e1cf7152",
            "0732b87c21534e18a59a0d489f95a634",
            "42d4d88236ca46e1970434ce0380744e",
            "35009431b5c1434dbff4c810dce21f93",
            "048ded4116314a84a6429c6067685b9e",
            "2972ee3474f2419594fd86d750d54743",
            "89929e79f49d4b36aeaa99037b0f9c50",
            "b0b097c9d00947d9a14608a4cf17a192",
            "b3bb2e4fa2c74104bcb710a4cd10ac7f",
            "a7ef0213bad044a8b21995b639ecf60f"
          ]
        }
      },
      "source": [
        "# earl - man = X - woman\n",
        "enable_mathjax_in_cell()\n",
        "quiz_earl()()"
      ],
      "execution_count": 0,
      "outputs": [
        {
          "output_type": "display_data",
          "data": {
            "text/html": [
              "\n",
              "        <script src=\"https://www.gstatic.com/external_hosted/mathjax/latest/MathJax.js?config=TeX-AMS_HTML-full,Safe&delayStartupUntil=configured\"></script>\n",
              "        <script>\n",
              "            (() => {\n",
              "            const mathjax = window.MathJax;\n",
              "            mathjax.Hub.Config({\n",
              "            'tex2jax': {\n",
              "                'inlineMath': [['$', '$'], ['\\(', '\\)']],\n",
              "                'displayMath': [['$$', '$$'], ['\\[', '\\]']],\n",
              "                'processEscapes': true,\n",
              "                'processEnvironments': true,\n",
              "                'skipTags': ['script', 'noscript', 'style', 'textarea', 'code'],\n",
              "                'displayAlign': 'center',\n",
              "            },\n",
              "            'HTML-CSS': {\n",
              "                'styles': {'.MathJax_Display': {'margin': 0}},\n",
              "                'linebreaks': {'automatic': true},\n",
              "                // Disable to prevent OTF font loading, which aren't part of our\n",
              "                // distribution.\n",
              "                'imageFont': null,\n",
              "            },\n",
              "            'messageStyle': 'none'\n",
              "            });\n",
              "            mathjax.Hub.Configured();\n",
              "        })();\n",
              "        </script>\n",
              "        "
            ],
            "text/plain": [
              "<IPython.core.display.HTML object>"
            ]
          },
          "metadata": {
            "tags": []
          }
        },
        {
          "output_type": "display_data",
          "data": {
            "application/vnd.jupyter.widget-view+json": {
              "model_id": "2c70efa7e83443c49ff28b4f4d45596f",
              "version_minor": 0,
              "version_major": 2
            },
            "text/plain": [
              "VBox(children=(Output(), RadioButtons(options=('X = duchess', 'X = marquess', 'X = countess', 'X = baronet'), …"
            ]
          },
          "metadata": {
            "tags": []
          }
        }
      ]
    },
    {
      "cell_type": "markdown",
      "metadata": {
        "id": "vesL_f-BwpF0",
        "colab_type": "text"
      },
      "source": [
        "<!--@slideshow slide-->\n",
        "# Summary\n",
        "1. Words can be represented as non-orthogonal vectors.\n",
        "1. The meaning of the word can be deduced from contexts the word appears in (distributional semantics).\n",
        "1. word2vec\n",
        "  - Find vectors such that words with similar vectors often occur in the same context.\n",
        "  - Optimize log-likelihood using gradient descent.\n",
        "  - Details: 2 vectors for each word, negative sampling, subsampling.\n",
        "1. word2vec in gensim.\n",
        "1. Word vectors capture relations between words."
      ]
    },
    {
      "cell_type": "markdown",
      "metadata": {
        "id": "p0ACJFY28MuM",
        "colab_type": "text"
      },
      "source": [
        "<!--@slideshow slide-->\n",
        "# Recommended resources\n",
        "- [📖 Distributional semantics](https://en.wikipedia.org/wiki/Distributional_semantics)\n",
        "- [📖 YDSA NLP course, lecture 1](https://github.com/yandexdataschool/nlp_course/tree/2019/week01_embeddings)\n",
        "- Stanford CS224n, lecture 1\n",
        "  - [📺 video](https://www.youtube.com/watch?v=8rXD5-xhemo&feature=youtu.be)\n",
        "  - [📖 slides](https://web.stanford.edu/class/archive/cs/cs224n/cs224n.1194/slides/cs224n-2019-lecture01-wordvecs1.pdf)\n",
        "  - [📖 notes](https://web.stanford.edu/class/archive/cs/cs224n/cs224n.1194/readings/cs224n-2019-notes01-wordvecs1.pdf)\n",
        "- [📖 The original word2vec code](https://code.google.com/archive/p/word2vec/)"
      ]
    },
    {
      "cell_type": "markdown",
      "metadata": {
        "id": "1_kJQ_FIK1FX",
        "colab_type": "text"
      },
      "source": [
        "## [OPTIONAL] Principal Component Analysis (PCA)\n",
        "\n",
        "The illustration of the Principal Component Analysis. In case of 2 dimensions, PCA can be understood as the best projection of 2-dimensional data into a straingt line."
      ]
    },
    {
      "cell_type": "code",
      "metadata": {
        "id": "5-bmGXPQOROg",
        "colab_type": "code",
        "outputId": "3ccf7d0e-d80f-4f2d-f235-2bfd0d219b0b",
        "colab": {
          "base_uri": "https://localhost:8080/",
          "height": 282
        }
      },
      "source": [
        "# project 2-dimensional ellipsoid onto a 1-dimensional line\n",
        "# in other words: explain each point with a single number\n",
        "def rotation_matrix(radians):\n",
        "    c, s = np.cos(radians), np.sin(radians)\n",
        "    return np.matrix([[c, s], [-s, c]])\n",
        "\n",
        "def generate_cloud(size, var1, var2, radians):\n",
        "    import numpy as np\n",
        "    j = rotation_matrix(radians)\n",
        "    return np.asarray(np.random.multivariate_normal([0., 0.], [[var1, 0], [0, var2]], size=size) @ j)\n",
        "\n",
        "cloud = generate_cloud(100, 0.5, 20, 0.5)\n",
        "import matplotlib.pyplot as plt\n",
        "\n",
        "plt.scatter(cloud[:, 0], cloud[:, 1])\n",
        "plt.axis(\"equal\")"
      ],
      "execution_count": 0,
      "outputs": [
        {
          "output_type": "execute_result",
          "data": {
            "text/plain": [
              "(-6.501071474160738, 6.877616311403685, -12.019899362227658, 10.70626356091495)"
            ]
          },
          "metadata": {
            "tags": []
          },
          "execution_count": 27
        },
        {
          "output_type": "display_data",
          "data": {
            "image/png": "[encoded data removed]",
            "text/plain": [
              "<Figure size 432x288 with 1 Axes>"
            ]
          },
          "metadata": {
            "tags": [],
            "needs_background": "light"
          }
        }
      ]
    },
    {
      "cell_type": "code",
      "metadata": {
        "id": "4g_8Xra1SV2k",
        "colab_type": "code",
        "outputId": "86895744-5292-4ea0-8a34-7e6ec87ee98b",
        "colab": {
          "base_uri": "https://localhost:8080/",
          "height": 282
        }
      },
      "source": [
        "# find the rotation angle via slope\n",
        "from sklearn.linear_model import LinearRegression\n",
        "clf = LinearRegression()\n",
        "clf.fit(cloud[:, 0].reshape(-1, 1), cloud[:, 1])\n",
        "# clf.coef_ is the slope = tan(rotation angles)\n",
        "# rotate back\n",
        "angle_to_rotate = -np.arctan(clf.coef_).item()\n",
        "rotated_cloud = np.asarray(cloud @ rotation_matrix(angle_to_rotate))\n",
        "plt.scatter(\n",
        "    rotated_cloud[:, 0],  # the first principal component\n",
        "    rotated_cloud[:, 1]\n",
        ")\n",
        "plt.axis(\"equal\")"
      ],
      "execution_count": 0,
      "outputs": [
        {
          "output_type": "execute_result",
          "data": {
            "text/plain": [
              "(-12.525150925830722, 13.84605784340887, -1.839564159481518, 1.852987588667891)"
            ]
          },
          "metadata": {
            "tags": []
          },
          "execution_count": 28
        },
        {
          "output_type": "display_data",
          "data": {
            "image/png": "[encoded data removed]",
            "text/plain": [
              "<Figure size 432x288 with 1 Axes>"
            ]
          },
          "metadata": {
            "tags": [],
            "needs_background": "light"
          }
        }
      ]
    },
    {
      "cell_type": "code",
      "metadata": {
        "id": "1pwF-QVbRjoe",
        "colab_type": "code",
        "outputId": "6e5215b8-4be9-4fa9-c491-334e0668adff",
        "colab": {
          "base_uri": "https://localhost:8080/",
          "height": 333
        }
      },
      "source": [
        "from sklearn.decomposition import PCA\n",
        "trf = PCA()\n",
        "result = trf.fit_transform(cloud)\n",
        "\n",
        "plt.scatter(result[:, 0], result[:, 1])\n",
        "plt.axis(\"equal\")"
      ],
      "execution_count": 0,
      "outputs": [
        {
          "output_type": "execute_result",
          "data": {
            "text/plain": [
              "(-12.35373151373934,\n",
              " 14.007788256632983,\n",
              " -1.6862173835975365,\n",
              " 1.7064803806761488)"
            ]
          },
          "metadata": {
            "tags": []
          },
          "execution_count": 29
        },
        {
          "output_type": "display_data",
          "data": {
            "image/png": "[encoded data removed]",
            "text/plain": [
              "<Figure size 432x288 with 1 Axes>"
            ]
          },
          "metadata": {
            "tags": [],
            "needs_background": "light"
          }
        }
      ]
    }
  ]
}