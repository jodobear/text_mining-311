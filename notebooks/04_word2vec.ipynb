{
  "nbformat": 4,
  "nbformat_minor": 0,
  "metadata": {
    "colab": {
      "name": "4_word2vec.ipynb",
      "provenance": [],
      "collapsed_sections": [],
      "toc_visible": true
    },
    "kernelspec": {
      "name": "python3",
      "display_name": "Python 3"
    },
    "widgets": {
      "application/vnd.jupyter.widget-state+json": {
        "e711a00182eb4910b41a38408e232a24": {
          "model_module": "@jupyter-widgets/controls",
          "model_name": "VBoxModel",
          "state": {
            "_view_name": "VBoxView",
            "_dom_classes": [],
            "_model_name": "VBoxModel",
            "_view_module": "@jupyter-widgets/controls",
            "_model_module_version": "1.5.0",
            "_view_count": null,
            "_view_module_version": "1.5.0",
            "box_style": "",
            "layout": "IPY_MODEL_01c1c08bbb5a4e25b16820916e2e3085",
            "_model_module": "@jupyter-widgets/controls",
            "children": [
              "IPY_MODEL_00560b71cd1b4d54aa948c3a3d598235",
              "IPY_MODEL_3709e194bd7b49629ab62e460d8f4790",
              "IPY_MODEL_5767f41f82334017a23eaec78dbd6071",
              "IPY_MODEL_af7fe5a5dfd644ba86739d941af8e6b7"
            ]
          }
        },
        "01c1c08bbb5a4e25b16820916e2e3085": {
          "model_module": "@jupyter-widgets/base",
          "model_name": "LayoutModel",
          "state": {
            "_view_name": "LayoutView",
            "grid_template_rows": null,
            "right": null,
            "justify_content": null,
            "_view_module": "@jupyter-widgets/base",
            "overflow": null,
            "_model_module_version": "1.2.0",
            "_view_count": null,
            "flex_flow": null,
            "width": null,
            "min_width": null,
            "border": null,
            "align_items": null,
            "bottom": null,
            "_model_module": "@jupyter-widgets/base",
            "top": null,
            "grid_column": null,
            "overflow_y": null,
            "overflow_x": null,
            "grid_auto_flow": null,
            "grid_area": null,
            "grid_template_columns": null,
            "flex": null,
            "_model_name": "LayoutModel",
            "justify_items": null,
            "grid_row": null,
            "max_height": null,
            "align_content": null,
            "visibility": null,
            "align_self": null,
            "height": null,
            "min_height": null,
            "padding": null,
            "grid_auto_rows": null,
            "grid_gap": null,
            "max_width": null,
            "order": null,
            "_view_module_version": "1.2.0",
            "grid_template_areas": null,
            "object_position": null,
            "object_fit": null,
            "grid_auto_columns": null,
            "margin": null,
            "display": null,
            "left": null
          }
        },
        "00560b71cd1b4d54aa948c3a3d598235": {
          "model_module": "@jupyter-widgets/output",
          "model_name": "OutputModel",
          "state": {
            "_view_name": "OutputView",
            "msg_id": "",
            "_dom_classes": [],
            "_model_name": "OutputModel",
            "outputs": [
              {
                "output_type": "display_data",
                "metadata": {
                  "tags": []
                },
                "application/vnd.jupyter.widget-view+json": {
                  "model_id": "462bcc3a557a4f658efd293a2ed0a55b",
                  "version_minor": 0,
                  "version_major": 2
                },
                "text/plain": "HTML(value='\\n            Consider the following sentence:\\n            \"a skibidi is caught out of the sea at…"
              }
            ],
            "_view_module": "@jupyter-widgets/output",
            "_model_module_version": "1.0.0",
            "_view_count": null,
            "_view_module_version": "1.0.0",
            "layout": "IPY_MODEL_8e234f0edd1248a49ca79384a3d4ef57",
            "_model_module": "@jupyter-widgets/output"
          }
        },
        "3709e194bd7b49629ab62e460d8f4790": {
          "model_module": "@jupyter-widgets/controls",
          "model_name": "RadioButtonsModel",
          "state": {
            "_options_labels": [
              "definition 1",
              "definition 2",
              "definition 3",
              "definition 4"
            ],
            "_view_name": "RadioButtonsView",
            "style": "IPY_MODEL_138e998d90e444d0843e533f29eb9e1b",
            "_dom_classes": [],
            "description": "",
            "_model_name": "RadioButtonsModel",
            "index": 2,
            "_view_module": "@jupyter-widgets/controls",
            "_model_module_version": "1.5.0",
            "_view_count": null,
            "disabled": false,
            "_view_module_version": "1.5.0",
            "description_tooltip": null,
            "_model_module": "@jupyter-widgets/controls",
            "layout": "IPY_MODEL_109747b9acc04d0fba904531df3b6520"
          }
        },
        "5767f41f82334017a23eaec78dbd6071": {
          "model_module": "@jupyter-widgets/controls",
          "model_name": "HTMLModel",
          "state": {
            "_view_name": "HTMLView",
            "style": "IPY_MODEL_aae3ef39fa0a465588ebc3e6f211593a",
            "_dom_classes": [],
            "description": "",
            "_model_name": "HTMLModel",
            "placeholder": "​",
            "_view_module": "@jupyter-widgets/controls",
            "_model_module_version": "1.5.0",
            "value": "<font color='green'>'definition 3' is the correct answer</font>",
            "_view_count": null,
            "_view_module_version": "1.5.0",
            "description_tooltip": null,
            "_model_module": "@jupyter-widgets/controls",
            "layout": "IPY_MODEL_886732374c6c491b8cc8d58fa6230cd9"
          }
        },
        "af7fe5a5dfd644ba86739d941af8e6b7": {
          "model_module": "@jupyter-widgets/controls",
          "model_name": "ButtonModel",
          "state": {
            "_view_name": "ButtonView",
            "style": "IPY_MODEL_3f1f4d606253479391b9421174ff72cf",
            "_dom_classes": [],
            "description": "Check",
            "_model_name": "ButtonModel",
            "button_style": "",
            "_view_module": "@jupyter-widgets/controls",
            "_model_module_version": "1.5.0",
            "tooltip": "",
            "_view_count": null,
            "disabled": false,
            "_view_module_version": "1.5.0",
            "layout": "IPY_MODEL_645ee16c9f2a4344bbc8c739ceb13fd5",
            "_model_module": "@jupyter-widgets/controls",
            "icon": ""
          }
        },
        "138e998d90e444d0843e533f29eb9e1b": {
          "model_module": "@jupyter-widgets/controls",
          "model_name": "DescriptionStyleModel",
          "state": {
            "_view_name": "StyleView",
            "_model_name": "DescriptionStyleModel",
            "description_width": "",
            "_view_module": "@jupyter-widgets/base",
            "_model_module_version": "1.5.0",
            "_view_count": null,
            "_view_module_version": "1.2.0",
            "_model_module": "@jupyter-widgets/controls"
          }
        },
        "109747b9acc04d0fba904531df3b6520": {
          "model_module": "@jupyter-widgets/base",
          "model_name": "LayoutModel",
          "state": {
            "_view_name": "LayoutView",
            "grid_template_rows": null,
            "right": null,
            "justify_content": null,
            "_view_module": "@jupyter-widgets/base",
            "overflow": null,
            "_model_module_version": "1.2.0",
            "_view_count": null,
            "flex_flow": null,
            "width": null,
            "min_width": null,
            "border": null,
            "align_items": null,
            "bottom": null,
            "_model_module": "@jupyter-widgets/base",
            "top": null,
            "grid_column": null,
            "overflow_y": null,
            "overflow_x": null,
            "grid_auto_flow": null,
            "grid_area": null,
            "grid_template_columns": null,
            "flex": null,
            "_model_name": "LayoutModel",
            "justify_items": null,
            "grid_row": null,
            "max_height": null,
            "align_content": null,
            "visibility": null,
            "align_self": null,
            "height": null,
            "min_height": null,
            "padding": null,
            "grid_auto_rows": null,
            "grid_gap": null,
            "max_width": null,
            "order": null,
            "_view_module_version": "1.2.0",
            "grid_template_areas": null,
            "object_position": null,
            "object_fit": null,
            "grid_auto_columns": null,
            "margin": null,
            "display": null,
            "left": null
          }
        },
        "aae3ef39fa0a465588ebc3e6f211593a": {
          "model_module": "@jupyter-widgets/controls",
          "model_name": "DescriptionStyleModel",
          "state": {
            "_view_name": "StyleView",
            "_model_name": "DescriptionStyleModel",
            "description_width": "",
            "_view_module": "@jupyter-widgets/base",
            "_model_module_version": "1.5.0",
            "_view_count": null,
            "_view_module_version": "1.2.0",
            "_model_module": "@jupyter-widgets/controls"
          }
        },
        "886732374c6c491b8cc8d58fa6230cd9": {
          "model_module": "@jupyter-widgets/base",
          "model_name": "LayoutModel",
          "state": {
            "_view_name": "LayoutView",
            "grid_template_rows": null,
            "right": null,
            "justify_content": null,
            "_view_module": "@jupyter-widgets/base",
            "overflow": null,
            "_model_module_version": "1.2.0",
            "_view_count": null,
            "flex_flow": null,
            "width": null,
            "min_width": null,
            "border": null,
            "align_items": null,
            "bottom": null,
            "_model_module": "@jupyter-widgets/base",
            "top": null,
            "grid_column": null,
            "overflow_y": null,
            "overflow_x": null,
            "grid_auto_flow": null,
            "grid_area": null,
            "grid_template_columns": null,
            "flex": null,
            "_model_name": "LayoutModel",
            "justify_items": null,
            "grid_row": null,
            "max_height": null,
            "align_content": null,
            "visibility": null,
            "align_self": null,
            "height": null,
            "min_height": null,
            "padding": null,
            "grid_auto_rows": null,
            "grid_gap": null,
            "max_width": null,
            "order": null,
            "_view_module_version": "1.2.0",
            "grid_template_areas": null,
            "object_position": null,
            "object_fit": null,
            "grid_auto_columns": null,
            "margin": null,
            "display": null,
            "left": null
          }
        },
        "3f1f4d606253479391b9421174ff72cf": {
          "model_module": "@jupyter-widgets/controls",
          "model_name": "ButtonStyleModel",
          "state": {
            "_view_name": "StyleView",
            "_model_name": "ButtonStyleModel",
            "_view_module": "@jupyter-widgets/base",
            "_model_module_version": "1.5.0",
            "_view_count": null,
            "button_color": null,
            "font_weight": "",
            "_view_module_version": "1.2.0",
            "_model_module": "@jupyter-widgets/controls"
          }
        },
        "645ee16c9f2a4344bbc8c739ceb13fd5": {
          "model_module": "@jupyter-widgets/base",
          "model_name": "LayoutModel",
          "state": {
            "_view_name": "LayoutView",
            "grid_template_rows": null,
            "right": null,
            "justify_content": null,
            "_view_module": "@jupyter-widgets/base",
            "overflow": null,
            "_model_module_version": "1.2.0",
            "_view_count": null,
            "flex_flow": null,
            "width": null,
            "min_width": null,
            "border": null,
            "align_items": null,
            "bottom": null,
            "_model_module": "@jupyter-widgets/base",
            "top": null,
            "grid_column": null,
            "overflow_y": null,
            "overflow_x": null,
            "grid_auto_flow": null,
            "grid_area": null,
            "grid_template_columns": null,
            "flex": null,
            "_model_name": "LayoutModel",
            "justify_items": null,
            "grid_row": null,
            "max_height": null,
            "align_content": null,
            "visibility": null,
            "align_self": null,
            "height": null,
            "min_height": null,
            "padding": null,
            "grid_auto_rows": null,
            "grid_gap": null,
            "max_width": null,
            "order": null,
            "_view_module_version": "1.2.0",
            "grid_template_areas": null,
            "object_position": null,
            "object_fit": null,
            "grid_auto_columns": null,
            "margin": null,
            "display": null,
            "left": null
          }
        },
        "462bcc3a557a4f658efd293a2ed0a55b": {
          "model_module": "@jupyter-widgets/controls",
          "model_name": "HTMLModel",
          "state": {
            "_view_name": "HTMLView",
            "style": "IPY_MODEL_7df7c62d3b634ff794e404f65bca3a18",
            "_dom_classes": [],
            "description": "",
            "_model_name": "HTMLModel",
            "placeholder": "​",
            "_view_module": "@jupyter-widgets/controls",
            "_model_module_version": "1.5.0",
            "value": "\n            Consider the following sentence:\n            \"a skibidi is caught out of the sea at Christmas\".\n            \n            What is \"skibidi\"?\n            <ol>\n                <li>the Chinese tea used to purify tea glasses for eye makeup and to make it more attractive</li>\n                <li>a small, slender elongated tubular labyrinth, typically having a rounded body and a spiral, twisted, curved part</li>\n                <li>a tall, slender, tapering, broad-shouldered fish of warm seas.</li>\n                <li>the stem of the long rib of a fungus, especially one which reveals the outer edge of the flower and can be found on the stalk of a variety of trees</li>\n            </ol>\n            Choose the correct answer below\n        ",
            "_view_count": null,
            "_view_module_version": "1.5.0",
            "description_tooltip": null,
            "_model_module": "@jupyter-widgets/controls",
            "layout": "IPY_MODEL_285e4ced9517421db61ed3d09da0f40f"
          }
        },
        "8e234f0edd1248a49ca79384a3d4ef57": {
          "model_module": "@jupyter-widgets/base",
          "model_name": "LayoutModel",
          "state": {
            "_view_name": "LayoutView",
            "grid_template_rows": null,
            "right": null,
            "justify_content": null,
            "_view_module": "@jupyter-widgets/base",
            "overflow": null,
            "_model_module_version": "1.2.0",
            "_view_count": null,
            "flex_flow": null,
            "width": null,
            "min_width": null,
            "border": null,
            "align_items": null,
            "bottom": null,
            "_model_module": "@jupyter-widgets/base",
            "top": null,
            "grid_column": null,
            "overflow_y": null,
            "overflow_x": null,
            "grid_auto_flow": null,
            "grid_area": null,
            "grid_template_columns": null,
            "flex": null,
            "_model_name": "LayoutModel",
            "justify_items": null,
            "grid_row": null,
            "max_height": null,
            "align_content": null,
            "visibility": null,
            "align_self": null,
            "height": null,
            "min_height": null,
            "padding": null,
            "grid_auto_rows": null,
            "grid_gap": null,
            "max_width": null,
            "order": null,
            "_view_module_version": "1.2.0",
            "grid_template_areas": null,
            "object_position": null,
            "object_fit": null,
            "grid_auto_columns": null,
            "margin": null,
            "display": null,
            "left": null
          }
        },
        "7df7c62d3b634ff794e404f65bca3a18": {
          "model_module": "@jupyter-widgets/controls",
          "model_name": "DescriptionStyleModel",
          "state": {
            "_view_name": "StyleView",
            "_model_name": "DescriptionStyleModel",
            "description_width": "",
            "_view_module": "@jupyter-widgets/base",
            "_model_module_version": "1.5.0",
            "_view_count": null,
            "_view_module_version": "1.2.0",
            "_model_module": "@jupyter-widgets/controls"
          }
        },
        "285e4ced9517421db61ed3d09da0f40f": {
          "model_module": "@jupyter-widgets/base",
          "model_name": "LayoutModel",
          "state": {
            "_view_name": "LayoutView",
            "grid_template_rows": null,
            "right": null,
            "justify_content": null,
            "_view_module": "@jupyter-widgets/base",
            "overflow": null,
            "_model_module_version": "1.2.0",
            "_view_count": null,
            "flex_flow": null,
            "width": null,
            "min_width": null,
            "border": null,
            "align_items": null,
            "bottom": null,
            "_model_module": "@jupyter-widgets/base",
            "top": null,
            "grid_column": null,
            "overflow_y": null,
            "overflow_x": null,
            "grid_auto_flow": null,
            "grid_area": null,
            "grid_template_columns": null,
            "flex": null,
            "_model_name": "LayoutModel",
            "justify_items": null,
            "grid_row": null,
            "max_height": null,
            "align_content": null,
            "visibility": null,
            "align_self": null,
            "height": null,
            "min_height": null,
            "padding": null,
            "grid_auto_rows": null,
            "grid_gap": null,
            "max_width": null,
            "order": null,
            "_view_module_version": "1.2.0",
            "grid_template_areas": null,
            "object_position": null,
            "object_fit": null,
            "grid_auto_columns": null,
            "margin": null,
            "display": null,
            "left": null
          }
        },
        "fbe23564ee0c4bbfb666c85df6140d22": {
          "model_module": "@jupyter-widgets/controls",
          "model_name": "VBoxModel",
          "state": {
            "_view_name": "VBoxView",
            "_dom_classes": [],
            "_model_name": "VBoxModel",
            "_view_module": "@jupyter-widgets/controls",
            "_model_module_version": "1.5.0",
            "_view_count": null,
            "_view_module_version": "1.5.0",
            "box_style": "",
            "layout": "IPY_MODEL_30d32c92e50f4261b4844037fdfc40b2",
            "_model_module": "@jupyter-widgets/controls",
            "children": [
              "IPY_MODEL_fd349a888f924b7180dd74e810d72c34",
              "IPY_MODEL_232d40d1ad3a41c9a045db62bda64474"
            ]
          }
        },
        "30d32c92e50f4261b4844037fdfc40b2": {
          "model_module": "@jupyter-widgets/base",
          "model_name": "LayoutModel",
          "state": {
            "_view_name": "LayoutView",
            "grid_template_rows": null,
            "right": null,
            "justify_content": null,
            "_view_module": "@jupyter-widgets/base",
            "overflow": null,
            "_model_module_version": "1.2.0",
            "_view_count": null,
            "flex_flow": null,
            "width": null,
            "min_width": null,
            "border": null,
            "align_items": null,
            "bottom": null,
            "_model_module": "@jupyter-widgets/base",
            "top": null,
            "grid_column": null,
            "overflow_y": null,
            "overflow_x": null,
            "grid_auto_flow": null,
            "grid_area": null,
            "grid_template_columns": null,
            "flex": null,
            "_model_name": "LayoutModel",
            "justify_items": null,
            "grid_row": null,
            "max_height": null,
            "align_content": null,
            "visibility": null,
            "align_self": null,
            "height": null,
            "min_height": null,
            "padding": null,
            "grid_auto_rows": null,
            "grid_gap": null,
            "max_width": null,
            "order": null,
            "_view_module_version": "1.2.0",
            "grid_template_areas": null,
            "object_position": null,
            "object_fit": null,
            "grid_auto_columns": null,
            "margin": null,
            "display": null,
            "left": null
          }
        },
        "fd349a888f924b7180dd74e810d72c34": {
          "model_module": "@jupyter-widgets/controls",
          "model_name": "HBoxModel",
          "state": {
            "_view_name": "HBoxView",
            "_dom_classes": [],
            "_model_name": "HBoxModel",
            "_view_module": "@jupyter-widgets/controls",
            "_model_module_version": "1.5.0",
            "_view_count": null,
            "_view_module_version": "1.5.0",
            "box_style": "",
            "layout": "IPY_MODEL_b4c4ed87a71748f6b7d21faa6a5e4241",
            "_model_module": "@jupyter-widgets/controls",
            "children": [
              "IPY_MODEL_18116a1e18bd4049841ec715918bdbd6",
              "IPY_MODEL_04631cfea8144b158a33bd9a8c247ce4"
            ]
          }
        },
        "232d40d1ad3a41c9a045db62bda64474": {
          "model_module": "@jupyter-widgets/output",
          "model_name": "OutputModel",
          "state": {
            "_view_name": "OutputView",
            "msg_id": "",
            "_dom_classes": [],
            "_model_name": "OutputModel",
            "outputs": [
              {
                "output_type": "display_data",
                "metadata": {
                  "tags": []
                },
                "text/html": " <span style='border: 2px solid red;'></span> <span style='border: 2px solid green;'>never</span> <span style='border: 2px solid red;'>gonna give you</span> up never gonna let you down",
                "text/plain": "<IPython.core.display.HTML object>"
              },
              {
                "output_type": "stream",
                "metadata": {
                  "tags": []
                },
                "text": "Training batch: ('never', ['gonna', 'give', 'you'])\n",
                "stream": "stdout"
              }
            ],
            "_view_module": "@jupyter-widgets/output",
            "_model_module_version": "1.0.0",
            "_view_count": null,
            "_view_module_version": "1.0.0",
            "layout": "IPY_MODEL_979f35737c994b3bb34513c5a8c368d0",
            "_model_module": "@jupyter-widgets/output"
          }
        },
        "b4c4ed87a71748f6b7d21faa6a5e4241": {
          "model_module": "@jupyter-widgets/base",
          "model_name": "LayoutModel",
          "state": {
            "_view_name": "LayoutView",
            "grid_template_rows": null,
            "right": null,
            "justify_content": null,
            "_view_module": "@jupyter-widgets/base",
            "overflow": null,
            "_model_module_version": "1.2.0",
            "_view_count": null,
            "flex_flow": null,
            "width": null,
            "min_width": null,
            "border": null,
            "align_items": null,
            "bottom": null,
            "_model_module": "@jupyter-widgets/base",
            "top": null,
            "grid_column": null,
            "overflow_y": null,
            "overflow_x": null,
            "grid_auto_flow": null,
            "grid_area": null,
            "grid_template_columns": null,
            "flex": null,
            "_model_name": "LayoutModel",
            "justify_items": null,
            "grid_row": null,
            "max_height": null,
            "align_content": null,
            "visibility": null,
            "align_self": null,
            "height": null,
            "min_height": null,
            "padding": null,
            "grid_auto_rows": null,
            "grid_gap": null,
            "max_width": null,
            "order": null,
            "_view_module_version": "1.2.0",
            "grid_template_areas": null,
            "object_position": null,
            "object_fit": null,
            "grid_auto_columns": null,
            "margin": null,
            "display": null,
            "left": null
          }
        },
        "18116a1e18bd4049841ec715918bdbd6": {
          "model_module": "@jupyter-widgets/controls",
          "model_name": "ButtonModel",
          "state": {
            "_view_name": "ButtonView",
            "style": "IPY_MODEL_bc4fca3d8df34bb494dec9641e4a435b",
            "_dom_classes": [],
            "description": "<<",
            "_model_name": "ButtonModel",
            "button_style": "",
            "_view_module": "@jupyter-widgets/controls",
            "_model_module_version": "1.5.0",
            "tooltip": "",
            "_view_count": null,
            "disabled": false,
            "_view_module_version": "1.5.0",
            "layout": "IPY_MODEL_43c59f0bbe314ab7ade3f66720bb9152",
            "_model_module": "@jupyter-widgets/controls",
            "icon": ""
          }
        },
        "04631cfea8144b158a33bd9a8c247ce4": {
          "model_module": "@jupyter-widgets/controls",
          "model_name": "ButtonModel",
          "state": {
            "_view_name": "ButtonView",
            "style": "IPY_MODEL_ec9c3c8ff34a4bc6a03df1291052149d",
            "_dom_classes": [],
            "description": ">>",
            "_model_name": "ButtonModel",
            "button_style": "",
            "_view_module": "@jupyter-widgets/controls",
            "_model_module_version": "1.5.0",
            "tooltip": "",
            "_view_count": null,
            "disabled": false,
            "_view_module_version": "1.5.0",
            "layout": "IPY_MODEL_e981bb04abbd46e082eb8a5a03a069db",
            "_model_module": "@jupyter-widgets/controls",
            "icon": ""
          }
        },
        "bc4fca3d8df34bb494dec9641e4a435b": {
          "model_module": "@jupyter-widgets/controls",
          "model_name": "ButtonStyleModel",
          "state": {
            "_view_name": "StyleView",
            "_model_name": "ButtonStyleModel",
            "_view_module": "@jupyter-widgets/base",
            "_model_module_version": "1.5.0",
            "_view_count": null,
            "button_color": null,
            "font_weight": "",
            "_view_module_version": "1.2.0",
            "_model_module": "@jupyter-widgets/controls"
          }
        },
        "43c59f0bbe314ab7ade3f66720bb9152": {
          "model_module": "@jupyter-widgets/base",
          "model_name": "LayoutModel",
          "state": {
            "_view_name": "LayoutView",
            "grid_template_rows": null,
            "right": null,
            "justify_content": null,
            "_view_module": "@jupyter-widgets/base",
            "overflow": null,
            "_model_module_version": "1.2.0",
            "_view_count": null,
            "flex_flow": null,
            "width": null,
            "min_width": null,
            "border": null,
            "align_items": null,
            "bottom": null,
            "_model_module": "@jupyter-widgets/base",
            "top": null,
            "grid_column": null,
            "overflow_y": null,
            "overflow_x": null,
            "grid_auto_flow": null,
            "grid_area": null,
            "grid_template_columns": null,
            "flex": null,
            "_model_name": "LayoutModel",
            "justify_items": null,
            "grid_row": null,
            "max_height": null,
            "align_content": null,
            "visibility": null,
            "align_self": null,
            "height": null,
            "min_height": null,
            "padding": null,
            "grid_auto_rows": null,
            "grid_gap": null,
            "max_width": null,
            "order": null,
            "_view_module_version": "1.2.0",
            "grid_template_areas": null,
            "object_position": null,
            "object_fit": null,
            "grid_auto_columns": null,
            "margin": null,
            "display": null,
            "left": null
          }
        },
        "ec9c3c8ff34a4bc6a03df1291052149d": {
          "model_module": "@jupyter-widgets/controls",
          "model_name": "ButtonStyleModel",
          "state": {
            "_view_name": "StyleView",
            "_model_name": "ButtonStyleModel",
            "_view_module": "@jupyter-widgets/base",
            "_model_module_version": "1.5.0",
            "_view_count": null,
            "button_color": null,
            "font_weight": "",
            "_view_module_version": "1.2.0",
            "_model_module": "@jupyter-widgets/controls"
          }
        },
        "e981bb04abbd46e082eb8a5a03a069db": {
          "model_module": "@jupyter-widgets/base",
          "model_name": "LayoutModel",
          "state": {
            "_view_name": "LayoutView",
            "grid_template_rows": null,
            "right": null,
            "justify_content": null,
            "_view_module": "@jupyter-widgets/base",
            "overflow": null,
            "_model_module_version": "1.2.0",
            "_view_count": null,
            "flex_flow": null,
            "width": null,
            "min_width": null,
            "border": null,
            "align_items": null,
            "bottom": null,
            "_model_module": "@jupyter-widgets/base",
            "top": null,
            "grid_column": null,
            "overflow_y": null,
            "overflow_x": null,
            "grid_auto_flow": null,
            "grid_area": null,
            "grid_template_columns": null,
            "flex": null,
            "_model_name": "LayoutModel",
            "justify_items": null,
            "grid_row": null,
            "max_height": null,
            "align_content": null,
            "visibility": null,
            "align_self": null,
            "height": null,
            "min_height": null,
            "padding": null,
            "grid_auto_rows": null,
            "grid_gap": null,
            "max_width": null,
            "order": null,
            "_view_module_version": "1.2.0",
            "grid_template_areas": null,
            "object_position": null,
            "object_fit": null,
            "grid_auto_columns": null,
            "margin": null,
            "display": null,
            "left": null
          }
        },
        "979f35737c994b3bb34513c5a8c368d0": {
          "model_module": "@jupyter-widgets/base",
          "model_name": "LayoutModel",
          "state": {
            "_view_name": "LayoutView",
            "grid_template_rows": null,
            "right": null,
            "justify_content": null,
            "_view_module": "@jupyter-widgets/base",
            "overflow": null,
            "_model_module_version": "1.2.0",
            "_view_count": null,
            "flex_flow": null,
            "width": null,
            "min_width": null,
            "border": null,
            "align_items": null,
            "bottom": null,
            "_model_module": "@jupyter-widgets/base",
            "top": null,
            "grid_column": null,
            "overflow_y": null,
            "overflow_x": null,
            "grid_auto_flow": null,
            "grid_area": null,
            "grid_template_columns": null,
            "flex": null,
            "_model_name": "LayoutModel",
            "justify_items": null,
            "grid_row": null,
            "max_height": null,
            "align_content": null,
            "visibility": null,
            "align_self": null,
            "height": null,
            "min_height": null,
            "padding": null,
            "grid_auto_rows": null,
            "grid_gap": null,
            "max_width": null,
            "order": null,
            "_view_module_version": "1.2.0",
            "grid_template_areas": null,
            "object_position": null,
            "object_fit": null,
            "grid_auto_columns": null,
            "margin": null,
            "display": null,
            "left": null
          }
        },
        "d4c8c1b0c7004aad819845b5c627fe06": {
          "model_module": "@jupyter-widgets/controls",
          "model_name": "VBoxModel",
          "state": {
            "_view_name": "VBoxView",
            "_dom_classes": [],
            "_model_name": "VBoxModel",
            "_view_module": "@jupyter-widgets/controls",
            "_model_module_version": "1.5.0",
            "_view_count": null,
            "_view_module_version": "1.5.0",
            "box_style": "",
            "layout": "IPY_MODEL_92a11a392b1e4a919940c43829088bd1",
            "_model_module": "@jupyter-widgets/controls",
            "children": [
              "IPY_MODEL_3ac603cc112b40ffb0bf2192a42695f2",
              "IPY_MODEL_a89e29f64bbf4f1dbb79c81a854506e7"
            ]
          }
        },
        "92a11a392b1e4a919940c43829088bd1": {
          "model_module": "@jupyter-widgets/base",
          "model_name": "LayoutModel",
          "state": {
            "_view_name": "LayoutView",
            "grid_template_rows": null,
            "right": null,
            "justify_content": null,
            "_view_module": "@jupyter-widgets/base",
            "overflow": null,
            "_model_module_version": "1.2.0",
            "_view_count": null,
            "flex_flow": null,
            "width": null,
            "min_width": null,
            "border": null,
            "align_items": null,
            "bottom": null,
            "_model_module": "@jupyter-widgets/base",
            "top": null,
            "grid_column": null,
            "overflow_y": null,
            "overflow_x": null,
            "grid_auto_flow": null,
            "grid_area": null,
            "grid_template_columns": null,
            "flex": null,
            "_model_name": "LayoutModel",
            "justify_items": null,
            "grid_row": null,
            "max_height": null,
            "align_content": null,
            "visibility": null,
            "align_self": null,
            "height": null,
            "min_height": null,
            "padding": null,
            "grid_auto_rows": null,
            "grid_gap": null,
            "max_width": null,
            "order": null,
            "_view_module_version": "1.2.0",
            "grid_template_areas": null,
            "object_position": null,
            "object_fit": null,
            "grid_auto_columns": null,
            "margin": null,
            "display": null,
            "left": null
          }
        },
        "3ac603cc112b40ffb0bf2192a42695f2": {
          "model_module": "@jupyter-widgets/controls",
          "model_name": "ButtonModel",
          "state": {
            "_view_name": "ButtonView",
            "style": "IPY_MODEL_18bbfdfec1984be691a28366c570ed17",
            "_dom_classes": [],
            "description": "next step",
            "_model_name": "ButtonModel",
            "button_style": "",
            "_view_module": "@jupyter-widgets/controls",
            "_model_module_version": "1.5.0",
            "tooltip": "",
            "_view_count": null,
            "disabled": false,
            "_view_module_version": "1.5.0",
            "layout": "IPY_MODEL_24e5d7a8471c4a46abfec2461d269c6e",
            "_model_module": "@jupyter-widgets/controls",
            "icon": ""
          }
        },
        "a89e29f64bbf4f1dbb79c81a854506e7": {
          "model_module": "@jupyter-widgets/output",
          "model_name": "OutputModel",
          "state": {
            "_view_name": "OutputView",
            "msg_id": "",
            "_dom_classes": [],
            "_model_name": "OutputModel",
            "outputs": [
              {
                "output_type": "display_data",
                "metadata": {
                  "tags": [],
                  "needs_background": "light"
                },
                "image/png": "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\n",
                "text/plain": "<Figure size 864x432 with 1 Axes>"
              }
            ],
            "_view_module": "@jupyter-widgets/output",
            "_model_module_version": "1.0.0",
            "_view_count": null,
            "_view_module_version": "1.0.0",
            "layout": "IPY_MODEL_623c1b9965c740a08b85d2f8b5155e31",
            "_model_module": "@jupyter-widgets/output"
          }
        },
        "18bbfdfec1984be691a28366c570ed17": {
          "model_module": "@jupyter-widgets/controls",
          "model_name": "ButtonStyleModel",
          "state": {
            "_view_name": "StyleView",
            "_model_name": "ButtonStyleModel",
            "_view_module": "@jupyter-widgets/base",
            "_model_module_version": "1.5.0",
            "_view_count": null,
            "button_color": null,
            "font_weight": "",
            "_view_module_version": "1.2.0",
            "_model_module": "@jupyter-widgets/controls"
          }
        },
        "24e5d7a8471c4a46abfec2461d269c6e": {
          "model_module": "@jupyter-widgets/base",
          "model_name": "LayoutModel",
          "state": {
            "_view_name": "LayoutView",
            "grid_template_rows": null,
            "right": null,
            "justify_content": null,
            "_view_module": "@jupyter-widgets/base",
            "overflow": null,
            "_model_module_version": "1.2.0",
            "_view_count": null,
            "flex_flow": null,
            "width": null,
            "min_width": null,
            "border": null,
            "align_items": null,
            "bottom": null,
            "_model_module": "@jupyter-widgets/base",
            "top": null,
            "grid_column": null,
            "overflow_y": null,
            "overflow_x": null,
            "grid_auto_flow": null,
            "grid_area": null,
            "grid_template_columns": null,
            "flex": null,
            "_model_name": "LayoutModel",
            "justify_items": null,
            "grid_row": null,
            "max_height": null,
            "align_content": null,
            "visibility": null,
            "align_self": null,
            "height": null,
            "min_height": null,
            "padding": null,
            "grid_auto_rows": null,
            "grid_gap": null,
            "max_width": null,
            "order": null,
            "_view_module_version": "1.2.0",
            "grid_template_areas": null,
            "object_position": null,
            "object_fit": null,
            "grid_auto_columns": null,
            "margin": null,
            "display": null,
            "left": null
          }
        },
        "623c1b9965c740a08b85d2f8b5155e31": {
          "model_module": "@jupyter-widgets/base",
          "model_name": "LayoutModel",
          "state": {
            "_view_name": "LayoutView",
            "grid_template_rows": null,
            "right": null,
            "justify_content": null,
            "_view_module": "@jupyter-widgets/base",
            "overflow": null,
            "_model_module_version": "1.2.0",
            "_view_count": null,
            "flex_flow": null,
            "width": null,
            "min_width": null,
            "border": null,
            "align_items": null,
            "bottom": null,
            "_model_module": "@jupyter-widgets/base",
            "top": null,
            "grid_column": null,
            "overflow_y": null,
            "overflow_x": null,
            "grid_auto_flow": null,
            "grid_area": null,
            "grid_template_columns": null,
            "flex": null,
            "_model_name": "LayoutModel",
            "justify_items": null,
            "grid_row": null,
            "max_height": null,
            "align_content": null,
            "visibility": null,
            "align_self": null,
            "height": null,
            "min_height": null,
            "padding": null,
            "grid_auto_rows": null,
            "grid_gap": null,
            "max_width": null,
            "order": null,
            "_view_module_version": "1.2.0",
            "grid_template_areas": null,
            "object_position": null,
            "object_fit": null,
            "grid_auto_columns": null,
            "margin": null,
            "display": null,
            "left": null
          }
        },
        "7c5d0d3fb3d949eaba8d3049d89e26ad": {
          "model_module": "@jupyter-widgets/controls",
          "model_name": "VBoxModel",
          "state": {
            "_view_name": "VBoxView",
            "_dom_classes": [],
            "_model_name": "VBoxModel",
            "_view_module": "@jupyter-widgets/controls",
            "_model_module_version": "1.5.0",
            "_view_count": null,
            "_view_module_version": "1.5.0",
            "box_style": "",
            "layout": "IPY_MODEL_74e8e4a56a2749a5a54c4aff545e67fb",
            "_model_module": "@jupyter-widgets/controls",
            "children": [
              "IPY_MODEL_5572e02e18fc4013b87ca3fc1457da60",
              "IPY_MODEL_9ba2365ffbe9489fa08248f5b918b81c",
              "IPY_MODEL_b4a5e62522c04b4aa34b462f71e5d23e",
              "IPY_MODEL_01a5c0e0d9cc469898fc87512521f78f"
            ]
          }
        },
        "74e8e4a56a2749a5a54c4aff545e67fb": {
          "model_module": "@jupyter-widgets/base",
          "model_name": "LayoutModel",
          "state": {
            "_view_name": "LayoutView",
            "grid_template_rows": null,
            "right": null,
            "justify_content": null,
            "_view_module": "@jupyter-widgets/base",
            "overflow": null,
            "_model_module_version": "1.2.0",
            "_view_count": null,
            "flex_flow": null,
            "width": null,
            "min_width": null,
            "border": null,
            "align_items": null,
            "bottom": null,
            "_model_module": "@jupyter-widgets/base",
            "top": null,
            "grid_column": null,
            "overflow_y": null,
            "overflow_x": null,
            "grid_auto_flow": null,
            "grid_area": null,
            "grid_template_columns": null,
            "flex": null,
            "_model_name": "LayoutModel",
            "justify_items": null,
            "grid_row": null,
            "max_height": null,
            "align_content": null,
            "visibility": null,
            "align_self": null,
            "height": null,
            "min_height": null,
            "padding": null,
            "grid_auto_rows": null,
            "grid_gap": null,
            "max_width": null,
            "order": null,
            "_view_module_version": "1.2.0",
            "grid_template_areas": null,
            "object_position": null,
            "object_fit": null,
            "grid_auto_columns": null,
            "margin": null,
            "display": null,
            "left": null
          }
        },
        "5572e02e18fc4013b87ca3fc1457da60": {
          "model_module": "@jupyter-widgets/output",
          "model_name": "OutputModel",
          "state": {
            "_view_name": "OutputView",
            "msg_id": "",
            "_dom_classes": [],
            "_model_name": "OutputModel",
            "outputs": [
              {
                "output_type": "display_data",
                "metadata": {
                  "tags": []
                },
                "application/vnd.jupyter.widget-view+json": {
                  "model_id": "9e8f37c3a46f44ca8acea2e35cb7a38b",
                  "version_minor": 0,
                  "version_major": 2
                },
                "text/plain": "HTML(value='\\n            Choose the correct context for the word \"quick\" in the following sentence:\\n        …"
              }
            ],
            "_view_module": "@jupyter-widgets/output",
            "_model_module_version": "1.0.0",
            "_view_count": null,
            "_view_module_version": "1.0.0",
            "layout": "IPY_MODEL_899c9f994ca04be2bd6174876a28c861",
            "_model_module": "@jupyter-widgets/output"
          }
        },
        "9ba2365ffbe9489fa08248f5b918b81c": {
          "model_module": "@jupyter-widgets/controls",
          "model_name": "RadioButtonsModel",
          "state": {
            "_options_labels": [
              "(the, brown)",
              "(the, quick, brown, fox)",
              "(the, brown, fox)",
              "Cannot compute the context."
            ],
            "_view_name": "RadioButtonsView",
            "style": "IPY_MODEL_44d1c0d1af794888b9d1d25a693a42d8",
            "_dom_classes": [],
            "description": "",
            "_model_name": "RadioButtonsModel",
            "index": 2,
            "_view_module": "@jupyter-widgets/controls",
            "_model_module_version": "1.5.0",
            "_view_count": null,
            "disabled": false,
            "_view_module_version": "1.5.0",
            "description_tooltip": null,
            "_model_module": "@jupyter-widgets/controls",
            "layout": "IPY_MODEL_523e87cd7f884036a96407c9d43ffcda"
          }
        },
        "b4a5e62522c04b4aa34b462f71e5d23e": {
          "model_module": "@jupyter-widgets/controls",
          "model_name": "HTMLModel",
          "state": {
            "_view_name": "HTMLView",
            "style": "IPY_MODEL_8c340f3109e544c2a74e72113d6d828f",
            "_dom_classes": [],
            "description": "",
            "_model_name": "HTMLModel",
            "placeholder": "​",
            "_view_module": "@jupyter-widgets/controls",
            "_model_module_version": "1.5.0",
            "value": "<font color='green'>'(the, brown, fox)' is the correct answer</font>",
            "_view_count": null,
            "_view_module_version": "1.5.0",
            "description_tooltip": null,
            "_model_module": "@jupyter-widgets/controls",
            "layout": "IPY_MODEL_027f7221df3e4f30ae553f2a38c88754"
          }
        },
        "01a5c0e0d9cc469898fc87512521f78f": {
          "model_module": "@jupyter-widgets/controls",
          "model_name": "ButtonModel",
          "state": {
            "_view_name": "ButtonView",
            "style": "IPY_MODEL_75a608c96e1d4bdaad13efbdcce37278",
            "_dom_classes": [],
            "description": "Check",
            "_model_name": "ButtonModel",
            "button_style": "",
            "_view_module": "@jupyter-widgets/controls",
            "_model_module_version": "1.5.0",
            "tooltip": "",
            "_view_count": null,
            "disabled": false,
            "_view_module_version": "1.5.0",
            "layout": "IPY_MODEL_8e948d3f3e2b41b487eaa6403fd96853",
            "_model_module": "@jupyter-widgets/controls",
            "icon": ""
          }
        },
        "44d1c0d1af794888b9d1d25a693a42d8": {
          "model_module": "@jupyter-widgets/controls",
          "model_name": "DescriptionStyleModel",
          "state": {
            "_view_name": "StyleView",
            "_model_name": "DescriptionStyleModel",
            "description_width": "",
            "_view_module": "@jupyter-widgets/base",
            "_model_module_version": "1.5.0",
            "_view_count": null,
            "_view_module_version": "1.2.0",
            "_model_module": "@jupyter-widgets/controls"
          }
        },
        "523e87cd7f884036a96407c9d43ffcda": {
          "model_module": "@jupyter-widgets/base",
          "model_name": "LayoutModel",
          "state": {
            "_view_name": "LayoutView",
            "grid_template_rows": null,
            "right": null,
            "justify_content": null,
            "_view_module": "@jupyter-widgets/base",
            "overflow": null,
            "_model_module_version": "1.2.0",
            "_view_count": null,
            "flex_flow": null,
            "width": null,
            "min_width": null,
            "border": null,
            "align_items": null,
            "bottom": null,
            "_model_module": "@jupyter-widgets/base",
            "top": null,
            "grid_column": null,
            "overflow_y": null,
            "overflow_x": null,
            "grid_auto_flow": null,
            "grid_area": null,
            "grid_template_columns": null,
            "flex": null,
            "_model_name": "LayoutModel",
            "justify_items": null,
            "grid_row": null,
            "max_height": null,
            "align_content": null,
            "visibility": null,
            "align_self": null,
            "height": null,
            "min_height": null,
            "padding": null,
            "grid_auto_rows": null,
            "grid_gap": null,
            "max_width": null,
            "order": null,
            "_view_module_version": "1.2.0",
            "grid_template_areas": null,
            "object_position": null,
            "object_fit": null,
            "grid_auto_columns": null,
            "margin": null,
            "display": null,
            "left": null
          }
        },
        "8c340f3109e544c2a74e72113d6d828f": {
          "model_module": "@jupyter-widgets/controls",
          "model_name": "DescriptionStyleModel",
          "state": {
            "_view_name": "StyleView",
            "_model_name": "DescriptionStyleModel",
            "description_width": "",
            "_view_module": "@jupyter-widgets/base",
            "_model_module_version": "1.5.0",
            "_view_count": null,
            "_view_module_version": "1.2.0",
            "_model_module": "@jupyter-widgets/controls"
          }
        },
        "027f7221df3e4f30ae553f2a38c88754": {
          "model_module": "@jupyter-widgets/base",
          "model_name": "LayoutModel",
          "state": {
            "_view_name": "LayoutView",
            "grid_template_rows": null,
            "right": null,
            "justify_content": null,
            "_view_module": "@jupyter-widgets/base",
            "overflow": null,
            "_model_module_version": "1.2.0",
            "_view_count": null,
            "flex_flow": null,
            "width": null,
            "min_width": null,
            "border": null,
            "align_items": null,
            "bottom": null,
            "_model_module": "@jupyter-widgets/base",
            "top": null,
            "grid_column": null,
            "overflow_y": null,
            "overflow_x": null,
            "grid_auto_flow": null,
            "grid_area": null,
            "grid_template_columns": null,
            "flex": null,
            "_model_name": "LayoutModel",
            "justify_items": null,
            "grid_row": null,
            "max_height": null,
            "align_content": null,
            "visibility": null,
            "align_self": null,
            "height": null,
            "min_height": null,
            "padding": null,
            "grid_auto_rows": null,
            "grid_gap": null,
            "max_width": null,
            "order": null,
            "_view_module_version": "1.2.0",
            "grid_template_areas": null,
            "object_position": null,
            "object_fit": null,
            "grid_auto_columns": null,
            "margin": null,
            "display": null,
            "left": null
          }
        },
        "75a608c96e1d4bdaad13efbdcce37278": {
          "model_module": "@jupyter-widgets/controls",
          "model_name": "ButtonStyleModel",
          "state": {
            "_view_name": "StyleView",
            "_model_name": "ButtonStyleModel",
            "_view_module": "@jupyter-widgets/base",
            "_model_module_version": "1.5.0",
            "_view_count": null,
            "button_color": null,
            "font_weight": "",
            "_view_module_version": "1.2.0",
            "_model_module": "@jupyter-widgets/controls"
          }
        },
        "8e948d3f3e2b41b487eaa6403fd96853": {
          "model_module": "@jupyter-widgets/base",
          "model_name": "LayoutModel",
          "state": {
            "_view_name": "LayoutView",
            "grid_template_rows": null,
            "right": null,
            "justify_content": null,
            "_view_module": "@jupyter-widgets/base",
            "overflow": null,
            "_model_module_version": "1.2.0",
            "_view_count": null,
            "flex_flow": null,
            "width": null,
            "min_width": null,
            "border": null,
            "align_items": null,
            "bottom": null,
            "_model_module": "@jupyter-widgets/base",
            "top": null,
            "grid_column": null,
            "overflow_y": null,
            "overflow_x": null,
            "grid_auto_flow": null,
            "grid_area": null,
            "grid_template_columns": null,
            "flex": null,
            "_model_name": "LayoutModel",
            "justify_items": null,
            "grid_row": null,
            "max_height": null,
            "align_content": null,
            "visibility": null,
            "align_self": null,
            "height": null,
            "min_height": null,
            "padding": null,
            "grid_auto_rows": null,
            "grid_gap": null,
            "max_width": null,
            "order": null,
            "_view_module_version": "1.2.0",
            "grid_template_areas": null,
            "object_position": null,
            "object_fit": null,
            "grid_auto_columns": null,
            "margin": null,
            "display": null,
            "left": null
          }
        },
        "9e8f37c3a46f44ca8acea2e35cb7a38b": {
          "model_module": "@jupyter-widgets/controls",
          "model_name": "HTMLModel",
          "state": {
            "_view_name": "HTMLView",
            "style": "IPY_MODEL_430b811f0fa94bff95c7cfe7378afe85",
            "_dom_classes": [],
            "description": "",
            "_model_name": "HTMLModel",
            "placeholder": "​",
            "_view_module": "@jupyter-widgets/controls",
            "_model_module_version": "1.5.0",
            "value": "\n            Choose the correct context for the word \"quick\" in the following sentence:\n            <br>\n            <it>the quick brown fox jumps over the lazy dog</it>\n            <br>\n            Window size is 2.\n        ",
            "_view_count": null,
            "_view_module_version": "1.5.0",
            "description_tooltip": null,
            "_model_module": "@jupyter-widgets/controls",
            "layout": "IPY_MODEL_81f4d6879e1141aaaa95ee8793142439"
          }
        },
        "899c9f994ca04be2bd6174876a28c861": {
          "model_module": "@jupyter-widgets/base",
          "model_name": "LayoutModel",
          "state": {
            "_view_name": "LayoutView",
            "grid_template_rows": null,
            "right": null,
            "justify_content": null,
            "_view_module": "@jupyter-widgets/base",
            "overflow": null,
            "_model_module_version": "1.2.0",
            "_view_count": null,
            "flex_flow": null,
            "width": null,
            "min_width": null,
            "border": null,
            "align_items": null,
            "bottom": null,
            "_model_module": "@jupyter-widgets/base",
            "top": null,
            "grid_column": null,
            "overflow_y": null,
            "overflow_x": null,
            "grid_auto_flow": null,
            "grid_area": null,
            "grid_template_columns": null,
            "flex": null,
            "_model_name": "LayoutModel",
            "justify_items": null,
            "grid_row": null,
            "max_height": null,
            "align_content": null,
            "visibility": null,
            "align_self": null,
            "height": null,
            "min_height": null,
            "padding": null,
            "grid_auto_rows": null,
            "grid_gap": null,
            "max_width": null,
            "order": null,
            "_view_module_version": "1.2.0",
            "grid_template_areas": null,
            "object_position": null,
            "object_fit": null,
            "grid_auto_columns": null,
            "margin": null,
            "display": null,
            "left": null
          }
        },
        "430b811f0fa94bff95c7cfe7378afe85": {
          "model_module": "@jupyter-widgets/controls",
          "model_name": "DescriptionStyleModel",
          "state": {
            "_view_name": "StyleView",
            "_model_name": "DescriptionStyleModel",
            "description_width": "",
            "_view_module": "@jupyter-widgets/base",
            "_model_module_version": "1.5.0",
            "_view_count": null,
            "_view_module_version": "1.2.0",
            "_model_module": "@jupyter-widgets/controls"
          }
        },
        "81f4d6879e1141aaaa95ee8793142439": {
          "model_module": "@jupyter-widgets/base",
          "model_name": "LayoutModel",
          "state": {
            "_view_name": "LayoutView",
            "grid_template_rows": null,
            "right": null,
            "justify_content": null,
            "_view_module": "@jupyter-widgets/base",
            "overflow": null,
            "_model_module_version": "1.2.0",
            "_view_count": null,
            "flex_flow": null,
            "width": null,
            "min_width": null,
            "border": null,
            "align_items": null,
            "bottom": null,
            "_model_module": "@jupyter-widgets/base",
            "top": null,
            "grid_column": null,
            "overflow_y": null,
            "overflow_x": null,
            "grid_auto_flow": null,
            "grid_area": null,
            "grid_template_columns": null,
            "flex": null,
            "_model_name": "LayoutModel",
            "justify_items": null,
            "grid_row": null,
            "max_height": null,
            "align_content": null,
            "visibility": null,
            "align_self": null,
            "height": null,
            "min_height": null,
            "padding": null,
            "grid_auto_rows": null,
            "grid_gap": null,
            "max_width": null,
            "order": null,
            "_view_module_version": "1.2.0",
            "grid_template_areas": null,
            "object_position": null,
            "object_fit": null,
            "grid_auto_columns": null,
            "margin": null,
            "display": null,
            "left": null
          }
        },
        "d83e74e2f369486d88fc2736cd353f8a": {
          "model_module": "@jupyter-widgets/controls",
          "model_name": "VBoxModel",
          "state": {
            "_view_name": "VBoxView",
            "_dom_classes": [],
            "_model_name": "VBoxModel",
            "_view_module": "@jupyter-widgets/controls",
            "_model_module_version": "1.5.0",
            "_view_count": null,
            "_view_module_version": "1.5.0",
            "box_style": "",
            "layout": "IPY_MODEL_23ab48d74e604529a98949c9d2d8d457",
            "_model_module": "@jupyter-widgets/controls",
            "children": [
              "IPY_MODEL_c56eb76758b94b298a29b60ea3f44eb1",
              "IPY_MODEL_75aa6499f18d43e3bec37f48fa674d6d",
              "IPY_MODEL_7aa532f1f030417dbadf2e5677c74e06",
              "IPY_MODEL_3cc4c30bd0704b658cd41a0bbcf8d7dd"
            ]
          }
        },
        "23ab48d74e604529a98949c9d2d8d457": {
          "model_module": "@jupyter-widgets/base",
          "model_name": "LayoutModel",
          "state": {
            "_view_name": "LayoutView",
            "grid_template_rows": null,
            "right": null,
            "justify_content": null,
            "_view_module": "@jupyter-widgets/base",
            "overflow": null,
            "_model_module_version": "1.2.0",
            "_view_count": null,
            "flex_flow": null,
            "width": null,
            "min_width": null,
            "border": null,
            "align_items": null,
            "bottom": null,
            "_model_module": "@jupyter-widgets/base",
            "top": null,
            "grid_column": null,
            "overflow_y": null,
            "overflow_x": null,
            "grid_auto_flow": null,
            "grid_area": null,
            "grid_template_columns": null,
            "flex": null,
            "_model_name": "LayoutModel",
            "justify_items": null,
            "grid_row": null,
            "max_height": null,
            "align_content": null,
            "visibility": null,
            "align_self": null,
            "height": null,
            "min_height": null,
            "padding": null,
            "grid_auto_rows": null,
            "grid_gap": null,
            "max_width": null,
            "order": null,
            "_view_module_version": "1.2.0",
            "grid_template_areas": null,
            "object_position": null,
            "object_fit": null,
            "grid_auto_columns": null,
            "margin": null,
            "display": null,
            "left": null
          }
        },
        "c56eb76758b94b298a29b60ea3f44eb1": {
          "model_module": "@jupyter-widgets/output",
          "model_name": "OutputModel",
          "state": {
            "_view_name": "OutputView",
            "msg_id": "",
            "_dom_classes": [],
            "_model_name": "OutputModel",
            "outputs": [
              {
                "output_type": "display_data",
                "metadata": {
                  "tags": []
                },
                "application/vnd.jupyter.widget-view+json": {
                  "model_id": "e50cb1d325d340508127bdf83b81c503",
                  "version_minor": 0,
                  "version_major": 2
                },
                "text/plain": "HTML(value='\\n            word2vec algorithm learns two matrices: the matrix of central vectors and the matrix…"
              }
            ],
            "_view_module": "@jupyter-widgets/output",
            "_model_module_version": "1.0.0",
            "_view_count": null,
            "_view_module_version": "1.0.0",
            "layout": "IPY_MODEL_63a2a15f1b2343d295811ec930632a87",
            "_model_module": "@jupyter-widgets/output"
          }
        },
        "75aa6499f18d43e3bec37f48fa674d6d": {
          "model_module": "@jupyter-widgets/controls",
          "model_name": "RadioButtonsModel",
          "state": {
            "_options_labels": [
              "Taken from the matrix of context vectors",
              "Taken from the matrix of central vectors",
              "It is the average of central and context vectors",
              "None of the above"
            ],
            "_view_name": "RadioButtonsView",
            "style": "IPY_MODEL_021d773e84a34ee7bcdde38b2846da70",
            "_dom_classes": [],
            "description": "",
            "_model_name": "RadioButtonsModel",
            "index": 1,
            "_view_module": "@jupyter-widgets/controls",
            "_model_module_version": "1.5.0",
            "_view_count": null,
            "disabled": false,
            "_view_module_version": "1.5.0",
            "description_tooltip": null,
            "_model_module": "@jupyter-widgets/controls",
            "layout": "IPY_MODEL_2c6fc8810d9c483ab56ae9d13247f3ac"
          }
        },
        "7aa532f1f030417dbadf2e5677c74e06": {
          "model_module": "@jupyter-widgets/controls",
          "model_name": "HTMLModel",
          "state": {
            "_view_name": "HTMLView",
            "style": "IPY_MODEL_e0366192342d41e6a9d6080eaff99a13",
            "_dom_classes": [],
            "description": "",
            "_model_name": "HTMLModel",
            "placeholder": "​",
            "_view_module": "@jupyter-widgets/controls",
            "_model_module_version": "1.5.0",
            "value": "<font color='green'>'Taken from the matrix of central vectors' is the correct answer</font>",
            "_view_count": null,
            "_view_module_version": "1.5.0",
            "description_tooltip": null,
            "_model_module": "@jupyter-widgets/controls",
            "layout": "IPY_MODEL_0f92def17fd64bb6a6d60e59cef45dfa"
          }
        },
        "3cc4c30bd0704b658cd41a0bbcf8d7dd": {
          "model_module": "@jupyter-widgets/controls",
          "model_name": "ButtonModel",
          "state": {
            "_view_name": "ButtonView",
            "style": "IPY_MODEL_e06c50f239c84d999f618d780aa23a04",
            "_dom_classes": [],
            "description": "Check",
            "_model_name": "ButtonModel",
            "button_style": "",
            "_view_module": "@jupyter-widgets/controls",
            "_model_module_version": "1.5.0",
            "tooltip": "",
            "_view_count": null,
            "disabled": false,
            "_view_module_version": "1.5.0",
            "layout": "IPY_MODEL_fe8e767b2c7f43beadee89d5be8bbf2f",
            "_model_module": "@jupyter-widgets/controls",
            "icon": ""
          }
        },
        "021d773e84a34ee7bcdde38b2846da70": {
          "model_module": "@jupyter-widgets/controls",
          "model_name": "DescriptionStyleModel",
          "state": {
            "_view_name": "StyleView",
            "_model_name": "DescriptionStyleModel",
            "description_width": "",
            "_view_module": "@jupyter-widgets/base",
            "_model_module_version": "1.5.0",
            "_view_count": null,
            "_view_module_version": "1.2.0",
            "_model_module": "@jupyter-widgets/controls"
          }
        },
        "2c6fc8810d9c483ab56ae9d13247f3ac": {
          "model_module": "@jupyter-widgets/base",
          "model_name": "LayoutModel",
          "state": {
            "_view_name": "LayoutView",
            "grid_template_rows": null,
            "right": null,
            "justify_content": null,
            "_view_module": "@jupyter-widgets/base",
            "overflow": null,
            "_model_module_version": "1.2.0",
            "_view_count": null,
            "flex_flow": null,
            "width": null,
            "min_width": null,
            "border": null,
            "align_items": null,
            "bottom": null,
            "_model_module": "@jupyter-widgets/base",
            "top": null,
            "grid_column": null,
            "overflow_y": null,
            "overflow_x": null,
            "grid_auto_flow": null,
            "grid_area": null,
            "grid_template_columns": null,
            "flex": null,
            "_model_name": "LayoutModel",
            "justify_items": null,
            "grid_row": null,
            "max_height": null,
            "align_content": null,
            "visibility": null,
            "align_self": null,
            "height": null,
            "min_height": null,
            "padding": null,
            "grid_auto_rows": null,
            "grid_gap": null,
            "max_width": null,
            "order": null,
            "_view_module_version": "1.2.0",
            "grid_template_areas": null,
            "object_position": null,
            "object_fit": null,
            "grid_auto_columns": null,
            "margin": null,
            "display": null,
            "left": null
          }
        },
        "e0366192342d41e6a9d6080eaff99a13": {
          "model_module": "@jupyter-widgets/controls",
          "model_name": "DescriptionStyleModel",
          "state": {
            "_view_name": "StyleView",
            "_model_name": "DescriptionStyleModel",
            "description_width": "",
            "_view_module": "@jupyter-widgets/base",
            "_model_module_version": "1.5.0",
            "_view_count": null,
            "_view_module_version": "1.2.0",
            "_model_module": "@jupyter-widgets/controls"
          }
        },
        "0f92def17fd64bb6a6d60e59cef45dfa": {
          "model_module": "@jupyter-widgets/base",
          "model_name": "LayoutModel",
          "state": {
            "_view_name": "LayoutView",
            "grid_template_rows": null,
            "right": null,
            "justify_content": null,
            "_view_module": "@jupyter-widgets/base",
            "overflow": null,
            "_model_module_version": "1.2.0",
            "_view_count": null,
            "flex_flow": null,
            "width": null,
            "min_width": null,
            "border": null,
            "align_items": null,
            "bottom": null,
            "_model_module": "@jupyter-widgets/base",
            "top": null,
            "grid_column": null,
            "overflow_y": null,
            "overflow_x": null,
            "grid_auto_flow": null,
            "grid_area": null,
            "grid_template_columns": null,
            "flex": null,
            "_model_name": "LayoutModel",
            "justify_items": null,
            "grid_row": null,
            "max_height": null,
            "align_content": null,
            "visibility": null,
            "align_self": null,
            "height": null,
            "min_height": null,
            "padding": null,
            "grid_auto_rows": null,
            "grid_gap": null,
            "max_width": null,
            "order": null,
            "_view_module_version": "1.2.0",
            "grid_template_areas": null,
            "object_position": null,
            "object_fit": null,
            "grid_auto_columns": null,
            "margin": null,
            "display": null,
            "left": null
          }
        },
        "e06c50f239c84d999f618d780aa23a04": {
          "model_module": "@jupyter-widgets/controls",
          "model_name": "ButtonStyleModel",
          "state": {
            "_view_name": "StyleView",
            "_model_name": "ButtonStyleModel",
            "_view_module": "@jupyter-widgets/base",
            "_model_module_version": "1.5.0",
            "_view_count": null,
            "button_color": null,
            "font_weight": "",
            "_view_module_version": "1.2.0",
            "_model_module": "@jupyter-widgets/controls"
          }
        },
        "fe8e767b2c7f43beadee89d5be8bbf2f": {
          "model_module": "@jupyter-widgets/base",
          "model_name": "LayoutModel",
          "state": {
            "_view_name": "LayoutView",
            "grid_template_rows": null,
            "right": null,
            "justify_content": null,
            "_view_module": "@jupyter-widgets/base",
            "overflow": null,
            "_model_module_version": "1.2.0",
            "_view_count": null,
            "flex_flow": null,
            "width": null,
            "min_width": null,
            "border": null,
            "align_items": null,
            "bottom": null,
            "_model_module": "@jupyter-widgets/base",
            "top": null,
            "grid_column": null,
            "overflow_y": null,
            "overflow_x": null,
            "grid_auto_flow": null,
            "grid_area": null,
            "grid_template_columns": null,
            "flex": null,
            "_model_name": "LayoutModel",
            "justify_items": null,
            "grid_row": null,
            "max_height": null,
            "align_content": null,
            "visibility": null,
            "align_self": null,
            "height": null,
            "min_height": null,
            "padding": null,
            "grid_auto_rows": null,
            "grid_gap": null,
            "max_width": null,
            "order": null,
            "_view_module_version": "1.2.0",
            "grid_template_areas": null,
            "object_position": null,
            "object_fit": null,
            "grid_auto_columns": null,
            "margin": null,
            "display": null,
            "left": null
          }
        },
        "e50cb1d325d340508127bdf83b81c503": {
          "model_module": "@jupyter-widgets/controls",
          "model_name": "HTMLModel",
          "state": {
            "_view_name": "HTMLView",
            "style": "IPY_MODEL_d1ad279c5ad74651a46d74999422343a",
            "_dom_classes": [],
            "description": "",
            "_model_name": "HTMLModel",
            "placeholder": "​",
            "_view_module": "@jupyter-widgets/controls",
            "_model_module_version": "1.5.0",
            "value": "\n            word2vec algorithm learns two matrices: the matrix of central vectors and the matrix of context vectors.\n            In the implementation above, how is the word vector computed for a given word?\n        ",
            "_view_count": null,
            "_view_module_version": "1.5.0",
            "description_tooltip": null,
            "_model_module": "@jupyter-widgets/controls",
            "layout": "IPY_MODEL_e204a0bfee2f43deaf5de7f3a3aa2d7c"
          }
        },
        "63a2a15f1b2343d295811ec930632a87": {
          "model_module": "@jupyter-widgets/base",
          "model_name": "LayoutModel",
          "state": {
            "_view_name": "LayoutView",
            "grid_template_rows": null,
            "right": null,
            "justify_content": null,
            "_view_module": "@jupyter-widgets/base",
            "overflow": null,
            "_model_module_version": "1.2.0",
            "_view_count": null,
            "flex_flow": null,
            "width": null,
            "min_width": null,
            "border": null,
            "align_items": null,
            "bottom": null,
            "_model_module": "@jupyter-widgets/base",
            "top": null,
            "grid_column": null,
            "overflow_y": null,
            "overflow_x": null,
            "grid_auto_flow": null,
            "grid_area": null,
            "grid_template_columns": null,
            "flex": null,
            "_model_name": "LayoutModel",
            "justify_items": null,
            "grid_row": null,
            "max_height": null,
            "align_content": null,
            "visibility": null,
            "align_self": null,
            "height": null,
            "min_height": null,
            "padding": null,
            "grid_auto_rows": null,
            "grid_gap": null,
            "max_width": null,
            "order": null,
            "_view_module_version": "1.2.0",
            "grid_template_areas": null,
            "object_position": null,
            "object_fit": null,
            "grid_auto_columns": null,
            "margin": null,
            "display": null,
            "left": null
          }
        },
        "d1ad279c5ad74651a46d74999422343a": {
          "model_module": "@jupyter-widgets/controls",
          "model_name": "DescriptionStyleModel",
          "state": {
            "_view_name": "StyleView",
            "_model_name": "DescriptionStyleModel",
            "description_width": "",
            "_view_module": "@jupyter-widgets/base",
            "_model_module_version": "1.5.0",
            "_view_count": null,
            "_view_module_version": "1.2.0",
            "_model_module": "@jupyter-widgets/controls"
          }
        },
        "e204a0bfee2f43deaf5de7f3a3aa2d7c": {
          "model_module": "@jupyter-widgets/base",
          "model_name": "LayoutModel",
          "state": {
            "_view_name": "LayoutView",
            "grid_template_rows": null,
            "right": null,
            "justify_content": null,
            "_view_module": "@jupyter-widgets/base",
            "overflow": null,
            "_model_module_version": "1.2.0",
            "_view_count": null,
            "flex_flow": null,
            "width": null,
            "min_width": null,
            "border": null,
            "align_items": null,
            "bottom": null,
            "_model_module": "@jupyter-widgets/base",
            "top": null,
            "grid_column": null,
            "overflow_y": null,
            "overflow_x": null,
            "grid_auto_flow": null,
            "grid_area": null,
            "grid_template_columns": null,
            "flex": null,
            "_model_name": "LayoutModel",
            "justify_items": null,
            "grid_row": null,
            "max_height": null,
            "align_content": null,
            "visibility": null,
            "align_self": null,
            "height": null,
            "min_height": null,
            "padding": null,
            "grid_auto_rows": null,
            "grid_gap": null,
            "max_width": null,
            "order": null,
            "_view_module_version": "1.2.0",
            "grid_template_areas": null,
            "object_position": null,
            "object_fit": null,
            "grid_auto_columns": null,
            "margin": null,
            "display": null,
            "left": null
          }
        },
        "af8047ca28e74207835b2477a31ac732": {
          "model_module": "@jupyter-widgets/controls",
          "model_name": "VBoxModel",
          "state": {
            "_view_name": "VBoxView",
            "_dom_classes": [],
            "_model_name": "VBoxModel",
            "_view_module": "@jupyter-widgets/controls",
            "_model_module_version": "1.5.0",
            "_view_count": null,
            "_view_module_version": "1.5.0",
            "box_style": "",
            "layout": "IPY_MODEL_b12fa676cee44891bdc7d5d5649e8b58",
            "_model_module": "@jupyter-widgets/controls",
            "children": [
              "IPY_MODEL_bd24f1121ba84a4cadb7c8fcd2a0ec09",
              "IPY_MODEL_e980d0c0a6004a79b941fc47cd37759b",
              "IPY_MODEL_4ce2cdef55824e7494e0fd623d187d85",
              "IPY_MODEL_a11be966050b41e5b1c9b4045b3c4e69"
            ]
          }
        },
        "b12fa676cee44891bdc7d5d5649e8b58": {
          "model_module": "@jupyter-widgets/base",
          "model_name": "LayoutModel",
          "state": {
            "_view_name": "LayoutView",
            "grid_template_rows": null,
            "right": null,
            "justify_content": null,
            "_view_module": "@jupyter-widgets/base",
            "overflow": null,
            "_model_module_version": "1.2.0",
            "_view_count": null,
            "flex_flow": null,
            "width": null,
            "min_width": null,
            "border": null,
            "align_items": null,
            "bottom": null,
            "_model_module": "@jupyter-widgets/base",
            "top": null,
            "grid_column": null,
            "overflow_y": null,
            "overflow_x": null,
            "grid_auto_flow": null,
            "grid_area": null,
            "grid_template_columns": null,
            "flex": null,
            "_model_name": "LayoutModel",
            "justify_items": null,
            "grid_row": null,
            "max_height": null,
            "align_content": null,
            "visibility": null,
            "align_self": null,
            "height": null,
            "min_height": null,
            "padding": null,
            "grid_auto_rows": null,
            "grid_gap": null,
            "max_width": null,
            "order": null,
            "_view_module_version": "1.2.0",
            "grid_template_areas": null,
            "object_position": null,
            "object_fit": null,
            "grid_auto_columns": null,
            "margin": null,
            "display": null,
            "left": null
          }
        },
        "bd24f1121ba84a4cadb7c8fcd2a0ec09": {
          "model_module": "@jupyter-widgets/output",
          "model_name": "OutputModel",
          "state": {
            "_view_name": "OutputView",
            "msg_id": "",
            "_dom_classes": [],
            "_model_name": "OutputModel",
            "outputs": [
              {
                "output_type": "display_data",
                "metadata": {
                  "tags": []
                },
                "application/vnd.jupyter.widget-view+json": {
                  "model_id": "fbddf760d63d45eeb441124ed4b448cd",
                  "version_minor": 0,
                  "version_major": 2
                },
                "text/plain": "HTML(value='\\n            In the implementation above, which words are subsampled (i.e. too frequent words are…"
              }
            ],
            "_view_module": "@jupyter-widgets/output",
            "_model_module_version": "1.0.0",
            "_view_count": null,
            "_view_module_version": "1.0.0",
            "layout": "IPY_MODEL_aa5f522124db4d79b369e6780db9b6b6",
            "_model_module": "@jupyter-widgets/output"
          }
        },
        "e980d0c0a6004a79b941fc47cd37759b": {
          "model_module": "@jupyter-widgets/controls",
          "model_name": "RadioButtonsModel",
          "state": {
            "_options_labels": [
              "Central words",
              "Context words",
              "Negative samples",
              "All of them"
            ],
            "_view_name": "RadioButtonsView",
            "style": "IPY_MODEL_797282751d0c41128ca1937058693668",
            "_dom_classes": [],
            "description": "",
            "_model_name": "RadioButtonsModel",
            "index": 0,
            "_view_module": "@jupyter-widgets/controls",
            "_model_module_version": "1.5.0",
            "_view_count": null,
            "disabled": false,
            "_view_module_version": "1.5.0",
            "description_tooltip": null,
            "_model_module": "@jupyter-widgets/controls",
            "layout": "IPY_MODEL_f431b66966ce4c90bddd07301c51ac58"
          }
        },
        "4ce2cdef55824e7494e0fd623d187d85": {
          "model_module": "@jupyter-widgets/controls",
          "model_name": "HTMLModel",
          "state": {
            "_view_name": "HTMLView",
            "style": "IPY_MODEL_f93b6a38f9644c2d883fc71e0807e39b",
            "_dom_classes": [],
            "description": "",
            "_model_name": "HTMLModel",
            "placeholder": "​",
            "_view_module": "@jupyter-widgets/controls",
            "_model_module_version": "1.5.0",
            "value": "<font color='green'>'Central words' is the correct answer</font>",
            "_view_count": null,
            "_view_module_version": "1.5.0",
            "description_tooltip": null,
            "_model_module": "@jupyter-widgets/controls",
            "layout": "IPY_MODEL_18f3c8adbac346088b0b811a3faa1d71"
          }
        },
        "a11be966050b41e5b1c9b4045b3c4e69": {
          "model_module": "@jupyter-widgets/controls",
          "model_name": "ButtonModel",
          "state": {
            "_view_name": "ButtonView",
            "style": "IPY_MODEL_2e0222d1d72d4675a763c0ea0581f70e",
            "_dom_classes": [],
            "description": "Check",
            "_model_name": "ButtonModel",
            "button_style": "",
            "_view_module": "@jupyter-widgets/controls",
            "_model_module_version": "1.5.0",
            "tooltip": "",
            "_view_count": null,
            "disabled": false,
            "_view_module_version": "1.5.0",
            "layout": "IPY_MODEL_9cdb35028038433ea06d4a0d7c9f097c",
            "_model_module": "@jupyter-widgets/controls",
            "icon": ""
          }
        },
        "797282751d0c41128ca1937058693668": {
          "model_module": "@jupyter-widgets/controls",
          "model_name": "DescriptionStyleModel",
          "state": {
            "_view_name": "StyleView",
            "_model_name": "DescriptionStyleModel",
            "description_width": "",
            "_view_module": "@jupyter-widgets/base",
            "_model_module_version": "1.5.0",
            "_view_count": null,
            "_view_module_version": "1.2.0",
            "_model_module": "@jupyter-widgets/controls"
          }
        },
        "f431b66966ce4c90bddd07301c51ac58": {
          "model_module": "@jupyter-widgets/base",
          "model_name": "LayoutModel",
          "state": {
            "_view_name": "LayoutView",
            "grid_template_rows": null,
            "right": null,
            "justify_content": null,
            "_view_module": "@jupyter-widgets/base",
            "overflow": null,
            "_model_module_version": "1.2.0",
            "_view_count": null,
            "flex_flow": null,
            "width": null,
            "min_width": null,
            "border": null,
            "align_items": null,
            "bottom": null,
            "_model_module": "@jupyter-widgets/base",
            "top": null,
            "grid_column": null,
            "overflow_y": null,
            "overflow_x": null,
            "grid_auto_flow": null,
            "grid_area": null,
            "grid_template_columns": null,
            "flex": null,
            "_model_name": "LayoutModel",
            "justify_items": null,
            "grid_row": null,
            "max_height": null,
            "align_content": null,
            "visibility": null,
            "align_self": null,
            "height": null,
            "min_height": null,
            "padding": null,
            "grid_auto_rows": null,
            "grid_gap": null,
            "max_width": null,
            "order": null,
            "_view_module_version": "1.2.0",
            "grid_template_areas": null,
            "object_position": null,
            "object_fit": null,
            "grid_auto_columns": null,
            "margin": null,
            "display": null,
            "left": null
          }
        },
        "f93b6a38f9644c2d883fc71e0807e39b": {
          "model_module": "@jupyter-widgets/controls",
          "model_name": "DescriptionStyleModel",
          "state": {
            "_view_name": "StyleView",
            "_model_name": "DescriptionStyleModel",
            "description_width": "",
            "_view_module": "@jupyter-widgets/base",
            "_model_module_version": "1.5.0",
            "_view_count": null,
            "_view_module_version": "1.2.0",
            "_model_module": "@jupyter-widgets/controls"
          }
        },
        "18f3c8adbac346088b0b811a3faa1d71": {
          "model_module": "@jupyter-widgets/base",
          "model_name": "LayoutModel",
          "state": {
            "_view_name": "LayoutView",
            "grid_template_rows": null,
            "right": null,
            "justify_content": null,
            "_view_module": "@jupyter-widgets/base",
            "overflow": null,
            "_model_module_version": "1.2.0",
            "_view_count": null,
            "flex_flow": null,
            "width": null,
            "min_width": null,
            "border": null,
            "align_items": null,
            "bottom": null,
            "_model_module": "@jupyter-widgets/base",
            "top": null,
            "grid_column": null,
            "overflow_y": null,
            "overflow_x": null,
            "grid_auto_flow": null,
            "grid_area": null,
            "grid_template_columns": null,
            "flex": null,
            "_model_name": "LayoutModel",
            "justify_items": null,
            "grid_row": null,
            "max_height": null,
            "align_content": null,
            "visibility": null,
            "align_self": null,
            "height": null,
            "min_height": null,
            "padding": null,
            "grid_auto_rows": null,
            "grid_gap": null,
            "max_width": null,
            "order": null,
            "_view_module_version": "1.2.0",
            "grid_template_areas": null,
            "object_position": null,
            "object_fit": null,
            "grid_auto_columns": null,
            "margin": null,
            "display": null,
            "left": null
          }
        },
        "2e0222d1d72d4675a763c0ea0581f70e": {
          "model_module": "@jupyter-widgets/controls",
          "model_name": "ButtonStyleModel",
          "state": {
            "_view_name": "StyleView",
            "_model_name": "ButtonStyleModel",
            "_view_module": "@jupyter-widgets/base",
            "_model_module_version": "1.5.0",
            "_view_count": null,
            "button_color": null,
            "font_weight": "",
            "_view_module_version": "1.2.0",
            "_model_module": "@jupyter-widgets/controls"
          }
        },
        "9cdb35028038433ea06d4a0d7c9f097c": {
          "model_module": "@jupyter-widgets/base",
          "model_name": "LayoutModel",
          "state": {
            "_view_name": "LayoutView",
            "grid_template_rows": null,
            "right": null,
            "justify_content": null,
            "_view_module": "@jupyter-widgets/base",
            "overflow": null,
            "_model_module_version": "1.2.0",
            "_view_count": null,
            "flex_flow": null,
            "width": null,
            "min_width": null,
            "border": null,
            "align_items": null,
            "bottom": null,
            "_model_module": "@jupyter-widgets/base",
            "top": null,
            "grid_column": null,
            "overflow_y": null,
            "overflow_x": null,
            "grid_auto_flow": null,
            "grid_area": null,
            "grid_template_columns": null,
            "flex": null,
            "_model_name": "LayoutModel",
            "justify_items": null,
            "grid_row": null,
            "max_height": null,
            "align_content": null,
            "visibility": null,
            "align_self": null,
            "height": null,
            "min_height": null,
            "padding": null,
            "grid_auto_rows": null,
            "grid_gap": null,
            "max_width": null,
            "order": null,
            "_view_module_version": "1.2.0",
            "grid_template_areas": null,
            "object_position": null,
            "object_fit": null,
            "grid_auto_columns": null,
            "margin": null,
            "display": null,
            "left": null
          }
        },
        "fbddf760d63d45eeb441124ed4b448cd": {
          "model_module": "@jupyter-widgets/controls",
          "model_name": "HTMLModel",
          "state": {
            "_view_name": "HTMLView",
            "style": "IPY_MODEL_650232e2644042faa622c682a6b8de38",
            "_dom_classes": [],
            "description": "",
            "_model_name": "HTMLModel",
            "placeholder": "​",
            "_view_module": "@jupyter-widgets/controls",
            "_model_module_version": "1.5.0",
            "value": "\n            In the implementation above, which words are subsampled (i.e. too frequent words are thrown away with some probability)?\n        ",
            "_view_count": null,
            "_view_module_version": "1.5.0",
            "description_tooltip": null,
            "_model_module": "@jupyter-widgets/controls",
            "layout": "IPY_MODEL_356debe03e6b492482cac35f0b006fbf"
          }
        },
        "aa5f522124db4d79b369e6780db9b6b6": {
          "model_module": "@jupyter-widgets/base",
          "model_name": "LayoutModel",
          "state": {
            "_view_name": "LayoutView",
            "grid_template_rows": null,
            "right": null,
            "justify_content": null,
            "_view_module": "@jupyter-widgets/base",
            "overflow": null,
            "_model_module_version": "1.2.0",
            "_view_count": null,
            "flex_flow": null,
            "width": null,
            "min_width": null,
            "border": null,
            "align_items": null,
            "bottom": null,
            "_model_module": "@jupyter-widgets/base",
            "top": null,
            "grid_column": null,
            "overflow_y": null,
            "overflow_x": null,
            "grid_auto_flow": null,
            "grid_area": null,
            "grid_template_columns": null,
            "flex": null,
            "_model_name": "LayoutModel",
            "justify_items": null,
            "grid_row": null,
            "max_height": null,
            "align_content": null,
            "visibility": null,
            "align_self": null,
            "height": null,
            "min_height": null,
            "padding": null,
            "grid_auto_rows": null,
            "grid_gap": null,
            "max_width": null,
            "order": null,
            "_view_module_version": "1.2.0",
            "grid_template_areas": null,
            "object_position": null,
            "object_fit": null,
            "grid_auto_columns": null,
            "margin": null,
            "display": null,
            "left": null
          }
        },
        "650232e2644042faa622c682a6b8de38": {
          "model_module": "@jupyter-widgets/controls",
          "model_name": "DescriptionStyleModel",
          "state": {
            "_view_name": "StyleView",
            "_model_name": "DescriptionStyleModel",
            "description_width": "",
            "_view_module": "@jupyter-widgets/base",
            "_model_module_version": "1.5.0",
            "_view_count": null,
            "_view_module_version": "1.2.0",
            "_model_module": "@jupyter-widgets/controls"
          }
        },
        "356debe03e6b492482cac35f0b006fbf": {
          "model_module": "@jupyter-widgets/base",
          "model_name": "LayoutModel",
          "state": {
            "_view_name": "LayoutView",
            "grid_template_rows": null,
            "right": null,
            "justify_content": null,
            "_view_module": "@jupyter-widgets/base",
            "overflow": null,
            "_model_module_version": "1.2.0",
            "_view_count": null,
            "flex_flow": null,
            "width": null,
            "min_width": null,
            "border": null,
            "align_items": null,
            "bottom": null,
            "_model_module": "@jupyter-widgets/base",
            "top": null,
            "grid_column": null,
            "overflow_y": null,
            "overflow_x": null,
            "grid_auto_flow": null,
            "grid_area": null,
            "grid_template_columns": null,
            "flex": null,
            "_model_name": "LayoutModel",
            "justify_items": null,
            "grid_row": null,
            "max_height": null,
            "align_content": null,
            "visibility": null,
            "align_self": null,
            "height": null,
            "min_height": null,
            "padding": null,
            "grid_auto_rows": null,
            "grid_gap": null,
            "max_width": null,
            "order": null,
            "_view_module_version": "1.2.0",
            "grid_template_areas": null,
            "object_position": null,
            "object_fit": null,
            "grid_auto_columns": null,
            "margin": null,
            "display": null,
            "left": null
          }
        },
        "23ebac17c7c5420781ddd6c8f75d6e96": {
          "model_module": "@jupyter-widgets/controls",
          "model_name": "VBoxModel",
          "state": {
            "_view_name": "VBoxView",
            "_dom_classes": [],
            "_model_name": "VBoxModel",
            "_view_module": "@jupyter-widgets/controls",
            "_model_module_version": "1.5.0",
            "_view_count": null,
            "_view_module_version": "1.5.0",
            "box_style": "",
            "layout": "IPY_MODEL_c6ea6d392aa44e84a507ef8c282dd32b",
            "_model_module": "@jupyter-widgets/controls",
            "children": [
              "IPY_MODEL_a863f60aeee941a48bbd0b43e0f41b94",
              "IPY_MODEL_44305b45bec64f70886748e31698114f",
              "IPY_MODEL_21a5a14c05124209a5cb5a6d6fdec09c",
              "IPY_MODEL_b46893ffc1734492a547d3098addf2a3"
            ]
          }
        },
        "c6ea6d392aa44e84a507ef8c282dd32b": {
          "model_module": "@jupyter-widgets/base",
          "model_name": "LayoutModel",
          "state": {
            "_view_name": "LayoutView",
            "grid_template_rows": null,
            "right": null,
            "justify_content": null,
            "_view_module": "@jupyter-widgets/base",
            "overflow": null,
            "_model_module_version": "1.2.0",
            "_view_count": null,
            "flex_flow": null,
            "width": null,
            "min_width": null,
            "border": null,
            "align_items": null,
            "bottom": null,
            "_model_module": "@jupyter-widgets/base",
            "top": null,
            "grid_column": null,
            "overflow_y": null,
            "overflow_x": null,
            "grid_auto_flow": null,
            "grid_area": null,
            "grid_template_columns": null,
            "flex": null,
            "_model_name": "LayoutModel",
            "justify_items": null,
            "grid_row": null,
            "max_height": null,
            "align_content": null,
            "visibility": null,
            "align_self": null,
            "height": null,
            "min_height": null,
            "padding": null,
            "grid_auto_rows": null,
            "grid_gap": null,
            "max_width": null,
            "order": null,
            "_view_module_version": "1.2.0",
            "grid_template_areas": null,
            "object_position": null,
            "object_fit": null,
            "grid_auto_columns": null,
            "margin": null,
            "display": null,
            "left": null
          }
        },
        "a863f60aeee941a48bbd0b43e0f41b94": {
          "model_module": "@jupyter-widgets/output",
          "model_name": "OutputModel",
          "state": {
            "_view_name": "OutputView",
            "msg_id": "",
            "_dom_classes": [],
            "_model_name": "OutputModel",
            "outputs": [
              {
                "output_type": "display_data",
                "metadata": {
                  "tags": []
                },
                "application/vnd.jupyter.widget-view+json": {
                  "model_id": "ebdf80eddcc24de9893a92ab9df635da",
                  "version_minor": 0,
                  "version_major": 2
                },
                "text/plain": "HTML(value='\\n            How is negative sampling performed? Why?\\n        ')"
              }
            ],
            "_view_module": "@jupyter-widgets/output",
            "_model_module_version": "1.0.0",
            "_view_count": null,
            "_view_module_version": "1.0.0",
            "layout": "IPY_MODEL_6d7f6d5061da41c6b00f0ac37b3164d6",
            "_model_module": "@jupyter-widgets/output"
          }
        },
        "44305b45bec64f70886748e31698114f": {
          "model_module": "@jupyter-widgets/controls",
          "model_name": "RadioButtonsModel",
          "state": {
            "_options_labels": [
              "without replacement; negative samples are i.i.d.",
              "with replacement; negative samples are i.i.d.",
              "without replacement; it is efficient",
              "with replacement; it is efficient"
            ],
            "_view_name": "RadioButtonsView",
            "style": "IPY_MODEL_d03f45b7f19242548b3958ff1817dbdc",
            "_dom_classes": [],
            "description": "",
            "_model_name": "RadioButtonsModel",
            "index": 1,
            "_view_module": "@jupyter-widgets/controls",
            "_model_module_version": "1.5.0",
            "_view_count": null,
            "disabled": false,
            "_view_module_version": "1.5.0",
            "description_tooltip": null,
            "_model_module": "@jupyter-widgets/controls",
            "layout": "IPY_MODEL_72787a12369141c3a85bc6673829bc75"
          }
        },
        "21a5a14c05124209a5cb5a6d6fdec09c": {
          "model_module": "@jupyter-widgets/controls",
          "model_name": "HTMLModel",
          "state": {
            "_view_name": "HTMLView",
            "style": "IPY_MODEL_258732011c8848989aaa934513b97bb4",
            "_dom_classes": [],
            "description": "",
            "_model_name": "HTMLModel",
            "placeholder": "​",
            "_view_module": "@jupyter-widgets/controls",
            "_model_module_version": "1.5.0",
            "value": "<font color='green'>'with replacement; negative samples are i.i.d.' is the correct answer</font>",
            "_view_count": null,
            "_view_module_version": "1.5.0",
            "description_tooltip": null,
            "_model_module": "@jupyter-widgets/controls",
            "layout": "IPY_MODEL_d7433cf5ff5f4890a98bdb3b1b8fc06b"
          }
        },
        "b46893ffc1734492a547d3098addf2a3": {
          "model_module": "@jupyter-widgets/controls",
          "model_name": "ButtonModel",
          "state": {
            "_view_name": "ButtonView",
            "style": "IPY_MODEL_5d177ec7878b41879d59c4f873448c0e",
            "_dom_classes": [],
            "description": "Check",
            "_model_name": "ButtonModel",
            "button_style": "",
            "_view_module": "@jupyter-widgets/controls",
            "_model_module_version": "1.5.0",
            "tooltip": "",
            "_view_count": null,
            "disabled": false,
            "_view_module_version": "1.5.0",
            "layout": "IPY_MODEL_3489da4c51314451af011f04b52c1a31",
            "_model_module": "@jupyter-widgets/controls",
            "icon": ""
          }
        },
        "d03f45b7f19242548b3958ff1817dbdc": {
          "model_module": "@jupyter-widgets/controls",
          "model_name": "DescriptionStyleModel",
          "state": {
            "_view_name": "StyleView",
            "_model_name": "DescriptionStyleModel",
            "description_width": "",
            "_view_module": "@jupyter-widgets/base",
            "_model_module_version": "1.5.0",
            "_view_count": null,
            "_view_module_version": "1.2.0",
            "_model_module": "@jupyter-widgets/controls"
          }
        },
        "72787a12369141c3a85bc6673829bc75": {
          "model_module": "@jupyter-widgets/base",
          "model_name": "LayoutModel",
          "state": {
            "_view_name": "LayoutView",
            "grid_template_rows": null,
            "right": null,
            "justify_content": null,
            "_view_module": "@jupyter-widgets/base",
            "overflow": null,
            "_model_module_version": "1.2.0",
            "_view_count": null,
            "flex_flow": null,
            "width": null,
            "min_width": null,
            "border": null,
            "align_items": null,
            "bottom": null,
            "_model_module": "@jupyter-widgets/base",
            "top": null,
            "grid_column": null,
            "overflow_y": null,
            "overflow_x": null,
            "grid_auto_flow": null,
            "grid_area": null,
            "grid_template_columns": null,
            "flex": null,
            "_model_name": "LayoutModel",
            "justify_items": null,
            "grid_row": null,
            "max_height": null,
            "align_content": null,
            "visibility": null,
            "align_self": null,
            "height": null,
            "min_height": null,
            "padding": null,
            "grid_auto_rows": null,
            "grid_gap": null,
            "max_width": null,
            "order": null,
            "_view_module_version": "1.2.0",
            "grid_template_areas": null,
            "object_position": null,
            "object_fit": null,
            "grid_auto_columns": null,
            "margin": null,
            "display": null,
            "left": null
          }
        },
        "258732011c8848989aaa934513b97bb4": {
          "model_module": "@jupyter-widgets/controls",
          "model_name": "DescriptionStyleModel",
          "state": {
            "_view_name": "StyleView",
            "_model_name": "DescriptionStyleModel",
            "description_width": "",
            "_view_module": "@jupyter-widgets/base",
            "_model_module_version": "1.5.0",
            "_view_count": null,
            "_view_module_version": "1.2.0",
            "_model_module": "@jupyter-widgets/controls"
          }
        },
        "d7433cf5ff5f4890a98bdb3b1b8fc06b": {
          "model_module": "@jupyter-widgets/base",
          "model_name": "LayoutModel",
          "state": {
            "_view_name": "LayoutView",
            "grid_template_rows": null,
            "right": null,
            "justify_content": null,
            "_view_module": "@jupyter-widgets/base",
            "overflow": null,
            "_model_module_version": "1.2.0",
            "_view_count": null,
            "flex_flow": null,
            "width": null,
            "min_width": null,
            "border": null,
            "align_items": null,
            "bottom": null,
            "_model_module": "@jupyter-widgets/base",
            "top": null,
            "grid_column": null,
            "overflow_y": null,
            "overflow_x": null,
            "grid_auto_flow": null,
            "grid_area": null,
            "grid_template_columns": null,
            "flex": null,
            "_model_name": "LayoutModel",
            "justify_items": null,
            "grid_row": null,
            "max_height": null,
            "align_content": null,
            "visibility": null,
            "align_self": null,
            "height": null,
            "min_height": null,
            "padding": null,
            "grid_auto_rows": null,
            "grid_gap": null,
            "max_width": null,
            "order": null,
            "_view_module_version": "1.2.0",
            "grid_template_areas": null,
            "object_position": null,
            "object_fit": null,
            "grid_auto_columns": null,
            "margin": null,
            "display": null,
            "left": null
          }
        },
        "5d177ec7878b41879d59c4f873448c0e": {
          "model_module": "@jupyter-widgets/controls",
          "model_name": "ButtonStyleModel",
          "state": {
            "_view_name": "StyleView",
            "_model_name": "ButtonStyleModel",
            "_view_module": "@jupyter-widgets/base",
            "_model_module_version": "1.5.0",
            "_view_count": null,
            "button_color": null,
            "font_weight": "",
            "_view_module_version": "1.2.0",
            "_model_module": "@jupyter-widgets/controls"
          }
        },
        "3489da4c51314451af011f04b52c1a31": {
          "model_module": "@jupyter-widgets/base",
          "model_name": "LayoutModel",
          "state": {
            "_view_name": "LayoutView",
            "grid_template_rows": null,
            "right": null,
            "justify_content": null,
            "_view_module": "@jupyter-widgets/base",
            "overflow": null,
            "_model_module_version": "1.2.0",
            "_view_count": null,
            "flex_flow": null,
            "width": null,
            "min_width": null,
            "border": null,
            "align_items": null,
            "bottom": null,
            "_model_module": "@jupyter-widgets/base",
            "top": null,
            "grid_column": null,
            "overflow_y": null,
            "overflow_x": null,
            "grid_auto_flow": null,
            "grid_area": null,
            "grid_template_columns": null,
            "flex": null,
            "_model_name": "LayoutModel",
            "justify_items": null,
            "grid_row": null,
            "max_height": null,
            "align_content": null,
            "visibility": null,
            "align_self": null,
            "height": null,
            "min_height": null,
            "padding": null,
            "grid_auto_rows": null,
            "grid_gap": null,
            "max_width": null,
            "order": null,
            "_view_module_version": "1.2.0",
            "grid_template_areas": null,
            "object_position": null,
            "object_fit": null,
            "grid_auto_columns": null,
            "margin": null,
            "display": null,
            "left": null
          }
        },
        "ebdf80eddcc24de9893a92ab9df635da": {
          "model_module": "@jupyter-widgets/controls",
          "model_name": "HTMLModel",
          "state": {
            "_view_name": "HTMLView",
            "style": "IPY_MODEL_4635020e70f24d7a8e240757415c31ca",
            "_dom_classes": [],
            "description": "",
            "_model_name": "HTMLModel",
            "placeholder": "​",
            "_view_module": "@jupyter-widgets/controls",
            "_model_module_version": "1.5.0",
            "value": "\n            How is negative sampling performed? Why?\n        ",
            "_view_count": null,
            "_view_module_version": "1.5.0",
            "description_tooltip": null,
            "_model_module": "@jupyter-widgets/controls",
            "layout": "IPY_MODEL_7d6ad546b9934e23878aada36d8208b0"
          }
        },
        "6d7f6d5061da41c6b00f0ac37b3164d6": {
          "model_module": "@jupyter-widgets/base",
          "model_name": "LayoutModel",
          "state": {
            "_view_name": "LayoutView",
            "grid_template_rows": null,
            "right": null,
            "justify_content": null,
            "_view_module": "@jupyter-widgets/base",
            "overflow": null,
            "_model_module_version": "1.2.0",
            "_view_count": null,
            "flex_flow": null,
            "width": null,
            "min_width": null,
            "border": null,
            "align_items": null,
            "bottom": null,
            "_model_module": "@jupyter-widgets/base",
            "top": null,
            "grid_column": null,
            "overflow_y": null,
            "overflow_x": null,
            "grid_auto_flow": null,
            "grid_area": null,
            "grid_template_columns": null,
            "flex": null,
            "_model_name": "LayoutModel",
            "justify_items": null,
            "grid_row": null,
            "max_height": null,
            "align_content": null,
            "visibility": null,
            "align_self": null,
            "height": null,
            "min_height": null,
            "padding": null,
            "grid_auto_rows": null,
            "grid_gap": null,
            "max_width": null,
            "order": null,
            "_view_module_version": "1.2.0",
            "grid_template_areas": null,
            "object_position": null,
            "object_fit": null,
            "grid_auto_columns": null,
            "margin": null,
            "display": null,
            "left": null
          }
        },
        "4635020e70f24d7a8e240757415c31ca": {
          "model_module": "@jupyter-widgets/controls",
          "model_name": "DescriptionStyleModel",
          "state": {
            "_view_name": "StyleView",
            "_model_name": "DescriptionStyleModel",
            "description_width": "",
            "_view_module": "@jupyter-widgets/base",
            "_model_module_version": "1.5.0",
            "_view_count": null,
            "_view_module_version": "1.2.0",
            "_model_module": "@jupyter-widgets/controls"
          }
        },
        "7d6ad546b9934e23878aada36d8208b0": {
          "model_module": "@jupyter-widgets/base",
          "model_name": "LayoutModel",
          "state": {
            "_view_name": "LayoutView",
            "grid_template_rows": null,
            "right": null,
            "justify_content": null,
            "_view_module": "@jupyter-widgets/base",
            "overflow": null,
            "_model_module_version": "1.2.0",
            "_view_count": null,
            "flex_flow": null,
            "width": null,
            "min_width": null,
            "border": null,
            "align_items": null,
            "bottom": null,
            "_model_module": "@jupyter-widgets/base",
            "top": null,
            "grid_column": null,
            "overflow_y": null,
            "overflow_x": null,
            "grid_auto_flow": null,
            "grid_area": null,
            "grid_template_columns": null,
            "flex": null,
            "_model_name": "LayoutModel",
            "justify_items": null,
            "grid_row": null,
            "max_height": null,
            "align_content": null,
            "visibility": null,
            "align_self": null,
            "height": null,
            "min_height": null,
            "padding": null,
            "grid_auto_rows": null,
            "grid_gap": null,
            "max_width": null,
            "order": null,
            "_view_module_version": "1.2.0",
            "grid_template_areas": null,
            "object_position": null,
            "object_fit": null,
            "grid_auto_columns": null,
            "margin": null,
            "display": null,
            "left": null
          }
        },
        "d4e94c3714d5493c920a13e1b0c31f57": {
          "model_module": "@jupyter-widgets/controls",
          "model_name": "HBoxModel",
          "state": {
            "_view_name": "HBoxView",
            "_dom_classes": [],
            "_model_name": "HBoxModel",
            "_view_module": "@jupyter-widgets/controls",
            "_model_module_version": "1.5.0",
            "_view_count": null,
            "_view_module_version": "1.5.0",
            "box_style": "",
            "layout": "IPY_MODEL_9bd6193fffa74da3bad48b88f8a396c0",
            "_model_module": "@jupyter-widgets/controls",
            "children": [
              "IPY_MODEL_91d9721adb0844de9d0ef9fef0d55b70",
              "IPY_MODEL_b851951bbadd4926838235120aaedf79"
            ]
          }
        },
        "9bd6193fffa74da3bad48b88f8a396c0": {
          "model_module": "@jupyter-widgets/base",
          "model_name": "LayoutModel",
          "state": {
            "_view_name": "LayoutView",
            "grid_template_rows": null,
            "right": null,
            "justify_content": null,
            "_view_module": "@jupyter-widgets/base",
            "overflow": null,
            "_model_module_version": "1.2.0",
            "_view_count": null,
            "flex_flow": null,
            "width": null,
            "min_width": null,
            "border": null,
            "align_items": null,
            "bottom": null,
            "_model_module": "@jupyter-widgets/base",
            "top": null,
            "grid_column": null,
            "overflow_y": null,
            "overflow_x": null,
            "grid_auto_flow": null,
            "grid_area": null,
            "grid_template_columns": null,
            "flex": null,
            "_model_name": "LayoutModel",
            "justify_items": null,
            "grid_row": null,
            "max_height": null,
            "align_content": null,
            "visibility": null,
            "align_self": null,
            "height": null,
            "min_height": null,
            "padding": null,
            "grid_auto_rows": null,
            "grid_gap": null,
            "max_width": null,
            "order": null,
            "_view_module_version": "1.2.0",
            "grid_template_areas": null,
            "object_position": null,
            "object_fit": null,
            "grid_auto_columns": null,
            "margin": null,
            "display": null,
            "left": null
          }
        },
        "91d9721adb0844de9d0ef9fef0d55b70": {
          "model_module": "@jupyter-widgets/controls",
          "model_name": "FloatProgressModel",
          "state": {
            "_view_name": "ProgressView",
            "style": "IPY_MODEL_c1cf160564894471b2e219a982493475",
            "_dom_classes": [],
            "description": "tokenize: 100%",
            "_model_name": "FloatProgressModel",
            "bar_style": "success",
            "max": 18846,
            "_view_module": "@jupyter-widgets/controls",
            "_model_module_version": "1.5.0",
            "value": 18846,
            "_view_count": null,
            "_view_module_version": "1.5.0",
            "orientation": "horizontal",
            "min": 0,
            "description_tooltip": null,
            "_model_module": "@jupyter-widgets/controls",
            "layout": "IPY_MODEL_f2e619ea5864489b88c448ced1e58cdd"
          }
        },
        "b851951bbadd4926838235120aaedf79": {
          "model_module": "@jupyter-widgets/controls",
          "model_name": "HTMLModel",
          "state": {
            "_view_name": "HTMLView",
            "style": "IPY_MODEL_c7a9d1037e6a41ebbe0af251e1000517",
            "_dom_classes": [],
            "description": "",
            "_model_name": "HTMLModel",
            "placeholder": "​",
            "_view_module": "@jupyter-widgets/controls",
            "_model_module_version": "1.5.0",
            "value": " 18846/18846 [00:50&lt;00:00, 375.43it/s]",
            "_view_count": null,
            "_view_module_version": "1.5.0",
            "description_tooltip": null,
            "_model_module": "@jupyter-widgets/controls",
            "layout": "IPY_MODEL_fe9fea9463fc4af6996efa76dd8e4608"
          }
        },
        "c1cf160564894471b2e219a982493475": {
          "model_module": "@jupyter-widgets/controls",
          "model_name": "ProgressStyleModel",
          "state": {
            "_view_name": "StyleView",
            "_model_name": "ProgressStyleModel",
            "description_width": "initial",
            "_view_module": "@jupyter-widgets/base",
            "_model_module_version": "1.5.0",
            "_view_count": null,
            "_view_module_version": "1.2.0",
            "bar_color": null,
            "_model_module": "@jupyter-widgets/controls"
          }
        },
        "f2e619ea5864489b88c448ced1e58cdd": {
          "model_module": "@jupyter-widgets/base",
          "model_name": "LayoutModel",
          "state": {
            "_view_name": "LayoutView",
            "grid_template_rows": null,
            "right": null,
            "justify_content": null,
            "_view_module": "@jupyter-widgets/base",
            "overflow": null,
            "_model_module_version": "1.2.0",
            "_view_count": null,
            "flex_flow": null,
            "width": null,
            "min_width": null,
            "border": null,
            "align_items": null,
            "bottom": null,
            "_model_module": "@jupyter-widgets/base",
            "top": null,
            "grid_column": null,
            "overflow_y": null,
            "overflow_x": null,
            "grid_auto_flow": null,
            "grid_area": null,
            "grid_template_columns": null,
            "flex": null,
            "_model_name": "LayoutModel",
            "justify_items": null,
            "grid_row": null,
            "max_height": null,
            "align_content": null,
            "visibility": null,
            "align_self": null,
            "height": null,
            "min_height": null,
            "padding": null,
            "grid_auto_rows": null,
            "grid_gap": null,
            "max_width": null,
            "order": null,
            "_view_module_version": "1.2.0",
            "grid_template_areas": null,
            "object_position": null,
            "object_fit": null,
            "grid_auto_columns": null,
            "margin": null,
            "display": null,
            "left": null
          }
        },
        "c7a9d1037e6a41ebbe0af251e1000517": {
          "model_module": "@jupyter-widgets/controls",
          "model_name": "DescriptionStyleModel",
          "state": {
            "_view_name": "StyleView",
            "_model_name": "DescriptionStyleModel",
            "description_width": "",
            "_view_module": "@jupyter-widgets/base",
            "_model_module_version": "1.5.0",
            "_view_count": null,
            "_view_module_version": "1.2.0",
            "_model_module": "@jupyter-widgets/controls"
          }
        },
        "fe9fea9463fc4af6996efa76dd8e4608": {
          "model_module": "@jupyter-widgets/base",
          "model_name": "LayoutModel",
          "state": {
            "_view_name": "LayoutView",
            "grid_template_rows": null,
            "right": null,
            "justify_content": null,
            "_view_module": "@jupyter-widgets/base",
            "overflow": null,
            "_model_module_version": "1.2.0",
            "_view_count": null,
            "flex_flow": null,
            "width": null,
            "min_width": null,
            "border": null,
            "align_items": null,
            "bottom": null,
            "_model_module": "@jupyter-widgets/base",
            "top": null,
            "grid_column": null,
            "overflow_y": null,
            "overflow_x": null,
            "grid_auto_flow": null,
            "grid_area": null,
            "grid_template_columns": null,
            "flex": null,
            "_model_name": "LayoutModel",
            "justify_items": null,
            "grid_row": null,
            "max_height": null,
            "align_content": null,
            "visibility": null,
            "align_self": null,
            "height": null,
            "min_height": null,
            "padding": null,
            "grid_auto_rows": null,
            "grid_gap": null,
            "max_width": null,
            "order": null,
            "_view_module_version": "1.2.0",
            "grid_template_areas": null,
            "object_position": null,
            "object_fit": null,
            "grid_auto_columns": null,
            "margin": null,
            "display": null,
            "left": null
          }
        },
        "36727a1512614d869239c976bec72076": {
          "model_module": "@jupyter-widgets/controls",
          "model_name": "VBoxModel",
          "state": {
            "_view_name": "VBoxView",
            "_dom_classes": [],
            "_model_name": "VBoxModel",
            "_view_module": "@jupyter-widgets/controls",
            "_model_module_version": "1.5.0",
            "_view_count": null,
            "_view_module_version": "1.5.0",
            "box_style": "",
            "layout": "IPY_MODEL_e0a7fdf2426047279a993efc098d28c7",
            "_model_module": "@jupyter-widgets/controls",
            "children": [
              "IPY_MODEL_6f6e74b4d1cc40e59103fb9869c486f9",
              "IPY_MODEL_d0356a08d25e4ea3899b5b5e86f54d77",
              "IPY_MODEL_c95dffa50d3f4ab59939f5ca7d9c3c3c",
              "IPY_MODEL_2a25c72d5c824bed9570cf38b2033533"
            ]
          }
        },
        "e0a7fdf2426047279a993efc098d28c7": {
          "model_module": "@jupyter-widgets/base",
          "model_name": "LayoutModel",
          "state": {
            "_view_name": "LayoutView",
            "grid_template_rows": null,
            "right": null,
            "justify_content": null,
            "_view_module": "@jupyter-widgets/base",
            "overflow": null,
            "_model_module_version": "1.2.0",
            "_view_count": null,
            "flex_flow": null,
            "width": null,
            "min_width": null,
            "border": null,
            "align_items": null,
            "bottom": null,
            "_model_module": "@jupyter-widgets/base",
            "top": null,
            "grid_column": null,
            "overflow_y": null,
            "overflow_x": null,
            "grid_auto_flow": null,
            "grid_area": null,
            "grid_template_columns": null,
            "flex": null,
            "_model_name": "LayoutModel",
            "justify_items": null,
            "grid_row": null,
            "max_height": null,
            "align_content": null,
            "visibility": null,
            "align_self": null,
            "height": null,
            "min_height": null,
            "padding": null,
            "grid_auto_rows": null,
            "grid_gap": null,
            "max_width": null,
            "order": null,
            "_view_module_version": "1.2.0",
            "grid_template_areas": null,
            "object_position": null,
            "object_fit": null,
            "grid_auto_columns": null,
            "margin": null,
            "display": null,
            "left": null
          }
        },
        "6f6e74b4d1cc40e59103fb9869c486f9": {
          "model_module": "@jupyter-widgets/output",
          "model_name": "OutputModel",
          "state": {
            "_view_name": "OutputView",
            "msg_id": "",
            "_dom_classes": [],
            "_model_name": "OutputModel",
            "outputs": [
              {
                "output_type": "display_data",
                "metadata": {
                  "tags": []
                },
                "application/vnd.jupyter.widget-view+json": {
                  "model_id": "d315ce62d9064bc38620f18d1a277b22",
                  "version_minor": 0,
                  "version_major": 2
                },
                "text/plain": "HTML(value='\\n            What is the most similar word to the word \"twitter\" according to the model \"glove-wi…"
              }
            ],
            "_view_module": "@jupyter-widgets/output",
            "_model_module_version": "1.0.0",
            "_view_count": null,
            "_view_module_version": "1.0.0",
            "layout": "IPY_MODEL_59d1cf0756cb40899931fa17deb45c98",
            "_model_module": "@jupyter-widgets/output"
          }
        },
        "d0356a08d25e4ea3899b5b5e86f54d77": {
          "model_module": "@jupyter-widgets/controls",
          "model_name": "RadioButtonsModel",
          "state": {
            "_options_labels": [
              "instagram",
              "facebook",
              "youtube",
              "internet"
            ],
            "_view_name": "RadioButtonsView",
            "style": "IPY_MODEL_15b197d7a9bb493bbeb36b40af0bf80f",
            "_dom_classes": [],
            "description": "",
            "_model_name": "RadioButtonsModel",
            "index": 0,
            "_view_module": "@jupyter-widgets/controls",
            "_model_module_version": "1.5.0",
            "_view_count": null,
            "disabled": false,
            "_view_module_version": "1.5.0",
            "description_tooltip": null,
            "_model_module": "@jupyter-widgets/controls",
            "layout": "IPY_MODEL_1364762ac71644c9af85235c2bac8bd5"
          }
        },
        "c95dffa50d3f4ab59939f5ca7d9c3c3c": {
          "model_module": "@jupyter-widgets/controls",
          "model_name": "HTMLModel",
          "state": {
            "_view_name": "HTMLView",
            "style": "IPY_MODEL_f827211b9a9b4e7daa2ed2b68dbcf85f",
            "_dom_classes": [],
            "description": "",
            "_model_name": "HTMLModel",
            "placeholder": "​",
            "_view_module": "@jupyter-widgets/controls",
            "_model_module_version": "1.5.0",
            "value": "<br>",
            "_view_count": null,
            "_view_module_version": "1.5.0",
            "description_tooltip": null,
            "_model_module": "@jupyter-widgets/controls",
            "layout": "IPY_MODEL_ade366157f8d4f77829139e861063893"
          }
        },
        "2a25c72d5c824bed9570cf38b2033533": {
          "model_module": "@jupyter-widgets/controls",
          "model_name": "ButtonModel",
          "state": {
            "_view_name": "ButtonView",
            "style": "IPY_MODEL_a2a0b5ba8c994f83bf092a513c08c725",
            "_dom_classes": [],
            "description": "Check",
            "_model_name": "ButtonModel",
            "button_style": "",
            "_view_module": "@jupyter-widgets/controls",
            "_model_module_version": "1.5.0",
            "tooltip": "",
            "_view_count": null,
            "disabled": false,
            "_view_module_version": "1.5.0",
            "layout": "IPY_MODEL_0649f9f1d81b49618718aee370fa8780",
            "_model_module": "@jupyter-widgets/controls",
            "icon": ""
          }
        },
        "15b197d7a9bb493bbeb36b40af0bf80f": {
          "model_module": "@jupyter-widgets/controls",
          "model_name": "DescriptionStyleModel",
          "state": {
            "_view_name": "StyleView",
            "_model_name": "DescriptionStyleModel",
            "description_width": "",
            "_view_module": "@jupyter-widgets/base",
            "_model_module_version": "1.5.0",
            "_view_count": null,
            "_view_module_version": "1.2.0",
            "_model_module": "@jupyter-widgets/controls"
          }
        },
        "1364762ac71644c9af85235c2bac8bd5": {
          "model_module": "@jupyter-widgets/base",
          "model_name": "LayoutModel",
          "state": {
            "_view_name": "LayoutView",
            "grid_template_rows": null,
            "right": null,
            "justify_content": null,
            "_view_module": "@jupyter-widgets/base",
            "overflow": null,
            "_model_module_version": "1.2.0",
            "_view_count": null,
            "flex_flow": null,
            "width": null,
            "min_width": null,
            "border": null,
            "align_items": null,
            "bottom": null,
            "_model_module": "@jupyter-widgets/base",
            "top": null,
            "grid_column": null,
            "overflow_y": null,
            "overflow_x": null,
            "grid_auto_flow": null,
            "grid_area": null,
            "grid_template_columns": null,
            "flex": null,
            "_model_name": "LayoutModel",
            "justify_items": null,
            "grid_row": null,
            "max_height": null,
            "align_content": null,
            "visibility": null,
            "align_self": null,
            "height": null,
            "min_height": null,
            "padding": null,
            "grid_auto_rows": null,
            "grid_gap": null,
            "max_width": null,
            "order": null,
            "_view_module_version": "1.2.0",
            "grid_template_areas": null,
            "object_position": null,
            "object_fit": null,
            "grid_auto_columns": null,
            "margin": null,
            "display": null,
            "left": null
          }
        },
        "f827211b9a9b4e7daa2ed2b68dbcf85f": {
          "model_module": "@jupyter-widgets/controls",
          "model_name": "DescriptionStyleModel",
          "state": {
            "_view_name": "StyleView",
            "_model_name": "DescriptionStyleModel",
            "description_width": "",
            "_view_module": "@jupyter-widgets/base",
            "_model_module_version": "1.5.0",
            "_view_count": null,
            "_view_module_version": "1.2.0",
            "_model_module": "@jupyter-widgets/controls"
          }
        },
        "ade366157f8d4f77829139e861063893": {
          "model_module": "@jupyter-widgets/base",
          "model_name": "LayoutModel",
          "state": {
            "_view_name": "LayoutView",
            "grid_template_rows": null,
            "right": null,
            "justify_content": null,
            "_view_module": "@jupyter-widgets/base",
            "overflow": null,
            "_model_module_version": "1.2.0",
            "_view_count": null,
            "flex_flow": null,
            "width": null,
            "min_width": null,
            "border": null,
            "align_items": null,
            "bottom": null,
            "_model_module": "@jupyter-widgets/base",
            "top": null,
            "grid_column": null,
            "overflow_y": null,
            "overflow_x": null,
            "grid_auto_flow": null,
            "grid_area": null,
            "grid_template_columns": null,
            "flex": null,
            "_model_name": "LayoutModel",
            "justify_items": null,
            "grid_row": null,
            "max_height": null,
            "align_content": null,
            "visibility": null,
            "align_self": null,
            "height": null,
            "min_height": null,
            "padding": null,
            "grid_auto_rows": null,
            "grid_gap": null,
            "max_width": null,
            "order": null,
            "_view_module_version": "1.2.0",
            "grid_template_areas": null,
            "object_position": null,
            "object_fit": null,
            "grid_auto_columns": null,
            "margin": null,
            "display": null,
            "left": null
          }
        },
        "a2a0b5ba8c994f83bf092a513c08c725": {
          "model_module": "@jupyter-widgets/controls",
          "model_name": "ButtonStyleModel",
          "state": {
            "_view_name": "StyleView",
            "_model_name": "ButtonStyleModel",
            "_view_module": "@jupyter-widgets/base",
            "_model_module_version": "1.5.0",
            "_view_count": null,
            "button_color": null,
            "font_weight": "",
            "_view_module_version": "1.2.0",
            "_model_module": "@jupyter-widgets/controls"
          }
        },
        "0649f9f1d81b49618718aee370fa8780": {
          "model_module": "@jupyter-widgets/base",
          "model_name": "LayoutModel",
          "state": {
            "_view_name": "LayoutView",
            "grid_template_rows": null,
            "right": null,
            "justify_content": null,
            "_view_module": "@jupyter-widgets/base",
            "overflow": null,
            "_model_module_version": "1.2.0",
            "_view_count": null,
            "flex_flow": null,
            "width": null,
            "min_width": null,
            "border": null,
            "align_items": null,
            "bottom": null,
            "_model_module": "@jupyter-widgets/base",
            "top": null,
            "grid_column": null,
            "overflow_y": null,
            "overflow_x": null,
            "grid_auto_flow": null,
            "grid_area": null,
            "grid_template_columns": null,
            "flex": null,
            "_model_name": "LayoutModel",
            "justify_items": null,
            "grid_row": null,
            "max_height": null,
            "align_content": null,
            "visibility": null,
            "align_self": null,
            "height": null,
            "min_height": null,
            "padding": null,
            "grid_auto_rows": null,
            "grid_gap": null,
            "max_width": null,
            "order": null,
            "_view_module_version": "1.2.0",
            "grid_template_areas": null,
            "object_position": null,
            "object_fit": null,
            "grid_auto_columns": null,
            "margin": null,
            "display": null,
            "left": null
          }
        },
        "d315ce62d9064bc38620f18d1a277b22": {
          "model_module": "@jupyter-widgets/controls",
          "model_name": "HTMLModel",
          "state": {
            "_view_name": "HTMLView",
            "style": "IPY_MODEL_834610aa413d4dde823df3cd817c39c9",
            "_dom_classes": [],
            "description": "",
            "_model_name": "HTMLModel",
            "placeholder": "​",
            "_view_module": "@jupyter-widgets/controls",
            "_model_module_version": "1.5.0",
            "value": "\n            What is the most similar word to the word \"twitter\" according to the model \"glove-wiki-gigaword-100\"?\n        ",
            "_view_count": null,
            "_view_module_version": "1.5.0",
            "description_tooltip": null,
            "_model_module": "@jupyter-widgets/controls",
            "layout": "IPY_MODEL_dd8e155607ee439a98afd24f6d96ac20"
          }
        },
        "59d1cf0756cb40899931fa17deb45c98": {
          "model_module": "@jupyter-widgets/base",
          "model_name": "LayoutModel",
          "state": {
            "_view_name": "LayoutView",
            "grid_template_rows": null,
            "right": null,
            "justify_content": null,
            "_view_module": "@jupyter-widgets/base",
            "overflow": null,
            "_model_module_version": "1.2.0",
            "_view_count": null,
            "flex_flow": null,
            "width": null,
            "min_width": null,
            "border": null,
            "align_items": null,
            "bottom": null,
            "_model_module": "@jupyter-widgets/base",
            "top": null,
            "grid_column": null,
            "overflow_y": null,
            "overflow_x": null,
            "grid_auto_flow": null,
            "grid_area": null,
            "grid_template_columns": null,
            "flex": null,
            "_model_name": "LayoutModel",
            "justify_items": null,
            "grid_row": null,
            "max_height": null,
            "align_content": null,
            "visibility": null,
            "align_self": null,
            "height": null,
            "min_height": null,
            "padding": null,
            "grid_auto_rows": null,
            "grid_gap": null,
            "max_width": null,
            "order": null,
            "_view_module_version": "1.2.0",
            "grid_template_areas": null,
            "object_position": null,
            "object_fit": null,
            "grid_auto_columns": null,
            "margin": null,
            "display": null,
            "left": null
          }
        },
        "834610aa413d4dde823df3cd817c39c9": {
          "model_module": "@jupyter-widgets/controls",
          "model_name": "DescriptionStyleModel",
          "state": {
            "_view_name": "StyleView",
            "_model_name": "DescriptionStyleModel",
            "description_width": "",
            "_view_module": "@jupyter-widgets/base",
            "_model_module_version": "1.5.0",
            "_view_count": null,
            "_view_module_version": "1.2.0",
            "_model_module": "@jupyter-widgets/controls"
          }
        },
        "dd8e155607ee439a98afd24f6d96ac20": {
          "model_module": "@jupyter-widgets/base",
          "model_name": "LayoutModel",
          "state": {
            "_view_name": "LayoutView",
            "grid_template_rows": null,
            "right": null,
            "justify_content": null,
            "_view_module": "@jupyter-widgets/base",
            "overflow": null,
            "_model_module_version": "1.2.0",
            "_view_count": null,
            "flex_flow": null,
            "width": null,
            "min_width": null,
            "border": null,
            "align_items": null,
            "bottom": null,
            "_model_module": "@jupyter-widgets/base",
            "top": null,
            "grid_column": null,
            "overflow_y": null,
            "overflow_x": null,
            "grid_auto_flow": null,
            "grid_area": null,
            "grid_template_columns": null,
            "flex": null,
            "_model_name": "LayoutModel",
            "justify_items": null,
            "grid_row": null,
            "max_height": null,
            "align_content": null,
            "visibility": null,
            "align_self": null,
            "height": null,
            "min_height": null,
            "padding": null,
            "grid_auto_rows": null,
            "grid_gap": null,
            "max_width": null,
            "order": null,
            "_view_module_version": "1.2.0",
            "grid_template_areas": null,
            "object_position": null,
            "object_fit": null,
            "grid_auto_columns": null,
            "margin": null,
            "display": null,
            "left": null
          }
        },
        "16c9a84592fc4b078c93ea79fa7d2e80": {
          "model_module": "@jupyter-widgets/controls",
          "model_name": "VBoxModel",
          "state": {
            "_view_name": "VBoxView",
            "_dom_classes": [],
            "_model_name": "VBoxModel",
            "_view_module": "@jupyter-widgets/controls",
            "_model_module_version": "1.5.0",
            "_view_count": null,
            "_view_module_version": "1.5.0",
            "box_style": "",
            "layout": "IPY_MODEL_60aad0affa1b4e6898070b68698f35c0",
            "_model_module": "@jupyter-widgets/controls",
            "children": [
              "IPY_MODEL_bdc976299a3e4d4185ae05045b66158c",
              "IPY_MODEL_06e223523ecb447ea690e27fee1bfc55",
              "IPY_MODEL_620ef650b6c748f8be4ee41f64419951",
              "IPY_MODEL_4b96f97632b6444caabc4ec17f0d9570"
            ]
          }
        },
        "60aad0affa1b4e6898070b68698f35c0": {
          "model_module": "@jupyter-widgets/base",
          "model_name": "LayoutModel",
          "state": {
            "_view_name": "LayoutView",
            "grid_template_rows": null,
            "right": null,
            "justify_content": null,
            "_view_module": "@jupyter-widgets/base",
            "overflow": null,
            "_model_module_version": "1.2.0",
            "_view_count": null,
            "flex_flow": null,
            "width": null,
            "min_width": null,
            "border": null,
            "align_items": null,
            "bottom": null,
            "_model_module": "@jupyter-widgets/base",
            "top": null,
            "grid_column": null,
            "overflow_y": null,
            "overflow_x": null,
            "grid_auto_flow": null,
            "grid_area": null,
            "grid_template_columns": null,
            "flex": null,
            "_model_name": "LayoutModel",
            "justify_items": null,
            "grid_row": null,
            "max_height": null,
            "align_content": null,
            "visibility": null,
            "align_self": null,
            "height": null,
            "min_height": null,
            "padding": null,
            "grid_auto_rows": null,
            "grid_gap": null,
            "max_width": null,
            "order": null,
            "_view_module_version": "1.2.0",
            "grid_template_areas": null,
            "object_position": null,
            "object_fit": null,
            "grid_auto_columns": null,
            "margin": null,
            "display": null,
            "left": null
          }
        },
        "bdc976299a3e4d4185ae05045b66158c": {
          "model_module": "@jupyter-widgets/output",
          "model_name": "OutputModel",
          "state": {
            "_view_name": "OutputView",
            "msg_id": "",
            "_dom_classes": [],
            "_model_name": "OutputModel",
            "outputs": [
              {
                "output_type": "display_data",
                "metadata": {
                  "tags": []
                },
                "application/vnd.jupyter.widget-view+json": {
                  "model_id": "2342c00e9d924699b5fd38082bb231da",
                  "version_minor": 0,
                  "version_major": 2
                },
                "text/plain": "HTML(value='\\n            Solve the following word analogy task:\\n            $$\\n            \\\\overrightarrow…"
              }
            ],
            "_view_module": "@jupyter-widgets/output",
            "_model_module_version": "1.0.0",
            "_view_count": null,
            "_view_module_version": "1.0.0",
            "layout": "IPY_MODEL_e65941d347514e71990f113f330ba40a",
            "_model_module": "@jupyter-widgets/output"
          }
        },
        "06e223523ecb447ea690e27fee1bfc55": {
          "model_module": "@jupyter-widgets/controls",
          "model_name": "RadioButtonsModel",
          "state": {
            "_options_labels": [
              "X = duchess",
              "X = marquess",
              "X = countess",
              "X = baronet"
            ],
            "_view_name": "RadioButtonsView",
            "style": "IPY_MODEL_a2f0f83d18d54f5781eb979eddd10ef9",
            "_dom_classes": [],
            "description": "",
            "_model_name": "RadioButtonsModel",
            "index": 2,
            "_view_module": "@jupyter-widgets/controls",
            "_model_module_version": "1.5.0",
            "_view_count": null,
            "disabled": false,
            "_view_module_version": "1.5.0",
            "description_tooltip": null,
            "_model_module": "@jupyter-widgets/controls",
            "layout": "IPY_MODEL_738777ca44d5458abb0deb932b482898"
          }
        },
        "620ef650b6c748f8be4ee41f64419951": {
          "model_module": "@jupyter-widgets/controls",
          "model_name": "HTMLModel",
          "state": {
            "_view_name": "HTMLView",
            "style": "IPY_MODEL_e3b492f377574974b4bb95f7e282f5ce",
            "_dom_classes": [],
            "description": "",
            "_model_name": "HTMLModel",
            "placeholder": "​",
            "_view_module": "@jupyter-widgets/controls",
            "_model_module_version": "1.5.0",
            "value": "<font color='green'>'X = countess' is the correct answer</font>",
            "_view_count": null,
            "_view_module_version": "1.5.0",
            "description_tooltip": null,
            "_model_module": "@jupyter-widgets/controls",
            "layout": "IPY_MODEL_a6ba1c0f889e4bf0954c68103429bd09"
          }
        },
        "4b96f97632b6444caabc4ec17f0d9570": {
          "model_module": "@jupyter-widgets/controls",
          "model_name": "ButtonModel",
          "state": {
            "_view_name": "ButtonView",
            "style": "IPY_MODEL_6dd425a9b5d64582b3d9270a8a471895",
            "_dom_classes": [],
            "description": "Check",
            "_model_name": "ButtonModel",
            "button_style": "",
            "_view_module": "@jupyter-widgets/controls",
            "_model_module_version": "1.5.0",
            "tooltip": "",
            "_view_count": null,
            "disabled": false,
            "_view_module_version": "1.5.0",
            "layout": "IPY_MODEL_0721804bb3634d2e92a61d3b81d0b847",
            "_model_module": "@jupyter-widgets/controls",
            "icon": ""
          }
        },
        "a2f0f83d18d54f5781eb979eddd10ef9": {
          "model_module": "@jupyter-widgets/controls",
          "model_name": "DescriptionStyleModel",
          "state": {
            "_view_name": "StyleView",
            "_model_name": "DescriptionStyleModel",
            "description_width": "",
            "_view_module": "@jupyter-widgets/base",
            "_model_module_version": "1.5.0",
            "_view_count": null,
            "_view_module_version": "1.2.0",
            "_model_module": "@jupyter-widgets/controls"
          }
        },
        "738777ca44d5458abb0deb932b482898": {
          "model_module": "@jupyter-widgets/base",
          "model_name": "LayoutModel",
          "state": {
            "_view_name": "LayoutView",
            "grid_template_rows": null,
            "right": null,
            "justify_content": null,
            "_view_module": "@jupyter-widgets/base",
            "overflow": null,
            "_model_module_version": "1.2.0",
            "_view_count": null,
            "flex_flow": null,
            "width": null,
            "min_width": null,
            "border": null,
            "align_items": null,
            "bottom": null,
            "_model_module": "@jupyter-widgets/base",
            "top": null,
            "grid_column": null,
            "overflow_y": null,
            "overflow_x": null,
            "grid_auto_flow": null,
            "grid_area": null,
            "grid_template_columns": null,
            "flex": null,
            "_model_name": "LayoutModel",
            "justify_items": null,
            "grid_row": null,
            "max_height": null,
            "align_content": null,
            "visibility": null,
            "align_self": null,
            "height": null,
            "min_height": null,
            "padding": null,
            "grid_auto_rows": null,
            "grid_gap": null,
            "max_width": null,
            "order": null,
            "_view_module_version": "1.2.0",
            "grid_template_areas": null,
            "object_position": null,
            "object_fit": null,
            "grid_auto_columns": null,
            "margin": null,
            "display": null,
            "left": null
          }
        },
        "e3b492f377574974b4bb95f7e282f5ce": {
          "model_module": "@jupyter-widgets/controls",
          "model_name": "DescriptionStyleModel",
          "state": {
            "_view_name": "StyleView",
            "_model_name": "DescriptionStyleModel",
            "description_width": "",
            "_view_module": "@jupyter-widgets/base",
            "_model_module_version": "1.5.0",
            "_view_count": null,
            "_view_module_version": "1.2.0",
            "_model_module": "@jupyter-widgets/controls"
          }
        },
        "a6ba1c0f889e4bf0954c68103429bd09": {
          "model_module": "@jupyter-widgets/base",
          "model_name": "LayoutModel",
          "state": {
            "_view_name": "LayoutView",
            "grid_template_rows": null,
            "right": null,
            "justify_content": null,
            "_view_module": "@jupyter-widgets/base",
            "overflow": null,
            "_model_module_version": "1.2.0",
            "_view_count": null,
            "flex_flow": null,
            "width": null,
            "min_width": null,
            "border": null,
            "align_items": null,
            "bottom": null,
            "_model_module": "@jupyter-widgets/base",
            "top": null,
            "grid_column": null,
            "overflow_y": null,
            "overflow_x": null,
            "grid_auto_flow": null,
            "grid_area": null,
            "grid_template_columns": null,
            "flex": null,
            "_model_name": "LayoutModel",
            "justify_items": null,
            "grid_row": null,
            "max_height": null,
            "align_content": null,
            "visibility": null,
            "align_self": null,
            "height": null,
            "min_height": null,
            "padding": null,
            "grid_auto_rows": null,
            "grid_gap": null,
            "max_width": null,
            "order": null,
            "_view_module_version": "1.2.0",
            "grid_template_areas": null,
            "object_position": null,
            "object_fit": null,
            "grid_auto_columns": null,
            "margin": null,
            "display": null,
            "left": null
          }
        },
        "6dd425a9b5d64582b3d9270a8a471895": {
          "model_module": "@jupyter-widgets/controls",
          "model_name": "ButtonStyleModel",
          "state": {
            "_view_name": "StyleView",
            "_model_name": "ButtonStyleModel",
            "_view_module": "@jupyter-widgets/base",
            "_model_module_version": "1.5.0",
            "_view_count": null,
            "button_color": null,
            "font_weight": "",
            "_view_module_version": "1.2.0",
            "_model_module": "@jupyter-widgets/controls"
          }
        },
        "0721804bb3634d2e92a61d3b81d0b847": {
          "model_module": "@jupyter-widgets/base",
          "model_name": "LayoutModel",
          "state": {
            "_view_name": "LayoutView",
            "grid_template_rows": null,
            "right": null,
            "justify_content": null,
            "_view_module": "@jupyter-widgets/base",
            "overflow": null,
            "_model_module_version": "1.2.0",
            "_view_count": null,
            "flex_flow": null,
            "width": null,
            "min_width": null,
            "border": null,
            "align_items": null,
            "bottom": null,
            "_model_module": "@jupyter-widgets/base",
            "top": null,
            "grid_column": null,
            "overflow_y": null,
            "overflow_x": null,
            "grid_auto_flow": null,
            "grid_area": null,
            "grid_template_columns": null,
            "flex": null,
            "_model_name": "LayoutModel",
            "justify_items": null,
            "grid_row": null,
            "max_height": null,
            "align_content": null,
            "visibility": null,
            "align_self": null,
            "height": null,
            "min_height": null,
            "padding": null,
            "grid_auto_rows": null,
            "grid_gap": null,
            "max_width": null,
            "order": null,
            "_view_module_version": "1.2.0",
            "grid_template_areas": null,
            "object_position": null,
            "object_fit": null,
            "grid_auto_columns": null,
            "margin": null,
            "display": null,
            "left": null
          }
        },
        "2342c00e9d924699b5fd38082bb231da": {
          "model_module": "@jupyter-widgets/controls",
          "model_name": "HTMLModel",
          "state": {
            "_view_name": "HTMLView",
            "style": "IPY_MODEL_913856cbe1f040a393e2cb07b2d9e0ba",
            "_dom_classes": [],
            "description": "",
            "_model_name": "HTMLModel",
            "placeholder": "​",
            "_view_module": "@jupyter-widgets/controls",
            "_model_module_version": "1.5.0",
            "value": "\n            Solve the following word analogy task:\n            $$\n            \\overrightarrow{\\mathrm{earl}} - \\overrightarrow{\\mathrm{man}} \\approx X - \\overrightarrow{\\mathrm{woman}}\n            $$\n            Use \"glove-wiki-gigaword-100\".\n        ",
            "_view_count": null,
            "_view_module_version": "1.5.0",
            "description_tooltip": null,
            "_model_module": "@jupyter-widgets/controls",
            "layout": "IPY_MODEL_c82b71db2e4749899800cffe574058bb"
          }
        },
        "e65941d347514e71990f113f330ba40a": {
          "model_module": "@jupyter-widgets/base",
          "model_name": "LayoutModel",
          "state": {
            "_view_name": "LayoutView",
            "grid_template_rows": null,
            "right": null,
            "justify_content": null,
            "_view_module": "@jupyter-widgets/base",
            "overflow": null,
            "_model_module_version": "1.2.0",
            "_view_count": null,
            "flex_flow": null,
            "width": null,
            "min_width": null,
            "border": null,
            "align_items": null,
            "bottom": null,
            "_model_module": "@jupyter-widgets/base",
            "top": null,
            "grid_column": null,
            "overflow_y": null,
            "overflow_x": null,
            "grid_auto_flow": null,
            "grid_area": null,
            "grid_template_columns": null,
            "flex": null,
            "_model_name": "LayoutModel",
            "justify_items": null,
            "grid_row": null,
            "max_height": null,
            "align_content": null,
            "visibility": null,
            "align_self": null,
            "height": null,
            "min_height": null,
            "padding": null,
            "grid_auto_rows": null,
            "grid_gap": null,
            "max_width": null,
            "order": null,
            "_view_module_version": "1.2.0",
            "grid_template_areas": null,
            "object_position": null,
            "object_fit": null,
            "grid_auto_columns": null,
            "margin": null,
            "display": null,
            "left": null
          }
        },
        "913856cbe1f040a393e2cb07b2d9e0ba": {
          "model_module": "@jupyter-widgets/controls",
          "model_name": "DescriptionStyleModel",
          "state": {
            "_view_name": "StyleView",
            "_model_name": "DescriptionStyleModel",
            "description_width": "",
            "_view_module": "@jupyter-widgets/base",
            "_model_module_version": "1.5.0",
            "_view_count": null,
            "_view_module_version": "1.2.0",
            "_model_module": "@jupyter-widgets/controls"
          }
        },
        "c82b71db2e4749899800cffe574058bb": {
          "model_module": "@jupyter-widgets/base",
          "model_name": "LayoutModel",
          "state": {
            "_view_name": "LayoutView",
            "grid_template_rows": null,
            "right": null,
            "justify_content": null,
            "_view_module": "@jupyter-widgets/base",
            "overflow": null,
            "_model_module_version": "1.2.0",
            "_view_count": null,
            "flex_flow": null,
            "width": null,
            "min_width": null,
            "border": null,
            "align_items": null,
            "bottom": null,
            "_model_module": "@jupyter-widgets/base",
            "top": null,
            "grid_column": null,
            "overflow_y": null,
            "overflow_x": null,
            "grid_auto_flow": null,
            "grid_area": null,
            "grid_template_columns": null,
            "flex": null,
            "_model_name": "LayoutModel",
            "justify_items": null,
            "grid_row": null,
            "max_height": null,
            "align_content": null,
            "visibility": null,
            "align_self": null,
            "height": null,
            "min_height": null,
            "padding": null,
            "grid_auto_rows": null,
            "grid_gap": null,
            "max_width": null,
            "order": null,
            "_view_module_version": "1.2.0",
            "grid_template_areas": null,
            "object_position": null,
            "object_fit": null,
            "grid_auto_columns": null,
            "margin": null,
            "display": null,
            "left": null
          }
        }
      }
    }
  },
  "cells": [
    {
      "cell_type": "code",
      "metadata": {
        "id": "xb96gaW0L8SX",
        "colab_type": "code",
        "outputId": "0fbba59f-50d9-4c4f-fbd6-32330d20d8aa",
        "colab": {
          "base_uri": "https://localhost:8080/",
          "height": 136
        }
      },
      "source": [
        "#@title <b><font color=\"red\">▶</font><font color=\"black\"> run this cell to prepare supplementary materials for the lesson</font></b>\n",
        "\n",
        "!rm -rf harbour-space-text-mining-course\n",
        "!git clone https://github.com/horoshenkih/harbour-space-text-mining-course.git\n",
        "import sys\n",
        "sys.path.append('harbour-space-text-mining-course')\n",
        "\n",
        "from tmcourse.utils import (\n",
        "    enable_mathjax_in_cell,\n",
        "    display_pca_scatterplot,\n",
        "    display_pca_scatterplot_interactive\n",
        ")\n",
        "from tmcourse.demo import (\n",
        "    demo_word2vec_batch,\n",
        "    demo_gradient_descent,\n",
        ")\n",
        "from tmcourse.quiz import (\n",
        "    quiz_skibidi,\n",
        "    quiz_word2vec_context,\n",
        "    quiz_word2vec_word_vector,\n",
        "    quiz_word2vec_subsampling,\n",
        "    quiz_word2vec_negative_sampling,\n",
        "    quiz_most_similar,\n",
        "    quiz_earl,\n",
        ")\n",
        "from tmcourse.ipyquiz import Quiz\n",
        "from tqdm.notebook import tqdm\n",
        "\n",
        "import warnings\n",
        "warnings.filterwarnings('ignore')"
      ],
      "execution_count": 0,
      "outputs": [
        {
          "output_type": "stream",
          "text": [
            "Cloning into 'harbour-space-text-mining-course'...\n",
            "remote: Enumerating objects: 92, done.\u001b[K\n",
            "remote: Counting objects: 100% (92/92), done.\u001b[K\n",
            "remote: Compressing objects: 100% (60/60), done.\u001b[K\n",
            "remote: Total 399 (delta 64), reused 59 (delta 32), pack-reused 307\u001b[K\n",
            "Receiving objects: 100% (399/399), 40.02 MiB | 16.65 MiB/s, done.\n",
            "Resolving deltas: 100% (247/247), done.\n"
          ],
          "name": "stdout"
        }
      ]
    },
    {
      "cell_type": "markdown",
      "metadata": {
        "id": "9FoyjBIAJW-a",
        "colab_type": "text"
      },
      "source": [
        "# Sparsity problem"
      ]
    },
    {
      "cell_type": "code",
      "metadata": {
        "id": "GKs3j-EhJ38U",
        "colab_type": "code",
        "outputId": "629dfd76-a04c-4c60-a4fe-c1b0cf8dc238",
        "colab": {
          "base_uri": "https://localhost:8080/",
          "height": 34
        }
      },
      "source": [
        "np.squeeze(np.asarray(vector_1.todense()))"
      ],
      "execution_count": 0,
      "outputs": [
        {
          "output_type": "execute_result",
          "data": {
            "text/plain": [
              "array([0., 0., 0., ..., 0., 0., 0.])"
            ]
          },
          "metadata": {
            "tags": []
          },
          "execution_count": 35
        }
      ]
    },
    {
      "cell_type": "code",
      "metadata": {
        "id": "FK0zGGCiFJCl",
        "colab_type": "code",
        "outputId": "73fb6092-51c2-4088-e88f-7b51517bb0d5",
        "colab": {
          "base_uri": "https://localhost:8080/",
          "height": 170
        }
      },
      "source": [
        "import pandas as pd\n",
        "df = pd.read_csv(\"harbour-space-text-mining-course/datasets/quora_question_pairs/train.csv\")\n",
        "print(df.iloc[7])\n",
        "\n",
        "# words 'good' and 'great' are similar, but have different TF-IDF representations\n",
        "# let's see if it makes any difference\n",
        "from sklearn.feature_extraction.text import TfidfVectorizer\n",
        "df.iloc[7][\"question1\"]\n",
        "vec = TfidfVectorizer()\n",
        "vec.fit(list(df[\"question1\"].fillna(\".\")) + list(df[\"question2\"].fillna(\".\")))\n",
        "\n",
        "question_1 =              \"How can I be a good geologist?\"\n",
        "question_2 =              \"What should I do to be a great geologist?\"\n",
        "question_2_reformulated = \"What should I do to be a good geologist?\"\n",
        "\n",
        "def row_to_array(sparse_matrix_row):\n",
        "    return np.squeeze(np.asarray(sparse_matrix_row.todense()))\n",
        "\n",
        "vector_1 = row_to_array(vec.transform([question_1]))\n",
        "vector_2 = row_to_array(vec.transform([question_2]))\n",
        "vector_2_reformulated = row_to_array(vec.transform([question_2_reformulated]))\n",
        "import numpy as np\n",
        "from scipy.spatial.distance import cosine\n",
        "# vector_2_reformulated is closer to vector_1 than vector_2\n",
        "print(\"vector_1 * vector_2:\", cosine(vector_1, vector_2))\n",
        "print(\"vector_1 * vector_2_reformulated:\", cosine(vector_1, vector_2_reformulated))"
      ],
      "execution_count": 0,
      "outputs": [
        {
          "output_type": "stream",
          "text": [
            "id                                                      7\n",
            "qid1                                                   15\n",
            "qid2                                                   16\n",
            "question1                  How can I be a good geologist?\n",
            "question2       What should I do to be a great geologist?\n",
            "is_duplicate                                            1\n",
            "Name: 7, dtype: object\n",
            "vector_1 * vector_2: 0.2393080067483847\n",
            "vector_1 * vector_2_reformulated: 0.10714690263538829\n"
          ],
          "name": "stdout"
        }
      ]
    },
    {
      "cell_type": "markdown",
      "metadata": {
        "id": "OLQjN62YJZNt",
        "colab_type": "text"
      },
      "source": [
        "# Word meanings. Distributional hypothesis."
      ]
    },
    {
      "cell_type": "markdown",
      "metadata": {
        "id": "zzqkeZTO8Odk",
        "colab_type": "text"
      },
      "source": [
        "## Colab quiz 1\n",
        "What is \"skibidi\"?"
      ]
    },
    {
      "cell_type": "code",
      "metadata": {
        "id": "qX09ii5f7fgi",
        "colab_type": "code",
        "outputId": "7c9bd10a-26fb-4a3a-b0b5-2956ecf7ffa8",
        "colab": {
          "base_uri": "https://localhost:8080/",
          "height": 363,
          "referenced_widgets": [
            "e711a00182eb4910b41a38408e232a24",
            "01c1c08bbb5a4e25b16820916e2e3085",
            "00560b71cd1b4d54aa948c3a3d598235",
            "3709e194bd7b49629ab62e460d8f4790",
            "5767f41f82334017a23eaec78dbd6071",
            "af7fe5a5dfd644ba86739d941af8e6b7",
            "138e998d90e444d0843e533f29eb9e1b",
            "109747b9acc04d0fba904531df3b6520",
            "aae3ef39fa0a465588ebc3e6f211593a",
            "886732374c6c491b8cc8d58fa6230cd9",
            "3f1f4d606253479391b9421174ff72cf",
            "645ee16c9f2a4344bbc8c739ceb13fd5",
            "462bcc3a557a4f658efd293a2ed0a55b",
            "8e234f0edd1248a49ca79384a3d4ef57",
            "7df7c62d3b634ff794e404f65bca3a18",
            "285e4ced9517421db61ed3d09da0f40f"
          ]
        }
      },
      "source": [
        "quiz_skibidi()()"
      ],
      "execution_count": 0,
      "outputs": [
        {
          "output_type": "display_data",
          "data": {
            "application/vnd.jupyter.widget-view+json": {
              "model_id": "e711a00182eb4910b41a38408e232a24",
              "version_minor": 0,
              "version_major": 2
            },
            "text/plain": [
              "VBox(children=(Output(), RadioButtons(options=('definition 1', 'definition 2', 'definition 3', 'definition 4')…"
            ]
          },
          "metadata": {
            "tags": []
          }
        }
      ]
    },
    {
      "cell_type": "markdown",
      "metadata": {
        "id": "x7AUEpSj5Osa",
        "colab_type": "text"
      },
      "source": [
        "Actually, neither the word \"skibidi\" nor the definitions 1-4 exist.\n",
        "This quiz was generated using https://www.thisworddoesnotexist.com/"
      ]
    },
    {
      "cell_type": "markdown",
      "metadata": {
        "id": "z9PVWFNoJgs1",
        "colab_type": "text"
      },
      "source": [
        "# word2vec: idea"
      ]
    },
    {
      "cell_type": "markdown",
      "metadata": {
        "id": "VkqgywE0xHaF",
        "colab_type": "text"
      },
      "source": [
        "## Colab demo: word2vec sliding window"
      ]
    },
    {
      "cell_type": "code",
      "metadata": {
        "id": "WNR55q1QPE62",
        "colab_type": "code",
        "outputId": "286678aa-3c5e-4e81-b073-f6cc05b19f41",
        "colab": {
          "base_uri": "https://localhost:8080/",
          "height": 83,
          "referenced_widgets": [
            "fbe23564ee0c4bbfb666c85df6140d22",
            "30d32c92e50f4261b4844037fdfc40b2",
            "fd349a888f924b7180dd74e810d72c34",
            "232d40d1ad3a41c9a045db62bda64474",
            "b4c4ed87a71748f6b7d21faa6a5e4241",
            "18116a1e18bd4049841ec715918bdbd6",
            "04631cfea8144b158a33bd9a8c247ce4",
            "bc4fca3d8df34bb494dec9641e4a435b",
            "43c59f0bbe314ab7ade3f66720bb9152",
            "ec9c3c8ff34a4bc6a03df1291052149d",
            "e981bb04abbd46e082eb8a5a03a069db",
            "979f35737c994b3bb34513c5a8c368d0"
          ]
        }
      },
      "source": [
        "demo_word2vec_batch(\"never gonna give you up never gonna let you down\".split(), 3)"
      ],
      "execution_count": 0,
      "outputs": [
        {
          "output_type": "display_data",
          "data": {
            "application/vnd.jupyter.widget-view+json": {
              "model_id": "fbe23564ee0c4bbfb666c85df6140d22",
              "version_minor": 0,
              "version_major": 2
            },
            "text/plain": [
              "VBox(children=(HBox(children=(Button(description='<<', style=ButtonStyle()), Button(description='>>', style=Bu…"
            ]
          },
          "metadata": {
            "tags": []
          }
        }
      ]
    },
    {
      "cell_type": "markdown",
      "metadata": {
        "id": "SgD3xmAISJFP",
        "colab_type": "text"
      },
      "source": [
        "## Colab demo: gradient descent"
      ]
    },
    {
      "cell_type": "code",
      "metadata": {
        "id": "iiHhgB0hSTai",
        "colab_type": "code",
        "outputId": "d7696894-dc36-49f5-b78f-5bcf9bf9764b",
        "colab": {
          "base_uri": "https://localhost:8080/",
          "height": 410,
          "referenced_widgets": [
            "d4c8c1b0c7004aad819845b5c627fe06",
            "92a11a392b1e4a919940c43829088bd1",
            "3ac603cc112b40ffb0bf2192a42695f2",
            "a89e29f64bbf4f1dbb79c81a854506e7",
            "18bbfdfec1984be691a28366c570ed17",
            "24e5d7a8471c4a46abfec2461d269c6e",
            "623c1b9965c740a08b85d2f8b5155e31"
          ]
        }
      },
      "source": [
        "demo_gradient_descent(lambda x: x**4 - x**3 - x**2 + 1, theta_0=-1, learning_rate=0.5)  # local minima\n",
        "# demo_gradient_descent(lambda x: x**2, theta_0=-1, learning_rate=1.1)  # divergence"
      ],
      "execution_count": 0,
      "outputs": [
        {
          "output_type": "display_data",
          "data": {
            "application/vnd.jupyter.widget-view+json": {
              "model_id": "d4c8c1b0c7004aad819845b5c627fe06",
              "version_minor": 0,
              "version_major": 2
            },
            "text/plain": [
              "VBox(children=(Button(description='next step', style=ButtonStyle()), Output()))"
            ]
          },
          "metadata": {
            "tags": []
          }
        }
      ]
    },
    {
      "cell_type": "markdown",
      "metadata": {
        "id": "Ty_viUrnTX7K",
        "colab_type": "text"
      },
      "source": [
        "## Colab quiz 2\n",
        "Choose the correct context"
      ]
    },
    {
      "cell_type": "code",
      "metadata": {
        "id": "oFuY_cNoTaZ9",
        "colab_type": "code",
        "outputId": "dbf2ee46-082c-471d-cdc1-94fe42668b85",
        "colab": {
          "base_uri": "https://localhost:8080/",
          "height": 253,
          "referenced_widgets": [
            "7c5d0d3fb3d949eaba8d3049d89e26ad",
            "74e8e4a56a2749a5a54c4aff545e67fb",
            "5572e02e18fc4013b87ca3fc1457da60",
            "9ba2365ffbe9489fa08248f5b918b81c",
            "b4a5e62522c04b4aa34b462f71e5d23e",
            "01a5c0e0d9cc469898fc87512521f78f",
            "44d1c0d1af794888b9d1d25a693a42d8",
            "523e87cd7f884036a96407c9d43ffcda",
            "8c340f3109e544c2a74e72113d6d828f",
            "027f7221df3e4f30ae553f2a38c88754",
            "75a608c96e1d4bdaad13efbdcce37278",
            "8e948d3f3e2b41b487eaa6403fd96853",
            "9e8f37c3a46f44ca8acea2e35cb7a38b",
            "899c9f994ca04be2bd6174876a28c861",
            "430b811f0fa94bff95c7cfe7378afe85",
            "81f4d6879e1141aaaa95ee8793142439"
          ]
        }
      },
      "source": [
        "quiz_word2vec_context()()"
      ],
      "execution_count": 0,
      "outputs": [
        {
          "output_type": "display_data",
          "data": {
            "application/vnd.jupyter.widget-view+json": {
              "model_id": "7c5d0d3fb3d949eaba8d3049d89e26ad",
              "version_minor": 0,
              "version_major": 2
            },
            "text/plain": [
              "VBox(children=(Output(), RadioButtons(options=('(the, brown)', '(the, quick, brown, fox)', '(the, brown, fox)'…"
            ]
          },
          "metadata": {
            "tags": []
          }
        }
      ]
    },
    {
      "cell_type": "markdown",
      "metadata": {
        "id": "DmOTcfQuJnDs",
        "colab_type": "text"
      },
      "source": [
        "# word2vec: algorithm"
      ]
    },
    {
      "cell_type": "code",
      "metadata": {
        "id": "3iUFbbRY8HuF",
        "colab_type": "code",
        "colab": {}
      },
      "source": [
        "import numpy as np\n",
        "from collections import Counter\n",
        "from scipy.special import softmax\n",
        "from scipy.special import expit as sigmoid  # \"expit\" is the inverse of \"logit\"\n",
        "from scipy.spatial.distance import cosine as cosine_distance\n",
        "\n",
        "class Word2Vec:\n",
        "    \"\"\"\n",
        "    This is an instructive implementation of skip-gram word2vec algorithm with negative sampling loss.\n",
        "    It is deliberately inefficient: it uses built-in Python data structures (dicts and lists)\n",
        "    instead of matrix-vector operations.\n",
        "\n",
        "    The recommended way to read the code is the following:\n",
        "    1. First, read the implementation of the `train()` method:\n",
        "        - Training loop: iterate few times (epochs) over the training data.\n",
        "          Number of epochs is provided in the `n_epoch` parameter,\n",
        "          and `self.learning_rate` is predefined step size of gradient descent.\n",
        "        - In each iteration, a batch (central_word and context_words) is generated.\n",
        "        - Too frequent words are discarded (subsampling).\n",
        "        - The gradients are computed and gradient step is performed.\n",
        "    2. Then look at the method `generate_batches()`.\n",
        "       It creates pairs (central word, [list of context words])\n",
        "       by moving sliding window of predefined size `self.window_size`.\n",
        "    3. Then check the `generate_negative_samples()` method.\n",
        "       Its implementation is short, but there are two important details:\n",
        "       - Sampling is performed with replacement. It mimics i.i.d. assumption:\n",
        "         negative samples must be independent.\n",
        "       - The central word and the context word are discarded from the set \n",
        "         of negative samples.\n",
        "    4. The most important part is how gradients are computed: the method `compute_gradients()`.\n",
        "       All the gradients are derived in this lecture; this method just implements them in Python code.\n",
        "    5. Then take a look at `build_vocabulary()`: it is mostly technical.\n",
        "    6. `get_vector()` method is just a one-liner, but pay attention to the fact\n",
        "       that we use only one of two matrices (the matrix of central vectors).\n",
        "    7. `get_similar_words()` method implements inefficient (O(|V|)) search of\n",
        "       words whose vectors are closest to the vector of the given word.\n",
        "    8. `__init__()` method just stores all hyperparameters and initializes necessary data structures.\n",
        "    \"\"\"\n",
        "    def __init__(\n",
        "        self,\n",
        "        window_size=2,\n",
        "        vector_size=10,\n",
        "        n_negative_samples=20,\n",
        "        learning_rate=1e-5,\n",
        "        seed=0\n",
        "    ):\n",
        "        self.window_size = window_size\n",
        "        self.learning_rate = learning_rate\n",
        "\n",
        "        self.vocab = Counter()\n",
        "\n",
        "        # how many dimensions each vector has\n",
        "        self.vector_size = vector_size\n",
        "        # vectors are initialized in .build_vocabulary() after the vocabulary is known\n",
        "        self.central_vectors = dict()  \n",
        "        self.context_vectors = dict()\n",
        "\n",
        "        # number of negative samples for each context word\n",
        "        self.n_negative_samples = n_negative_samples\n",
        "\n",
        "        # prepare vocabulary for negative sampling and sumsampling\n",
        "        self.words_array = []\n",
        "        self.negative_sampling_probabilities = []\n",
        "        self.subsampling_probabilities = dict()\n",
        "\n",
        "        np.random.seed(seed)\n",
        "\n",
        "    def build_vocabulary(self, sequences):\n",
        "        # count all the words\n",
        "        for sequence in sequences:\n",
        "            for word in sequence:\n",
        "                self.vocab[word] += 1\n",
        "\n",
        "        sum_counts_negative_sampling = sum(v**0.75 for v in self.vocab.values())\n",
        "        sum_counts_subsampling = sum(self.vocab.values())\n",
        "        for word, count in self.vocab.items():\n",
        "            self.words_array.append(word)\n",
        "            self.negative_sampling_probabilities.append(count**0.75 / sum_counts_negative_sampling)\n",
        "            word_frequency = count / sum_counts_subsampling\n",
        "            self.subsampling_probabilities[word] = (1 + np.sqrt(word_frequency / 0.001)) * 0.001 / word_frequency\n",
        "\n",
        "        # initialize vectors with small values around 0\n",
        "        for word in self.vocab:\n",
        "            self.central_vectors[word] = np.random.randn(self.vector_size) * 0.1\n",
        "            self.context_vectors[word] = np.random.randn(self.vector_size) * 0.1\n",
        "\n",
        "    def generate_batches(self, sequence):\n",
        "        # move sliding window over the sequence \n",
        "        # for each position of the window generate list of context words\n",
        "        # return list of lists pairs (central word, [context words])\n",
        "        batches = []\n",
        "        for i_central, central_word in enumerate(sequence):\n",
        "            # ignore the words outside of vocabulary (we don't have vectors for them)\n",
        "            if central_word not in self.vocab:\n",
        "                continue\n",
        "            context_words = []\n",
        "            # iterate from i_central - window_size, i_central + window_size\n",
        "            for i_context in range(i_central - self.window_size, i_central + self.window_size + 1):\n",
        "                # handle boundary cases\n",
        "                if i_context < 0 or i_context >= len(sequence):\n",
        "                    continue\n",
        "                # exclude the central word itself\n",
        "                if i_context == i_central:\n",
        "                    continue\n",
        "                context_word = sequence[i_context]\n",
        "                # ignore the words outside of vocabulary\n",
        "                if context_word not in self.vocab:\n",
        "                    continue\n",
        "                # update the batch that corresponds to the current central word\n",
        "                context_words.append(context_word)\n",
        "            # update batches with the collected batch\n",
        "            batches.append((central_word, context_words))\n",
        "        return batches\n",
        "\n",
        "    def generate_negative_samples(self, central_word, context_word):\n",
        "        negative_samples = np.random.choice(\n",
        "            self.words_array,\n",
        "            size=self.n_negative_samples,\n",
        "            replace=True,  # sampling with replacement: mimics i.i.d assumption\n",
        "            p=self.negative_sampling_probabilities\n",
        "        )\n",
        "        return [n for n in negative_samples if n != central_word and n != context_word]\n",
        "\n",
        "    def compute_gradients(self, central_word, context_word, negative_samples):\n",
        "        central_vector = self.central_vectors[central_word]\n",
        "\n",
        "        # accumulate gradient of the central word\n",
        "        central_word_gradient = np.zeros(self.vector_size)\n",
        "\n",
        "        context_word_vector = self.context_vectors[context_word]\n",
        "        context_words_gradient = -central_vector * (1 - sigmoid(np.dot(context_word_vector, central_vector)))\n",
        "\n",
        "        central_word_gradient += -context_word_vector * (1 - sigmoid(np.dot(context_word_vector, central_vector)))\n",
        "\n",
        "        # a word in negative sample can be sampled many times, so we accumulate gradients\n",
        "        negative_samples_gradients = {n: np.zeros(self.vector_size) for n in negative_samples}\n",
        "        for negative_sample in negative_samples:\n",
        "            negative_sample_vector = self.context_vectors[negative_sample]\n",
        "            negative_samples_gradients[negative_sample] += central_vector * (1 - sigmoid(-np.dot(negative_sample_vector, central_vector)))\n",
        "            central_word_gradient += negative_sample_vector * (1 - sigmoid(-np.dot(negative_sample_vector, central_vector)))\n",
        "\n",
        "        return central_word_gradient, context_words_gradient, negative_samples_gradients\n",
        "\n",
        "    def train(self, sequences, n_epoch=5):\n",
        "        T = 0\n",
        "        for epoch in range(n_epoch):\n",
        "            for sequence in sequences:\n",
        "                # learning rate decays proportional to the number of iterations\n",
        "                # similar to the original word2vec code\n",
        "                alpha = self.learning_rate * max(0.0001, (1 - T / (n_epoch * len(sequences))))\n",
        "                T += 1\n",
        "                for batch in self.generate_batches(sequence):\n",
        "                    central_word, context_words = batch\n",
        "\n",
        "                    # subsample: randomly discard too frequent words\n",
        "                    if np.random.random() > self.subsampling_probabilities[central_word]:\n",
        "                        continue\n",
        "\n",
        "                    for context_word in context_words:\n",
        "                        # generate negative samples\n",
        "                        # negative samples do not include the central word and the context word\n",
        "                        negative_samples = self.generate_negative_samples(central_word, context_word)\n",
        "\n",
        "                        # compute gradients\n",
        "                        central_word_gradient, context_word_gradient, negative_samples_gradients = self.compute_gradients(\n",
        "                            central_word, context_word, negative_samples\n",
        "                        )\n",
        "                        # perform one step of gradient descent: update all the parameters in direction opposite to gradient\n",
        "                        self.central_vectors[central_word] -= alpha * central_word_gradient\n",
        "                        self.context_vectors[context_word] -= alpha * context_word_gradient\n",
        "                        for negative_sample in negative_samples:\n",
        "                            self.context_vectors[negative_sample] -= alpha * negative_samples_gradients[negative_sample]\n",
        "\n",
        "    def get_vector(self, word):\n",
        "        return self.central_vectors[word]\n",
        "\n",
        "    def get_similar_words(self, word, k=10):\n",
        "        word_vector = self.get_vector(word)\n",
        "        cosine_similarities = [1 - 0.5 * cosine_distance(word_vector, self.get_vector(w)) for w in self.words_array]\n",
        "        return list(\n",
        "            reversed([\n",
        "                (self.words_array[i], cosine_similarities[i])\n",
        "                for i in np.argsort(cosine_similarities)[-k-1:-1]  # exclude the word itself\n",
        "            ])\n",
        "        )\n"
      ],
      "execution_count": 0,
      "outputs": []
    },
    {
      "cell_type": "code",
      "metadata": {
        "id": "iFkOzUEArFcU",
        "colab_type": "code",
        "outputId": "1ff1dce4-7e20-42e9-c960-1fa9feeb6093",
        "colab": {
          "base_uri": "https://localhost:8080/",
          "height": 272
        }
      },
      "source": [
        "# toy example: \"A\" and \"B\" always occur near X\n",
        "# all the other words (actually, characters) from the left and from the right are random\n",
        "from string import ascii_lowercase\n",
        "import random\n",
        "from pprint import pprint\n",
        "\n",
        "random.seed(0)\n",
        "n_examples = 1000\n",
        "# generate random left and right halves\n",
        "left_contexts = [random.choices(ascii_lowercase, k=5) for _ in range(n_examples)]\n",
        "right_contexts = [random.choices(ascii_lowercase, k=5) for _ in range(n_examples)]\n",
        "\n",
        "# insert \"XA\" and \"XB\" to the middle\n",
        "toy_dataset = [\n",
        "    l + list(\"XA\") + r for l, r in zip(left_contexts, right_contexts)\n",
        "] + [\n",
        "    l + list(\"XB\") + r for l, r in zip(left_contexts, right_contexts)\n",
        "]\n",
        "random.shuffle(toy_dataset)\n",
        "\n",
        "print(\"A few lines of the toy dataset:\")\n",
        "print(\"\\n\".join([\"\".join(t) for t in toy_dataset[:3]]))\n",
        "window_size = 1\n",
        "vector_size = 2\n",
        "learning_rate = 0.1\n",
        "n_epoch = 5\n",
        "n_negative_samples = 5\n",
        "word2vec = Word2Vec(\n",
        "    seed=1,\n",
        "    window_size=window_size,\n",
        "    vector_size=vector_size,\n",
        "    learning_rate=learning_rate,\n",
        "    n_negative_samples=n_negative_samples\n",
        ")\n",
        "word2vec.build_vocabulary(toy_dataset)\n",
        "word2vec.train(toy_dataset, n_epoch=n_epoch)\n",
        "print(\"Words most similar to 'A'\")\n",
        "pprint(word2vec.get_similar_words(\"A\"))"
      ],
      "execution_count": 0,
      "outputs": [
        {
          "output_type": "stream",
          "text": [
            "A few lines of the toy dataset:\n",
            "vohgkXAyfvap\n",
            "lgenmXAfojrf\n",
            "lpkohXBwinqm\n",
            "Words most similar to 'A'\n",
            "[('B', 0.9999876210481136),\n",
            " ('z', 0.957950766495169),\n",
            " ('a', 0.9129377419737473),\n",
            " ('k', 0.9053724127989855),\n",
            " ('i', 0.9034941870030813),\n",
            " ('b', 0.8990275152337034),\n",
            " ('n', 0.8655117493755606),\n",
            " ('g', 0.8500906263010772),\n",
            " ('t', 0.8474761246122444),\n",
            " ('m', 0.842807328160446)]\n"
          ],
          "name": "stdout"
        }
      ]
    },
    {
      "cell_type": "markdown",
      "metadata": {
        "id": "fM-u4-mWWdk1",
        "colab_type": "text"
      },
      "source": [
        "## Colab quiz 3\n",
        "\n",
        "How are word vectors computed?"
      ]
    },
    {
      "cell_type": "code",
      "metadata": {
        "id": "VJlKXB_-WfA3",
        "colab_type": "code",
        "outputId": "9fd8d401-8cf7-4285-b3ea-714adaa41b5f",
        "colab": {
          "base_uri": "https://localhost:8080/",
          "height": 225,
          "referenced_widgets": [
            "d83e74e2f369486d88fc2736cd353f8a",
            "23ab48d74e604529a98949c9d2d8d457",
            "c56eb76758b94b298a29b60ea3f44eb1",
            "75aa6499f18d43e3bec37f48fa674d6d",
            "7aa532f1f030417dbadf2e5677c74e06",
            "3cc4c30bd0704b658cd41a0bbcf8d7dd",
            "021d773e84a34ee7bcdde38b2846da70",
            "2c6fc8810d9c483ab56ae9d13247f3ac",
            "e0366192342d41e6a9d6080eaff99a13",
            "0f92def17fd64bb6a6d60e59cef45dfa",
            "e06c50f239c84d999f618d780aa23a04",
            "fe8e767b2c7f43beadee89d5be8bbf2f",
            "e50cb1d325d340508127bdf83b81c503",
            "63a2a15f1b2343d295811ec930632a87",
            "d1ad279c5ad74651a46d74999422343a",
            "e204a0bfee2f43deaf5de7f3a3aa2d7c"
          ]
        }
      },
      "source": [
        "quiz_word2vec_word_vector()()"
      ],
      "execution_count": 0,
      "outputs": [
        {
          "output_type": "display_data",
          "data": {
            "application/vnd.jupyter.widget-view+json": {
              "model_id": "d83e74e2f369486d88fc2736cd353f8a",
              "version_minor": 0,
              "version_major": 2
            },
            "text/plain": [
              "VBox(children=(Output(), RadioButtons(options=('Taken from the matrix of context vectors', 'Taken from the mat…"
            ]
          },
          "metadata": {
            "tags": []
          }
        }
      ]
    },
    {
      "cell_type": "markdown",
      "metadata": {
        "id": "0g2DUJydV21w",
        "colab_type": "text"
      },
      "source": [
        "## Colab quiz 4\n",
        "\n",
        "Which words are subsampled?"
      ]
    },
    {
      "cell_type": "code",
      "metadata": {
        "id": "yimy-T6YV4UF",
        "colab_type": "code",
        "outputId": "9b3ae95d-253b-4cbd-d99e-7614333d3288",
        "colab": {
          "base_uri": "https://localhost:8080/",
          "height": 197,
          "referenced_widgets": [
            "af8047ca28e74207835b2477a31ac732",
            "b12fa676cee44891bdc7d5d5649e8b58",
            "bd24f1121ba84a4cadb7c8fcd2a0ec09",
            "e980d0c0a6004a79b941fc47cd37759b",
            "4ce2cdef55824e7494e0fd623d187d85",
            "a11be966050b41e5b1c9b4045b3c4e69",
            "797282751d0c41128ca1937058693668",
            "f431b66966ce4c90bddd07301c51ac58",
            "f93b6a38f9644c2d883fc71e0807e39b",
            "18f3c8adbac346088b0b811a3faa1d71",
            "2e0222d1d72d4675a763c0ea0581f70e",
            "9cdb35028038433ea06d4a0d7c9f097c",
            "fbddf760d63d45eeb441124ed4b448cd",
            "aa5f522124db4d79b369e6780db9b6b6",
            "650232e2644042faa622c682a6b8de38",
            "356debe03e6b492482cac35f0b006fbf"
          ]
        }
      },
      "source": [
        "quiz_word2vec_subsampling()()"
      ],
      "execution_count": 0,
      "outputs": [
        {
          "output_type": "display_data",
          "data": {
            "application/vnd.jupyter.widget-view+json": {
              "model_id": "af8047ca28e74207835b2477a31ac732",
              "version_minor": 0,
              "version_major": 2
            },
            "text/plain": [
              "VBox(children=(Output(), RadioButtons(options=('Central words', 'Context words', 'Negative samples', 'All of t…"
            ]
          },
          "metadata": {
            "tags": []
          }
        }
      ]
    },
    {
      "cell_type": "markdown",
      "metadata": {
        "id": "QdGKcJ-AV9xq",
        "colab_type": "text"
      },
      "source": [
        "## Colab quiz 5\n",
        "\n",
        "Details of negative sampling"
      ]
    },
    {
      "cell_type": "code",
      "metadata": {
        "id": "oObLIsyZWNsB",
        "colab_type": "code",
        "outputId": "3e4a4eff-6f98-44bf-d6af-a88a9248caa0",
        "colab": {
          "base_uri": "https://localhost:8080/",
          "height": 197,
          "referenced_widgets": [
            "23ebac17c7c5420781ddd6c8f75d6e96",
            "c6ea6d392aa44e84a507ef8c282dd32b",
            "a863f60aeee941a48bbd0b43e0f41b94",
            "44305b45bec64f70886748e31698114f",
            "21a5a14c05124209a5cb5a6d6fdec09c",
            "b46893ffc1734492a547d3098addf2a3",
            "d03f45b7f19242548b3958ff1817dbdc",
            "72787a12369141c3a85bc6673829bc75",
            "258732011c8848989aaa934513b97bb4",
            "d7433cf5ff5f4890a98bdb3b1b8fc06b",
            "5d177ec7878b41879d59c4f873448c0e",
            "3489da4c51314451af011f04b52c1a31",
            "ebdf80eddcc24de9893a92ab9df635da",
            "6d7f6d5061da41c6b00f0ac37b3164d6",
            "4635020e70f24d7a8e240757415c31ca",
            "7d6ad546b9934e23878aada36d8208b0"
          ]
        }
      },
      "source": [
        "quiz_word2vec_negative_sampling()()"
      ],
      "execution_count": 0,
      "outputs": [
        {
          "output_type": "display_data",
          "data": {
            "application/vnd.jupyter.widget-view+json": {
              "model_id": "23ebac17c7c5420781ddd6c8f75d6e96",
              "version_minor": 0,
              "version_major": 2
            },
            "text/plain": [
              "VBox(children=(Output(), RadioButtons(options=('without replacement; negative samples are i.i.d.', 'with repla…"
            ]
          },
          "metadata": {
            "tags": []
          }
        }
      ]
    },
    {
      "cell_type": "markdown",
      "metadata": {
        "id": "ed79xvIsVmUU",
        "colab_type": "text"
      },
      "source": [
        "## Derivation of gradients"
      ]
    },
    {
      "cell_type": "markdown",
      "metadata": {
        "id": "F352RwUBVo_X",
        "colab_type": "text"
      },
      "source": [
        "## Exercise 1\n",
        "Derive the gradient"
      ]
    },
    {
      "cell_type": "markdown",
      "metadata": {
        "id": "z9g-xSuyVr8A",
        "colab_type": "text"
      },
      "source": [
        "## Exercise 2\n",
        "\n",
        "Derive the gradient"
      ]
    },
    {
      "cell_type": "markdown",
      "metadata": {
        "id": "qZAMIjFAJyhz",
        "colab_type": "text"
      },
      "source": [
        "# word2vec in gensim"
      ]
    },
    {
      "cell_type": "markdown",
      "metadata": {
        "id": "Qu5mpaClbTYH",
        "colab_type": "text"
      },
      "source": [
        "## How to train"
      ]
    },
    {
      "cell_type": "code",
      "metadata": {
        "id": "15DlND7gVet4",
        "colab_type": "code",
        "outputId": "b983bd81-ee90-49c4-9b41-ad73e2460c7c",
        "colab": {
          "base_uri": "https://localhost:8080/",
          "height": 258
        }
      },
      "source": [
        "print(\"Words most similar to 'A' (gensim implementation)\")\n",
        "from gensim.models import Word2Vec as Word2Vec\n",
        "\n",
        "gensim_word2vec = Word2Vec(\n",
        "    sg=1,  # skip-gram\n",
        "    hs=0,  # negative sampling\n",
        "    size=vector_size,\n",
        "    window=window_size,\n",
        "    alpha=learning_rate,\n",
        "    negative=n_negative_samples\n",
        ")\n",
        "gensim_word2vec.build_vocab(toy_dataset)\n",
        "gensim_word2vec.train(toy_dataset, total_examples=len(toy_dataset), epochs=n_epoch)\n",
        "pprint(gensim_word2vec.wv.most_similar(\"A\"))"
      ],
      "execution_count": 0,
      "outputs": [
        {
          "output_type": "stream",
          "text": [
            "Words most similar to 'A' (gensim implementation)\n",
            "[('B', 0.998858630657196),\n",
            " ('r', 0.8648688793182373),\n",
            " ('v', 0.8459551930427551),\n",
            " ('d', 0.818452000617981),\n",
            " ('l', 0.8164636492729187),\n",
            " ('p', 0.8162599802017212),\n",
            " ('e', 0.7865331172943115),\n",
            " ('z', 0.7710384130477905),\n",
            " ('j', 0.7568649649620056),\n",
            " ('m', 0.7528473734855652)]\n"
          ],
          "name": "stdout"
        },
        {
          "output_type": "stream",
          "text": [
            "/usr/local/lib/python3.6/dist-packages/gensim/matutils.py:737: FutureWarning: Conversion of the second argument of issubdtype from `int` to `np.signedinteger` is deprecated. In future, it will be treated as `np.int64 == np.dtype(int).type`.\n",
            "  if np.issubdtype(vec.dtype, np.int):\n"
          ],
          "name": "stderr"
        }
      ]
    },
    {
      "cell_type": "code",
      "metadata": {
        "id": "XLRju_9VfmgA",
        "colab_type": "code",
        "outputId": "901f35da-bf79-46ea-c712-cdd96d73f247",
        "colab": {
          "base_uri": "https://localhost:8080/",
          "height": 66,
          "referenced_widgets": [
            "d4e94c3714d5493c920a13e1b0c31f57",
            "9bd6193fffa74da3bad48b88f8a396c0",
            "91d9721adb0844de9d0ef9fef0d55b70",
            "b851951bbadd4926838235120aaedf79",
            "c1cf160564894471b2e219a982493475",
            "f2e619ea5864489b88c448ced1e58cdd",
            "c7a9d1037e6a41ebbe0af251e1000517",
            "fe9fea9463fc4af6996efa76dd8e4608"
          ]
        }
      },
      "source": [
        "# try real dataset\n",
        "from sklearn.datasets import fetch_20newsgroups\n",
        "dataset = fetch_20newsgroups(\n",
        "    subset=\"all\",\n",
        "    shuffle=True,\n",
        "    random_state=1,\n",
        "    remove=('headers', 'footers', 'quotes')\n",
        ")\n",
        "\n",
        "from tqdm.notebook import tqdm\n",
        "import spacy\n",
        "\n",
        "# extract tokens (lemmas) with spaCy\n",
        "# keep only nouns, adjectives, verbs and adverbs\n",
        "nlp = spacy.load(\"en\", disable=['parser', 'ner', 'tagger'])\n",
        "def tokens(s):\n",
        "    return [t.lemma_ for t in nlp(s)]\n",
        "\n",
        "texts = [tokens(text) for text in tqdm(dataset.data, desc=\"tokenize\")]"
      ],
      "execution_count": 0,
      "outputs": [
        {
          "output_type": "display_data",
          "data": {
            "application/vnd.jupyter.widget-view+json": {
              "model_id": "d4e94c3714d5493c920a13e1b0c31f57",
              "version_minor": 0,
              "version_major": 2
            },
            "text/plain": [
              "HBox(children=(FloatProgress(value=0.0, description='tokenize', max=18846.0, style=ProgressStyle(description_w…"
            ]
          },
          "metadata": {
            "tags": []
          }
        },
        {
          "output_type": "stream",
          "text": [
            "\n"
          ],
          "name": "stdout"
        }
      ]
    },
    {
      "cell_type": "code",
      "metadata": {
        "id": "EIsfauQZgDUb",
        "colab_type": "code",
        "colab": {}
      },
      "source": [
        "# initialize, build vocabulary and train at once\n",
        "gensim_word2vec = Word2Vec(\n",
        "    texts,\n",
        "    sg=1,  # skip-gram\n",
        "    hs=0,  # negative sampling\n",
        "    size=32,\n",
        "    window=5,  # context is a 5-word window around the target word\n",
        "    min_count=5  # ignore words that occur less than 5 times\n",
        ").wv  # \"wv\" stands for \"word vectors\""
      ],
      "execution_count": 0,
      "outputs": []
    },
    {
      "cell_type": "code",
      "metadata": {
        "id": "QEGwLcxkit-N",
        "colab_type": "code",
        "outputId": "9c480db0-db7f-48ee-bd82-a416f34261bd",
        "colab": {
          "base_uri": "https://localhost:8080/",
          "height": 187
        }
      },
      "source": [
        "gensim_word2vec.most_similar(\"space\")"
      ],
      "execution_count": 0,
      "outputs": [
        {
          "output_type": "execute_result",
          "data": {
            "text/plain": [
              "[('satellite', 0.8594409227371216),\n",
              " ('exploration', 0.8373710513114929),\n",
              " ('interstellar', 0.818328857421875),\n",
              " ('constraint', 0.8176926970481873),\n",
              " ('projection', 0.8134022355079651),\n",
              " ('invest', 0.8124356269836426),\n",
              " ('lunar', 0.8121957778930664),\n",
              " ('navigation', 0.810688853263855),\n",
              " ('transport', 0.810165524482727),\n",
              " ('colony', 0.8095486164093018)]"
            ]
          },
          "metadata": {
            "tags": []
          },
          "execution_count": 23
        }
      ]
    },
    {
      "cell_type": "code",
      "metadata": {
        "id": "J1YWPktljLrG",
        "colab_type": "code",
        "outputId": "4f109b4a-62a8-4877-969a-b95d3e927658",
        "colab": {
          "base_uri": "https://localhost:8080/",
          "height": 187
        }
      },
      "source": [
        "gensim_word2vec.most_similar(\"gif\")"
      ],
      "execution_count": 0,
      "outputs": [
        {
          "output_type": "execute_result",
          "data": {
            "text/plain": [
              "[('PCX', 0.9543694257736206),\n",
              " ('BMP', 0.954302191734314),\n",
              " ('Targa', 0.9317119121551514),\n",
              " ('JPG', 0.9163984060287476),\n",
              " ('PICT', 0.911790132522583),\n",
              " ('MPEG', 0.9062026143074036),\n",
              " ('TIFF', 0.9037772417068481),\n",
              " ('PPM', 0.9029632806777954),\n",
              " ('xpm', 0.9008678793907166),\n",
              " ('bitmaps', 0.899631142616272)]"
            ]
          },
          "metadata": {
            "tags": []
          },
          "execution_count": 26
        }
      ]
    },
    {
      "cell_type": "code",
      "metadata": {
        "id": "7-vdgFv1jTs4",
        "colab_type": "code",
        "outputId": "6224f8ac-07b6-4718-ee05-e7b28d0cb245",
        "colab": {
          "base_uri": "https://localhost:8080/",
          "height": 187
        }
      },
      "source": [
        "gensim_word2vec.most_similar(\"hockey\")"
      ],
      "execution_count": 0,
      "outputs": [
        {
          "output_type": "execute_result",
          "data": {
            "text/plain": [
              "[('baseball', 0.9595075845718384),\n",
              " ('NHL', 0.8969776630401611),\n",
              " ('basketball', 0.8906586170196533),\n",
              " ('ESPN', 0.8813546299934387),\n",
              " ('playoff', 0.8692588806152344),\n",
              " ('football', 0.8609351515769958),\n",
              " ('team', 0.8584728240966797),\n",
              " ('league', 0.8549729585647583),\n",
              " ('talent', 0.8443048000335693),\n",
              " ('game', 0.837999165058136)]"
            ]
          },
          "metadata": {
            "tags": []
          },
          "execution_count": 29
        }
      ]
    },
    {
      "cell_type": "markdown",
      "metadata": {
        "id": "A48Ke60ubVdb",
        "colab_type": "text"
      },
      "source": [
        "## Pre-trained vectors"
      ]
    },
    {
      "cell_type": "code",
      "metadata": {
        "id": "PKx66YxwbXDY",
        "colab_type": "code",
        "outputId": "93237f47-32a9-4f3c-ea0e-3e66fd4cd1e6",
        "colab": {
          "base_uri": "https://localhost:8080/",
          "height": 534
        }
      },
      "source": [
        "import gensim.downloader as api\n",
        "\n",
        "# list all available models\n",
        "from tabulate import tabulate\n",
        "from IPython.display import display, HTML\n",
        "all_gensim_models = api.info()[\"models\"]\n",
        "gensim_model_description = [(m, all_gensim_models[m][\"description\"]) for m in all_gensim_models]\n",
        "display(HTML(tabulate(gensim_model_description, headers=(\"model name\", \"description\"), tablefmt=\"html\")))"
      ],
      "execution_count": 0,
      "outputs": [
        {
          "output_type": "display_data",
          "data": {
            "text/html": [
              "<table>\n",
              "<thead>\n",
              "<tr><th>model name                        </th><th>description                                                                                                                                                                                                                                                                                                                                                                                                                                                                                                                                                                                                  </th></tr>\n",
              "</thead>\n",
              "<tbody>\n",
              "<tr><td>fasttext-wiki-news-subwords-300   </td><td>1 million word vectors trained on Wikipedia 2017, UMBC webbase corpus and statmt.org news dataset (16B tokens).                                                                                                                                                                                                                                                                                                                                                                                                                                                                                              </td></tr>\n",
              "<tr><td>conceptnet-numberbatch-17-06-300  </td><td>ConceptNet Numberbatch consists of state-of-the-art semantic vectors (also known as word embeddings) that can be used directly as a representation of word meanings or as a starting point for further machine learning. ConceptNet Numberbatch is part of the ConceptNet open data project. ConceptNet provides lots of ways to compute with word meanings, one of which is word embeddings. ConceptNet Numberbatch is a snapshot of just the word embeddings. It is built using an ensemble that combines data from ConceptNet, word2vec, GloVe, and OpenSubtitles 2016, using a variation on retrofitting.</td></tr>\n",
              "<tr><td>word2vec-ruscorpora-300           </td><td>Word2vec Continuous Skipgram vectors trained on full Russian National Corpus (about 250M words). The model contains 185K words.                                                                                                                                                                                                                                                                                                                                                                                                                                                                              </td></tr>\n",
              "<tr><td>word2vec-google-news-300          </td><td>Pre-trained vectors trained on a part of the Google News dataset (about 100 billion words). The model contains 300-dimensional vectors for 3 million words and phrases. The phrases were obtained using a simple data-driven approach described in &#x27;Distributed Representations of Words and Phrases and their Compositionality&#x27; (https://code.google.com/archive/p/word2vec/).                                                                                                                                                                                                                              </td></tr>\n",
              "<tr><td>glove-wiki-gigaword-50            </td><td>Pre-trained vectors based on Wikipedia 2014 + Gigaword, 5.6B tokens, 400K vocab, uncased (https://nlp.stanford.edu/projects/glove/).                                                                                                                                                                                                                                                                                                                                                                                                                                                                         </td></tr>\n",
              "<tr><td>glove-wiki-gigaword-100           </td><td>Pre-trained vectors based on Wikipedia 2014 + Gigaword 5.6B tokens, 400K vocab, uncased (https://nlp.stanford.edu/projects/glove/).                                                                                                                                                                                                                                                                                                                                                                                                                                                                          </td></tr>\n",
              "<tr><td>glove-wiki-gigaword-200           </td><td>Pre-trained vectors based on Wikipedia 2014 + Gigaword, 5.6B tokens, 400K vocab, uncased (https://nlp.stanford.edu/projects/glove/).                                                                                                                                                                                                                                                                                                                                                                                                                                                                         </td></tr>\n",
              "<tr><td>glove-wiki-gigaword-300           </td><td>Pre-trained vectors based on Wikipedia 2014 + Gigaword, 5.6B tokens, 400K vocab, uncased (https://nlp.stanford.edu/projects/glove/).                                                                                                                                                                                                                                                                                                                                                                                                                                                                         </td></tr>\n",
              "<tr><td>glove-twitter-25                  </td><td>Pre-trained vectors based on 2B tweets, 27B tokens, 1.2M vocab, uncased (https://nlp.stanford.edu/projects/glove/).                                                                                                                                                                                                                                                                                                                                                                                                                                                                                          </td></tr>\n",
              "<tr><td>glove-twitter-50                  </td><td>Pre-trained vectors based on 2B tweets, 27B tokens, 1.2M vocab, uncased (https://nlp.stanford.edu/projects/glove/)                                                                                                                                                                                                                                                                                                                                                                                                                                                                                           </td></tr>\n",
              "<tr><td>glove-twitter-100                 </td><td>Pre-trained vectors based on  2B tweets, 27B tokens, 1.2M vocab, uncased (https://nlp.stanford.edu/projects/glove/)                                                                                                                                                                                                                                                                                                                                                                                                                                                                                          </td></tr>\n",
              "<tr><td>glove-twitter-200                 </td><td>Pre-trained vectors based on 2B tweets, 27B tokens, 1.2M vocab, uncased (https://nlp.stanford.edu/projects/glove/).                                                                                                                                                                                                                                                                                                                                                                                                                                                                                          </td></tr>\n",
              "<tr><td>__testing_word2vec-matrix-synopsis</td><td>[THIS IS ONLY FOR TESTING] Word vecrors of the movie matrix.                                                                                                                                                                                                                                                                                                                                                                                                                                                                                                                                                 </td></tr>\n",
              "</tbody>\n",
              "</table>"
            ],
            "text/plain": [
              "<IPython.core.display.HTML object>"
            ]
          },
          "metadata": {
            "tags": []
          }
        }
      ]
    },
    {
      "cell_type": "code",
      "metadata": {
        "id": "8yCHnqd3lOQd",
        "colab_type": "code",
        "colab": {}
      },
      "source": [
        "# load relatively small (128MB) model\n",
        "model = api.load(\"glove-wiki-gigaword-100\")"
      ],
      "execution_count": 0,
      "outputs": []
    },
    {
      "cell_type": "code",
      "metadata": {
        "id": "FWx4ur_tmvhk",
        "colab_type": "code",
        "outputId": "1bebc6d2-20d8-4d81-e3a8-b2d234981dce",
        "colab": {
          "base_uri": "https://localhost:8080/",
          "height": 187
        }
      },
      "source": [
        "model.most_similar(\"hockey\")"
      ],
      "execution_count": 0,
      "outputs": [
        {
          "output_type": "execute_result",
          "data": {
            "text/plain": [
              "[('basketball', 0.8041675090789795),\n",
              " ('football', 0.7833694219589233),\n",
              " ('nhl', 0.7604307532310486),\n",
              " ('soccer', 0.7440757751464844),\n",
              " ('baseball', 0.7312085628509521),\n",
              " ('league', 0.7092335224151611),\n",
              " ('skating', 0.670417070388794),\n",
              " ('lacrosse', 0.6691610813140869),\n",
              " ('team', 0.6619707345962524),\n",
              " ('games', 0.6571609973907471)]"
            ]
          },
          "metadata": {
            "tags": []
          },
          "execution_count": 5
        }
      ]
    },
    {
      "cell_type": "markdown",
      "metadata": {
        "id": "Kuj7YzeeoIUf",
        "colab_type": "text"
      },
      "source": [
        "## Colab quiz 6\n",
        "\n",
        "What is the most similar to \"twitter\"?"
      ]
    },
    {
      "cell_type": "code",
      "metadata": {
        "id": "aA0qJsVinmLO",
        "colab_type": "code",
        "outputId": "624ea51c-94ff-4a4a-e827-d38b6306bc13",
        "colab": {
          "base_uri": "https://localhost:8080/",
          "height": 197,
          "referenced_widgets": [
            "36727a1512614d869239c976bec72076",
            "e0a7fdf2426047279a993efc098d28c7",
            "6f6e74b4d1cc40e59103fb9869c486f9",
            "d0356a08d25e4ea3899b5b5e86f54d77",
            "c95dffa50d3f4ab59939f5ca7d9c3c3c",
            "2a25c72d5c824bed9570cf38b2033533",
            "15b197d7a9bb493bbeb36b40af0bf80f",
            "1364762ac71644c9af85235c2bac8bd5",
            "f827211b9a9b4e7daa2ed2b68dbcf85f",
            "ade366157f8d4f77829139e861063893",
            "a2a0b5ba8c994f83bf092a513c08c725",
            "0649f9f1d81b49618718aee370fa8780",
            "d315ce62d9064bc38620f18d1a277b22",
            "59d1cf0756cb40899931fa17deb45c98",
            "834610aa413d4dde823df3cd817c39c9",
            "dd8e155607ee439a98afd24f6d96ac20"
          ]
        }
      },
      "source": [
        "quiz_most_similar()()"
      ],
      "execution_count": 0,
      "outputs": [
        {
          "output_type": "display_data",
          "data": {
            "application/vnd.jupyter.widget-view+json": {
              "model_id": "36727a1512614d869239c976bec72076",
              "version_minor": 0,
              "version_major": 2
            },
            "text/plain": [
              "VBox(children=(Output(), RadioButtons(options=('instagram', 'facebook', 'youtube', 'internet'), value='instagr…"
            ]
          },
          "metadata": {
            "tags": []
          }
        }
      ]
    },
    {
      "cell_type": "markdown",
      "metadata": {
        "id": "2ps1l2bbJ3sM",
        "colab_type": "text"
      },
      "source": [
        "# Visualization of word vectors"
      ]
    },
    {
      "cell_type": "markdown",
      "metadata": {
        "id": "1_kJQ_FIK1FX",
        "colab_type": "text"
      },
      "source": [
        "## Principal Component Analysis (PCA)\n",
        "![PCA of a multivariate Gaussian distribution centered at (1,3) with a standard deviation of 3 in roughly the (0.866, 0.5) direction and of 1 in the orthogonal direction.](https://upload.wikimedia.org/wikipedia/commons/f/f5/GaussianScatterPCA.svg)"
      ]
    },
    {
      "cell_type": "code",
      "metadata": {
        "id": "5-bmGXPQOROg",
        "colab_type": "code",
        "outputId": "71af1e21-4f15-487c-dd85-de44119e40d5",
        "colab": {
          "base_uri": "https://localhost:8080/",
          "height": 333
        }
      },
      "source": [
        "# project 2-dimensional ellipsoid onto a 1-dimensional line\n",
        "# in other words: explain each point with a single number\n",
        "def rotation_matrix(radians):\n",
        "    c, s = np.cos(radians), np.sin(radians)\n",
        "    return np.matrix([[c, s], [-s, c]])\n",
        "\n",
        "def generate_cloud(size, var1, var2, radians):\n",
        "    import numpy as np\n",
        "    j = rotation_matrix(radians)\n",
        "    return np.asarray(np.random.multivariate_normal([0., 0.], [[var1, 0], [0, var2]], size=size) @ j)\n",
        "\n",
        "cloud = generate_cloud(100, 0.5, 20, 0.5)\n",
        "import matplotlib.pyplot as plt\n",
        "\n",
        "plt.scatter(cloud[:, 0], cloud[:, 1])\n",
        "plt.axis(\"equal\")"
      ],
      "execution_count": 0,
      "outputs": [
        {
          "output_type": "execute_result",
          "data": {
            "text/plain": [
              "(-6.581974524964871,\n",
              " 6.159690530073089,\n",
              " -10.478850453558627,\n",
              " 10.517391036705472)"
            ]
          },
          "metadata": {
            "tags": []
          },
          "execution_count": 98
        },
        {
          "output_type": "display_data",
          "data": {
            "image/png": "[encoded data removed]",
            "text/plain": [
              "<Figure size 432x288 with 1 Axes>"
            ]
          },
          "metadata": {
            "tags": [],
            "needs_background": "light"
          }
        }
      ]
    },
    {
      "cell_type": "code",
      "metadata": {
        "id": "4g_8Xra1SV2k",
        "colab_type": "code",
        "outputId": "aabb8644-ff3d-4089-faa5-cf1f0114a8f4",
        "colab": {
          "base_uri": "https://localhost:8080/",
          "height": 333
        }
      },
      "source": [
        "# find the rotation angle via slope\n",
        "from sklearn.linear_model import LinearRegression\n",
        "clf = LinearRegression()\n",
        "clf.fit(cloud[:, 0].reshape(-1, 1), cloud[:, 1])\n",
        "# clf.coef_ is the slope = tan(rotation angles)\n",
        "# rotate back\n",
        "angle_to_rotate = -np.arctan(clf.coef_).item()\n",
        "rotated_cloud = np.asarray(cloud @ rotation_matrix(angle_to_rotate))\n",
        "plt.scatter(\n",
        "    rotated_cloud[:, 0],  # the first principal component\n",
        "    rotated_cloud[:, 1]\n",
        ")\n",
        "plt.axis(\"equal\")"
      ],
      "execution_count": 0,
      "outputs": [
        {
          "output_type": "execute_result",
          "data": {
            "text/plain": [
              "(-11.877191450976502,\n",
              " 12.127730069548091,\n",
              " -1.8950148271686937,\n",
              " 2.2126203675280673)"
            ]
          },
          "metadata": {
            "tags": []
          },
          "execution_count": 99
        },
        {
          "output_type": "display_data",
          "data": {
            "image/png": "[encoded data removed]",
            "text/plain": [
              "<Figure size 432x288 with 1 Axes>"
            ]
          },
          "metadata": {
            "tags": [],
            "needs_background": "light"
          }
        }
      ]
    },
    {
      "cell_type": "code",
      "metadata": {
        "id": "1pwF-QVbRjoe",
        "colab_type": "code",
        "outputId": "f15bd1b3-0091-4860-9efb-1900dee99a6a",
        "colab": {
          "base_uri": "https://localhost:8080/",
          "height": 333
        }
      },
      "source": [
        "from sklearn.decomposition import PCA\n",
        "trf = PCA()\n",
        "result = trf.fit_transform(cloud)\n",
        "\n",
        "plt.scatter(result[:, 0], result[:, 1])\n",
        "plt.axis(\"equal\")"
      ],
      "execution_count": 0,
      "outputs": [
        {
          "output_type": "execute_result",
          "data": {
            "text/plain": [
              "(-11.368042128047925,\n",
              " 12.658875935944241,\n",
              " -2.1263203330082066,\n",
              " 2.136132845397986)"
            ]
          },
          "metadata": {
            "tags": []
          },
          "execution_count": 100
        },
        {
          "output_type": "display_data",
          "data": {
            "image/png": "[encoded data removed]",
            "text/plain": [
              "<Figure size 432x288 with 1 Axes>"
            ]
          },
          "metadata": {
            "tags": [],
            "needs_background": "light"
          }
        }
      ]
    },
    {
      "cell_type": "code",
      "metadata": {
        "id": "kbe00Hoxo9c6",
        "colab_type": "code",
        "outputId": "c23d79e5-0f81-452d-e49e-1f3f96325099",
        "colab": {
          "base_uri": "https://localhost:8080/",
          "height": 374
        }
      },
      "source": [
        "display_pca_scatterplot(\n",
        "    model,\n",
        "    ['coffee', 'tea', 'beer', 'wine', 'brandy', 'rum', 'champagne', 'water',\n",
        "    'spaghetti', 'borscht', 'hamburger', 'pizza', 'falafel', 'sushi', 'meatballs',\n",
        "    'dog', 'horse', 'cat', 'monkey', 'parrot', 'koala', 'lizard',\n",
        "    'frog', 'toad', 'monkey', 'ape', 'kangaroo', 'wombat', 'wolf',\n",
        "    'france', 'germany', 'hungary', 'luxembourg', 'australia', 'fiji', 'china',\n",
        "    'homework', 'assignment', 'problem', 'exam', 'test', 'class',\n",
        "    'school', 'college', 'university', 'institute']\n",
        ")"
      ],
      "execution_count": 0,
      "outputs": [
        {
          "output_type": "display_data",
          "data": {
            "image/png": "[encoded data removed]",
            "text/plain": [
              "<Figure size 432x432 with 1 Axes>"
            ]
          },
          "metadata": {
            "tags": [],
            "needs_background": "light"
          }
        }
      ]
    },
    {
      "cell_type": "markdown",
      "metadata": {
        "id": "BTye0Kn1LYIN",
        "colab_type": "text"
      },
      "source": [
        "https://projector.tensorflow.org/"
      ]
    },
    {
      "cell_type": "markdown",
      "metadata": {
        "id": "NceO4M0NJ1qq",
        "colab_type": "text"
      },
      "source": [
        "# Properties of word vectors"
      ]
    },
    {
      "cell_type": "code",
      "metadata": {
        "id": "xaktqcwqycaf",
        "colab_type": "code",
        "outputId": "357934a7-96f7-4799-9960-328f73d9ac77",
        "colab": {
          "base_uri": "https://localhost:8080/",
          "height": 374
        }
      },
      "source": [
        "display_pca_scatterplot(\n",
        "    model,\n",
        "    [\n",
        "        \"china\", \"beijing\",\n",
        "        \"russia\", \"moscow\",\n",
        "        \"turkey\", \"ankara\",\n",
        "        \"poland\", \"warsaw\",\n",
        "        \"germany\", \"berlin\",\n",
        "    ]\n",
        ")"
      ],
      "execution_count": 0,
      "outputs": [
        {
          "output_type": "display_data",
          "data": {
            "image/png": "[encoded data removed]",
            "text/plain": [
              "<Figure size 432x432 with 1 Axes>"
            ]
          },
          "metadata": {
            "tags": [],
            "needs_background": "light"
          }
        }
      ]
    },
    {
      "cell_type": "markdown",
      "metadata": {
        "id": "s_3xDG6S7NC1",
        "colab_type": "text"
      },
      "source": [
        "For example, \n",
        "$$\n",
        "\\overrightarrow{\\mathrm{Warsaw}} - \\overrightarrow{\\mathrm{Poland}} \\approx  \\overrightarrow{\\mathrm{Moscow}} - \\overrightarrow{\\mathrm{Russia}}\n",
        "$$\n",
        "or, equivalently\n",
        "$$\n",
        "\\overrightarrow{\\mathrm{Warsaw}} - \\overrightarrow{\\mathrm{Poland}}  + \\overrightarrow{\\mathrm{Russia}} \\approx \\overrightarrow{\\mathrm{Moscow}}\n",
        "$$\n",
        "\n",
        "Thus, word vectors represent some (but not all!) relations between words (\"Warsaw is related to Poland the same way Moscow is related to Russia\")."
      ]
    },
    {
      "cell_type": "code",
      "metadata": {
        "id": "cRnrlx0A5ibR",
        "colab_type": "code",
        "outputId": "a1ac7840-7bd0-4bdb-8686-5b2540e53923",
        "colab": {
          "base_uri": "https://localhost:8080/",
          "height": 68
        }
      },
      "source": [
        "from scipy.spatial.distance import cosine\n",
        "print(\"Distance between <warsaw> and <moscow>:\", cosine(model[\"warsaw\"], model[\"moscow\"]))\n",
        "print(\"Distance between <poland> and <russia>:\", cosine(model[\"poland\"], model[\"russia\"]))\n",
        "print(\"Distance between <warsaw> - <poland> + <russia> and <moscow>:\", cosine(model[\"warsaw\"] - model[\"poland\"] + model[\"russia\"], model[\"moscow\"]))"
      ],
      "execution_count": 0,
      "outputs": [
        {
          "output_type": "stream",
          "text": [
            "Distance between <warsaw> and <moscow>: 0.3461671471595764\n",
            "Distance between <poland> and <russia>: 0.3346114158630371\n",
            "Distance between <warsaw> - <poland> + <russia> and <moscow>: 0.13101792335510254\n"
          ],
          "name": "stdout"
        }
      ]
    },
    {
      "cell_type": "code",
      "metadata": {
        "id": "AVe8qEwg86CU",
        "colab_type": "code",
        "outputId": "6d3f59ea-5768-46cb-e048-fd841266d6d7",
        "colab": {
          "base_uri": "https://localhost:8080/",
          "height": 187
        }
      },
      "source": [
        "# we can solve word analogy task with gensim\n",
        "model.most_similar(positive=[\"poland\", \"moscow\"], negative=[\"warsaw\"])"
      ],
      "execution_count": 0,
      "outputs": [
        {
          "output_type": "execute_result",
          "data": {
            "text/plain": [
              "[('russia', 0.8804728984832764),\n",
              " ('ukraine', 0.8040169477462769),\n",
              " ('greece', 0.7516032457351685),\n",
              " ('bulgaria', 0.7362306118011475),\n",
              " ('turkey', 0.7311098575592041),\n",
              " ('belarus', 0.7300174236297607),\n",
              " ('russian', 0.70297771692276),\n",
              " ('kazakhstan', 0.7012521624565125),\n",
              " ('armenia', 0.6977461576461792),\n",
              " ('iran', 0.6883851885795593)]"
            ]
          },
          "metadata": {
            "tags": []
          },
          "execution_count": 63
        }
      ]
    },
    {
      "cell_type": "markdown",
      "metadata": {
        "id": "qlZnL-8mFjEo",
        "colab_type": "text"
      },
      "source": [
        "## Colab quiz 7"
      ]
    },
    {
      "cell_type": "code",
      "metadata": {
        "id": "QaPTaiMXDVQv",
        "colab_type": "code",
        "outputId": "d2827c28-a0c1-4796-9ae4-de65077082d6",
        "colab": {
          "base_uri": "https://localhost:8080/",
          "height": 258,
          "referenced_widgets": [
            "16c9a84592fc4b078c93ea79fa7d2e80",
            "60aad0affa1b4e6898070b68698f35c0",
            "bdc976299a3e4d4185ae05045b66158c",
            "06e223523ecb447ea690e27fee1bfc55",
            "620ef650b6c748f8be4ee41f64419951",
            "4b96f97632b6444caabc4ec17f0d9570",
            "a2f0f83d18d54f5781eb979eddd10ef9",
            "738777ca44d5458abb0deb932b482898",
            "e3b492f377574974b4bb95f7e282f5ce",
            "a6ba1c0f889e4bf0954c68103429bd09",
            "6dd425a9b5d64582b3d9270a8a471895",
            "0721804bb3634d2e92a61d3b81d0b847",
            "2342c00e9d924699b5fd38082bb231da",
            "e65941d347514e71990f113f330ba40a",
            "913856cbe1f040a393e2cb07b2d9e0ba",
            "c82b71db2e4749899800cffe574058bb"
          ]
        }
      },
      "source": [
        "enable_mathjax_in_cell()\n",
        "quiz_earl()()"
      ],
      "execution_count": 0,
      "outputs": [
        {
          "output_type": "display_data",
          "data": {
            "text/html": [
              "\n",
              "        <script src=\"https://www.gstatic.com/external_hosted/mathjax/latest/MathJax.js?config=TeX-AMS_HTML-full,Safe&delayStartupUntil=configured\"></script>\n",
              "        <script>\n",
              "            (() => {\n",
              "            const mathjax = window.MathJax;\n",
              "            mathjax.Hub.Config({\n",
              "            'tex2jax': {\n",
              "                'inlineMath': [['$', '$'], ['\\(', '\\)']],\n",
              "                'displayMath': [['$$', '$$'], ['\\[', '\\]']],\n",
              "                'processEscapes': true,\n",
              "                'processEnvironments': true,\n",
              "                'skipTags': ['script', 'noscript', 'style', 'textarea', 'code'],\n",
              "                'displayAlign': 'center',\n",
              "            },\n",
              "            'HTML-CSS': {\n",
              "                'styles': {'.MathJax_Display': {'margin': 0}},\n",
              "                'linebreaks': {'automatic': true},\n",
              "                // Disable to prevent OTF font loading, which aren't part of our\n",
              "                // distribution.\n",
              "                'imageFont': null,\n",
              "            },\n",
              "            'messageStyle': 'none'\n",
              "            });\n",
              "            mathjax.Hub.Configured();\n",
              "        })();\n",
              "        </script>\n",
              "        "
            ],
            "text/plain": [
              "<IPython.core.display.HTML object>"
            ]
          },
          "metadata": {
            "tags": []
          }
        },
        {
          "output_type": "display_data",
          "data": {
            "application/vnd.jupyter.widget-view+json": {
              "model_id": "16c9a84592fc4b078c93ea79fa7d2e80",
              "version_minor": 0,
              "version_major": 2
            },
            "text/plain": [
              "VBox(children=(Output(), RadioButtons(options=('X = duchess', 'X = marquess', 'X = countess', 'X = baronet'), …"
            ]
          },
          "metadata": {
            "tags": []
          }
        }
      ]
    },
    {
      "cell_type": "markdown",
      "metadata": {
        "id": "p0ACJFY28MuM",
        "colab_type": "text"
      },
      "source": [
        "# Recommended resources\n",
        "- YDSA NLP course, lecture 1: https://github.com/yandexdataschool/nlp_course/tree/2019/week01_embeddings\n",
        "- Stanford CS224n, lecture 1\n",
        "  - slides https://web.stanford.edu/class/archive/cs/cs224n/cs224n.1194/slides/cs224n-2019-lecture01-wordvecs1.pdf\n",
        "  - notes https://web.stanford.edu/class/archive/cs/cs224n/cs224n.1194/readings/cs224n-2019-notes01-wordvecs1.pdf\n",
        "  - video https://www.youtube.com/watch?v=8rXD5-xhemo&feature=youtu.be\n",
        "- [Original word2vec code](https://code.google.com/archive/p/word2vec/)"
      ]
    }
  ]
}